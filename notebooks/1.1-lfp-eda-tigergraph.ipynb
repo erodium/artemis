{
 "cells": [
  {
   "cell_type": "code",
   "execution_count": 1,
   "id": "47ab0eed",
   "metadata": {},
   "outputs": [],
   "source": [
    "import pandas as pd\n",
    "import json\n",
    "import re\n",
    "import csv"
   ]
  },
  {
   "cell_type": "code",
   "execution_count": 2,
   "id": "7d79ebe2",
   "metadata": {},
   "outputs": [
    {
     "name": "stdout",
     "output_type": "stream",
     "text": [
      "==> ../data/raw/benign_whois_data.txt <==\r\n",
      "{\"google.com\": {\"address\": null, \"city\": null, \"country\": \"US\", \"creation_date\": [ \"1997-09-15 04:00:00\", \"1997-09-15 07:00:00\"    ], \"dnssec\": \"unsigned\", \"domain_name\": [ \"GOOGLE.COM\", \"google.com\"    ], \"emails\": [ \"abusecomplaints@markmonitor.com\", \"whoisrequest@markmonitor.com\"    ], \"expiration_date\": [ \"2028-09-14 04:00:00\", \"2028-09-13 07:00:00\"    ], \"name\": null, \"name_servers\": [ \"NS1.GOOGLE.COM\", \"NS2.GOOGLE.COM\", \"NS3.GOOGLE.COM\", \"NS4.GOOGLE.COM\", \"ns1.google.com\", \"ns3.google.com\", \"ns4.google.com\", \"ns2.google.com\"    ], \"org\": \"Google LLC\", \"referral_url\": null, \"registrar\": \"MarkMonitor, Inc.\", \"state\": \"CA\", \"status\": [ \"clientDeleteProhibited https://icann.org/epp#clientDeleteProhibited\", \"clientTransferProhibited https://icann.org/epp#clientTransferProhibited\", \"clientUpdateProhibited https://icann.org/epp#clientUpdateProhibited\", \"serverDeleteProhibited https://icann.org/epp#serverDeleteProhibited\", \"serverTransferProhibited https://icann.org/epp#serverTransferProhibited\", \"serverUpdateProhibited https://icann.org/epp#serverUpdateProhibited\", \"clientUpdateProhibited (https://www.icann.org/epp#clientUpdateProhibited)\", \"clientTransferProhibited (https://www.icann.org/epp#clientTransferProhibited)\", \"clientDeleteProhibited (https://www.icann.org/epp#clientDeleteProhibited)\", \"serverUpdateProhibited (https://www.icann.org/epp#serverUpdateProhibited)\", \"serverTransferProhibited (https://www.icann.org/epp#serverTransferProhibited)\", \"serverDeleteProhibited (https://www.icann.org/epp#serverDeleteProhibited)\"    ], \"updated_date\": \"2019-09-09 15:39:04\", \"whois_server\": \"whois.markmonitor.com\", \"zipcode\": null}}\r\n",
      "{\"facebook.com\": {\"address\": \"1601 Willow Rd\", \"city\": \"Menlo Park\", \"country\": \"US\", \"creation_date\": \"1997-03-29 05:00:00\", \"dnssec\": \"unsigned\", \"domain_name\": \"FACEBOOK.COM\", \"emails\": [ \"abusecomplaints@registrarsafe.com\", \"domain@fb.com\"    ], \"expiration_date\": \"2031-03-30 04:00:00\", \"name\": \"Domain Admin\", \"name_servers\": [ \"A.NS.FACEBOOK.COM\", \"B.NS.FACEBOOK.COM\", \"C.NS.FACEBOOK.COM\", \"D.NS.FACEBOOK.COM\"    ], \"org\": \"Meta Platforms, Inc.\", \"referral_url\": null, \"registrar\": \"RegistrarSafe, LLC\", \"state\": \"CA\", \"status\": [ \"clientDeleteProhibited https://icann.org/epp#clientDeleteProhibited\", \"clientTransferProhibited https://icann.org/epp#clientTransferProhibited\", \"clientUpdateProhibited https://icann.org/epp#clientUpdateProhibited\", \"serverDeleteProhibited https://icann.org/epp#serverDeleteProhibited\", \"serverTransferProhibited https://icann.org/epp#serverTransferProhibited\", \"serverUpdateProhibited https://icann.org/epp#serverUpdateProhibited\", \"serverUpdateProhibited https://www.icann.org/epp#serverUpdateProhibited\", \"clientDeleteProhibited https://www.icann.org/epp#clientDeleteProhibited\", \"clientTransferProhibited https://www.icann.org/epp#clientTransferProhibited\", \"serverDeleteProhibited https://www.icann.org/epp#serverDeleteProhibited\", \"serverTransferProhibited https://www.icann.org/epp#serverTransferProhibited\", \"clientUpdateProhibited https://www.icann.org/epp#clientUpdateProhibited\"    ], \"updated_date\": \"2022-01-26 16:45:06\", \"whois_server\": \"whois.registrarsafe.com\", \"zipcode\": \"94025\"}}\r\n",
      "{\"youtube.com\": {\"address\": null, \"city\": null, \"country\": \"US\", \"creation_date\": \"2005-02-15 05:13:12\", \"dnssec\": \"unsigned\", \"domain_name\": [ \"YOUTUBE.COM\", \"youtube.com\"    ], \"emails\": [ \"abusecomplaints@markmonitor.com\", \"whoisrequest@markmonitor.com\"    ], \"expiration_date\": [ \"2023-02-15 05:13:12\", \"2023-02-15 00:00:00\"    ], \"name\": null, \"name_servers\": [ \"NS1.GOOGLE.COM\", \"NS2.GOOGLE.COM\", \"NS3.GOOGLE.COM\", \"NS4.GOOGLE.COM\", \"ns2.google.com\", \"ns3.google.com\", \"ns4.google.com\", \"ns1.google.com\"    ], \"org\": \"Google LLC\", \"referral_url\": null, \"registrar\": \"MarkMonitor, Inc.\", \"state\": \"CA\", \"status\": [ \"clientDeleteProhibited https://icann.org/epp#clientDeleteProhibited\", \"clientTransferProhibited https://icann.org/epp#clientTransferProhibited\", \"clientUpdateProhibited https://icann.org/epp#clientUpdateProhibited\", \"serverDeleteProhibited https://icann.org/epp#serverDeleteProhibited\", \"serverTransferProhibited https://icann.org/epp#serverTransferProhibited\", \"serverUpdateProhibited https://icann.org/epp#serverUpdateProhibited\", \"clientUpdateProhibited (https://www.icann.org/epp#clientUpdateProhibited)\", \"clientTransferProhibited (https://www.icann.org/epp#clientTransferProhibited)\", \"clientDeleteProhibited (https://www.icann.org/epp#clientDeleteProhibited)\", \"serverUpdateProhibited (https://www.icann.org/epp#serverUpdateProhibited)\", \"serverTransferProhibited (https://www.icann.org/epp#serverTransferProhibited)\", \"serverDeleteProhibited (https://www.icann.org/epp#serverDeleteProhibited)\"    ], \"updated_date\": \"2022-01-14 09:38:42\", \"whois_server\": \"whois.markmonitor.com\", \"zipcode\": null}}\r\n",
      "{\"twitter.com\": {\"address\": \"1355 Market Street\", \"city\": \"San Francisco\", \"country\": \"US\", \"creation_date\": [ \"2000-01-21 16:28:17\", \"2000-01-21 11:28:17\"    ], \"dnssec\": \"unsigned\", \"domain_name\": [ \"TWITTER.COM\", \"twitter.com\"    ], \"emails\": [ \"domainabuse@cscglobal.com\", \"domains@twitter.com\", \"domains-tech@twitter.com\"    ], \"expiration_date\": \"2023-01-21 16:28:17\", \"name\": \"Twitter, Inc.\", \"name_servers\": [ \"A.R06.TWTRDNS.NET\", \"B.R06.TWTRDNS.NET\", \"C.R06.TWTRDNS.NET\", \"D.R06.TWTRDNS.NET\", \"D01-01.NS.TWTRDNS.NET\", \"D01-02.NS.TWTRDNS.NET\", \"NS3.P34.DYNECT.NET\", \"NS4.P34.DYNECT.NET\", \"c.r06.twtrdns.net\", \"d01-01.ns.twtrdns.net\", \"d.r06.twtrdns.net\", \"d01-02.ns.twtrdns.net\", \"b.r06.twtrdns.net\", \"a.r06.twtrdns.net\"    ], \"org\": \"Twitter, Inc.\", \"referral_url\": null, \"registrar\": \"CSC CORPORATE DOMAINS, INC.\", \"state\": \"CA\", \"status\": [ \"clientTransferProhibited https://icann.org/epp#clientTransferProhibited\", \"serverDeleteProhibited https://icann.org/epp#serverDeleteProhibited\", \"serverTransferProhibited https://icann.org/epp#serverTransferProhibited\", \"serverUpdateProhibited https://icann.org/epp#serverUpdateProhibited\", \"clientTransferProhibited http://www.icann.org/epp#clientTransferProhibited\", \"serverDeleteProhibited http://www.icann.org/epp#serverDeleteProhibited\", \"serverTransferProhibited http://www.icann.org/epp#serverTransferProhibited\", \"serverUpdateProhibited http://www.icann.org/epp#serverUpdateProhibited\"    ], \"updated_date\": [ \"2022-01-17 06:08:20\", \"2022-01-17 01:08:20\"    ], \"whois_server\": \"whois.corporatedomains.com\", \"zipcode\": \"94103\"}}\r\n",
      "{\"instagram.com\": {\"address\": \"1601 Willow Rd\", \"city\": \"Menlo Park\", \"country\": \"US\", \"creation_date\": \"2004-06-04 13:37:18\", \"dnssec\": \"unsigned\", \"domain_name\": \"INSTAGRAM.COM\", \"emails\": [ \"abusecomplaints@registrarsafe.com\", \"domain@fb.com\"    ], \"expiration_date\": \"2031-06-04 13:37:18\", \"name\": \"Domain Admin\", \"name_servers\": [ \"A.NS.INSTAGRAM.COM\", \"B.NS.INSTAGRAM.COM\", \"C.NS.INSTAGRAM.COM\", \"D.NS.INSTAGRAM.COM\"    ], \"org\": \"Instagram LLC\", \"referral_url\": null, \"registrar\": \"RegistrarSafe, LLC\", \"state\": \"CA\", \"status\": [ \"clientDeleteProhibited https://icann.org/epp#clientDeleteProhibited\", \"clientTransferProhibited https://icann.org/epp#clientTransferProhibited\", \"clientUpdateProhibited https://icann.org/epp#clientUpdateProhibited\", \"serverDeleteProhibited https://icann.org/epp#serverDeleteProhibited\", \"serverTransferProhibited https://icann.org/epp#serverTransferProhibited\", \"serverUpdateProhibited https://icann.org/epp#serverUpdateProhibited\", \"clientDeleteProhibited https://www.icann.org/epp#clientDeleteProhibited\", \"clientTransferProhibited https://www.icann.org/epp#clientTransferProhibited\", \"serverDeleteProhibited https://www.icann.org/epp#serverDeleteProhibited\", \"serverTransferProhibited https://www.icann.org/epp#serverTransferProhibited\", \"clientUpdateProhibited https://www.icann.org/epp#clientUpdateProhibited\", \"serverUpdateProhibited https://www.icann.org/epp#serverUpdateProhibited\"    ], \"updated_date\": \"2021-11-08 21:56:06\", \"whois_server\": \"whois.registrarsafe.com\", \"zipcode\": \"94025\"}}\r\n",
      "{\"linkedin.com\": {\"address\": \"1000 W. Maude Ave,\", \"city\": \"Sunnyvale\", \"country\": \"US\", \"creation_date\": \"2002-11-02 15:38:11\", \"dnssec\": \"unsigned\", \"domain_name\": [ \"LINKEDIN.COM\", \"linkedin.com\"    ], \"emails\": [ \"abusecomplaints@markmonitor.com\", \"hostmaster@linkedin.com\", \"whoisrequest@markmonitor.com\"    ], \"expiration_date\": [ \"2022-11-02 15:38:11\", \"2022-11-02 07:00:00\"    ], \"name\": \"Host Master\", \"name_servers\": [ \"DNS1.P09.NSONE.NET\", \"DNS2.P09.NSONE.NET\", \"DNS3.P09.NSONE.NET\", \"DNS4.P09.NSONE.NET\", \"NS1.P43.DYNECT.NET\", \"NS2.P43.DYNECT.NET\", \"NS3.P43.DYNECT.NET\", \"NS4.P43.DYNECT.NET\", \"ns2.p43.dynect.net\", \"ns4.p43.dynect.net\", \"dns3.p09.nsone.net\", \"ns3.p43.dynect.net\", \"dns2.p09.nsone.net\", \"dns4.p09.nsone.net\", \"ns1.p43.dynect.net\", \"dns1.p09.nsone.net\"    ], \"org\": \"LinkedIn Corporation\", \"referral_url\": null, \"registrar\": \"MarkMonitor, Inc.\", \"state\": \"CA\", \"status\": [ \"clientDeleteProhibited https://icann.org/epp#clientDeleteProhibited\", \"clientTransferProhibited https://icann.org/epp#clientTransferProhibited\", \"clientUpdateProhibited https://icann.org/epp#clientUpdateProhibited\", \"serverDeleteProhibited https://icann.org/epp#serverDeleteProhibited\", \"serverTransferProhibited https://icann.org/epp#serverTransferProhibited\", \"serverUpdateProhibited https://icann.org/epp#serverUpdateProhibited\", \"clientUpdateProhibited (https://www.icann.org/epp#clientUpdateProhibited)\", \"clientTransferProhibited (https://www.icann.org/epp#clientTransferProhibited)\", \"clientDeleteProhibited (https://www.icann.org/epp#clientDeleteProhibited)\", \"serverUpdateProhibited (https://www.icann.org/epp#serverUpdateProhibited)\", \"serverTransferProhibited (https://www.icann.org/epp#serverTransferProhibited)\", \"serverDeleteProhibited (https://www.icann.org/epp#serverDeleteProhibited)\"    ], \"updated_date\": [ \"2020-09-01 17:16:55\", \"2020-09-01 17:17:28\"    ], \"whois_server\": \"whois.markmonitor.com\", \"zipcode\": \"94085\"}}\r\n",
      "{\"microsoft.com\": {\"address\": \"One Microsoft Way,\", \"city\": \"Redmond\", \"country\": \"US\", \"creation_date\": \"1991-05-02 04:00:00\", \"dnssec\": \"unsigned\", \"domain_name\": [ \"MICROSOFT.COM\", \"microsoft.com\"    ], \"emails\": [ \"abusecomplaints@markmonitor.com\", \"admin@domains.microsoft\", \"msnhst@microsoft.com\", \"whoisrequest@markmonitor.com\"    ], \"expiration_date\": [ \"2022-05-03 04:00:00\", \"2022-05-02 07:00:00\"    ], \"name\": \"Domain Administrator\", \"name_servers\": [ \"NS1-205.AZURE-DNS.COM\", \"NS2-205.AZURE-DNS.NET\", \"NS3-205.AZURE-DNS.ORG\", \"NS4-205.AZURE-DNS.INFO\", \"ns2-205.azure-dns.net\", \"ns3-205.azure-dns.org\", \"ns4-205.azure-dns.info\", \"ns1-205.azure-dns.com\"    ], \"org\": \"Microsoft Corporation\", \"referral_url\": null, \"registrar\": \"MarkMonitor, Inc.\", \"state\": \"WA\", \"status\": [ \"clientDeleteProhibited https://icann.org/epp#clientDeleteProhibited\", \"clientTransferProhibited https://icann.org/epp#clientTransferProhibited\", \"clientUpdateProhibited https://icann.org/epp#clientUpdateProhibited\", \"serverDeleteProhibited https://icann.org/epp#serverDeleteProhibited\", \"serverTransferProhibited https://icann.org/epp#serverTransferProhibited\", \"serverUpdateProhibited https://icann.org/epp#serverUpdateProhibited\", \"clientUpdateProhibited (https://www.icann.org/epp#clientUpdateProhibited)\", \"clientTransferProhibited (https://www.icann.org/epp#clientTransferProhibited)\", \"clientDeleteProhibited (https://www.icann.org/epp#clientDeleteProhibited)\", \"serverUpdateProhibited (https://www.icann.org/epp#serverUpdateProhibited)\", \"serverTransferProhibited (https://www.icann.org/epp#serverTransferProhibited)\", \"serverDeleteProhibited (https://www.icann.org/epp#serverDeleteProhibited)\"    ], \"updated_date\": [ \"2021-03-12 23:25:32\", \"2021-04-07 19:58:15\"    ], \"whois_server\": \"whois.markmonitor.com\", \"zipcode\": \"98052\"}}\r\n",
      "{\"apple.com\": {\"address\": \"One Apple Park Way\", \"city\": \"Cupertino\", \"country\": \"US\", \"creation_date\": [ \"1987-02-19 05:00:00\", \"1987-02-19 00:00:00\"    ], \"dnssec\": \"unsigned\", \"domain_name\": [ \"APPLE.COM\", \"apple.com\"    ], \"emails\": [ \"domainabuse@cscglobal.com\", \"domains@apple.com\", \"apple-noc@apple.com\"    ], \"expiration_date\": \"2023-02-20 05:00:00\", \"name\": \"Domain Administrator\", \"name_servers\": [ \"A.NS.APPLE.COM\", \"B.NS.APPLE.COM\", \"C.NS.APPLE.COM\", \"D.NS.APPLE.COM\", \"c.ns.apple.com\", \"d.ns.apple.com\", \"b.ns.apple.com\", \"a.ns.apple.com\"    ], \"org\": \"Apple Inc.\", \"referral_url\": null, \"registrar\": \"CSC CORPORATE DOMAINS, INC.\", \"state\": \"CA\", \"status\": [ \"clientTransferProhibited https://icann.org/epp#clientTransferProhibited\", \"serverDeleteProhibited https://icann.org/epp#serverDeleteProhibited\", \"serverTransferProhibited https://icann.org/epp#serverTransferProhibited\", \"serverUpdateProhibited https://icann.org/epp#serverUpdateProhibited\", \"clientTransferProhibited http://www.icann.org/epp#clientTransferProhibited\", \"serverDeleteProhibited http://www.icann.org/epp#serverDeleteProhibited\", \"serverTransferProhibited http://www.icann.org/epp#serverTransferProhibited\", \"serverUpdateProhibited http://www.icann.org/epp#serverUpdateProhibited\"    ], \"updated_date\": [ \"2022-02-16 06:15:06\", \"2022-02-16 01:15:06\"    ], \"whois_server\": \"whois.corporatedomains.com\", \"zipcode\": \"95014\"}}\r\n",
      "{\"wikipedia.org\": {\"address\": null, \"city\": null, \"country\": \"US\", \"creation_date\": \"2001-01-13 00:12:14\", \"dnssec\": \"unsigned\", \"domain_name\": [ \"WIKIPEDIA.ORG\", \"wikipedia.org\"    ], \"emails\": [ \"abusecomplaints@markmonitor.com\", \"whoisrequest@markmonitor.com\"    ], \"expiration_date\": [ \"2023-01-13 00:12:14\", \"2023-01-12 08:00:00\"    ], \"name\": null, \"name_servers\": [ \"NS0.WIKIMEDIA.ORG\", \"NS1.WIKIMEDIA.ORG\", \"NS2.WIKIMEDIA.ORG\", \"ns2.wikimedia.org\", \"ns0.wikimedia.org\", \"ns1.wikimedia.org\"    ], \"org\": \"Wikimedia Foundation, Inc.\", \"referral_url\": null, \"registrar\": \"MarkMonitor, Inc.\", \"state\": \"CA\", \"status\": [ \"clientDeleteProhibited https://icann.org/epp#clientDeleteProhibited\", \"clientTransferProhibited https://icann.org/epp#clientTransferProhibited\", \"clientUpdateProhibited https://icann.org/epp#clientUpdateProhibited\", \"clientUpdateProhibited (https://www.icann.org/epp#clientUpdateProhibited)\", \"clientTransferProhibited (https://www.icann.org/epp#clientTransferProhibited)\", \"clientDeleteProhibited (https://www.icann.org/epp#clientDeleteProhibited)\"    ], \"updated_date\": [ \"2020-10-15 22:29:57\", \"2020-10-15 22:32:44\"    ], \"whois_server\": \"whois.markmonitor.com\", \"zipcode\": null}}\r\n",
      "{\"wordpress.org\": {\"address\": null, \"city\": null, \"country\": \"US\", \"creation_date\": \"2003-03-28 01:07:35\", \"dnssec\": \"unsigned\", \"domain_name\": [ \"WORDPRESS.ORG\", \"wordpress.org\"    ], \"emails\": [ \"abusecomplaints@markmonitor.com\", \"whoisrequest@markmonitor.com\"    ], \"expiration_date\": [ \"2024-03-28 01:07:35\", \"2024-03-28 00:00:00\"    ], \"name\": null, \"name_servers\": [ \"NS1.WORDPRESS.ORG\", \"NS2.WORDPRESS.ORG\", \"NS3.WORDPRESS.ORG\", \"NS4.WORDPRESS.ORG\", \"ns3.wordpress.org\", \"ns4.wordpress.org\", \"ns1.wordpress.org\", \"ns2.wordpress.org\"    ], \"org\": \"DNStination, Inc.\", \"referral_url\": null, \"registrar\": \"MarkMonitor, Inc.\", \"state\": \"CA\", \"status\": [ \"clientDeleteProhibited https://icann.org/epp#clientDeleteProhibited\", \"clientTransferProhibited https://icann.org/epp#clientTransferProhibited\", \"clientUpdateProhibited https://icann.org/epp#clientUpdateProhibited\", \"clientUpdateProhibited (https://www.icann.org/epp#clientUpdateProhibited)\", \"clientTransferProhibited (https://www.icann.org/epp#clientTransferProhibited)\", \"clientDeleteProhibited (https://www.icann.org/epp#clientDeleteProhibited)\"    ], \"updated_date\": \"2022-02-24 09:29:27\", \"whois_server\": \"whois.markmonitor.com\", \"zipcode\": null}}\r\n",
      "head: 1: No such file or directory\r\n"
     ]
    }
   ],
   "source": [
    "# benign_whois_data.txt\n",
    "\n",
    "!head \"../data/raw/benign_whois_data.txt\" 1\n"
   ]
  },
  {
   "cell_type": "code",
   "execution_count": 3,
   "id": "7294a781",
   "metadata": {},
   "outputs": [
    {
     "name": "stdout",
     "output_type": "stream",
     "text": [
      "Number of line errors: 0\n",
      "Number of lines: 3731\n"
     ]
    }
   ],
   "source": [
    "import pandas as pd\n",
    "import json\n",
    "\n",
    "b = '../data/raw/benign_whois_data.txt'\n",
    "\n",
    "records = []\n",
    "error_lines = []\n",
    "\n",
    "# load the lines into a list, there are some error lines that needs to be dealt with\n",
    "with open(b) as f: # open file\n",
    "    for line in f.read().splitlines(): # for each line\n",
    "        try:\n",
    "            obj = json.loads(re.sub('.*}{', '{', line)) # load the line, which looks like: {\"domain.name\": {...values...}}\n",
    "            records.append(obj)\n",
    "        except:\n",
    "            error_lines.append(line)\n",
    "        \n",
    "print(f\"Number of line errors: {len(error_lines)}\")  \n",
    "print(f\"Number of lines: {len(records)}\")     \n"
   ]
  },
  {
   "cell_type": "code",
   "execution_count": 4,
   "id": "9ac8a52f",
   "metadata": {},
   "outputs": [],
   "source": [
    "record_dict = {}\n",
    "for item in records:\n",
    "    name = [x for x in item.keys()][0]\n",
    "    record_dict[name] = item[name]"
   ]
  },
  {
   "cell_type": "code",
   "execution_count": 5,
   "id": "b7bb4d27",
   "metadata": {},
   "outputs": [],
   "source": [
    "error_list = []\n",
    "for x in record_dict:\n",
    "    if type(record_dict[x]) != dict:\n",
    "        error_list.append(x)\n",
    "        \n",
    "for x in error_list:\n",
    "    del record_dict[x]"
   ]
  },
  {
   "cell_type": "code",
   "execution_count": 6,
   "id": "b49112cb",
   "metadata": {},
   "outputs": [],
   "source": [
    "benign_df = pd.DataFrame.from_dict(record_dict, orient='index')\n",
    "benign_df.reset_index(inplace=True)"
   ]
  },
  {
   "cell_type": "code",
   "execution_count": 7,
   "id": "81edc109",
   "metadata": {},
   "outputs": [
    {
     "data": {
      "text/html": [
       "<div>\n",
       "<style scoped>\n",
       "    .dataframe tbody tr th:only-of-type {\n",
       "        vertical-align: middle;\n",
       "    }\n",
       "\n",
       "    .dataframe tbody tr th {\n",
       "        vertical-align: top;\n",
       "    }\n",
       "\n",
       "    .dataframe thead th {\n",
       "        text-align: right;\n",
       "    }\n",
       "</style>\n",
       "<table border=\"1\" class=\"dataframe\">\n",
       "  <thead>\n",
       "    <tr style=\"text-align: right;\">\n",
       "      <th></th>\n",
       "      <th>index</th>\n",
       "      <th>address</th>\n",
       "      <th>city</th>\n",
       "      <th>country</th>\n",
       "      <th>creation_date</th>\n",
       "      <th>dnssec</th>\n",
       "      <th>domain_name</th>\n",
       "      <th>emails</th>\n",
       "      <th>expiration_date</th>\n",
       "      <th>name</th>\n",
       "      <th>...</th>\n",
       "      <th>billing_organization</th>\n",
       "      <th>billing_phone</th>\n",
       "      <th>admin_country_code</th>\n",
       "      <th>registrar_country_code</th>\n",
       "      <th>registrar_organization_id</th>\n",
       "      <th>registrar_street</th>\n",
       "      <th>registrant_handle</th>\n",
       "      <th>registrant_zip_code</th>\n",
       "      <th>billing_street</th>\n",
       "      <th>registrant_country_code</th>\n",
       "    </tr>\n",
       "  </thead>\n",
       "  <tbody>\n",
       "    <tr>\n",
       "      <th>0</th>\n",
       "      <td>google.com</td>\n",
       "      <td>None</td>\n",
       "      <td>None</td>\n",
       "      <td>US</td>\n",
       "      <td>[1997-09-15 04:00:00, 1997-09-15 07:00:00]</td>\n",
       "      <td>unsigned</td>\n",
       "      <td>[GOOGLE.COM, google.com]</td>\n",
       "      <td>[abusecomplaints@markmonitor.com, whoisrequest...</td>\n",
       "      <td>[2028-09-14 04:00:00, 2028-09-13 07:00:00]</td>\n",
       "      <td>None</td>\n",
       "      <td>...</td>\n",
       "      <td>NaN</td>\n",
       "      <td>NaN</td>\n",
       "      <td>NaN</td>\n",
       "      <td>NaN</td>\n",
       "      <td>NaN</td>\n",
       "      <td>NaN</td>\n",
       "      <td>NaN</td>\n",
       "      <td>NaN</td>\n",
       "      <td>NaN</td>\n",
       "      <td>NaN</td>\n",
       "    </tr>\n",
       "    <tr>\n",
       "      <th>1</th>\n",
       "      <td>facebook.com</td>\n",
       "      <td>1601 Willow Rd</td>\n",
       "      <td>Menlo Park</td>\n",
       "      <td>US</td>\n",
       "      <td>1997-03-29 05:00:00</td>\n",
       "      <td>unsigned</td>\n",
       "      <td>FACEBOOK.COM</td>\n",
       "      <td>[abusecomplaints@registrarsafe.com, domain@fb....</td>\n",
       "      <td>2031-03-30 04:00:00</td>\n",
       "      <td>Domain Admin</td>\n",
       "      <td>...</td>\n",
       "      <td>NaN</td>\n",
       "      <td>NaN</td>\n",
       "      <td>NaN</td>\n",
       "      <td>NaN</td>\n",
       "      <td>NaN</td>\n",
       "      <td>NaN</td>\n",
       "      <td>NaN</td>\n",
       "      <td>NaN</td>\n",
       "      <td>NaN</td>\n",
       "      <td>NaN</td>\n",
       "    </tr>\n",
       "    <tr>\n",
       "      <th>2</th>\n",
       "      <td>youtube.com</td>\n",
       "      <td>None</td>\n",
       "      <td>None</td>\n",
       "      <td>US</td>\n",
       "      <td>2005-02-15 05:13:12</td>\n",
       "      <td>unsigned</td>\n",
       "      <td>[YOUTUBE.COM, youtube.com]</td>\n",
       "      <td>[abusecomplaints@markmonitor.com, whoisrequest...</td>\n",
       "      <td>[2023-02-15 05:13:12, 2023-02-15 00:00:00]</td>\n",
       "      <td>None</td>\n",
       "      <td>...</td>\n",
       "      <td>NaN</td>\n",
       "      <td>NaN</td>\n",
       "      <td>NaN</td>\n",
       "      <td>NaN</td>\n",
       "      <td>NaN</td>\n",
       "      <td>NaN</td>\n",
       "      <td>NaN</td>\n",
       "      <td>NaN</td>\n",
       "      <td>NaN</td>\n",
       "      <td>NaN</td>\n",
       "    </tr>\n",
       "  </tbody>\n",
       "</table>\n",
       "<p>3 rows × 154 columns</p>\n",
       "</div>"
      ],
      "text/plain": [
       "          index         address        city country  \\\n",
       "0    google.com            None        None      US   \n",
       "1  facebook.com  1601 Willow Rd  Menlo Park      US   \n",
       "2   youtube.com            None        None      US   \n",
       "\n",
       "                                creation_date    dnssec  \\\n",
       "0  [1997-09-15 04:00:00, 1997-09-15 07:00:00]  unsigned   \n",
       "1                         1997-03-29 05:00:00  unsigned   \n",
       "2                         2005-02-15 05:13:12  unsigned   \n",
       "\n",
       "                  domain_name  \\\n",
       "0    [GOOGLE.COM, google.com]   \n",
       "1                FACEBOOK.COM   \n",
       "2  [YOUTUBE.COM, youtube.com]   \n",
       "\n",
       "                                              emails  \\\n",
       "0  [abusecomplaints@markmonitor.com, whoisrequest...   \n",
       "1  [abusecomplaints@registrarsafe.com, domain@fb....   \n",
       "2  [abusecomplaints@markmonitor.com, whoisrequest...   \n",
       "\n",
       "                              expiration_date          name  ...  \\\n",
       "0  [2028-09-14 04:00:00, 2028-09-13 07:00:00]          None  ...   \n",
       "1                         2031-03-30 04:00:00  Domain Admin  ...   \n",
       "2  [2023-02-15 05:13:12, 2023-02-15 00:00:00]          None  ...   \n",
       "\n",
       "  billing_organization billing_phone admin_country_code  \\\n",
       "0                  NaN           NaN                NaN   \n",
       "1                  NaN           NaN                NaN   \n",
       "2                  NaN           NaN                NaN   \n",
       "\n",
       "  registrar_country_code registrar_organization_id registrar_street  \\\n",
       "0                    NaN                       NaN              NaN   \n",
       "1                    NaN                       NaN              NaN   \n",
       "2                    NaN                       NaN              NaN   \n",
       "\n",
       "  registrant_handle registrant_zip_code billing_street registrant_country_code  \n",
       "0               NaN                 NaN            NaN                     NaN  \n",
       "1               NaN                 NaN            NaN                     NaN  \n",
       "2               NaN                 NaN            NaN                     NaN  \n",
       "\n",
       "[3 rows x 154 columns]"
      ]
     },
     "execution_count": 7,
     "metadata": {},
     "output_type": "execute_result"
    }
   ],
   "source": [
    "benign_df.head(3)"
   ]
  },
  {
   "cell_type": "code",
   "execution_count": 8,
   "id": "6862e2a0",
   "metadata": {},
   "outputs": [
    {
     "name": "stdout",
     "output_type": "stream",
     "text": [
      "['index', 'address', 'city', 'country', 'creation_date', 'dnssec', 'domain_name', 'emails', 'expiration_date', 'name', 'name_servers', 'org', 'referral_url', 'registrar', 'state', 'status', 'updated_date', 'whois_server', 'zipcode', 'email', 'fax', 'phone', 'tech_email', 'tech_fax', 'tech_name', 'tech_org', 'tech_phone', 'domain__id', 'registrant_country', 'registrant_name', 'registrant_state_province', 'registrar_id', 'registrar_url', 'admin', 'admin_application_purpose', 'admin_city', 'admin_country', 'admin_email', 'admin_fax', 'admin_id', 'admin_nexus_category', 'admin_organization', 'admin_phone', 'admin_postal_code', 'admin_state_province', 'admin_street', 'registrant_application_purpose', 'registrant_city', 'registrant_email', 'registrant_fax', 'registrant_id', 'registrant_nexus_category', 'registrant_organization', 'registrant_phone', 'registrant_postal_code', 'registrant_street', 'registrar_email', 'registrar_phone', 'tech_application_purpose', 'tech_city', 'tech_country', 'tech_id', 'tech_nexus_category', 'tech_organization', 'tech_postal_code', 'tech_state_province', 'tech_street', 'registrant_type', 'admin_address', 'admin_address2', 'admin_address3', 'admin_fax_ext', 'admin_name', 'admin_org', 'admin_phone_ext', 'domain_id', 'registrant_address', 'registrant_address2', 'registrant_address3', 'registrant_fax_ext', 'registrant_org', 'registrant_phone_ext', 'tech_address', 'tech_address2', 'tech_address3', 'tech_fax_ext', 'tech_phone_ext', 'domain_status', 'registrant_number', 'country_code', 'registrant_contact_name', 'registrant_zip', 'admin_state', 'registrant_state', 'registrar_address', 'registrar_city', 'registrar_country', 'registrar_name', 'registrar_postal_code', 'billing_city', 'billing_country', 'billing_name', 'billing_state', 'tech_state', 'url', 'tech-c', 'organization', 'registrar_iana', 'admin_c', 'billing_c', 'name_server', 'nic_hdl_br', 'nslastaa', 'nsstat', 'owner_c', 'person', 'saci', 'tech_c', 'registrar_zip_code', 'transfer_date', 'admin_account_name', 'admin_company_name', 'admin_family_name', 'registrant_company_name', 'tech_account_name', 'tech_company_name', 'tech_family_name', 'admin_phone_number', 'billing_address', 'billing_email', 'billing_id', 'billing_phone_number', 'billing_postal_code', 'billing_state_province', 'registrant_phone_number', 'tech_phone_number', 'description', 'registrar_contact', 'source', 'tech', 'name_server_statuses', 'registrar_site', 'billing', 'billing_fax', 'billing_organization', 'billing_phone', 'admin_country_code', 'registrar_country_code', 'registrar_organization_id', 'registrar_street', 'registrant_handle', 'registrant_zip_code', 'billing_street', 'registrant_country_code']\n"
     ]
    }
   ],
   "source": [
    "pd.options.display.max_rows = 4000\n",
    "print(str(list(benign_df.columns)))"
   ]
  },
  {
   "cell_type": "markdown",
   "id": "f6b77d3e",
   "metadata": {},
   "source": [
    "#############"
   ]
  },
  {
   "cell_type": "code",
   "execution_count": 9,
   "id": "98687899",
   "metadata": {},
   "outputs": [
    {
     "name": "stdout",
     "output_type": "stream",
     "text": [
      "Number of line errors: 0\n",
      "Number of lines: 2415\n"
     ]
    }
   ],
   "source": [
    "import pandas as pd\n",
    "import json\n",
    "\n",
    "b = '../data/raw/malicious_whois_data.txt'\n",
    "\n",
    "records = []\n",
    "error_lines = []\n",
    "\n",
    "# load the lines into a list, there are some error lines that needs to be dealt with\n",
    "with open(b) as f: # open file\n",
    "    for line in f.read().splitlines(): # for each line\n",
    "        try:\n",
    "            obj = json.loads(re.sub('.*}{', '{', line)) # load the line, which looks like: {\"domain.name\": {...values...}}\n",
    "            records.append(obj)\n",
    "        except:\n",
    "            error_lines.append(line)\n",
    "        \n",
    "print(f\"Number of line errors: {len(error_lines)}\")  \n",
    "print(f\"Number of lines: {len(records)}\")     \n"
   ]
  },
  {
   "cell_type": "code",
   "execution_count": 10,
   "id": "d48f132a",
   "metadata": {},
   "outputs": [],
   "source": [
    "error_list = []\n",
    "for x in record_dict:\n",
    "    if type(record_dict[x]) != dict:\n",
    "        error_list.append(x)\n",
    "        \n",
    "for x in error_list:\n",
    "    del record_dict[x]"
   ]
  },
  {
   "cell_type": "code",
   "execution_count": 11,
   "id": "c07140af",
   "metadata": {},
   "outputs": [],
   "source": [
    "mal_df = pd.DataFrame.from_dict(record_dict, orient='index')\n",
    "mal_df.reset_index(inplace=True)"
   ]
  },
  {
   "cell_type": "code",
   "execution_count": 12,
   "id": "d7ce601c",
   "metadata": {},
   "outputs": [
    {
     "data": {
      "text/html": [
       "<div>\n",
       "<style scoped>\n",
       "    .dataframe tbody tr th:only-of-type {\n",
       "        vertical-align: middle;\n",
       "    }\n",
       "\n",
       "    .dataframe tbody tr th {\n",
       "        vertical-align: top;\n",
       "    }\n",
       "\n",
       "    .dataframe thead th {\n",
       "        text-align: right;\n",
       "    }\n",
       "</style>\n",
       "<table border=\"1\" class=\"dataframe\">\n",
       "  <thead>\n",
       "    <tr style=\"text-align: right;\">\n",
       "      <th></th>\n",
       "      <th>index</th>\n",
       "      <th>address</th>\n",
       "      <th>city</th>\n",
       "      <th>country</th>\n",
       "      <th>creation_date</th>\n",
       "      <th>dnssec</th>\n",
       "      <th>domain_name</th>\n",
       "      <th>emails</th>\n",
       "      <th>expiration_date</th>\n",
       "      <th>name</th>\n",
       "      <th>...</th>\n",
       "      <th>billing_organization</th>\n",
       "      <th>billing_phone</th>\n",
       "      <th>admin_country_code</th>\n",
       "      <th>registrar_country_code</th>\n",
       "      <th>registrar_organization_id</th>\n",
       "      <th>registrar_street</th>\n",
       "      <th>registrant_handle</th>\n",
       "      <th>registrant_zip_code</th>\n",
       "      <th>billing_street</th>\n",
       "      <th>registrant_country_code</th>\n",
       "    </tr>\n",
       "  </thead>\n",
       "  <tbody>\n",
       "    <tr>\n",
       "      <th>1192</th>\n",
       "      <td>lnk.to</td>\n",
       "      <td>None</td>\n",
       "      <td>None</td>\n",
       "      <td>None</td>\n",
       "      <td>None</td>\n",
       "      <td>None</td>\n",
       "      <td>None</td>\n",
       "      <td>None</td>\n",
       "      <td>None</td>\n",
       "      <td>None</td>\n",
       "      <td>...</td>\n",
       "      <td>NaN</td>\n",
       "      <td>NaN</td>\n",
       "      <td>NaN</td>\n",
       "      <td>NaN</td>\n",
       "      <td>NaN</td>\n",
       "      <td>NaN</td>\n",
       "      <td>NaN</td>\n",
       "      <td>NaN</td>\n",
       "      <td>NaN</td>\n",
       "      <td>NaN</td>\n",
       "    </tr>\n",
       "    <tr>\n",
       "      <th>1201</th>\n",
       "      <td>royalsocietypublishing.org</td>\n",
       "      <td>REDACTED FOR PRIVACY</td>\n",
       "      <td>REDACTED FOR PRIVACY</td>\n",
       "      <td>US</td>\n",
       "      <td>[2008-05-21 17:18:19, 2008-05-21 17:18:00]</td>\n",
       "      <td>unsigned</td>\n",
       "      <td>[ROYALSOCIETYPUBLISHING.ORG, royalsocietypubli...</td>\n",
       "      <td>[abuse@enom.com, ABUSE@ENOM.COM]</td>\n",
       "      <td>[2022-05-21 17:18:19, 2022-05-21 17:18:00]</td>\n",
       "      <td>REDACTED FOR PRIVACY</td>\n",
       "      <td>...</td>\n",
       "      <td>NaN</td>\n",
       "      <td>NaN</td>\n",
       "      <td>NaN</td>\n",
       "      <td>NaN</td>\n",
       "      <td>NaN</td>\n",
       "      <td>NaN</td>\n",
       "      <td>NaN</td>\n",
       "      <td>NaN</td>\n",
       "      <td>NaN</td>\n",
       "      <td>NaN</td>\n",
       "    </tr>\n",
       "    <tr>\n",
       "      <th>2869</th>\n",
       "      <td>or.ke</td>\n",
       "      <td>None</td>\n",
       "      <td>None</td>\n",
       "      <td>None</td>\n",
       "      <td>None</td>\n",
       "      <td>None</td>\n",
       "      <td>None</td>\n",
       "      <td>None</td>\n",
       "      <td>None</td>\n",
       "      <td>None</td>\n",
       "      <td>...</td>\n",
       "      <td>NaN</td>\n",
       "      <td>NaN</td>\n",
       "      <td>NaN</td>\n",
       "      <td>NaN</td>\n",
       "      <td>NaN</td>\n",
       "      <td>NaN</td>\n",
       "      <td>NaN</td>\n",
       "      <td>NaN</td>\n",
       "      <td>NaN</td>\n",
       "      <td>NaN</td>\n",
       "    </tr>\n",
       "  </tbody>\n",
       "</table>\n",
       "<p>3 rows × 154 columns</p>\n",
       "</div>"
      ],
      "text/plain": [
       "                           index               address                  city  \\\n",
       "1192                      lnk.to                  None                  None   \n",
       "1201  royalsocietypublishing.org  REDACTED FOR PRIVACY  REDACTED FOR PRIVACY   \n",
       "2869                       or.ke                  None                  None   \n",
       "\n",
       "     country                               creation_date    dnssec  \\\n",
       "1192    None                                        None      None   \n",
       "1201      US  [2008-05-21 17:18:19, 2008-05-21 17:18:00]  unsigned   \n",
       "2869    None                                        None      None   \n",
       "\n",
       "                                            domain_name  \\\n",
       "1192                                               None   \n",
       "1201  [ROYALSOCIETYPUBLISHING.ORG, royalsocietypubli...   \n",
       "2869                                               None   \n",
       "\n",
       "                                emails  \\\n",
       "1192                              None   \n",
       "1201  [abuse@enom.com, ABUSE@ENOM.COM]   \n",
       "2869                              None   \n",
       "\n",
       "                                 expiration_date                  name  ...  \\\n",
       "1192                                        None                  None  ...   \n",
       "1201  [2022-05-21 17:18:19, 2022-05-21 17:18:00]  REDACTED FOR PRIVACY  ...   \n",
       "2869                                        None                  None  ...   \n",
       "\n",
       "     billing_organization billing_phone admin_country_code  \\\n",
       "1192                  NaN           NaN                NaN   \n",
       "1201                  NaN           NaN                NaN   \n",
       "2869                  NaN           NaN                NaN   \n",
       "\n",
       "     registrar_country_code registrar_organization_id registrar_street  \\\n",
       "1192                    NaN                       NaN              NaN   \n",
       "1201                    NaN                       NaN              NaN   \n",
       "2869                    NaN                       NaN              NaN   \n",
       "\n",
       "     registrant_handle registrant_zip_code billing_street  \\\n",
       "1192               NaN                 NaN            NaN   \n",
       "1201               NaN                 NaN            NaN   \n",
       "2869               NaN                 NaN            NaN   \n",
       "\n",
       "     registrant_country_code  \n",
       "1192                     NaN  \n",
       "1201                     NaN  \n",
       "2869                     NaN  \n",
       "\n",
       "[3 rows x 154 columns]"
      ]
     },
     "execution_count": 12,
     "metadata": {},
     "output_type": "execute_result"
    }
   ],
   "source": [
    "mal_df.sample(3)"
   ]
  },
  {
   "cell_type": "markdown",
   "id": "b549654b",
   "metadata": {},
   "source": [
    "#########"
   ]
  },
  {
   "cell_type": "code",
   "execution_count": 13,
   "id": "b20de3b6",
   "metadata": {},
   "outputs": [
    {
     "data": {
      "text/plain": [
       "array([1, 1, 1, 1, 1, 1, 1, 1, 1, 1, 1, 1, 1, 1, 1, 1, 1, 1, 1, 1, 1, 1,\n",
       "       1, 1, 1, 1, 1, 1, 1, 1, 1, 1, 1, 1, 1, 1, 1, 1, 1, 1, 1, 1, 1, 1,\n",
       "       1, 1, 1, 1, 1, 1, 1, 1, 1, 1, 1, 1, 1, 1, 1, 1, 1, 1, 1, 1, 1, 1,\n",
       "       1, 1, 1, 1, 1, 1, 1, 1, 1, 1, 1, 1, 1, 1, 1, 1, 1, 1, 1, 1, 1, 1,\n",
       "       1, 1, 1, 1, 1, 1, 1, 1, 1, 1, 1, 1, 1, 1, 1, 1, 1, 1, 1, 1, 1, 1,\n",
       "       1, 1, 1, 1, 1, 1, 1, 1, 1, 1, 1, 1, 1, 1, 1, 1, 1, 1, 1, 1, 1, 1,\n",
       "       1, 1, 1, 1, 1, 1, 1, 1, 1, 1, 1, 1, 1, 1, 1, 1, 1, 1, 1, 1, 1, 1])"
      ]
     },
     "execution_count": 13,
     "metadata": {},
     "output_type": "execute_result"
    }
   ],
   "source": [
    "(mal_df.columns == benign_df.columns)*1"
   ]
  },
  {
   "cell_type": "code",
   "execution_count": 14,
   "id": "f17d2e43",
   "metadata": {},
   "outputs": [],
   "source": [
    "mal_df['malicious'] = 'True'\n",
    "benign_df['malicious'] = 'False'"
   ]
  },
  {
   "cell_type": "code",
   "execution_count": 15,
   "id": "7fff72be",
   "metadata": {},
   "outputs": [],
   "source": [
    "combined_df = pd.concat([mal_df,benign_df], axis=0)"
   ]
  },
  {
   "cell_type": "code",
   "execution_count": 16,
   "id": "00a8dc37",
   "metadata": {},
   "outputs": [
    {
     "data": {
      "text/plain": [
       "7362"
      ]
     },
     "execution_count": 16,
     "metadata": {},
     "output_type": "execute_result"
    }
   ],
   "source": [
    "len(combined_df['index'])"
   ]
  },
  {
   "cell_type": "code",
   "execution_count": 17,
   "id": "3c2ef21a",
   "metadata": {},
   "outputs": [
    {
     "name": "stdout",
     "output_type": "stream",
     "text": [
      "Number of line errors: 0\n",
      "Number of lines: 2415\n"
     ]
    }
   ],
   "source": [
    "import pandas as pd\n",
    "import json\n",
    "\n",
    "b = '../data/raw/malicious_whois_data.txt'\n",
    "\n",
    "records = []\n",
    "error_lines = []\n",
    "\n",
    "# load the lines into a list, there are some error lines that needs to be dealt with\n",
    "with open(b) as f: # open file\n",
    "    for line in f.read().splitlines(): # for each line\n",
    "        try:\n",
    "            obj = json.loads(re.sub('.*}{', '{', line)) # load the line, which looks like: {\"domain.name\": {...values...}}\n",
    "            records.append(obj)\n",
    "        except:\n",
    "            error_lines.append(line)\n",
    "        \n",
    "print(f\"Number of line errors: {len(error_lines)}\")  \n",
    "print(f\"Number of lines: {len(records)}\")     \n"
   ]
  },
  {
   "cell_type": "code",
   "execution_count": 18,
   "id": "4ba8cf2c",
   "metadata": {},
   "outputs": [],
   "source": [
    "DomainRecord_cols = ['index', 'dnssec', 'name']\n",
    "\n",
    "combined_df.loc[:,DomainRecord_cols].to_csv(\"../data/external/combined_whois_data.csv\")"
   ]
  },
  {
   "cell_type": "code",
   "execution_count": 19,
   "id": "6e93d48b",
   "metadata": {},
   "outputs": [],
   "source": [
    "list_of_explode_columns = ['country', 'emails','organization','whois_server', 'domain_status', 'registrar', \n",
    "                           'name_servers']"
   ]
  },
  {
   "cell_type": "code",
   "execution_count": 20,
   "id": "2f763cd5",
   "metadata": {},
   "outputs": [],
   "source": [
    "for _col in list_of_explode_columns:\n",
    "    combined_df.loc[:,['index',_col]].explode(_col).to_csv(\n",
    "    f\"../data/external/combined_whois_data_{_col}.csv\")"
   ]
  },
  {
   "cell_type": "code",
   "execution_count": null,
   "id": "6bfff9f4",
   "metadata": {},
   "outputs": [],
   "source": []
  },
  {
   "cell_type": "code",
   "execution_count": 21,
   "id": "6ad09364",
   "metadata": {},
   "outputs": [
    {
     "name": "stdout",
     "output_type": "stream",
     "text": [
      "CONTAINER ID   IMAGE                                     COMMAND                  CREATED       STATUS         PORTS                                                                                                                               NAMES\r\n",
      "38e46715231e   docker.tigergraph.com/tigergraph:latest   \"/bin/sh -c '/usr/sb…\"   2 weeks ago   Up 7 minutes   0.0.0.0:9000->9000/tcp, :::9000->9000/tcp, 0.0.0.0:14240->14240/tcp, :::14240->14240/tcp, 0.0.0.0:14022->22/tcp, :::14022->22/tcp   tigergraph\r\n"
     ]
    }
   ],
   "source": [
    "!docker ps"
   ]
  },
  {
   "cell_type": "code",
   "execution_count": null,
   "id": "a23defb7",
   "metadata": {},
   "outputs": [],
   "source": [
    "# To start tigergraph docker\n",
    "# https://docs.tigergraph.com/tigergraph-server/current/getting-started/docker\n",
    "#  docker run -d -p 14022:22 -p 9000:9000 -p 14240:14240 --name tigergraph --ulimit nofile=1000000:1000000 -v /Users/nb311848/Documents/mystuff/repos/artemis/data/external:/home/tigergraph/data -t docker.tigergraph.com/tigergraph:latest\n"
   ]
  },
  {
   "cell_type": "code",
   "execution_count": 22,
   "id": "4c251104",
   "metadata": {},
   "outputs": [],
   "source": [
    "import pyTigerGraph as tg"
   ]
  },
  {
   "cell_type": "code",
   "execution_count": 23,
   "id": "c32e9d08",
   "metadata": {},
   "outputs": [],
   "source": [
    "conn = tg.TigerGraphConnection()"
   ]
  },
  {
   "cell_type": "code",
   "execution_count": 29,
   "id": "4b410026",
   "metadata": {},
   "outputs": [
    {
     "name": "stdout",
     "output_type": "stream",
     "text": [
      "---- Global vertices, edges, and all graphs\n",
      "Vertex Types:\n",
      "Edge Types:\n",
      "\n",
      "Graphs:\n",
      "- Graph Artemis(DomainRecord:v, DomainName:v, Country:v, City:v, Emails:v, Organisation:v, Nameserver:v, Registrar:v, DomainRecordStatus:v, WhoisServer:v, DomainRecord_DomainName:e, Country_City:e, DomainRecord_Country:e, DomainRecord_Emails:e, DomainRecord_Organisation:e, DomainRecord_Nameserver:e, DomainRecord_Registrar:e, DomainRecord_DomainRecordStatus:e, DomainRecord_WhoisServer:e)\n",
      "Jobs:\n",
      "\n",
      "\n",
      "JSON API version: v2\n",
      "Syntax version: v2\n",
      "\n"
     ]
    }
   ],
   "source": [
    "print(conn.gsql('ls', options=[]))"
   ]
  },
  {
   "cell_type": "code",
   "execution_count": 37,
   "id": "56c9ccf4",
   "metadata": {},
   "outputs": [
    {
     "name": "stdout",
     "output_type": "stream",
     "text": [
      "Dropping all, about 1 minute ...\n",
      "Abort all active loading jobs\n",
      "Try to abort all loading jobs on graph Artemis, it may take a while ...\n",
      "[ABORT_SUCCESS] No active Loading Job to abort.\n",
      "Resetting GPE...\n",
      "Successfully reset GPE and GSE\n",
      "Stopping GPE GSE\n",
      "Successfully stopped GPE GSE in 0.005 seconds\n",
      "Clearing graph store...\n",
      "Successfully cleared graph store\n",
      "Starting GPE GSE RESTPP\n",
      "Successfully started GPE GSE RESTPP in 0.087 seconds\n",
      "Everything is dropped.\n"
     ]
    }
   ],
   "source": [
    "# Clear the server - We want to reproduce...\n",
    "\n",
    "print(conn.gsql('drop all', options=[]))"
   ]
  },
  {
   "cell_type": "code",
   "execution_count": 38,
   "id": "06574e76",
   "metadata": {},
   "outputs": [
    {
     "name": "stdout",
     "output_type": "stream",
     "text": [
      "CREATE GRAPH Artemis()\n",
      "CREATE SCHEMA_CHANGE JOB schema_change_job_AddExportedLocalVETypes_JT8B8XV85X78MVIO FOR GRAPH Artemis { \n",
      "  ADD VERTEX DomainRecord(PRIMARY_ID id STRING, dnssec STRING, name STRING, entropy FLOAT, BenignFlag BOOL) WITH STATS=\"OUTDEGREE_BY_EDGETYPE\", PRIMARY_ID_AS_ATTRIBUTE=\"true\";\n",
      "  ADD VERTEX DomainName(PRIMARY_ID id STRING) WITH STATS=\"OUTDEGREE_BY_EDGETYPE\";\n",
      "  ADD VERTEX Country(PRIMARY_ID id STRING) WITH STATS=\"OUTDEGREE_BY_EDGETYPE\";\n",
      "  ADD VERTEX City(PRIMARY_ID id STRING) WITH STATS=\"OUTDEGREE_BY_EDGETYPE\";\n",
      "  ADD VERTEX Emails(PRIMARY_ID id STRING) WITH STATS=\"OUTDEGREE_BY_EDGETYPE\";\n",
      "  ADD VERTEX Organisation(PRIMARY_ID id STRING) WITH STATS=\"OUTDEGREE_BY_EDGETYPE\";\n",
      "  ADD VERTEX Nameserver(PRIMARY_ID id STRING) WITH STATS=\"OUTDEGREE_BY_EDGETYPE\";\n",
      "  ADD VERTEX Registrar(PRIMARY_ID id STRING) WITH STATS=\"OUTDEGREE_BY_EDGETYPE\";\n",
      "  ADD VERTEX DomainRecordStatus(PRIMARY_ID id STRING) WITH STATS=\"OUTDEGREE_BY_EDGETYPE\";\n",
      "  ADD VERTEX WhoisServer(PRIMARY_ID id STRING) WITH STATS=\"OUTDEGREE_BY_EDGETYPE\";\n",
      "  ADD UNDIRECTED EDGE DomainRecord_DomainName(FROM DomainRecord, TO DomainName);\n",
      "  ADD UNDIRECTED EDGE Country_City(FROM Country, TO City);\n",
      "  ADD UNDIRECTED EDGE DomainRecord_Country(FROM DomainRecord, TO Country);\n",
      "  ADD UNDIRECTED EDGE DomainRecord_Emails(FROM DomainRecord, TO Emails);\n",
      "  ADD UNDIRECTED EDGE DomainRecord_Organisation(FROM DomainRecord, TO Organisation);\n",
      "  ADD UNDIRECTED EDGE DomainRecord_Nameserver(FROM DomainRecord, TO Nameserver);\n",
      "  ADD UNDIRECTED EDGE DomainRecord_Registrar(FROM DomainRecord, TO Registrar);\n",
      "  ADD UNDIRECTED EDGE DomainRecord_DomainRecordStatus(FROM DomainRecord, TO DomainRecordStatus);\n",
      "  ADD UNDIRECTED EDGE DomainRecord_WhoisServer(FROM DomainRecord, TO WhoisServer);\n",
      "}\n",
      "RUN SCHEMA_CHANGE JOB schema_change_job_AddExportedLocalVETypes_JT8B8XV85X78MVIO\n",
      "DROP JOB schema_change_job_AddExportedLocalVETypes_JT8B8XV85X78MVIO\n",
      "set exit_on_error = \"false\"\n",
      "CREATE LOADING JOB load_job_benign_whois_data FOR GRAPH Artemis {\n",
      "      DEFINE FILENAME MyDataSource;\n",
      "      LOAD MyDataSource TO VERTEX DomainRecord VALUES($1, $2, $3,0, \"True\") USING SEPARATOR=\",\", HEADER=\"true\", EOL=\"\\n\", QUOTE=\"double\";\n",
      "    }\n",
      "\n",
      "set exit_on_error = \"true\"\n",
      "set exit_on_error = \"false\"\n",
      "CREATE LOADING JOB load_job_benign_whois_data_country FOR GRAPH Artemis {\n",
      "      DEFINE FILENAME MyDataSource;\n",
      "      LOAD MyDataSource TO VERTEX Country VALUES($2) USING SEPARATOR=\",\", HEADER=\"true\", EOL=\"\\n\", QUOTE=\"double\";\n",
      "      LOAD MyDataSource TO EDGE DomainRecord_Country VALUES($1, $2) USING SEPARATOR=\",\", HEADER=\"true\", EOL=\"\\n\", QUOTE=\"double\";\n",
      "    }\n",
      "\n",
      "set exit_on_error = \"true\"\n",
      "set exit_on_error = \"false\"\n",
      "CREATE LOADING JOB load_job_benign_whois_data_domain_name FOR GRAPH Artemis {\n",
      "      DEFINE FILENAME MyDataSource;\n",
      "      LOAD MyDataSource TO VERTEX DomainName VALUES($2) USING SEPARATOR=\",\", HEADER=\"true\", EOL=\"\\n\", QUOTE=\"double\";\n",
      "      LOAD MyDataSource TO EDGE DomainRecord_DomainName VALUES($1, $2) USING SEPARATOR=\",\", HEADER=\"true\", EOL=\"\\n\", QUOTE=\"double\";\n",
      "    }\n",
      "\n",
      "set exit_on_error = \"true\"\n",
      "set exit_on_error = \"false\"\n",
      "CREATE LOADING JOB load_job_benign_whois_data_domain_status FOR GRAPH Artemis {\n",
      "      DEFINE FILENAME MyDataSource;\n",
      "      LOAD MyDataSource TO VERTEX DomainRecordStatus VALUES($2) USING SEPARATOR=\",\", HEADER=\"true\", EOL=\"\\n\", QUOTE=\"double\";\n",
      "      LOAD MyDataSource TO EDGE DomainRecord_DomainRecordStatus VALUES($1, $2) USING SEPARATOR=\",\", HEADER=\"true\", EOL=\"\\n\", QUOTE=\"double\";\n",
      "    }\n",
      "\n",
      "set exit_on_error = \"true\"\n",
      "set exit_on_error = \"false\"\n",
      "CREATE LOADING JOB load_job_benign_whois_data_emails FOR GRAPH Artemis {\n",
      "      DEFINE FILENAME MyDataSource;\n",
      "      LOAD MyDataSource TO VERTEX Emails VALUES($2) USING SEPARATOR=\",\", HEADER=\"true\", EOL=\"\\n\", QUOTE=\"double\";\n",
      "      LOAD MyDataSource TO EDGE DomainRecord_Emails VALUES($1, $2) USING SEPARATOR=\",\", HEADER=\"true\", EOL=\"\\n\", QUOTE=\"double\";\n",
      "    }\n",
      "\n",
      "set exit_on_error = \"true\"\n",
      "set exit_on_error = \"false\"\n",
      "CREATE LOADING JOB load_job_benign_whois_data_name_servers FOR GRAPH Artemis {\n",
      "      DEFINE FILENAME MyDataSource;\n",
      "      LOAD MyDataSource TO VERTEX Nameserver VALUES($2) USING SEPARATOR=\",\", HEADER=\"true\", EOL=\"\\n\", QUOTE=\"double\";\n",
      "      LOAD MyDataSource TO EDGE DomainRecord_Nameserver VALUES($1, $2) USING SEPARATOR=\",\", HEADER=\"true\", EOL=\"\\n\", QUOTE=\"double\";\n",
      "    }\n",
      "\n",
      "set exit_on_error = \"true\"\n",
      "set exit_on_error = \"false\"\n",
      "CREATE LOADING JOB load_job_benign_whois_data_organization FOR GRAPH Artemis {\n",
      "      DEFINE FILENAME MyDataSource;\n",
      "      LOAD MyDataSource TO VERTEX Organisation VALUES($1) USING SEPARATOR=\",\", HEADER=\"true\", EOL=\"\\n\", QUOTE=\"double\";\n",
      "      LOAD MyDataSource TO EDGE DomainRecord_Organisation VALUES($1, $2) USING SEPARATOR=\",\", HEADER=\"true\", EOL=\"\\n\", QUOTE=\"double\";\n",
      "    }\n",
      "\n",
      "set exit_on_error = \"true\"\n",
      "set exit_on_error = \"false\"\n",
      "CREATE LOADING JOB load_job_benign_whois_data_registrar FOR GRAPH Artemis {\n",
      "      DEFINE FILENAME MyDataSource;\n",
      "      LOAD MyDataSource TO VERTEX Registrar VALUES($2) USING SEPARATOR=\",\", HEADER=\"true\", EOL=\"\\n\", QUOTE=\"double\";\n",
      "      LOAD MyDataSource TO EDGE DomainRecord_Registrar VALUES($1, $2) USING SEPARATOR=\",\", HEADER=\"true\", EOL=\"\\n\", QUOTE=\"double\";\n",
      "    }\n",
      "\n",
      "set exit_on_error = \"true\"\n",
      "set exit_on_error = \"false\"\n",
      "CREATE LOADING JOB load_job_benign_whois_data_whois_server FOR GRAPH Artemis {\n",
      "      DEFINE FILENAME MyDataSource;\n",
      "      LOAD MyDataSource TO VERTEX WhoisServer VALUES($2) USING SEPARATOR=\",\", HEADER=\"true\", EOL=\"\\n\", QUOTE=\"double\";\n",
      "      LOAD MyDataSource TO EDGE DomainRecord_WhoisServer VALUES($1, $2) USING SEPARATOR=\",\", HEADER=\"true\", EOL=\"\\n\", QUOTE=\"double\";\n",
      "    }\n",
      "\n",
      "set exit_on_error = \"true\"\n",
      "\n"
     ]
    }
   ],
   "source": [
    "#open text file in read mode\n",
    "text_file = open(\"../src/scripts/DBImportExport_Artemis.gsql\", \"r\")\n",
    " \n",
    "#read whole file to a string\n",
    "artemis_graph_gsql = text_file.read()\n",
    " \n",
    "#close file\n",
    "text_file.close()\n",
    " \n",
    "print(artemis_graph_gsql)"
   ]
  },
  {
   "cell_type": "code",
   "execution_count": 39,
   "id": "334ad7e6",
   "metadata": {},
   "outputs": [
    {
     "name": "stdout",
     "output_type": "stream",
     "text": [
      "Stopping GPE GSE RESTPP\n",
      "Successfully stopped GPE GSE RESTPP in 30.449 seconds\n",
      "Starting GPE GSE RESTPP\n",
      "Successfully started GPE GSE RESTPP in 0.070 seconds\n",
      "The graph Artemis is created.\n",
      "Successfully created schema change jobs: [schema_change_job_AddExportedLocalVETypes_JT8B8XV85X78MVIO].\n",
      "\n",
      "Current graph version 0\n",
      "Trying to add vertex DomainRecord.\n",
      "Trying to add vertex DomainName.\n",
      "Trying to add vertex Country.\n",
      "Trying to add vertex City.\n",
      "Trying to add vertex Emails.\n",
      "Trying to add vertex Organisation.\n",
      "Trying to add vertex Nameserver.\n",
      "Trying to add vertex Registrar.\n",
      "Trying to add vertex DomainRecordStatus.\n",
      "Trying to add vertex WhoisServer.\n",
      "Trying to add edge DomainRecord_DomainName.\n",
      "Trying to add edge Country_City.\n",
      "Trying to add edge DomainRecord_Country.\n",
      "Trying to add edge DomainRecord_Emails.\n",
      "Trying to add edge DomainRecord_Organisation.\n",
      "Trying to add edge DomainRecord_Nameserver.\n",
      "Trying to add edge DomainRecord_Registrar.\n",
      "Trying to add edge DomainRecord_DomainRecordStatus.\n",
      "Trying to add edge DomainRecord_WhoisServer.\n",
      "Kick off job schema_change_job_AddExportedLocalVETypes_JT8B8XV85X78MVIO\n",
      "\n",
      "Graph Artemis update to new version 1\n",
      "The job schema_change_job_AddExportedLocalVETypes_JT8B8XV85X78MVIO completes in 9.859 seconds!\n",
      "Successfully dropped jobs on the graph 'Artemis': [schema_change_job_AddExportedLocalVETypes_JT8B8XV85X78MVIO].\n",
      "Successfully created loading jobs: [load_job_benign_whois_data].\n",
      "Successfully created loading jobs: [load_job_benign_whois_data_country].\n",
      "Successfully created loading jobs: [load_job_benign_whois_data_domain_name].\n",
      "Successfully created loading jobs: [load_job_benign_whois_data_domain_status].\n",
      "Successfully created loading jobs: [load_job_benign_whois_data_emails].\n",
      "Successfully created loading jobs: [load_job_benign_whois_data_name_servers].\n",
      "Successfully created loading jobs: [load_job_benign_whois_data_organization].\n",
      "Successfully created loading jobs: [load_job_benign_whois_data_registrar].\n",
      "Successfully created loading jobs: [load_job_benign_whois_data_whois_server].\n"
     ]
    }
   ],
   "source": [
    "print(conn.gsql(artemis_graph_gsql, options=[]))"
   ]
  },
  {
   "cell_type": "code",
   "execution_count": 40,
   "id": "b205d401",
   "metadata": {},
   "outputs": [],
   "source": [
    "loading_job = \"\"\"RUN LOADING JOB load_job_benign_whois_data{field} USING MyDataSource=\"/home/tigergraph/data/combined_whois_data{field}.csv\\\"\"\"\""
   ]
  },
  {
   "cell_type": "code",
   "execution_count": 41,
   "id": "93e99991",
   "metadata": {},
   "outputs": [
    {
     "name": "stdout",
     "output_type": "stream",
     "text": [
      "\u001b[2A\n",
      "\u001b[2K\n",
      "\u001b[2K\n",
      "[Tip: Use \"CTRL + C\" to stop displaying the loading status update, then use \"SHOW LOADING STATUS jobid\" to track the loading progress again]\n",
      "[Tip: Manage loading jobs with \"ABORT/RESUME LOADING JOB jobid\"]\n",
      "Starting the following job, i.e.\n",
      "JobName: load_job_benign_whois_data, jobid: Artemis.load_job_benign_whois_data.file.m1.1649077908086\n",
      "Loading log: '/home/tigergraph/tigergraph/log/restpp/restpp_loader_logs/Artemis/Artemis.load_job_benign_whois_data.file.m1.1649077908086.log'\n",
      "\n",
      "Job \"Artemis.load_job_benign_whois_data.file.m1.1649077908086\" loading status\n",
      "[WAITING] m1 ( Finished: 0 / Total: 0 )\n",
      "Job \"Artemis.load_job_benign_whois_data.file.m1.1649077908086\" loading status\n",
      "[FINISHED] m1 ( Finished: 1 / Total: 1 )\n",
      "[LOADED]\n",
      "+-----------------------------------------------------------------------------------------+\n",
      "|                                     FILENAME |   LOADED LINES |   AVG SPEED |   DURATION|\n",
      "|/home/tigergraph/data/combined_whois_data.csv |           7363 |     35 kl/s |     0.21 s|\n",
      "+-----------------------------------------------------------------------------------------+\n",
      "\u001b[2A\n",
      "\u001b[2K\n",
      "\u001b[2K\n",
      "[Tip: Use \"CTRL + C\" to stop displaying the loading status update, then use \"SHOW LOADING STATUS jobid\" to track the loading progress again]\n",
      "[Tip: Manage loading jobs with \"ABORT/RESUME LOADING JOB jobid\"]\n",
      "Starting the following job, i.e.\n",
      "JobName: load_job_benign_whois_data_country, jobid: Artemis.load_job_benign_whois_data_country.file.m1.1649077913602\n",
      "Loading log: '/home/tigergraph/tigergraph/log/restpp/restpp_loader_logs/Artemis/Artemis.load_job_benign_whois_data_country.file.m1.1649077913602.log'\n",
      "\n",
      "Job \"Artemis.load_job_benign_whois_data_country.file.m1.1649077913602\" loading status\n",
      "[WAITING] m1 ( Finished: 0 / Total: 0 )\n",
      "Job \"Artemis.load_job_benign_whois_data_country.file.m1.1649077913602\" loading status\n",
      "[FINISHED] m1 ( Finished: 1 / Total: 1 )\n",
      "[LOADED]\n",
      "+-------------------------------------------------------------------------------------------------+\n",
      "|                                             FILENAME |   LOADED LINES |   AVG SPEED |   DURATION|\n",
      "|/home/tigergraph/data/combined_whois_data_country.csv |           7405 |     36 kl/s |     0.20 s|\n",
      "+-------------------------------------------------------------------------------------------------+\n",
      "\u001b[2A\n",
      "\u001b[2K\n",
      "\u001b[2K\n",
      "[Tip: Use \"CTRL + C\" to stop displaying the loading status update, then use \"SHOW LOADING STATUS jobid\" to track the loading progress again]\n",
      "[Tip: Manage loading jobs with \"ABORT/RESUME LOADING JOB jobid\"]\n",
      "Starting the following job, i.e.\n",
      "JobName: load_job_benign_whois_data_emails, jobid: Artemis.load_job_benign_whois_data_emails.file.m1.1649077919127\n",
      "Loading log: '/home/tigergraph/tigergraph/log/restpp/restpp_loader_logs/Artemis/Artemis.load_job_benign_whois_data_emails.file.m1.1649077919127.log'\n",
      "\n",
      "Job \"Artemis.load_job_benign_whois_data_emails.file.m1.1649077919127\" loading status\n",
      "[RUNNING] m1 ( Finished: 0 / Total: 1 )\n",
      "Job \"Artemis.load_job_benign_whois_data_emails.file.m1.1649077919127\" loading status\n",
      "[FINISHED] m1 ( Finished: 1 / Total: 1 )\n",
      "[LOADED]\n",
      "+------------------------------------------------------------------------------------------------+\n",
      "|                                            FILENAME |   LOADED LINES |   AVG SPEED |   DURATION|\n",
      "|/home/tigergraph/data/combined_whois_data_emails.csv |          12841 |     61 kl/s |     0.21 s|\n",
      "+------------------------------------------------------------------------------------------------+\n",
      "\u001b[2A\n",
      "\u001b[2K\n",
      "\u001b[2K\n",
      "[Tip: Use \"CTRL + C\" to stop displaying the loading status update, then use \"SHOW LOADING STATUS jobid\" to track the loading progress again]\n",
      "[Tip: Manage loading jobs with \"ABORT/RESUME LOADING JOB jobid\"]\n",
      "Starting the following job, i.e.\n",
      "JobName: load_job_benign_whois_data_organization, jobid: Artemis.load_job_benign_whois_data_organization.file.m1.1649077924643\n",
      "Loading log: '/home/tigergraph/tigergraph/log/restpp/restpp_loader_logs/Artemis/Artemis.load_job_benign_whois_data_organization.file.m1.1649077924643.log'\n",
      "\n",
      "Job \"Artemis.load_job_benign_whois_data_organization.file.m1.1649077924643\" loading status\n",
      "[WAITING] m1 ( Finished: 0 / Total: 0 )\n",
      "Job \"Artemis.load_job_benign_whois_data_organization.file.m1.1649077924643\" loading status\n",
      "[FINISHED] m1 ( Finished: 1 / Total: 1 )\n",
      "[LOADED]\n",
      "+------------------------------------------------------------------------------------------------------+\n",
      "|                                                  FILENAME |   LOADED LINES |   AVG SPEED |   DURATION|\n",
      "|/home/tigergraph/data/combined_whois_data_organization.csv |           7363 |     72 kl/s |     0.10 s|\n",
      "+------------------------------------------------------------------------------------------------------+\n",
      "\u001b[2A\n",
      "\u001b[2K\n",
      "\u001b[2K\n",
      "[Tip: Use \"CTRL + C\" to stop displaying the loading status update, then use \"SHOW LOADING STATUS jobid\" to track the loading progress again]\n",
      "[Tip: Manage loading jobs with \"ABORT/RESUME LOADING JOB jobid\"]\n",
      "Starting the following job, i.e.\n",
      "JobName: load_job_benign_whois_data_whois_server, jobid: Artemis.load_job_benign_whois_data_whois_server.file.m1.1649077930164\n",
      "Loading log: '/home/tigergraph/tigergraph/log/restpp/restpp_loader_logs/Artemis/Artemis.load_job_benign_whois_data_whois_server.file.m1.1649077930164.log'\n",
      "\n",
      "Job \"Artemis.load_job_benign_whois_data_whois_server.file.m1.1649077930164\" loading status\n",
      "[WAITING] m1 ( Finished: 0 / Total: 0 )\n",
      "Job \"Artemis.load_job_benign_whois_data_whois_server.file.m1.1649077930164\" loading status\n",
      "[FINISHED] m1 ( Finished: 1 / Total: 1 )\n",
      "[LOADED]\n",
      "+------------------------------------------------------------------------------------------------------+\n",
      "|                                                  FILENAME |   LOADED LINES |   AVG SPEED |   DURATION|\n",
      "|/home/tigergraph/data/combined_whois_data_whois_server.csv |           7363 |     36 kl/s |     0.20 s|\n",
      "+------------------------------------------------------------------------------------------------------+\n",
      "\u001b[2A\n",
      "\u001b[2K\n",
      "\u001b[2K\n",
      "[Tip: Use \"CTRL + C\" to stop displaying the loading status update, then use \"SHOW LOADING STATUS jobid\" to track the loading progress again]\n",
      "[Tip: Manage loading jobs with \"ABORT/RESUME LOADING JOB jobid\"]\n",
      "Starting the following job, i.e.\n",
      "JobName: load_job_benign_whois_data_domain_status, jobid: Artemis.load_job_benign_whois_data_domain_status.file.m1.1649077935654\n",
      "Loading log: '/home/tigergraph/tigergraph/log/restpp/restpp_loader_logs/Artemis/Artemis.load_job_benign_whois_data_domain_status.file.m1.1649077935654.log'\n",
      "\n",
      "Job \"Artemis.load_job_benign_whois_data_domain_status.file.m1.1649077935654\" loading status\n",
      "[RUNNING] m1 ( Finished: 0 / Total: 1 )\n",
      "Job \"Artemis.load_job_benign_whois_data_domain_status.file.m1.1649077935654\" loading status\n",
      "[FINISHED] m1 ( Finished: 1 / Total: 1 )\n",
      "[LOADED]\n",
      "+-------------------------------------------------------------------------------------------------------+\n",
      "|                                                   FILENAME |   LOADED LINES |   AVG SPEED |   DURATION|\n",
      "|/home/tigergraph/data/combined_whois_data_domain_status.csv |           7475 |     37 kl/s |     0.20 s|\n",
      "+-------------------------------------------------------------------------------------------------------+\n",
      "\u001b[2A\n",
      "\u001b[2K\n",
      "\u001b[2K\n",
      "[Tip: Use \"CTRL + C\" to stop displaying the loading status update, then use \"SHOW LOADING STATUS jobid\" to track the loading progress again]\n",
      "[Tip: Manage loading jobs with \"ABORT/RESUME LOADING JOB jobid\"]\n",
      "Starting the following job, i.e.\n",
      "JobName: load_job_benign_whois_data_registrar, jobid: Artemis.load_job_benign_whois_data_registrar.file.m1.1649077941177\n",
      "Loading log: '/home/tigergraph/tigergraph/log/restpp/restpp_loader_logs/Artemis/Artemis.load_job_benign_whois_data_registrar.file.m1.1649077941177.log'\n",
      "\n",
      "Job \"Artemis.load_job_benign_whois_data_registrar.file.m1.1649077941177\" loading status\n",
      "[WAITING] m1 ( Finished: 0 / Total: 0 )\n",
      "Job \"Artemis.load_job_benign_whois_data_registrar.file.m1.1649077941177\" loading status\n",
      "[FINISHED] m1 ( Finished: 1 / Total: 1 )\n",
      "[LOADED]\n",
      "+---------------------------------------------------------------------------------------------------+\n",
      "|                                               FILENAME |   LOADED LINES |   AVG SPEED |   DURATION|\n",
      "|/home/tigergraph/data/combined_whois_data_registrar.csv |           7363 |     72 kl/s |     0.10 s|\n",
      "+---------------------------------------------------------------------------------------------------+\n"
     ]
    },
    {
     "name": "stdout",
     "output_type": "stream",
     "text": [
      "\u001b[2A\n",
      "\u001b[2K\n",
      "\u001b[2K\n",
      "[Tip: Use \"CTRL + C\" to stop displaying the loading status update, then use \"SHOW LOADING STATUS jobid\" to track the loading progress again]\n",
      "[Tip: Manage loading jobs with \"ABORT/RESUME LOADING JOB jobid\"]\n",
      "Starting the following job, i.e.\n",
      "JobName: load_job_benign_whois_data_name_servers, jobid: Artemis.load_job_benign_whois_data_name_servers.file.m1.1649077946697\n",
      "Loading log: '/home/tigergraph/tigergraph/log/restpp/restpp_loader_logs/Artemis/Artemis.load_job_benign_whois_data_name_servers.file.m1.1649077946697.log'\n",
      "\n",
      "Job \"Artemis.load_job_benign_whois_data_name_servers.file.m1.1649077946697\" loading status\n",
      "[WAITING] m1 ( Finished: 0 / Total: 0 )\n",
      "Job \"Artemis.load_job_benign_whois_data_name_servers.file.m1.1649077946697\" loading status\n",
      "[FINISHED] m1 ( Finished: 1 / Total: 1 )\n",
      "[LOADED]\n",
      "+------------------------------------------------------------------------------------------------------+\n",
      "|                                                  FILENAME |   LOADED LINES |   AVG SPEED |   DURATION|\n",
      "|/home/tigergraph/data/combined_whois_data_name_servers.csv |          36691 |    119 kl/s |     0.31 s|\n",
      "+------------------------------------------------------------------------------------------------------+\n"
     ]
    }
   ],
   "source": [
    "print(conn.gsql(loading_job.format(field=\"\"),graphname='Artemis', options=[]))\n",
    "\n",
    "for x in list_of_explode_columns:\n",
    "    print(conn.gsql(loading_job.format(field=f\"_{x}\"),graphname='Artemis', options=[]))"
   ]
  },
  {
   "cell_type": "code",
   "execution_count": null,
   "id": "7d3bbe3b",
   "metadata": {},
   "outputs": [],
   "source": []
  }
 ],
 "metadata": {
  "kernelspec": {
   "display_name": "Python 3 (ipykernel)",
   "language": "python",
   "name": "python3"
  },
  "language_info": {
   "codemirror_mode": {
    "name": "ipython",
    "version": 3
   },
   "file_extension": ".py",
   "mimetype": "text/x-python",
   "name": "python",
   "nbconvert_exporter": "python",
   "pygments_lexer": "ipython3",
   "version": "3.8.12"
  }
 },
 "nbformat": 4,
 "nbformat_minor": 5
}

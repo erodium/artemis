{
 "cells": [
  {
   "cell_type": "code",
   "execution_count": 1,
   "id": "47ab0eed",
   "metadata": {},
   "outputs": [],
   "source": [
    "import pandas as pd\n",
    "import json\n",
    "import re\n",
    "import csv\n",
    "import pyTigerGraph as tg\n",
    "from sklearn.model_selection import train_test_split\n"
   ]
  },
  {
   "cell_type": "markdown",
   "id": "aacca69b",
   "metadata": {},
   "source": [
    "# Notebook to explore and generate a graph for the Domain Record datasets\n",
    "\n",
    "* Mangle data to make loading into the graph easier\n",
    "* Instantiate the graph schema and graph queries (using TigerGraph - www.tigergraph.com )\n",
    "* Perform community detection\n",
    "* Collect community statistics to be used as features\n"
   ]
  },
  {
   "cell_type": "code",
   "execution_count": 2,
   "id": "1d571635",
   "metadata": {},
   "outputs": [
    {
     "name": "stdout",
     "output_type": "stream",
     "text": [
      "    9344 ../data/processed/better_whois_data.csv\r\n"
     ]
    }
   ],
   "source": [
    "!wc -l \"../data/processed/better_whois_data.csv\" "
   ]
  },
  {
   "cell_type": "code",
   "execution_count": 3,
   "id": "7d79ebe2",
   "metadata": {},
   "outputs": [
    {
     "name": "stdout",
     "output_type": "stream",
     "text": [
      "    4000 ../data/raw/benign_whois_data.txt\r\n"
     ]
    }
   ],
   "source": [
    "# benign_whois_data.txt\n",
    "\n",
    "!wc -l \"../data/raw/benign_whois_data.txt\" \n"
   ]
  },
  {
   "cell_type": "code",
   "execution_count": 4,
   "id": "7294a781",
   "metadata": {},
   "outputs": [
    {
     "name": "stdout",
     "output_type": "stream",
     "text": [
      "Number of line errors: 0\n",
      "Number of lines: 4001\n"
     ]
    }
   ],
   "source": [
    "# Process the benign data file - row by row processing of json / dictionary file - Cumbersome but cautious\n",
    "\n",
    "b = '../data/raw/benign_whois_data.txt'\n",
    "\n",
    "records = []\n",
    "error_lines = []\n",
    "\n",
    "# load the lines into a list, there are some error lines that needs to be dealt with\n",
    "with open(b) as f: # open file\n",
    "    for line in f.read().splitlines(): # for each line\n",
    "        try:\n",
    "            obj = json.loads(re.sub('.*}{', '{', line)) # load the line, which looks like: {\"domain.name\": {...values...}}\n",
    "            records.append(obj)\n",
    "        except:\n",
    "            error_lines.append(line)\n",
    "        \n",
    "print(f\"Number of line errors: {len(error_lines)}\")  \n",
    "print(f\"Number of lines: {len(records)}\")     \n"
   ]
  },
  {
   "cell_type": "code",
   "execution_count": 5,
   "id": "9ac8a52f",
   "metadata": {},
   "outputs": [],
   "source": [
    "record_dict = {}\n",
    "for item in records:\n",
    "    name = [x for x in item.keys()][0]\n",
    "    record_dict[name] = item[name]"
   ]
  },
  {
   "cell_type": "code",
   "execution_count": 6,
   "id": "b7bb4d27",
   "metadata": {},
   "outputs": [],
   "source": [
    "# Look for and process any errors -  There should now be none \n",
    "# (initial stages of project there were some errors in the data)\n",
    "\n",
    "error_list = []\n",
    "for x in record_dict:\n",
    "    if type(record_dict[x]) != dict:\n",
    "        error_list.append(x)\n",
    "        \n",
    "for x in error_list:\n",
    "    del record_dict[x]"
   ]
  },
  {
   "cell_type": "code",
   "execution_count": 7,
   "id": "b49112cb",
   "metadata": {},
   "outputs": [],
   "source": [
    "benign_df = pd.DataFrame.from_dict(record_dict, orient='index')\n",
    "benign_df.reset_index(inplace=True)"
   ]
  },
  {
   "cell_type": "code",
   "execution_count": 8,
   "id": "81edc109",
   "metadata": {},
   "outputs": [
    {
     "data": {
      "text/html": [
       "<div>\n",
       "<style scoped>\n",
       "    .dataframe tbody tr th:only-of-type {\n",
       "        vertical-align: middle;\n",
       "    }\n",
       "\n",
       "    .dataframe tbody tr th {\n",
       "        vertical-align: top;\n",
       "    }\n",
       "\n",
       "    .dataframe thead th {\n",
       "        text-align: right;\n",
       "    }\n",
       "</style>\n",
       "<table border=\"1\" class=\"dataframe\">\n",
       "  <thead>\n",
       "    <tr style=\"text-align: right;\">\n",
       "      <th></th>\n",
       "      <th>index</th>\n",
       "      <th>domain_name</th>\n",
       "      <th>name_servers</th>\n",
       "      <th>registrant_contact_name</th>\n",
       "      <th>registrant_name</th>\n",
       "      <th>registrar</th>\n",
       "      <th>status</th>\n",
       "      <th>updated_date</th>\n",
       "      <th>admin_c</th>\n",
       "      <th>billing_c</th>\n",
       "      <th>...</th>\n",
       "      <th>registrant_zip</th>\n",
       "      <th>billing_id</th>\n",
       "      <th>billing_phone_number</th>\n",
       "      <th>billing_postal_code</th>\n",
       "      <th>billing_state_province</th>\n",
       "      <th>admin_country_code</th>\n",
       "      <th>registrar_country_code</th>\n",
       "      <th>registrar_organization_id</th>\n",
       "      <th>registrar_postal_code</th>\n",
       "      <th>registrar_street</th>\n",
       "    </tr>\n",
       "  </thead>\n",
       "  <tbody>\n",
       "    <tr>\n",
       "      <th>0</th>\n",
       "      <td>griffithspartners.com.au</td>\n",
       "      <td>COM.AU</td>\n",
       "      <td>[T.AU, R.AU, Q.AU, S.AU]</td>\n",
       "      <td>CEO</td>\n",
       "      <td>None</td>\n",
       "      <td>Afilias Australia Pty Ltd</td>\n",
       "      <td>[serverDeleteProhibited https://afilias.com.au...</td>\n",
       "      <td>2022-03-17 14:34:56</td>\n",
       "      <td>NaN</td>\n",
       "      <td>NaN</td>\n",
       "      <td>...</td>\n",
       "      <td>NaN</td>\n",
       "      <td>NaN</td>\n",
       "      <td>NaN</td>\n",
       "      <td>NaN</td>\n",
       "      <td>NaN</td>\n",
       "      <td>NaN</td>\n",
       "      <td>NaN</td>\n",
       "      <td>NaN</td>\n",
       "      <td>NaN</td>\n",
       "      <td>NaN</td>\n",
       "    </tr>\n",
       "    <tr>\n",
       "      <th>1</th>\n",
       "      <td>gestaoconcurso.com.br</td>\n",
       "      <td>None</td>\n",
       "      <td>NaN</td>\n",
       "      <td>NaN</td>\n",
       "      <td>None</td>\n",
       "      <td>NaN</td>\n",
       "      <td>None</td>\n",
       "      <td>None</td>\n",
       "      <td>NaN</td>\n",
       "      <td>NaN</td>\n",
       "      <td>...</td>\n",
       "      <td>NaN</td>\n",
       "      <td>NaN</td>\n",
       "      <td>NaN</td>\n",
       "      <td>NaN</td>\n",
       "      <td>NaN</td>\n",
       "      <td>NaN</td>\n",
       "      <td>NaN</td>\n",
       "      <td>NaN</td>\n",
       "      <td>NaN</td>\n",
       "      <td>NaN</td>\n",
       "    </tr>\n",
       "    <tr>\n",
       "      <th>2</th>\n",
       "      <td>21fss.com</td>\n",
       "      <td>[21FSS.COM, 21fss.com]</td>\n",
       "      <td>[NS33.DOMAINCONTROL.COM, NS34.DOMAINCONTROL.COM]</td>\n",
       "      <td>NaN</td>\n",
       "      <td>NaN</td>\n",
       "      <td>GoDaddy.com, LLC</td>\n",
       "      <td>[clientDeleteProhibited https://icann.org/epp#...</td>\n",
       "      <td>[2021-01-19 22:26:36, 2021-01-10 00:51:38]</td>\n",
       "      <td>NaN</td>\n",
       "      <td>NaN</td>\n",
       "      <td>...</td>\n",
       "      <td>NaN</td>\n",
       "      <td>NaN</td>\n",
       "      <td>NaN</td>\n",
       "      <td>NaN</td>\n",
       "      <td>NaN</td>\n",
       "      <td>NaN</td>\n",
       "      <td>NaN</td>\n",
       "      <td>NaN</td>\n",
       "      <td>NaN</td>\n",
       "      <td>NaN</td>\n",
       "    </tr>\n",
       "  </tbody>\n",
       "</table>\n",
       "<p>3 rows × 156 columns</p>\n",
       "</div>"
      ],
      "text/plain": [
       "                      index             domain_name  \\\n",
       "0  griffithspartners.com.au                  COM.AU   \n",
       "1     gestaoconcurso.com.br                    None   \n",
       "2                 21fss.com  [21FSS.COM, 21fss.com]   \n",
       "\n",
       "                                       name_servers registrant_contact_name  \\\n",
       "0                          [T.AU, R.AU, Q.AU, S.AU]                     CEO   \n",
       "1                                               NaN                     NaN   \n",
       "2  [NS33.DOMAINCONTROL.COM, NS34.DOMAINCONTROL.COM]                     NaN   \n",
       "\n",
       "  registrant_name                  registrar  \\\n",
       "0            None  Afilias Australia Pty Ltd   \n",
       "1            None                        NaN   \n",
       "2             NaN           GoDaddy.com, LLC   \n",
       "\n",
       "                                              status  \\\n",
       "0  [serverDeleteProhibited https://afilias.com.au...   \n",
       "1                                               None   \n",
       "2  [clientDeleteProhibited https://icann.org/epp#...   \n",
       "\n",
       "                                 updated_date  admin_c  billing_c  ...  \\\n",
       "0                         2022-03-17 14:34:56      NaN        NaN  ...   \n",
       "1                                        None      NaN        NaN  ...   \n",
       "2  [2021-01-19 22:26:36, 2021-01-10 00:51:38]      NaN        NaN  ...   \n",
       "\n",
       "  registrant_zip billing_id billing_phone_number billing_postal_code  \\\n",
       "0            NaN        NaN                  NaN                 NaN   \n",
       "1            NaN        NaN                  NaN                 NaN   \n",
       "2            NaN        NaN                  NaN                 NaN   \n",
       "\n",
       "   billing_state_province  admin_country_code  registrar_country_code  \\\n",
       "0                     NaN                 NaN                     NaN   \n",
       "1                     NaN                 NaN                     NaN   \n",
       "2                     NaN                 NaN                     NaN   \n",
       "\n",
       "   registrar_organization_id  registrar_postal_code  registrar_street  \n",
       "0                        NaN                    NaN               NaN  \n",
       "1                        NaN                    NaN               NaN  \n",
       "2                        NaN                    NaN               NaN  \n",
       "\n",
       "[3 rows x 156 columns]"
      ]
     },
     "execution_count": 8,
     "metadata": {},
     "output_type": "execute_result"
    }
   ],
   "source": [
    "benign_df.head(3)"
   ]
  },
  {
   "cell_type": "code",
   "execution_count": 9,
   "id": "d4aafb87",
   "metadata": {},
   "outputs": [
    {
     "name": "stdout",
     "output_type": "stream",
     "text": [
      "    2415 ../data/raw/malicious_whois_data.txt\r\n"
     ]
    }
   ],
   "source": [
    "!wc -l \"../data/raw/malicious_whois_data.txt\" "
   ]
  },
  {
   "cell_type": "code",
   "execution_count": 10,
   "id": "98687899",
   "metadata": {},
   "outputs": [
    {
     "name": "stdout",
     "output_type": "stream",
     "text": [
      "Number of line errors: 0\n",
      "Number of lines: 2415\n"
     ]
    }
   ],
   "source": [
    "# Process the malicious data set (just like we did the benign dataset)\n",
    "\n",
    "b = '../data/raw/malicious_whois_data.txt'\n",
    "\n",
    "records = []\n",
    "error_lines = []\n",
    "\n",
    "# load the lines into a list, there are some error lines that needs to be dealt with\n",
    "with open(b) as f: # open file\n",
    "    for line in f.read().splitlines(): # for each line\n",
    "        try:\n",
    "            obj = json.loads(re.sub('.*}{', '{', line)) # load the line, which looks like: {\"domain.name\": {...values...}}\n",
    "            records.append(obj)\n",
    "        except:\n",
    "            error_lines.append(line)\n",
    "        \n",
    "print(f\"Number of line errors: {len(error_lines)}\")  \n",
    "print(f\"Number of lines: {len(records)}\")     \n"
   ]
  },
  {
   "cell_type": "code",
   "execution_count": 11,
   "id": "f2d702e5",
   "metadata": {},
   "outputs": [],
   "source": [
    "# create the dictionary with the data\n",
    "record_dict = {}\n",
    "for item in records:\n",
    "    name = [x for x in item.keys()][0]\n",
    "    record_dict[name] = item[name]"
   ]
  },
  {
   "cell_type": "code",
   "execution_count": 12,
   "id": "d48f132a",
   "metadata": {},
   "outputs": [],
   "source": [
    "# Process any errors\n",
    "\n",
    "error_list = []\n",
    "for x in record_dict:\n",
    "    if type(record_dict[x]) != dict:\n",
    "        error_list.append(x)\n",
    "        \n",
    "for x in error_list:\n",
    "    del record_dict[x]"
   ]
  },
  {
   "cell_type": "code",
   "execution_count": 13,
   "id": "c07140af",
   "metadata": {},
   "outputs": [],
   "source": [
    "mal_df = pd.DataFrame.from_dict(record_dict, orient='index')\n",
    "mal_df.reset_index(inplace=True)"
   ]
  },
  {
   "cell_type": "code",
   "execution_count": 14,
   "id": "d7ce601c",
   "metadata": {},
   "outputs": [
    {
     "data": {
      "text/html": [
       "<div>\n",
       "<style scoped>\n",
       "    .dataframe tbody tr th:only-of-type {\n",
       "        vertical-align: middle;\n",
       "    }\n",
       "\n",
       "    .dataframe tbody tr th {\n",
       "        vertical-align: top;\n",
       "    }\n",
       "\n",
       "    .dataframe thead th {\n",
       "        text-align: right;\n",
       "    }\n",
       "</style>\n",
       "<table border=\"1\" class=\"dataframe\">\n",
       "  <thead>\n",
       "    <tr style=\"text-align: right;\">\n",
       "      <th></th>\n",
       "      <th>index</th>\n",
       "      <th>address</th>\n",
       "      <th>city</th>\n",
       "      <th>country</th>\n",
       "      <th>creation_date</th>\n",
       "      <th>dnssec</th>\n",
       "      <th>domain_name</th>\n",
       "      <th>emails</th>\n",
       "      <th>expiration_date</th>\n",
       "      <th>name</th>\n",
       "      <th>...</th>\n",
       "      <th>tech_phone_ext</th>\n",
       "      <th>registrar_zip_code</th>\n",
       "      <th>registrant_type</th>\n",
       "      <th>admin_account_name</th>\n",
       "      <th>admin_company_name</th>\n",
       "      <th>admin_family_name</th>\n",
       "      <th>registrant_company_name</th>\n",
       "      <th>tech_account_name</th>\n",
       "      <th>tech_company_name</th>\n",
       "      <th>tech_family_name</th>\n",
       "    </tr>\n",
       "  </thead>\n",
       "  <tbody>\n",
       "    <tr>\n",
       "      <th>0</th>\n",
       "      <td>reseptors.com</td>\n",
       "      <td>REDACTED FOR PRIVACY</td>\n",
       "      <td>REDACTED FOR PRIVACY</td>\n",
       "      <td>KN</td>\n",
       "      <td>[2021-12-08 08:53:26, 2021-12-08T08:53:26]</td>\n",
       "      <td>unsigned</td>\n",
       "      <td>RESEPTORS.COM</td>\n",
       "      <td>domainabuse@tucows.com</td>\n",
       "      <td>[2022-12-08 08:53:26, 2022-12-08T08:53:26]</td>\n",
       "      <td>REDACTED FOR PRIVACY</td>\n",
       "      <td>...</td>\n",
       "      <td>NaN</td>\n",
       "      <td>NaN</td>\n",
       "      <td>NaN</td>\n",
       "      <td>NaN</td>\n",
       "      <td>NaN</td>\n",
       "      <td>NaN</td>\n",
       "      <td>NaN</td>\n",
       "      <td>NaN</td>\n",
       "      <td>NaN</td>\n",
       "      <td>NaN</td>\n",
       "    </tr>\n",
       "    <tr>\n",
       "      <th>1</th>\n",
       "      <td>contentcdns.net</td>\n",
       "      <td>REDACTED FOR PRIVACY</td>\n",
       "      <td>REDACTED FOR PRIVACY</td>\n",
       "      <td>KN</td>\n",
       "      <td>[2022-02-17 23:18:15, 2022-02-17T23:18:15]</td>\n",
       "      <td>unsigned</td>\n",
       "      <td>CONTENTCDNS.NET</td>\n",
       "      <td>domainabuse@tucows.com</td>\n",
       "      <td>[2023-02-17 23:18:15, 2023-02-17T23:18:15]</td>\n",
       "      <td>REDACTED FOR PRIVACY</td>\n",
       "      <td>...</td>\n",
       "      <td>NaN</td>\n",
       "      <td>NaN</td>\n",
       "      <td>NaN</td>\n",
       "      <td>NaN</td>\n",
       "      <td>NaN</td>\n",
       "      <td>NaN</td>\n",
       "      <td>NaN</td>\n",
       "      <td>NaN</td>\n",
       "      <td>NaN</td>\n",
       "      <td>NaN</td>\n",
       "    </tr>\n",
       "    <tr>\n",
       "      <th>2</th>\n",
       "      <td>izocab.com</td>\n",
       "      <td>220013, Belarus, Minsk, ul.YA.Kolasa, d.31, kv...</td>\n",
       "      <td>Minsk</td>\n",
       "      <td>BY</td>\n",
       "      <td>2015-12-30 00:30:35</td>\n",
       "      <td>[unsigned, Unsigned]</td>\n",
       "      <td>IZOCAB.COM</td>\n",
       "      <td>[abuse@reg.ru, info@brale.ru]</td>\n",
       "      <td>2022-12-30 00:30:35</td>\n",
       "      <td>Vladimir Nikolskii</td>\n",
       "      <td>...</td>\n",
       "      <td>NaN</td>\n",
       "      <td>NaN</td>\n",
       "      <td>NaN</td>\n",
       "      <td>NaN</td>\n",
       "      <td>NaN</td>\n",
       "      <td>NaN</td>\n",
       "      <td>NaN</td>\n",
       "      <td>NaN</td>\n",
       "      <td>NaN</td>\n",
       "      <td>NaN</td>\n",
       "    </tr>\n",
       "  </tbody>\n",
       "</table>\n",
       "<p>3 rows × 119 columns</p>\n",
       "</div>"
      ],
      "text/plain": [
       "             index                                            address  \\\n",
       "0    reseptors.com                               REDACTED FOR PRIVACY   \n",
       "1  contentcdns.net                               REDACTED FOR PRIVACY   \n",
       "2       izocab.com  220013, Belarus, Minsk, ul.YA.Kolasa, d.31, kv...   \n",
       "\n",
       "                   city country                               creation_date  \\\n",
       "0  REDACTED FOR PRIVACY      KN  [2021-12-08 08:53:26, 2021-12-08T08:53:26]   \n",
       "1  REDACTED FOR PRIVACY      KN  [2022-02-17 23:18:15, 2022-02-17T23:18:15]   \n",
       "2                 Minsk      BY                         2015-12-30 00:30:35   \n",
       "\n",
       "                 dnssec      domain_name                         emails  \\\n",
       "0              unsigned    RESEPTORS.COM         domainabuse@tucows.com   \n",
       "1              unsigned  CONTENTCDNS.NET         domainabuse@tucows.com   \n",
       "2  [unsigned, Unsigned]       IZOCAB.COM  [abuse@reg.ru, info@brale.ru]   \n",
       "\n",
       "                              expiration_date                  name  ...  \\\n",
       "0  [2022-12-08 08:53:26, 2022-12-08T08:53:26]  REDACTED FOR PRIVACY  ...   \n",
       "1  [2023-02-17 23:18:15, 2023-02-17T23:18:15]  REDACTED FOR PRIVACY  ...   \n",
       "2                         2022-12-30 00:30:35    Vladimir Nikolskii  ...   \n",
       "\n",
       "  tech_phone_ext registrar_zip_code  registrant_type admin_account_name  \\\n",
       "0            NaN                NaN              NaN                NaN   \n",
       "1            NaN                NaN              NaN                NaN   \n",
       "2            NaN                NaN              NaN                NaN   \n",
       "\n",
       "  admin_company_name admin_family_name registrant_company_name  \\\n",
       "0                NaN               NaN                     NaN   \n",
       "1                NaN               NaN                     NaN   \n",
       "2                NaN               NaN                     NaN   \n",
       "\n",
       "  tech_account_name tech_company_name tech_family_name  \n",
       "0               NaN               NaN              NaN  \n",
       "1               NaN               NaN              NaN  \n",
       "2               NaN               NaN              NaN  \n",
       "\n",
       "[3 rows x 119 columns]"
      ]
     },
     "execution_count": 14,
     "metadata": {},
     "output_type": "execute_result"
    }
   ],
   "source": [
    "mal_df.head(3)"
   ]
  },
  {
   "cell_type": "markdown",
   "id": "b549654b",
   "metadata": {},
   "source": [
    "#########"
   ]
  },
  {
   "cell_type": "code",
   "execution_count": 15,
   "id": "f17d2e43",
   "metadata": {},
   "outputs": [],
   "source": [
    "mal_df['malicious'] = 1\n",
    "benign_df['malicious'] = 0"
   ]
  },
  {
   "cell_type": "code",
   "execution_count": 16,
   "id": "7fff72be",
   "metadata": {},
   "outputs": [],
   "source": [
    "combined_df = pd.concat([mal_df,benign_df], axis=0)"
   ]
  },
  {
   "cell_type": "code",
   "execution_count": 17,
   "id": "00a8dc37",
   "metadata": {},
   "outputs": [
    {
     "data": {
      "text/plain": [
       "6342"
      ]
     },
     "execution_count": 17,
     "metadata": {},
     "output_type": "execute_result"
    }
   ],
   "source": [
    "len(combined_df['index'])"
   ]
  },
  {
   "cell_type": "code",
   "execution_count": 18,
   "id": "6fde3b7b",
   "metadata": {},
   "outputs": [
    {
     "name": "stdout",
     "output_type": "stream",
     "text": [
      "Total Rows: 9128\n",
      "Train rows: 7302\n"
     ]
    }
   ],
   "source": [
    "random_seed = 0\n",
    "primary_dataset = pd.read_csv('../data/processed/better_whois_data.csv', low_memory=False) #6510 rows\n",
    "y_col = 'malicious'\n",
    "y = primary_dataset[y_col]\n",
    "X = primary_dataset[primary_dataset.columns.drop(y_col)]\n",
    "X_train, X_test, y_train, y_test = train_test_split(X, y, test_size=0.2, random_state=random_seed)\n",
    "\n",
    "print(f\"Total Rows: {len(primary_dataset)}\")\n",
    "print(f\"Train rows: {len(X_train)}\")"
   ]
  },
  {
   "cell_type": "code",
   "execution_count": 19,
   "id": "4ba8cf2c",
   "metadata": {},
   "outputs": [],
   "source": [
    "DomainRecord_cols = ['index', 'dnssec', 'name', 'malicious']\n",
    "\n",
    "combined_df.loc[:,DomainRecord_cols].to_csv(\"../data/external/combined_whois_data.csv\")\n",
    "combined_df.loc[combined_df['index'].isin(X_train['domain']),DomainRecord_cols].to_csv(\"../data/external/combined_whois_data_train.csv\")\n",
    "combined_df.loc[combined_df['index'].isin(X_test['domain']),DomainRecord_cols].to_csv(\"../data/external/combined_whois_data_test.csv\")"
   ]
  },
  {
   "cell_type": "code",
   "execution_count": 20,
   "id": "6e93d48b",
   "metadata": {},
   "outputs": [],
   "source": [
    "list_of_explode_columns = ['country', 'emails','whois_server', 'domain_status', 'registrar', \n",
    "                           'name_servers']"
   ]
  },
  {
   "cell_type": "code",
   "execution_count": 21,
   "id": "2f763cd5",
   "metadata": {},
   "outputs": [
    {
     "name": "stdout",
     "output_type": "stream",
     "text": [
      "    6367 ../data/external/combined_whois_data_country.csv\n",
      "    5513 ../data/external/combined_whois_data_country_train.csv\n",
      "    1690 ../data/external/combined_whois_data_country_test.csv\n",
      "   13570 total\n",
      "    9319 ../data/external/combined_whois_data_emails.csv\n",
      "    8091 ../data/external/combined_whois_data_emails_train.csv\n",
      "    2450 ../data/external/combined_whois_data_emails_test.csv\n",
      "   19860 total\n",
      "    6343 ../data/external/combined_whois_data_whois_server.csv\n",
      "    5494 ../data/external/combined_whois_data_whois_server_train.csv\n",
      "    1684 ../data/external/combined_whois_data_whois_server_test.csv\n",
      "   13521 total\n",
      "    6358 ../data/external/combined_whois_data_domain_status.csv\n",
      "    5508 ../data/external/combined_whois_data_domain_status_train.csv\n",
      "    1686 ../data/external/combined_whois_data_domain_status_test.csv\n",
      "   13552 total\n",
      "    6343 ../data/external/combined_whois_data_registrar.csv\n",
      "    5494 ../data/external/combined_whois_data_registrar_train.csv\n",
      "    1684 ../data/external/combined_whois_data_registrar_test.csv\n",
      "   13521 total\n",
      "   19602 ../data/external/combined_whois_data_name_servers.csv\n",
      "   17013 ../data/external/combined_whois_data_name_servers_train.csv\n",
      "    5220 ../data/external/combined_whois_data_name_servers_test.csv\n",
      "   41835 total\n"
     ]
    }
   ],
   "source": [
    "for _col in list_of_explode_columns:\n",
    "    combined_df.loc[:,['index',_col]].explode(_col).to_csv(\n",
    "    f\"../data/external/combined_whois_data_{_col}.csv\")\n",
    "    \n",
    "    combined_df.loc[combined_df['index'].isin(X_train['domain']),['index',_col]].explode(_col).to_csv(\n",
    "    f\"../data/external/combined_whois_data_{_col}_train.csv\")\n",
    "    \n",
    "    combined_df.loc[combined_df['index'].isin(X_test['domain']),['index',_col]].explode(_col).to_csv(\n",
    "    f\"../data/external/combined_whois_data_{_col}_test.csv\")\n",
    "    \n",
    "    file1 = f\"../data/external/combined_whois_data_{_col}.csv\"\n",
    "    file2 = f\"../data/external/combined_whois_data_{_col}_train.csv\"\n",
    "    file3 = f\"../data/external/combined_whois_data_{_col}_test.csv\"\n",
    "    \n",
    "    !wc -l $file1 $file2 $file3"
   ]
  },
  {
   "cell_type": "code",
   "execution_count": 22,
   "id": "6bfff9f4",
   "metadata": {},
   "outputs": [],
   "source": [
    "### Entropy data import"
   ]
  },
  {
   "cell_type": "code",
   "execution_count": 23,
   "id": "984ba459",
   "metadata": {},
   "outputs": [
    {
     "name": "stdout",
     "output_type": "stream",
     "text": [
      "    4001 ../data/external/benign_entropy_data.txt\r\n",
      "    3572 ../data/external/benign_entropy_data_train.txt\r\n",
      "     430 ../data/external/benign_entropy_data_test.txt\r\n",
      "    8003 total\r\n"
     ]
    }
   ],
   "source": [
    "# Read in the file\n",
    "with open('../data/raw/benign_entropy_data.txt', 'r') as file :\n",
    "  filedata = file.read()\n",
    "\n",
    "# Replace the target string\n",
    "filedata = filedata.replace('{', '')\n",
    "filedata = filedata.replace('}', '')\n",
    "filedata = filedata.replace(':', ',')\n",
    "\n",
    "# Write the file out again\n",
    "with open('../data/external/benign_entropy_data.txt', 'w') as file:\n",
    "  file.write(filedata)\n",
    "\n",
    "entropy_train = []\n",
    "entropy_test = []\n",
    "\n",
    "for f in filedata.split(\"\\n\"):\n",
    "    domain = f[1:f.find('\"', 1)]\n",
    "    if domain in X_train['domain'].values:\n",
    "        entropy_train.append(f)\n",
    "    else:\n",
    "        entropy_test.append(f)\n",
    "        \n",
    "with open('../data/external/benign_entropy_data_train.txt', 'w') as file:\n",
    "    for item in entropy_train:\n",
    "        file.write(\"%s\\n\" % item)\n",
    "        \n",
    "with open('../data/external/benign_entropy_data_test.txt', 'w') as file:\n",
    "    for item in entropy_test:\n",
    "        file.write(\"%s\\n\" % item)\n",
    "        \n",
    "file1 = '../data/external/benign_entropy_data.txt'\n",
    "file2 = '../data/external/benign_entropy_data_train.txt'\n",
    "file3 = '../data/external/benign_entropy_data_test.txt'\n",
    "\n",
    "!wc -l $file1 $file2 $file3"
   ]
  },
  {
   "cell_type": "code",
   "execution_count": 24,
   "id": "3e032144",
   "metadata": {},
   "outputs": [
    {
     "name": "stdout",
     "output_type": "stream",
     "text": [
      "    2415 ../data/external/malicious_entropy_data.txt\r\n",
      "    1941 ../data/external/malicious_entropy_data_train.txt\r\n",
      "     475 ../data/external/malicious_entropy_data_test.txt\r\n",
      "    4831 total\r\n"
     ]
    }
   ],
   "source": [
    "# Read in the file\n",
    "with open('../data/raw/malicious_entropy_data.txt', 'r') as file :\n",
    "  filedata = file.read()\n",
    "\n",
    "# Replace the target string\n",
    "filedata = filedata.replace('{', '')\n",
    "filedata = filedata.replace('}', '')\n",
    "filedata = filedata.replace(':', ',')\n",
    "\n",
    "# Write the file out again\n",
    "with open('../data/external/malicious_entropy_data.txt', 'w') as file:\n",
    "  file.write(filedata)\n",
    "\n",
    "entropy_train = []\n",
    "entropy_test = []\n",
    "\n",
    "for f in filedata.split(\"\\n\"):\n",
    "    domain = f[1:f.find('\"', 1)]\n",
    "    if domain in X_train['domain'].values:\n",
    "        entropy_train.append(f)\n",
    "    else:\n",
    "        entropy_test.append(f)\n",
    "\n",
    "with open('../data/external/malicious_entropy_data_train.txt', 'w') as file:\n",
    "    for item in entropy_train:\n",
    "        file.write(\"%s\\n\" % item)\n",
    "        \n",
    "with open('../data/external/malicious_entropy_data_test.txt', 'w') as file:\n",
    "    for item in entropy_test:\n",
    "        file.write(\"%s\\n\" % item)\n",
    "        \n",
    "file1 = '../data/external/malicious_entropy_data.txt'\n",
    "file2 = '../data/external/malicious_entropy_data_train.txt'\n",
    "file3 = '../data/external/malicious_entropy_data_test.txt'\n",
    "\n",
    "!wc -l $file1 $file2 $file3"
   ]
  },
  {
   "cell_type": "code",
   "execution_count": 25,
   "id": "59bca6b5",
   "metadata": {},
   "outputs": [
    {
     "name": "stdout",
     "output_type": "stream",
     "text": [
      "Number of line errors: 0\n",
      "Number of lines: 6670\n"
     ]
    }
   ],
   "source": [
    "### Load IP Address Org details\n",
    "\n",
    "import pandas as pd\n",
    "import json\n",
    "\n",
    "b = '../data/raw/benign_ip_data.txt'\n",
    "\n",
    "records = []\n",
    "error_lines = []\n",
    "\n",
    "# load the lines into a list, there are some error lines that needs to be dealt with\n",
    "with open(b) as f: # open file\n",
    "    for line in f.read().splitlines(): # for each line\n",
    "        try:\n",
    "            obj = json.loads(re.sub('.*}{', '{', line)) # load the line, which looks like: {\"domain.name\": {...values...}}\n",
    "            records.append(obj)\n",
    "        except:\n",
    "            error_lines.append(line)\n",
    "        \n",
    "print(f\"Number of line errors: {len(error_lines)}\")  \n",
    "print(f\"Number of lines: {len(records)}\")"
   ]
  },
  {
   "cell_type": "code",
   "execution_count": 26,
   "id": "4c7938a7",
   "metadata": {},
   "outputs": [
    {
     "name": "stdout",
     "output_type": "stream",
     "text": [
      "Number of line errors: 0\n",
      "Number of lines: 9085\n"
     ]
    }
   ],
   "source": [
    "b = '../data/raw/malicious_ip_data.txt'\n",
    "\n",
    "# load the lines into a list, there are some error lines that needs to be dealt with\n",
    "with open(b) as f: # open file\n",
    "    for line in f.read().splitlines(): # for each line\n",
    "        try:\n",
    "            obj = json.loads(re.sub('.*}{', '{', line)) # load the line, which looks like: {\"domain.name\": {...values...}}\n",
    "            records.append(obj)\n",
    "        except:\n",
    "            error_lines.append(line)\n",
    "        \n",
    "print(f\"Number of line errors: {len(error_lines)}\")  \n",
    "print(f\"Number of lines: {len(records)}\")"
   ]
  },
  {
   "cell_type": "code",
   "execution_count": 27,
   "id": "405ce9a4",
   "metadata": {},
   "outputs": [],
   "source": [
    "record_dict = {}\n",
    "for item in records:\n",
    "    name = [x for x in item.keys()][0]\n",
    "    record_dict[name] = item[name]"
   ]
  },
  {
   "cell_type": "code",
   "execution_count": 28,
   "id": "1b9b55f7",
   "metadata": {},
   "outputs": [],
   "source": [
    "error_list = []\n",
    "for x in record_dict:\n",
    "    if type(record_dict[x]) != dict:\n",
    "        error_list.append(x)\n",
    "        \n",
    "for x in error_list:\n",
    "    del record_dict[x]"
   ]
  },
  {
   "cell_type": "code",
   "execution_count": 29,
   "id": "47cdb6d8",
   "metadata": {},
   "outputs": [],
   "source": [
    "org_df = pd.DataFrame.from_dict(record_dict, orient='index')\n",
    "org_df.reset_index(inplace=True)"
   ]
  },
  {
   "cell_type": "code",
   "execution_count": 30,
   "id": "a57c28bf",
   "metadata": {},
   "outputs": [],
   "source": [
    "org_df['A_Org'] = org_df['A'].apply(pd.Series)['Org']\n",
    "org_df['MX_Org'] = org_df['MX'].apply(pd.Series)['Org']"
   ]
  },
  {
   "cell_type": "code",
   "execution_count": 31,
   "id": "70f21310",
   "metadata": {},
   "outputs": [
    {
     "data": {
      "text/html": [
       "<div>\n",
       "<style scoped>\n",
       "    .dataframe tbody tr th:only-of-type {\n",
       "        vertical-align: middle;\n",
       "    }\n",
       "\n",
       "    .dataframe tbody tr th {\n",
       "        vertical-align: top;\n",
       "    }\n",
       "\n",
       "    .dataframe thead th {\n",
       "        text-align: right;\n",
       "    }\n",
       "</style>\n",
       "<table border=\"1\" class=\"dataframe\">\n",
       "  <thead>\n",
       "    <tr style=\"text-align: right;\">\n",
       "      <th></th>\n",
       "      <th>index</th>\n",
       "      <th>A</th>\n",
       "      <th>MX</th>\n",
       "      <th>A_Org</th>\n",
       "      <th>MX_Org</th>\n",
       "    </tr>\n",
       "  </thead>\n",
       "  <tbody>\n",
       "    <tr>\n",
       "      <th>5630</th>\n",
       "      <td>www.gbsjttwdmxqvurwymtuw.com</td>\n",
       "      <td>{'CC': 'RU', 'Org': 'REGRU-MNT'}</td>\n",
       "      <td>{'CC': 'NA', 'Org': 'NA'}</td>\n",
       "      <td>REGRU-MNT</td>\n",
       "      <td>NA</td>\n",
       "    </tr>\n",
       "    <tr>\n",
       "      <th>2087</th>\n",
       "      <td>facebook.ca</td>\n",
       "      <td>{'CC': 'US', 'Org': 'Facebook, Inc.'}</td>\n",
       "      <td>{'CC': 'NA', 'Org': 'NA'}</td>\n",
       "      <td>Facebook, Inc.</td>\n",
       "      <td>NA</td>\n",
       "    </tr>\n",
       "    <tr>\n",
       "      <th>78</th>\n",
       "      <td>lejournaldusiecle.com</td>\n",
       "      <td>{'CC': 'NA', 'Org': 'NA'}</td>\n",
       "      <td>{'CC': 'NA', 'Org': 'NA'}</td>\n",
       "      <td>NA</td>\n",
       "      <td>NA</td>\n",
       "    </tr>\n",
       "    <tr>\n",
       "      <th>6242</th>\n",
       "      <td>togoleruno.site</td>\n",
       "      <td>{'CC': 'NA', 'Org': 'NA'}</td>\n",
       "      <td>{'CC': 'NA', 'Org': 'NA'}</td>\n",
       "      <td>NA</td>\n",
       "      <td>NA</td>\n",
       "    </tr>\n",
       "    <tr>\n",
       "      <th>325</th>\n",
       "      <td>lex-score.com</td>\n",
       "      <td>{'CC': 'NA', 'Org': 'NA'}</td>\n",
       "      <td>{'CC': 'NA', 'Org': 'NA'}</td>\n",
       "      <td>NA</td>\n",
       "      <td>NA</td>\n",
       "    </tr>\n",
       "    <tr>\n",
       "      <th>6113</th>\n",
       "      <td>surroundbest.top</td>\n",
       "      <td>{'CC': 'NA', 'Org': 'NA'}</td>\n",
       "      <td>{'CC': 'NA', 'Org': 'NA'}</td>\n",
       "      <td>NA</td>\n",
       "      <td>NA</td>\n",
       "    </tr>\n",
       "    <tr>\n",
       "      <th>5686</th>\n",
       "      <td>bfrvmquxmaxbcdrrqfrg.com</td>\n",
       "      <td>{'CC': 'RU', 'Org': 'REGRU-MNT'}</td>\n",
       "      <td>{'CC': 'NA', 'Org': 'NA'}</td>\n",
       "      <td>REGRU-MNT</td>\n",
       "      <td>NA</td>\n",
       "    </tr>\n",
       "    <tr>\n",
       "      <th>872</th>\n",
       "      <td>endofanear.com</td>\n",
       "      <td>{'CC': 'US', 'Org': 'Squarespace, Inc.'}</td>\n",
       "      <td>{'CC': 'US', 'Org': 'pair Networks'}</td>\n",
       "      <td>Squarespace, Inc.</td>\n",
       "      <td>pair Networks</td>\n",
       "    </tr>\n",
       "    <tr>\n",
       "      <th>3230</th>\n",
       "      <td>momsdreamjob.com</td>\n",
       "      <td>{'CC': 'US', 'Org': 'Contract Fourteen - MDR'}</td>\n",
       "      <td>{'CC': 'NA', 'Org': 'NA'}</td>\n",
       "      <td>Contract Fourteen - MDR</td>\n",
       "      <td>NA</td>\n",
       "    </tr>\n",
       "    <tr>\n",
       "      <th>1473</th>\n",
       "      <td>krauthammer.com</td>\n",
       "      <td>{'CC': 'NA', 'Org': 'NA'}</td>\n",
       "      <td>{'CC': 'NA', 'Org': 'NA'}</td>\n",
       "      <td>NA</td>\n",
       "      <td>NA</td>\n",
       "    </tr>\n",
       "  </tbody>\n",
       "</table>\n",
       "</div>"
      ],
      "text/plain": [
       "                             index  \\\n",
       "5630  www.gbsjttwdmxqvurwymtuw.com   \n",
       "2087                   facebook.ca   \n",
       "78           lejournaldusiecle.com   \n",
       "6242               togoleruno.site   \n",
       "325                  lex-score.com   \n",
       "6113              surroundbest.top   \n",
       "5686      bfrvmquxmaxbcdrrqfrg.com   \n",
       "872                 endofanear.com   \n",
       "3230              momsdreamjob.com   \n",
       "1473               krauthammer.com   \n",
       "\n",
       "                                                   A  \\\n",
       "5630                {'CC': 'RU', 'Org': 'REGRU-MNT'}   \n",
       "2087           {'CC': 'US', 'Org': 'Facebook, Inc.'}   \n",
       "78                         {'CC': 'NA', 'Org': 'NA'}   \n",
       "6242                       {'CC': 'NA', 'Org': 'NA'}   \n",
       "325                        {'CC': 'NA', 'Org': 'NA'}   \n",
       "6113                       {'CC': 'NA', 'Org': 'NA'}   \n",
       "5686                {'CC': 'RU', 'Org': 'REGRU-MNT'}   \n",
       "872         {'CC': 'US', 'Org': 'Squarespace, Inc.'}   \n",
       "3230  {'CC': 'US', 'Org': 'Contract Fourteen - MDR'}   \n",
       "1473                       {'CC': 'NA', 'Org': 'NA'}   \n",
       "\n",
       "                                        MX                    A_Org  \\\n",
       "5630             {'CC': 'NA', 'Org': 'NA'}                REGRU-MNT   \n",
       "2087             {'CC': 'NA', 'Org': 'NA'}           Facebook, Inc.   \n",
       "78               {'CC': 'NA', 'Org': 'NA'}                       NA   \n",
       "6242             {'CC': 'NA', 'Org': 'NA'}                       NA   \n",
       "325              {'CC': 'NA', 'Org': 'NA'}                       NA   \n",
       "6113             {'CC': 'NA', 'Org': 'NA'}                       NA   \n",
       "5686             {'CC': 'NA', 'Org': 'NA'}                REGRU-MNT   \n",
       "872   {'CC': 'US', 'Org': 'pair Networks'}        Squarespace, Inc.   \n",
       "3230             {'CC': 'NA', 'Org': 'NA'}  Contract Fourteen - MDR   \n",
       "1473             {'CC': 'NA', 'Org': 'NA'}                       NA   \n",
       "\n",
       "             MX_Org  \n",
       "5630             NA  \n",
       "2087             NA  \n",
       "78               NA  \n",
       "6242             NA  \n",
       "325              NA  \n",
       "6113             NA  \n",
       "5686             NA  \n",
       "872   pair Networks  \n",
       "3230             NA  \n",
       "1473             NA  "
      ]
     },
     "execution_count": 31,
     "metadata": {},
     "output_type": "execute_result"
    }
   ],
   "source": [
    "org_df.sample(10)"
   ]
  },
  {
   "cell_type": "code",
   "execution_count": 32,
   "id": "9d5f2b6d",
   "metadata": {},
   "outputs": [
    {
     "name": "stdout",
     "output_type": "stream",
     "text": [
      "    2387 ../data/external/combined_mx_org.csv\n",
      "    2158 ../data/external/combined_mx_org_train.csv\n",
      "     713 ../data/external/combined_mx_org_test.csv\n",
      "    5258 total\n",
      "    4158 ../data/external/combined_A_org.csv\n",
      "    2158 ../data/external/combined_A_org_train.csv\n",
      "    2158 ../data/external/combined_A_org_test.csv\n",
      "    8474 total\n"
     ]
    }
   ],
   "source": [
    "org_df.loc[org_df['MX_Org']!=\"NA\",[\"index\",\"MX_Org\"]].to_csv(\"../data/external/combined_mx_org.csv\")\n",
    "org_df.loc[(org_df['MX_Org']!=\"NA\") & (org_df['index'].isin(X_train['domain'])) ,[\"index\",\"MX_Org\"]].to_csv(\"../data/external/combined_mx_org_train.csv\")\n",
    "org_df.loc[(org_df['MX_Org']!=\"NA\") & (org_df['index'].isin(X_test['domain'])),[\"index\",\"MX_Org\"]].to_csv(\"../data/external/combined_mx_org_test.csv\")\n",
    "\n",
    "org_df.loc[org_df['A_Org']!=\"NA\",[\"index\",\"A_Org\"]].to_csv(\"../data/external/combined_A_org.csv\")\n",
    "org_df.loc[(org_df['MX_Org']!=\"NA\") & (org_df['index'].isin(X_train['domain'])),[\"index\",\"A_Org\"]].to_csv(\"../data/external/combined_A_org_train.csv\")\n",
    "org_df.loc[(org_df['MX_Org']!=\"NA\") & (org_df['index'].isin(X_train['domain'])),[\"index\",\"A_Org\"]].to_csv(\"../data/external/combined_A_org_test.csv\")\n",
    "\n",
    "file1 = \"../data/external/combined_mx_org.csv\"\n",
    "file2 = \"../data/external/combined_mx_org_train.csv\"\n",
    "file3 = \"../data/external/combined_mx_org_test.csv\"\n",
    "\n",
    "!wc -l $file1 $file2 $file3\n",
    "\n",
    "file1 = \"../data/external/combined_A_org.csv\"\n",
    "file2 = \"../data/external/combined_A_org_train.csv\"\n",
    "file3 = \"../data/external/combined_A_org_test.csv\"\n",
    "\n",
    "!wc -l $file1 $file2 $file3"
   ]
  },
  {
   "cell_type": "code",
   "execution_count": 33,
   "id": "6ad09364",
   "metadata": {},
   "outputs": [
    {
     "name": "stdout",
     "output_type": "stream",
     "text": [
      "CONTAINER ID   IMAGE                                     COMMAND                  CREATED       STATUS         PORTS                                                                                                                               NAMES\r\n",
      "38e46715231e   docker.tigergraph.com/tigergraph:latest   \"/bin/sh -c '/usr/sb…\"   3 weeks ago   Up 4 minutes   0.0.0.0:9000->9000/tcp, :::9000->9000/tcp, 0.0.0.0:14240->14240/tcp, :::14240->14240/tcp, 0.0.0.0:14022->22/tcp, :::14022->22/tcp   tigergraph\r\n"
     ]
    }
   ],
   "source": [
    "!docker ps"
   ]
  },
  {
   "cell_type": "code",
   "execution_count": 34,
   "id": "a23defb7",
   "metadata": {},
   "outputs": [],
   "source": [
    "# To start tigergraph docker\n",
    "# https://docs.tigergraph.com/tigergraph-server/current/getting-started/docker\n",
    "#  docker run -d -p 14022:22 -p 9000:9000 -p 14240:14240 --name tigergraph --ulimit nofile=1000000:1000000 -v /Users/nb311848/Documents/mystuff/repos/artemis/data/external:/home/tigergraph/data -t docker.tigergraph.com/tigergraph:latest\n"
   ]
  },
  {
   "cell_type": "code",
   "execution_count": 113,
   "id": "c32e9d08",
   "metadata": {},
   "outputs": [],
   "source": [
    "conn = tg.TigerGraphConnection()\n"
   ]
  },
  {
   "cell_type": "code",
   "execution_count": 114,
   "id": "bb9ce5f7",
   "metadata": {},
   "outputs": [],
   "source": [
    "# print(conn.gsql('CLEAR GRAPH STORE -HARD'))"
   ]
  },
  {
   "cell_type": "code",
   "execution_count": 115,
   "id": "56c9ccf4",
   "metadata": {},
   "outputs": [
    {
     "name": "stdout",
     "output_type": "stream",
     "text": [
      "Dropping all, about 1 minute ...\n",
      "Abort all active loading jobs\n",
      "Try to abort all loading jobs on graph Artemis, it may take a while ...\n",
      "[ABORT_SUCCESS] No active Loading Job to abort.\n",
      "Resetting GPE...\n",
      "Successfully reset GPE and GSE\n",
      "Stopping GPE GSE\n",
      "Successfully stopped GPE GSE in 0.005 seconds\n",
      "Clearing graph store...\n",
      "Successfully cleared graph store\n",
      "Starting GPE GSE RESTPP\n",
      "Successfully started GPE GSE RESTPP in 0.086 seconds\n",
      "Everything is dropped.\n"
     ]
    }
   ],
   "source": [
    "# Clear the Tigergraph server/graph as we want to reproduce the graph creation from scratch\n",
    "## CAUTION: this wipes everything inside your TigerGraph container !!\n",
    "\n",
    "print(conn.gsql('drop all', options=[]))"
   ]
  },
  {
   "cell_type": "code",
   "execution_count": 116,
   "id": "06574e76",
   "metadata": {},
   "outputs": [],
   "source": [
    "# Read in the GSQL code that creates the Graph / Schema / Loading Jobs and Queries on TigerGraph\n",
    "\n",
    "text_file = open(\"../src/scripts/DBImportExport_Artemis.gsql\", \"r\")\n",
    " \n",
    "#read whole file to a string\n",
    "artemis_graph_gsql = text_file.read()\n",
    " \n",
    "#close file\n",
    "text_file.close()\n",
    " \n",
    "# print(artemis_graph_gsql)"
   ]
  },
  {
   "cell_type": "code",
   "execution_count": 117,
   "id": "334ad7e6",
   "metadata": {},
   "outputs": [
    {
     "name": "stdout",
     "output_type": "stream",
     "text": [
      "Stopping GPE GSE RESTPP\n",
      "Successfully stopped GPE GSE RESTPP in 30.539 seconds\n",
      "Starting GPE GSE RESTPP\n",
      "Successfully started GPE GSE RESTPP in 0.083 seconds\n",
      "The graph Artemis is created.\n",
      "Successfully created schema change jobs: [create_artemis_graph].\n",
      "\n",
      "Current graph version 0\n",
      "Trying to add vertex DomainRecord.\n",
      "Trying to add vertex DomainName.\n",
      "Trying to add vertex Country.\n",
      "Trying to add vertex City.\n",
      "Trying to add vertex Emails.\n",
      "Trying to add vertex Organisation.\n",
      "Trying to add vertex Nameserver.\n",
      "Trying to add vertex Registrar.\n",
      "Trying to add vertex DomainRecordStatus.\n",
      "Trying to add vertex WhoisServer.\n",
      "Trying to add edge DomainRecord_DomainName.\n",
      "Trying to add edge Country_City.\n",
      "Trying to add edge DomainRecord_Country.\n",
      "Trying to add edge DomainRecord_Emails.\n",
      "Trying to add edge DomainRecord_Organisation.\n",
      "Trying to add edge DomainRecord_Nameserver.\n",
      "Trying to add edge DomainRecord_Registrar.\n",
      "Trying to add edge DomainRecord_DomainRecordStatus.\n",
      "Trying to add edge DomainRecord_WhoisServer.\n",
      "Trying to add edge DomainRecord_A_Org.\n",
      "Trying to add edge DomainRecord_MX_Org.\n",
      "Trying to add edge co_registrar.\n",
      "Trying to add edge co_org.\n",
      "Trying to add edge co_nameserver.\n",
      "Kick off job create_artemis_graph\n",
      "\n",
      "Graph Artemis update to new version 1\n",
      "The job create_artemis_graph completes in 8.638 seconds!\n",
      "Successfully dropped jobs on the graph 'Artemis': [create_artemis_graph].\n",
      "Successfully created loading jobs: [load_job_whois_data].\n",
      "Successfully created loading jobs: [load_job_whois_data_country].\n",
      "Successfully created loading jobs: [load_job_whois_data_domain_name].\n",
      "Successfully created loading jobs: [load_job_whois_data_domain_status].\n",
      "Successfully created loading jobs: [load_job_whois_data_emails].\n",
      "Successfully created loading jobs: [load_job_whois_data_name_servers].\n",
      "Successfully created loading jobs: [load_job_whois_data_registrar].\n",
      "Successfully created loading jobs: [load_job_whois_data_whois_server].\n",
      "Successfully created loading jobs: [load_job_entropy].\n",
      "Successfully created loading jobs: [load_job_A_org].\n",
      "Successfully created loading jobs: [load_job_MX_org].\n",
      "Successfully created queries: [community_stuff].\n",
      "Successfully created queries: [delete_co_edges].\n",
      "Successfully created queries: [delete_co_loop_edges].\n",
      "Successfully created queries: [tg_label_prop].\n",
      "Warning in query tg_louvain (WARN-5): line 272, col 25\n",
      "The comparison '-t.@max_best_move.weight==t.@sum_cc_weight' may lead to\n",
      "unexpected behavior because it involves equality test between float/double\n",
      "numeric values. We suggest to do such comparison with an error margin, e.g.\n",
      "'abs((-t.@max_best_move.weight) - (t.@sum_cc_weight)) < epsilon', where epsilon\n",
      "is a very small positive value of your choice, such as 0.0001.\n",
      "Warning in query tg_louvain (WARN-5): line 348, col 29\n",
      "The comparison '-s.@max_best_move.weight==s.@sum_cc_weight' may lead to\n",
      "unexpected behavior because it involves equality test between float/double\n",
      "numeric values. We suggest to do such comparison with an error margin, e.g.\n",
      "'abs((-s.@max_best_move.weight) - (s.@sum_cc_weight)) < epsilon', where epsilon\n",
      "is a very small positive value of your choice, such as 0.0001.\n",
      "Successfully created queries: [tg_louvain].\n",
      "Successfully created queries: [community_features_calc].\n",
      "Successfully created queries: [lfp_new_nodes_label_prop].\n"
     ]
    }
   ],
   "source": [
    "# Run the GSQL script and print the results (Check for any errors)\n",
    "\n",
    "print(conn.gsql(artemis_graph_gsql, options=[]))"
   ]
  },
  {
   "cell_type": "code",
   "execution_count": 118,
   "id": "4501f584",
   "metadata": {},
   "outputs": [
    {
     "name": "stdout",
     "output_type": "stream",
     "text": [
      "Start installing queries, about 1 minute ...\n",
      "delete_co_edges query: curl -X GET 'http://127.0.0.1:9000/query/Artemis/delete_co_edges'. Add -H \"Authorization: Bearer TOKEN\" if authentication is enabled.\n",
      "tg_louvain query: curl -X GET 'http://127.0.0.1:9000/query/Artemis/tg_louvain?v_type=VALUE&e_type=VALUE&[wt_attr=VALUE]&[max_iter=VALUE]&[result_attr=VALUE]&[file_path=VALUE]&[print_info=VALUE]'. Add -H \"Authorization: Bearer TOKEN\" if authentication is enabled.\n",
      "community_stuff query: curl -X GET 'http://127.0.0.1:9000/query/Artemis/community_stuff'. Add -H \"Authorization: Bearer TOKEN\" if authentication is enabled.\n",
      "tg_label_prop query: curl -X GET 'http://127.0.0.1:9000/query/Artemis/tg_label_prop?v_type=VALUE&e_type=VALUE&max_iter=VALUE&output_limit=VALUE&[print_accum=VALUE]&[file_path=VALUE]&[attr=VALUE]'. Add -H \"Authorization: Bearer TOKEN\" if authentication is enabled.\n",
      "community_features_calc query: curl -X GET 'http://127.0.0.1:9000/query/Artemis/community_features_calc'. Add -H \"Authorization: Bearer TOKEN\" if authentication is enabled.\n",
      "delete_co_loop_edges query: curl -X GET 'http://127.0.0.1:9000/query/Artemis/delete_co_loop_edges'. Add -H \"Authorization: Bearer TOKEN\" if authentication is enabled.\n",
      "lfp_new_nodes_label_prop query: curl -X GET 'http://127.0.0.1:9000/query/Artemis/lfp_new_nodes_label_prop?v_type=VALUE&e_type=VALUE&max_iter=VALUE&output_limit=VALUE&[print_accum=VALUE]&[file_path=VALUE]&[attr=VALUE]'. Add -H \"Authorization: Bearer TOKEN\" if authentication is enabled.\n",
      "Select 'm1' as compile server, now connecting ...\n",
      "Node 'm1' is prepared as compile server.\n",
      "\n",
      "Query installation finished.\n"
     ]
    }
   ],
   "source": [
    "print(conn.gsql('INSTALL QUERY ALL', options=[]))"
   ]
  },
  {
   "cell_type": "code",
   "execution_count": 145,
   "id": "0111c392",
   "metadata": {},
   "outputs": [],
   "source": [
    "# set train / test switch\n",
    "train_test = 'test'"
   ]
  },
  {
   "cell_type": "code",
   "execution_count": 146,
   "id": "b205d401",
   "metadata": {},
   "outputs": [],
   "source": [
    "# Generic loading job string\n",
    "\n",
    "loading_job = \"\"\"RUN LOADING JOB load_job_whois_data{field1} USING MyDataSource=\"/home/tigergraph/data/combined_whois_data{field2}.csv\\\"\"\"\""
   ]
  },
  {
   "cell_type": "code",
   "execution_count": 147,
   "id": "93e99991",
   "metadata": {},
   "outputs": [
    {
     "name": "stdout",
     "output_type": "stream",
     "text": [
      "\u001b[2A\n",
      "\u001b[2K\n",
      "\u001b[2K\n",
      "[Tip: Use \"CTRL + C\" to stop displaying the loading status update, then use \"SHOW LOADING STATUS jobid\" to track the loading progress again]\n",
      "[Tip: Manage loading jobs with \"ABORT/RESUME LOADING JOB jobid\"]\n",
      "Starting the following job, i.e.\n",
      "JobName: load_job_whois_data, jobid: Artemis.load_job_whois_data.file.m1.1650114214669\n",
      "Loading log: '/home/tigergraph/tigergraph/log/restpp/restpp_loader_logs/Artemis/Artemis.load_job_whois_data.file.m1.1650114214669.log'\n",
      "\n",
      "Job \"Artemis.load_job_whois_data.file.m1.1650114214669\" loading status\n",
      "[WAITING] m1 ( Finished: 0 / Total: 0 )\n",
      "Job \"Artemis.load_job_whois_data.file.m1.1650114214669\" loading status\n",
      "[FINISHED] m1 ( Finished: 1 / Total: 1 )\n",
      "[LOADED]\n",
      "+----------------------------------------------------------------------------------------------+\n",
      "|                                          FILENAME |   LOADED LINES |   AVG SPEED |   DURATION|\n",
      "|/home/tigergraph/data/combined_whois_data_test.csv |           1684 |     16 kl/s |     0.10 s|\n",
      "+----------------------------------------------------------------------------------------------+\n",
      "\u001b[2A\n",
      "\u001b[2K\n",
      "\u001b[2K\n",
      "[Tip: Use \"CTRL + C\" to stop displaying the loading status update, then use \"SHOW LOADING STATUS jobid\" to track the loading progress again]\n",
      "[Tip: Manage loading jobs with \"ABORT/RESUME LOADING JOB jobid\"]\n",
      "Starting the following job, i.e.\n",
      "JobName: load_job_whois_data_country, jobid: Artemis.load_job_whois_data_country.file.m1.1650114220222\n",
      "Loading log: '/home/tigergraph/tigergraph/log/restpp/restpp_loader_logs/Artemis/Artemis.load_job_whois_data_country.file.m1.1650114220222.log'\n",
      "\n",
      "Job \"Artemis.load_job_whois_data_country.file.m1.1650114220222\" loading status\n",
      "[WAITING] m1 ( Finished: 0 / Total: 0 )\n",
      "Job \"Artemis.load_job_whois_data_country.file.m1.1650114220222\" loading status\n",
      "[FINISHED] m1 ( Finished: 1 / Total: 1 )\n",
      "[LOADED]\n",
      "+------------------------------------------------------------------------------------------------------+\n",
      "|                                                  FILENAME |   LOADED LINES |   AVG SPEED |   DURATION|\n",
      "|/home/tigergraph/data/combined_whois_data_country_test.csv |           1690 |     16 kl/s |     0.11 s|\n",
      "+------------------------------------------------------------------------------------------------------+\n",
      "\u001b[2A\n",
      "\u001b[2K\n",
      "\u001b[2K\n",
      "[Tip: Use \"CTRL + C\" to stop displaying the loading status update, then use \"SHOW LOADING STATUS jobid\" to track the loading progress again]\n",
      "[Tip: Manage loading jobs with \"ABORT/RESUME LOADING JOB jobid\"]\n",
      "Starting the following job, i.e.\n",
      "JobName: load_job_whois_data_emails, jobid: Artemis.load_job_whois_data_emails.file.m1.1650114225536\n",
      "Loading log: '/home/tigergraph/tigergraph/log/restpp/restpp_loader_logs/Artemis/Artemis.load_job_whois_data_emails.file.m1.1650114225536.log'\n",
      "\n",
      "Job \"Artemis.load_job_whois_data_emails.file.m1.1650114225536\" loading status\n",
      "[WAITING] m1 ( Finished: 0 / Total: 0 )\n",
      "Job \"Artemis.load_job_whois_data_emails.file.m1.1650114225536\" loading status\n",
      "[FINISHED] m1 ( Finished: 1 / Total: 1 )\n",
      "[LOADED]\n",
      "+-----------------------------------------------------------------------------------------------------+\n",
      "|                                                 FILENAME |   LOADED LINES |   AVG SPEED |   DURATION|\n",
      "|/home/tigergraph/data/combined_whois_data_emails_test.csv |           2450 |     22 kl/s |     0.11 s|\n",
      "+-----------------------------------------------------------------------------------------------------+\n",
      "\u001b[2A\n",
      "\u001b[2K\n",
      "\u001b[2K\n",
      "[Tip: Use \"CTRL + C\" to stop displaying the loading status update, then use \"SHOW LOADING STATUS jobid\" to track the loading progress again]\n",
      "[Tip: Manage loading jobs with \"ABORT/RESUME LOADING JOB jobid\"]\n",
      "Starting the following job, i.e.\n",
      "JobName: load_job_whois_data_whois_server, jobid: Artemis.load_job_whois_data_whois_server.file.m1.1650114230872\n",
      "Loading log: '/home/tigergraph/tigergraph/log/restpp/restpp_loader_logs/Artemis/Artemis.load_job_whois_data_whois_server.file.m1.1650114230872.log'\n",
      "\n",
      "Job \"Artemis.load_job_whois_data_whois_server.file.m1.1650114230872\" loading status\n",
      "[WAITING] m1 ( Finished: 0 / Total: 0 )\n",
      "Job \"Artemis.load_job_whois_data_whois_server.file.m1.1650114230872\" loading status\n",
      "[FINISHED] m1 ( Finished: 1 / Total: 1 )\n",
      "[LOADED]\n",
      "+-----------------------------------------------------------------------------------------------------------+\n",
      "|                                                       FILENAME |   LOADED LINES |   AVG SPEED |   DURATION|\n",
      "|/home/tigergraph/data/combined_whois_data_whois_server_test.csv |           1684 |     15 kl/s |     0.11 s|\n",
      "+-----------------------------------------------------------------------------------------------------------+\n",
      "\u001b[2A\n",
      "\u001b[2K\n",
      "\u001b[2K\n",
      "[Tip: Use \"CTRL + C\" to stop displaying the loading status update, then use \"SHOW LOADING STATUS jobid\" to track the loading progress again]\n",
      "[Tip: Manage loading jobs with \"ABORT/RESUME LOADING JOB jobid\"]\n",
      "Starting the following job, i.e.\n",
      "JobName: load_job_whois_data_domain_status, jobid: Artemis.load_job_whois_data_domain_status.file.m1.1650114236189\n",
      "Loading log: '/home/tigergraph/tigergraph/log/restpp/restpp_loader_logs/Artemis/Artemis.load_job_whois_data_domain_status.file.m1.1650114236189.log'\n",
      "\n",
      "Job \"Artemis.load_job_whois_data_domain_status.file.m1.1650114236189\" loading status\n",
      "[RUNNING] m1 ( Finished: 0 / Total: 1 )\n",
      "Job \"Artemis.load_job_whois_data_domain_status.file.m1.1650114236189\" loading status\n",
      "[FINISHED] m1 ( Finished: 1 / Total: 1 )\n",
      "[LOADED]\n",
      "+------------------------------------------------------------------------------------------------------------+\n",
      "|                                                        FILENAME |   LOADED LINES |   AVG SPEED |   DURATION|\n",
      "|/home/tigergraph/data/combined_whois_data_domain_status_test.csv |           1686 |     16 kl/s |     0.10 s|\n",
      "+------------------------------------------------------------------------------------------------------------+\n",
      "\u001b[2A\n",
      "\u001b[2K\n",
      "\u001b[2K\n",
      "[Tip: Use \"CTRL + C\" to stop displaying the loading status update, then use \"SHOW LOADING STATUS jobid\" to track the loading progress again]\n",
      "[Tip: Manage loading jobs with \"ABORT/RESUME LOADING JOB jobid\"]\n",
      "Starting the following job, i.e.\n",
      "JobName: load_job_whois_data_registrar, jobid: Artemis.load_job_whois_data_registrar.file.m1.1650114241753\n",
      "Loading log: '/home/tigergraph/tigergraph/log/restpp/restpp_loader_logs/Artemis/Artemis.load_job_whois_data_registrar.file.m1.1650114241753.log'\n",
      "\n",
      "Job \"Artemis.load_job_whois_data_registrar.file.m1.1650114241753\" loading status\n",
      "[WAITING] m1 ( Finished: 0 / Total: 0 )\n",
      "Job \"Artemis.load_job_whois_data_registrar.file.m1.1650114241753\" loading status\n",
      "[FINISHED] m1 ( Finished: 1 / Total: 1 )\n",
      "[LOADED]\n",
      "+--------------------------------------------------------------------------------------------------------+\n",
      "|                                                    FILENAME |   LOADED LINES |   AVG SPEED |   DURATION|\n",
      "|/home/tigergraph/data/combined_whois_data_registrar_test.csv |           1684 |     16 kl/s |     0.10 s|\n",
      "+--------------------------------------------------------------------------------------------------------+\n",
      "\u001b[2A\n",
      "\u001b[2K\n",
      "\u001b[2K\n",
      "[Tip: Use \"CTRL + C\" to stop displaying the loading status update, then use \"SHOW LOADING STATUS jobid\" to track the loading progress again]\n",
      "[Tip: Manage loading jobs with \"ABORT/RESUME LOADING JOB jobid\"]\n",
      "Starting the following job, i.e.\n",
      "JobName: load_job_whois_data_name_servers, jobid: Artemis.load_job_whois_data_name_servers.file.m1.1650114247087\n",
      "Loading log: '/home/tigergraph/tigergraph/log/restpp/restpp_loader_logs/Artemis/Artemis.load_job_whois_data_name_servers.file.m1.1650114247087.log'\n",
      "\n",
      "Job \"Artemis.load_job_whois_data_name_servers.file.m1.1650114247087\" loading status\n",
      "[WAITING] m1 ( Finished: 0 / Total: 0 )\n",
      "Job \"Artemis.load_job_whois_data_name_servers.file.m1.1650114247087\" loading status\n",
      "[FINISHED] m1 ( Finished: 1 / Total: 1 )\n",
      "[LOADED]\n",
      "+-----------------------------------------------------------------------------------------------------------+\n",
      "|                                                       FILENAME |   LOADED LINES |   AVG SPEED |   DURATION|\n",
      "|/home/tigergraph/data/combined_whois_data_name_servers_test.csv |           5220 |     48 kl/s |     0.11 s|\n",
      "+-----------------------------------------------------------------------------------------------------------+\n"
     ]
    }
   ],
   "source": [
    "# Execute the loading job string for the listed data files\n",
    "\n",
    "\n",
    "\n",
    "print(conn.gsql(loading_job.format(field1=f\"\",field2=f\"_{train_test}\"),graphname='Artemis', options=[]))\n",
    "\n",
    "for x in list_of_explode_columns:\n",
    "    print(conn.gsql(loading_job.format(field1=f\"_{x}\",field2=f\"_{x}_{train_test}\"),graphname='Artemis', options=[]))                       "
   ]
  },
  {
   "cell_type": "code",
   "execution_count": 148,
   "id": "7d3bbe3b",
   "metadata": {},
   "outputs": [
    {
     "name": "stdout",
     "output_type": "stream",
     "text": [
      "\u001b[2A\n",
      "\u001b[2K\n",
      "\u001b[2K\n",
      "[Tip: Use \"CTRL + C\" to stop displaying the loading status update, then use \"SHOW LOADING STATUS jobid\" to track the loading progress again]\n",
      "[Tip: Manage loading jobs with \"ABORT/RESUME LOADING JOB jobid\"]\n",
      "Starting the following job, i.e.\n",
      "JobName: load_job_entropy, jobid: Artemis.load_job_entropy.file.m1.1650114252415\n",
      "Loading log: '/home/tigergraph/tigergraph/log/restpp/restpp_loader_logs/Artemis/Artemis.load_job_entropy.file.m1.1650114252415.log'\n",
      "\n",
      "Job \"Artemis.load_job_entropy.file.m1.1650114252415\" loading status\n",
      "[WAITING] m1 ( Finished: 0 / Total: 0 )\n",
      "Job \"Artemis.load_job_entropy.file.m1.1650114252415\" loading status\n",
      "[FINISHED] m1 ( Finished: 1 / Total: 1 )\n",
      "[LOADED]\n",
      "+----------------------------------------------------------------------------------------------+\n",
      "|                                          FILENAME |   LOADED LINES |   AVG SPEED |   DURATION|\n",
      "|/home/tigergraph/data/benign_entropy_data_test.txt |            430 |      4 kl/s |     0.10 s|\n",
      "+----------------------------------------------------------------------------------------------+\n",
      "\u001b[2A\n",
      "\u001b[2K\n",
      "\u001b[2K\n",
      "[Tip: Use \"CTRL + C\" to stop displaying the loading status update, then use \"SHOW LOADING STATUS jobid\" to track the loading progress again]\n",
      "[Tip: Manage loading jobs with \"ABORT/RESUME LOADING JOB jobid\"]\n",
      "Starting the following job, i.e.\n",
      "JobName: load_job_entropy, jobid: Artemis.load_job_entropy.file.m1.1650114257982\n",
      "Loading log: '/home/tigergraph/tigergraph/log/restpp/restpp_loader_logs/Artemis/Artemis.load_job_entropy.file.m1.1650114257982.log'\n",
      "\n",
      "Job \"Artemis.load_job_entropy.file.m1.1650114257982\" loading status\n",
      "[RUNNING] m1 ( Finished: 0 / Total: 1 )\n",
      "Job \"Artemis.load_job_entropy.file.m1.1650114257982\" loading status\n",
      "[FINISHED] m1 ( Finished: 1 / Total: 1 )\n",
      "[LOADED]\n",
      "+-------------------------------------------------------------------------------------------------+\n",
      "|                                             FILENAME |   LOADED LINES |   AVG SPEED |   DURATION|\n",
      "|/home/tigergraph/data/malicious_entropy_data_test.txt |            475 |      4 kl/s |     0.10 s|\n",
      "+-------------------------------------------------------------------------------------------------+\n"
     ]
    }
   ],
   "source": [
    "# Load entropy data\n",
    "loading_job = f'RUN LOADING JOB load_job_entropy USING MyDataSource=\"/home/tigergraph/data/benign_entropy_data_{train_test}.txt\"'\n",
    "print(conn.gsql(loading_job, graphname='Artemis', options=[]))\n",
    "\n",
    "loading_job = f'RUN LOADING JOB load_job_entropy USING MyDataSource=\"/home/tigergraph/data/malicious_entropy_data_{train_test}.txt\"'\n",
    "print(conn.gsql(loading_job, graphname='Artemis', options=[]))"
   ]
  },
  {
   "cell_type": "code",
   "execution_count": 149,
   "id": "ac8fcf40",
   "metadata": {},
   "outputs": [
    {
     "name": "stdout",
     "output_type": "stream",
     "text": [
      "\u001b[2A\n",
      "\u001b[2K\n",
      "\u001b[2K\n",
      "[Tip: Use \"CTRL + C\" to stop displaying the loading status update, then use \"SHOW LOADING STATUS jobid\" to track the loading progress again]\n",
      "[Tip: Manage loading jobs with \"ABORT/RESUME LOADING JOB jobid\"]\n",
      "Starting the following job, i.e.\n",
      "JobName: load_job_A_org, jobid: Artemis.load_job_A_org.file.m1.1650114263545\n",
      "Loading log: '/home/tigergraph/tigergraph/log/restpp/restpp_loader_logs/Artemis/Artemis.load_job_A_org.file.m1.1650114263545.log'\n",
      "\n",
      "Job \"Artemis.load_job_A_org.file.m1.1650114263545\" loading status\n",
      "[WAITING] m1 ( Finished: 0 / Total: 0 )\n",
      "Job \"Artemis.load_job_A_org.file.m1.1650114263545\" loading status\n",
      "[FINISHED] m1 ( Finished: 1 / Total: 1 )\n",
      "[LOADED]\n",
      "+-----------------------------------------------------------------------------------------+\n",
      "|                                     FILENAME |   LOADED LINES |   AVG SPEED |   DURATION|\n",
      "|/home/tigergraph/data/combined_A_org_test.csv |           2158 |     18 kl/s |     0.12 s|\n",
      "+-----------------------------------------------------------------------------------------+\n",
      "\u001b[2A\n",
      "\u001b[2K\n",
      "\u001b[2K\n",
      "[Tip: Use \"CTRL + C\" to stop displaying the loading status update, then use \"SHOW LOADING STATUS jobid\" to track the loading progress again]\n",
      "[Tip: Manage loading jobs with \"ABORT/RESUME LOADING JOB jobid\"]\n",
      "Starting the following job, i.e.\n",
      "JobName: load_job_MX_org, jobid: Artemis.load_job_MX_org.file.m1.1650114268847\n",
      "Loading log: '/home/tigergraph/tigergraph/log/restpp/restpp_loader_logs/Artemis/Artemis.load_job_MX_org.file.m1.1650114268847.log'\n",
      "\n",
      "Job \"Artemis.load_job_MX_org.file.m1.1650114268847\" loading status\n",
      "[WAITING] m1 ( Finished: 0 / Total: 0 )\n",
      "Job \"Artemis.load_job_MX_org.file.m1.1650114268847\" loading status\n",
      "[FINISHED] m1 ( Finished: 1 / Total: 1 )\n",
      "[LOADED]\n",
      "+------------------------------------------------------------------------------------------+\n",
      "|                                      FILENAME |   LOADED LINES |   AVG SPEED |   DURATION|\n",
      "|/home/tigergraph/data/combined_MX_org_test.csv |            713 |      6 kl/s |     0.11 s|\n",
      "+------------------------------------------------------------------------------------------+\n"
     ]
    }
   ],
   "source": [
    "# Load MX / A org data\n",
    "loading_job = f'RUN LOADING JOB load_job_A_org USING MyDataSource=\"/home/tigergraph/data/combined_A_org_{train_test}.csv\"'\n",
    "print(conn.gsql(loading_job, graphname='Artemis', options=[]))\n",
    "\n",
    "loading_job = f'RUN LOADING JOB load_job_MX_org USING MyDataSource=\"/home/tigergraph/data/combined_MX_org_{train_test}.csv\"'\n",
    "print(conn.gsql(loading_job, graphname='Artemis', options=[]))"
   ]
  },
  {
   "cell_type": "code",
   "execution_count": 150,
   "id": "1b344931",
   "metadata": {},
   "outputs": [],
   "source": [
    "conn.graphname = 'Artemis'"
   ]
  },
  {
   "cell_type": "code",
   "execution_count": 151,
   "id": "a9612850",
   "metadata": {},
   "outputs": [
    {
     "name": "stdout",
     "output_type": "stream",
     "text": [
      "[]\n",
      "[]\n"
     ]
    }
   ],
   "source": [
    "# Run co_edge creation\n",
    "\n",
    "print(conn.runInstalledQuery(\"community_stuff\", timeout = 30000))\n",
    "print(conn.runInstalledQuery(\"delete_co_loop_edges\", timeout = 30000))"
   ]
  },
  {
   "cell_type": "code",
   "execution_count": 152,
   "id": "8bdb9c70",
   "metadata": {},
   "outputs": [],
   "source": [
    "# run label propogation\n",
    "\n",
    "# tg_label_prop (SET<STRING> v_type, SET<STRING> e_type, INT max_iter, INT output_limit, \n",
    "#  BOOL print_accum = TRUE, STRING file_path = \"\", STRING attr = \"\") \n",
    "\n",
    "# have to use query strings until pyTigerGrpah allows lists for sets\n",
    "\n",
    "# lfp_new_nodes_label_prop\n",
    "\n",
    "params = \"v_type=DomainRecord&e_type=co_registrar&e_type=c_org&e_type=co_nameserver&max_iter=10000&output_limit=0&print_accum=1&attr=community\"\n",
    "\n",
    "if train_test==\"train\":\n",
    "    result = conn.runInstalledQuery(\"tg_label_prop\", params=params, timeout = 30000)\n",
    "    community_features = conn.runInstalledQuery(\"community_features_calc\", timeout = 30000)\n",
    "    community_features = conn.runInstalledQuery(\"community_features_calc\", timeout = 30000)\n",
    "else:\n",
    "    result = conn.runInstalledQuery(\"lfp_new_nodes_label_prop\", params=params, timeout = 30000)"
   ]
  },
  {
   "cell_type": "code",
   "execution_count": 153,
   "id": "b38c6600",
   "metadata": {},
   "outputs": [],
   "source": [
    "if train_test==\"train\":\n",
    "    community_features_df = pd.DataFrame(community_features[0]['(@@group_entropy_final)'])\n",
    "    community_features_df.to_csv(\"../data/processed/community_features.csv\")\n",
    "else:\n",
    "    community_features_df = pd.read_csv(\"../data/processed/community_features.csv\")"
   ]
  },
  {
   "cell_type": "code",
   "execution_count": 154,
   "id": "f899c4b5",
   "metadata": {},
   "outputs": [
    {
     "data": {
      "text/html": [
       "<div>\n",
       "<style scoped>\n",
       "    .dataframe tbody tr th:only-of-type {\n",
       "        vertical-align: middle;\n",
       "    }\n",
       "\n",
       "    .dataframe tbody tr th {\n",
       "        vertical-align: top;\n",
       "    }\n",
       "\n",
       "    .dataframe thead th {\n",
       "        text-align: right;\n",
       "    }\n",
       "</style>\n",
       "<table border=\"1\" class=\"dataframe\">\n",
       "  <thead>\n",
       "    <tr style=\"text-align: right;\">\n",
       "      <th></th>\n",
       "      <th>Unnamed: 0</th>\n",
       "      <th>community</th>\n",
       "      <th>min_entropy</th>\n",
       "      <th>max_entropy</th>\n",
       "      <th>avg_entropy</th>\n",
       "      <th>domain_count</th>\n",
       "      <th>malicious_ratio</th>\n",
       "    </tr>\n",
       "  </thead>\n",
       "  <tbody>\n",
       "    <tr>\n",
       "      <th>54</th>\n",
       "      <td>54</td>\n",
       "      <td>13631516</td>\n",
       "      <td>2.92193</td>\n",
       "      <td>3.12193</td>\n",
       "      <td>3.04655</td>\n",
       "      <td>3</td>\n",
       "      <td>0.00000</td>\n",
       "    </tr>\n",
       "    <tr>\n",
       "      <th>116</th>\n",
       "      <td>116</td>\n",
       "      <td>14680227</td>\n",
       "      <td>1.92193</td>\n",
       "      <td>3.39275</td>\n",
       "      <td>2.80562</td>\n",
       "      <td>14</td>\n",
       "      <td>0.00000</td>\n",
       "    </tr>\n",
       "    <tr>\n",
       "      <th>94</th>\n",
       "      <td>94</td>\n",
       "      <td>19922989</td>\n",
       "      <td>1.37095</td>\n",
       "      <td>4.32320</td>\n",
       "      <td>3.57795</td>\n",
       "      <td>199</td>\n",
       "      <td>0.97487</td>\n",
       "    </tr>\n",
       "  </tbody>\n",
       "</table>\n",
       "</div>"
      ],
      "text/plain": [
       "     Unnamed: 0  community  min_entropy  max_entropy  avg_entropy  \\\n",
       "54           54   13631516      2.92193      3.12193      3.04655   \n",
       "116         116   14680227      1.92193      3.39275      2.80562   \n",
       "94           94   19922989      1.37095      4.32320      3.57795   \n",
       "\n",
       "     domain_count  malicious_ratio  \n",
       "54              3          0.00000  \n",
       "116            14          0.00000  \n",
       "94            199          0.97487  "
      ]
     },
     "execution_count": 154,
     "metadata": {},
     "output_type": "execute_result"
    }
   ],
   "source": [
    "community_features_df.sample(3)"
   ]
  },
  {
   "cell_type": "code",
   "execution_count": 135,
   "id": "bac48f22",
   "metadata": {},
   "outputs": [],
   "source": []
  },
  {
   "cell_type": "code",
   "execution_count": 155,
   "id": "e76fd7b9",
   "metadata": {},
   "outputs": [
    {
     "data": {
      "text/plain": [
       "142"
      ]
     },
     "execution_count": 155,
     "metadata": {},
     "output_type": "execute_result"
    }
   ],
   "source": [
    "len(community_features_df)"
   ]
  },
  {
   "cell_type": "code",
   "execution_count": 137,
   "id": "a23013c3",
   "metadata": {},
   "outputs": [],
   "source": [
    "DomainRecordsGSQL = \"\"\"INTERPRET QUERY () FOR GRAPH Artemis {\n",
    "   t = select dr from DomainRecord:dr;\n",
    "   print(t);\n",
    "}\"\"\"\n",
    "\n",
    "domain_records = conn.runInterpretedQuery(DomainRecordsGSQL)\n"
   ]
  },
  {
   "cell_type": "code",
   "execution_count": 138,
   "id": "1224775a",
   "metadata": {},
   "outputs": [],
   "source": [
    "dr_dict = {}\n",
    "\n",
    "for x in domain_records[0]['(t)']:\n",
    "    dr_dict[x['v_id']] = x['attributes']['community']"
   ]
  },
  {
   "cell_type": "code",
   "execution_count": 139,
   "id": "95b364af",
   "metadata": {},
   "outputs": [],
   "source": [
    "domain_record_df = pd.DataFrame.from_dict(dr_dict, orient='index').reset_index()\n",
    "domain_record_df.columns = ['DomainRecord','community']"
   ]
  },
  {
   "cell_type": "code",
   "execution_count": 141,
   "id": "18d978fa",
   "metadata": {},
   "outputs": [
    {
     "data": {
      "text/html": [
       "<div>\n",
       "<style scoped>\n",
       "    .dataframe tbody tr th:only-of-type {\n",
       "        vertical-align: middle;\n",
       "    }\n",
       "\n",
       "    .dataframe tbody tr th {\n",
       "        vertical-align: top;\n",
       "    }\n",
       "\n",
       "    .dataframe thead th {\n",
       "        text-align: right;\n",
       "    }\n",
       "</style>\n",
       "<table border=\"1\" class=\"dataframe\">\n",
       "  <thead>\n",
       "    <tr style=\"text-align: right;\">\n",
       "      <th></th>\n",
       "      <th>DomainRecord</th>\n",
       "      <th>community</th>\n",
       "    </tr>\n",
       "  </thead>\n",
       "  <tbody>\n",
       "    <tr>\n",
       "      <th>740</th>\n",
       "      <td>animemax.buzz</td>\n",
       "      <td>16777326</td>\n",
       "    </tr>\n",
       "    <tr>\n",
       "      <th>3058</th>\n",
       "      <td>legifrance.org</td>\n",
       "      <td>-1</td>\n",
       "    </tr>\n",
       "    <tr>\n",
       "      <th>2980</th>\n",
       "      <td>credithousehold1998b.com</td>\n",
       "      <td>23068723</td>\n",
       "    </tr>\n",
       "  </tbody>\n",
       "</table>\n",
       "</div>"
      ],
      "text/plain": [
       "                  DomainRecord  community\n",
       "740              animemax.buzz   16777326\n",
       "3058            legifrance.org         -1\n",
       "2980  credithousehold1998b.com   23068723"
      ]
     },
     "execution_count": 141,
     "metadata": {},
     "output_type": "execute_result"
    }
   ],
   "source": [
    "domain_record_df.sample(3)"
   ]
  },
  {
   "cell_type": "code",
   "execution_count": 142,
   "id": "d477bcbb",
   "metadata": {},
   "outputs": [],
   "source": [
    "graph_features_df = domain_record_df.merge(community_features_df, how = 'left', on='community')"
   ]
  },
  {
   "cell_type": "code",
   "execution_count": 143,
   "id": "4d6a87ae",
   "metadata": {},
   "outputs": [
    {
     "data": {
      "text/html": [
       "<div>\n",
       "<style scoped>\n",
       "    .dataframe tbody tr th:only-of-type {\n",
       "        vertical-align: middle;\n",
       "    }\n",
       "\n",
       "    .dataframe tbody tr th {\n",
       "        vertical-align: top;\n",
       "    }\n",
       "\n",
       "    .dataframe thead th {\n",
       "        text-align: right;\n",
       "    }\n",
       "</style>\n",
       "<table border=\"1\" class=\"dataframe\">\n",
       "  <thead>\n",
       "    <tr style=\"text-align: right;\">\n",
       "      <th></th>\n",
       "      <th>DomainRecord</th>\n",
       "      <th>community</th>\n",
       "      <th>min_entropy</th>\n",
       "      <th>max_entropy</th>\n",
       "      <th>avg_entropy</th>\n",
       "      <th>domain_count</th>\n",
       "      <th>malicious_ratio</th>\n",
       "    </tr>\n",
       "  </thead>\n",
       "  <tbody>\n",
       "    <tr>\n",
       "      <th>5098</th>\n",
       "      <td>gramha.net</td>\n",
       "      <td>32505946</td>\n",
       "      <td>0.00000</td>\n",
       "      <td>3.77356</td>\n",
       "      <td>2.78828</td>\n",
       "      <td>446</td>\n",
       "      <td>0.63453</td>\n",
       "    </tr>\n",
       "    <tr>\n",
       "      <th>3084</th>\n",
       "      <td>baiyunshan.com.cn</td>\n",
       "      <td>-1</td>\n",
       "      <td>0.00000</td>\n",
       "      <td>4.02895</td>\n",
       "      <td>2.82822</td>\n",
       "      <td>1029</td>\n",
       "      <td>0.31681</td>\n",
       "    </tr>\n",
       "    <tr>\n",
       "      <th>1656</th>\n",
       "      <td>gxhhzn.tech</td>\n",
       "      <td>25165842</td>\n",
       "      <td>1.79248</td>\n",
       "      <td>3.32486</td>\n",
       "      <td>2.50353</td>\n",
       "      <td>135</td>\n",
       "      <td>0.07407</td>\n",
       "    </tr>\n",
       "  </tbody>\n",
       "</table>\n",
       "</div>"
      ],
      "text/plain": [
       "           DomainRecord  community  min_entropy  max_entropy  avg_entropy  \\\n",
       "5098         gramha.net   32505946      0.00000      3.77356      2.78828   \n",
       "3084  baiyunshan.com.cn         -1      0.00000      4.02895      2.82822   \n",
       "1656        gxhhzn.tech   25165842      1.79248      3.32486      2.50353   \n",
       "\n",
       "      domain_count  malicious_ratio  \n",
       "5098           446          0.63453  \n",
       "3084          1029          0.31681  \n",
       "1656           135          0.07407  "
      ]
     },
     "execution_count": 143,
     "metadata": {},
     "output_type": "execute_result"
    }
   ],
   "source": [
    "graph_features_df.sample(3)"
   ]
  },
  {
   "cell_type": "code",
   "execution_count": 144,
   "id": "6d591c25",
   "metadata": {},
   "outputs": [],
   "source": [
    "graph_features_df.to_csv(f'../data/processed/graph_community_features_{train_test}.csv', index=False)"
   ]
  },
  {
   "cell_type": "code",
   "execution_count": null,
   "id": "ba6989a6",
   "metadata": {},
   "outputs": [],
   "source": []
  }
 ],
 "metadata": {
  "kernelspec": {
   "display_name": "Python 3 (ipykernel)",
   "language": "python",
   "name": "python3"
  },
  "language_info": {
   "codemirror_mode": {
    "name": "ipython",
    "version": 3
   },
   "file_extension": ".py",
   "mimetype": "text/x-python",
   "name": "python",
   "nbconvert_exporter": "python",
   "pygments_lexer": "ipython3",
   "version": "3.8.12"
  }
 },
 "nbformat": 4,
 "nbformat_minor": 5
}

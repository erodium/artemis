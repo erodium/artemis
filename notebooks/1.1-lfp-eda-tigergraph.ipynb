{
 "cells": [
  {
   "cell_type": "code",
   "execution_count": 9,
   "id": "47ab0eed",
   "metadata": {},
   "outputs": [],
   "source": [
    "import pandas as pd\n",
    "import json\n",
    "import re\n",
    "import csv"
   ]
  },
  {
   "cell_type": "code",
   "execution_count": 10,
   "id": "7d79ebe2",
   "metadata": {},
   "outputs": [
    {
     "name": "stdout",
     "output_type": "stream",
     "text": [
      "==> ../data/raw/benign_whois_data.txt <==\r\n",
      "{\"google.com\": {\"address\": null, \"city\": null, \"country\": \"US\", \"creation_date\": [ \"1997-09-15 04:00:00\", \"1997-09-15 07:00:00\"    ], \"dnssec\": \"unsigned\", \"domain_name\": [ \"GOOGLE.COM\", \"google.com\"    ], \"emails\": [ \"abusecomplaints@markmonitor.com\", \"whoisrequest@markmonitor.com\"    ], \"expiration_date\": [ \"2028-09-14 04:00:00\", \"2028-09-13 07:00:00\"    ], \"name\": null, \"name_servers\": [ \"NS1.GOOGLE.COM\", \"NS2.GOOGLE.COM\", \"NS3.GOOGLE.COM\", \"NS4.GOOGLE.COM\", \"ns1.google.com\", \"ns3.google.com\", \"ns4.google.com\", \"ns2.google.com\"    ], \"org\": \"Google LLC\", \"referral_url\": null, \"registrar\": \"MarkMonitor, Inc.\", \"state\": \"CA\", \"status\": [ \"clientDeleteProhibited https://icann.org/epp#clientDeleteProhibited\", \"clientTransferProhibited https://icann.org/epp#clientTransferProhibited\", \"clientUpdateProhibited https://icann.org/epp#clientUpdateProhibited\", \"serverDeleteProhibited https://icann.org/epp#serverDeleteProhibited\", \"serverTransferProhibited https://icann.org/epp#serverTransferProhibited\", \"serverUpdateProhibited https://icann.org/epp#serverUpdateProhibited\", \"clientUpdateProhibited (https://www.icann.org/epp#clientUpdateProhibited)\", \"clientTransferProhibited (https://www.icann.org/epp#clientTransferProhibited)\", \"clientDeleteProhibited (https://www.icann.org/epp#clientDeleteProhibited)\", \"serverUpdateProhibited (https://www.icann.org/epp#serverUpdateProhibited)\", \"serverTransferProhibited (https://www.icann.org/epp#serverTransferProhibited)\", \"serverDeleteProhibited (https://www.icann.org/epp#serverDeleteProhibited)\"    ], \"updated_date\": \"2019-09-09 15:39:04\", \"whois_server\": \"whois.markmonitor.com\", \"zipcode\": null}}\r\n",
      "{\"facebook.com\": {\"address\": \"1601 Willow Rd\", \"city\": \"Menlo Park\", \"country\": \"US\", \"creation_date\": \"1997-03-29 05:00:00\", \"dnssec\": \"unsigned\", \"domain_name\": \"FACEBOOK.COM\", \"emails\": [ \"abusecomplaints@registrarsafe.com\", \"domain@fb.com\"    ], \"expiration_date\": \"2031-03-30 04:00:00\", \"name\": \"Domain Admin\", \"name_servers\": [ \"A.NS.FACEBOOK.COM\", \"B.NS.FACEBOOK.COM\", \"C.NS.FACEBOOK.COM\", \"D.NS.FACEBOOK.COM\"    ], \"org\": \"Meta Platforms, Inc.\", \"referral_url\": null, \"registrar\": \"RegistrarSafe, LLC\", \"state\": \"CA\", \"status\": [ \"clientDeleteProhibited https://icann.org/epp#clientDeleteProhibited\", \"clientTransferProhibited https://icann.org/epp#clientTransferProhibited\", \"clientUpdateProhibited https://icann.org/epp#clientUpdateProhibited\", \"serverDeleteProhibited https://icann.org/epp#serverDeleteProhibited\", \"serverTransferProhibited https://icann.org/epp#serverTransferProhibited\", \"serverUpdateProhibited https://icann.org/epp#serverUpdateProhibited\", \"serverUpdateProhibited https://www.icann.org/epp#serverUpdateProhibited\", \"clientDeleteProhibited https://www.icann.org/epp#clientDeleteProhibited\", \"clientTransferProhibited https://www.icann.org/epp#clientTransferProhibited\", \"serverDeleteProhibited https://www.icann.org/epp#serverDeleteProhibited\", \"serverTransferProhibited https://www.icann.org/epp#serverTransferProhibited\", \"clientUpdateProhibited https://www.icann.org/epp#clientUpdateProhibited\"    ], \"updated_date\": \"2022-01-26 16:45:06\", \"whois_server\": \"whois.registrarsafe.com\", \"zipcode\": \"94025\"}}\r\n",
      "{\"youtube.com\": {\"address\": null, \"city\": null, \"country\": \"US\", \"creation_date\": \"2005-02-15 05:13:12\", \"dnssec\": \"unsigned\", \"domain_name\": [ \"YOUTUBE.COM\", \"youtube.com\"    ], \"emails\": [ \"abusecomplaints@markmonitor.com\", \"whoisrequest@markmonitor.com\"    ], \"expiration_date\": [ \"2023-02-15 05:13:12\", \"2023-02-15 00:00:00\"    ], \"name\": null, \"name_servers\": [ \"NS1.GOOGLE.COM\", \"NS2.GOOGLE.COM\", \"NS3.GOOGLE.COM\", \"NS4.GOOGLE.COM\", \"ns2.google.com\", \"ns3.google.com\", \"ns4.google.com\", \"ns1.google.com\"    ], \"org\": \"Google LLC\", \"referral_url\": null, \"registrar\": \"MarkMonitor, Inc.\", \"state\": \"CA\", \"status\": [ \"clientDeleteProhibited https://icann.org/epp#clientDeleteProhibited\", \"clientTransferProhibited https://icann.org/epp#clientTransferProhibited\", \"clientUpdateProhibited https://icann.org/epp#clientUpdateProhibited\", \"serverDeleteProhibited https://icann.org/epp#serverDeleteProhibited\", \"serverTransferProhibited https://icann.org/epp#serverTransferProhibited\", \"serverUpdateProhibited https://icann.org/epp#serverUpdateProhibited\", \"clientUpdateProhibited (https://www.icann.org/epp#clientUpdateProhibited)\", \"clientTransferProhibited (https://www.icann.org/epp#clientTransferProhibited)\", \"clientDeleteProhibited (https://www.icann.org/epp#clientDeleteProhibited)\", \"serverUpdateProhibited (https://www.icann.org/epp#serverUpdateProhibited)\", \"serverTransferProhibited (https://www.icann.org/epp#serverTransferProhibited)\", \"serverDeleteProhibited (https://www.icann.org/epp#serverDeleteProhibited)\"    ], \"updated_date\": \"2022-01-14 09:38:42\", \"whois_server\": \"whois.markmonitor.com\", \"zipcode\": null}}\r\n",
      "{\"twitter.com\": {\"address\": \"1355 Market Street\", \"city\": \"San Francisco\", \"country\": \"US\", \"creation_date\": [ \"2000-01-21 16:28:17\", \"2000-01-21 11:28:17\"    ], \"dnssec\": \"unsigned\", \"domain_name\": [ \"TWITTER.COM\", \"twitter.com\"    ], \"emails\": [ \"domainabuse@cscglobal.com\", \"domains@twitter.com\", \"domains-tech@twitter.com\"    ], \"expiration_date\": \"2023-01-21 16:28:17\", \"name\": \"Twitter, Inc.\", \"name_servers\": [ \"A.R06.TWTRDNS.NET\", \"B.R06.TWTRDNS.NET\", \"C.R06.TWTRDNS.NET\", \"D.R06.TWTRDNS.NET\", \"D01-01.NS.TWTRDNS.NET\", \"D01-02.NS.TWTRDNS.NET\", \"NS3.P34.DYNECT.NET\", \"NS4.P34.DYNECT.NET\", \"c.r06.twtrdns.net\", \"d01-01.ns.twtrdns.net\", \"d.r06.twtrdns.net\", \"d01-02.ns.twtrdns.net\", \"b.r06.twtrdns.net\", \"a.r06.twtrdns.net\"    ], \"org\": \"Twitter, Inc.\", \"referral_url\": null, \"registrar\": \"CSC CORPORATE DOMAINS, INC.\", \"state\": \"CA\", \"status\": [ \"clientTransferProhibited https://icann.org/epp#clientTransferProhibited\", \"serverDeleteProhibited https://icann.org/epp#serverDeleteProhibited\", \"serverTransferProhibited https://icann.org/epp#serverTransferProhibited\", \"serverUpdateProhibited https://icann.org/epp#serverUpdateProhibited\", \"clientTransferProhibited http://www.icann.org/epp#clientTransferProhibited\", \"serverDeleteProhibited http://www.icann.org/epp#serverDeleteProhibited\", \"serverTransferProhibited http://www.icann.org/epp#serverTransferProhibited\", \"serverUpdateProhibited http://www.icann.org/epp#serverUpdateProhibited\"    ], \"updated_date\": [ \"2022-01-17 06:08:20\", \"2022-01-17 01:08:20\"    ], \"whois_server\": \"whois.corporatedomains.com\", \"zipcode\": \"94103\"}}\r\n",
      "{\"instagram.com\": {\"address\": \"1601 Willow Rd\", \"city\": \"Menlo Park\", \"country\": \"US\", \"creation_date\": \"2004-06-04 13:37:18\", \"dnssec\": \"unsigned\", \"domain_name\": \"INSTAGRAM.COM\", \"emails\": [ \"abusecomplaints@registrarsafe.com\", \"domain@fb.com\"    ], \"expiration_date\": \"2031-06-04 13:37:18\", \"name\": \"Domain Admin\", \"name_servers\": [ \"A.NS.INSTAGRAM.COM\", \"B.NS.INSTAGRAM.COM\", \"C.NS.INSTAGRAM.COM\", \"D.NS.INSTAGRAM.COM\"    ], \"org\": \"Instagram LLC\", \"referral_url\": null, \"registrar\": \"RegistrarSafe, LLC\", \"state\": \"CA\", \"status\": [ \"clientDeleteProhibited https://icann.org/epp#clientDeleteProhibited\", \"clientTransferProhibited https://icann.org/epp#clientTransferProhibited\", \"clientUpdateProhibited https://icann.org/epp#clientUpdateProhibited\", \"serverDeleteProhibited https://icann.org/epp#serverDeleteProhibited\", \"serverTransferProhibited https://icann.org/epp#serverTransferProhibited\", \"serverUpdateProhibited https://icann.org/epp#serverUpdateProhibited\", \"clientDeleteProhibited https://www.icann.org/epp#clientDeleteProhibited\", \"clientTransferProhibited https://www.icann.org/epp#clientTransferProhibited\", \"serverDeleteProhibited https://www.icann.org/epp#serverDeleteProhibited\", \"serverTransferProhibited https://www.icann.org/epp#serverTransferProhibited\", \"clientUpdateProhibited https://www.icann.org/epp#clientUpdateProhibited\", \"serverUpdateProhibited https://www.icann.org/epp#serverUpdateProhibited\"    ], \"updated_date\": \"2021-11-08 21:56:06\", \"whois_server\": \"whois.registrarsafe.com\", \"zipcode\": \"94025\"}}\r\n",
      "{\"linkedin.com\": {\"address\": \"1000 W. Maude Ave,\", \"city\": \"Sunnyvale\", \"country\": \"US\", \"creation_date\": \"2002-11-02 15:38:11\", \"dnssec\": \"unsigned\", \"domain_name\": [ \"LINKEDIN.COM\", \"linkedin.com\"    ], \"emails\": [ \"abusecomplaints@markmonitor.com\", \"hostmaster@linkedin.com\", \"whoisrequest@markmonitor.com\"    ], \"expiration_date\": [ \"2022-11-02 15:38:11\", \"2022-11-02 07:00:00\"    ], \"name\": \"Host Master\", \"name_servers\": [ \"DNS1.P09.NSONE.NET\", \"DNS2.P09.NSONE.NET\", \"DNS3.P09.NSONE.NET\", \"DNS4.P09.NSONE.NET\", \"NS1.P43.DYNECT.NET\", \"NS2.P43.DYNECT.NET\", \"NS3.P43.DYNECT.NET\", \"NS4.P43.DYNECT.NET\", \"ns2.p43.dynect.net\", \"ns4.p43.dynect.net\", \"dns3.p09.nsone.net\", \"ns3.p43.dynect.net\", \"dns2.p09.nsone.net\", \"dns4.p09.nsone.net\", \"ns1.p43.dynect.net\", \"dns1.p09.nsone.net\"    ], \"org\": \"LinkedIn Corporation\", \"referral_url\": null, \"registrar\": \"MarkMonitor, Inc.\", \"state\": \"CA\", \"status\": [ \"clientDeleteProhibited https://icann.org/epp#clientDeleteProhibited\", \"clientTransferProhibited https://icann.org/epp#clientTransferProhibited\", \"clientUpdateProhibited https://icann.org/epp#clientUpdateProhibited\", \"serverDeleteProhibited https://icann.org/epp#serverDeleteProhibited\", \"serverTransferProhibited https://icann.org/epp#serverTransferProhibited\", \"serverUpdateProhibited https://icann.org/epp#serverUpdateProhibited\", \"clientUpdateProhibited (https://www.icann.org/epp#clientUpdateProhibited)\", \"clientTransferProhibited (https://www.icann.org/epp#clientTransferProhibited)\", \"clientDeleteProhibited (https://www.icann.org/epp#clientDeleteProhibited)\", \"serverUpdateProhibited (https://www.icann.org/epp#serverUpdateProhibited)\", \"serverTransferProhibited (https://www.icann.org/epp#serverTransferProhibited)\", \"serverDeleteProhibited (https://www.icann.org/epp#serverDeleteProhibited)\"    ], \"updated_date\": [ \"2020-09-01 17:16:55\", \"2020-09-01 17:17:28\"    ], \"whois_server\": \"whois.markmonitor.com\", \"zipcode\": \"94085\"}}\r\n",
      "{\"microsoft.com\": {\"address\": \"One Microsoft Way,\", \"city\": \"Redmond\", \"country\": \"US\", \"creation_date\": \"1991-05-02 04:00:00\", \"dnssec\": \"unsigned\", \"domain_name\": [ \"MICROSOFT.COM\", \"microsoft.com\"    ], \"emails\": [ \"abusecomplaints@markmonitor.com\", \"admin@domains.microsoft\", \"msnhst@microsoft.com\", \"whoisrequest@markmonitor.com\"    ], \"expiration_date\": [ \"2022-05-03 04:00:00\", \"2022-05-02 07:00:00\"    ], \"name\": \"Domain Administrator\", \"name_servers\": [ \"NS1-205.AZURE-DNS.COM\", \"NS2-205.AZURE-DNS.NET\", \"NS3-205.AZURE-DNS.ORG\", \"NS4-205.AZURE-DNS.INFO\", \"ns2-205.azure-dns.net\", \"ns3-205.azure-dns.org\", \"ns4-205.azure-dns.info\", \"ns1-205.azure-dns.com\"    ], \"org\": \"Microsoft Corporation\", \"referral_url\": null, \"registrar\": \"MarkMonitor, Inc.\", \"state\": \"WA\", \"status\": [ \"clientDeleteProhibited https://icann.org/epp#clientDeleteProhibited\", \"clientTransferProhibited https://icann.org/epp#clientTransferProhibited\", \"clientUpdateProhibited https://icann.org/epp#clientUpdateProhibited\", \"serverDeleteProhibited https://icann.org/epp#serverDeleteProhibited\", \"serverTransferProhibited https://icann.org/epp#serverTransferProhibited\", \"serverUpdateProhibited https://icann.org/epp#serverUpdateProhibited\", \"clientUpdateProhibited (https://www.icann.org/epp#clientUpdateProhibited)\", \"clientTransferProhibited (https://www.icann.org/epp#clientTransferProhibited)\", \"clientDeleteProhibited (https://www.icann.org/epp#clientDeleteProhibited)\", \"serverUpdateProhibited (https://www.icann.org/epp#serverUpdateProhibited)\", \"serverTransferProhibited (https://www.icann.org/epp#serverTransferProhibited)\", \"serverDeleteProhibited (https://www.icann.org/epp#serverDeleteProhibited)\"    ], \"updated_date\": [ \"2021-03-12 23:25:32\", \"2021-04-07 19:58:15\"    ], \"whois_server\": \"whois.markmonitor.com\", \"zipcode\": \"98052\"}}\r\n",
      "{\"apple.com\": {\"address\": \"One Apple Park Way\", \"city\": \"Cupertino\", \"country\": \"US\", \"creation_date\": [ \"1987-02-19 05:00:00\", \"1987-02-19 00:00:00\"    ], \"dnssec\": \"unsigned\", \"domain_name\": [ \"APPLE.COM\", \"apple.com\"    ], \"emails\": [ \"domainabuse@cscglobal.com\", \"domains@apple.com\", \"apple-noc@apple.com\"    ], \"expiration_date\": \"2023-02-20 05:00:00\", \"name\": \"Domain Administrator\", \"name_servers\": [ \"A.NS.APPLE.COM\", \"B.NS.APPLE.COM\", \"C.NS.APPLE.COM\", \"D.NS.APPLE.COM\", \"c.ns.apple.com\", \"d.ns.apple.com\", \"b.ns.apple.com\", \"a.ns.apple.com\"    ], \"org\": \"Apple Inc.\", \"referral_url\": null, \"registrar\": \"CSC CORPORATE DOMAINS, INC.\", \"state\": \"CA\", \"status\": [ \"clientTransferProhibited https://icann.org/epp#clientTransferProhibited\", \"serverDeleteProhibited https://icann.org/epp#serverDeleteProhibited\", \"serverTransferProhibited https://icann.org/epp#serverTransferProhibited\", \"serverUpdateProhibited https://icann.org/epp#serverUpdateProhibited\", \"clientTransferProhibited http://www.icann.org/epp#clientTransferProhibited\", \"serverDeleteProhibited http://www.icann.org/epp#serverDeleteProhibited\", \"serverTransferProhibited http://www.icann.org/epp#serverTransferProhibited\", \"serverUpdateProhibited http://www.icann.org/epp#serverUpdateProhibited\"    ], \"updated_date\": [ \"2022-02-16 06:15:06\", \"2022-02-16 01:15:06\"    ], \"whois_server\": \"whois.corporatedomains.com\", \"zipcode\": \"95014\"}}\r\n",
      "{\"wikipedia.org\": {\"address\": null, \"city\": null, \"country\": \"US\", \"creation_date\": \"2001-01-13 00:12:14\", \"dnssec\": \"unsigned\", \"domain_name\": [ \"WIKIPEDIA.ORG\", \"wikipedia.org\"    ], \"emails\": [ \"abusecomplaints@markmonitor.com\", \"whoisrequest@markmonitor.com\"    ], \"expiration_date\": [ \"2023-01-13 00:12:14\", \"2023-01-12 08:00:00\"    ], \"name\": null, \"name_servers\": [ \"NS0.WIKIMEDIA.ORG\", \"NS1.WIKIMEDIA.ORG\", \"NS2.WIKIMEDIA.ORG\", \"ns2.wikimedia.org\", \"ns0.wikimedia.org\", \"ns1.wikimedia.org\"    ], \"org\": \"Wikimedia Foundation, Inc.\", \"referral_url\": null, \"registrar\": \"MarkMonitor, Inc.\", \"state\": \"CA\", \"status\": [ \"clientDeleteProhibited https://icann.org/epp#clientDeleteProhibited\", \"clientTransferProhibited https://icann.org/epp#clientTransferProhibited\", \"clientUpdateProhibited https://icann.org/epp#clientUpdateProhibited\", \"clientUpdateProhibited (https://www.icann.org/epp#clientUpdateProhibited)\", \"clientTransferProhibited (https://www.icann.org/epp#clientTransferProhibited)\", \"clientDeleteProhibited (https://www.icann.org/epp#clientDeleteProhibited)\"    ], \"updated_date\": [ \"2020-10-15 22:29:57\", \"2020-10-15 22:32:44\"    ], \"whois_server\": \"whois.markmonitor.com\", \"zipcode\": null}}\r\n",
      "{\"wordpress.org\": {\"address\": null, \"city\": null, \"country\": \"US\", \"creation_date\": \"2003-03-28 01:07:35\", \"dnssec\": \"unsigned\", \"domain_name\": [ \"WORDPRESS.ORG\", \"wordpress.org\"    ], \"emails\": [ \"abusecomplaints@markmonitor.com\", \"whoisrequest@markmonitor.com\"    ], \"expiration_date\": [ \"2024-03-28 01:07:35\", \"2024-03-28 00:00:00\"    ], \"name\": null, \"name_servers\": [ \"NS1.WORDPRESS.ORG\", \"NS2.WORDPRESS.ORG\", \"NS3.WORDPRESS.ORG\", \"NS4.WORDPRESS.ORG\", \"ns3.wordpress.org\", \"ns4.wordpress.org\", \"ns1.wordpress.org\", \"ns2.wordpress.org\"    ], \"org\": \"DNStination, Inc.\", \"referral_url\": null, \"registrar\": \"MarkMonitor, Inc.\", \"state\": \"CA\", \"status\": [ \"clientDeleteProhibited https://icann.org/epp#clientDeleteProhibited\", \"clientTransferProhibited https://icann.org/epp#clientTransferProhibited\", \"clientUpdateProhibited https://icann.org/epp#clientUpdateProhibited\", \"clientUpdateProhibited (https://www.icann.org/epp#clientUpdateProhibited)\", \"clientTransferProhibited (https://www.icann.org/epp#clientTransferProhibited)\", \"clientDeleteProhibited (https://www.icann.org/epp#clientDeleteProhibited)\"    ], \"updated_date\": \"2022-02-24 09:29:27\", \"whois_server\": \"whois.markmonitor.com\", \"zipcode\": null}}\r\n",
      "head: 1: No such file or directory\r\n"
     ]
    }
   ],
   "source": [
    "# benign_whois_data.txt\n",
    "\n",
    "!head \"../data/raw/benign_whois_data.txt\" 1\n"
   ]
  },
  {
   "cell_type": "code",
   "execution_count": 11,
   "id": "7294a781",
   "metadata": {},
   "outputs": [
    {
     "name": "stdout",
     "output_type": "stream",
     "text": [
      "Number of line errors: 0\n",
      "Number of lines: 3731\n"
     ]
    }
   ],
   "source": [
    "import pandas as pd\n",
    "import json\n",
    "\n",
    "b = '../data/raw/benign_whois_data.txt'\n",
    "\n",
    "records = []\n",
    "error_lines = []\n",
    "\n",
    "# load the lines into a list, there are some error lines that needs to be dealt with\n",
    "with open(b) as f: # open file\n",
    "    for line in f.read().splitlines(): # for each line\n",
    "        try:\n",
    "            obj = json.loads(re.sub('.*}{', '{', line)) # load the line, which looks like: {\"domain.name\": {...values...}}\n",
    "            records.append(obj)\n",
    "        except:\n",
    "            error_lines.append(line)\n",
    "        \n",
    "print(f\"Number of line errors: {len(error_lines)}\")  \n",
    "print(f\"Number of lines: {len(records)}\")     \n"
   ]
  },
  {
   "cell_type": "code",
   "execution_count": 12,
   "id": "9ac8a52f",
   "metadata": {},
   "outputs": [],
   "source": [
    "record_dict = {}\n",
    "for item in records:\n",
    "    name = [x for x in item.keys()][0]\n",
    "    record_dict[name] = item[name]"
   ]
  },
  {
   "cell_type": "code",
   "execution_count": 13,
   "id": "b7bb4d27",
   "metadata": {},
   "outputs": [],
   "source": [
    "error_list = []\n",
    "for x in record_dict:\n",
    "    if type(record_dict[x]) != dict:\n",
    "        error_list.append(x)\n",
    "        \n",
    "for x in error_list:\n",
    "    del record_dict[x]"
   ]
  },
  {
   "cell_type": "code",
   "execution_count": 14,
   "id": "b49112cb",
   "metadata": {},
   "outputs": [],
   "source": [
    "benign_df = pd.DataFrame.from_dict(record_dict, orient='index')\n",
    "benign_df.reset_index(inplace=True)"
   ]
  },
  {
   "cell_type": "code",
   "execution_count": 15,
   "id": "81edc109",
   "metadata": {},
   "outputs": [
    {
     "data": {
      "text/html": [
       "<div>\n",
       "<style scoped>\n",
       "    .dataframe tbody tr th:only-of-type {\n",
       "        vertical-align: middle;\n",
       "    }\n",
       "\n",
       "    .dataframe tbody tr th {\n",
       "        vertical-align: top;\n",
       "    }\n",
       "\n",
       "    .dataframe thead th {\n",
       "        text-align: right;\n",
       "    }\n",
       "</style>\n",
       "<table border=\"1\" class=\"dataframe\">\n",
       "  <thead>\n",
       "    <tr style=\"text-align: right;\">\n",
       "      <th></th>\n",
       "      <th>index</th>\n",
       "      <th>address</th>\n",
       "      <th>city</th>\n",
       "      <th>country</th>\n",
       "      <th>creation_date</th>\n",
       "      <th>dnssec</th>\n",
       "      <th>domain_name</th>\n",
       "      <th>emails</th>\n",
       "      <th>expiration_date</th>\n",
       "      <th>name</th>\n",
       "      <th>...</th>\n",
       "      <th>billing_organization</th>\n",
       "      <th>billing_phone</th>\n",
       "      <th>admin_country_code</th>\n",
       "      <th>registrar_country_code</th>\n",
       "      <th>registrar_organization_id</th>\n",
       "      <th>registrar_street</th>\n",
       "      <th>registrant_handle</th>\n",
       "      <th>registrant_zip_code</th>\n",
       "      <th>billing_street</th>\n",
       "      <th>registrant_country_code</th>\n",
       "    </tr>\n",
       "  </thead>\n",
       "  <tbody>\n",
       "    <tr>\n",
       "      <th>0</th>\n",
       "      <td>google.com</td>\n",
       "      <td>None</td>\n",
       "      <td>None</td>\n",
       "      <td>US</td>\n",
       "      <td>[1997-09-15 04:00:00, 1997-09-15 07:00:00]</td>\n",
       "      <td>unsigned</td>\n",
       "      <td>[GOOGLE.COM, google.com]</td>\n",
       "      <td>[abusecomplaints@markmonitor.com, whoisrequest...</td>\n",
       "      <td>[2028-09-14 04:00:00, 2028-09-13 07:00:00]</td>\n",
       "      <td>None</td>\n",
       "      <td>...</td>\n",
       "      <td>NaN</td>\n",
       "      <td>NaN</td>\n",
       "      <td>NaN</td>\n",
       "      <td>NaN</td>\n",
       "      <td>NaN</td>\n",
       "      <td>NaN</td>\n",
       "      <td>NaN</td>\n",
       "      <td>NaN</td>\n",
       "      <td>NaN</td>\n",
       "      <td>NaN</td>\n",
       "    </tr>\n",
       "    <tr>\n",
       "      <th>1</th>\n",
       "      <td>facebook.com</td>\n",
       "      <td>1601 Willow Rd</td>\n",
       "      <td>Menlo Park</td>\n",
       "      <td>US</td>\n",
       "      <td>1997-03-29 05:00:00</td>\n",
       "      <td>unsigned</td>\n",
       "      <td>FACEBOOK.COM</td>\n",
       "      <td>[abusecomplaints@registrarsafe.com, domain@fb....</td>\n",
       "      <td>2031-03-30 04:00:00</td>\n",
       "      <td>Domain Admin</td>\n",
       "      <td>...</td>\n",
       "      <td>NaN</td>\n",
       "      <td>NaN</td>\n",
       "      <td>NaN</td>\n",
       "      <td>NaN</td>\n",
       "      <td>NaN</td>\n",
       "      <td>NaN</td>\n",
       "      <td>NaN</td>\n",
       "      <td>NaN</td>\n",
       "      <td>NaN</td>\n",
       "      <td>NaN</td>\n",
       "    </tr>\n",
       "    <tr>\n",
       "      <th>2</th>\n",
       "      <td>youtube.com</td>\n",
       "      <td>None</td>\n",
       "      <td>None</td>\n",
       "      <td>US</td>\n",
       "      <td>2005-02-15 05:13:12</td>\n",
       "      <td>unsigned</td>\n",
       "      <td>[YOUTUBE.COM, youtube.com]</td>\n",
       "      <td>[abusecomplaints@markmonitor.com, whoisrequest...</td>\n",
       "      <td>[2023-02-15 05:13:12, 2023-02-15 00:00:00]</td>\n",
       "      <td>None</td>\n",
       "      <td>...</td>\n",
       "      <td>NaN</td>\n",
       "      <td>NaN</td>\n",
       "      <td>NaN</td>\n",
       "      <td>NaN</td>\n",
       "      <td>NaN</td>\n",
       "      <td>NaN</td>\n",
       "      <td>NaN</td>\n",
       "      <td>NaN</td>\n",
       "      <td>NaN</td>\n",
       "      <td>NaN</td>\n",
       "    </tr>\n",
       "  </tbody>\n",
       "</table>\n",
       "<p>3 rows × 154 columns</p>\n",
       "</div>"
      ],
      "text/plain": [
       "          index         address        city country  \\\n",
       "0    google.com            None        None      US   \n",
       "1  facebook.com  1601 Willow Rd  Menlo Park      US   \n",
       "2   youtube.com            None        None      US   \n",
       "\n",
       "                                creation_date    dnssec  \\\n",
       "0  [1997-09-15 04:00:00, 1997-09-15 07:00:00]  unsigned   \n",
       "1                         1997-03-29 05:00:00  unsigned   \n",
       "2                         2005-02-15 05:13:12  unsigned   \n",
       "\n",
       "                  domain_name  \\\n",
       "0    [GOOGLE.COM, google.com]   \n",
       "1                FACEBOOK.COM   \n",
       "2  [YOUTUBE.COM, youtube.com]   \n",
       "\n",
       "                                              emails  \\\n",
       "0  [abusecomplaints@markmonitor.com, whoisrequest...   \n",
       "1  [abusecomplaints@registrarsafe.com, domain@fb....   \n",
       "2  [abusecomplaints@markmonitor.com, whoisrequest...   \n",
       "\n",
       "                              expiration_date          name  ...  \\\n",
       "0  [2028-09-14 04:00:00, 2028-09-13 07:00:00]          None  ...   \n",
       "1                         2031-03-30 04:00:00  Domain Admin  ...   \n",
       "2  [2023-02-15 05:13:12, 2023-02-15 00:00:00]          None  ...   \n",
       "\n",
       "  billing_organization billing_phone admin_country_code  \\\n",
       "0                  NaN           NaN                NaN   \n",
       "1                  NaN           NaN                NaN   \n",
       "2                  NaN           NaN                NaN   \n",
       "\n",
       "  registrar_country_code registrar_organization_id registrar_street  \\\n",
       "0                    NaN                       NaN              NaN   \n",
       "1                    NaN                       NaN              NaN   \n",
       "2                    NaN                       NaN              NaN   \n",
       "\n",
       "  registrant_handle registrant_zip_code billing_street registrant_country_code  \n",
       "0               NaN                 NaN            NaN                     NaN  \n",
       "1               NaN                 NaN            NaN                     NaN  \n",
       "2               NaN                 NaN            NaN                     NaN  \n",
       "\n",
       "[3 rows x 154 columns]"
      ]
     },
     "execution_count": 15,
     "metadata": {},
     "output_type": "execute_result"
    }
   ],
   "source": [
    "benign_df.head(3)"
   ]
  },
  {
   "cell_type": "code",
   "execution_count": 17,
   "id": "6862e2a0",
   "metadata": {},
   "outputs": [
    {
     "name": "stdout",
     "output_type": "stream",
     "text": [
      "['index', 'address', 'city', 'country', 'creation_date', 'dnssec', 'domain_name', 'emails', 'expiration_date', 'name', 'name_servers', 'org', 'referral_url', 'registrar', 'state', 'status', 'updated_date', 'whois_server', 'zipcode', 'email', 'fax', 'phone', 'tech_email', 'tech_fax', 'tech_name', 'tech_org', 'tech_phone', 'domain__id', 'registrant_country', 'registrant_name', 'registrant_state_province', 'registrar_id', 'registrar_url', 'admin', 'admin_application_purpose', 'admin_city', 'admin_country', 'admin_email', 'admin_fax', 'admin_id', 'admin_nexus_category', 'admin_organization', 'admin_phone', 'admin_postal_code', 'admin_state_province', 'admin_street', 'registrant_application_purpose', 'registrant_city', 'registrant_email', 'registrant_fax', 'registrant_id', 'registrant_nexus_category', 'registrant_organization', 'registrant_phone', 'registrant_postal_code', 'registrant_street', 'registrar_email', 'registrar_phone', 'tech_application_purpose', 'tech_city', 'tech_country', 'tech_id', 'tech_nexus_category', 'tech_organization', 'tech_postal_code', 'tech_state_province', 'tech_street', 'registrant_type', 'admin_address', 'admin_address2', 'admin_address3', 'admin_fax_ext', 'admin_name', 'admin_org', 'admin_phone_ext', 'domain_id', 'registrant_address', 'registrant_address2', 'registrant_address3', 'registrant_fax_ext', 'registrant_org', 'registrant_phone_ext', 'tech_address', 'tech_address2', 'tech_address3', 'tech_fax_ext', 'tech_phone_ext', 'domain_status', 'registrant_number', 'country_code', 'registrant_contact_name', 'registrant_zip', 'admin_state', 'registrant_state', 'registrar_address', 'registrar_city', 'registrar_country', 'registrar_name', 'registrar_postal_code', 'billing_city', 'billing_country', 'billing_name', 'billing_state', 'tech_state', 'url', 'tech-c', 'organization', 'registrar_iana', 'admin_c', 'billing_c', 'name_server', 'nic_hdl_br', 'nslastaa', 'nsstat', 'owner_c', 'person', 'saci', 'tech_c', 'registrar_zip_code', 'transfer_date', 'admin_account_name', 'admin_company_name', 'admin_family_name', 'registrant_company_name', 'tech_account_name', 'tech_company_name', 'tech_family_name', 'admin_phone_number', 'billing_address', 'billing_email', 'billing_id', 'billing_phone_number', 'billing_postal_code', 'billing_state_province', 'registrant_phone_number', 'tech_phone_number', 'description', 'registrar_contact', 'source', 'tech', 'name_server_statuses', 'registrar_site', 'billing', 'billing_fax', 'billing_organization', 'billing_phone', 'admin_country_code', 'registrar_country_code', 'registrar_organization_id', 'registrar_street', 'registrant_handle', 'registrant_zip_code', 'billing_street', 'registrant_country_code']\n"
     ]
    }
   ],
   "source": [
    "pd.options.display.max_rows = 4000\n",
    "print(str(list(benign_df.columns)))"
   ]
  },
  {
   "cell_type": "markdown",
   "id": "f6b77d3e",
   "metadata": {},
   "source": [
    "#############"
   ]
  },
  {
   "cell_type": "code",
   "execution_count": 18,
   "id": "98687899",
   "metadata": {},
   "outputs": [
    {
     "name": "stdout",
     "output_type": "stream",
     "text": [
      "Number of line errors: 0\n",
      "Number of lines: 2415\n"
     ]
    }
   ],
   "source": [
    "import pandas as pd\n",
    "import json\n",
    "\n",
    "b = '../data/raw/malicious_whois_data.txt'\n",
    "\n",
    "records = []\n",
    "error_lines = []\n",
    "\n",
    "# load the lines into a list, there are some error lines that needs to be dealt with\n",
    "with open(b) as f: # open file\n",
    "    for line in f.read().splitlines(): # for each line\n",
    "        try:\n",
    "            obj = json.loads(re.sub('.*}{', '{', line)) # load the line, which looks like: {\"domain.name\": {...values...}}\n",
    "            records.append(obj)\n",
    "        except:\n",
    "            error_lines.append(line)\n",
    "        \n",
    "print(f\"Number of line errors: {len(error_lines)}\")  \n",
    "print(f\"Number of lines: {len(records)}\")     \n"
   ]
  },
  {
   "cell_type": "code",
   "execution_count": 19,
   "id": "d48f132a",
   "metadata": {},
   "outputs": [],
   "source": [
    "error_list = []\n",
    "for x in record_dict:\n",
    "    if type(record_dict[x]) != dict:\n",
    "        error_list.append(x)\n",
    "        \n",
    "for x in error_list:\n",
    "    del record_dict[x]"
   ]
  },
  {
   "cell_type": "code",
   "execution_count": 20,
   "id": "c07140af",
   "metadata": {},
   "outputs": [],
   "source": [
    "mal_df = pd.DataFrame.from_dict(record_dict, orient='index')\n",
    "mal_df.reset_index(inplace=True)"
   ]
  },
  {
   "cell_type": "code",
   "execution_count": 21,
   "id": "d7ce601c",
   "metadata": {},
   "outputs": [
    {
     "data": {
      "text/html": [
       "<div>\n",
       "<style scoped>\n",
       "    .dataframe tbody tr th:only-of-type {\n",
       "        vertical-align: middle;\n",
       "    }\n",
       "\n",
       "    .dataframe tbody tr th {\n",
       "        vertical-align: top;\n",
       "    }\n",
       "\n",
       "    .dataframe thead th {\n",
       "        text-align: right;\n",
       "    }\n",
       "</style>\n",
       "<table border=\"1\" class=\"dataframe\">\n",
       "  <thead>\n",
       "    <tr style=\"text-align: right;\">\n",
       "      <th></th>\n",
       "      <th>index</th>\n",
       "      <th>address</th>\n",
       "      <th>city</th>\n",
       "      <th>country</th>\n",
       "      <th>creation_date</th>\n",
       "      <th>dnssec</th>\n",
       "      <th>domain_name</th>\n",
       "      <th>emails</th>\n",
       "      <th>expiration_date</th>\n",
       "      <th>name</th>\n",
       "      <th>...</th>\n",
       "      <th>billing_organization</th>\n",
       "      <th>billing_phone</th>\n",
       "      <th>admin_country_code</th>\n",
       "      <th>registrar_country_code</th>\n",
       "      <th>registrar_organization_id</th>\n",
       "      <th>registrar_street</th>\n",
       "      <th>registrant_handle</th>\n",
       "      <th>registrant_zip_code</th>\n",
       "      <th>billing_street</th>\n",
       "      <th>registrant_country_code</th>\n",
       "    </tr>\n",
       "  </thead>\n",
       "  <tbody>\n",
       "    <tr>\n",
       "      <th>2426</th>\n",
       "      <td>amtrak.com</td>\n",
       "      <td>None</td>\n",
       "      <td>None</td>\n",
       "      <td>None</td>\n",
       "      <td>1995-02-06 05:00:00</td>\n",
       "      <td>unsigned</td>\n",
       "      <td>AMTRAK.COM</td>\n",
       "      <td>abuse@web.com</td>\n",
       "      <td>2030-02-07 05:00:00</td>\n",
       "      <td>None</td>\n",
       "      <td>...</td>\n",
       "      <td>NaN</td>\n",
       "      <td>NaN</td>\n",
       "      <td>NaN</td>\n",
       "      <td>NaN</td>\n",
       "      <td>NaN</td>\n",
       "      <td>NaN</td>\n",
       "      <td>NaN</td>\n",
       "      <td>NaN</td>\n",
       "      <td>NaN</td>\n",
       "      <td>NaN</td>\n",
       "    </tr>\n",
       "    <tr>\n",
       "      <th>3370</th>\n",
       "      <td>cityu.edu.hk</td>\n",
       "      <td>NaN</td>\n",
       "      <td>NaN</td>\n",
       "      <td>NaN</td>\n",
       "      <td>None</td>\n",
       "      <td>None</td>\n",
       "      <td>None</td>\n",
       "      <td>NaN</td>\n",
       "      <td>None</td>\n",
       "      <td>NaN</td>\n",
       "      <td>...</td>\n",
       "      <td>NaN</td>\n",
       "      <td>NaN</td>\n",
       "      <td>NaN</td>\n",
       "      <td>NaN</td>\n",
       "      <td>NaN</td>\n",
       "      <td>NaN</td>\n",
       "      <td>NaN</td>\n",
       "      <td>NaN</td>\n",
       "      <td>NaN</td>\n",
       "      <td>NaN</td>\n",
       "    </tr>\n",
       "    <tr>\n",
       "      <th>506</th>\n",
       "      <td>over-blog.com</td>\n",
       "      <td>REDACTED FOR PRIVACY</td>\n",
       "      <td>REDACTED FOR PRIVACY</td>\n",
       "      <td>FR</td>\n",
       "      <td>2004-02-25 19:51:07</td>\n",
       "      <td>[unsigned, Unsigned]</td>\n",
       "      <td>[OVER-BLOG.COM, over-blog.com]</td>\n",
       "      <td>[abuse@support.gandi.net, 70673a17f52e84739e9c...</td>\n",
       "      <td>2023-02-25 19:51:07</td>\n",
       "      <td>REDACTED FOR PRIVACY</td>\n",
       "      <td>...</td>\n",
       "      <td>NaN</td>\n",
       "      <td>NaN</td>\n",
       "      <td>NaN</td>\n",
       "      <td>NaN</td>\n",
       "      <td>NaN</td>\n",
       "      <td>NaN</td>\n",
       "      <td>NaN</td>\n",
       "      <td>NaN</td>\n",
       "      <td>NaN</td>\n",
       "      <td>NaN</td>\n",
       "    </tr>\n",
       "  </tbody>\n",
       "</table>\n",
       "<p>3 rows × 154 columns</p>\n",
       "</div>"
      ],
      "text/plain": [
       "              index               address                  city country  \\\n",
       "2426     amtrak.com                  None                  None    None   \n",
       "3370   cityu.edu.hk                   NaN                   NaN     NaN   \n",
       "506   over-blog.com  REDACTED FOR PRIVACY  REDACTED FOR PRIVACY      FR   \n",
       "\n",
       "            creation_date                dnssec  \\\n",
       "2426  1995-02-06 05:00:00              unsigned   \n",
       "3370                 None                  None   \n",
       "506   2004-02-25 19:51:07  [unsigned, Unsigned]   \n",
       "\n",
       "                         domain_name  \\\n",
       "2426                      AMTRAK.COM   \n",
       "3370                            None   \n",
       "506   [OVER-BLOG.COM, over-blog.com]   \n",
       "\n",
       "                                                 emails      expiration_date  \\\n",
       "2426                                      abuse@web.com  2030-02-07 05:00:00   \n",
       "3370                                                NaN                 None   \n",
       "506   [abuse@support.gandi.net, 70673a17f52e84739e9c...  2023-02-25 19:51:07   \n",
       "\n",
       "                      name  ... billing_organization billing_phone  \\\n",
       "2426                  None  ...                  NaN           NaN   \n",
       "3370                   NaN  ...                  NaN           NaN   \n",
       "506   REDACTED FOR PRIVACY  ...                  NaN           NaN   \n",
       "\n",
       "     admin_country_code registrar_country_code registrar_organization_id  \\\n",
       "2426                NaN                    NaN                       NaN   \n",
       "3370                NaN                    NaN                       NaN   \n",
       "506                 NaN                    NaN                       NaN   \n",
       "\n",
       "     registrar_street registrant_handle registrant_zip_code billing_street  \\\n",
       "2426              NaN               NaN                 NaN            NaN   \n",
       "3370              NaN               NaN                 NaN            NaN   \n",
       "506               NaN               NaN                 NaN            NaN   \n",
       "\n",
       "     registrant_country_code  \n",
       "2426                     NaN  \n",
       "3370                     NaN  \n",
       "506                      NaN  \n",
       "\n",
       "[3 rows x 154 columns]"
      ]
     },
     "execution_count": 21,
     "metadata": {},
     "output_type": "execute_result"
    }
   ],
   "source": [
    "mal_df.sample(3)"
   ]
  },
  {
   "cell_type": "markdown",
   "id": "b549654b",
   "metadata": {},
   "source": [
    "#########"
   ]
  },
  {
   "cell_type": "code",
   "execution_count": 22,
   "id": "b20de3b6",
   "metadata": {},
   "outputs": [
    {
     "data": {
      "text/plain": [
       "array([ True,  True,  True,  True,  True,  True,  True,  True,  True,\n",
       "        True,  True,  True,  True,  True,  True,  True,  True,  True,\n",
       "        True,  True,  True,  True,  True,  True,  True,  True,  True,\n",
       "        True,  True,  True,  True,  True,  True,  True,  True,  True,\n",
       "        True,  True,  True,  True,  True,  True,  True,  True,  True,\n",
       "        True,  True,  True,  True,  True,  True,  True,  True,  True,\n",
       "        True,  True,  True,  True,  True,  True,  True,  True,  True,\n",
       "        True,  True,  True,  True,  True,  True,  True,  True,  True,\n",
       "        True,  True,  True,  True,  True,  True,  True,  True,  True,\n",
       "        True,  True,  True,  True,  True,  True,  True,  True,  True,\n",
       "        True,  True,  True,  True,  True,  True,  True,  True,  True,\n",
       "        True,  True,  True,  True,  True,  True,  True,  True,  True,\n",
       "        True,  True,  True,  True,  True,  True,  True,  True,  True,\n",
       "        True,  True,  True,  True,  True,  True,  True,  True,  True,\n",
       "        True,  True,  True,  True,  True,  True,  True,  True,  True,\n",
       "        True,  True,  True,  True,  True,  True,  True,  True,  True,\n",
       "        True,  True,  True,  True,  True,  True,  True,  True,  True,\n",
       "        True])"
      ]
     },
     "execution_count": 22,
     "metadata": {},
     "output_type": "execute_result"
    }
   ],
   "source": [
    "mal_df.columns == benign_df.columns"
   ]
  },
  {
   "cell_type": "code",
   "execution_count": 24,
   "id": "f17d2e43",
   "metadata": {},
   "outputs": [],
   "source": [
    "mal_df['malicious'] = 'True'\n",
    "benign_df['malicious'] = 'False'"
   ]
  },
  {
   "cell_type": "code",
   "execution_count": 31,
   "id": "7fff72be",
   "metadata": {},
   "outputs": [],
   "source": [
    "combined_df = pd.concat([mal_df,benign_df], axis=0)"
   ]
  },
  {
   "cell_type": "code",
   "execution_count": 37,
   "id": "00a8dc37",
   "metadata": {},
   "outputs": [
    {
     "data": {
      "text/plain": [
       "7362"
      ]
     },
     "execution_count": 37,
     "metadata": {},
     "output_type": "execute_result"
    }
   ],
   "source": [
    "len(combined_df['index'])"
   ]
  },
  {
   "cell_type": "code",
   "execution_count": 38,
   "id": "4ba8cf2c",
   "metadata": {},
   "outputs": [],
   "source": [
    "DomainRecord_cols = ['index', 'dnssec', 'name']\n",
    "\n",
    "combined_df.loc[:,DomainRecord_cols].to_csv(\"../data/external/combined_whois_data.csv\")"
   ]
  },
  {
   "cell_type": "code",
   "execution_count": 41,
   "id": "6e93d48b",
   "metadata": {},
   "outputs": [],
   "source": [
    "list_of_explode_columns = ['country', 'emails','organization','whois_server', 'domain_status', 'registrar', \n",
    "                           'name_servers']"
   ]
  },
  {
   "cell_type": "code",
   "execution_count": 42,
   "id": "2f763cd5",
   "metadata": {},
   "outputs": [],
   "source": [
    "for _col in list_of_explode_columns:\n",
    "    combined_df.loc[:,['index',_col]].explode(_col).to_csv(\n",
    "    f\"../data/external/combined_whois_data_{_col}.csv\")"
   ]
  },
  {
   "cell_type": "code",
   "execution_count": null,
   "id": "6bfff9f4",
   "metadata": {},
   "outputs": [],
   "source": []
  },
  {
   "cell_type": "code",
   "execution_count": null,
   "id": "6ad09364",
   "metadata": {},
   "outputs": [],
   "source": []
  }
 ],
 "metadata": {
  "kernelspec": {
   "display_name": "Python 3 (ipykernel)",
   "language": "python",
   "name": "python3"
  },
  "language_info": {
   "codemirror_mode": {
    "name": "ipython",
    "version": 3
   },
   "file_extension": ".py",
   "mimetype": "text/x-python",
   "name": "python",
   "nbconvert_exporter": "python",
   "pygments_lexer": "ipython3",
   "version": "3.8.12"
  }
 },
 "nbformat": 4,
 "nbformat_minor": 5
}

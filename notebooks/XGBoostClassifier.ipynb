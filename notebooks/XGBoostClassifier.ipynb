{
 "cells": [
  {
   "cell_type": "code",
   "execution_count": 1,
   "metadata": {},
   "outputs": [],
   "source": [
    "from sklearn.ensemble import RandomForestClassifier\n",
    "from sklearn.model_selection import train_test_split\n",
    "from sklearn.preprocessing import OneHotEncoder, LabelEncoder\n",
    "import pandas as pd\n",
    "from joblib import dump\n",
    "import numpy as np\n",
    "from sklearn.metrics import classification_report, confusion_matrix\n",
    "\n",
    "from src.scripts.artemis_data import get_ns_cols, get_email_cols\n",
    "from src.scripts.dga.dga_functions import dga_prediction\n",
    "\n",
    "import matplotlib.pyplot as plt\n",
    "import xgboost as xgb\n"
   ]
  },
  {
   "cell_type": "code",
   "execution_count": 2,
   "metadata": {
    "pycharm": {
     "name": "#%%\n"
    }
   },
   "outputs": [],
   "source": [
    "file = \"../data/processed/final_whois_data.csv\"\n",
    "df = pd.read_csv(file)\n"
   ]
  },
  {
   "cell_type": "code",
   "execution_count": 3,
   "metadata": {
    "pycharm": {
     "name": "#%%\n"
    }
   },
   "outputs": [
    {
     "data": {
      "text/plain": [
       "Index(['domain', 'redacted', 'name_servers_1', 'name_servers_2',\n",
       "       'name_servers_3', 'name_servers_4', 'registrant_contact_name',\n",
       "       'registrar', 'updated_date', 'country', 'dnssec', 'emails', 'org',\n",
       "       'state', 'whois_server', 'address', 'city', 'emails_1', 'emails_2',\n",
       "       'emails_3', 'expiration_date', 'name', 'zipcode', 'creation_date',\n",
       "       'name_servers_5', 'name_servers_6', 'name_servers_7', 'entropy',\n",
       "       'dns_rec_a_cc', 'dns_rec_a_org', 'dns_rec_mx_cc', 'dns_rec_mx_org',\n",
       "       'malicious', 'community', 'min_entropy', 'max_entropy', 'avg_entropy',\n",
       "       'domain_count', 'days_between_creations', 'days_since_creation',\n",
       "       'days_between_updates', 'days_since_update', 'days_until_expiration',\n",
       "       'has_multiple_domain_names', 'multiple_domain_names_match',\n",
       "       'number_name_servers', 'num_different_ns_domains',\n",
       "       'main_name_server_domain', 'serverDeleteProhibited',\n",
       "       'clientDeleteProhibited', 'serverRenewProhibited',\n",
       "       'clientRenewProhibited', 'clientTransferProhibited', 'num_emails',\n",
       "       'email_domains', 'num_email_domains'],\n",
       "      dtype='object')"
      ]
     },
     "execution_count": 3,
     "metadata": {},
     "output_type": "execute_result"
    }
   ],
   "source": [
    "df.columns"
   ]
  },
  {
   "cell_type": "code",
   "execution_count": 4,
   "metadata": {
    "pycharm": {
     "name": "#%%\n"
    }
   },
   "outputs": [],
   "source": [
    "label = 'malicious'\n",
    "labels = df[label].values\n",
    "data_df = df.drop(columns=label)"
   ]
  },
  {
   "cell_type": "code",
   "execution_count": 5,
   "metadata": {
    "pycharm": {
     "name": "#%%\n"
    }
   },
   "outputs": [],
   "source": [
    "redo = False\n",
    "if redo:\n",
    "    dga_probs = []\n",
    "    count = 0\n",
    "    for domain, entropy in zip(data_df.domain.tolist(), data_df.entropy.tolist()):\n",
    "        count += 1\n",
    "        dga_probs.append(dga_prediction(domain, entropy))\n",
    "        if count % 10 == 0:\n",
    "            print(count, end=\" \")\n",
    "    data_df['dga_probability'] = dga_probs\n",
    "    dga_df = data_df[['domain', 'dga_probability']]\n",
    "    dga_df.to_csv('dga_probabilities.csv', index=False)\n",
    "else:\n",
    "    dga_probs = pd.read_csv('dga_probabilities.csv')\n",
    "    data_df = data_df.merge(dga_probs, on='domain')"
   ]
  },
  {
   "cell_type": "code",
   "execution_count": 6,
   "metadata": {
    "pycharm": {
     "name": "#%%\n"
    }
   },
   "outputs": [
    {
     "data": {
      "text/html": [
       "<div>\n",
       "<style scoped>\n",
       "    .dataframe tbody tr th:only-of-type {\n",
       "        vertical-align: middle;\n",
       "    }\n",
       "\n",
       "    .dataframe tbody tr th {\n",
       "        vertical-align: top;\n",
       "    }\n",
       "\n",
       "    .dataframe thead th {\n",
       "        text-align: right;\n",
       "    }\n",
       "</style>\n",
       "<table border=\"1\" class=\"dataframe\">\n",
       "  <thead>\n",
       "    <tr style=\"text-align: right;\">\n",
       "      <th></th>\n",
       "      <th>domain</th>\n",
       "      <th>redacted</th>\n",
       "      <th>name_servers_1</th>\n",
       "      <th>name_servers_2</th>\n",
       "      <th>name_servers_3</th>\n",
       "      <th>name_servers_4</th>\n",
       "      <th>registrant_contact_name</th>\n",
       "      <th>registrar</th>\n",
       "      <th>updated_date</th>\n",
       "      <th>country</th>\n",
       "      <th>...</th>\n",
       "      <th>main_name_server_domain</th>\n",
       "      <th>serverDeleteProhibited</th>\n",
       "      <th>clientDeleteProhibited</th>\n",
       "      <th>serverRenewProhibited</th>\n",
       "      <th>clientRenewProhibited</th>\n",
       "      <th>clientTransferProhibited</th>\n",
       "      <th>num_emails</th>\n",
       "      <th>email_domains</th>\n",
       "      <th>num_email_domains</th>\n",
       "      <th>dga_probability</th>\n",
       "    </tr>\n",
       "  </thead>\n",
       "  <tbody>\n",
       "    <tr>\n",
       "      <th>0</th>\n",
       "      <td>griffithspartners.com.au</td>\n",
       "      <td>0.0</td>\n",
       "      <td>T.AU</td>\n",
       "      <td>R.AU</td>\n",
       "      <td>Q.AU</td>\n",
       "      <td>S.AU</td>\n",
       "      <td>1</td>\n",
       "      <td>afilias australia pty ltd</td>\n",
       "      <td>2022-03-17</td>\n",
       "      <td>zz</td>\n",
       "      <td>...</td>\n",
       "      <td>t</td>\n",
       "      <td>1</td>\n",
       "      <td>0</td>\n",
       "      <td>1</td>\n",
       "      <td>0</td>\n",
       "      <td>0</td>\n",
       "      <td>0</td>\n",
       "      <td>email_nan</td>\n",
       "      <td>1</td>\n",
       "      <td>0.000000</td>\n",
       "    </tr>\n",
       "    <tr>\n",
       "      <th>1</th>\n",
       "      <td>21fss.com</td>\n",
       "      <td>0.0</td>\n",
       "      <td>NS33.DOMAINCONTROL.COM</td>\n",
       "      <td>NS34.DOMAINCONTROL.COM</td>\n",
       "      <td>NaN</td>\n",
       "      <td>NaN</td>\n",
       "      <td>0</td>\n",
       "      <td>godaddy.com, llc</td>\n",
       "      <td>2021-01-19</td>\n",
       "      <td>us</td>\n",
       "      <td>...</td>\n",
       "      <td>domaincontrol</td>\n",
       "      <td>0</td>\n",
       "      <td>1</td>\n",
       "      <td>0</td>\n",
       "      <td>1</td>\n",
       "      <td>1</td>\n",
       "      <td>1</td>\n",
       "      <td>godaddy.com</td>\n",
       "      <td>1</td>\n",
       "      <td>0.000000</td>\n",
       "    </tr>\n",
       "    <tr>\n",
       "      <th>2</th>\n",
       "      <td>conniedunndesigns.com</td>\n",
       "      <td>0.0</td>\n",
       "      <td>NS1.DREAMHOST.COM</td>\n",
       "      <td>NS2.DREAMHOST.COM</td>\n",
       "      <td>NS3.DREAMHOST.COM</td>\n",
       "      <td>NaN</td>\n",
       "      <td>0</td>\n",
       "      <td>dreamhost</td>\n",
       "      <td>2021-08-09</td>\n",
       "      <td>us</td>\n",
       "      <td>...</td>\n",
       "      <td>dreamhost</td>\n",
       "      <td>0</td>\n",
       "      <td>0</td>\n",
       "      <td>0</td>\n",
       "      <td>0</td>\n",
       "      <td>1</td>\n",
       "      <td>4</td>\n",
       "      <td>dreamhost.com;proxy.dreamhost.com</td>\n",
       "      <td>2</td>\n",
       "      <td>0.020000</td>\n",
       "    </tr>\n",
       "    <tr>\n",
       "      <th>3</th>\n",
       "      <td>corporatespending.com</td>\n",
       "      <td>0.0</td>\n",
       "      <td>NS1.P23.DYNECT.NET</td>\n",
       "      <td>NS2.P23.DYNECT.NET</td>\n",
       "      <td>NS3.P23.DYNECT.NET</td>\n",
       "      <td>NS4.P23.DYNECT.NET</td>\n",
       "      <td>0</td>\n",
       "      <td>godaddy.com, llc</td>\n",
       "      <td>2020-11-08</td>\n",
       "      <td>us</td>\n",
       "      <td>...</td>\n",
       "      <td>dynect</td>\n",
       "      <td>0</td>\n",
       "      <td>1</td>\n",
       "      <td>0</td>\n",
       "      <td>1</td>\n",
       "      <td>1</td>\n",
       "      <td>1</td>\n",
       "      <td>godaddy.com</td>\n",
       "      <td>1</td>\n",
       "      <td>0.000000</td>\n",
       "    </tr>\n",
       "    <tr>\n",
       "      <th>4</th>\n",
       "      <td>eraliving.com</td>\n",
       "      <td>0.0</td>\n",
       "      <td>NS65.WORLDNIC.COM</td>\n",
       "      <td>NS66.WORLDNIC.COM</td>\n",
       "      <td>NaN</td>\n",
       "      <td>NaN</td>\n",
       "      <td>0</td>\n",
       "      <td>network solutions, llc</td>\n",
       "      <td>2018-03-07</td>\n",
       "      <td>us</td>\n",
       "      <td>...</td>\n",
       "      <td>worldnic</td>\n",
       "      <td>0</td>\n",
       "      <td>0</td>\n",
       "      <td>0</td>\n",
       "      <td>0</td>\n",
       "      <td>1</td>\n",
       "      <td>3</td>\n",
       "      <td>eraliving.com;web.com</td>\n",
       "      <td>2</td>\n",
       "      <td>0.010000</td>\n",
       "    </tr>\n",
       "    <tr>\n",
       "      <th>...</th>\n",
       "      <td>...</td>\n",
       "      <td>...</td>\n",
       "      <td>...</td>\n",
       "      <td>...</td>\n",
       "      <td>...</td>\n",
       "      <td>...</td>\n",
       "      <td>...</td>\n",
       "      <td>...</td>\n",
       "      <td>...</td>\n",
       "      <td>...</td>\n",
       "      <td>...</td>\n",
       "      <td>...</td>\n",
       "      <td>...</td>\n",
       "      <td>...</td>\n",
       "      <td>...</td>\n",
       "      <td>...</td>\n",
       "      <td>...</td>\n",
       "      <td>...</td>\n",
       "      <td>...</td>\n",
       "      <td>...</td>\n",
       "      <td>...</td>\n",
       "    </tr>\n",
       "    <tr>\n",
       "      <th>5633</th>\n",
       "      <td>ewakyc72.top</td>\n",
       "      <td>1.0</td>\n",
       "      <td>a.dnspod.com</td>\n",
       "      <td>b.dnspod.com</td>\n",
       "      <td>A.DNSPOD.COM</td>\n",
       "      <td>B.DNSPOD.COM</td>\n",
       "      <td>0</td>\n",
       "      <td>nicenic international group co., limited</td>\n",
       "      <td>2021-08-04</td>\n",
       "      <td>ru</td>\n",
       "      <td>...</td>\n",
       "      <td>dnspod</td>\n",
       "      <td>0</td>\n",
       "      <td>1</td>\n",
       "      <td>0</td>\n",
       "      <td>0</td>\n",
       "      <td>1</td>\n",
       "      <td>1</td>\n",
       "      <td>nicenic.net</td>\n",
       "      <td>1</td>\n",
       "      <td>0.186667</td>\n",
       "    </tr>\n",
       "    <tr>\n",
       "      <th>5634</th>\n",
       "      <td>ewazqx71.top</td>\n",
       "      <td>1.0</td>\n",
       "      <td>a.dnspod.com</td>\n",
       "      <td>b.dnspod.com</td>\n",
       "      <td>A.DNSPOD.COM</td>\n",
       "      <td>B.DNSPOD.COM</td>\n",
       "      <td>0</td>\n",
       "      <td>nicenic international group co., limited</td>\n",
       "      <td>2021-08-04</td>\n",
       "      <td>ru</td>\n",
       "      <td>...</td>\n",
       "      <td>dnspod</td>\n",
       "      <td>0</td>\n",
       "      <td>1</td>\n",
       "      <td>0</td>\n",
       "      <td>0</td>\n",
       "      <td>1</td>\n",
       "      <td>1</td>\n",
       "      <td>nicenic.net</td>\n",
       "      <td>1</td>\n",
       "      <td>0.570000</td>\n",
       "    </tr>\n",
       "    <tr>\n",
       "      <th>5635</th>\n",
       "      <td>rebornx.duckdns.org</td>\n",
       "      <td>1.0</td>\n",
       "      <td>NS1.DUCKDNS.ORG</td>\n",
       "      <td>NS2.DUCKDNS.ORG</td>\n",
       "      <td>NS3.DUCKDNS.ORG</td>\n",
       "      <td>NS4.DUCKDNS.ORG</td>\n",
       "      <td>0</td>\n",
       "      <td>gandi sas</td>\n",
       "      <td>2021-11-26</td>\n",
       "      <td>fr</td>\n",
       "      <td>...</td>\n",
       "      <td>duckdns</td>\n",
       "      <td>0</td>\n",
       "      <td>0</td>\n",
       "      <td>0</td>\n",
       "      <td>0</td>\n",
       "      <td>1</td>\n",
       "      <td>2</td>\n",
       "      <td>support.gandi.net;contact.gandi.net</td>\n",
       "      <td>2</td>\n",
       "      <td>0.000000</td>\n",
       "    </tr>\n",
       "    <tr>\n",
       "      <th>5636</th>\n",
       "      <td>mail.dipiluminacion.com</td>\n",
       "      <td>0.0</td>\n",
       "      <td>NS1.MYHOSTINGPACK.COM</td>\n",
       "      <td>NS2.MYHOSTINGPACK.COM</td>\n",
       "      <td>ns1.myhostingpack.com</td>\n",
       "      <td>ns2.myhostingpack.com</td>\n",
       "      <td>0</td>\n",
       "      <td>akky online solutions s.a. de c.v.</td>\n",
       "      <td>2021-07-26</td>\n",
       "      <td>mx</td>\n",
       "      <td>...</td>\n",
       "      <td>myhostingpack</td>\n",
       "      <td>0</td>\n",
       "      <td>0</td>\n",
       "      <td>0</td>\n",
       "      <td>0</td>\n",
       "      <td>1</td>\n",
       "      <td>3</td>\n",
       "      <td>akky.mx</td>\n",
       "      <td>1</td>\n",
       "      <td>0.000000</td>\n",
       "    </tr>\n",
       "    <tr>\n",
       "      <th>5637</th>\n",
       "      <td>tzitziklishop.ddns.net</td>\n",
       "      <td>0.0</td>\n",
       "      <td>NF1.NO-IP.COM</td>\n",
       "      <td>NF2.NO-IP.COM</td>\n",
       "      <td>NF3.NO-IP.COM</td>\n",
       "      <td>NF4.NO-IP.COM</td>\n",
       "      <td>0</td>\n",
       "      <td>vitalwerks internet solutions, llc / no-ip.com</td>\n",
       "      <td>2022-01-13</td>\n",
       "      <td>us</td>\n",
       "      <td>...</td>\n",
       "      <td>no-ip</td>\n",
       "      <td>0</td>\n",
       "      <td>0</td>\n",
       "      <td>0</td>\n",
       "      <td>0</td>\n",
       "      <td>1</td>\n",
       "      <td>2</td>\n",
       "      <td>noip.com;no-ip.com</td>\n",
       "      <td>2</td>\n",
       "      <td>0.700000</td>\n",
       "    </tr>\n",
       "  </tbody>\n",
       "</table>\n",
       "<p>5638 rows × 56 columns</p>\n",
       "</div>"
      ],
      "text/plain": [
       "                        domain  redacted          name_servers_1  \\\n",
       "0     griffithspartners.com.au       0.0                    T.AU   \n",
       "1                    21fss.com       0.0  NS33.DOMAINCONTROL.COM   \n",
       "2        conniedunndesigns.com       0.0       NS1.DREAMHOST.COM   \n",
       "3        corporatespending.com       0.0      NS1.P23.DYNECT.NET   \n",
       "4                eraliving.com       0.0       NS65.WORLDNIC.COM   \n",
       "...                        ...       ...                     ...   \n",
       "5633              ewakyc72.top       1.0            a.dnspod.com   \n",
       "5634              ewazqx71.top       1.0            a.dnspod.com   \n",
       "5635       rebornx.duckdns.org       1.0         NS1.DUCKDNS.ORG   \n",
       "5636   mail.dipiluminacion.com       0.0   NS1.MYHOSTINGPACK.COM   \n",
       "5637    tzitziklishop.ddns.net       0.0           NF1.NO-IP.COM   \n",
       "\n",
       "              name_servers_2         name_servers_3         name_servers_4  \\\n",
       "0                       R.AU                   Q.AU                   S.AU   \n",
       "1     NS34.DOMAINCONTROL.COM                    NaN                    NaN   \n",
       "2          NS2.DREAMHOST.COM      NS3.DREAMHOST.COM                    NaN   \n",
       "3         NS2.P23.DYNECT.NET     NS3.P23.DYNECT.NET     NS4.P23.DYNECT.NET   \n",
       "4          NS66.WORLDNIC.COM                    NaN                    NaN   \n",
       "...                      ...                    ...                    ...   \n",
       "5633            b.dnspod.com           A.DNSPOD.COM           B.DNSPOD.COM   \n",
       "5634            b.dnspod.com           A.DNSPOD.COM           B.DNSPOD.COM   \n",
       "5635         NS2.DUCKDNS.ORG        NS3.DUCKDNS.ORG        NS4.DUCKDNS.ORG   \n",
       "5636   NS2.MYHOSTINGPACK.COM  ns1.myhostingpack.com  ns2.myhostingpack.com   \n",
       "5637           NF2.NO-IP.COM          NF3.NO-IP.COM          NF4.NO-IP.COM   \n",
       "\n",
       "      registrant_contact_name                                       registrar  \\\n",
       "0                           1                       afilias australia pty ltd   \n",
       "1                           0                                godaddy.com, llc   \n",
       "2                           0                                       dreamhost   \n",
       "3                           0                                godaddy.com, llc   \n",
       "4                           0                          network solutions, llc   \n",
       "...                       ...                                             ...   \n",
       "5633                        0        nicenic international group co., limited   \n",
       "5634                        0        nicenic international group co., limited   \n",
       "5635                        0                                       gandi sas   \n",
       "5636                        0              akky online solutions s.a. de c.v.   \n",
       "5637                        0  vitalwerks internet solutions, llc / no-ip.com   \n",
       "\n",
       "     updated_date country  ... main_name_server_domain serverDeleteProhibited  \\\n",
       "0      2022-03-17      zz  ...                       t                      1   \n",
       "1      2021-01-19      us  ...           domaincontrol                      0   \n",
       "2      2021-08-09      us  ...               dreamhost                      0   \n",
       "3      2020-11-08      us  ...                  dynect                      0   \n",
       "4      2018-03-07      us  ...                worldnic                      0   \n",
       "...           ...     ...  ...                     ...                    ...   \n",
       "5633   2021-08-04      ru  ...                  dnspod                      0   \n",
       "5634   2021-08-04      ru  ...                  dnspod                      0   \n",
       "5635   2021-11-26      fr  ...                 duckdns                      0   \n",
       "5636   2021-07-26      mx  ...           myhostingpack                      0   \n",
       "5637   2022-01-13      us  ...                   no-ip                      0   \n",
       "\n",
       "     clientDeleteProhibited serverRenewProhibited clientRenewProhibited  \\\n",
       "0                         0                     1                     0   \n",
       "1                         1                     0                     1   \n",
       "2                         0                     0                     0   \n",
       "3                         1                     0                     1   \n",
       "4                         0                     0                     0   \n",
       "...                     ...                   ...                   ...   \n",
       "5633                      1                     0                     0   \n",
       "5634                      1                     0                     0   \n",
       "5635                      0                     0                     0   \n",
       "5636                      0                     0                     0   \n",
       "5637                      0                     0                     0   \n",
       "\n",
       "     clientTransferProhibited num_emails                        email_domains  \\\n",
       "0                           0          0                            email_nan   \n",
       "1                           1          1                          godaddy.com   \n",
       "2                           1          4    dreamhost.com;proxy.dreamhost.com   \n",
       "3                           1          1                          godaddy.com   \n",
       "4                           1          3                eraliving.com;web.com   \n",
       "...                       ...        ...                                  ...   \n",
       "5633                        1          1                          nicenic.net   \n",
       "5634                        1          1                          nicenic.net   \n",
       "5635                        1          2  support.gandi.net;contact.gandi.net   \n",
       "5636                        1          3                              akky.mx   \n",
       "5637                        1          2                   noip.com;no-ip.com   \n",
       "\n",
       "     num_email_domains dga_probability  \n",
       "0                    1        0.000000  \n",
       "1                    1        0.000000  \n",
       "2                    2        0.020000  \n",
       "3                    1        0.000000  \n",
       "4                    2        0.010000  \n",
       "...                ...             ...  \n",
       "5633                 1        0.186667  \n",
       "5634                 1        0.570000  \n",
       "5635                 2        0.000000  \n",
       "5636                 1        0.000000  \n",
       "5637                 2        0.700000  \n",
       "\n",
       "[5638 rows x 56 columns]"
      ]
     },
     "execution_count": 6,
     "metadata": {},
     "output_type": "execute_result"
    }
   ],
   "source": [
    "data_df"
   ]
  },
  {
   "cell_type": "code",
   "execution_count": 7,
   "metadata": {
    "pycharm": {
     "name": "#%%\n"
    }
   },
   "outputs": [
    {
     "data": {
      "text/plain": [
       "Index(['domain', 'redacted', 'name_servers_1', 'name_servers_2',\n",
       "       'name_servers_3', 'name_servers_4', 'registrant_contact_name',\n",
       "       'registrar', 'updated_date', 'country', 'dnssec', 'emails', 'org',\n",
       "       'state', 'whois_server', 'address', 'city', 'emails_1', 'emails_2',\n",
       "       'emails_3', 'expiration_date', 'name', 'zipcode', 'creation_date',\n",
       "       'name_servers_5', 'name_servers_6', 'name_servers_7', 'entropy',\n",
       "       'dns_rec_a_cc', 'dns_rec_a_org', 'dns_rec_mx_cc', 'dns_rec_mx_org',\n",
       "       'community', 'min_entropy', 'max_entropy', 'avg_entropy',\n",
       "       'domain_count', 'days_between_creations', 'days_since_creation',\n",
       "       'days_between_updates', 'days_since_update', 'days_until_expiration',\n",
       "       'has_multiple_domain_names', 'multiple_domain_names_match',\n",
       "       'number_name_servers', 'num_different_ns_domains',\n",
       "       'main_name_server_domain', 'serverDeleteProhibited',\n",
       "       'clientDeleteProhibited', 'serverRenewProhibited',\n",
       "       'clientRenewProhibited', 'clientTransferProhibited', 'num_emails',\n",
       "       'email_domains', 'num_email_domains', 'dga_probability'],\n",
       "      dtype='object')"
      ]
     },
     "execution_count": 7,
     "metadata": {},
     "output_type": "execute_result"
    }
   ],
   "source": [
    "data_df.columns"
   ]
  },
  {
   "cell_type": "code",
   "execution_count": 8,
   "metadata": {},
   "outputs": [],
   "source": [
    "com_ft_train_df = pd.read_csv(\"../data/processed/graph_community_features_train.csv\")\n",
    "com_ft_test_df = pd.read_csv(\"../data/processed/graph_community_features_train.csv\")\n"
   ]
  },
  {
   "cell_type": "code",
   "execution_count": 9,
   "metadata": {
    "pycharm": {
     "name": "#%%\n"
    }
   },
   "outputs": [],
   "source": [
    "data_df = data_df.drop(columns=get_ns_cols(7))\n",
    "data_df = data_df.drop(columns=get_email_cols(3))\n",
    "data_df = data_df.drop(columns=['updated_date', 'expiration_date', 'creation_date', 'days_since_creation'])\n",
    "data_df = data_df.drop(columns=['min_entropy', 'max_entropy', 'avg_entropy', 'domain_count'])"
   ]
  },
  {
   "cell_type": "code",
   "execution_count": 10,
   "metadata": {
    "pycharm": {
     "name": "#%%\n"
    }
   },
   "outputs": [],
   "source": [
    "country_cols = ['country', 'dns_rec_a_cc', 'dns_rec_mx_cc']\n",
    "countries_list = []\n",
    "for col in country_cols:\n",
    "    countries_list += data_df[col].tolist()\n",
    "country_encoder = LabelEncoder().fit(countries_list)\n",
    "for col in country_cols:\n",
    "    data_df[col] = country_encoder.transform(data_df[col])"
   ]
  },
  {
   "cell_type": "code",
   "execution_count": 11,
   "metadata": {
    "pycharm": {
     "name": "#%%\n"
    }
   },
   "outputs": [],
   "source": [
    "cols_requiring_encoding = [\n",
    "    'registrar', 'dnssec', 'org', 'state', 'whois_server', 'address', 'city', 'name',\n",
    "    'zipcode', 'dns_rec_a_org', 'dns_rec_mx_org', 'main_name_server_domain', 'email_domains',\n",
    "]\n",
    "encoder_dict = {}\n",
    "for col in cols_requiring_encoding:\n",
    "    enc = LabelEncoder().fit(data_df[col])\n",
    "    encoder_dict[col] = enc\n",
    "    data_df[col] = enc.transform(data_df[col])\n"
   ]
  },
  {
   "cell_type": "code",
   "execution_count": 12,
   "metadata": {
    "pycharm": {
     "name": "#%%\n"
    }
   },
   "outputs": [],
   "source": [
    "data_df = data_df.fillna(-1)"
   ]
  },
  {
   "cell_type": "code",
   "execution_count": 13,
   "metadata": {
    "pycharm": {
     "name": "#%%\n"
    }
   },
   "outputs": [],
   "source": [
    "X_train, X_test, y_train, y_test = train_test_split(data_df, labels, random_state=0)"
   ]
  },
  {
   "cell_type": "code",
   "execution_count": 14,
   "metadata": {},
   "outputs": [],
   "source": [
    "X_train = X_train.merge(com_ft_train_df,how='left', left_on='domain',right_on='DomainRecord')\n",
    "X_test = X_test.merge(com_ft_train_df,how='left', left_on='domain',right_on='DomainRecord')"
   ]
  },
  {
   "cell_type": "code",
   "execution_count": 15,
   "metadata": {},
   "outputs": [],
   "source": [
    "feature_columns = ['redacted','entropy', 'number_name_servers','num_different_ns_domains','num_emails',\n",
    "                   'dga_probability','min_entropy', 'max_entropy', 'avg_entropy',\n",
    "       'domain_count', 'malicious_ratio']"
   ]
  },
  {
   "cell_type": "code",
   "execution_count": 16,
   "metadata": {
    "pycharm": {
     "name": "#%%\n"
    }
   },
   "outputs": [],
   "source": [
    "X_train = X_train.loc[:,feature_columns].fillna(-1)\n",
    "X_test = X_test.loc[:,feature_columns].fillna(-1)"
   ]
  },
  {
   "cell_type": "code",
   "execution_count": 17,
   "metadata": {
    "pycharm": {
     "name": "#%%\n"
    }
   },
   "outputs": [
    {
     "data": {
      "text/plain": [
       "Index(['redacted', 'entropy', 'number_name_servers',\n",
       "       'num_different_ns_domains', 'num_emails', 'dga_probability',\n",
       "       'min_entropy', 'max_entropy', 'avg_entropy', 'domain_count',\n",
       "       'malicious_ratio'],\n",
       "      dtype='object')"
      ]
     },
     "execution_count": 17,
     "metadata": {},
     "output_type": "execute_result"
    }
   ],
   "source": [
    "X_train.columns"
   ]
  },
  {
   "cell_type": "code",
   "execution_count": 18,
   "metadata": {},
   "outputs": [],
   "source": [
    "def plot_conf_matrix(y_test, y_predicted):\n",
    "  cm = confusion_matrix(y_test, y_predicted)\n",
    "  plt.figure(figsize=(15,10))\n",
    "  plt.clf()\n",
    "  plt.imshow(cm, interpolation='nearest', cmap=plt.cm.Wistia)\n",
    "  classNames = ['Negative','Positive']\n",
    "  plt.title('Matrice de confusion')\n",
    "  plt.ylabel('True label')\n",
    "  plt.xlabel('Predicted label')\n",
    "  tick_marks = np.arange(len(classNames))\n",
    "  plt.xticks(tick_marks, classNames, rotation=45)\n",
    "  plt.yticks(tick_marks, classNames)\n",
    "  s = [['TN','FP'], ['FN', 'TP']]\n",
    "  \n",
    "  for i in range(2):\n",
    "      for j in range(2):\n",
    "          plt.text(j,i, str(s[i][j])+\" = \"+str(cm[i][j]))\n",
    "  plt.show()"
   ]
  },
  {
   "cell_type": "code",
   "execution_count": 19,
   "metadata": {},
   "outputs": [],
   "source": [
    "model_xgb_1 = xgb.XGBClassifier(n_estimators=110, nthread=-1, max_depth = 4, seed=1729)\n"
   ]
  },
  {
   "cell_type": "code",
   "execution_count": 20,
   "metadata": {},
   "outputs": [
    {
     "name": "stderr",
     "output_type": "stream",
     "text": [
      "/Users/nb311848/Documents/mystuff/repos/artemis/venv/lib/python3.8/site-packages/xgboost/sklearn.py:793: UserWarning: `eval_metric` in `fit` method is deprecated for better compatibility with scikit-learn, use `eval_metric` in constructor or`set_params` instead.\n",
      "  warnings.warn(\n"
     ]
    },
    {
     "data": {
      "text/plain": [
       "XGBClassifier(base_score=0.5, booster='gbtree', callbacks=None,\n",
       "              colsample_bylevel=1, colsample_bynode=1, colsample_bytree=1,\n",
       "              early_stopping_rounds=None, enable_categorical=False,\n",
       "              eval_metric=None, gamma=0, gpu_id=-1, grow_policy='depthwise',\n",
       "              importance_type=None, interaction_constraints='',\n",
       "              learning_rate=0.300000012, max_bin=256, max_cat_to_onehot=4,\n",
       "              max_delta_step=0, max_depth=4, max_leaves=0, min_child_weight=1,\n",
       "              missing=nan, monotone_constraints='()', n_estimators=110,\n",
       "              n_jobs=-1, nthread=-1, num_parallel_tree=1, predictor='auto',\n",
       "              random_state=1729, reg_alpha=0, ...)"
      ]
     },
     "execution_count": 20,
     "metadata": {},
     "output_type": "execute_result"
    }
   ],
   "source": [
    "model_xgb_1.fit(X_train, y_train, eval_metric=\"auc\", verbose = False, eval_set=[(X_test, y_test)])"
   ]
  },
  {
   "cell_type": "code",
   "execution_count": 21,
   "metadata": {},
   "outputs": [],
   "source": [
    "y_predicted = model_xgb_1.predict(X_test)"
   ]
  },
  {
   "cell_type": "code",
   "execution_count": 22,
   "metadata": {
    "pycharm": {
     "name": "#%%\n"
    }
   },
   "outputs": [],
   "source": [
    "import sklearn.metrics as metrics\n",
    "import numpy as np\n",
    "import itertools\n",
    "\n",
    "import matplotlib \n",
    "import matplotlib.pyplot as plt\n",
    "\n",
    "\n",
    "def get_metrics_XGB(df,model,label, opt_thresh=0.5,K=25):\n",
    "    \n",
    "    labels,prob,pred= df_info_XGB(df,model,label)\n",
    "    \n",
    "    thrs = np.linspace(0,1,K)\n",
    "    \n",
    "    #(tn,fp,fn,tp)\n",
    "    cms = [metrics.confusion_matrix(labels, (prob > thr)*1) for thr in thrs]\n",
    "    \n",
    "    #Metric against threshold\n",
    "    f1 = np.array([metrics.f1_score(labels, (prob > thr)*1) for thr in thrs])\n",
    "    pre = np.array([metrics.precision_score(labels, (prob > thr)*1) for thr in thrs])\n",
    "    rec = np.array([metrics.recall_score(labels, (prob > thr)*1) for thr in thrs])\n",
    "\n",
    "    #Get Curves\n",
    "    roc = metrics.roc_curve(labels, prob)\n",
    "    pr = metrics.precision_recall_curve(labels, prob)\n",
    "    auc = metrics.roc_auc_score(labels,prob)\n",
    "    avgpr = metrics.average_precision_score(labels, prob)\n",
    "    \n",
    "    #Normalized Confusion Matrix\n",
    "    #(tn,fp,fn,tp)\n",
    "    cm = metrics.confusion_matrix(labels, [x > opt_thresh for x in prob])\n",
    "    #cm = cm.astype('float')/cm.sum(axis=1)[:,np.newaxis]\n",
    "    \n",
    "    return cm, cms, roc, auc, pr, avgpr, pre, rec, f1, thrs\n",
    "\n",
    "\n",
    "\n",
    "def df_info_XGB(df,model,label):\n",
    "    temp=model.predict_proba(df)\n",
    "    labels, prob, pred = label, [pr[1] for pr in temp], [round(pr[1]) for pr in temp]\n",
    "    \n",
    "    return labels, prob, pred\n",
    "\n",
    "def print_summary_XGB(df,model,label,summary=None):\n",
    "    \n",
    "    labels, prob, pred = df_info_XGB(df,model,label)\n",
    "    print('done with df_info retrieval')\n",
    "    #Get an Optimal Threshold based on minimizing the tpr and fpr difference (for now)\n",
    "    fpr, tpr, thresh = metrics.roc_curve(labels,prob)\n",
    "    opt_thresh= thresh[np.argmax(tpr-fpr)]\n",
    "    \n",
    "    #extract_info_from_df\n",
    "    print(\"#\"*30)\n",
    "    print(\"#\"+ \"Training\".center(28, ' ')+\"#\")\n",
    "    print(\"#\"*30)\n",
    "    if summary is not None:\n",
    "        print(\"{0:20s}:\\t{1:>6d}\".format('Iterations',summary.totalIterations))\n",
    "        print(\"{0:20s}:\\t{1:>5.4f}\".format('Area UnderROC',summary.areaUnderROC))\n",
    "    print(\"{0:20s}:\\t{1:>5.4f}\".format('Optimal Threshold',opt_thresh))\n",
    "    print(\"{0:20s}:\\t{1:>5.4f}\".format('Accuracy',metrics.accuracy_score(labels,(prob>opt_thresh)*1)))\n",
    "    print(\"{0:20s}:\\t{1:>5.4f}\".format('Precision',metrics.precision_score(labels,(prob>opt_thresh)*1)))\n",
    "    print(\"{0:20s}:\\t{1:>5.4f}\".format('Recall',metrics.recall_score(labels,(prob>opt_thresh)*1)))\n",
    "    print(\"#\"*30)\n",
    "    return opt_thresh\n",
    "\n",
    "\n",
    "def plot_curves_XGB(df_test,model, label,opt_thresh=None):\n",
    "    \n",
    "    matplotlib.style.use('seaborn-notebook')\n",
    "    \n",
    "    if opt_thresh is None:\n",
    "        opt_thresh= 0.5\n",
    "    \n",
    "    #Get test metrics to plot\n",
    "    cm,cms,roc,auc,pr,avgpr,precision,recall,f1,thrs=get_metrics_XGB(df_test,model,label,opt_thresh,K=25)\n",
    "    print('done with get metrics')\n",
    "    #Subplots\n",
    "    fig, ax = plt.subplots(2,3,figsize=(15,8.4))\n",
    "    plt.subplots_adjust(hspace=0.4)\n",
    "    ax1,ax2,ax3,ax4,ax5,ax6=ax[0,0], ax[0,1], ax[0,2], ax[1,0], ax[1,1], ax[1,2]\n",
    "    \n",
    "    #ROC Curve\n",
    "    ax1.step(roc[0], roc[1], \".:\", color='#61b0f4')\n",
    "    ax1.plot([0,1],[0,1],\"k:\")\n",
    "    ax1.set_ylabel('TPR (Recall)')\n",
    "    ax1.set_xlabel('FPR')\n",
    "    ax1.legend(loc='lower right')\n",
    "    ax1.set_title('ROC Curve - AUC: {0:1.4f}'.format(auc))\n",
    "    \n",
    "    #PR Curve\n",
    "    ax2.step(pr[1], pr[0], color='#61b0f4', where = 'post')\n",
    "    ax2.fill_between(pr[1], pr[0], step='post', alpha=0.2, color ='#61b0f4')\n",
    "    ax2.set_ylabel('Precision')\n",
    "    ax2.set_xlabel('Recall')\n",
    "    ax2.legend(loc='lower right')\n",
    "    ax2.set_title('PR Curve - Avg. Pr: {0:1.4f}'.format(avgpr))  \n",
    "    \n",
    "    #Confusion Matrix\n",
    "    thresh=cm.max() / 2.\n",
    "    tick_marks = np.arange(2)\n",
    "    ax3.imshow(cm, interpolation='nearest',cmap=plt.cm.Blues)\n",
    "    ax3.set_xticks(np.arange(2), minor=False)\n",
    "    ax3.set_yticks(np.arange(2), minor=False)\n",
    "    ax3.set_xticklabels(['benign', 'malicious'], fontdict=None, minor=False)\n",
    "    ax3.set_yticklabels(['benign', 'malicious'], fontdict=None, minor=False)\n",
    "    #ax3.xticks(tick_marks, ['not fraud', 'fraud'])\n",
    "    #ax3.yticks(tick_marks, ['not fraud', 'fraud'])\n",
    "    \n",
    "    ax3.set_title('Confusion Matrix - {0:s} Threshold: {1:1.3f}'.format(\"\" if opt_thresh == 0.5 else 'Optimal', opt_thresh))\n",
    "     #(tn,fp,fn,tp)\n",
    "    #print(cm[i,j])\n",
    "    for i,j in itertools.product(range(cm.shape[0]), range(cm.shape[1])):\n",
    "        ax3.text(j, i, format(cm[i, j], \".0f\"),\n",
    "                horizontalalignment='center',\n",
    "                color='white' if cm[i,j] > thresh else \"black\")\n",
    "    ax3.set_ylabel(\"True Label\")\n",
    "    ax3.set_xlabel(\"Predicted Label\")\n",
    "    \n",
    "    \n",
    "    # Precision THR Curve\n",
    "    ax4.plot(thrs, precision, \".:\", color = '#61b0f4')\n",
    "    ax4.set_ylabel('Precision')\n",
    "    ax4.set_xlabel('Threshold')\n",
    "    ax4.set_ylim([0.0,1.0])\n",
    "    ax4.set_xlim([0.0,1.0])\n",
    "    ax4.set_title('Precision Threshold Curve')\n",
    "    \n",
    "    # Recall THR Curve\n",
    "    ax5.plot(thrs, recall, \".:\", color = '#61b0f4')\n",
    "    ax5.set_ylabel('Recall')\n",
    "    ax5.set_xlabel('Threshold')\n",
    "    ax5.set_ylim([0.0,1.0])\n",
    "    ax5.set_xlim([0.0,1.0])\n",
    "    ax5.set_title('Recall Threshold Curve')\n",
    "    \n",
    "    # f1 THR Curve\n",
    "    ax6.plot(thrs, f1, \".:\", color = '#61b0f4')\n",
    "    ax6.set_ylabel('f1')\n",
    "    ax6.set_xlabel('Threshold')\n",
    "    ax6.set_ylim([0.0,1.0])\n",
    "    ax6.set_xlim([0.0,1.0])\n",
    "    ax6.set_title('F1 Threshold Curve')\n",
    "    "
   ]
  },
  {
   "cell_type": "code",
   "execution_count": 23,
   "metadata": {},
   "outputs": [
    {
     "name": "stdout",
     "output_type": "stream",
     "text": [
      "done with df_info retrieval\n",
      "##############################\n",
      "#          Training          #\n",
      "##############################\n",
      "Optimal Threshold   :\t0.3186\n",
      "Accuracy            :\t0.8936\n",
      "Precision           :\t0.8324\n",
      "Recall              :\t0.8874\n",
      "##############################\n"
     ]
    },
    {
     "data": {
      "text/plain": [
       "0.31856576"
      ]
     },
     "execution_count": 23,
     "metadata": {},
     "output_type": "execute_result"
    }
   ],
   "source": [
    "print_summary_XGB(X_test,model_xgb_1,y_test)"
   ]
  },
  {
   "cell_type": "code",
   "execution_count": 25,
   "metadata": {},
   "outputs": [
    {
     "name": "stderr",
     "output_type": "stream",
     "text": [
      "/Users/nb311848/Documents/mystuff/repos/artemis/venv/lib/python3.8/site-packages/sklearn/metrics/_classification.py:1318: UndefinedMetricWarning: Precision is ill-defined and being set to 0.0 due to no predicted samples. Use `zero_division` parameter to control this behavior.\n",
      "  _warn_prf(average, modifier, msg_start, len(result))\n",
      "No artists with labels found to put in legend.  Note that artists whose label start with an underscore are ignored when legend() is called with no argument.\n",
      "No artists with labels found to put in legend.  Note that artists whose label start with an underscore are ignored when legend() is called with no argument.\n"
     ]
    },
    {
     "name": "stdout",
     "output_type": "stream",
     "text": [
      "done with get metrics\n",
      "None\n"
     ]
    },
    {
     "data": {
      "image/png": "[encoded data removed]",
      "text/plain": [
       "<Figure size 1080x604.8 with 6 Axes>"
      ]
     },
     "metadata": {
      "needs_background": "light"
     },
     "output_type": "display_data"
    }
   ],
   "source": [
    "print(plot_curves_XGB(X_test,model_xgb_1, y_test,opt_thresh=0.3))"
   ]
  },
  {
   "cell_type": "code",
   "execution_count": null,
   "metadata": {},
   "outputs": [],
   "source": []
  },
  {
   "cell_type": "code",
   "execution_count": null,
   "metadata": {},
   "outputs": [],
   "source": []
  },
  {
   "cell_type": "code",
   "execution_count": null,
   "metadata": {},
   "outputs": [],
   "source": []
  }
 ],
 "metadata": {
  "kernelspec": {
   "display_name": "Python 3 (ipykernel)",
   "language": "python",
   "name": "python3"
  },
  "language_info": {
   "codemirror_mode": {
    "name": "ipython",
    "version": 3
   },
   "file_extension": ".py",
   "mimetype": "text/x-python",
   "name": "python",
   "nbconvert_exporter": "python",
   "pygments_lexer": "ipython3",
   "version": "3.8.12"
  }
 },
 "nbformat": 4,
 "nbformat_minor": 1
}

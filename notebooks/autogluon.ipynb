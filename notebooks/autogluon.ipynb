{
 "cells": [
  {
   "cell_type": "code",
<<<<<<< HEAD
   "execution_count": 2,
=======
   "execution_count": 5,
>>>>>>> main
   "metadata": {
    "collapsed": true
   },
   "outputs": [],
   "source": [
    "from autogluon.tabular import TabularDataset, TabularPredictor\n",
    "from sklearn.model_selection import train_test_split\n",
    "\n",
    "import pandas as pd"
   ]
  },
  {
   "cell_type": "code",
<<<<<<< HEAD
   "execution_count": 9,
=======
   "execution_count": 6,
>>>>>>> main
   "outputs": [
    {
     "name": "stderr",
     "output_type": "stream",
     "text": [
<<<<<<< HEAD
      "/Users/liam/miniconda3/envs/artemis/lib/python3.9/site-packages/IPython/core/interactiveshell.py:3457: DtypeWarning: Columns (48,99,100,101,102,103,104,108,109,110,111,112,113,115,116,117,118,119,120,121,122,126,132,133,136,138,139,140,141,144,145,146,147,149,150,151,152,156,160,161,163,164,165,166,167,168) have mixed types.Specify dtype option on import or set low_memory=False.\n",
=======
      "/Users/liam/miniconda3/envs/artemis/lib/python3.9/site-packages/IPython/core/interactiveshell.py:3457: DtypeWarning: Columns (7,39,45,47,48,49,50,52,53,60,63,65,68,71,74,76,79,82,100,101,102,103,104,105,106,107,109,110,111,112,113,114,115,116,117,119,120,124,125,136,137,138,139,140,141,142,144,145,146,147,148,149,150,151,152,153,154,155,156,158,159) have mixed types.Specify dtype option on import or set low_memory=False.\n",
>>>>>>> main
      "  exec(code_obj, self.user_global_ns, self.user_ns)\n"
     ]
    }
   ],
   "source": [
<<<<<<< HEAD
    "file=\"/Users/liam/PycharmProjects/dataspell/artemis/data/processed/whois_data.csv\"\n",
=======
    "file=\"/Users/liam/PycharmProjects/dataspell/artemis/data/interim/better_whois_data.csv\"\n",
>>>>>>> main
    "df = pd.read_csv(file)\n",
    "train, test = train_test_split(df)"
   ],
   "metadata": {
    "collapsed": false,
    "pycharm": {
     "name": "#%%\n"
    }
   }
  },
  {
   "cell_type": "code",
<<<<<<< HEAD
   "execution_count": 26,
=======
   "execution_count": 7,
>>>>>>> main
   "outputs": [],
   "source": [
    "train_data = TabularDataset(train)\n",
    "subsample_size = 500\n",
    "train_data = train_data.sample(n=subsample_size, random_state=0)"
   ],
   "metadata": {
    "collapsed": false,
    "pycharm": {
     "name": "#%%\n"
    }
   }
  },
  {
   "cell_type": "code",
<<<<<<< HEAD
   "execution_count": 27,
   "outputs": [
    {
     "data": {
      "text/plain": "               domain  redacted country    dnssec  \\\n4954  shopingplan.com     False      MY  unsigned   \n4279   ginwhiskye.top      True      US  unsigned   \n3628          ozon.ru     False      ZZ       NaN   \n3817    rs-online.com     False      GB  unsigned   \n4486     tobdol01.top      True      RU  unsigned   \n\n                          domain_name                    emails_1  \\\n4954  SHOPINGPLAN.COM;shopingplan.com  compliance_abuse@webnic.cc   \n4279    ginwhiskye.top;GINWHISKYE.TOP                         NaN   \n3628                          OZON.RU                         NaN   \n3817      RS-ONLINE.COM;rs-online.com   domainabuse@cscglobal.com   \n4486                     tobdol01.top                         NaN   \n\n                             emails_2             name_servers_1  \\\n4954  reg_19328658@whoisprotection.cc  CORTNEY.NS.CLOUDFLARE.COM   \n4279                              NaN         ns1.taco-salad.com   \n3628                              NaN          ns4-cloud.nic.ru.   \n3817   domain.admin@rs-components.com             A1-40.AKAM.NET   \n4486                              NaN               a.dnspod.com   \n\n                 name_servers_2          name_servers_3  ... dns_rec_a_cc  \\\n4954  GERARDO.NS.CLOUDFLARE.COM                     NaN  ...           na   \n4279         ns2.taco-salad.com  dora.ns.cloudflare.com  ...           us   \n3628             ns4-l2.nic.ru.       ns8-cloud.nic.ru.  ...           ru   \n3817            A11-67.AKAM.NET         A16-64.AKAM.NET  ...           na   \n4486               b.dnspod.com            A.DNSPOD.COM  ...           na   \n\n     dns_rec_a_org dns_rec_mx_cc         dns_rec_mx_org malicious  \\\n4954            na            na                     na      True   \n4279        linode            na                     na      True   \n3628    mnt-qrator            us  microsoft corporation     False   \n3817            na            na                     na     False   \n4486            na            na                     na      True   \n\n     days_between_creations days_since_creation days_between_updates  \\\n4954                    0.0               152.0                  0.0   \n4279                    0.0               201.0                139.0   \n3628                    0.0              8813.0                  NaN   \n3817                    0.0              7449.0                  0.0   \n4486                    1.0               224.0                 17.0   \n\n     days_since_update days_until_expiration  \n4954             152.0                 213.0  \n4279              62.0                 164.0  \n3628               NaN                 337.0  \n3817             148.0                 221.0  \n4486             208.0                 141.0  \n\n[5 rows x 180 columns]",
      "text/html": "<div>\n<style scoped>\n    .dataframe tbody tr th:only-of-type {\n        vertical-align: middle;\n    }\n\n    .dataframe tbody tr th {\n        vertical-align: top;\n    }\n\n    .dataframe thead th {\n        text-align: right;\n    }\n</style>\n<table border=\"1\" class=\"dataframe\">\n  <thead>\n    <tr style=\"text-align: right;\">\n      <th></th>\n      <th>domain</th>\n      <th>redacted</th>\n      <th>country</th>\n      <th>dnssec</th>\n      <th>domain_name</th>\n      <th>emails_1</th>\n      <th>emails_2</th>\n      <th>name_servers_1</th>\n      <th>name_servers_2</th>\n      <th>name_servers_3</th>\n      <th>...</th>\n      <th>dns_rec_a_cc</th>\n      <th>dns_rec_a_org</th>\n      <th>dns_rec_mx_cc</th>\n      <th>dns_rec_mx_org</th>\n      <th>malicious</th>\n      <th>days_between_creations</th>\n      <th>days_since_creation</th>\n      <th>days_between_updates</th>\n      <th>days_since_update</th>\n      <th>days_until_expiration</th>\n    </tr>\n  </thead>\n  <tbody>\n    <tr>\n      <th>4954</th>\n      <td>shopingplan.com</td>\n      <td>False</td>\n      <td>MY</td>\n      <td>unsigned</td>\n      <td>SHOPINGPLAN.COM;shopingplan.com</td>\n      <td>compliance_abuse@webnic.cc</td>\n      <td>reg_19328658@whoisprotection.cc</td>\n      <td>CORTNEY.NS.CLOUDFLARE.COM</td>\n      <td>GERARDO.NS.CLOUDFLARE.COM</td>\n      <td>NaN</td>\n      <td>...</td>\n      <td>na</td>\n      <td>na</td>\n      <td>na</td>\n      <td>na</td>\n      <td>True</td>\n      <td>0.0</td>\n      <td>152.0</td>\n      <td>0.0</td>\n      <td>152.0</td>\n      <td>213.0</td>\n    </tr>\n    <tr>\n      <th>4279</th>\n      <td>ginwhiskye.top</td>\n      <td>True</td>\n      <td>US</td>\n      <td>unsigned</td>\n      <td>ginwhiskye.top;GINWHISKYE.TOP</td>\n      <td>NaN</td>\n      <td>NaN</td>\n      <td>ns1.taco-salad.com</td>\n      <td>ns2.taco-salad.com</td>\n      <td>dora.ns.cloudflare.com</td>\n      <td>...</td>\n      <td>us</td>\n      <td>linode</td>\n      <td>na</td>\n      <td>na</td>\n      <td>True</td>\n      <td>0.0</td>\n      <td>201.0</td>\n      <td>139.0</td>\n      <td>62.0</td>\n      <td>164.0</td>\n    </tr>\n    <tr>\n      <th>3628</th>\n      <td>ozon.ru</td>\n      <td>False</td>\n      <td>ZZ</td>\n      <td>NaN</td>\n      <td>OZON.RU</td>\n      <td>NaN</td>\n      <td>NaN</td>\n      <td>ns4-cloud.nic.ru.</td>\n      <td>ns4-l2.nic.ru.</td>\n      <td>ns8-cloud.nic.ru.</td>\n      <td>...</td>\n      <td>ru</td>\n      <td>mnt-qrator</td>\n      <td>us</td>\n      <td>microsoft corporation</td>\n      <td>False</td>\n      <td>0.0</td>\n      <td>8813.0</td>\n      <td>NaN</td>\n      <td>NaN</td>\n      <td>337.0</td>\n    </tr>\n    <tr>\n      <th>3817</th>\n      <td>rs-online.com</td>\n      <td>False</td>\n      <td>GB</td>\n      <td>unsigned</td>\n      <td>RS-ONLINE.COM;rs-online.com</td>\n      <td>domainabuse@cscglobal.com</td>\n      <td>domain.admin@rs-components.com</td>\n      <td>A1-40.AKAM.NET</td>\n      <td>A11-67.AKAM.NET</td>\n      <td>A16-64.AKAM.NET</td>\n      <td>...</td>\n      <td>na</td>\n      <td>na</td>\n      <td>na</td>\n      <td>na</td>\n      <td>False</td>\n      <td>0.0</td>\n      <td>7449.0</td>\n      <td>0.0</td>\n      <td>148.0</td>\n      <td>221.0</td>\n    </tr>\n    <tr>\n      <th>4486</th>\n      <td>tobdol01.top</td>\n      <td>True</td>\n      <td>RU</td>\n      <td>unsigned</td>\n      <td>tobdol01.top</td>\n      <td>NaN</td>\n      <td>NaN</td>\n      <td>a.dnspod.com</td>\n      <td>b.dnspod.com</td>\n      <td>A.DNSPOD.COM</td>\n      <td>...</td>\n      <td>na</td>\n      <td>na</td>\n      <td>na</td>\n      <td>na</td>\n      <td>True</td>\n      <td>1.0</td>\n      <td>224.0</td>\n      <td>17.0</td>\n      <td>208.0</td>\n      <td>141.0</td>\n    </tr>\n  </tbody>\n</table>\n<p>5 rows × 180 columns</p>\n</div>"
     },
     "execution_count": 27,
=======
   "execution_count": 8,
   "outputs": [
    {
     "data": {
      "text/plain": "                     domain  redacted  \\\n1374   freeliveteencams.com     False   \n2345      colognecritic.com      True   \n4902        mocoloco.design     False   \n6978  mxaflbsa3chjk0i.quest     False   \n3592         madisontop.org     False   \n\n                                    domain_name               name_servers_1  \\\n1374  FREELIVETEENCAMS.COM;freeliveteencams.com     GLORIA.NS.CLOUDFLARE.COM   \n2345                          COLOGNECRITIC.COM           NS1.SITEGROUND.NET   \n4902                                        NaN                          NaN   \n6978                      MXAFLBSA3CHJK0I.QUEST  CHRISTIAN.NS.CLOUDFLARE.COM   \n3592                             MADISONTOP.ORG            NS43.WORLDNIC.COM   \n\n                 name_servers_2            name_servers_3  \\\n1374  RICARDO.NS.CLOUDFLARE.COM  gloria.ns.cloudflare.com   \n2345         NS2.SITEGROUND.NET        ns1.siteground.net   \n4902                        NaN                       NaN   \n6978      MIA.NS.CLOUDFLARE.COM                       NaN   \n3592          NS44.WORLDNIC.COM                       NaN   \n\n                 name_servers_4 registrant_contact_name           registrar  \\\n1374  ricardo.ns.cloudflare.com                     NaN       NAMECHEAP INC   \n2345         ns2.siteground.net                     NaN        TUCOWS, INC.   \n4902                        NaN                     NaN                 NaN   \n6978                        NaN                     NaN       NameSilo, LLC   \n3592                        NaN                     NaN  Register.com, Inc.   \n\n                                               status_1  ... dns_rec_a_cc  \\\n1374                                                NaN  ...           us   \n2345  clientTransferProhibited https://icann.org/epp...  ...           na   \n4902                                                NaN  ...           de   \n6978  serverTransferProhibited https://icann.org/epp...  ...           na   \n3592                                                NaN  ...           na   \n\n         dns_rec_a_org dns_rec_mx_cc dns_rec_mx_org malicious  \\\n1374  cloudflare, inc.            us  singlehop llc     False   \n2345                na            na             na     False   \n4902       godaddy lir            de    paragon noc     False   \n6978                na            na             na      True   \n3592                na            na             na     False   \n\n     days_between_creations days_since_creation days_between_updates  \\\n1374                    0.0               641.0                  0.0   \n2345                    0.0               739.0                  0.0   \n4902                    NaN                 NaN                  NaN   \n6978                    0.0               101.0                  0.0   \n3592                    0.0              7728.0                  0.0   \n\n     days_since_update days_until_expiration  \n1374             295.0                  89.0  \n2345              12.0                 356.0  \n4902               NaN                   NaN  \n6978              59.0                 264.0  \n3592              88.0                 307.0  \n\n[5 rows x 171 columns]",
      "text/html": "<div>\n<style scoped>\n    .dataframe tbody tr th:only-of-type {\n        vertical-align: middle;\n    }\n\n    .dataframe tbody tr th {\n        vertical-align: top;\n    }\n\n    .dataframe thead th {\n        text-align: right;\n    }\n</style>\n<table border=\"1\" class=\"dataframe\">\n  <thead>\n    <tr style=\"text-align: right;\">\n      <th></th>\n      <th>domain</th>\n      <th>redacted</th>\n      <th>domain_name</th>\n      <th>name_servers_1</th>\n      <th>name_servers_2</th>\n      <th>name_servers_3</th>\n      <th>name_servers_4</th>\n      <th>registrant_contact_name</th>\n      <th>registrar</th>\n      <th>status_1</th>\n      <th>...</th>\n      <th>dns_rec_a_cc</th>\n      <th>dns_rec_a_org</th>\n      <th>dns_rec_mx_cc</th>\n      <th>dns_rec_mx_org</th>\n      <th>malicious</th>\n      <th>days_between_creations</th>\n      <th>days_since_creation</th>\n      <th>days_between_updates</th>\n      <th>days_since_update</th>\n      <th>days_until_expiration</th>\n    </tr>\n  </thead>\n  <tbody>\n    <tr>\n      <th>1374</th>\n      <td>freeliveteencams.com</td>\n      <td>False</td>\n      <td>FREELIVETEENCAMS.COM;freeliveteencams.com</td>\n      <td>GLORIA.NS.CLOUDFLARE.COM</td>\n      <td>RICARDO.NS.CLOUDFLARE.COM</td>\n      <td>gloria.ns.cloudflare.com</td>\n      <td>ricardo.ns.cloudflare.com</td>\n      <td>NaN</td>\n      <td>NAMECHEAP INC</td>\n      <td>NaN</td>\n      <td>...</td>\n      <td>us</td>\n      <td>cloudflare, inc.</td>\n      <td>us</td>\n      <td>singlehop llc</td>\n      <td>False</td>\n      <td>0.0</td>\n      <td>641.0</td>\n      <td>0.0</td>\n      <td>295.0</td>\n      <td>89.0</td>\n    </tr>\n    <tr>\n      <th>2345</th>\n      <td>colognecritic.com</td>\n      <td>True</td>\n      <td>COLOGNECRITIC.COM</td>\n      <td>NS1.SITEGROUND.NET</td>\n      <td>NS2.SITEGROUND.NET</td>\n      <td>ns1.siteground.net</td>\n      <td>ns2.siteground.net</td>\n      <td>NaN</td>\n      <td>TUCOWS, INC.</td>\n      <td>clientTransferProhibited https://icann.org/epp...</td>\n      <td>...</td>\n      <td>na</td>\n      <td>na</td>\n      <td>na</td>\n      <td>na</td>\n      <td>False</td>\n      <td>0.0</td>\n      <td>739.0</td>\n      <td>0.0</td>\n      <td>12.0</td>\n      <td>356.0</td>\n    </tr>\n    <tr>\n      <th>4902</th>\n      <td>mocoloco.design</td>\n      <td>False</td>\n      <td>NaN</td>\n      <td>NaN</td>\n      <td>NaN</td>\n      <td>NaN</td>\n      <td>NaN</td>\n      <td>NaN</td>\n      <td>NaN</td>\n      <td>NaN</td>\n      <td>...</td>\n      <td>de</td>\n      <td>godaddy lir</td>\n      <td>de</td>\n      <td>paragon noc</td>\n      <td>False</td>\n      <td>NaN</td>\n      <td>NaN</td>\n      <td>NaN</td>\n      <td>NaN</td>\n      <td>NaN</td>\n    </tr>\n    <tr>\n      <th>6978</th>\n      <td>mxaflbsa3chjk0i.quest</td>\n      <td>False</td>\n      <td>MXAFLBSA3CHJK0I.QUEST</td>\n      <td>CHRISTIAN.NS.CLOUDFLARE.COM</td>\n      <td>MIA.NS.CLOUDFLARE.COM</td>\n      <td>NaN</td>\n      <td>NaN</td>\n      <td>NaN</td>\n      <td>NameSilo, LLC</td>\n      <td>serverTransferProhibited https://icann.org/epp...</td>\n      <td>...</td>\n      <td>na</td>\n      <td>na</td>\n      <td>na</td>\n      <td>na</td>\n      <td>True</td>\n      <td>0.0</td>\n      <td>101.0</td>\n      <td>0.0</td>\n      <td>59.0</td>\n      <td>264.0</td>\n    </tr>\n    <tr>\n      <th>3592</th>\n      <td>madisontop.org</td>\n      <td>False</td>\n      <td>MADISONTOP.ORG</td>\n      <td>NS43.WORLDNIC.COM</td>\n      <td>NS44.WORLDNIC.COM</td>\n      <td>NaN</td>\n      <td>NaN</td>\n      <td>NaN</td>\n      <td>Register.com, Inc.</td>\n      <td>NaN</td>\n      <td>...</td>\n      <td>na</td>\n      <td>na</td>\n      <td>na</td>\n      <td>na</td>\n      <td>False</td>\n      <td>0.0</td>\n      <td>7728.0</td>\n      <td>0.0</td>\n      <td>88.0</td>\n      <td>307.0</td>\n    </tr>\n  </tbody>\n</table>\n<p>5 rows × 171 columns</p>\n</div>"
     },
     "execution_count": 8,
>>>>>>> main
     "metadata": {},
     "output_type": "execute_result"
    }
   ],
   "source": [
    "train_data.head()"
   ],
   "metadata": {
    "collapsed": false,
    "pycharm": {
     "name": "#%%\n"
    }
   }
  },
  {
   "cell_type": "code",
<<<<<<< HEAD
   "execution_count": 11,
   "outputs": [
    {
     "ename": "NameError",
     "evalue": "name 'train_data' is not defined",
     "output_type": "error",
     "traceback": [
      "\u001B[0;31m---------------------------------------------------------------------------\u001B[0m",
      "\u001B[0;31mNameError\u001B[0m                                 Traceback (most recent call last)",
      "\u001B[0;32m/var/folders/s4/04m6jmt93ll3w72t198n3k3c0000gn/T/ipykernel_9328/2721920241.py\u001B[0m in \u001B[0;36m<module>\u001B[0;34m\u001B[0m\n\u001B[1;32m      1\u001B[0m \u001B[0mlabel\u001B[0m \u001B[0;34m=\u001B[0m \u001B[0;34m'malicious'\u001B[0m\u001B[0;34m\u001B[0m\u001B[0;34m\u001B[0m\u001B[0m\n\u001B[0;32m----> 2\u001B[0;31m \u001B[0mprint\u001B[0m\u001B[0;34m(\u001B[0m\u001B[0;34m\"Summary of class variable: \\n\"\u001B[0m\u001B[0;34m,\u001B[0m \u001B[0mtrain_data\u001B[0m\u001B[0;34m[\u001B[0m\u001B[0mlabel\u001B[0m\u001B[0;34m]\u001B[0m\u001B[0;34m.\u001B[0m\u001B[0mdescribe\u001B[0m\u001B[0;34m(\u001B[0m\u001B[0;34m)\u001B[0m\u001B[0;34m)\u001B[0m\u001B[0;34m\u001B[0m\u001B[0;34m\u001B[0m\u001B[0m\n\u001B[0m",
      "\u001B[0;31mNameError\u001B[0m: name 'train_data' is not defined"
=======
   "execution_count": 9,
   "outputs": [
    {
     "name": "stdout",
     "output_type": "stream",
     "text": [
      "Summary of class variable: \n",
      " count       500\n",
      "unique        2\n",
      "top       False\n",
      "freq        357\n",
      "Name: malicious, dtype: object\n"
>>>>>>> main
     ]
    }
   ],
   "source": [
    "label = 'malicious'\n",
    "print(\"Summary of class variable: \\n\", train_data[label].describe())"
   ],
   "metadata": {
    "collapsed": false,
    "pycharm": {
     "name": "#%%\n"
    }
   }
  },
  {
   "cell_type": "code",
<<<<<<< HEAD
   "execution_count": 29,
=======
   "execution_count": 10,
>>>>>>> main
   "outputs": [
    {
     "name": "stderr",
     "output_type": "stream",
     "text": [
<<<<<<< HEAD
      "Warning: path already exists! This predictor may overwrite an existing predictor! path=\"agModels-predictClass\"\n",
      "Beginning AutoGluon training ...\n",
      "AutoGluon will save models to \"agModels-predictClass/\"\n",
=======
      "Warning: path already exists! This predictor may overwrite an existing predictor! path=\"../models/agModels-predictClass\"\n",
      "Beginning AutoGluon training ...\n",
      "AutoGluon will save models to \"../models/agModels-predictClass/\"\n",
>>>>>>> main
      "AutoGluon Version:  0.4.0\n",
      "Python Version:     3.9.7\n",
      "Operating System:   Darwin\n",
      "Train Data Rows:    500\n",
<<<<<<< HEAD
      "Train Data Columns: 179\n",
      "Label Column: malicious\n",
      "Preprocessing data ...\n",
      "AutoGluon infers your prediction problem is: 'binary' (because only two unique label-values observed).\n",
      "\t2 unique label values:  [True, False]\n",
=======
      "Train Data Columns: 170\n",
      "Label Column: malicious\n",
      "Preprocessing data ...\n",
      "AutoGluon infers your prediction problem is: 'binary' (because only two unique label-values observed).\n",
      "\t2 unique label values:  [False, True]\n",
>>>>>>> main
      "\tIf 'binary' is not the correct problem_type, please manually specify the problem_type parameter during predictor init (You may specify problem_type as one of: ['binary', 'multiclass', 'regression'])\n",
      "Selected class <--> label mapping:  class 1 = True, class 0 = False\n",
      "Using Feature Generators to preprocess the data ...\n",
      "Fitting AutoMLPipelineFeatureGenerator...\n",
<<<<<<< HEAD
      "\tAvailable Memory:                    2786.45 MB\n",
      "\tTrain Data (Original)  Memory Usage: 3.33 MB (0.1% of available memory)\n",
      "\tInferring data type of each feature based on column values. Set feature_metadata_in to manually specify special dtypes of the features.\n",
      "\tStage 1 Generators:\n",
      "\t\tFitting AsTypeFeatureGenerator...\n",
      "\t\t\tNote: Converting 36 features to boolean dtype as they only contain 2 unique values.\n",
=======
      "\tAvailable Memory:                    2543.12 MB\n",
      "\tTrain Data (Original)  Memory Usage: 3.06 MB (0.1% of available memory)\n",
      "\tInferring data type of each feature based on column values. Set feature_metadata_in to manually specify special dtypes of the features.\n",
      "\tStage 1 Generators:\n",
      "\t\tFitting AsTypeFeatureGenerator...\n",
      "\t\t\tNote: Converting 39 features to boolean dtype as they only contain 2 unique values.\n",
>>>>>>> main
      "\tStage 2 Generators:\n",
      "\t\tFitting FillNaFeatureGenerator...\n",
      "\tStage 3 Generators:\n",
      "\t\tFitting IdentityFeatureGenerator...\n",
      "\t\tFitting CategoryFeatureGenerator...\n",
      "\t\t\tFitting CategoryMemoryMinimizeFeatureGenerator...\n",
      "\t\tFitting DatetimeFeatureGenerator...\n",
      "\t\tFitting TextSpecialFeatureGenerator...\n",
      "\t\t\tFitting BinnedFeatureGenerator...\n",
      "\t\t\tFitting DropDuplicatesFeatureGenerator...\n",
      "\t\tFitting TextNgramFeatureGenerator...\n",
<<<<<<< HEAD
      "\t\t\tFitting CountVectorizer for text features: ['registrar', 'address', 'registrant_name']\n",
      "\t\t\tCountVectorizer fit with vocabulary size = 5\n",
      "\tStage 4 Generators:\n",
      "\t\tFitting DropUniqueFeatureGenerator...\n",
      "\tUseless Original Features (Count: 52): ['admin_application_purpose', 'admin_nexus_category', 'admin_street', 'registrant_application_purpose', 'registrant_nexus_category', 'registrar_email', 'registrar_phone', 'tech_application_purpose', 'tech_country', 'tech_nexus_category', 'tech_street', 'billing_city', 'billing_country', 'billing_name', 'billing_state', 'registrant_state', 'tech_state', 'url', 'registrar_iana', 'organization', 'transfer_date', 'admin_phone_number', 'billing_address', 'billing_id', 'billing_phone_number', 'billing_postal_code', 'billing_state_province', 'registrant_phone_number', 'tech_phone_number', 'emails_6', 'name_server', 'nic_hdl_br', 'nslastaa', 'nsstat', 'owner_c', 'person', 'tech_c', 'admin_account_name', 'admin_company_name', 'admin_family_name', 'registrant_company_name', 'tech_account_name', 'tech_company_name', 'tech_family_name', 'admin_country_code', 'registrar_country_code', 'registrar_organization_id', 'registrar_postal_code', 'registrar_street', 'tech', 'referral_url', 'emails_7']\n",
=======
      "\t\t\tFitting CountVectorizer for text features: ['registrar', 'org', 'address', 'name_servers', 'registrar_address', 'admin_email', 'registrant_email', 'tech_email']\n",
      "\t\t\tCountVectorizer fit with vocabulary size = 14\n",
      "\tStage 4 Generators:\n",
      "\t\tFitting DropUniqueFeatureGenerator...\n",
      "\tUseless Original Features (Count: 26): ['transfer_date', 'emails_5', 'organization', 'tech', 'referral_url', 'admin_org', 'registrant_fax', 'tech_org', 'curent_registrar', 'registar_created', 'emails_6', 'lats_modified', 'updated_date_5', 'registrant_zip', 'emails_7', 'billing_address', 'billing_id', 'billing_phone_number', 'billing_postal_code', 'billing_state_province', 'admin_country_code', 'registrar_country_code', 'registrar_organization_id', 'registrar_postal_code', 'registrar_street', 'updated_date_6']\n",
>>>>>>> main
      "\t\tThese features carry no predictive signal and should be manually investigated.\n",
      "\t\tThis is typically a feature which has the same value for all rows.\n",
      "\t\tThese features do not need to be present at inference time.\n",
      "\tTypes of features in original data (raw dtype, special dtypes):\n",
      "\t\t('bool', [])                       :   1 | ['redacted']\n",
<<<<<<< HEAD
      "\t\t('float', [])                      :   7 | ['registrar_id', 'entropy', 'days_between_creations', 'days_since_creation', 'days_between_updates', ...]\n",
      "\t\t('object', [])                     : 113 | ['domain', 'country', 'dnssec', 'domain_name', 'emails_1', ...]\n",
      "\t\t('object', ['datetime_as_object']) :   3 | ['updated_date', 'creation_date', 'expiration_date']\n",
      "\t\t('object', ['text'])               :   3 | ['registrar', 'address', 'registrant_name']\n",
      "\tTypes of features in processed data (raw dtype, special dtypes):\n",
      "\t\t('category', [])                    : 78 | ['domain', 'country', 'dnssec', 'domain_name', 'emails_1', ...]\n",
      "\t\t('category', ['text_as_category'])  :  3 | ['registrar', 'address', 'registrant_name']\n",
      "\t\t('float', [])                       :  7 | ['registrar_id', 'entropy', 'days_between_creations', 'days_since_creation', 'days_between_updates', ...]\n",
      "\t\t('int', ['binned', 'text_special']) : 32 | ['registrar.char_count', 'registrar.word_count', 'registrar.capital_ratio', 'registrar.lower_ratio', 'registrar.digit_ratio', ...]\n",
      "\t\t('int', ['bool'])                   : 36 | ['redacted', 'admin', 'admin_city', 'admin_country', 'admin_id', ...]\n",
      "\t\t('int', ['datetime_as_int'])        : 15 | ['updated_date', 'updated_date.year', 'updated_date.month', 'updated_date.day', 'updated_date.dayofweek', ...]\n",
      "\t\t('int', ['text_ngram'])             :  6 | ['__nlp__.corporate', '__nlp__.corporate domains', '__nlp__.domains', '__nlp__.domains inc', '__nlp__.inc', ...]\n",
      "\t1.8s = Fit runtime\n",
      "\t127 features in original data used to generate 177 features in processed data.\n",
      "\tTrain Data (Processed) Memory Usage: 0.2 MB (0.0% of available memory)\n",
      "Data preprocessing and feature engineering runtime = 1.9s ...\n",
=======
      "\t\t('float', [])                      :   8 | ['registrar_iana', 'registrar_id', 'entropy', 'days_between_creations', 'days_since_creation', ...]\n",
      "\t\t('object', [])                     : 124 | ['domain', 'domain_name', 'name_servers_1', 'name_servers_2', 'name_servers_3', ...]\n",
      "\t\t('object', ['datetime_as_object']) :   3 | ['updated_date', 'expiration_date', 'creation_date']\n",
      "\t\t('object', ['text'])               :   8 | ['registrar', 'org', 'address', 'name_servers', 'registrar_address', ...]\n",
      "\tTypes of features in processed data (raw dtype, special dtypes):\n",
      "\t\t('category', [])                    : 86 | ['domain', 'domain_name', 'name_servers_1', 'name_servers_2', 'name_servers_3', ...]\n",
      "\t\t('category', ['text_as_category'])  :  8 | ['registrar', 'org', 'address', 'name_servers', 'registrar_address', ...]\n",
      "\t\t('float', [])                       :  8 | ['registrar_iana', 'registrar_id', 'entropy', 'days_between_creations', 'days_since_creation', ...]\n",
      "\t\t('int', ['binned', 'text_special']) : 64 | ['registrar.char_count', 'registrar.word_count', 'registrar.capital_ratio', 'registrar.lower_ratio', 'registrar.digit_ratio', ...]\n",
      "\t\t('int', ['bool'])                   : 39 | ['redacted', 'registrant_contact_name', 'registrant_type', 'admin_account_name', 'admin_company_name', ...]\n",
      "\t\t('int', ['datetime_as_int'])        : 15 | ['updated_date', 'updated_date.year', 'updated_date.month', 'updated_date.day', 'updated_date.dayofweek', ...]\n",
      "\t\t('int', ['text_ngram'])             : 15 | ['__nlp__.com', '__nlp__.com llc', '__nlp__.for', '__nlp__.for privacy', '__nlp__.godaddy', ...]\n",
      "\t2.9s = Fit runtime\n",
      "\t144 features in original data used to generate 235 features in processed data.\n",
      "\tTrain Data (Processed) Memory Usage: 0.24 MB (0.0% of available memory)\n",
      "Data preprocessing and feature engineering runtime = 3.02s ...\n",
>>>>>>> main
      "AutoGluon will gauge predictive performance using evaluation metric: 'accuracy'\n",
      "\tTo change this, specify the eval_metric parameter of Predictor()\n",
      "Automatically generating train/validation split with holdout_frac=0.2, Train Rows: 400, Val Rows: 100\n",
      "Fitting 13 L1 models ...\n",
      "Fitting model: KNeighborsUnif ...\n",
<<<<<<< HEAD
      "\t0.89\t = Validation score   (accuracy)\n",
      "\t0.02s\t = Training   runtime\n",
      "\t0.01s\t = Validation runtime\n",
      "Fitting model: KNeighborsDist ...\n",
      "\t0.89\t = Validation score   (accuracy)\n",
      "\t0.03s\t = Training   runtime\n",
      "\t0.01s\t = Validation runtime\n",
      "Fitting model: LightGBMXT ...\n",
      "\t0.98\t = Validation score   (accuracy)\n",
      "\t0.55s\t = Training   runtime\n",
      "\t0.03s\t = Validation runtime\n",
      "Fitting model: LightGBM ...\n",
      "\t0.98\t = Validation score   (accuracy)\n",
      "\t0.56s\t = Training   runtime\n",
      "\t0.04s\t = Validation runtime\n",
      "Fitting model: RandomForestGini ...\n",
      "\t0.96\t = Validation score   (accuracy)\n",
      "\t0.96s\t = Training   runtime\n",
      "\t0.09s\t = Validation runtime\n",
      "Fitting model: RandomForestEntr ...\n",
      "\t0.97\t = Validation score   (accuracy)\n",
      "\t0.68s\t = Training   runtime\n",
      "\t0.06s\t = Validation runtime\n",
      "Fitting model: CatBoost ...\n",
      "\t0.98\t = Validation score   (accuracy)\n",
      "\t11.82s\t = Training   runtime\n",
      "\t0.1s\t = Validation runtime\n",
      "Fitting model: ExtraTreesGini ...\n",
      "\t0.94\t = Validation score   (accuracy)\n",
      "\t0.63s\t = Training   runtime\n",
      "\t0.07s\t = Validation runtime\n",
      "Fitting model: ExtraTreesEntr ...\n",
      "\t0.95\t = Validation score   (accuracy)\n",
      "\t0.61s\t = Training   runtime\n",
      "\t0.13s\t = Validation runtime\n",
      "Fitting model: NeuralNetFastAI ...\n",
      "No improvement since epoch 8: early stopping\n",
      "\t0.97\t = Validation score   (accuracy)\n",
      "\t1.39s\t = Training   runtime\n",
      "\t0.05s\t = Validation runtime\n",
      "Fitting model: XGBoost ...\n",
      "\t0.98\t = Validation score   (accuracy)\n",
      "\t0.39s\t = Training   runtime\n",
      "\t0.02s\t = Validation runtime\n",
      "Fitting model: NeuralNetTorch ...\n",
      "\t0.96\t = Validation score   (accuracy)\n",
      "\t6.1s\t = Training   runtime\n",
      "\t0.04s\t = Validation runtime\n",
      "Fitting model: LightGBMLarge ...\n",
      "\t0.97\t = Validation score   (accuracy)\n",
      "\t1.35s\t = Training   runtime\n",
      "\t0.04s\t = Validation runtime\n",
      "Fitting model: WeightedEnsemble_L2 ...\n",
      "\t0.98\t = Validation score   (accuracy)\n",
      "\t0.4s\t = Training   runtime\n",
      "\t0.0s\t = Validation runtime\n",
      "AutoGluon training complete, total runtime = 29.07s ... Best model: \"WeightedEnsemble_L2\"\n",
      "TabularPredictor saved. To load, use: predictor = TabularPredictor.load(\"agModels-predictClass/\")\n"
=======
      "\t0.87\t = Validation score   (accuracy)\n",
      "\t0.06s\t = Training   runtime\n",
      "\t0.1s\t = Validation runtime\n",
      "Fitting model: KNeighborsDist ...\n",
      "\t0.86\t = Validation score   (accuracy)\n",
      "\t0.05s\t = Training   runtime\n",
      "\t0.01s\t = Validation runtime\n",
      "Fitting model: LightGBMXT ...\n",
      "\t0.94\t = Validation score   (accuracy)\n",
      "\t1.88s\t = Training   runtime\n",
      "\t0.04s\t = Validation runtime\n",
      "Fitting model: LightGBM ...\n",
      "\t0.95\t = Validation score   (accuracy)\n",
      "\t0.54s\t = Training   runtime\n",
      "\t0.04s\t = Validation runtime\n",
      "Fitting model: RandomForestGini ...\n",
      "\t0.9\t = Validation score   (accuracy)\n",
      "\t0.8s\t = Training   runtime\n",
      "\t0.07s\t = Validation runtime\n",
      "Fitting model: RandomForestEntr ...\n",
      "\t0.88\t = Validation score   (accuracy)\n",
      "\t0.59s\t = Training   runtime\n",
      "\t0.06s\t = Validation runtime\n",
      "Fitting model: CatBoost ...\n",
      "\t0.92\t = Validation score   (accuracy)\n",
      "\t17.17s\t = Training   runtime\n",
      "\t0.16s\t = Validation runtime\n",
      "Fitting model: ExtraTreesGini ...\n",
      "\t0.9\t = Validation score   (accuracy)\n",
      "\t0.7s\t = Training   runtime\n",
      "\t0.07s\t = Validation runtime\n",
      "Fitting model: ExtraTreesEntr ...\n",
      "\t0.9\t = Validation score   (accuracy)\n",
      "\t0.58s\t = Training   runtime\n",
      "\t0.07s\t = Validation runtime\n",
      "Fitting model: NeuralNetFastAI ...\n",
      "\t0.89\t = Validation score   (accuracy)\n",
      "\t4.81s\t = Training   runtime\n",
      "\t0.1s\t = Validation runtime\n",
      "Fitting model: XGBoost ...\n",
      "\t0.92\t = Validation score   (accuracy)\n",
      "\t0.49s\t = Training   runtime\n",
      "\t0.02s\t = Validation runtime\n",
      "Fitting model: NeuralNetTorch ...\n",
      "\t0.92\t = Validation score   (accuracy)\n",
      "\t3.57s\t = Training   runtime\n",
      "\t0.05s\t = Validation runtime\n",
      "Fitting model: LightGBMLarge ...\n",
      "\t0.94\t = Validation score   (accuracy)\n",
      "\t1.13s\t = Training   runtime\n",
      "\t0.07s\t = Validation runtime\n",
      "Fitting model: WeightedEnsemble_L2 ...\n",
      "\t0.95\t = Validation score   (accuracy)\n",
      "\t0.44s\t = Training   runtime\n",
      "\t0.0s\t = Validation runtime\n",
      "AutoGluon training complete, total runtime = 38.47s ... Best model: \"WeightedEnsemble_L2\"\n",
      "TabularPredictor saved. To load, use: predictor = TabularPredictor.load(\"../models/agModels-predictClass/\")\n"
>>>>>>> main
     ]
    }
   ],
   "source": [
    "save_path = '../models/agModels-predictClass'  # specifies folder to store trained models\n",
    "predictor = TabularPredictor(label=label, path=save_path).fit(train_data)"
   ],
   "metadata": {
    "collapsed": false,
    "pycharm": {
     "name": "#%%\n"
    }
   }
  },
  {
   "cell_type": "code",
<<<<<<< HEAD
   "execution_count": 12,
   "outputs": [
    {
     "data": {
      "text/plain": "                            domain  redacted country             dnssec  \\\n5542  www.wrapedqvrtrgkmttfkcq.com     False      RO  unsigned;Unsigned   \n3786                     king5.com     False      US  unsigned;unSigned   \n5853                  westdefe.com     False      IS           unsigned   \n3943                primevideo.com     False      US           unsigned   \n2719                   mcmaster.ca     False      ZZ           unsigned   \n\n                        domain_name                         emails_1  \\\n5542       WRAPEDQVRTRGKMTTFKCQ.COM                     abuse@reg.ru   \n3786                      KING5.COM                              NaN   \n5853      WESTDEFE.COM;westdefe.com              abuse@namecheap.com   \n3943  PRIMEVIDEO.COM;primevideo.com  abusecomplaints@markmonitor.com   \n2719                    mcmaster.ca                              NaN   \n\n                                               emails_2  \\\n5542             WRAPEDQVRTRGKMTTFKCQ.COM@regprivate.ru   \n3786                                                NaN   \n5853  797c3a828b6b477a92ec17ef58db180d.protect@withh...   \n3943                              hostmaster@amazon.com   \n2719                                                NaN   \n\n                  name_servers_1              name_servers_2  \\\n5542                  NS1.REG.RU                  NS2.REG.RU   \n3786       NS-1036.AWSDNS-01.ORG     NS-1822.AWSDNS-35.CO.UK   \n5853  DNS1.REGISTRAR-SERVERS.COM  DNS2.REGISTRAR-SERVERS.COM   \n3943       NS-1172.AWSDNS-18.ORG     NS-1933.AWSDNS-49.CO.UK   \n2719                         NaN                         NaN   \n\n                  name_servers_3  ...   entropy dns_rec_a_cc  \\\n5542                  ns1.reg.ru  ...  3.588354           ru   \n3786        NS-466.AWSDNS-58.COM  ...  2.321928           us   \n5853  dns1.registrar-servers.com  ...  2.405639           na   \n3943        NS-306.AWSDNS-38.COM  ...  2.921928           us   \n2719                         NaN  ...  2.750000           ca   \n\n                 dns_rec_a_org dns_rec_mx_cc         dns_rec_mx_org  \\\n5542                 regru-mnt            na                     na   \n3786  amazon technologies inc.            us  microsoft corporation   \n5853                        na            na                     na   \n3943          amazon.com, inc.            us       amazon.com, inc.   \n2719       mcmaster university            ca    mcmaster university   \n\n     days_between_creations days_since_creation days_between_updates  \\\n5542                    0.0               270.0                  0.0   \n3786                    0.0              9738.0                  0.0   \n5853                    0.0               201.0                  0.0   \n3943                    0.0              7818.0                  0.0   \n2719                    0.0              7829.0                  0.0   \n\n     days_since_update days_until_expiration  \n5542             270.0                  95.0  \n3786             272.0                 123.0  \n5853             172.0                 164.0  \n3943             241.0                 217.0  \n2719              71.0                 381.0  \n\n[5 rows x 179 columns]",
      "text/html": "<div>\n<style scoped>\n    .dataframe tbody tr th:only-of-type {\n        vertical-align: middle;\n    }\n\n    .dataframe tbody tr th {\n        vertical-align: top;\n    }\n\n    .dataframe thead th {\n        text-align: right;\n    }\n</style>\n<table border=\"1\" class=\"dataframe\">\n  <thead>\n    <tr style=\"text-align: right;\">\n      <th></th>\n      <th>domain</th>\n      <th>redacted</th>\n      <th>country</th>\n      <th>dnssec</th>\n      <th>domain_name</th>\n      <th>emails_1</th>\n      <th>emails_2</th>\n      <th>name_servers_1</th>\n      <th>name_servers_2</th>\n      <th>name_servers_3</th>\n      <th>...</th>\n      <th>entropy</th>\n      <th>dns_rec_a_cc</th>\n      <th>dns_rec_a_org</th>\n      <th>dns_rec_mx_cc</th>\n      <th>dns_rec_mx_org</th>\n      <th>days_between_creations</th>\n      <th>days_since_creation</th>\n      <th>days_between_updates</th>\n      <th>days_since_update</th>\n      <th>days_until_expiration</th>\n    </tr>\n  </thead>\n  <tbody>\n    <tr>\n      <th>5542</th>\n      <td>www.wrapedqvrtrgkmttfkcq.com</td>\n      <td>False</td>\n      <td>RO</td>\n      <td>unsigned;Unsigned</td>\n      <td>WRAPEDQVRTRGKMTTFKCQ.COM</td>\n      <td>abuse@reg.ru</td>\n      <td>WRAPEDQVRTRGKMTTFKCQ.COM@regprivate.ru</td>\n      <td>NS1.REG.RU</td>\n      <td>NS2.REG.RU</td>\n      <td>ns1.reg.ru</td>\n      <td>...</td>\n      <td>3.588354</td>\n      <td>ru</td>\n      <td>regru-mnt</td>\n      <td>na</td>\n      <td>na</td>\n      <td>0.0</td>\n      <td>270.0</td>\n      <td>0.0</td>\n      <td>270.0</td>\n      <td>95.0</td>\n    </tr>\n    <tr>\n      <th>3786</th>\n      <td>king5.com</td>\n      <td>False</td>\n      <td>US</td>\n      <td>unsigned;unSigned</td>\n      <td>KING5.COM</td>\n      <td>NaN</td>\n      <td>NaN</td>\n      <td>NS-1036.AWSDNS-01.ORG</td>\n      <td>NS-1822.AWSDNS-35.CO.UK</td>\n      <td>NS-466.AWSDNS-58.COM</td>\n      <td>...</td>\n      <td>2.321928</td>\n      <td>us</td>\n      <td>amazon technologies inc.</td>\n      <td>us</td>\n      <td>microsoft corporation</td>\n      <td>0.0</td>\n      <td>9738.0</td>\n      <td>0.0</td>\n      <td>272.0</td>\n      <td>123.0</td>\n    </tr>\n    <tr>\n      <th>5853</th>\n      <td>westdefe.com</td>\n      <td>False</td>\n      <td>IS</td>\n      <td>unsigned</td>\n      <td>WESTDEFE.COM;westdefe.com</td>\n      <td>abuse@namecheap.com</td>\n      <td>797c3a828b6b477a92ec17ef58db180d.protect@withh...</td>\n      <td>DNS1.REGISTRAR-SERVERS.COM</td>\n      <td>DNS2.REGISTRAR-SERVERS.COM</td>\n      <td>dns1.registrar-servers.com</td>\n      <td>...</td>\n      <td>2.405639</td>\n      <td>na</td>\n      <td>na</td>\n      <td>na</td>\n      <td>na</td>\n      <td>0.0</td>\n      <td>201.0</td>\n      <td>0.0</td>\n      <td>172.0</td>\n      <td>164.0</td>\n    </tr>\n    <tr>\n      <th>3943</th>\n      <td>primevideo.com</td>\n      <td>False</td>\n      <td>US</td>\n      <td>unsigned</td>\n      <td>PRIMEVIDEO.COM;primevideo.com</td>\n      <td>abusecomplaints@markmonitor.com</td>\n      <td>hostmaster@amazon.com</td>\n      <td>NS-1172.AWSDNS-18.ORG</td>\n      <td>NS-1933.AWSDNS-49.CO.UK</td>\n      <td>NS-306.AWSDNS-38.COM</td>\n      <td>...</td>\n      <td>2.921928</td>\n      <td>us</td>\n      <td>amazon.com, inc.</td>\n      <td>us</td>\n      <td>amazon.com, inc.</td>\n      <td>0.0</td>\n      <td>7818.0</td>\n      <td>0.0</td>\n      <td>241.0</td>\n      <td>217.0</td>\n    </tr>\n    <tr>\n      <th>2719</th>\n      <td>mcmaster.ca</td>\n      <td>False</td>\n      <td>ZZ</td>\n      <td>unsigned</td>\n      <td>mcmaster.ca</td>\n      <td>NaN</td>\n      <td>NaN</td>\n      <td>NaN</td>\n      <td>NaN</td>\n      <td>NaN</td>\n      <td>...</td>\n      <td>2.750000</td>\n      <td>ca</td>\n      <td>mcmaster university</td>\n      <td>ca</td>\n      <td>mcmaster university</td>\n      <td>0.0</td>\n      <td>7829.0</td>\n      <td>0.0</td>\n      <td>71.0</td>\n      <td>381.0</td>\n    </tr>\n  </tbody>\n</table>\n<p>5 rows × 179 columns</p>\n</div>"
     },
     "execution_count": 12,
=======
   "execution_count": 11,
   "outputs": [
    {
     "data": {
      "text/plain": "                     domain  redacted  \\\n3423           earbuddy.net     False   \n5458  phfitpersonalized.com     False   \n1194         ilegacy.com.my     False   \n4989     savethesingles.com     False   \n4021        houseoflime.com     False   \n\n                                      domain_name          name_servers_1  \\\n3423                                 EARBUDDY.NET   NED.NS.CLOUDFLARE.COM   \n5458  PHFITPERSONALIZED.COM;phfitpersonalized.com  NS51.DOMAINCONTROL.COM   \n1194                                          NaN                     NaN   \n4989        SAVETHESINGLES.COM;savethesingles.com       NS1.GNAME-DNS.COM   \n4021                              HOUSEOFLIME.COM     DNS101.REGISTER.COM   \n\n              name_servers_2     name_servers_3     name_servers_4  \\\n3423   NIA.NS.CLOUDFLARE.COM                NaN                NaN   \n5458  NS52.DOMAINCONTROL.COM                NaN                NaN   \n1194                     NaN                NaN                NaN   \n4989       NS2.GNAME-DNS.COM  ns1.gname-dns.com  ns2.gname-dns.com   \n4021     DNS102.REGISTER.COM                NaN                NaN   \n\n     registrant_contact_name                       registrar  \\\n3423                     NaN                GoDaddy.com, LLC   \n5458                     NaN                GoDaddy.com, LLC   \n1194                     NaN                             NaN   \n4989                     NaN  PSI-USA, Inc. dba Domain Robot   \n4021                     NaN              Register.com, Inc.   \n\n                                                                     status_1  \\\n3423      clientDeleteProhibited https://icann.org/epp#clientDeleteProhibited   \n5458      clientDeleteProhibited https://icann.org/epp#clientDeleteProhibited   \n1194                                                                      NaN   \n4989  clientTransferProhibited https://icann.org/epp#clientTransferProhibited   \n4021                                                                      NaN   \n\n      ...   entropy dns_rec_a_cc                 dns_rec_a_org dns_rec_mx_cc  \\\n3423  ...  2.750000           na                            na            na   \n5458  ...  3.734522           na                            na            na   \n1194  ...  2.807355           my  network operation center noc            my   \n4989  ...  3.128085           na                            na            na   \n4021  ...  3.095795           na                            na            na   \n\n       dns_rec_mx_org days_between_creations days_since_creation  \\\n3423               na                    1.0              3855.0   \n5458               na                    0.0              2010.0   \n1194  irt-exabytes-my                    NaN                 NaN   \n4989               na                    0.0               349.0   \n4021               na                    0.0              7809.0   \n\n     days_between_updates days_since_update days_until_expiration  \n3423                  0.0             567.0                 163.0  \n5458                  0.0             183.0                 181.0  \n1194                  NaN               NaN                   NaN  \n4989                  0.0              20.0                  16.0  \n4021                  0.0             169.0                 226.0  \n\n[5 rows x 170 columns]",
      "text/html": "<div>\n<style scoped>\n    .dataframe tbody tr th:only-of-type {\n        vertical-align: middle;\n    }\n\n    .dataframe tbody tr th {\n        vertical-align: top;\n    }\n\n    .dataframe thead th {\n        text-align: right;\n    }\n</style>\n<table border=\"1\" class=\"dataframe\">\n  <thead>\n    <tr style=\"text-align: right;\">\n      <th></th>\n      <th>domain</th>\n      <th>redacted</th>\n      <th>domain_name</th>\n      <th>name_servers_1</th>\n      <th>name_servers_2</th>\n      <th>name_servers_3</th>\n      <th>name_servers_4</th>\n      <th>registrant_contact_name</th>\n      <th>registrar</th>\n      <th>status_1</th>\n      <th>...</th>\n      <th>entropy</th>\n      <th>dns_rec_a_cc</th>\n      <th>dns_rec_a_org</th>\n      <th>dns_rec_mx_cc</th>\n      <th>dns_rec_mx_org</th>\n      <th>days_between_creations</th>\n      <th>days_since_creation</th>\n      <th>days_between_updates</th>\n      <th>days_since_update</th>\n      <th>days_until_expiration</th>\n    </tr>\n  </thead>\n  <tbody>\n    <tr>\n      <th>3423</th>\n      <td>earbuddy.net</td>\n      <td>False</td>\n      <td>EARBUDDY.NET</td>\n      <td>NED.NS.CLOUDFLARE.COM</td>\n      <td>NIA.NS.CLOUDFLARE.COM</td>\n      <td>NaN</td>\n      <td>NaN</td>\n      <td>NaN</td>\n      <td>GoDaddy.com, LLC</td>\n      <td>clientDeleteProhibited https://icann.org/epp#clientDeleteProhibited</td>\n      <td>...</td>\n      <td>2.750000</td>\n      <td>na</td>\n      <td>na</td>\n      <td>na</td>\n      <td>na</td>\n      <td>1.0</td>\n      <td>3855.0</td>\n      <td>0.0</td>\n      <td>567.0</td>\n      <td>163.0</td>\n    </tr>\n    <tr>\n      <th>5458</th>\n      <td>phfitpersonalized.com</td>\n      <td>False</td>\n      <td>PHFITPERSONALIZED.COM;phfitpersonalized.com</td>\n      <td>NS51.DOMAINCONTROL.COM</td>\n      <td>NS52.DOMAINCONTROL.COM</td>\n      <td>NaN</td>\n      <td>NaN</td>\n      <td>NaN</td>\n      <td>GoDaddy.com, LLC</td>\n      <td>clientDeleteProhibited https://icann.org/epp#clientDeleteProhibited</td>\n      <td>...</td>\n      <td>3.734522</td>\n      <td>na</td>\n      <td>na</td>\n      <td>na</td>\n      <td>na</td>\n      <td>0.0</td>\n      <td>2010.0</td>\n      <td>0.0</td>\n      <td>183.0</td>\n      <td>181.0</td>\n    </tr>\n    <tr>\n      <th>1194</th>\n      <td>ilegacy.com.my</td>\n      <td>False</td>\n      <td>NaN</td>\n      <td>NaN</td>\n      <td>NaN</td>\n      <td>NaN</td>\n      <td>NaN</td>\n      <td>NaN</td>\n      <td>NaN</td>\n      <td>NaN</td>\n      <td>...</td>\n      <td>2.807355</td>\n      <td>my</td>\n      <td>network operation center noc</td>\n      <td>my</td>\n      <td>irt-exabytes-my</td>\n      <td>NaN</td>\n      <td>NaN</td>\n      <td>NaN</td>\n      <td>NaN</td>\n      <td>NaN</td>\n    </tr>\n    <tr>\n      <th>4989</th>\n      <td>savethesingles.com</td>\n      <td>False</td>\n      <td>SAVETHESINGLES.COM;savethesingles.com</td>\n      <td>NS1.GNAME-DNS.COM</td>\n      <td>NS2.GNAME-DNS.COM</td>\n      <td>ns1.gname-dns.com</td>\n      <td>ns2.gname-dns.com</td>\n      <td>NaN</td>\n      <td>PSI-USA, Inc. dba Domain Robot</td>\n      <td>clientTransferProhibited https://icann.org/epp#clientTransferProhibited</td>\n      <td>...</td>\n      <td>3.128085</td>\n      <td>na</td>\n      <td>na</td>\n      <td>na</td>\n      <td>na</td>\n      <td>0.0</td>\n      <td>349.0</td>\n      <td>0.0</td>\n      <td>20.0</td>\n      <td>16.0</td>\n    </tr>\n    <tr>\n      <th>4021</th>\n      <td>houseoflime.com</td>\n      <td>False</td>\n      <td>HOUSEOFLIME.COM</td>\n      <td>DNS101.REGISTER.COM</td>\n      <td>DNS102.REGISTER.COM</td>\n      <td>NaN</td>\n      <td>NaN</td>\n      <td>NaN</td>\n      <td>Register.com, Inc.</td>\n      <td>NaN</td>\n      <td>...</td>\n      <td>3.095795</td>\n      <td>na</td>\n      <td>na</td>\n      <td>na</td>\n      <td>na</td>\n      <td>0.0</td>\n      <td>7809.0</td>\n      <td>0.0</td>\n      <td>169.0</td>\n      <td>226.0</td>\n    </tr>\n  </tbody>\n</table>\n<p>5 rows × 170 columns</p>\n</div>"
     },
     "execution_count": 11,
>>>>>>> main
     "metadata": {},
     "output_type": "execute_result"
    }
   ],
   "source": [
    "test_data = TabularDataset(test)\n",
    "y_test = test_data[label]\n",
    "test_data_nolab = test_data.drop(columns=[label])\n",
    "test_data_nolab.head()"
   ],
   "metadata": {
    "collapsed": false,
    "pycharm": {
     "name": "#%%\n"
    }
   }
  },
  {
   "cell_type": "code",
<<<<<<< HEAD
   "execution_count": 31,
=======
   "execution_count": 12,
>>>>>>> main
   "outputs": [
    {
     "name": "stderr",
     "output_type": "stream",
     "text": [
<<<<<<< HEAD
      "Evaluation: accuracy on test data: 0.9563882063882064\n",
      "Evaluations on test data:\n",
      "{\n",
      "    \"accuracy\": 0.9563882063882064,\n",
      "    \"balanced_accuracy\": 0.9450687301739883,\n",
      "    \"mcc\": 0.9082031446209389,\n",
      "    \"f1\": 0.9398814563928873,\n",
      "    \"precision\": 0.9857904085257548,\n",
      "    \"recall\": 0.8980582524271845\n",
=======
      "Evaluation: accuracy on test data: 0.915863277826468\n",
      "Evaluations on test data:\n",
      "{\n",
      "    \"accuracy\": 0.915863277826468,\n",
      "    \"balanced_accuracy\": 0.8722349134114017,\n",
      "    \"mcc\": 0.7749025898648714,\n",
      "    \"f1\": 0.8279569892473119,\n",
      "    \"precision\": 0.88,\n",
      "    \"recall\": 0.7817258883248731\n",
>>>>>>> main
      "}\n"
     ]
    },
    {
     "name": "stdout",
     "output_type": "stream",
     "text": [
      "Predictions:  \n",
<<<<<<< HEAD
      " 6232     True\n",
      "3090    False\n",
      "976     False\n",
      "4507     True\n",
      "6035     True\n",
      "        ...  \n",
      "1197    False\n",
      "3319    False\n",
      "2323    False\n",
      "896     False\n",
      "18      False\n",
      "Name: malicious, Length: 1628, dtype: bool\n"
=======
      " 3423    False\n",
      "5458    False\n",
      "1194    False\n",
      "4989    False\n",
      "4021    False\n",
      "        ...  \n",
      "7773    False\n",
      "2738    False\n",
      "8629     True\n",
      "6054    False\n",
      "6166    False\n",
      "Name: malicious, Length: 2282, dtype: bool\n"
>>>>>>> main
     ]
    }
   ],
   "source": [
    "predictor = TabularPredictor.load(save_path)\n",
    "y_pred = predictor.predict(test_data_nolab)\n",
    "print(\"Predictions:  \\n\", y_pred)\n",
    "perf = predictor.evaluate_predictions(y_true=y_test, y_pred=y_pred, auxiliary_metrics=True)"
   ],
   "metadata": {
    "collapsed": false,
    "pycharm": {
     "name": "#%%\n"
    }
   }
  },
  {
   "cell_type": "code",
<<<<<<< HEAD
   "execution_count": 32,
   "outputs": [
    {
     "data": {
      "text/plain": "                  model  score_test  score_val  pred_time_test  pred_time_val  \\\n0      RandomForestEntr    0.981572       0.97        0.109031       0.063315   \n1      RandomForestGini    0.980344       0.96        0.104731       0.085485   \n2         LightGBMLarge    0.978501       0.97        0.063253       0.040704   \n3               XGBoost    0.977273       0.98        0.043326       0.024674   \n4              LightGBM    0.977273       0.98        0.054056       0.036516   \n5              CatBoost    0.975430       0.98        0.103151       0.095744   \n6        ExtraTreesEntr    0.972359       0.95        0.118237       0.127378   \n7        ExtraTreesGini    0.969902       0.94        0.092968       0.066365   \n8        NeuralNetTorch    0.966830       0.96        0.183676       0.044995   \n9            LightGBMXT    0.956388       0.98        0.039109       0.025881   \n10  WeightedEnsemble_L2    0.956388       0.98        0.040905       0.026308   \n11      NeuralNetFastAI    0.937346       0.97        0.111262       0.048605   \n12       KNeighborsDist    0.920147       0.89        0.028728       0.010194   \n13       KNeighborsUnif    0.909091       0.89        0.027125       0.010138   \n\n     fit_time  pred_time_test_marginal  pred_time_val_marginal  \\\n0    0.676835                 0.109031                0.063315   \n1    0.957808                 0.104731                0.085485   \n2    1.351068                 0.063253                0.040704   \n3    0.385448                 0.043326                0.024674   \n4    0.564351                 0.054056                0.036516   \n5   11.820940                 0.103151                0.095744   \n6    0.608025                 0.118237                0.127378   \n7    0.630184                 0.092968                0.066365   \n8    6.098821                 0.183676                0.044995   \n9    0.545728                 0.039109                0.025881   \n10   0.946531                 0.001796                0.000427   \n11   1.392076                 0.111262                0.048605   \n12   0.028685                 0.028728                0.010194   \n13   0.021896                 0.027125                0.010138   \n\n    fit_time_marginal  stack_level  can_infer  fit_order  \n0            0.676835            1       True          6  \n1            0.957808            1       True          5  \n2            1.351068            1       True         13  \n3            0.385448            1       True         11  \n4            0.564351            1       True          4  \n5           11.820940            1       True          7  \n6            0.608025            1       True          9  \n7            0.630184            1       True          8  \n8            6.098821            1       True         12  \n9            0.545728            1       True          3  \n10           0.400803            2       True         14  \n11           1.392076            1       True         10  \n12           0.028685            1       True          2  \n13           0.021896            1       True          1  ",
      "text/html": "<div>\n<style scoped>\n    .dataframe tbody tr th:only-of-type {\n        vertical-align: middle;\n    }\n\n    .dataframe tbody tr th {\n        vertical-align: top;\n    }\n\n    .dataframe thead th {\n        text-align: right;\n    }\n</style>\n<table border=\"1\" class=\"dataframe\">\n  <thead>\n    <tr style=\"text-align: right;\">\n      <th></th>\n      <th>model</th>\n      <th>score_test</th>\n      <th>score_val</th>\n      <th>pred_time_test</th>\n      <th>pred_time_val</th>\n      <th>fit_time</th>\n      <th>pred_time_test_marginal</th>\n      <th>pred_time_val_marginal</th>\n      <th>fit_time_marginal</th>\n      <th>stack_level</th>\n      <th>can_infer</th>\n      <th>fit_order</th>\n    </tr>\n  </thead>\n  <tbody>\n    <tr>\n      <th>0</th>\n      <td>RandomForestEntr</td>\n      <td>0.981572</td>\n      <td>0.97</td>\n      <td>0.109031</td>\n      <td>0.063315</td>\n      <td>0.676835</td>\n      <td>0.109031</td>\n      <td>0.063315</td>\n      <td>0.676835</td>\n      <td>1</td>\n      <td>True</td>\n      <td>6</td>\n    </tr>\n    <tr>\n      <th>1</th>\n      <td>RandomForestGini</td>\n      <td>0.980344</td>\n      <td>0.96</td>\n      <td>0.104731</td>\n      <td>0.085485</td>\n      <td>0.957808</td>\n      <td>0.104731</td>\n      <td>0.085485</td>\n      <td>0.957808</td>\n      <td>1</td>\n      <td>True</td>\n      <td>5</td>\n    </tr>\n    <tr>\n      <th>2</th>\n      <td>LightGBMLarge</td>\n      <td>0.978501</td>\n      <td>0.97</td>\n      <td>0.063253</td>\n      <td>0.040704</td>\n      <td>1.351068</td>\n      <td>0.063253</td>\n      <td>0.040704</td>\n      <td>1.351068</td>\n      <td>1</td>\n      <td>True</td>\n      <td>13</td>\n    </tr>\n    <tr>\n      <th>3</th>\n      <td>XGBoost</td>\n      <td>0.977273</td>\n      <td>0.98</td>\n      <td>0.043326</td>\n      <td>0.024674</td>\n      <td>0.385448</td>\n      <td>0.043326</td>\n      <td>0.024674</td>\n      <td>0.385448</td>\n      <td>1</td>\n      <td>True</td>\n      <td>11</td>\n    </tr>\n    <tr>\n      <th>4</th>\n      <td>LightGBM</td>\n      <td>0.977273</td>\n      <td>0.98</td>\n      <td>0.054056</td>\n      <td>0.036516</td>\n      <td>0.564351</td>\n      <td>0.054056</td>\n      <td>0.036516</td>\n      <td>0.564351</td>\n      <td>1</td>\n      <td>True</td>\n      <td>4</td>\n    </tr>\n    <tr>\n      <th>5</th>\n      <td>CatBoost</td>\n      <td>0.975430</td>\n      <td>0.98</td>\n      <td>0.103151</td>\n      <td>0.095744</td>\n      <td>11.820940</td>\n      <td>0.103151</td>\n      <td>0.095744</td>\n      <td>11.820940</td>\n      <td>1</td>\n      <td>True</td>\n      <td>7</td>\n    </tr>\n    <tr>\n      <th>6</th>\n      <td>ExtraTreesEntr</td>\n      <td>0.972359</td>\n      <td>0.95</td>\n      <td>0.118237</td>\n      <td>0.127378</td>\n      <td>0.608025</td>\n      <td>0.118237</td>\n      <td>0.127378</td>\n      <td>0.608025</td>\n      <td>1</td>\n      <td>True</td>\n      <td>9</td>\n    </tr>\n    <tr>\n      <th>7</th>\n      <td>ExtraTreesGini</td>\n      <td>0.969902</td>\n      <td>0.94</td>\n      <td>0.092968</td>\n      <td>0.066365</td>\n      <td>0.630184</td>\n      <td>0.092968</td>\n      <td>0.066365</td>\n      <td>0.630184</td>\n      <td>1</td>\n      <td>True</td>\n      <td>8</td>\n    </tr>\n    <tr>\n      <th>8</th>\n      <td>NeuralNetTorch</td>\n      <td>0.966830</td>\n      <td>0.96</td>\n      <td>0.183676</td>\n      <td>0.044995</td>\n      <td>6.098821</td>\n      <td>0.183676</td>\n      <td>0.044995</td>\n      <td>6.098821</td>\n      <td>1</td>\n      <td>True</td>\n      <td>12</td>\n    </tr>\n    <tr>\n      <th>9</th>\n      <td>LightGBMXT</td>\n      <td>0.956388</td>\n      <td>0.98</td>\n      <td>0.039109</td>\n      <td>0.025881</td>\n      <td>0.545728</td>\n      <td>0.039109</td>\n      <td>0.025881</td>\n      <td>0.545728</td>\n      <td>1</td>\n      <td>True</td>\n      <td>3</td>\n    </tr>\n    <tr>\n      <th>10</th>\n      <td>WeightedEnsemble_L2</td>\n      <td>0.956388</td>\n      <td>0.98</td>\n      <td>0.040905</td>\n      <td>0.026308</td>\n      <td>0.946531</td>\n      <td>0.001796</td>\n      <td>0.000427</td>\n      <td>0.400803</td>\n      <td>2</td>\n      <td>True</td>\n      <td>14</td>\n    </tr>\n    <tr>\n      <th>11</th>\n      <td>NeuralNetFastAI</td>\n      <td>0.937346</td>\n      <td>0.97</td>\n      <td>0.111262</td>\n      <td>0.048605</td>\n      <td>1.392076</td>\n      <td>0.111262</td>\n      <td>0.048605</td>\n      <td>1.392076</td>\n      <td>1</td>\n      <td>True</td>\n      <td>10</td>\n    </tr>\n    <tr>\n      <th>12</th>\n      <td>KNeighborsDist</td>\n      <td>0.920147</td>\n      <td>0.89</td>\n      <td>0.028728</td>\n      <td>0.010194</td>\n      <td>0.028685</td>\n      <td>0.028728</td>\n      <td>0.010194</td>\n      <td>0.028685</td>\n      <td>1</td>\n      <td>True</td>\n      <td>2</td>\n    </tr>\n    <tr>\n      <th>13</th>\n      <td>KNeighborsUnif</td>\n      <td>0.909091</td>\n      <td>0.89</td>\n      <td>0.027125</td>\n      <td>0.010138</td>\n      <td>0.021896</td>\n      <td>0.027125</td>\n      <td>0.010138</td>\n      <td>0.021896</td>\n      <td>1</td>\n      <td>True</td>\n      <td>1</td>\n    </tr>\n  </tbody>\n</table>\n</div>"
     },
     "execution_count": 32,
=======
   "execution_count": 13,
   "outputs": [
    {
     "data": {
      "text/plain": "                  model  score_test  score_val  pred_time_test  pred_time_val  \\\n0              CatBoost    0.930762       0.92        0.167817       0.161137   \n1        NeuralNetTorch    0.925066       0.92        0.346821       0.052797   \n2      RandomForestGini    0.923751       0.90        0.183192       0.070804   \n3            LightGBMXT    0.921560       0.94        0.089972       0.035113   \n4      RandomForestEntr    0.920684       0.88        0.143601       0.062642   \n5              LightGBM    0.915863       0.95        0.127769       0.042416   \n6   WeightedEnsemble_L2    0.915863       0.95        0.130574       0.043096   \n7        ExtraTreesEntr    0.914987       0.90        0.217318       0.068771   \n8        ExtraTreesGini    0.912796       0.90        0.245071       0.067402   \n9         LightGBMLarge    0.911919       0.94        0.100015       0.067285   \n10      NeuralNetFastAI    0.893076       0.89        0.217819       0.096531   \n11       KNeighborsDist    0.887818       0.86        0.106904       0.010470   \n12              XGBoost    0.886503       0.92        0.089602       0.016896   \n13       KNeighborsUnif    0.879930       0.87        0.090346       0.096265   \n\n     fit_time  pred_time_test_marginal  pred_time_val_marginal  \\\n0   17.174984                 0.167817                0.161137   \n1    3.571231                 0.346821                0.052797   \n2    0.797665                 0.183192                0.070804   \n3    1.879058                 0.089972                0.035113   \n4    0.594489                 0.143601                0.062642   \n5    0.539182                 0.127769                0.042416   \n6    0.983799                 0.002805                0.000680   \n7    0.577624                 0.217318                0.068771   \n8    0.703611                 0.245071                0.067402   \n9    1.132018                 0.100015                0.067285   \n10   4.807661                 0.217819                0.096531   \n11   0.045511                 0.106904                0.010470   \n12   0.491992                 0.089602                0.016896   \n13   0.055892                 0.090346                0.096265   \n\n    fit_time_marginal  stack_level  can_infer  fit_order  \n0           17.174984            1       True          7  \n1            3.571231            1       True         12  \n2            0.797665            1       True          5  \n3            1.879058            1       True          3  \n4            0.594489            1       True          6  \n5            0.539182            1       True          4  \n6            0.444617            2       True         14  \n7            0.577624            1       True          9  \n8            0.703611            1       True          8  \n9            1.132018            1       True         13  \n10           4.807661            1       True         10  \n11           0.045511            1       True          2  \n12           0.491992            1       True         11  \n13           0.055892            1       True          1  ",
      "text/html": "<div>\n<style scoped>\n    .dataframe tbody tr th:only-of-type {\n        vertical-align: middle;\n    }\n\n    .dataframe tbody tr th {\n        vertical-align: top;\n    }\n\n    .dataframe thead th {\n        text-align: right;\n    }\n</style>\n<table border=\"1\" class=\"dataframe\">\n  <thead>\n    <tr style=\"text-align: right;\">\n      <th></th>\n      <th>model</th>\n      <th>score_test</th>\n      <th>score_val</th>\n      <th>pred_time_test</th>\n      <th>pred_time_val</th>\n      <th>fit_time</th>\n      <th>pred_time_test_marginal</th>\n      <th>pred_time_val_marginal</th>\n      <th>fit_time_marginal</th>\n      <th>stack_level</th>\n      <th>can_infer</th>\n      <th>fit_order</th>\n    </tr>\n  </thead>\n  <tbody>\n    <tr>\n      <th>0</th>\n      <td>CatBoost</td>\n      <td>0.930762</td>\n      <td>0.92</td>\n      <td>0.167817</td>\n      <td>0.161137</td>\n      <td>17.174984</td>\n      <td>0.167817</td>\n      <td>0.161137</td>\n      <td>17.174984</td>\n      <td>1</td>\n      <td>True</td>\n      <td>7</td>\n    </tr>\n    <tr>\n      <th>1</th>\n      <td>NeuralNetTorch</td>\n      <td>0.925066</td>\n      <td>0.92</td>\n      <td>0.346821</td>\n      <td>0.052797</td>\n      <td>3.571231</td>\n      <td>0.346821</td>\n      <td>0.052797</td>\n      <td>3.571231</td>\n      <td>1</td>\n      <td>True</td>\n      <td>12</td>\n    </tr>\n    <tr>\n      <th>2</th>\n      <td>RandomForestGini</td>\n      <td>0.923751</td>\n      <td>0.90</td>\n      <td>0.183192</td>\n      <td>0.070804</td>\n      <td>0.797665</td>\n      <td>0.183192</td>\n      <td>0.070804</td>\n      <td>0.797665</td>\n      <td>1</td>\n      <td>True</td>\n      <td>5</td>\n    </tr>\n    <tr>\n      <th>3</th>\n      <td>LightGBMXT</td>\n      <td>0.921560</td>\n      <td>0.94</td>\n      <td>0.089972</td>\n      <td>0.035113</td>\n      <td>1.879058</td>\n      <td>0.089972</td>\n      <td>0.035113</td>\n      <td>1.879058</td>\n      <td>1</td>\n      <td>True</td>\n      <td>3</td>\n    </tr>\n    <tr>\n      <th>4</th>\n      <td>RandomForestEntr</td>\n      <td>0.920684</td>\n      <td>0.88</td>\n      <td>0.143601</td>\n      <td>0.062642</td>\n      <td>0.594489</td>\n      <td>0.143601</td>\n      <td>0.062642</td>\n      <td>0.594489</td>\n      <td>1</td>\n      <td>True</td>\n      <td>6</td>\n    </tr>\n    <tr>\n      <th>5</th>\n      <td>LightGBM</td>\n      <td>0.915863</td>\n      <td>0.95</td>\n      <td>0.127769</td>\n      <td>0.042416</td>\n      <td>0.539182</td>\n      <td>0.127769</td>\n      <td>0.042416</td>\n      <td>0.539182</td>\n      <td>1</td>\n      <td>True</td>\n      <td>4</td>\n    </tr>\n    <tr>\n      <th>6</th>\n      <td>WeightedEnsemble_L2</td>\n      <td>0.915863</td>\n      <td>0.95</td>\n      <td>0.130574</td>\n      <td>0.043096</td>\n      <td>0.983799</td>\n      <td>0.002805</td>\n      <td>0.000680</td>\n      <td>0.444617</td>\n      <td>2</td>\n      <td>True</td>\n      <td>14</td>\n    </tr>\n    <tr>\n      <th>7</th>\n      <td>ExtraTreesEntr</td>\n      <td>0.914987</td>\n      <td>0.90</td>\n      <td>0.217318</td>\n      <td>0.068771</td>\n      <td>0.577624</td>\n      <td>0.217318</td>\n      <td>0.068771</td>\n      <td>0.577624</td>\n      <td>1</td>\n      <td>True</td>\n      <td>9</td>\n    </tr>\n    <tr>\n      <th>8</th>\n      <td>ExtraTreesGini</td>\n      <td>0.912796</td>\n      <td>0.90</td>\n      <td>0.245071</td>\n      <td>0.067402</td>\n      <td>0.703611</td>\n      <td>0.245071</td>\n      <td>0.067402</td>\n      <td>0.703611</td>\n      <td>1</td>\n      <td>True</td>\n      <td>8</td>\n    </tr>\n    <tr>\n      <th>9</th>\n      <td>LightGBMLarge</td>\n      <td>0.911919</td>\n      <td>0.94</td>\n      <td>0.100015</td>\n      <td>0.067285</td>\n      <td>1.132018</td>\n      <td>0.100015</td>\n      <td>0.067285</td>\n      <td>1.132018</td>\n      <td>1</td>\n      <td>True</td>\n      <td>13</td>\n    </tr>\n    <tr>\n      <th>10</th>\n      <td>NeuralNetFastAI</td>\n      <td>0.893076</td>\n      <td>0.89</td>\n      <td>0.217819</td>\n      <td>0.096531</td>\n      <td>4.807661</td>\n      <td>0.217819</td>\n      <td>0.096531</td>\n      <td>4.807661</td>\n      <td>1</td>\n      <td>True</td>\n      <td>10</td>\n    </tr>\n    <tr>\n      <th>11</th>\n      <td>KNeighborsDist</td>\n      <td>0.887818</td>\n      <td>0.86</td>\n      <td>0.106904</td>\n      <td>0.010470</td>\n      <td>0.045511</td>\n      <td>0.106904</td>\n      <td>0.010470</td>\n      <td>0.045511</td>\n      <td>1</td>\n      <td>True</td>\n      <td>2</td>\n    </tr>\n    <tr>\n      <th>12</th>\n      <td>XGBoost</td>\n      <td>0.886503</td>\n      <td>0.92</td>\n      <td>0.089602</td>\n      <td>0.016896</td>\n      <td>0.491992</td>\n      <td>0.089602</td>\n      <td>0.016896</td>\n      <td>0.491992</td>\n      <td>1</td>\n      <td>True</td>\n      <td>11</td>\n    </tr>\n    <tr>\n      <th>13</th>\n      <td>KNeighborsUnif</td>\n      <td>0.879930</td>\n      <td>0.87</td>\n      <td>0.090346</td>\n      <td>0.096265</td>\n      <td>0.055892</td>\n      <td>0.090346</td>\n      <td>0.096265</td>\n      <td>0.055892</td>\n      <td>1</td>\n      <td>True</td>\n      <td>1</td>\n    </tr>\n  </tbody>\n</table>\n</div>"
     },
     "execution_count": 13,
>>>>>>> main
     "metadata": {},
     "output_type": "execute_result"
    }
   ],
   "source": [
    "predictor.leaderboard(test_data, silent=True)"
   ],
   "metadata": {
    "collapsed": false,
    "pycharm": {
     "name": "#%%\n"
    }
   }
  },
  {
   "cell_type": "code",
<<<<<<< HEAD
   "execution_count": 8,
=======
   "execution_count": 14,
>>>>>>> main
   "outputs": [
    {
     "name": "stdout",
     "output_type": "stream",
     "text": [
<<<<<<< HEAD
      "('category', [])                    : 78 | ['domain', 'country', 'dnssec', 'domain_name', 'emails_1', ...]\n",
      "('category', ['text_as_category'])  :  3 | ['registrar', 'address', 'registrant_name']\n",
      "('float', [])                       :  7 | ['registrar_id', 'entropy', 'days_between_creations', 'days_since_creation', 'days_between_updates', ...]\n",
      "('int', ['binned', 'text_special']) : 32 | ['registrar.char_count', 'registrar.word_count', 'registrar.capital_ratio', 'registrar.lower_ratio', 'registrar.digit_ratio', ...]\n",
      "('int', ['bool'])                   : 36 | ['redacted', 'admin', 'admin_city', 'admin_country', 'admin_id', ...]\n",
      "('int', ['datetime_as_int'])        : 15 | ['updated_date', 'updated_date.year', 'updated_date.month', 'updated_date.day', 'updated_date.dayofweek', ...]\n",
      "('int', ['text_ngram'])             :  6 | ['__nlp__.corporate', '__nlp__.corporate domains', '__nlp__.domains', '__nlp__.domains inc', '__nlp__.inc', ...]\n"
=======
      "('category', [])                    : 86 | ['domain', 'domain_name', 'name_servers_1', 'name_servers_2', 'name_servers_3', ...]\n",
      "('category', ['text_as_category'])  :  8 | ['registrar', 'org', 'address', 'name_servers', 'registrar_address', ...]\n",
      "('float', [])                       :  8 | ['registrar_iana', 'registrar_id', 'entropy', 'days_between_creations', 'days_since_creation', ...]\n",
      "('int', ['binned', 'text_special']) : 64 | ['registrar.char_count', 'registrar.word_count', 'registrar.capital_ratio', 'registrar.lower_ratio', 'registrar.digit_ratio', ...]\n",
      "('int', ['bool'])                   : 39 | ['redacted', 'registrant_contact_name', 'registrant_type', 'admin_account_name', 'admin_company_name', ...]\n",
      "('int', ['datetime_as_int'])        : 15 | ['updated_date', 'updated_date.year', 'updated_date.month', 'updated_date.day', 'updated_date.dayofweek', ...]\n",
      "('int', ['text_ngram'])             : 15 | ['__nlp__.com', '__nlp__.com llc', '__nlp__.for', '__nlp__.for privacy', '__nlp__.godaddy', ...]\n"
>>>>>>> main
     ]
    }
   ],
   "source": [
    "print(predictor.feature_metadata)"
   ],
   "metadata": {
    "collapsed": false,
    "pycharm": {
     "name": "#%%\n"
    }
   }
  },
  {
   "cell_type": "code",
<<<<<<< HEAD
   "execution_count": 13,
=======
   "execution_count": 15,
>>>>>>> main
   "outputs": [
    {
     "name": "stderr",
     "output_type": "stream",
     "text": [
<<<<<<< HEAD
      "These features in provided data are not utilized by the predictor and will be ignored: ['admin_application_purpose', 'admin_nexus_category', 'admin_street', 'registrant_application_purpose', 'registrant_nexus_category', 'registrar_email', 'registrar_phone', 'tech_application_purpose', 'tech_country', 'tech_nexus_category', 'tech_street', 'billing_city', 'billing_country', 'billing_name', 'billing_state', 'registrant_state', 'tech_state', 'url', 'registrar_iana', 'organization', 'transfer_date', 'admin_phone_number', 'billing_address', 'billing_id', 'billing_phone_number', 'billing_postal_code', 'billing_state_province', 'registrant_phone_number', 'tech_phone_number', 'emails_6', 'name_server', 'nic_hdl_br', 'nslastaa', 'nsstat', 'owner_c', 'person', 'tech_c', 'admin_account_name', 'admin_company_name', 'admin_family_name', 'registrant_company_name', 'tech_account_name', 'tech_company_name', 'tech_family_name', 'admin_country_code', 'registrar_country_code', 'registrar_organization_id', 'registrar_postal_code', 'registrar_street', 'tech', 'referral_url', 'emails_7']\n"
=======
      "These features in provided data are not utilized by the predictor and will be ignored: ['transfer_date', 'emails_5', 'organization', 'tech', 'referral_url', 'admin_org', 'registrant_fax', 'tech_org', 'curent_registrar', 'registar_created', 'emails_6', 'lats_modified', 'updated_date_5', 'registrant_zip', 'emails_7', 'billing_address', 'billing_id', 'billing_phone_number', 'billing_postal_code', 'billing_state_province', 'admin_country_code', 'registrar_country_code', 'registrar_organization_id', 'registrar_postal_code', 'registrar_street', 'updated_date_6']\n",
      "Computing feature importance via permutation shuffling for 144 features using 1000 rows with 3 shuffle sets...\n",
      "\t271.09s\t= Expected runtime (90.36s per shuffle set)\n",
      "\t60.53s\t= Actual runtime (Completed 3 of 3 shuffle sets)\n"
>>>>>>> main
     ]
    },
    {
     "data": {
<<<<<<< HEAD
      "text/plain": "                       importance    stddev   p_value  n  p99_high   p99_low\ndns_rec_mx_cc            0.171000  0.018520  0.001944  3  0.277123  0.064877\nentropy                  0.043333  0.005132  0.002321  3  0.072738  0.013929\ncreation_date            0.030000  0.008544  0.012994  3  0.078958 -0.018958\ndays_since_creation      0.018667  0.000577  0.000159  3  0.021975  0.015358\ndays_until_expiration    0.008667  0.001528  0.005098  3  0.017420 -0.000086\n...                           ...       ...       ... ..       ...       ...\nname_servers_11          0.000000  0.000000  0.500000  3  0.000000  0.000000\nname_servers_10          0.000000  0.000000  0.500000  3  0.000000  0.000000\nname_servers_9           0.000000  0.000000  0.500000  3  0.000000  0.000000\nemails_3                 0.000000  0.000000  0.500000  3  0.000000  0.000000\nadmin_organization       0.000000  0.000000  0.500000  3  0.000000  0.000000\n\n[127 rows x 6 columns]",
      "text/html": "<div>\n<style scoped>\n    .dataframe tbody tr th:only-of-type {\n        vertical-align: middle;\n    }\n\n    .dataframe tbody tr th {\n        vertical-align: top;\n    }\n\n    .dataframe thead th {\n        text-align: right;\n    }\n</style>\n<table border=\"1\" class=\"dataframe\">\n  <thead>\n    <tr style=\"text-align: right;\">\n      <th></th>\n      <th>importance</th>\n      <th>stddev</th>\n      <th>p_value</th>\n      <th>n</th>\n      <th>p99_high</th>\n      <th>p99_low</th>\n    </tr>\n  </thead>\n  <tbody>\n    <tr>\n      <th>dns_rec_mx_cc</th>\n      <td>0.171000</td>\n      <td>0.018520</td>\n      <td>0.001944</td>\n      <td>3</td>\n      <td>0.277123</td>\n      <td>0.064877</td>\n    </tr>\n    <tr>\n      <th>entropy</th>\n      <td>0.043333</td>\n      <td>0.005132</td>\n      <td>0.002321</td>\n      <td>3</td>\n      <td>0.072738</td>\n      <td>0.013929</td>\n    </tr>\n    <tr>\n      <th>creation_date</th>\n      <td>0.030000</td>\n      <td>0.008544</td>\n      <td>0.012994</td>\n      <td>3</td>\n      <td>0.078958</td>\n      <td>-0.018958</td>\n    </tr>\n    <tr>\n      <th>days_since_creation</th>\n      <td>0.018667</td>\n      <td>0.000577</td>\n      <td>0.000159</td>\n      <td>3</td>\n      <td>0.021975</td>\n      <td>0.015358</td>\n    </tr>\n    <tr>\n      <th>days_until_expiration</th>\n      <td>0.008667</td>\n      <td>0.001528</td>\n      <td>0.005098</td>\n      <td>3</td>\n      <td>0.017420</td>\n      <td>-0.000086</td>\n    </tr>\n    <tr>\n      <th>...</th>\n      <td>...</td>\n      <td>...</td>\n      <td>...</td>\n      <td>...</td>\n      <td>...</td>\n      <td>...</td>\n    </tr>\n    <tr>\n      <th>name_servers_11</th>\n      <td>0.000000</td>\n      <td>0.000000</td>\n      <td>0.500000</td>\n      <td>3</td>\n      <td>0.000000</td>\n      <td>0.000000</td>\n    </tr>\n    <tr>\n      <th>name_servers_10</th>\n      <td>0.000000</td>\n      <td>0.000000</td>\n      <td>0.500000</td>\n      <td>3</td>\n      <td>0.000000</td>\n      <td>0.000000</td>\n    </tr>\n    <tr>\n      <th>name_servers_9</th>\n      <td>0.000000</td>\n      <td>0.000000</td>\n      <td>0.500000</td>\n      <td>3</td>\n      <td>0.000000</td>\n      <td>0.000000</td>\n    </tr>\n    <tr>\n      <th>emails_3</th>\n      <td>0.000000</td>\n      <td>0.000000</td>\n      <td>0.500000</td>\n      <td>3</td>\n      <td>0.000000</td>\n      <td>0.000000</td>\n    </tr>\n    <tr>\n      <th>admin_organization</th>\n      <td>0.000000</td>\n      <td>0.000000</td>\n      <td>0.500000</td>\n      <td>3</td>\n      <td>0.000000</td>\n      <td>0.000000</td>\n    </tr>\n  </tbody>\n</table>\n<p>127 rows × 6 columns</p>\n</div>"
     },
     "execution_count": 13,
=======
      "text/plain": "                     importance    stddev   p_value  n  p99_high   p99_low\ndays_since_creation    0.083667  0.012342  0.003588  3  0.154390  0.012944\nregistrar              0.051000  0.013892  0.011926  3  0.130605 -0.028605\nentropy                0.019000  0.007000  0.021194  3  0.059111 -0.021111\norg                    0.013667  0.005774  0.027328  3  0.046749 -0.019416\ncreation_date          0.013000  0.005196  0.024673  3  0.042775 -0.016775\n...                         ...       ...       ... ..       ...       ...\ndomain_status          0.000000  0.000000  0.500000  3  0.000000  0.000000\nregistrant_name        0.000000  0.000000  0.500000  3  0.000000  0.000000\nregistrar_zip_code     0.000000  0.000000  0.500000  3  0.000000  0.000000\ntech_address           0.000000  0.000000  0.500000  3  0.000000  0.000000\naddress               -0.000333  0.000577  0.788675  3  0.002975 -0.003642\n\n[144 rows x 6 columns]",
      "text/html": "<div>\n<style scoped>\n    .dataframe tbody tr th:only-of-type {\n        vertical-align: middle;\n    }\n\n    .dataframe tbody tr th {\n        vertical-align: top;\n    }\n\n    .dataframe thead th {\n        text-align: right;\n    }\n</style>\n<table border=\"1\" class=\"dataframe\">\n  <thead>\n    <tr style=\"text-align: right;\">\n      <th></th>\n      <th>importance</th>\n      <th>stddev</th>\n      <th>p_value</th>\n      <th>n</th>\n      <th>p99_high</th>\n      <th>p99_low</th>\n    </tr>\n  </thead>\n  <tbody>\n    <tr>\n      <th>days_since_creation</th>\n      <td>0.083667</td>\n      <td>0.012342</td>\n      <td>0.003588</td>\n      <td>3</td>\n      <td>0.154390</td>\n      <td>0.012944</td>\n    </tr>\n    <tr>\n      <th>registrar</th>\n      <td>0.051000</td>\n      <td>0.013892</td>\n      <td>0.011926</td>\n      <td>3</td>\n      <td>0.130605</td>\n      <td>-0.028605</td>\n    </tr>\n    <tr>\n      <th>entropy</th>\n      <td>0.019000</td>\n      <td>0.007000</td>\n      <td>0.021194</td>\n      <td>3</td>\n      <td>0.059111</td>\n      <td>-0.021111</td>\n    </tr>\n    <tr>\n      <th>org</th>\n      <td>0.013667</td>\n      <td>0.005774</td>\n      <td>0.027328</td>\n      <td>3</td>\n      <td>0.046749</td>\n      <td>-0.019416</td>\n    </tr>\n    <tr>\n      <th>creation_date</th>\n      <td>0.013000</td>\n      <td>0.005196</td>\n      <td>0.024673</td>\n      <td>3</td>\n      <td>0.042775</td>\n      <td>-0.016775</td>\n    </tr>\n    <tr>\n      <th>...</th>\n      <td>...</td>\n      <td>...</td>\n      <td>...</td>\n      <td>...</td>\n      <td>...</td>\n      <td>...</td>\n    </tr>\n    <tr>\n      <th>domain_status</th>\n      <td>0.000000</td>\n      <td>0.000000</td>\n      <td>0.500000</td>\n      <td>3</td>\n      <td>0.000000</td>\n      <td>0.000000</td>\n    </tr>\n    <tr>\n      <th>registrant_name</th>\n      <td>0.000000</td>\n      <td>0.000000</td>\n      <td>0.500000</td>\n      <td>3</td>\n      <td>0.000000</td>\n      <td>0.000000</td>\n    </tr>\n    <tr>\n      <th>registrar_zip_code</th>\n      <td>0.000000</td>\n      <td>0.000000</td>\n      <td>0.500000</td>\n      <td>3</td>\n      <td>0.000000</td>\n      <td>0.000000</td>\n    </tr>\n    <tr>\n      <th>tech_address</th>\n      <td>0.000000</td>\n      <td>0.000000</td>\n      <td>0.500000</td>\n      <td>3</td>\n      <td>0.000000</td>\n      <td>0.000000</td>\n    </tr>\n    <tr>\n      <th>address</th>\n      <td>-0.000333</td>\n      <td>0.000577</td>\n      <td>0.788675</td>\n      <td>3</td>\n      <td>0.002975</td>\n      <td>-0.003642</td>\n    </tr>\n  </tbody>\n</table>\n<p>144 rows × 6 columns</p>\n</div>"
     },
     "execution_count": 15,
>>>>>>> main
     "metadata": {},
     "output_type": "execute_result"
    }
   ],
   "source": [
    "predictor.feature_importance(test_data)"
   ],
   "metadata": {
    "collapsed": false,
    "pycharm": {
     "name": "#%%\n"
    }
   }
  },
  {
   "cell_type": "code",
   "execution_count": null,
   "outputs": [],
   "source": [
    "features = ['dns_rec_mx_cc', 'entropy', 'creation_date', 'days_since_creation']"
   ],
   "metadata": {
    "collapsed": false,
    "pycharm": {
     "name": "#%%\n"
    }
   }
  }
 ],
 "metadata": {
  "kernelspec": {
   "display_name": "Python 3",
   "language": "python",
   "name": "python3"
  },
  "language_info": {
   "codemirror_mode": {
    "name": "ipython",
    "version": 2
   },
   "file_extension": ".py",
   "mimetype": "text/x-python",
   "name": "python",
   "nbconvert_exporter": "python",
   "pygments_lexer": "ipython2",
   "version": "2.7.6"
  }
 },
 "nbformat": 4,
 "nbformat_minor": 0
}
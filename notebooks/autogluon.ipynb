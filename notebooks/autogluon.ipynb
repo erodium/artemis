{
 "cells": [
  {
   "cell_type": "code",
   "execution_count": 2,
   "metadata": {
    "collapsed": true
   },
   "outputs": [],
   "source": [
    "from autogluon.tabular import TabularDataset, TabularPredictor\n",
    "from sklearn.model_selection import train_test_split\n",
    "\n",
    "import pandas as pd"
   ]
  },
  {
   "cell_type": "code",
   "execution_count": 9,
   "outputs": [
    {
     "name": "stderr",
     "output_type": "stream",
     "text": [
      "/Users/liam/miniconda3/envs/artemis/lib/python3.9/site-packages/IPython/core/interactiveshell.py:3457: DtypeWarning: Columns (48,99,100,101,102,103,104,108,109,110,111,112,113,115,116,117,118,119,120,121,122,126,132,133,136,138,139,140,141,144,145,146,147,149,150,151,152,156,160,161,163,164,165,166,167,168) have mixed types.Specify dtype option on import or set low_memory=False.\n",
      "  exec(code_obj, self.user_global_ns, self.user_ns)\n"
     ]
    }
   ],
   "source": [
    "file=\"/Users/liam/PycharmProjects/dataspell/artemis/data/processed/whois_data.csv\"\n",
    "df = pd.read_csv(file)\n",
    "train, test = train_test_split(df)"
   ],
   "metadata": {
    "collapsed": false,
    "pycharm": {
     "name": "#%%\n"
    }
   }
  },
  {
   "cell_type": "code",
   "execution_count": 26,
   "outputs": [],
   "source": [
    "train_data = TabularDataset(train)\n",
    "subsample_size = 500\n",
    "train_data = train_data.sample(n=subsample_size, random_state=0)"
   ],
   "metadata": {
    "collapsed": false,
    "pycharm": {
     "name": "#%%\n"
    }
   }
  },
  {
   "cell_type": "code",
   "execution_count": 27,
   "outputs": [
    {
     "data": {
      "text/plain": "               domain  redacted country    dnssec  \\\n4954  shopingplan.com     False      MY  unsigned   \n4279   ginwhiskye.top      True      US  unsigned   \n3628          ozon.ru     False      ZZ       NaN   \n3817    rs-online.com     False      GB  unsigned   \n4486     tobdol01.top      True      RU  unsigned   \n\n                          domain_name                    emails_1  \\\n4954  SHOPINGPLAN.COM;shopingplan.com  compliance_abuse@webnic.cc   \n4279    ginwhiskye.top;GINWHISKYE.TOP                         NaN   \n3628                          OZON.RU                         NaN   \n3817      RS-ONLINE.COM;rs-online.com   domainabuse@cscglobal.com   \n4486                     tobdol01.top                         NaN   \n\n                             emails_2             name_servers_1  \\\n4954  reg_19328658@whoisprotection.cc  CORTNEY.NS.CLOUDFLARE.COM   \n4279                              NaN         ns1.taco-salad.com   \n3628                              NaN          ns4-cloud.nic.ru.   \n3817   domain.admin@rs-components.com             A1-40.AKAM.NET   \n4486                              NaN               a.dnspod.com   \n\n                 name_servers_2          name_servers_3  ... dns_rec_a_cc  \\\n4954  GERARDO.NS.CLOUDFLARE.COM                     NaN  ...           na   \n4279         ns2.taco-salad.com  dora.ns.cloudflare.com  ...           us   \n3628             ns4-l2.nic.ru.       ns8-cloud.nic.ru.  ...           ru   \n3817            A11-67.AKAM.NET         A16-64.AKAM.NET  ...           na   \n4486               b.dnspod.com            A.DNSPOD.COM  ...           na   \n\n     dns_rec_a_org dns_rec_mx_cc         dns_rec_mx_org malicious  \\\n4954            na            na                     na      True   \n4279        linode            na                     na      True   \n3628    mnt-qrator            us  microsoft corporation     False   \n3817            na            na                     na     False   \n4486            na            na                     na      True   \n\n     days_between_creations days_since_creation days_between_updates  \\\n4954                    0.0               152.0                  0.0   \n4279                    0.0               201.0                139.0   \n3628                    0.0              8813.0                  NaN   \n3817                    0.0              7449.0                  0.0   \n4486                    1.0               224.0                 17.0   \n\n     days_since_update days_until_expiration  \n4954             152.0                 213.0  \n4279              62.0                 164.0  \n3628               NaN                 337.0  \n3817             148.0                 221.0  \n4486             208.0                 141.0  \n\n[5 rows x 180 columns]",
      "text/html": "<div>\n<style scoped>\n    .dataframe tbody tr th:only-of-type {\n        vertical-align: middle;\n    }\n\n    .dataframe tbody tr th {\n        vertical-align: top;\n    }\n\n    .dataframe thead th {\n        text-align: right;\n    }\n</style>\n<table border=\"1\" class=\"dataframe\">\n  <thead>\n    <tr style=\"text-align: right;\">\n      <th></th>\n      <th>domain</th>\n      <th>redacted</th>\n      <th>country</th>\n      <th>dnssec</th>\n      <th>domain_name</th>\n      <th>emails_1</th>\n      <th>emails_2</th>\n      <th>name_servers_1</th>\n      <th>name_servers_2</th>\n      <th>name_servers_3</th>\n      <th>...</th>\n      <th>dns_rec_a_cc</th>\n      <th>dns_rec_a_org</th>\n      <th>dns_rec_mx_cc</th>\n      <th>dns_rec_mx_org</th>\n      <th>malicious</th>\n      <th>days_between_creations</th>\n      <th>days_since_creation</th>\n      <th>days_between_updates</th>\n      <th>days_since_update</th>\n      <th>days_until_expiration</th>\n    </tr>\n  </thead>\n  <tbody>\n    <tr>\n      <th>4954</th>\n      <td>shopingplan.com</td>\n      <td>False</td>\n      <td>MY</td>\n      <td>unsigned</td>\n      <td>SHOPINGPLAN.COM;shopingplan.com</td>\n      <td>compliance_abuse@webnic.cc</td>\n      <td>reg_19328658@whoisprotection.cc</td>\n      <td>CORTNEY.NS.CLOUDFLARE.COM</td>\n      <td>GERARDO.NS.CLOUDFLARE.COM</td>\n      <td>NaN</td>\n      <td>...</td>\n      <td>na</td>\n      <td>na</td>\n      <td>na</td>\n      <td>na</td>\n      <td>True</td>\n      <td>0.0</td>\n      <td>152.0</td>\n      <td>0.0</td>\n      <td>152.0</td>\n      <td>213.0</td>\n    </tr>\n    <tr>\n      <th>4279</th>\n      <td>ginwhiskye.top</td>\n      <td>True</td>\n      <td>US</td>\n      <td>unsigned</td>\n      <td>ginwhiskye.top;GINWHISKYE.TOP</td>\n      <td>NaN</td>\n      <td>NaN</td>\n      <td>ns1.taco-salad.com</td>\n      <td>ns2.taco-salad.com</td>\n      <td>dora.ns.cloudflare.com</td>\n      <td>...</td>\n      <td>us</td>\n      <td>linode</td>\n      <td>na</td>\n      <td>na</td>\n      <td>True</td>\n      <td>0.0</td>\n      <td>201.0</td>\n      <td>139.0</td>\n      <td>62.0</td>\n      <td>164.0</td>\n    </tr>\n    <tr>\n      <th>3628</th>\n      <td>ozon.ru</td>\n      <td>False</td>\n      <td>ZZ</td>\n      <td>NaN</td>\n      <td>OZON.RU</td>\n      <td>NaN</td>\n      <td>NaN</td>\n      <td>ns4-cloud.nic.ru.</td>\n      <td>ns4-l2.nic.ru.</td>\n      <td>ns8-cloud.nic.ru.</td>\n      <td>...</td>\n      <td>ru</td>\n      <td>mnt-qrator</td>\n      <td>us</td>\n      <td>microsoft corporation</td>\n      <td>False</td>\n      <td>0.0</td>\n      <td>8813.0</td>\n      <td>NaN</td>\n      <td>NaN</td>\n      <td>337.0</td>\n    </tr>\n    <tr>\n      <th>3817</th>\n      <td>rs-online.com</td>\n      <td>False</td>\n      <td>GB</td>\n      <td>unsigned</td>\n      <td>RS-ONLINE.COM;rs-online.com</td>\n      <td>domainabuse@cscglobal.com</td>\n      <td>domain.admin@rs-components.com</td>\n      <td>A1-40.AKAM.NET</td>\n      <td>A11-67.AKAM.NET</td>\n      <td>A16-64.AKAM.NET</td>\n      <td>...</td>\n      <td>na</td>\n      <td>na</td>\n      <td>na</td>\n      <td>na</td>\n      <td>False</td>\n      <td>0.0</td>\n      <td>7449.0</td>\n      <td>0.0</td>\n      <td>148.0</td>\n      <td>221.0</td>\n    </tr>\n    <tr>\n      <th>4486</th>\n      <td>tobdol01.top</td>\n      <td>True</td>\n      <td>RU</td>\n      <td>unsigned</td>\n      <td>tobdol01.top</td>\n      <td>NaN</td>\n      <td>NaN</td>\n      <td>a.dnspod.com</td>\n      <td>b.dnspod.com</td>\n      <td>A.DNSPOD.COM</td>\n      <td>...</td>\n      <td>na</td>\n      <td>na</td>\n      <td>na</td>\n      <td>na</td>\n      <td>True</td>\n      <td>1.0</td>\n      <td>224.0</td>\n      <td>17.0</td>\n      <td>208.0</td>\n      <td>141.0</td>\n    </tr>\n  </tbody>\n</table>\n<p>5 rows × 180 columns</p>\n</div>"
     },
     "execution_count": 27,
     "metadata": {},
     "output_type": "execute_result"
    }
   ],
   "source": [
    "train_data.head()"
   ],
   "metadata": {
    "collapsed": false,
    "pycharm": {
     "name": "#%%\n"
    }
   }
  },
  {
   "cell_type": "code",
   "execution_count": 11,
   "outputs": [
    {
     "ename": "NameError",
     "evalue": "name 'train_data' is not defined",
     "output_type": "error",
     "traceback": [
      "\u001B[0;31m---------------------------------------------------------------------------\u001B[0m",
      "\u001B[0;31mNameError\u001B[0m                                 Traceback (most recent call last)",
      "\u001B[0;32m/var/folders/s4/04m6jmt93ll3w72t198n3k3c0000gn/T/ipykernel_9328/2721920241.py\u001B[0m in \u001B[0;36m<module>\u001B[0;34m\u001B[0m\n\u001B[1;32m      1\u001B[0m \u001B[0mlabel\u001B[0m \u001B[0;34m=\u001B[0m \u001B[0;34m'malicious'\u001B[0m\u001B[0;34m\u001B[0m\u001B[0;34m\u001B[0m\u001B[0m\n\u001B[0;32m----> 2\u001B[0;31m \u001B[0mprint\u001B[0m\u001B[0;34m(\u001B[0m\u001B[0;34m\"Summary of class variable: \\n\"\u001B[0m\u001B[0;34m,\u001B[0m \u001B[0mtrain_data\u001B[0m\u001B[0;34m[\u001B[0m\u001B[0mlabel\u001B[0m\u001B[0;34m]\u001B[0m\u001B[0;34m.\u001B[0m\u001B[0mdescribe\u001B[0m\u001B[0;34m(\u001B[0m\u001B[0;34m)\u001B[0m\u001B[0;34m)\u001B[0m\u001B[0;34m\u001B[0m\u001B[0;34m\u001B[0m\u001B[0m\n\u001B[0m",
      "\u001B[0;31mNameError\u001B[0m: name 'train_data' is not defined"
     ]
    }
   ],
   "source": [
    "label = 'malicious'\n",
    "print(\"Summary of class variable: \\n\", train_data[label].describe())"
   ],
   "metadata": {
    "collapsed": false,
    "pycharm": {
     "name": "#%%\n"
    }
   }
  },
  {
   "cell_type": "code",
   "execution_count": 29,
   "outputs": [
    {
     "name": "stderr",
     "output_type": "stream",
     "text": [
      "Warning: path already exists! This predictor may overwrite an existing predictor! path=\"agModels-predictClass\"\n",
      "Beginning AutoGluon training ...\n",
      "AutoGluon will save models to \"agModels-predictClass/\"\n",
      "AutoGluon Version:  0.4.0\n",
      "Python Version:     3.9.7\n",
      "Operating System:   Darwin\n",
      "Train Data Rows:    500\n",
      "Train Data Columns: 179\n",
      "Label Column: malicious\n",
      "Preprocessing data ...\n",
      "AutoGluon infers your prediction problem is: 'binary' (because only two unique label-values observed).\n",
      "\t2 unique label values:  [True, False]\n",
      "\tIf 'binary' is not the correct problem_type, please manually specify the problem_type parameter during predictor init (You may specify problem_type as one of: ['binary', 'multiclass', 'regression'])\n",
      "Selected class <--> label mapping:  class 1 = True, class 0 = False\n",
      "Using Feature Generators to preprocess the data ...\n",
      "Fitting AutoMLPipelineFeatureGenerator...\n",
      "\tAvailable Memory:                    2786.45 MB\n",
      "\tTrain Data (Original)  Memory Usage: 3.33 MB (0.1% of available memory)\n",
      "\tInferring data type of each feature based on column values. Set feature_metadata_in to manually specify special dtypes of the features.\n",
      "\tStage 1 Generators:\n",
      "\t\tFitting AsTypeFeatureGenerator...\n",
      "\t\t\tNote: Converting 36 features to boolean dtype as they only contain 2 unique values.\n",
      "\tStage 2 Generators:\n",
      "\t\tFitting FillNaFeatureGenerator...\n",
      "\tStage 3 Generators:\n",
      "\t\tFitting IdentityFeatureGenerator...\n",
      "\t\tFitting CategoryFeatureGenerator...\n",
      "\t\t\tFitting CategoryMemoryMinimizeFeatureGenerator...\n",
      "\t\tFitting DatetimeFeatureGenerator...\n",
      "\t\tFitting TextSpecialFeatureGenerator...\n",
      "\t\t\tFitting BinnedFeatureGenerator...\n",
      "\t\t\tFitting DropDuplicatesFeatureGenerator...\n",
      "\t\tFitting TextNgramFeatureGenerator...\n",
      "\t\t\tFitting CountVectorizer for text features: ['registrar', 'address', 'registrant_name']\n",
      "\t\t\tCountVectorizer fit with vocabulary size = 5\n",
      "\tStage 4 Generators:\n",
      "\t\tFitting DropUniqueFeatureGenerator...\n",
      "\tUseless Original Features (Count: 52): ['admin_application_purpose', 'admin_nexus_category', 'admin_street', 'registrant_application_purpose', 'registrant_nexus_category', 'registrar_email', 'registrar_phone', 'tech_application_purpose', 'tech_country', 'tech_nexus_category', 'tech_street', 'billing_city', 'billing_country', 'billing_name', 'billing_state', 'registrant_state', 'tech_state', 'url', 'registrar_iana', 'organization', 'transfer_date', 'admin_phone_number', 'billing_address', 'billing_id', 'billing_phone_number', 'billing_postal_code', 'billing_state_province', 'registrant_phone_number', 'tech_phone_number', 'emails_6', 'name_server', 'nic_hdl_br', 'nslastaa', 'nsstat', 'owner_c', 'person', 'tech_c', 'admin_account_name', 'admin_company_name', 'admin_family_name', 'registrant_company_name', 'tech_account_name', 'tech_company_name', 'tech_family_name', 'admin_country_code', 'registrar_country_code', 'registrar_organization_id', 'registrar_postal_code', 'registrar_street', 'tech', 'referral_url', 'emails_7']\n",
      "\t\tThese features carry no predictive signal and should be manually investigated.\n",
      "\t\tThis is typically a feature which has the same value for all rows.\n",
      "\t\tThese features do not need to be present at inference time.\n",
      "\tTypes of features in original data (raw dtype, special dtypes):\n",
      "\t\t('bool', [])                       :   1 | ['redacted']\n",
      "\t\t('float', [])                      :   7 | ['registrar_id', 'entropy', 'days_between_creations', 'days_since_creation', 'days_between_updates', ...]\n",
      "\t\t('object', [])                     : 113 | ['domain', 'country', 'dnssec', 'domain_name', 'emails_1', ...]\n",
      "\t\t('object', ['datetime_as_object']) :   3 | ['updated_date', 'creation_date', 'expiration_date']\n",
      "\t\t('object', ['text'])               :   3 | ['registrar', 'address', 'registrant_name']\n",
      "\tTypes of features in processed data (raw dtype, special dtypes):\n",
      "\t\t('category', [])                    : 78 | ['domain', 'country', 'dnssec', 'domain_name', 'emails_1', ...]\n",
      "\t\t('category', ['text_as_category'])  :  3 | ['registrar', 'address', 'registrant_name']\n",
      "\t\t('float', [])                       :  7 | ['registrar_id', 'entropy', 'days_between_creations', 'days_since_creation', 'days_between_updates', ...]\n",
      "\t\t('int', ['binned', 'text_special']) : 32 | ['registrar.char_count', 'registrar.word_count', 'registrar.capital_ratio', 'registrar.lower_ratio', 'registrar.digit_ratio', ...]\n",
      "\t\t('int', ['bool'])                   : 36 | ['redacted', 'admin', 'admin_city', 'admin_country', 'admin_id', ...]\n",
      "\t\t('int', ['datetime_as_int'])        : 15 | ['updated_date', 'updated_date.year', 'updated_date.month', 'updated_date.day', 'updated_date.dayofweek', ...]\n",
      "\t\t('int', ['text_ngram'])             :  6 | ['__nlp__.corporate', '__nlp__.corporate domains', '__nlp__.domains', '__nlp__.domains inc', '__nlp__.inc', ...]\n",
      "\t1.8s = Fit runtime\n",
      "\t127 features in original data used to generate 177 features in processed data.\n",
      "\tTrain Data (Processed) Memory Usage: 0.2 MB (0.0% of available memory)\n",
      "Data preprocessing and feature engineering runtime = 1.9s ...\n",
      "AutoGluon will gauge predictive performance using evaluation metric: 'accuracy'\n",
      "\tTo change this, specify the eval_metric parameter of Predictor()\n",
      "Automatically generating train/validation split with holdout_frac=0.2, Train Rows: 400, Val Rows: 100\n",
      "Fitting 13 L1 models ...\n",
      "Fitting model: KNeighborsUnif ...\n",
      "\t0.89\t = Validation score   (accuracy)\n",
      "\t0.02s\t = Training   runtime\n",
      "\t0.01s\t = Validation runtime\n",
      "Fitting model: KNeighborsDist ...\n",
      "\t0.89\t = Validation score   (accuracy)\n",
      "\t0.03s\t = Training   runtime\n",
      "\t0.01s\t = Validation runtime\n",
      "Fitting model: LightGBMXT ...\n",
      "\t0.98\t = Validation score   (accuracy)\n",
      "\t0.55s\t = Training   runtime\n",
      "\t0.03s\t = Validation runtime\n",
      "Fitting model: LightGBM ...\n",
      "\t0.98\t = Validation score   (accuracy)\n",
      "\t0.56s\t = Training   runtime\n",
      "\t0.04s\t = Validation runtime\n",
      "Fitting model: RandomForestGini ...\n",
      "\t0.96\t = Validation score   (accuracy)\n",
      "\t0.96s\t = Training   runtime\n",
      "\t0.09s\t = Validation runtime\n",
      "Fitting model: RandomForestEntr ...\n",
      "\t0.97\t = Validation score   (accuracy)\n",
      "\t0.68s\t = Training   runtime\n",
      "\t0.06s\t = Validation runtime\n",
      "Fitting model: CatBoost ...\n",
      "\t0.98\t = Validation score   (accuracy)\n",
      "\t11.82s\t = Training   runtime\n",
      "\t0.1s\t = Validation runtime\n",
      "Fitting model: ExtraTreesGini ...\n",
      "\t0.94\t = Validation score   (accuracy)\n",
      "\t0.63s\t = Training   runtime\n",
      "\t0.07s\t = Validation runtime\n",
      "Fitting model: ExtraTreesEntr ...\n",
      "\t0.95\t = Validation score   (accuracy)\n",
      "\t0.61s\t = Training   runtime\n",
      "\t0.13s\t = Validation runtime\n",
      "Fitting model: NeuralNetFastAI ...\n",
      "No improvement since epoch 8: early stopping\n",
      "\t0.97\t = Validation score   (accuracy)\n",
      "\t1.39s\t = Training   runtime\n",
      "\t0.05s\t = Validation runtime\n",
      "Fitting model: XGBoost ...\n",
      "\t0.98\t = Validation score   (accuracy)\n",
      "\t0.39s\t = Training   runtime\n",
      "\t0.02s\t = Validation runtime\n",
      "Fitting model: NeuralNetTorch ...\n",
      "\t0.96\t = Validation score   (accuracy)\n",
      "\t6.1s\t = Training   runtime\n",
      "\t0.04s\t = Validation runtime\n",
      "Fitting model: LightGBMLarge ...\n",
      "\t0.97\t = Validation score   (accuracy)\n",
      "\t1.35s\t = Training   runtime\n",
      "\t0.04s\t = Validation runtime\n",
      "Fitting model: WeightedEnsemble_L2 ...\n",
      "\t0.98\t = Validation score   (accuracy)\n",
      "\t0.4s\t = Training   runtime\n",
      "\t0.0s\t = Validation runtime\n",
      "AutoGluon training complete, total runtime = 29.07s ... Best model: \"WeightedEnsemble_L2\"\n",
      "TabularPredictor saved. To load, use: predictor = TabularPredictor.load(\"agModels-predictClass/\")\n"
     ]
    }
   ],
   "source": [
    "save_path = '../models/agModels-predictClass'  # specifies folder to store trained models\n",
    "predictor = TabularPredictor(label=label, path=save_path).fit(train_data)"
   ],
   "metadata": {
    "collapsed": false,
    "pycharm": {
     "name": "#%%\n"
    }
   }
  },
  {
   "cell_type": "code",
   "execution_count": 12,
   "outputs": [
    {
     "data": {
      "text/plain": "                            domain  redacted country             dnssec  \\\n5542  www.wrapedqvrtrgkmttfkcq.com     False      RO  unsigned;Unsigned   \n3786                     king5.com     False      US  unsigned;unSigned   \n5853                  westdefe.com     False      IS           unsigned   \n3943                primevideo.com     False      US           unsigned   \n2719                   mcmaster.ca     False      ZZ           unsigned   \n\n                        domain_name                         emails_1  \\\n5542       WRAPEDQVRTRGKMTTFKCQ.COM                     abuse@reg.ru   \n3786                      KING5.COM                              NaN   \n5853      WESTDEFE.COM;westdefe.com              abuse@namecheap.com   \n3943  PRIMEVIDEO.COM;primevideo.com  abusecomplaints@markmonitor.com   \n2719                    mcmaster.ca                              NaN   \n\n                                               emails_2  \\\n5542             WRAPEDQVRTRGKMTTFKCQ.COM@regprivate.ru   \n3786                                                NaN   \n5853  797c3a828b6b477a92ec17ef58db180d.protect@withh...   \n3943                              hostmaster@amazon.com   \n2719                                                NaN   \n\n                  name_servers_1              name_servers_2  \\\n5542                  NS1.REG.RU                  NS2.REG.RU   \n3786       NS-1036.AWSDNS-01.ORG     NS-1822.AWSDNS-35.CO.UK   \n5853  DNS1.REGISTRAR-SERVERS.COM  DNS2.REGISTRAR-SERVERS.COM   \n3943       NS-1172.AWSDNS-18.ORG     NS-1933.AWSDNS-49.CO.UK   \n2719                         NaN                         NaN   \n\n                  name_servers_3  ...   entropy dns_rec_a_cc  \\\n5542                  ns1.reg.ru  ...  3.588354           ru   \n3786        NS-466.AWSDNS-58.COM  ...  2.321928           us   \n5853  dns1.registrar-servers.com  ...  2.405639           na   \n3943        NS-306.AWSDNS-38.COM  ...  2.921928           us   \n2719                         NaN  ...  2.750000           ca   \n\n                 dns_rec_a_org dns_rec_mx_cc         dns_rec_mx_org  \\\n5542                 regru-mnt            na                     na   \n3786  amazon technologies inc.            us  microsoft corporation   \n5853                        na            na                     na   \n3943          amazon.com, inc.            us       amazon.com, inc.   \n2719       mcmaster university            ca    mcmaster university   \n\n     days_between_creations days_since_creation days_between_updates  \\\n5542                    0.0               270.0                  0.0   \n3786                    0.0              9738.0                  0.0   \n5853                    0.0               201.0                  0.0   \n3943                    0.0              7818.0                  0.0   \n2719                    0.0              7829.0                  0.0   \n\n     days_since_update days_until_expiration  \n5542             270.0                  95.0  \n3786             272.0                 123.0  \n5853             172.0                 164.0  \n3943             241.0                 217.0  \n2719              71.0                 381.0  \n\n[5 rows x 179 columns]",
      "text/html": "<div>\n<style scoped>\n    .dataframe tbody tr th:only-of-type {\n        vertical-align: middle;\n    }\n\n    .dataframe tbody tr th {\n        vertical-align: top;\n    }\n\n    .dataframe thead th {\n        text-align: right;\n    }\n</style>\n<table border=\"1\" class=\"dataframe\">\n  <thead>\n    <tr style=\"text-align: right;\">\n      <th></th>\n      <th>domain</th>\n      <th>redacted</th>\n      <th>country</th>\n      <th>dnssec</th>\n      <th>domain_name</th>\n      <th>emails_1</th>\n      <th>emails_2</th>\n      <th>name_servers_1</th>\n      <th>name_servers_2</th>\n      <th>name_servers_3</th>\n      <th>...</th>\n      <th>entropy</th>\n      <th>dns_rec_a_cc</th>\n      <th>dns_rec_a_org</th>\n      <th>dns_rec_mx_cc</th>\n      <th>dns_rec_mx_org</th>\n      <th>days_between_creations</th>\n      <th>days_since_creation</th>\n      <th>days_between_updates</th>\n      <th>days_since_update</th>\n      <th>days_until_expiration</th>\n    </tr>\n  </thead>\n  <tbody>\n    <tr>\n      <th>5542</th>\n      <td>www.wrapedqvrtrgkmttfkcq.com</td>\n      <td>False</td>\n      <td>RO</td>\n      <td>unsigned;Unsigned</td>\n      <td>WRAPEDQVRTRGKMTTFKCQ.COM</td>\n      <td>abuse@reg.ru</td>\n      <td>WRAPEDQVRTRGKMTTFKCQ.COM@regprivate.ru</td>\n      <td>NS1.REG.RU</td>\n      <td>NS2.REG.RU</td>\n      <td>ns1.reg.ru</td>\n      <td>...</td>\n      <td>3.588354</td>\n      <td>ru</td>\n      <td>regru-mnt</td>\n      <td>na</td>\n      <td>na</td>\n      <td>0.0</td>\n      <td>270.0</td>\n      <td>0.0</td>\n      <td>270.0</td>\n      <td>95.0</td>\n    </tr>\n    <tr>\n      <th>3786</th>\n      <td>king5.com</td>\n      <td>False</td>\n      <td>US</td>\n      <td>unsigned;unSigned</td>\n      <td>KING5.COM</td>\n      <td>NaN</td>\n      <td>NaN</td>\n      <td>NS-1036.AWSDNS-01.ORG</td>\n      <td>NS-1822.AWSDNS-35.CO.UK</td>\n      <td>NS-466.AWSDNS-58.COM</td>\n      <td>...</td>\n      <td>2.321928</td>\n      <td>us</td>\n      <td>amazon technologies inc.</td>\n      <td>us</td>\n      <td>microsoft corporation</td>\n      <td>0.0</td>\n      <td>9738.0</td>\n      <td>0.0</td>\n      <td>272.0</td>\n      <td>123.0</td>\n    </tr>\n    <tr>\n      <th>5853</th>\n      <td>westdefe.com</td>\n      <td>False</td>\n      <td>IS</td>\n      <td>unsigned</td>\n      <td>WESTDEFE.COM;westdefe.com</td>\n      <td>abuse@namecheap.com</td>\n      <td>797c3a828b6b477a92ec17ef58db180d.protect@withh...</td>\n      <td>DNS1.REGISTRAR-SERVERS.COM</td>\n      <td>DNS2.REGISTRAR-SERVERS.COM</td>\n      <td>dns1.registrar-servers.com</td>\n      <td>...</td>\n      <td>2.405639</td>\n      <td>na</td>\n      <td>na</td>\n      <td>na</td>\n      <td>na</td>\n      <td>0.0</td>\n      <td>201.0</td>\n      <td>0.0</td>\n      <td>172.0</td>\n      <td>164.0</td>\n    </tr>\n    <tr>\n      <th>3943</th>\n      <td>primevideo.com</td>\n      <td>False</td>\n      <td>US</td>\n      <td>unsigned</td>\n      <td>PRIMEVIDEO.COM;primevideo.com</td>\n      <td>abusecomplaints@markmonitor.com</td>\n      <td>hostmaster@amazon.com</td>\n      <td>NS-1172.AWSDNS-18.ORG</td>\n      <td>NS-1933.AWSDNS-49.CO.UK</td>\n      <td>NS-306.AWSDNS-38.COM</td>\n      <td>...</td>\n      <td>2.921928</td>\n      <td>us</td>\n      <td>amazon.com, inc.</td>\n      <td>us</td>\n      <td>amazon.com, inc.</td>\n      <td>0.0</td>\n      <td>7818.0</td>\n      <td>0.0</td>\n      <td>241.0</td>\n      <td>217.0</td>\n    </tr>\n    <tr>\n      <th>2719</th>\n      <td>mcmaster.ca</td>\n      <td>False</td>\n      <td>ZZ</td>\n      <td>unsigned</td>\n      <td>mcmaster.ca</td>\n      <td>NaN</td>\n      <td>NaN</td>\n      <td>NaN</td>\n      <td>NaN</td>\n      <td>NaN</td>\n      <td>...</td>\n      <td>2.750000</td>\n      <td>ca</td>\n      <td>mcmaster university</td>\n      <td>ca</td>\n      <td>mcmaster university</td>\n      <td>0.0</td>\n      <td>7829.0</td>\n      <td>0.0</td>\n      <td>71.0</td>\n      <td>381.0</td>\n    </tr>\n  </tbody>\n</table>\n<p>5 rows × 179 columns</p>\n</div>"
     },
     "execution_count": 12,
     "metadata": {},
     "output_type": "execute_result"
    }
   ],
   "source": [
    "test_data = TabularDataset(test)\n",
    "y_test = test_data[label]\n",
    "test_data_nolab = test_data.drop(columns=[label])\n",
    "test_data_nolab.head()"
   ],
   "metadata": {
    "collapsed": false,
    "pycharm": {
     "name": "#%%\n"
    }
   }
  },
  {
   "cell_type": "code",
   "execution_count": 31,
   "outputs": [
    {
     "name": "stderr",
     "output_type": "stream",
     "text": [
      "Evaluation: accuracy on test data: 0.9563882063882064\n",
      "Evaluations on test data:\n",
      "{\n",
      "    \"accuracy\": 0.9563882063882064,\n",
      "    \"balanced_accuracy\": 0.9450687301739883,\n",
      "    \"mcc\": 0.9082031446209389,\n",
      "    \"f1\": 0.9398814563928873,\n",
      "    \"precision\": 0.9857904085257548,\n",
      "    \"recall\": 0.8980582524271845\n",
      "}\n"
     ]
    },
    {
     "name": "stdout",
     "output_type": "stream",
     "text": [
      "Predictions:  \n",
      " 6232     True\n",
      "3090    False\n",
      "976     False\n",
      "4507     True\n",
      "6035     True\n",
      "        ...  \n",
      "1197    False\n",
      "3319    False\n",
      "2323    False\n",
      "896     False\n",
      "18      False\n",
      "Name: malicious, Length: 1628, dtype: bool\n"
     ]
    }
   ],
   "source": [
    "predictor = TabularPredictor.load(save_path)\n",
    "y_pred = predictor.predict(test_data_nolab)\n",
    "print(\"Predictions:  \\n\", y_pred)\n",
    "perf = predictor.evaluate_predictions(y_true=y_test, y_pred=y_pred, auxiliary_metrics=True)"
   ],
   "metadata": {
    "collapsed": false,
    "pycharm": {
     "name": "#%%\n"
    }
   }
  },
  {
   "cell_type": "code",
   "execution_count": 32,
   "outputs": [
    {
     "data": {
      "text/plain": "                  model  score_test  score_val  pred_time_test  pred_time_val  \\\n0      RandomForestEntr    0.981572       0.97        0.109031       0.063315   \n1      RandomForestGini    0.980344       0.96        0.104731       0.085485   \n2         LightGBMLarge    0.978501       0.97        0.063253       0.040704   \n3               XGBoost    0.977273       0.98        0.043326       0.024674   \n4              LightGBM    0.977273       0.98        0.054056       0.036516   \n5              CatBoost    0.975430       0.98        0.103151       0.095744   \n6        ExtraTreesEntr    0.972359       0.95        0.118237       0.127378   \n7        ExtraTreesGini    0.969902       0.94        0.092968       0.066365   \n8        NeuralNetTorch    0.966830       0.96        0.183676       0.044995   \n9            LightGBMXT    0.956388       0.98        0.039109       0.025881   \n10  WeightedEnsemble_L2    0.956388       0.98        0.040905       0.026308   \n11      NeuralNetFastAI    0.937346       0.97        0.111262       0.048605   \n12       KNeighborsDist    0.920147       0.89        0.028728       0.010194   \n13       KNeighborsUnif    0.909091       0.89        0.027125       0.010138   \n\n     fit_time  pred_time_test_marginal  pred_time_val_marginal  \\\n0    0.676835                 0.109031                0.063315   \n1    0.957808                 0.104731                0.085485   \n2    1.351068                 0.063253                0.040704   \n3    0.385448                 0.043326                0.024674   \n4    0.564351                 0.054056                0.036516   \n5   11.820940                 0.103151                0.095744   \n6    0.608025                 0.118237                0.127378   \n7    0.630184                 0.092968                0.066365   \n8    6.098821                 0.183676                0.044995   \n9    0.545728                 0.039109                0.025881   \n10   0.946531                 0.001796                0.000427   \n11   1.392076                 0.111262                0.048605   \n12   0.028685                 0.028728                0.010194   \n13   0.021896                 0.027125                0.010138   \n\n    fit_time_marginal  stack_level  can_infer  fit_order  \n0            0.676835            1       True          6  \n1            0.957808            1       True          5  \n2            1.351068            1       True         13  \n3            0.385448            1       True         11  \n4            0.564351            1       True          4  \n5           11.820940            1       True          7  \n6            0.608025            1       True          9  \n7            0.630184            1       True          8  \n8            6.098821            1       True         12  \n9            0.545728            1       True          3  \n10           0.400803            2       True         14  \n11           1.392076            1       True         10  \n12           0.028685            1       True          2  \n13           0.021896            1       True          1  ",
      "text/html": "<div>\n<style scoped>\n    .dataframe tbody tr th:only-of-type {\n        vertical-align: middle;\n    }\n\n    .dataframe tbody tr th {\n        vertical-align: top;\n    }\n\n    .dataframe thead th {\n        text-align: right;\n    }\n</style>\n<table border=\"1\" class=\"dataframe\">\n  <thead>\n    <tr style=\"text-align: right;\">\n      <th></th>\n      <th>model</th>\n      <th>score_test</th>\n      <th>score_val</th>\n      <th>pred_time_test</th>\n      <th>pred_time_val</th>\n      <th>fit_time</th>\n      <th>pred_time_test_marginal</th>\n      <th>pred_time_val_marginal</th>\n      <th>fit_time_marginal</th>\n      <th>stack_level</th>\n      <th>can_infer</th>\n      <th>fit_order</th>\n    </tr>\n  </thead>\n  <tbody>\n    <tr>\n      <th>0</th>\n      <td>RandomForestEntr</td>\n      <td>0.981572</td>\n      <td>0.97</td>\n      <td>0.109031</td>\n      <td>0.063315</td>\n      <td>0.676835</td>\n      <td>0.109031</td>\n      <td>0.063315</td>\n      <td>0.676835</td>\n      <td>1</td>\n      <td>True</td>\n      <td>6</td>\n    </tr>\n    <tr>\n      <th>1</th>\n      <td>RandomForestGini</td>\n      <td>0.980344</td>\n      <td>0.96</td>\n      <td>0.104731</td>\n      <td>0.085485</td>\n      <td>0.957808</td>\n      <td>0.104731</td>\n      <td>0.085485</td>\n      <td>0.957808</td>\n      <td>1</td>\n      <td>True</td>\n      <td>5</td>\n    </tr>\n    <tr>\n      <th>2</th>\n      <td>LightGBMLarge</td>\n      <td>0.978501</td>\n      <td>0.97</td>\n      <td>0.063253</td>\n      <td>0.040704</td>\n      <td>1.351068</td>\n      <td>0.063253</td>\n      <td>0.040704</td>\n      <td>1.351068</td>\n      <td>1</td>\n      <td>True</td>\n      <td>13</td>\n    </tr>\n    <tr>\n      <th>3</th>\n      <td>XGBoost</td>\n      <td>0.977273</td>\n      <td>0.98</td>\n      <td>0.043326</td>\n      <td>0.024674</td>\n      <td>0.385448</td>\n      <td>0.043326</td>\n      <td>0.024674</td>\n      <td>0.385448</td>\n      <td>1</td>\n      <td>True</td>\n      <td>11</td>\n    </tr>\n    <tr>\n      <th>4</th>\n      <td>LightGBM</td>\n      <td>0.977273</td>\n      <td>0.98</td>\n      <td>0.054056</td>\n      <td>0.036516</td>\n      <td>0.564351</td>\n      <td>0.054056</td>\n      <td>0.036516</td>\n      <td>0.564351</td>\n      <td>1</td>\n      <td>True</td>\n      <td>4</td>\n    </tr>\n    <tr>\n      <th>5</th>\n      <td>CatBoost</td>\n      <td>0.975430</td>\n      <td>0.98</td>\n      <td>0.103151</td>\n      <td>0.095744</td>\n      <td>11.820940</td>\n      <td>0.103151</td>\n      <td>0.095744</td>\n      <td>11.820940</td>\n      <td>1</td>\n      <td>True</td>\n      <td>7</td>\n    </tr>\n    <tr>\n      <th>6</th>\n      <td>ExtraTreesEntr</td>\n      <td>0.972359</td>\n      <td>0.95</td>\n      <td>0.118237</td>\n      <td>0.127378</td>\n      <td>0.608025</td>\n      <td>0.118237</td>\n      <td>0.127378</td>\n      <td>0.608025</td>\n      <td>1</td>\n      <td>True</td>\n      <td>9</td>\n    </tr>\n    <tr>\n      <th>7</th>\n      <td>ExtraTreesGini</td>\n      <td>0.969902</td>\n      <td>0.94</td>\n      <td>0.092968</td>\n      <td>0.066365</td>\n      <td>0.630184</td>\n      <td>0.092968</td>\n      <td>0.066365</td>\n      <td>0.630184</td>\n      <td>1</td>\n      <td>True</td>\n      <td>8</td>\n    </tr>\n    <tr>\n      <th>8</th>\n      <td>NeuralNetTorch</td>\n      <td>0.966830</td>\n      <td>0.96</td>\n      <td>0.183676</td>\n      <td>0.044995</td>\n      <td>6.098821</td>\n      <td>0.183676</td>\n      <td>0.044995</td>\n      <td>6.098821</td>\n      <td>1</td>\n      <td>True</td>\n      <td>12</td>\n    </tr>\n    <tr>\n      <th>9</th>\n      <td>LightGBMXT</td>\n      <td>0.956388</td>\n      <td>0.98</td>\n      <td>0.039109</td>\n      <td>0.025881</td>\n      <td>0.545728</td>\n      <td>0.039109</td>\n      <td>0.025881</td>\n      <td>0.545728</td>\n      <td>1</td>\n      <td>True</td>\n      <td>3</td>\n    </tr>\n    <tr>\n      <th>10</th>\n      <td>WeightedEnsemble_L2</td>\n      <td>0.956388</td>\n      <td>0.98</td>\n      <td>0.040905</td>\n      <td>0.026308</td>\n      <td>0.946531</td>\n      <td>0.001796</td>\n      <td>0.000427</td>\n      <td>0.400803</td>\n      <td>2</td>\n      <td>True</td>\n      <td>14</td>\n    </tr>\n    <tr>\n      <th>11</th>\n      <td>NeuralNetFastAI</td>\n      <td>0.937346</td>\n      <td>0.97</td>\n      <td>0.111262</td>\n      <td>0.048605</td>\n      <td>1.392076</td>\n      <td>0.111262</td>\n      <td>0.048605</td>\n      <td>1.392076</td>\n      <td>1</td>\n      <td>True</td>\n      <td>10</td>\n    </tr>\n    <tr>\n      <th>12</th>\n      <td>KNeighborsDist</td>\n      <td>0.920147</td>\n      <td>0.89</td>\n      <td>0.028728</td>\n      <td>0.010194</td>\n      <td>0.028685</td>\n      <td>0.028728</td>\n      <td>0.010194</td>\n      <td>0.028685</td>\n      <td>1</td>\n      <td>True</td>\n      <td>2</td>\n    </tr>\n    <tr>\n      <th>13</th>\n      <td>KNeighborsUnif</td>\n      <td>0.909091</td>\n      <td>0.89</td>\n      <td>0.027125</td>\n      <td>0.010138</td>\n      <td>0.021896</td>\n      <td>0.027125</td>\n      <td>0.010138</td>\n      <td>0.021896</td>\n      <td>1</td>\n      <td>True</td>\n      <td>1</td>\n    </tr>\n  </tbody>\n</table>\n</div>"
     },
     "execution_count": 32,
     "metadata": {},
     "output_type": "execute_result"
    }
   ],
   "source": [
    "predictor.leaderboard(test_data, silent=True)"
   ],
   "metadata": {
    "collapsed": false,
    "pycharm": {
     "name": "#%%\n"
    }
   }
  },
  {
   "cell_type": "code",
   "execution_count": 8,
   "outputs": [
    {
     "name": "stdout",
     "output_type": "stream",
     "text": [
      "('category', [])                    : 78 | ['domain', 'country', 'dnssec', 'domain_name', 'emails_1', ...]\n",
      "('category', ['text_as_category'])  :  3 | ['registrar', 'address', 'registrant_name']\n",
      "('float', [])                       :  7 | ['registrar_id', 'entropy', 'days_between_creations', 'days_since_creation', 'days_between_updates', ...]\n",
      "('int', ['binned', 'text_special']) : 32 | ['registrar.char_count', 'registrar.word_count', 'registrar.capital_ratio', 'registrar.lower_ratio', 'registrar.digit_ratio', ...]\n",
      "('int', ['bool'])                   : 36 | ['redacted', 'admin', 'admin_city', 'admin_country', 'admin_id', ...]\n",
      "('int', ['datetime_as_int'])        : 15 | ['updated_date', 'updated_date.year', 'updated_date.month', 'updated_date.day', 'updated_date.dayofweek', ...]\n",
      "('int', ['text_ngram'])             :  6 | ['__nlp__.corporate', '__nlp__.corporate domains', '__nlp__.domains', '__nlp__.domains inc', '__nlp__.inc', ...]\n"
     ]
    }
   ],
   "source": [
    "print(predictor.feature_metadata)"
   ],
   "metadata": {
    "collapsed": false,
    "pycharm": {
     "name": "#%%\n"
    }
   }
  },
  {
   "cell_type": "code",
   "execution_count": 13,
   "outputs": [
    {
     "name": "stderr",
     "output_type": "stream",
     "text": [
      "These features in provided data are not utilized by the predictor and will be ignored: ['admin_application_purpose', 'admin_nexus_category', 'admin_street', 'registrant_application_purpose', 'registrant_nexus_category', 'registrar_email', 'registrar_phone', 'tech_application_purpose', 'tech_country', 'tech_nexus_category', 'tech_street', 'billing_city', 'billing_country', 'billing_name', 'billing_state', 'registrant_state', 'tech_state', 'url', 'registrar_iana', 'organization', 'transfer_date', 'admin_phone_number', 'billing_address', 'billing_id', 'billing_phone_number', 'billing_postal_code', 'billing_state_province', 'registrant_phone_number', 'tech_phone_number', 'emails_6', 'name_server', 'nic_hdl_br', 'nslastaa', 'nsstat', 'owner_c', 'person', 'tech_c', 'admin_account_name', 'admin_company_name', 'admin_family_name', 'registrant_company_name', 'tech_account_name', 'tech_company_name', 'tech_family_name', 'admin_country_code', 'registrar_country_code', 'registrar_organization_id', 'registrar_postal_code', 'registrar_street', 'tech', 'referral_url', 'emails_7']\n"
     ]
    },
    {
     "data": {
      "text/plain": "                       importance    stddev   p_value  n  p99_high   p99_low\ndns_rec_mx_cc            0.171000  0.018520  0.001944  3  0.277123  0.064877\nentropy                  0.043333  0.005132  0.002321  3  0.072738  0.013929\ncreation_date            0.030000  0.008544  0.012994  3  0.078958 -0.018958\ndays_since_creation      0.018667  0.000577  0.000159  3  0.021975  0.015358\ndays_until_expiration    0.008667  0.001528  0.005098  3  0.017420 -0.000086\n...                           ...       ...       ... ..       ...       ...\nname_servers_11          0.000000  0.000000  0.500000  3  0.000000  0.000000\nname_servers_10          0.000000  0.000000  0.500000  3  0.000000  0.000000\nname_servers_9           0.000000  0.000000  0.500000  3  0.000000  0.000000\nemails_3                 0.000000  0.000000  0.500000  3  0.000000  0.000000\nadmin_organization       0.000000  0.000000  0.500000  3  0.000000  0.000000\n\n[127 rows x 6 columns]",
      "text/html": "<div>\n<style scoped>\n    .dataframe tbody tr th:only-of-type {\n        vertical-align: middle;\n    }\n\n    .dataframe tbody tr th {\n        vertical-align: top;\n    }\n\n    .dataframe thead th {\n        text-align: right;\n    }\n</style>\n<table border=\"1\" class=\"dataframe\">\n  <thead>\n    <tr style=\"text-align: right;\">\n      <th></th>\n      <th>importance</th>\n      <th>stddev</th>\n      <th>p_value</th>\n      <th>n</th>\n      <th>p99_high</th>\n      <th>p99_low</th>\n    </tr>\n  </thead>\n  <tbody>\n    <tr>\n      <th>dns_rec_mx_cc</th>\n      <td>0.171000</td>\n      <td>0.018520</td>\n      <td>0.001944</td>\n      <td>3</td>\n      <td>0.277123</td>\n      <td>0.064877</td>\n    </tr>\n    <tr>\n      <th>entropy</th>\n      <td>0.043333</td>\n      <td>0.005132</td>\n      <td>0.002321</td>\n      <td>3</td>\n      <td>0.072738</td>\n      <td>0.013929</td>\n    </tr>\n    <tr>\n      <th>creation_date</th>\n      <td>0.030000</td>\n      <td>0.008544</td>\n      <td>0.012994</td>\n      <td>3</td>\n      <td>0.078958</td>\n      <td>-0.018958</td>\n    </tr>\n    <tr>\n      <th>days_since_creation</th>\n      <td>0.018667</td>\n      <td>0.000577</td>\n      <td>0.000159</td>\n      <td>3</td>\n      <td>0.021975</td>\n      <td>0.015358</td>\n    </tr>\n    <tr>\n      <th>days_until_expiration</th>\n      <td>0.008667</td>\n      <td>0.001528</td>\n      <td>0.005098</td>\n      <td>3</td>\n      <td>0.017420</td>\n      <td>-0.000086</td>\n    </tr>\n    <tr>\n      <th>...</th>\n      <td>...</td>\n      <td>...</td>\n      <td>...</td>\n      <td>...</td>\n      <td>...</td>\n      <td>...</td>\n    </tr>\n    <tr>\n      <th>name_servers_11</th>\n      <td>0.000000</td>\n      <td>0.000000</td>\n      <td>0.500000</td>\n      <td>3</td>\n      <td>0.000000</td>\n      <td>0.000000</td>\n    </tr>\n    <tr>\n      <th>name_servers_10</th>\n      <td>0.000000</td>\n      <td>0.000000</td>\n      <td>0.500000</td>\n      <td>3</td>\n      <td>0.000000</td>\n      <td>0.000000</td>\n    </tr>\n    <tr>\n      <th>name_servers_9</th>\n      <td>0.000000</td>\n      <td>0.000000</td>\n      <td>0.500000</td>\n      <td>3</td>\n      <td>0.000000</td>\n      <td>0.000000</td>\n    </tr>\n    <tr>\n      <th>emails_3</th>\n      <td>0.000000</td>\n      <td>0.000000</td>\n      <td>0.500000</td>\n      <td>3</td>\n      <td>0.000000</td>\n      <td>0.000000</td>\n    </tr>\n    <tr>\n      <th>admin_organization</th>\n      <td>0.000000</td>\n      <td>0.000000</td>\n      <td>0.500000</td>\n      <td>3</td>\n      <td>0.000000</td>\n      <td>0.000000</td>\n    </tr>\n  </tbody>\n</table>\n<p>127 rows × 6 columns</p>\n</div>"
     },
     "execution_count": 13,
     "metadata": {},
     "output_type": "execute_result"
    }
   ],
   "source": [
    "predictor.feature_importance(test_data)"
   ],
   "metadata": {
    "collapsed": false,
    "pycharm": {
     "name": "#%%\n"
    }
   }
  },
  {
   "cell_type": "code",
   "execution_count": null,
   "outputs": [],
   "source": [
    "features = ['dns_rec_mx_cc', 'entropy', 'creation_date', 'days_since_creation']"
   ],
   "metadata": {
    "collapsed": false,
    "pycharm": {
     "name": "#%%\n"
    }
   }
  }
 ],
 "metadata": {
  "kernelspec": {
   "display_name": "Python 3",
   "language": "python",
   "name": "python3"
  },
  "language_info": {
   "codemirror_mode": {
    "name": "ipython",
    "version": 2
   },
   "file_extension": ".py",
   "mimetype": "text/x-python",
   "name": "python",
   "nbconvert_exporter": "python",
   "pygments_lexer": "ipython2",
   "version": "2.7.6"
  }
 },
 "nbformat": 4,
 "nbformat_minor": 0
}
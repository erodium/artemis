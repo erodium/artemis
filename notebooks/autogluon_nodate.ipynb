{
 "cells": [
  {
   "cell_type": "code",
   "execution_count": 1,
   "metadata": {
    "collapsed": true
   },
   "outputs": [],
   "source": [
    "from autogluon.tabular import TabularDataset, TabularPredictor\n",
    "from sklearn.model_selection import train_test_split\n",
    "\n",
    "import pandas as pd"
   ]
  },
  {
   "cell_type": "code",
   "execution_count": 11,
   "outputs": [
    {
     "name": "stderr",
     "output_type": "stream",
     "text": [
      "/Users/liam/miniconda3/envs/artemis/lib/python3.9/site-packages/IPython/core/interactiveshell.py:3457: DtypeWarning: Columns (7,39,45,47,48,49,50,52,53,60,63,65,68,71,74,76,79,82,100,101,102,103,104,105,106,107,109,110,111,112,113,114,115,116,117,119,120,124,125,136,137,138,139,140,141,142,144,145,146,147,148,149,150,151,152,153,154,155,156,158,159) have mixed types.Specify dtype option on import or set low_memory=False.\n",
      "  exec(code_obj, self.user_global_ns, self.user_ns)\n"
     ]
    }
   ],
   "source": [
    "file=\"/Users/liam/PycharmProjects/dataspell/artemis/data/interim/better_whois_data.csv\"\n",
    "df = pd.read_csv(file)"
   ],
   "metadata": {
    "collapsed": false,
    "pycharm": {
     "name": "#%%\n"
    }
   }
  },
  {
   "cell_type": "code",
   "execution_count": 12,
   "outputs": [],
   "source": [
    "df = df.dropna(subset=['domain_name'])\n",
    "df = df.drop(columns=['domain', 'domain_name', 'creation_date', 'days_since_creation'])"
   ],
   "metadata": {
    "collapsed": false,
    "pycharm": {
     "name": "#%%\n"
    }
   }
  },
  {
   "cell_type": "code",
   "execution_count": 13,
   "outputs": [
    {
     "data": {
      "text/plain": "      redacted          name_servers_1          name_servers_2  \\\n0        False                    T.AU                    R.AU   \n2        False  NS33.DOMAINCONTROL.COM  NS34.DOMAINCONTROL.COM   \n3        False       NS1.DREAMHOST.COM       NS2.DREAMHOST.COM   \n4        False      NS1.P23.DYNECT.NET      NS2.P23.DYNECT.NET   \n5        False       NS65.WORLDNIC.COM       NS66.WORLDNIC.COM   \n...        ...                     ...                     ...   \n9123      True            a.dnspod.com            b.dnspod.com   \n9124      True            a.dnspod.com            b.dnspod.com   \n9125      True         NS1.DUCKDNS.ORG         NS2.DUCKDNS.ORG   \n9126     False   NS1.MYHOSTINGPACK.COM   NS2.MYHOSTINGPACK.COM   \n9127     False           NF1.NO-IP.COM           NF2.NO-IP.COM   \n\n             name_servers_3         name_servers_4 registrant_contact_name  \\\n0                      Q.AU                   S.AU                     CEO   \n2                       NaN                    NaN                     NaN   \n3         NS3.DREAMHOST.COM                    NaN                     NaN   \n4        NS3.P23.DYNECT.NET     NS4.P23.DYNECT.NET                     NaN   \n5                       NaN                    NaN                     NaN   \n...                     ...                    ...                     ...   \n9123           A.DNSPOD.COM           B.DNSPOD.COM                     NaN   \n9124           A.DNSPOD.COM           B.DNSPOD.COM                     NaN   \n9125        NS3.DUCKDNS.ORG        NS4.DUCKDNS.ORG                     NaN   \n9126  ns1.myhostingpack.com  ns2.myhostingpack.com                     NaN   \n9127          NF3.NO-IP.COM          NF4.NO-IP.COM                     NaN   \n\n                                           registrar  \\\n0                          Afilias Australia Pty Ltd   \n2                                   GoDaddy.com, LLC   \n3                                          DREAMHOST   \n4                                   GoDaddy.com, LLC   \n5                             Network Solutions, LLC   \n...                                              ...   \n9123        NICENIC INTERNATIONAL GROUP CO., LIMITED   \n9124        NICENIC INTERNATIONAL GROUP CO., LIMITED   \n9125                                       GANDI SAS   \n9126              Akky Online Solutions S.A. de C.V.   \n9127  Vitalwerks Internet Solutions, LLC / No-IP.com   \n\n                                               status_1  \\\n0     serverDeleteProhibited https://afilias.com.au/...   \n2     clientDeleteProhibited https://icann.org/epp#c...   \n3     clientTransferProhibited https://icann.org/epp...   \n4     clientDeleteProhibited https://icann.org/epp#c...   \n5                                                   NaN   \n...                                                 ...   \n9123  clientDeleteProhibited https://icann.org/epp#c...   \n9124  clientDeleteProhibited https://icann.org/epp#c...   \n9125  clientTransferProhibited https://icann.org/epp...   \n9126  clientTransferProhibited https://icann.org/epp...   \n9127  clientTransferProhibited https://icann.org/epp...   \n\n                                               status_2  \\\n0     serverRenewProhibited https://afilias.com.au/g...   \n2     clientRenewProhibited https://icann.org/epp#cl...   \n3     clientTransferProhibited https://www.icann.org...   \n4     clientRenewProhibited https://icann.org/epp#cl...   \n5                                                   NaN   \n...                                                 ...   \n9123  clientTransferProhibited https://icann.org/epp...   \n9124  clientTransferProhibited https://icann.org/epp...   \n9125  clientTransferProhibited http://www.icann.org/...   \n9126  clientTransferProhibited (https://www.icann.or...   \n9127  clientTransferProhibited http://www.icann.org/...   \n\n                                               status_3  ...   entropy  \\\n0     serverTransferProhibited https://afilias.com.a...  ...  3.337175   \n2     clientTransferProhibited https://icann.org/epp...  ...  1.921928   \n3                                                   NaN  ...  2.933955   \n4     clientTransferProhibited https://icann.org/epp...  ...  3.499228   \n5                                                   NaN  ...  2.947703   \n...                                                 ...  ...       ...   \n9123        clientHold https://icann.org/epp#clientHold  ...  3.000000   \n9124        clientHold https://icann.org/epp#clientHold  ...  3.000000   \n9125                                                NaN  ...  3.378783   \n9126                                                NaN  ...  3.080501   \n9127                                                NaN  ...  3.337175   \n\n     dns_rec_a_cc             dns_rec_a_org dns_rec_mx_cc  \\\n0              au            webcentral noc            au   \n2              us          godaddy.com, llc            us   \n3              us    new dream network, llc            na   \n4              us                google llc            us   \n5              na                        na            na   \n...           ...                       ...           ...   \n9123           na                        na            na   \n9124           na                        na            na   \n9125           nl  stop the war in ukraine!            nl   \n9126           us         digitalocean, llc            us   \n9127           na                        na            na   \n\n                dns_rec_mx_org malicious days_between_creations  \\\n0            irt-webcentral-au     False                    NaN   \n2        microsoft corporation     False                    0.0   \n3                           na     False                    0.0   \n4        microsoft corporation     False                    0.0   \n5                           na     False                    0.0   \n...                        ...       ...                    ...   \n9123                        na      True                    1.0   \n9124                        na      True                    1.0   \n9125  stop the war in ukraine!      True                    0.0   \n9126              psinet, inc.      True                    0.0   \n9127                        na      True                    0.0   \n\n     days_between_updates days_since_update days_until_expiration  \n0                     0.0              21.0                   NaN  \n2                     9.0             443.0                 470.0  \n3                     0.0             241.0                 155.0  \n4                     0.0             515.0                 216.0  \n5                     0.0            1492.0                2161.0  \n...                   ...               ...                   ...  \n9123                 17.0             246.0                 103.0  \n9124                 17.0             246.0                 103.0  \n9125                  0.0             132.0                2562.0  \n9126                  0.0             255.0                 108.0  \n9127                  0.0              84.0                1178.0  \n\n[8210 rows x 167 columns]",
      "text/html": "<div>\n<style scoped>\n    .dataframe tbody tr th:only-of-type {\n        vertical-align: middle;\n    }\n\n    .dataframe tbody tr th {\n        vertical-align: top;\n    }\n\n    .dataframe thead th {\n        text-align: right;\n    }\n</style>\n<table border=\"1\" class=\"dataframe\">\n  <thead>\n    <tr style=\"text-align: right;\">\n      <th></th>\n      <th>redacted</th>\n      <th>name_servers_1</th>\n      <th>name_servers_2</th>\n      <th>name_servers_3</th>\n      <th>name_servers_4</th>\n      <th>registrant_contact_name</th>\n      <th>registrar</th>\n      <th>status_1</th>\n      <th>status_2</th>\n      <th>status_3</th>\n      <th>...</th>\n      <th>entropy</th>\n      <th>dns_rec_a_cc</th>\n      <th>dns_rec_a_org</th>\n      <th>dns_rec_mx_cc</th>\n      <th>dns_rec_mx_org</th>\n      <th>malicious</th>\n      <th>days_between_creations</th>\n      <th>days_between_updates</th>\n      <th>days_since_update</th>\n      <th>days_until_expiration</th>\n    </tr>\n  </thead>\n  <tbody>\n    <tr>\n      <th>0</th>\n      <td>False</td>\n      <td>T.AU</td>\n      <td>R.AU</td>\n      <td>Q.AU</td>\n      <td>S.AU</td>\n      <td>CEO</td>\n      <td>Afilias Australia Pty Ltd</td>\n      <td>serverDeleteProhibited https://afilias.com.au/...</td>\n      <td>serverRenewProhibited https://afilias.com.au/g...</td>\n      <td>serverTransferProhibited https://afilias.com.a...</td>\n      <td>...</td>\n      <td>3.337175</td>\n      <td>au</td>\n      <td>webcentral noc</td>\n      <td>au</td>\n      <td>irt-webcentral-au</td>\n      <td>False</td>\n      <td>NaN</td>\n      <td>0.0</td>\n      <td>21.0</td>\n      <td>NaN</td>\n    </tr>\n    <tr>\n      <th>2</th>\n      <td>False</td>\n      <td>NS33.DOMAINCONTROL.COM</td>\n      <td>NS34.DOMAINCONTROL.COM</td>\n      <td>NaN</td>\n      <td>NaN</td>\n      <td>NaN</td>\n      <td>GoDaddy.com, LLC</td>\n      <td>clientDeleteProhibited https://icann.org/epp#c...</td>\n      <td>clientRenewProhibited https://icann.org/epp#cl...</td>\n      <td>clientTransferProhibited https://icann.org/epp...</td>\n      <td>...</td>\n      <td>1.921928</td>\n      <td>us</td>\n      <td>godaddy.com, llc</td>\n      <td>us</td>\n      <td>microsoft corporation</td>\n      <td>False</td>\n      <td>0.0</td>\n      <td>9.0</td>\n      <td>443.0</td>\n      <td>470.0</td>\n    </tr>\n    <tr>\n      <th>3</th>\n      <td>False</td>\n      <td>NS1.DREAMHOST.COM</td>\n      <td>NS2.DREAMHOST.COM</td>\n      <td>NS3.DREAMHOST.COM</td>\n      <td>NaN</td>\n      <td>NaN</td>\n      <td>DREAMHOST</td>\n      <td>clientTransferProhibited https://icann.org/epp...</td>\n      <td>clientTransferProhibited https://www.icann.org...</td>\n      <td>NaN</td>\n      <td>...</td>\n      <td>2.933955</td>\n      <td>us</td>\n      <td>new dream network, llc</td>\n      <td>na</td>\n      <td>na</td>\n      <td>False</td>\n      <td>0.0</td>\n      <td>0.0</td>\n      <td>241.0</td>\n      <td>155.0</td>\n    </tr>\n    <tr>\n      <th>4</th>\n      <td>False</td>\n      <td>NS1.P23.DYNECT.NET</td>\n      <td>NS2.P23.DYNECT.NET</td>\n      <td>NS3.P23.DYNECT.NET</td>\n      <td>NS4.P23.DYNECT.NET</td>\n      <td>NaN</td>\n      <td>GoDaddy.com, LLC</td>\n      <td>clientDeleteProhibited https://icann.org/epp#c...</td>\n      <td>clientRenewProhibited https://icann.org/epp#cl...</td>\n      <td>clientTransferProhibited https://icann.org/epp...</td>\n      <td>...</td>\n      <td>3.499228</td>\n      <td>us</td>\n      <td>google llc</td>\n      <td>us</td>\n      <td>microsoft corporation</td>\n      <td>False</td>\n      <td>0.0</td>\n      <td>0.0</td>\n      <td>515.0</td>\n      <td>216.0</td>\n    </tr>\n    <tr>\n      <th>5</th>\n      <td>False</td>\n      <td>NS65.WORLDNIC.COM</td>\n      <td>NS66.WORLDNIC.COM</td>\n      <td>NaN</td>\n      <td>NaN</td>\n      <td>NaN</td>\n      <td>Network Solutions, LLC</td>\n      <td>NaN</td>\n      <td>NaN</td>\n      <td>NaN</td>\n      <td>...</td>\n      <td>2.947703</td>\n      <td>na</td>\n      <td>na</td>\n      <td>na</td>\n      <td>na</td>\n      <td>False</td>\n      <td>0.0</td>\n      <td>0.0</td>\n      <td>1492.0</td>\n      <td>2161.0</td>\n    </tr>\n    <tr>\n      <th>...</th>\n      <td>...</td>\n      <td>...</td>\n      <td>...</td>\n      <td>...</td>\n      <td>...</td>\n      <td>...</td>\n      <td>...</td>\n      <td>...</td>\n      <td>...</td>\n      <td>...</td>\n      <td>...</td>\n      <td>...</td>\n      <td>...</td>\n      <td>...</td>\n      <td>...</td>\n      <td>...</td>\n      <td>...</td>\n      <td>...</td>\n      <td>...</td>\n      <td>...</td>\n      <td>...</td>\n    </tr>\n    <tr>\n      <th>9123</th>\n      <td>True</td>\n      <td>a.dnspod.com</td>\n      <td>b.dnspod.com</td>\n      <td>A.DNSPOD.COM</td>\n      <td>B.DNSPOD.COM</td>\n      <td>NaN</td>\n      <td>NICENIC INTERNATIONAL GROUP CO., LIMITED</td>\n      <td>clientDeleteProhibited https://icann.org/epp#c...</td>\n      <td>clientTransferProhibited https://icann.org/epp...</td>\n      <td>clientHold https://icann.org/epp#clientHold</td>\n      <td>...</td>\n      <td>3.000000</td>\n      <td>na</td>\n      <td>na</td>\n      <td>na</td>\n      <td>na</td>\n      <td>True</td>\n      <td>1.0</td>\n      <td>17.0</td>\n      <td>246.0</td>\n      <td>103.0</td>\n    </tr>\n    <tr>\n      <th>9124</th>\n      <td>True</td>\n      <td>a.dnspod.com</td>\n      <td>b.dnspod.com</td>\n      <td>A.DNSPOD.COM</td>\n      <td>B.DNSPOD.COM</td>\n      <td>NaN</td>\n      <td>NICENIC INTERNATIONAL GROUP CO., LIMITED</td>\n      <td>clientDeleteProhibited https://icann.org/epp#c...</td>\n      <td>clientTransferProhibited https://icann.org/epp...</td>\n      <td>clientHold https://icann.org/epp#clientHold</td>\n      <td>...</td>\n      <td>3.000000</td>\n      <td>na</td>\n      <td>na</td>\n      <td>na</td>\n      <td>na</td>\n      <td>True</td>\n      <td>1.0</td>\n      <td>17.0</td>\n      <td>246.0</td>\n      <td>103.0</td>\n    </tr>\n    <tr>\n      <th>9125</th>\n      <td>True</td>\n      <td>NS1.DUCKDNS.ORG</td>\n      <td>NS2.DUCKDNS.ORG</td>\n      <td>NS3.DUCKDNS.ORG</td>\n      <td>NS4.DUCKDNS.ORG</td>\n      <td>NaN</td>\n      <td>GANDI SAS</td>\n      <td>clientTransferProhibited https://icann.org/epp...</td>\n      <td>clientTransferProhibited http://www.icann.org/...</td>\n      <td>NaN</td>\n      <td>...</td>\n      <td>3.378783</td>\n      <td>nl</td>\n      <td>stop the war in ukraine!</td>\n      <td>nl</td>\n      <td>stop the war in ukraine!</td>\n      <td>True</td>\n      <td>0.0</td>\n      <td>0.0</td>\n      <td>132.0</td>\n      <td>2562.0</td>\n    </tr>\n    <tr>\n      <th>9126</th>\n      <td>False</td>\n      <td>NS1.MYHOSTINGPACK.COM</td>\n      <td>NS2.MYHOSTINGPACK.COM</td>\n      <td>ns1.myhostingpack.com</td>\n      <td>ns2.myhostingpack.com</td>\n      <td>NaN</td>\n      <td>Akky Online Solutions S.A. de C.V.</td>\n      <td>clientTransferProhibited https://icann.org/epp...</td>\n      <td>clientTransferProhibited (https://www.icann.or...</td>\n      <td>NaN</td>\n      <td>...</td>\n      <td>3.080501</td>\n      <td>us</td>\n      <td>digitalocean, llc</td>\n      <td>us</td>\n      <td>psinet, inc.</td>\n      <td>True</td>\n      <td>0.0</td>\n      <td>0.0</td>\n      <td>255.0</td>\n      <td>108.0</td>\n    </tr>\n    <tr>\n      <th>9127</th>\n      <td>False</td>\n      <td>NF1.NO-IP.COM</td>\n      <td>NF2.NO-IP.COM</td>\n      <td>NF3.NO-IP.COM</td>\n      <td>NF4.NO-IP.COM</td>\n      <td>NaN</td>\n      <td>Vitalwerks Internet Solutions, LLC / No-IP.com</td>\n      <td>clientTransferProhibited https://icann.org/epp...</td>\n      <td>clientTransferProhibited http://www.icann.org/...</td>\n      <td>NaN</td>\n      <td>...</td>\n      <td>3.337175</td>\n      <td>na</td>\n      <td>na</td>\n      <td>na</td>\n      <td>na</td>\n      <td>True</td>\n      <td>0.0</td>\n      <td>0.0</td>\n      <td>84.0</td>\n      <td>1178.0</td>\n    </tr>\n  </tbody>\n</table>\n<p>8210 rows × 167 columns</p>\n</div>"
     },
     "execution_count": 13,
     "metadata": {},
     "output_type": "execute_result"
    }
   ],
   "source": [
    "df"
   ],
   "metadata": {
    "collapsed": false,
    "pycharm": {
     "name": "#%%\n"
    }
   }
  },
  {
   "cell_type": "code",
   "execution_count": 14,
   "outputs": [],
   "source": [
    "\n",
    "train, test = train_test_split(df)"
   ],
   "metadata": {
    "collapsed": false,
    "pycharm": {
     "name": "#%%\n"
    }
   }
  },
  {
   "cell_type": "code",
   "execution_count": 15,
   "outputs": [],
   "source": [
    "train_data = TabularDataset(train)\n",
    "subsample_size = 500\n",
    "train_data = train_data.sample(n=subsample_size, random_state=0)"
   ],
   "metadata": {
    "collapsed": false,
    "pycharm": {
     "name": "#%%\n"
    }
   }
  },
  {
   "cell_type": "code",
   "execution_count": 16,
   "outputs": [
    {
     "data": {
      "text/plain": "      redacted     name_servers_1     name_servers_2 name_servers_3  \\\n740      False                NaN                NaN            NaN   \n5145     False  DNS17.HICHINA.COM  DNS18.HICHINA.COM            NaN   \n5893     False      ns109.ovh.net     dns109.ovh.net            NaN   \n1455     False  DNS25.HICHINA.COM  DNS26.HICHINA.COM            NaN   \n154      False  NS63.WORLDNIC.COM  NS64.WORLDNIC.COM            NaN   \n\n     name_servers_4 registrant_contact_name  \\\n740             NaN                     NaN   \n5145            NaN                     NaN   \n5893            NaN                     NaN   \n1455            NaN                     NaN   \n154             NaN                     NaN   \n\n                                        registrar  \\\n740                                  home.pl S.A.   \n5145  Alibaba Cloud Computing (Beijing) Co., Ltd.   \n5893                                      OVH SAS   \n1455  Alibaba Cloud Computing (Beijing) Co., Ltd.   \n154                              GoDaddy.com, LLC   \n\n                                               status_1  \\\n740                                                 NaN   \n5145                                                NaN   \n5893                                                NaN   \n1455                                                NaN   \n154   clientDeleteProhibited https://icann.org/epp#c...   \n\n                                               status_2  \\\n740                                                 NaN   \n5145                                                NaN   \n5893                                                NaN   \n1455                                                NaN   \n154   clientRenewProhibited https://icann.org/epp#cl...   \n\n                                               status_3  ...   entropy  \\\n740                                                 NaN  ...  3.026987   \n5145                                                NaN  ...  2.321928   \n5893                                                NaN  ...  3.026987   \n1455                                                NaN  ...  2.947703   \n154   clientTransferProhibited https://icann.org/epp...  ...  2.921928   \n\n     dns_rec_a_cc                   dns_rec_a_org dns_rec_mx_cc  \\\n740            pl  home.pl network administrators            pl   \n5145           na                              na            na   \n5893           na                              na            na   \n1455           na                              na            na   \n154            na                              na            na   \n\n                      dns_rec_mx_org malicious days_between_creations  \\\n740   home.pl network administrators     False                    0.0   \n5145                              na     False                    0.0   \n5893                              na     False                    0.0   \n1455                              na     False                    0.0   \n154                               na     False                    0.0   \n\n     days_between_updates days_since_update days_until_expiration  \n740                   0.0             275.0                 115.0  \n5145                  0.0             296.0                  74.0  \n5893                  0.0             157.0                 216.0  \n1455                  0.0             565.0                 223.0  \n154                   0.0             545.0                 184.0  \n\n[5 rows x 167 columns]",
      "text/html": "<div>\n<style scoped>\n    .dataframe tbody tr th:only-of-type {\n        vertical-align: middle;\n    }\n\n    .dataframe tbody tr th {\n        vertical-align: top;\n    }\n\n    .dataframe thead th {\n        text-align: right;\n    }\n</style>\n<table border=\"1\" class=\"dataframe\">\n  <thead>\n    <tr style=\"text-align: right;\">\n      <th></th>\n      <th>redacted</th>\n      <th>name_servers_1</th>\n      <th>name_servers_2</th>\n      <th>name_servers_3</th>\n      <th>name_servers_4</th>\n      <th>registrant_contact_name</th>\n      <th>registrar</th>\n      <th>status_1</th>\n      <th>status_2</th>\n      <th>status_3</th>\n      <th>...</th>\n      <th>entropy</th>\n      <th>dns_rec_a_cc</th>\n      <th>dns_rec_a_org</th>\n      <th>dns_rec_mx_cc</th>\n      <th>dns_rec_mx_org</th>\n      <th>malicious</th>\n      <th>days_between_creations</th>\n      <th>days_between_updates</th>\n      <th>days_since_update</th>\n      <th>days_until_expiration</th>\n    </tr>\n  </thead>\n  <tbody>\n    <tr>\n      <th>740</th>\n      <td>False</td>\n      <td>NaN</td>\n      <td>NaN</td>\n      <td>NaN</td>\n      <td>NaN</td>\n      <td>NaN</td>\n      <td>home.pl S.A.</td>\n      <td>NaN</td>\n      <td>NaN</td>\n      <td>NaN</td>\n      <td>...</td>\n      <td>3.026987</td>\n      <td>pl</td>\n      <td>home.pl network administrators</td>\n      <td>pl</td>\n      <td>home.pl network administrators</td>\n      <td>False</td>\n      <td>0.0</td>\n      <td>0.0</td>\n      <td>275.0</td>\n      <td>115.0</td>\n    </tr>\n    <tr>\n      <th>5145</th>\n      <td>False</td>\n      <td>DNS17.HICHINA.COM</td>\n      <td>DNS18.HICHINA.COM</td>\n      <td>NaN</td>\n      <td>NaN</td>\n      <td>NaN</td>\n      <td>Alibaba Cloud Computing (Beijing) Co., Ltd.</td>\n      <td>NaN</td>\n      <td>NaN</td>\n      <td>NaN</td>\n      <td>...</td>\n      <td>2.321928</td>\n      <td>na</td>\n      <td>na</td>\n      <td>na</td>\n      <td>na</td>\n      <td>False</td>\n      <td>0.0</td>\n      <td>0.0</td>\n      <td>296.0</td>\n      <td>74.0</td>\n    </tr>\n    <tr>\n      <th>5893</th>\n      <td>False</td>\n      <td>ns109.ovh.net</td>\n      <td>dns109.ovh.net</td>\n      <td>NaN</td>\n      <td>NaN</td>\n      <td>NaN</td>\n      <td>OVH SAS</td>\n      <td>NaN</td>\n      <td>NaN</td>\n      <td>NaN</td>\n      <td>...</td>\n      <td>3.026987</td>\n      <td>na</td>\n      <td>na</td>\n      <td>na</td>\n      <td>na</td>\n      <td>False</td>\n      <td>0.0</td>\n      <td>0.0</td>\n      <td>157.0</td>\n      <td>216.0</td>\n    </tr>\n    <tr>\n      <th>1455</th>\n      <td>False</td>\n      <td>DNS25.HICHINA.COM</td>\n      <td>DNS26.HICHINA.COM</td>\n      <td>NaN</td>\n      <td>NaN</td>\n      <td>NaN</td>\n      <td>Alibaba Cloud Computing (Beijing) Co., Ltd.</td>\n      <td>NaN</td>\n      <td>NaN</td>\n      <td>NaN</td>\n      <td>...</td>\n      <td>2.947703</td>\n      <td>na</td>\n      <td>na</td>\n      <td>na</td>\n      <td>na</td>\n      <td>False</td>\n      <td>0.0</td>\n      <td>0.0</td>\n      <td>565.0</td>\n      <td>223.0</td>\n    </tr>\n    <tr>\n      <th>154</th>\n      <td>False</td>\n      <td>NS63.WORLDNIC.COM</td>\n      <td>NS64.WORLDNIC.COM</td>\n      <td>NaN</td>\n      <td>NaN</td>\n      <td>NaN</td>\n      <td>GoDaddy.com, LLC</td>\n      <td>clientDeleteProhibited https://icann.org/epp#c...</td>\n      <td>clientRenewProhibited https://icann.org/epp#cl...</td>\n      <td>clientTransferProhibited https://icann.org/epp...</td>\n      <td>...</td>\n      <td>2.921928</td>\n      <td>na</td>\n      <td>na</td>\n      <td>na</td>\n      <td>na</td>\n      <td>False</td>\n      <td>0.0</td>\n      <td>0.0</td>\n      <td>545.0</td>\n      <td>184.0</td>\n    </tr>\n  </tbody>\n</table>\n<p>5 rows × 167 columns</p>\n</div>"
     },
     "execution_count": 16,
     "metadata": {},
     "output_type": "execute_result"
    }
   ],
   "source": [
    "train_data.head()"
   ],
   "metadata": {
    "collapsed": false,
    "pycharm": {
     "name": "#%%\n"
    }
   }
  },
  {
   "cell_type": "code",
   "execution_count": 17,
   "outputs": [
    {
     "name": "stdout",
     "output_type": "stream",
     "text": [
      "Summary of class variable: \n",
      " count       500\n",
      "unique        2\n",
      "top       False\n",
      "freq        364\n",
      "Name: malicious, dtype: object\n"
     ]
    }
   ],
   "source": [
    "label = 'malicious'\n",
    "print(\"Summary of class variable: \\n\", train_data[label].describe())"
   ],
   "metadata": {
    "collapsed": false,
    "pycharm": {
     "name": "#%%\n"
    }
   }
  },
  {
   "cell_type": "code",
   "execution_count": 18,
   "outputs": [
    {
     "name": "stderr",
     "output_type": "stream",
     "text": [
      "Warning: path already exists! This predictor may overwrite an existing predictor! path=\"../models/agModels-predictClass\"\n",
      "Beginning AutoGluon training ...\n",
      "AutoGluon will save models to \"../models/agModels-predictClass/\"\n",
      "AutoGluon Version:  0.4.0\n",
      "Python Version:     3.9.7\n",
      "Operating System:   Darwin\n",
      "Train Data Rows:    500\n",
      "Train Data Columns: 166\n",
      "Label Column: malicious\n",
      "Preprocessing data ...\n",
      "AutoGluon infers your prediction problem is: 'binary' (because only two unique label-values observed).\n",
      "\t2 unique label values:  [False, True]\n",
      "\tIf 'binary' is not the correct problem_type, please manually specify the problem_type parameter during predictor init (You may specify problem_type as one of: ['binary', 'multiclass', 'regression'])\n",
      "Selected class <--> label mapping:  class 1 = True, class 0 = False\n",
      "Using Feature Generators to preprocess the data ...\n",
      "Fitting AutoMLPipelineFeatureGenerator...\n",
      "\tAvailable Memory:                    2470.23 MB\n",
      "\tTrain Data (Original)  Memory Usage: 2.99 MB (0.1% of available memory)\n",
      "\tInferring data type of each feature based on column values. Set feature_metadata_in to manually specify special dtypes of the features.\n",
      "\tStage 1 Generators:\n",
      "\t\tFitting AsTypeFeatureGenerator...\n",
      "\t\t\tNote: Converting 24 features to boolean dtype as they only contain 2 unique values.\n",
      "\tStage 2 Generators:\n",
      "\t\tFitting FillNaFeatureGenerator...\n",
      "\tStage 3 Generators:\n",
      "\t\tFitting IdentityFeatureGenerator...\n",
      "\t\tFitting CategoryFeatureGenerator...\n",
      "\t\t\tFitting CategoryMemoryMinimizeFeatureGenerator...\n",
      "\t\tFitting DatetimeFeatureGenerator...\n",
      "\t\tFitting TextSpecialFeatureGenerator...\n",
      "\t\t\tFitting BinnedFeatureGenerator...\n",
      "\t\t\tFitting DropDuplicatesFeatureGenerator...\n",
      "\t\tFitting TextNgramFeatureGenerator...\n",
      "\t\t\tFitting CountVectorizer for text features: ['org', 'address', 'name', 'admin_organization', 'registrant_organization', 'tech_name', 'tech_organization', 'registrant_street', 'admin_address', 'admin_email', 'registrant_address', 'registrant_email', 'tech_address', 'tech_email', 'admin']\n",
      "\t\t\tCountVectorizer fit with vocabulary size = 6\n",
      "\tStage 4 Generators:\n",
      "\t\tFitting DropUniqueFeatureGenerator...\n",
      "\tUseless Original Features (Count: 40): ['organization', 'email', 'admin_account_name', 'admin_company_name', 'admin_family_name', 'registrant_company_name', 'tech_account_name', 'tech_company_name', 'tech_family_name', 'tech', 'name_servers_11', 'name_servers_12', 'name_servers_13', 'name_servers_14', 'name_servers_15', 'name_servers_16', 'registrant_org', 'referral_url', 'status_7', 'admin_org', 'tech_org', 'status_8', 'curent_registrar', 'registar_created', 'name_server_statuses', 'registrar_site', 'lats_modified', 'updated_date_5', 'registrant_zip', 'status_9', 'status_10', 'status_11', 'status_12', 'emails_7', 'admin_country_code', 'registrar_country_code', 'registrar_organization_id', 'registrar_postal_code', 'registrar_street', 'updated_date_6']\n",
      "\t\tThese features carry no predictive signal and should be manually investigated.\n",
      "\t\tThis is typically a feature which has the same value for all rows.\n",
      "\t\tThese features do not need to be present at inference time.\n",
      "\tTypes of features in original data (raw dtype, special dtypes):\n",
      "\t\t('bool', [])                       :   1 | ['redacted']\n",
      "\t\t('float', [])                      :   7 | ['registrar_iana', 'registrar_id', 'entropy', 'days_between_creations', 'days_between_updates', ...]\n",
      "\t\t('object', [])                     : 101 | ['name_servers_1', 'name_servers_2', 'name_servers_3', 'name_servers_4', 'registrant_contact_name', ...]\n",
      "\t\t('object', ['datetime_as_object']) :   2 | ['updated_date', 'expiration_date']\n",
      "\t\t('object', ['text'])               :  15 | ['org', 'address', 'name', 'admin_organization', 'registrant_organization', ...]\n",
      "\tTypes of features in processed data (raw dtype, special dtypes):\n",
      "\t\t('category', [])                    : 79 | ['name_servers_1', 'name_servers_2', 'name_servers_3', 'name_servers_4', 'registrar', ...]\n",
      "\t\t('category', ['text_as_category'])  : 15 | ['org', 'address', 'name', 'admin_organization', 'registrant_organization', ...]\n",
      "\t\t('float', [])                       :  6 | ['registrar_id', 'entropy', 'days_between_creations', 'days_between_updates', 'days_since_update', ...]\n",
      "\t\t('int', ['binned', 'text_special']) : 85 | ['org.char_count', 'org.word_count', 'org.capital_ratio', 'org.lower_ratio', 'org.digit_ratio', ...]\n",
      "\t\t('int', ['bool'])                   : 24 | ['redacted', 'registrant_contact_name', 'transfer_date', 'domain_status', 'phone', ...]\n",
      "\t\t('int', ['datetime_as_int'])        : 10 | ['updated_date', 'updated_date.year', 'updated_date.month', 'updated_date.day', 'updated_date.dayofweek', ...]\n",
      "\t\t('int', ['text_ngram'])             :  7 | ['__nlp__.for', '__nlp__.for privacy', '__nlp__.privacy', '__nlp__.redacted', '__nlp__.redacted for', ...]\n",
      "\t2.8s = Fit runtime\n",
      "\t126 features in original data used to generate 226 features in processed data.\n",
      "\tTrain Data (Processed) Memory Usage: 0.21 MB (0.0% of available memory)\n",
      "Data preprocessing and feature engineering runtime = 2.92s ...\n",
      "AutoGluon will gauge predictive performance using evaluation metric: 'accuracy'\n",
      "\tTo change this, specify the eval_metric parameter of Predictor()\n",
      "Automatically generating train/validation split with holdout_frac=0.2, Train Rows: 400, Val Rows: 100\n",
      "Fitting 13 L1 models ...\n",
      "Fitting model: KNeighborsUnif ...\n",
      "\t0.85\t = Validation score   (accuracy)\n",
      "\t0.04s\t = Training   runtime\n",
      "\t0.09s\t = Validation runtime\n",
      "Fitting model: KNeighborsDist ...\n",
      "\t0.89\t = Validation score   (accuracy)\n",
      "\t0.04s\t = Training   runtime\n",
      "\t0.01s\t = Validation runtime\n",
      "Fitting model: LightGBMXT ...\n",
      "\t0.96\t = Validation score   (accuracy)\n",
      "\t1.83s\t = Training   runtime\n",
      "\t0.04s\t = Validation runtime\n",
      "Fitting model: LightGBM ...\n",
      "\t0.96\t = Validation score   (accuracy)\n",
      "\t0.41s\t = Training   runtime\n",
      "\t0.03s\t = Validation runtime\n",
      "Fitting model: RandomForestGini ...\n",
      "\t0.96\t = Validation score   (accuracy)\n",
      "\t0.72s\t = Training   runtime\n",
      "\t0.07s\t = Validation runtime\n",
      "Fitting model: RandomForestEntr ...\n",
      "\t0.96\t = Validation score   (accuracy)\n",
      "\t0.56s\t = Training   runtime\n",
      "\t0.07s\t = Validation runtime\n",
      "Fitting model: CatBoost ...\n",
      "\t0.96\t = Validation score   (accuracy)\n",
      "\t12.63s\t = Training   runtime\n",
      "\t0.1s\t = Validation runtime\n",
      "Fitting model: ExtraTreesGini ...\n",
      "\t0.96\t = Validation score   (accuracy)\n",
      "\t0.54s\t = Training   runtime\n",
      "\t0.07s\t = Validation runtime\n",
      "Fitting model: ExtraTreesEntr ...\n",
      "\t0.96\t = Validation score   (accuracy)\n",
      "\t0.55s\t = Training   runtime\n",
      "\t0.07s\t = Validation runtime\n",
      "Fitting model: NeuralNetFastAI ...\n",
      "\t0.96\t = Validation score   (accuracy)\n",
      "\t5.83s\t = Training   runtime\n",
      "\t0.08s\t = Validation runtime\n",
      "Fitting model: XGBoost ...\n",
      "\t0.96\t = Validation score   (accuracy)\n",
      "\t0.49s\t = Training   runtime\n",
      "\t0.02s\t = Validation runtime\n",
      "Fitting model: NeuralNetTorch ...\n",
      "\t0.96\t = Validation score   (accuracy)\n",
      "\t4.11s\t = Training   runtime\n",
      "\t0.09s\t = Validation runtime\n",
      "Fitting model: LightGBMLarge ...\n",
      "\t0.95\t = Validation score   (accuracy)\n",
      "\t0.88s\t = Training   runtime\n",
      "\t0.05s\t = Validation runtime\n",
      "Fitting model: WeightedEnsemble_L2 ...\n",
      "\t0.99\t = Validation score   (accuracy)\n",
      "\t0.45s\t = Training   runtime\n",
      "\t0.0s\t = Validation runtime\n",
      "AutoGluon training complete, total runtime = 34.24s ... Best model: \"WeightedEnsemble_L2\"\n",
      "TabularPredictor saved. To load, use: predictor = TabularPredictor.load(\"../models/agModels-predictClass/\")\n"
     ]
    }
   ],
   "source": [
    "save_path = '../models/agModels-predictClass'  # specifies folder to store trained models\n",
    "predictor = TabularPredictor(label=label, path=save_path).fit(train_data)"
   ],
   "metadata": {
    "collapsed": false,
    "pycharm": {
     "name": "#%%\n"
    }
   }
  },
  {
   "cell_type": "code",
   "execution_count": 19,
   "outputs": [
    {
     "data": {
      "text/plain": "      redacted              name_servers_1              name_servers_2  \\\n4172     False                 jm1.dns.com                 jm2.dns.com   \n8633      True  dns1.registrar-servers.com  dns2.registrar-servers.com   \n3162     False                         NaN                         NaN   \n758       True              DNS106.OVH.NET               NS106.OVH.NET   \n5760     False                         NaN                         NaN   \n\n      name_servers_3 name_servers_4 registrant_contact_name  \\\n4172             NaN            NaN                     NaN   \n8633             NaN            NaN                     NaN   \n3162             NaN            NaN                     NaN   \n758   dns106.ovh.net  ns106.ovh.net                     NaN   \n5760             NaN            NaN                     NaN   \n\n                                                                   registrar  \\\n4172                                                           深圳英迈思信息技术有限公司   \n8633                                                           NAMECHEAP INC   \n3162  No registrar listed.  This domain is directly registered with Nominet.   \n758                                                                 OVH, SAS   \n5760                                                                     NaN   \n\n                                                                     status_1  \\\n4172                                                                      NaN   \n8633  clientTransferProhibited https://icann.org/epp#clientTransferProhibited   \n3162                                                                      NaN   \n758       clientDeleteProhibited https://icann.org/epp#clientDeleteProhibited   \n5760                                                                      NaN   \n\n                                                                     status_2  \\\n4172                                                                      NaN   \n8633                                addPeriod https://icann.org/epp#addPeriod   \n3162                                                                      NaN   \n758   clientTransferProhibited https://icann.org/epp#clientTransferProhibited   \n5760                                                                      NaN   \n\n     status_3  ... updated_date_6   entropy dns_rec_a_cc  \\\n4172      NaN  ...            NaN  1.664498           us   \n8633      NaN  ...            NaN  2.663533           us   \n3162      NaN  ...            NaN  3.093069           na   \n758       NaN  ...            NaN  3.235926           us   \n5760      NaN  ...            NaN  2.503258           de   \n\n                                   dns_rec_a_org dns_rec_mx_cc  \\\n4172                                psinet, inc.            na   \n8633                             namecheap, inc.            us   \n3162                                          na            na   \n758                      amazon data services uk            fr   \n5760  mittwald hostmaster and abuse role account            us   \n\n             dns_rec_mx_org days_between_creations days_between_updates  \\\n4172                     na                    0.0                  NaN   \n8633        namecheap, inc.                    0.0                  0.0   \n3162                     na                    0.0                  0.0   \n758             davies josh                    0.0                  0.0   \n5760  microsoft corporation                    NaN                  NaN   \n\n     days_since_update days_until_expiration  \n4172               NaN                 153.0  \n8633             221.0                 139.0  \n3162            6351.0                   NaN  \n758              143.0                 233.0  \n5760               NaN                   NaN  \n\n[5 rows x 166 columns]",
      "text/html": "<div>\n<style scoped>\n    .dataframe tbody tr th:only-of-type {\n        vertical-align: middle;\n    }\n\n    .dataframe tbody tr th {\n        vertical-align: top;\n    }\n\n    .dataframe thead th {\n        text-align: right;\n    }\n</style>\n<table border=\"1\" class=\"dataframe\">\n  <thead>\n    <tr style=\"text-align: right;\">\n      <th></th>\n      <th>redacted</th>\n      <th>name_servers_1</th>\n      <th>name_servers_2</th>\n      <th>name_servers_3</th>\n      <th>name_servers_4</th>\n      <th>registrant_contact_name</th>\n      <th>registrar</th>\n      <th>status_1</th>\n      <th>status_2</th>\n      <th>status_3</th>\n      <th>...</th>\n      <th>updated_date_6</th>\n      <th>entropy</th>\n      <th>dns_rec_a_cc</th>\n      <th>dns_rec_a_org</th>\n      <th>dns_rec_mx_cc</th>\n      <th>dns_rec_mx_org</th>\n      <th>days_between_creations</th>\n      <th>days_between_updates</th>\n      <th>days_since_update</th>\n      <th>days_until_expiration</th>\n    </tr>\n  </thead>\n  <tbody>\n    <tr>\n      <th>4172</th>\n      <td>False</td>\n      <td>jm1.dns.com</td>\n      <td>jm2.dns.com</td>\n      <td>NaN</td>\n      <td>NaN</td>\n      <td>NaN</td>\n      <td>深圳英迈思信息技术有限公司</td>\n      <td>NaN</td>\n      <td>NaN</td>\n      <td>NaN</td>\n      <td>...</td>\n      <td>NaN</td>\n      <td>1.664498</td>\n      <td>us</td>\n      <td>psinet, inc.</td>\n      <td>na</td>\n      <td>na</td>\n      <td>0.0</td>\n      <td>NaN</td>\n      <td>NaN</td>\n      <td>153.0</td>\n    </tr>\n    <tr>\n      <th>8633</th>\n      <td>True</td>\n      <td>dns1.registrar-servers.com</td>\n      <td>dns2.registrar-servers.com</td>\n      <td>NaN</td>\n      <td>NaN</td>\n      <td>NaN</td>\n      <td>NAMECHEAP INC</td>\n      <td>clientTransferProhibited https://icann.org/epp#clientTransferProhibited</td>\n      <td>addPeriod https://icann.org/epp#addPeriod</td>\n      <td>NaN</td>\n      <td>...</td>\n      <td>NaN</td>\n      <td>2.663533</td>\n      <td>us</td>\n      <td>namecheap, inc.</td>\n      <td>us</td>\n      <td>namecheap, inc.</td>\n      <td>0.0</td>\n      <td>0.0</td>\n      <td>221.0</td>\n      <td>139.0</td>\n    </tr>\n    <tr>\n      <th>3162</th>\n      <td>False</td>\n      <td>NaN</td>\n      <td>NaN</td>\n      <td>NaN</td>\n      <td>NaN</td>\n      <td>NaN</td>\n      <td>No registrar listed.  This domain is directly registered with Nominet.</td>\n      <td>NaN</td>\n      <td>NaN</td>\n      <td>NaN</td>\n      <td>...</td>\n      <td>NaN</td>\n      <td>3.093069</td>\n      <td>na</td>\n      <td>na</td>\n      <td>na</td>\n      <td>na</td>\n      <td>0.0</td>\n      <td>0.0</td>\n      <td>6351.0</td>\n      <td>NaN</td>\n    </tr>\n    <tr>\n      <th>758</th>\n      <td>True</td>\n      <td>DNS106.OVH.NET</td>\n      <td>NS106.OVH.NET</td>\n      <td>dns106.ovh.net</td>\n      <td>ns106.ovh.net</td>\n      <td>NaN</td>\n      <td>OVH, SAS</td>\n      <td>clientDeleteProhibited https://icann.org/epp#clientDeleteProhibited</td>\n      <td>clientTransferProhibited https://icann.org/epp#clientTransferProhibited</td>\n      <td>NaN</td>\n      <td>...</td>\n      <td>NaN</td>\n      <td>3.235926</td>\n      <td>us</td>\n      <td>amazon data services uk</td>\n      <td>fr</td>\n      <td>davies josh</td>\n      <td>0.0</td>\n      <td>0.0</td>\n      <td>143.0</td>\n      <td>233.0</td>\n    </tr>\n    <tr>\n      <th>5760</th>\n      <td>False</td>\n      <td>NaN</td>\n      <td>NaN</td>\n      <td>NaN</td>\n      <td>NaN</td>\n      <td>NaN</td>\n      <td>NaN</td>\n      <td>NaN</td>\n      <td>NaN</td>\n      <td>NaN</td>\n      <td>...</td>\n      <td>NaN</td>\n      <td>2.503258</td>\n      <td>de</td>\n      <td>mittwald hostmaster and abuse role account</td>\n      <td>us</td>\n      <td>microsoft corporation</td>\n      <td>NaN</td>\n      <td>NaN</td>\n      <td>NaN</td>\n      <td>NaN</td>\n    </tr>\n  </tbody>\n</table>\n<p>5 rows × 166 columns</p>\n</div>"
     },
     "execution_count": 19,
     "metadata": {},
     "output_type": "execute_result"
    }
   ],
   "source": [
    "test_data = TabularDataset(test)\n",
    "y_test = test_data[label]\n",
    "test_data_nolab = test_data.drop(columns=[label])\n",
    "test_data_nolab.head()"
   ],
   "metadata": {
    "collapsed": false,
    "pycharm": {
     "name": "#%%\n"
    }
   }
  },
  {
   "cell_type": "code",
   "execution_count": 20,
   "outputs": [
    {
     "name": "stderr",
     "output_type": "stream",
     "text": [
      "Evaluation: accuracy on test data: 0.9488553336580614\n",
      "Evaluations on test data:\n",
      "{\n",
      "    \"accuracy\": 0.9488553336580614,\n",
      "    \"balanced_accuracy\": 0.9069301911646099,\n",
      "    \"mcc\": 0.8613692836695788,\n",
      "    \"f1\": 0.889589905362776,\n",
      "    \"precision\": 0.9679633867276888,\n",
      "    \"recall\": 0.8229571984435797\n",
      "}\n"
     ]
    },
    {
     "name": "stdout",
     "output_type": "stream",
     "text": [
      "Predictions:  \n",
      " 4172    False\n",
      "8633     True\n",
      "3162    False\n",
      "758     False\n",
      "5760    False\n",
      "        ...  \n",
      "8397     True\n",
      "3799    False\n",
      "3294    False\n",
      "538     False\n",
      "8139     True\n",
      "Name: malicious, Length: 2053, dtype: bool\n"
     ]
    }
   ],
   "source": [
    "predictor = TabularPredictor.load(save_path)\n",
    "y_pred = predictor.predict(test_data_nolab)\n",
    "print(\"Predictions:  \\n\", y_pred)\n",
    "perf = predictor.evaluate_predictions(y_true=y_test, y_pred=y_pred, auxiliary_metrics=True)"
   ],
   "metadata": {
    "collapsed": false,
    "pycharm": {
     "name": "#%%\n"
    }
   }
  },
  {
   "cell_type": "code",
   "execution_count": 21,
   "outputs": [
    {
     "data": {
      "text/plain": "                  model  score_test  score_val  pred_time_test  pred_time_val  \\\n0   WeightedEnsemble_L2    0.948855       0.99        0.700211       0.281877   \n1            LightGBMXT    0.936191       0.96        0.076246       0.039239   \n2              LightGBM    0.936191       0.96        0.145602       0.034337   \n3      RandomForestEntr    0.935704       0.96        0.147931       0.065314   \n4      RandomForestGini    0.933755       0.96        0.141550       0.070063   \n5        ExtraTreesEntr    0.931807       0.96        0.152305       0.072996   \n6        ExtraTreesGini    0.931807       0.96        0.189804       0.072618   \n7        NeuralNetTorch    0.930833       0.96        0.306783       0.086033   \n8               XGBoost    0.929372       0.96        0.077045       0.018648   \n9         LightGBMLarge    0.926449       0.95        0.115393       0.048500   \n10      NeuralNetFastAI    0.921578       0.96        0.199271       0.084880   \n11             CatBoost    0.908914       0.96        0.131474       0.099215   \n12       KNeighborsDist    0.829031       0.89        0.070746       0.014996   \n13       KNeighborsUnif    0.799805       0.85        0.055025       0.088453   \n\n     fit_time  pred_time_test_marginal  pred_time_val_marginal  \\\n0    5.551899                 0.002997                0.000436   \n1    1.827995                 0.076246                0.039239   \n2    0.412738                 0.145602                0.034337   \n3    0.557112                 0.147931                0.065314   \n4    0.724531                 0.141550                0.070063   \n5    0.554417                 0.152305                0.072996   \n6    0.541328                 0.189804                0.072618   \n7    4.110067                 0.306783                0.086033   \n8    0.488331                 0.077045                0.018648   \n9    0.880598                 0.115393                0.048500   \n10   5.833301                 0.199271                0.084880   \n11  12.631206                 0.131474                0.099215   \n12   0.043222                 0.070746                0.014996   \n13   0.042125                 0.055025                0.088453   \n\n    fit_time_marginal  stack_level  can_infer  fit_order  \n0            0.445641            2       True         14  \n1            1.827995            1       True          3  \n2            0.412738            1       True          4  \n3            0.557112            1       True          6  \n4            0.724531            1       True          5  \n5            0.554417            1       True          9  \n6            0.541328            1       True          8  \n7            4.110067            1       True         12  \n8            0.488331            1       True         11  \n9            0.880598            1       True         13  \n10           5.833301            1       True         10  \n11          12.631206            1       True          7  \n12           0.043222            1       True          2  \n13           0.042125            1       True          1  ",
      "text/html": "<div>\n<style scoped>\n    .dataframe tbody tr th:only-of-type {\n        vertical-align: middle;\n    }\n\n    .dataframe tbody tr th {\n        vertical-align: top;\n    }\n\n    .dataframe thead th {\n        text-align: right;\n    }\n</style>\n<table border=\"1\" class=\"dataframe\">\n  <thead>\n    <tr style=\"text-align: right;\">\n      <th></th>\n      <th>model</th>\n      <th>score_test</th>\n      <th>score_val</th>\n      <th>pred_time_test</th>\n      <th>pred_time_val</th>\n      <th>fit_time</th>\n      <th>pred_time_test_marginal</th>\n      <th>pred_time_val_marginal</th>\n      <th>fit_time_marginal</th>\n      <th>stack_level</th>\n      <th>can_infer</th>\n      <th>fit_order</th>\n    </tr>\n  </thead>\n  <tbody>\n    <tr>\n      <th>0</th>\n      <td>WeightedEnsemble_L2</td>\n      <td>0.948855</td>\n      <td>0.99</td>\n      <td>0.700211</td>\n      <td>0.281877</td>\n      <td>5.551899</td>\n      <td>0.002997</td>\n      <td>0.000436</td>\n      <td>0.445641</td>\n      <td>2</td>\n      <td>True</td>\n      <td>14</td>\n    </tr>\n    <tr>\n      <th>1</th>\n      <td>LightGBMXT</td>\n      <td>0.936191</td>\n      <td>0.96</td>\n      <td>0.076246</td>\n      <td>0.039239</td>\n      <td>1.827995</td>\n      <td>0.076246</td>\n      <td>0.039239</td>\n      <td>1.827995</td>\n      <td>1</td>\n      <td>True</td>\n      <td>3</td>\n    </tr>\n    <tr>\n      <th>2</th>\n      <td>LightGBM</td>\n      <td>0.936191</td>\n      <td>0.96</td>\n      <td>0.145602</td>\n      <td>0.034337</td>\n      <td>0.412738</td>\n      <td>0.145602</td>\n      <td>0.034337</td>\n      <td>0.412738</td>\n      <td>1</td>\n      <td>True</td>\n      <td>4</td>\n    </tr>\n    <tr>\n      <th>3</th>\n      <td>RandomForestEntr</td>\n      <td>0.935704</td>\n      <td>0.96</td>\n      <td>0.147931</td>\n      <td>0.065314</td>\n      <td>0.557112</td>\n      <td>0.147931</td>\n      <td>0.065314</td>\n      <td>0.557112</td>\n      <td>1</td>\n      <td>True</td>\n      <td>6</td>\n    </tr>\n    <tr>\n      <th>4</th>\n      <td>RandomForestGini</td>\n      <td>0.933755</td>\n      <td>0.96</td>\n      <td>0.141550</td>\n      <td>0.070063</td>\n      <td>0.724531</td>\n      <td>0.141550</td>\n      <td>0.070063</td>\n      <td>0.724531</td>\n      <td>1</td>\n      <td>True</td>\n      <td>5</td>\n    </tr>\n    <tr>\n      <th>5</th>\n      <td>ExtraTreesEntr</td>\n      <td>0.931807</td>\n      <td>0.96</td>\n      <td>0.152305</td>\n      <td>0.072996</td>\n      <td>0.554417</td>\n      <td>0.152305</td>\n      <td>0.072996</td>\n      <td>0.554417</td>\n      <td>1</td>\n      <td>True</td>\n      <td>9</td>\n    </tr>\n    <tr>\n      <th>6</th>\n      <td>ExtraTreesGini</td>\n      <td>0.931807</td>\n      <td>0.96</td>\n      <td>0.189804</td>\n      <td>0.072618</td>\n      <td>0.541328</td>\n      <td>0.189804</td>\n      <td>0.072618</td>\n      <td>0.541328</td>\n      <td>1</td>\n      <td>True</td>\n      <td>8</td>\n    </tr>\n    <tr>\n      <th>7</th>\n      <td>NeuralNetTorch</td>\n      <td>0.930833</td>\n      <td>0.96</td>\n      <td>0.306783</td>\n      <td>0.086033</td>\n      <td>4.110067</td>\n      <td>0.306783</td>\n      <td>0.086033</td>\n      <td>4.110067</td>\n      <td>1</td>\n      <td>True</td>\n      <td>12</td>\n    </tr>\n    <tr>\n      <th>8</th>\n      <td>XGBoost</td>\n      <td>0.929372</td>\n      <td>0.96</td>\n      <td>0.077045</td>\n      <td>0.018648</td>\n      <td>0.488331</td>\n      <td>0.077045</td>\n      <td>0.018648</td>\n      <td>0.488331</td>\n      <td>1</td>\n      <td>True</td>\n      <td>11</td>\n    </tr>\n    <tr>\n      <th>9</th>\n      <td>LightGBMLarge</td>\n      <td>0.926449</td>\n      <td>0.95</td>\n      <td>0.115393</td>\n      <td>0.048500</td>\n      <td>0.880598</td>\n      <td>0.115393</td>\n      <td>0.048500</td>\n      <td>0.880598</td>\n      <td>1</td>\n      <td>True</td>\n      <td>13</td>\n    </tr>\n    <tr>\n      <th>10</th>\n      <td>NeuralNetFastAI</td>\n      <td>0.921578</td>\n      <td>0.96</td>\n      <td>0.199271</td>\n      <td>0.084880</td>\n      <td>5.833301</td>\n      <td>0.199271</td>\n      <td>0.084880</td>\n      <td>5.833301</td>\n      <td>1</td>\n      <td>True</td>\n      <td>10</td>\n    </tr>\n    <tr>\n      <th>11</th>\n      <td>CatBoost</td>\n      <td>0.908914</td>\n      <td>0.96</td>\n      <td>0.131474</td>\n      <td>0.099215</td>\n      <td>12.631206</td>\n      <td>0.131474</td>\n      <td>0.099215</td>\n      <td>12.631206</td>\n      <td>1</td>\n      <td>True</td>\n      <td>7</td>\n    </tr>\n    <tr>\n      <th>12</th>\n      <td>KNeighborsDist</td>\n      <td>0.829031</td>\n      <td>0.89</td>\n      <td>0.070746</td>\n      <td>0.014996</td>\n      <td>0.043222</td>\n      <td>0.070746</td>\n      <td>0.014996</td>\n      <td>0.043222</td>\n      <td>1</td>\n      <td>True</td>\n      <td>2</td>\n    </tr>\n    <tr>\n      <th>13</th>\n      <td>KNeighborsUnif</td>\n      <td>0.799805</td>\n      <td>0.85</td>\n      <td>0.055025</td>\n      <td>0.088453</td>\n      <td>0.042125</td>\n      <td>0.055025</td>\n      <td>0.088453</td>\n      <td>0.042125</td>\n      <td>1</td>\n      <td>True</td>\n      <td>1</td>\n    </tr>\n  </tbody>\n</table>\n</div>"
     },
     "execution_count": 21,
     "metadata": {},
     "output_type": "execute_result"
    }
   ],
   "source": [
    "predictor.leaderboard(test_data, silent=True)"
   ],
   "metadata": {
    "collapsed": false,
    "pycharm": {
     "name": "#%%\n"
    }
   }
  },
  {
   "cell_type": "code",
   "execution_count": 22,
   "outputs": [
    {
     "name": "stdout",
     "output_type": "stream",
     "text": [
      "('category', [])                    : 79 | ['name_servers_1', 'name_servers_2', 'name_servers_3', 'name_servers_4', 'registrar', ...]\n",
      "('category', ['text_as_category'])  : 15 | ['org', 'address', 'name', 'admin_organization', 'registrant_organization', ...]\n",
      "('float', [])                       :  6 | ['registrar_id', 'entropy', 'days_between_creations', 'days_between_updates', 'days_since_update', ...]\n",
      "('int', ['binned', 'text_special']) : 85 | ['org.char_count', 'org.word_count', 'org.capital_ratio', 'org.lower_ratio', 'org.digit_ratio', ...]\n",
      "('int', ['bool'])                   : 24 | ['redacted', 'registrant_contact_name', 'transfer_date', 'domain_status', 'phone', ...]\n",
      "('int', ['datetime_as_int'])        : 10 | ['updated_date', 'updated_date.year', 'updated_date.month', 'updated_date.day', 'updated_date.dayofweek', ...]\n",
      "('int', ['text_ngram'])             :  7 | ['__nlp__.for', '__nlp__.for privacy', '__nlp__.privacy', '__nlp__.redacted', '__nlp__.redacted for', ...]\n"
     ]
    }
   ],
   "source": [
    "print(predictor.feature_metadata)"
   ],
   "metadata": {
    "collapsed": false,
    "pycharm": {
     "name": "#%%\n"
    }
   }
  },
  {
   "cell_type": "code",
   "execution_count": 23,
   "outputs": [
    {
     "name": "stderr",
     "output_type": "stream",
     "text": [
      "These features in provided data are not utilized by the predictor and will be ignored: ['organization', 'email', 'admin_account_name', 'admin_company_name', 'admin_family_name', 'registrant_company_name', 'tech_account_name', 'tech_company_name', 'tech_family_name', 'tech', 'name_servers_11', 'name_servers_12', 'name_servers_13', 'name_servers_14', 'name_servers_15', 'name_servers_16', 'registrant_org', 'referral_url', 'status_7', 'admin_org', 'tech_org', 'status_8', 'curent_registrar', 'registar_created', 'name_server_statuses', 'registrar_site', 'lats_modified', 'updated_date_5', 'registrant_zip', 'status_9', 'status_10', 'status_11', 'status_12', 'emails_7', 'admin_country_code', 'registrar_country_code', 'registrar_organization_id', 'registrar_postal_code', 'registrar_street', 'updated_date_6']\n",
      "Computing feature importance via permutation shuffling for 126 features using 1000 rows with 3 shuffle sets...\n",
      "\t242.98s\t= Expected runtime (80.99s per shuffle set)\n",
      "\t96.5s\t= Actual runtime (Completed 3 of 3 shuffle sets)\n"
     ]
    },
    {
     "data": {
      "text/plain": "                    importance    stddev   p_value  n  p99_high   p99_low\nupdated_date          0.015000  0.004359  0.013506  3  0.039977 -0.009977\nstatus_1              0.013667  0.002517  0.005557  3  0.028087 -0.000754\nwhois_server          0.012333  0.005033  0.025641  3  0.041174 -0.016508\nexpiration_date       0.012000  0.004359  0.020639  3  0.036977 -0.012977\nstatus_2              0.010667  0.002309  0.007634  3  0.023900 -0.002566\n...                        ...       ...       ... ..       ...       ...\nregistrant_country    0.000000  0.000000  0.500000  3  0.000000  0.000000\nregistrar_id         -0.000333  0.000577  0.788675  3  0.002975 -0.003642\nregistrar_url        -0.000333  0.000577  0.788675  3  0.002975 -0.003642\nemails_2             -0.000667  0.001155  0.788675  3  0.005950 -0.007283\nadmin_email          -0.001333  0.000577  0.971405  3  0.001975 -0.004642\n\n[126 rows x 6 columns]",
      "text/html": "<div>\n<style scoped>\n    .dataframe tbody tr th:only-of-type {\n        vertical-align: middle;\n    }\n\n    .dataframe tbody tr th {\n        vertical-align: top;\n    }\n\n    .dataframe thead th {\n        text-align: right;\n    }\n</style>\n<table border=\"1\" class=\"dataframe\">\n  <thead>\n    <tr style=\"text-align: right;\">\n      <th></th>\n      <th>importance</th>\n      <th>stddev</th>\n      <th>p_value</th>\n      <th>n</th>\n      <th>p99_high</th>\n      <th>p99_low</th>\n    </tr>\n  </thead>\n  <tbody>\n    <tr>\n      <th>updated_date</th>\n      <td>0.015000</td>\n      <td>0.004359</td>\n      <td>0.013506</td>\n      <td>3</td>\n      <td>0.039977</td>\n      <td>-0.009977</td>\n    </tr>\n    <tr>\n      <th>status_1</th>\n      <td>0.013667</td>\n      <td>0.002517</td>\n      <td>0.005557</td>\n      <td>3</td>\n      <td>0.028087</td>\n      <td>-0.000754</td>\n    </tr>\n    <tr>\n      <th>whois_server</th>\n      <td>0.012333</td>\n      <td>0.005033</td>\n      <td>0.025641</td>\n      <td>3</td>\n      <td>0.041174</td>\n      <td>-0.016508</td>\n    </tr>\n    <tr>\n      <th>expiration_date</th>\n      <td>0.012000</td>\n      <td>0.004359</td>\n      <td>0.020639</td>\n      <td>3</td>\n      <td>0.036977</td>\n      <td>-0.012977</td>\n    </tr>\n    <tr>\n      <th>status_2</th>\n      <td>0.010667</td>\n      <td>0.002309</td>\n      <td>0.007634</td>\n      <td>3</td>\n      <td>0.023900</td>\n      <td>-0.002566</td>\n    </tr>\n    <tr>\n      <th>...</th>\n      <td>...</td>\n      <td>...</td>\n      <td>...</td>\n      <td>...</td>\n      <td>...</td>\n      <td>...</td>\n    </tr>\n    <tr>\n      <th>registrant_country</th>\n      <td>0.000000</td>\n      <td>0.000000</td>\n      <td>0.500000</td>\n      <td>3</td>\n      <td>0.000000</td>\n      <td>0.000000</td>\n    </tr>\n    <tr>\n      <th>registrar_id</th>\n      <td>-0.000333</td>\n      <td>0.000577</td>\n      <td>0.788675</td>\n      <td>3</td>\n      <td>0.002975</td>\n      <td>-0.003642</td>\n    </tr>\n    <tr>\n      <th>registrar_url</th>\n      <td>-0.000333</td>\n      <td>0.000577</td>\n      <td>0.788675</td>\n      <td>3</td>\n      <td>0.002975</td>\n      <td>-0.003642</td>\n    </tr>\n    <tr>\n      <th>emails_2</th>\n      <td>-0.000667</td>\n      <td>0.001155</td>\n      <td>0.788675</td>\n      <td>3</td>\n      <td>0.005950</td>\n      <td>-0.007283</td>\n    </tr>\n    <tr>\n      <th>admin_email</th>\n      <td>-0.001333</td>\n      <td>0.000577</td>\n      <td>0.971405</td>\n      <td>3</td>\n      <td>0.001975</td>\n      <td>-0.004642</td>\n    </tr>\n  </tbody>\n</table>\n<p>126 rows × 6 columns</p>\n</div>"
     },
     "execution_count": 23,
     "metadata": {},
     "output_type": "execute_result"
    }
   ],
   "source": [
    "predictor.feature_importance(test_data)"
   ],
   "metadata": {
    "collapsed": false,
    "pycharm": {
     "name": "#%%\n"
    }
   }
  },
  {
   "cell_type": "code",
   "execution_count": null,
   "outputs": [],
   "source": [
    "features = ['dns_rec_mx_cc', 'entropy', 'creation_date', 'days_since_creation']"
   ],
   "metadata": {
    "collapsed": false,
    "pycharm": {
     "name": "#%%\n"
    }
   }
  },
  {
   "cell_type": "code",
   "execution_count": 24,
   "outputs": [
    {
     "data": {
      "text/plain": "      redacted          name_servers_1          name_servers_2  \\\n0        False                    T.AU                    R.AU   \n2        False  NS33.DOMAINCONTROL.COM  NS34.DOMAINCONTROL.COM   \n3        False       NS1.DREAMHOST.COM       NS2.DREAMHOST.COM   \n4        False      NS1.P23.DYNECT.NET      NS2.P23.DYNECT.NET   \n5        False       NS65.WORLDNIC.COM       NS66.WORLDNIC.COM   \n...        ...                     ...                     ...   \n9123      True            a.dnspod.com            b.dnspod.com   \n9124      True            a.dnspod.com            b.dnspod.com   \n9125      True         NS1.DUCKDNS.ORG         NS2.DUCKDNS.ORG   \n9126     False   NS1.MYHOSTINGPACK.COM   NS2.MYHOSTINGPACK.COM   \n9127     False           NF1.NO-IP.COM           NF2.NO-IP.COM   \n\n             name_servers_3         name_servers_4 registrant_contact_name  \\\n0                      Q.AU                   S.AU                     CEO   \n2                       NaN                    NaN                     NaN   \n3         NS3.DREAMHOST.COM                    NaN                     NaN   \n4        NS3.P23.DYNECT.NET     NS4.P23.DYNECT.NET                     NaN   \n5                       NaN                    NaN                     NaN   \n...                     ...                    ...                     ...   \n9123           A.DNSPOD.COM           B.DNSPOD.COM                     NaN   \n9124           A.DNSPOD.COM           B.DNSPOD.COM                     NaN   \n9125        NS3.DUCKDNS.ORG        NS4.DUCKDNS.ORG                     NaN   \n9126  ns1.myhostingpack.com  ns2.myhostingpack.com                     NaN   \n9127          NF3.NO-IP.COM          NF4.NO-IP.COM                     NaN   \n\n                                           registrar  \\\n0                          Afilias Australia Pty Ltd   \n2                                   GoDaddy.com, LLC   \n3                                          DREAMHOST   \n4                                   GoDaddy.com, LLC   \n5                             Network Solutions, LLC   \n...                                              ...   \n9123        NICENIC INTERNATIONAL GROUP CO., LIMITED   \n9124        NICENIC INTERNATIONAL GROUP CO., LIMITED   \n9125                                       GANDI SAS   \n9126              Akky Online Solutions S.A. de C.V.   \n9127  Vitalwerks Internet Solutions, LLC / No-IP.com   \n\n                                                                                            status_1  \\\n0     serverDeleteProhibited https://afilias.com.au/get-au/whois-status-codes#serverDeleteProhibited   \n2                                clientDeleteProhibited https://icann.org/epp#clientDeleteProhibited   \n3                            clientTransferProhibited https://icann.org/epp#clientTransferProhibited   \n4                                clientDeleteProhibited https://icann.org/epp#clientDeleteProhibited   \n5                                                                                                NaN   \n...                                                                                              ...   \n9123                             clientDeleteProhibited https://icann.org/epp#clientDeleteProhibited   \n9124                             clientDeleteProhibited https://icann.org/epp#clientDeleteProhibited   \n9125                         clientTransferProhibited https://icann.org/epp#clientTransferProhibited   \n9126                         clientTransferProhibited https://icann.org/epp#clientTransferProhibited   \n9127                         clientTransferProhibited https://icann.org/epp#clientTransferProhibited   \n\n                                                                                          status_2  \\\n0     serverRenewProhibited https://afilias.com.au/get-au/whois-status-codes#serverRenewProhibited   \n2                                clientRenewProhibited https://icann.org/epp#clientRenewProhibited   \n3                      clientTransferProhibited https://www.icann.org/epp#clientTransferProhibited   \n4                                clientRenewProhibited https://icann.org/epp#clientRenewProhibited   \n5                                                                                              NaN   \n...                                                                                            ...   \n9123                       clientTransferProhibited https://icann.org/epp#clientTransferProhibited   \n9124                       clientTransferProhibited https://icann.org/epp#clientTransferProhibited   \n9125                    clientTransferProhibited http://www.icann.org/epp#clientTransferProhibited   \n9126                 clientTransferProhibited (https://www.icann.org/epp#clientTransferProhibited)   \n9127                    clientTransferProhibited http://www.icann.org/epp#clientTransferProhibited   \n\n                                                                                                status_3  \\\n0     serverTransferProhibited https://afilias.com.au/get-au/whois-status-codes#serverTransferProhibited   \n2                                clientTransferProhibited https://icann.org/epp#clientTransferProhibited   \n3                                                                                                    NaN   \n4                                clientTransferProhibited https://icann.org/epp#clientTransferProhibited   \n5                                                                                                    NaN   \n...                                                                                                  ...   \n9123                                                         clientHold https://icann.org/epp#clientHold   \n9124                                                         clientHold https://icann.org/epp#clientHold   \n9125                                                                                                 NaN   \n9126                                                                                                 NaN   \n9127                                                                                                 NaN   \n\n      ...   entropy dns_rec_a_cc             dns_rec_a_org dns_rec_mx_cc  \\\n0     ...  3.337175           au            webcentral noc            au   \n2     ...  1.921928           us          godaddy.com, llc            us   \n3     ...  2.933955           us    new dream network, llc            na   \n4     ...  3.499228           us                google llc            us   \n5     ...  2.947703           na                        na            na   \n...   ...       ...          ...                       ...           ...   \n9123  ...  3.000000           na                        na            na   \n9124  ...  3.000000           na                        na            na   \n9125  ...  3.378783           nl  stop the war in ukraine!            nl   \n9126  ...  3.080501           us         digitalocean, llc            us   \n9127  ...  3.337175           na                        na            na   \n\n                dns_rec_mx_org malicious days_between_creations  \\\n0            irt-webcentral-au     False                    NaN   \n2        microsoft corporation     False                    0.0   \n3                           na     False                    0.0   \n4        microsoft corporation     False                    0.0   \n5                           na     False                    0.0   \n...                        ...       ...                    ...   \n9123                        na      True                    1.0   \n9124                        na      True                    1.0   \n9125  stop the war in ukraine!      True                    0.0   \n9126              psinet, inc.      True                    0.0   \n9127                        na      True                    0.0   \n\n     days_between_updates days_since_update days_until_expiration  \n0                     0.0              21.0                   NaN  \n2                     9.0             443.0                 470.0  \n3                     0.0             241.0                 155.0  \n4                     0.0             515.0                 216.0  \n5                     0.0            1492.0                2161.0  \n...                   ...               ...                   ...  \n9123                 17.0             246.0                 103.0  \n9124                 17.0             246.0                 103.0  \n9125                  0.0             132.0                2562.0  \n9126                  0.0             255.0                 108.0  \n9127                  0.0              84.0                1178.0  \n\n[8210 rows x 167 columns]",
      "text/html": "<div>\n<style scoped>\n    .dataframe tbody tr th:only-of-type {\n        vertical-align: middle;\n    }\n\n    .dataframe tbody tr th {\n        vertical-align: top;\n    }\n\n    .dataframe thead th {\n        text-align: right;\n    }\n</style>\n<table border=\"1\" class=\"dataframe\">\n  <thead>\n    <tr style=\"text-align: right;\">\n      <th></th>\n      <th>redacted</th>\n      <th>name_servers_1</th>\n      <th>name_servers_2</th>\n      <th>name_servers_3</th>\n      <th>name_servers_4</th>\n      <th>registrant_contact_name</th>\n      <th>registrar</th>\n      <th>status_1</th>\n      <th>status_2</th>\n      <th>status_3</th>\n      <th>...</th>\n      <th>entropy</th>\n      <th>dns_rec_a_cc</th>\n      <th>dns_rec_a_org</th>\n      <th>dns_rec_mx_cc</th>\n      <th>dns_rec_mx_org</th>\n      <th>malicious</th>\n      <th>days_between_creations</th>\n      <th>days_between_updates</th>\n      <th>days_since_update</th>\n      <th>days_until_expiration</th>\n    </tr>\n  </thead>\n  <tbody>\n    <tr>\n      <th>0</th>\n      <td>False</td>\n      <td>T.AU</td>\n      <td>R.AU</td>\n      <td>Q.AU</td>\n      <td>S.AU</td>\n      <td>CEO</td>\n      <td>Afilias Australia Pty Ltd</td>\n      <td>serverDeleteProhibited https://afilias.com.au/get-au/whois-status-codes#serverDeleteProhibited</td>\n      <td>serverRenewProhibited https://afilias.com.au/get-au/whois-status-codes#serverRenewProhibited</td>\n      <td>serverTransferProhibited https://afilias.com.au/get-au/whois-status-codes#serverTransferProhibited</td>\n      <td>...</td>\n      <td>3.337175</td>\n      <td>au</td>\n      <td>webcentral noc</td>\n      <td>au</td>\n      <td>irt-webcentral-au</td>\n      <td>False</td>\n      <td>NaN</td>\n      <td>0.0</td>\n      <td>21.0</td>\n      <td>NaN</td>\n    </tr>\n    <tr>\n      <th>2</th>\n      <td>False</td>\n      <td>NS33.DOMAINCONTROL.COM</td>\n      <td>NS34.DOMAINCONTROL.COM</td>\n      <td>NaN</td>\n      <td>NaN</td>\n      <td>NaN</td>\n      <td>GoDaddy.com, LLC</td>\n      <td>clientDeleteProhibited https://icann.org/epp#clientDeleteProhibited</td>\n      <td>clientRenewProhibited https://icann.org/epp#clientRenewProhibited</td>\n      <td>clientTransferProhibited https://icann.org/epp#clientTransferProhibited</td>\n      <td>...</td>\n      <td>1.921928</td>\n      <td>us</td>\n      <td>godaddy.com, llc</td>\n      <td>us</td>\n      <td>microsoft corporation</td>\n      <td>False</td>\n      <td>0.0</td>\n      <td>9.0</td>\n      <td>443.0</td>\n      <td>470.0</td>\n    </tr>\n    <tr>\n      <th>3</th>\n      <td>False</td>\n      <td>NS1.DREAMHOST.COM</td>\n      <td>NS2.DREAMHOST.COM</td>\n      <td>NS3.DREAMHOST.COM</td>\n      <td>NaN</td>\n      <td>NaN</td>\n      <td>DREAMHOST</td>\n      <td>clientTransferProhibited https://icann.org/epp#clientTransferProhibited</td>\n      <td>clientTransferProhibited https://www.icann.org/epp#clientTransferProhibited</td>\n      <td>NaN</td>\n      <td>...</td>\n      <td>2.933955</td>\n      <td>us</td>\n      <td>new dream network, llc</td>\n      <td>na</td>\n      <td>na</td>\n      <td>False</td>\n      <td>0.0</td>\n      <td>0.0</td>\n      <td>241.0</td>\n      <td>155.0</td>\n    </tr>\n    <tr>\n      <th>4</th>\n      <td>False</td>\n      <td>NS1.P23.DYNECT.NET</td>\n      <td>NS2.P23.DYNECT.NET</td>\n      <td>NS3.P23.DYNECT.NET</td>\n      <td>NS4.P23.DYNECT.NET</td>\n      <td>NaN</td>\n      <td>GoDaddy.com, LLC</td>\n      <td>clientDeleteProhibited https://icann.org/epp#clientDeleteProhibited</td>\n      <td>clientRenewProhibited https://icann.org/epp#clientRenewProhibited</td>\n      <td>clientTransferProhibited https://icann.org/epp#clientTransferProhibited</td>\n      <td>...</td>\n      <td>3.499228</td>\n      <td>us</td>\n      <td>google llc</td>\n      <td>us</td>\n      <td>microsoft corporation</td>\n      <td>False</td>\n      <td>0.0</td>\n      <td>0.0</td>\n      <td>515.0</td>\n      <td>216.0</td>\n    </tr>\n    <tr>\n      <th>5</th>\n      <td>False</td>\n      <td>NS65.WORLDNIC.COM</td>\n      <td>NS66.WORLDNIC.COM</td>\n      <td>NaN</td>\n      <td>NaN</td>\n      <td>NaN</td>\n      <td>Network Solutions, LLC</td>\n      <td>NaN</td>\n      <td>NaN</td>\n      <td>NaN</td>\n      <td>...</td>\n      <td>2.947703</td>\n      <td>na</td>\n      <td>na</td>\n      <td>na</td>\n      <td>na</td>\n      <td>False</td>\n      <td>0.0</td>\n      <td>0.0</td>\n      <td>1492.0</td>\n      <td>2161.0</td>\n    </tr>\n    <tr>\n      <th>...</th>\n      <td>...</td>\n      <td>...</td>\n      <td>...</td>\n      <td>...</td>\n      <td>...</td>\n      <td>...</td>\n      <td>...</td>\n      <td>...</td>\n      <td>...</td>\n      <td>...</td>\n      <td>...</td>\n      <td>...</td>\n      <td>...</td>\n      <td>...</td>\n      <td>...</td>\n      <td>...</td>\n      <td>...</td>\n      <td>...</td>\n      <td>...</td>\n      <td>...</td>\n      <td>...</td>\n    </tr>\n    <tr>\n      <th>9123</th>\n      <td>True</td>\n      <td>a.dnspod.com</td>\n      <td>b.dnspod.com</td>\n      <td>A.DNSPOD.COM</td>\n      <td>B.DNSPOD.COM</td>\n      <td>NaN</td>\n      <td>NICENIC INTERNATIONAL GROUP CO., LIMITED</td>\n      <td>clientDeleteProhibited https://icann.org/epp#clientDeleteProhibited</td>\n      <td>clientTransferProhibited https://icann.org/epp#clientTransferProhibited</td>\n      <td>clientHold https://icann.org/epp#clientHold</td>\n      <td>...</td>\n      <td>3.000000</td>\n      <td>na</td>\n      <td>na</td>\n      <td>na</td>\n      <td>na</td>\n      <td>True</td>\n      <td>1.0</td>\n      <td>17.0</td>\n      <td>246.0</td>\n      <td>103.0</td>\n    </tr>\n    <tr>\n      <th>9124</th>\n      <td>True</td>\n      <td>a.dnspod.com</td>\n      <td>b.dnspod.com</td>\n      <td>A.DNSPOD.COM</td>\n      <td>B.DNSPOD.COM</td>\n      <td>NaN</td>\n      <td>NICENIC INTERNATIONAL GROUP CO., LIMITED</td>\n      <td>clientDeleteProhibited https://icann.org/epp#clientDeleteProhibited</td>\n      <td>clientTransferProhibited https://icann.org/epp#clientTransferProhibited</td>\n      <td>clientHold https://icann.org/epp#clientHold</td>\n      <td>...</td>\n      <td>3.000000</td>\n      <td>na</td>\n      <td>na</td>\n      <td>na</td>\n      <td>na</td>\n      <td>True</td>\n      <td>1.0</td>\n      <td>17.0</td>\n      <td>246.0</td>\n      <td>103.0</td>\n    </tr>\n    <tr>\n      <th>9125</th>\n      <td>True</td>\n      <td>NS1.DUCKDNS.ORG</td>\n      <td>NS2.DUCKDNS.ORG</td>\n      <td>NS3.DUCKDNS.ORG</td>\n      <td>NS4.DUCKDNS.ORG</td>\n      <td>NaN</td>\n      <td>GANDI SAS</td>\n      <td>clientTransferProhibited https://icann.org/epp#clientTransferProhibited</td>\n      <td>clientTransferProhibited http://www.icann.org/epp#clientTransferProhibited</td>\n      <td>NaN</td>\n      <td>...</td>\n      <td>3.378783</td>\n      <td>nl</td>\n      <td>stop the war in ukraine!</td>\n      <td>nl</td>\n      <td>stop the war in ukraine!</td>\n      <td>True</td>\n      <td>0.0</td>\n      <td>0.0</td>\n      <td>132.0</td>\n      <td>2562.0</td>\n    </tr>\n    <tr>\n      <th>9126</th>\n      <td>False</td>\n      <td>NS1.MYHOSTINGPACK.COM</td>\n      <td>NS2.MYHOSTINGPACK.COM</td>\n      <td>ns1.myhostingpack.com</td>\n      <td>ns2.myhostingpack.com</td>\n      <td>NaN</td>\n      <td>Akky Online Solutions S.A. de C.V.</td>\n      <td>clientTransferProhibited https://icann.org/epp#clientTransferProhibited</td>\n      <td>clientTransferProhibited (https://www.icann.org/epp#clientTransferProhibited)</td>\n      <td>NaN</td>\n      <td>...</td>\n      <td>3.080501</td>\n      <td>us</td>\n      <td>digitalocean, llc</td>\n      <td>us</td>\n      <td>psinet, inc.</td>\n      <td>True</td>\n      <td>0.0</td>\n      <td>0.0</td>\n      <td>255.0</td>\n      <td>108.0</td>\n    </tr>\n    <tr>\n      <th>9127</th>\n      <td>False</td>\n      <td>NF1.NO-IP.COM</td>\n      <td>NF2.NO-IP.COM</td>\n      <td>NF3.NO-IP.COM</td>\n      <td>NF4.NO-IP.COM</td>\n      <td>NaN</td>\n      <td>Vitalwerks Internet Solutions, LLC / No-IP.com</td>\n      <td>clientTransferProhibited https://icann.org/epp#clientTransferProhibited</td>\n      <td>clientTransferProhibited http://www.icann.org/epp#clientTransferProhibited</td>\n      <td>NaN</td>\n      <td>...</td>\n      <td>3.337175</td>\n      <td>na</td>\n      <td>na</td>\n      <td>na</td>\n      <td>na</td>\n      <td>True</td>\n      <td>0.0</td>\n      <td>0.0</td>\n      <td>84.0</td>\n      <td>1178.0</td>\n    </tr>\n  </tbody>\n</table>\n<p>8210 rows × 167 columns</p>\n</div>"
     },
     "execution_count": 24,
     "metadata": {},
     "output_type": "execute_result"
    }
   ],
   "source": [
    "df"
   ],
   "metadata": {
    "collapsed": false,
    "pycharm": {
     "name": "#%%\n"
    }
   }
  },
  {
   "cell_type": "code",
   "execution_count": 27,
   "outputs": [],
   "source": [
    "df.to_csv('../data/interim/reduced_whois_data.csv', index=False)"
   ],
   "metadata": {
    "collapsed": false,
    "pycharm": {
     "name": "#%%\n"
    }
   }
  }
 ],
 "metadata": {
  "kernelspec": {
   "display_name": "Python 3",
   "language": "python",
   "name": "python3"
  },
  "language_info": {
   "codemirror_mode": {
    "name": "ipython",
    "version": 2
   },
   "file_extension": ".py",
   "mimetype": "text/x-python",
   "name": "python",
   "nbconvert_exporter": "python",
   "pygments_lexer": "ipython2",
   "version": "2.7.6"
  }
 },
 "nbformat": 4,
 "nbformat_minor": 0
}
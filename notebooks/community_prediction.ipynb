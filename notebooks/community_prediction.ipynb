{
 "cells": [
  {
   "cell_type": "code",
   "execution_count": 1,
   "metadata": {
    "collapsed": true
   },
   "outputs": [],
   "source": [
    "import pandas as pd\n",
    "from sklearn.model_selection import train_test_split\n",
    "from sklearn.neighbors import KNeighborsClassifier\n",
    "from joblib import load, dump\n",
    "\n",
    "from src.scripts.artemis_data import get_ns_cols, get_email_cols"
   ]
  },
  {
   "cell_type": "code",
   "execution_count": 2,
   "outputs": [],
   "source": [
    "df = pd.read_csv(\"../data/processed/final_whois_data.csv\")"
   ],
   "metadata": {
    "collapsed": false,
    "pycharm": {
     "name": "#%%\n"
    }
   }
  },
  {
   "cell_type": "code",
   "execution_count": 3,
   "outputs": [],
   "source": [
    "label = 'community'\n",
    "y = df[label]\n",
    "X = df.drop(columns=label)"
   ],
   "metadata": {
    "collapsed": false,
    "pycharm": {
     "name": "#%%\n"
    }
   }
  },
  {
   "cell_type": "code",
   "execution_count": 4,
   "outputs": [],
   "source": [
    "enc_dict = load(\"../models/enc_dict.joblib\")\n",
    "country_encoder = load('../models/country_encoder.joblib')"
   ],
   "metadata": {
    "collapsed": false,
    "pycharm": {
     "name": "#%%\n"
    }
   }
  },
  {
   "cell_type": "code",
   "execution_count": 5,
   "outputs": [
    {
     "data": {
      "text/plain": "                        domain  redacted          name_servers_1  \\\n0     griffithspartners.com.au       0.0                    T.AU   \n1                    21fss.com       0.0  NS33.DOMAINCONTROL.COM   \n2        conniedunndesigns.com       0.0       NS1.DREAMHOST.COM   \n3        corporatespending.com       0.0      NS1.P23.DYNECT.NET   \n4                eraliving.com       0.0       NS65.WORLDNIC.COM   \n...                        ...       ...                     ...   \n5633              ewakyc72.top       1.0            a.dnspod.com   \n5634              ewazqx71.top       1.0            a.dnspod.com   \n5635       rebornx.duckdns.org       1.0         NS1.DUCKDNS.ORG   \n5636   mail.dipiluminacion.com       0.0   NS1.MYHOSTINGPACK.COM   \n5637    tzitziklishop.ddns.net       0.0           NF1.NO-IP.COM   \n\n              name_servers_2         name_servers_3         name_servers_4  \\\n0                       R.AU                   Q.AU                   S.AU   \n1     NS34.DOMAINCONTROL.COM                    NaN                    NaN   \n2          NS2.DREAMHOST.COM      NS3.DREAMHOST.COM                    NaN   \n3         NS2.P23.DYNECT.NET     NS3.P23.DYNECT.NET     NS4.P23.DYNECT.NET   \n4          NS66.WORLDNIC.COM                    NaN                    NaN   \n...                      ...                    ...                    ...   \n5633            b.dnspod.com           A.DNSPOD.COM           B.DNSPOD.COM   \n5634            b.dnspod.com           A.DNSPOD.COM           B.DNSPOD.COM   \n5635         NS2.DUCKDNS.ORG        NS3.DUCKDNS.ORG        NS4.DUCKDNS.ORG   \n5636   NS2.MYHOSTINGPACK.COM  ns1.myhostingpack.com  ns2.myhostingpack.com   \n5637           NF2.NO-IP.COM          NF3.NO-IP.COM          NF4.NO-IP.COM   \n\n      registrant_contact_name                                       registrar  \\\n0                           1                       afilias australia pty ltd   \n1                           0                                godaddy.com, llc   \n2                           0                                       dreamhost   \n3                           0                                godaddy.com, llc   \n4                           0                          network solutions, llc   \n...                       ...                                             ...   \n5633                        0        nicenic international group co., limited   \n5634                        0        nicenic international group co., limited   \n5635                        0                                       gandi sas   \n5636                        0              akky online solutions s.a. de c.v.   \n5637                        0  vitalwerks internet solutions, llc / no-ip.com   \n\n     updated_date country  ... num_different_ns_domains  \\\n0      2022-03-17      zz  ...                        1   \n1      2021-01-19      us  ...                        1   \n2      2021-08-09      us  ...                        1   \n3      2020-11-08      us  ...                        1   \n4      2018-03-07      us  ...                        1   \n...           ...     ...  ...                      ...   \n5633   2021-08-04      ru  ...                        1   \n5634   2021-08-04      ru  ...                        1   \n5635   2021-11-26      fr  ...                        1   \n5636   2021-07-26      mx  ...                        1   \n5637   2022-01-13      us  ...                        1   \n\n     main_name_server_domain serverDeleteProhibited clientDeleteProhibited  \\\n0                          t                      1                      0   \n1              domaincontrol                      0                      1   \n2                  dreamhost                      0                      0   \n3                     dynect                      0                      1   \n4                   worldnic                      0                      0   \n...                      ...                    ...                    ...   \n5633                  dnspod                      0                      1   \n5634                  dnspod                      0                      1   \n5635                 duckdns                      0                      0   \n5636           myhostingpack                      0                      0   \n5637                   no-ip                      0                      0   \n\n     serverRenewProhibited clientRenewProhibited clientTransferProhibited  \\\n0                        1                     0                        0   \n1                        0                     1                        1   \n2                        0                     0                        1   \n3                        0                     1                        1   \n4                        0                     0                        1   \n...                    ...                   ...                      ...   \n5633                     0                     0                        1   \n5634                     0                     0                        1   \n5635                     0                     0                        1   \n5636                     0                     0                        1   \n5637                     0                     0                        1   \n\n     num_emails                        email_domains num_email_domains  \n0             0                            email_nan                 1  \n1             1                          godaddy.com                 1  \n2             4    dreamhost.com;proxy.dreamhost.com                 2  \n3             1                          godaddy.com                 1  \n4             3                eraliving.com;web.com                 2  \n...         ...                                  ...               ...  \n5633          1                          nicenic.net                 1  \n5634          1                          nicenic.net                 1  \n5635          2  support.gandi.net;contact.gandi.net                 2  \n5636          3                              akky.mx                 1  \n5637          2                   noip.com;no-ip.com                 2  \n\n[5638 rows x 55 columns]",
      "text/html": "<div>\n<style scoped>\n    .dataframe tbody tr th:only-of-type {\n        vertical-align: middle;\n    }\n\n    .dataframe tbody tr th {\n        vertical-align: top;\n    }\n\n    .dataframe thead th {\n        text-align: right;\n    }\n</style>\n<table border=\"1\" class=\"dataframe\">\n  <thead>\n    <tr style=\"text-align: right;\">\n      <th></th>\n      <th>domain</th>\n      <th>redacted</th>\n      <th>name_servers_1</th>\n      <th>name_servers_2</th>\n      <th>name_servers_3</th>\n      <th>name_servers_4</th>\n      <th>registrant_contact_name</th>\n      <th>registrar</th>\n      <th>updated_date</th>\n      <th>country</th>\n      <th>...</th>\n      <th>num_different_ns_domains</th>\n      <th>main_name_server_domain</th>\n      <th>serverDeleteProhibited</th>\n      <th>clientDeleteProhibited</th>\n      <th>serverRenewProhibited</th>\n      <th>clientRenewProhibited</th>\n      <th>clientTransferProhibited</th>\n      <th>num_emails</th>\n      <th>email_domains</th>\n      <th>num_email_domains</th>\n    </tr>\n  </thead>\n  <tbody>\n    <tr>\n      <th>0</th>\n      <td>griffithspartners.com.au</td>\n      <td>0.0</td>\n      <td>T.AU</td>\n      <td>R.AU</td>\n      <td>Q.AU</td>\n      <td>S.AU</td>\n      <td>1</td>\n      <td>afilias australia pty ltd</td>\n      <td>2022-03-17</td>\n      <td>zz</td>\n      <td>...</td>\n      <td>1</td>\n      <td>t</td>\n      <td>1</td>\n      <td>0</td>\n      <td>1</td>\n      <td>0</td>\n      <td>0</td>\n      <td>0</td>\n      <td>email_nan</td>\n      <td>1</td>\n    </tr>\n    <tr>\n      <th>1</th>\n      <td>21fss.com</td>\n      <td>0.0</td>\n      <td>NS33.DOMAINCONTROL.COM</td>\n      <td>NS34.DOMAINCONTROL.COM</td>\n      <td>NaN</td>\n      <td>NaN</td>\n      <td>0</td>\n      <td>godaddy.com, llc</td>\n      <td>2021-01-19</td>\n      <td>us</td>\n      <td>...</td>\n      <td>1</td>\n      <td>domaincontrol</td>\n      <td>0</td>\n      <td>1</td>\n      <td>0</td>\n      <td>1</td>\n      <td>1</td>\n      <td>1</td>\n      <td>godaddy.com</td>\n      <td>1</td>\n    </tr>\n    <tr>\n      <th>2</th>\n      <td>conniedunndesigns.com</td>\n      <td>0.0</td>\n      <td>NS1.DREAMHOST.COM</td>\n      <td>NS2.DREAMHOST.COM</td>\n      <td>NS3.DREAMHOST.COM</td>\n      <td>NaN</td>\n      <td>0</td>\n      <td>dreamhost</td>\n      <td>2021-08-09</td>\n      <td>us</td>\n      <td>...</td>\n      <td>1</td>\n      <td>dreamhost</td>\n      <td>0</td>\n      <td>0</td>\n      <td>0</td>\n      <td>0</td>\n      <td>1</td>\n      <td>4</td>\n      <td>dreamhost.com;proxy.dreamhost.com</td>\n      <td>2</td>\n    </tr>\n    <tr>\n      <th>3</th>\n      <td>corporatespending.com</td>\n      <td>0.0</td>\n      <td>NS1.P23.DYNECT.NET</td>\n      <td>NS2.P23.DYNECT.NET</td>\n      <td>NS3.P23.DYNECT.NET</td>\n      <td>NS4.P23.DYNECT.NET</td>\n      <td>0</td>\n      <td>godaddy.com, llc</td>\n      <td>2020-11-08</td>\n      <td>us</td>\n      <td>...</td>\n      <td>1</td>\n      <td>dynect</td>\n      <td>0</td>\n      <td>1</td>\n      <td>0</td>\n      <td>1</td>\n      <td>1</td>\n      <td>1</td>\n      <td>godaddy.com</td>\n      <td>1</td>\n    </tr>\n    <tr>\n      <th>4</th>\n      <td>eraliving.com</td>\n      <td>0.0</td>\n      <td>NS65.WORLDNIC.COM</td>\n      <td>NS66.WORLDNIC.COM</td>\n      <td>NaN</td>\n      <td>NaN</td>\n      <td>0</td>\n      <td>network solutions, llc</td>\n      <td>2018-03-07</td>\n      <td>us</td>\n      <td>...</td>\n      <td>1</td>\n      <td>worldnic</td>\n      <td>0</td>\n      <td>0</td>\n      <td>0</td>\n      <td>0</td>\n      <td>1</td>\n      <td>3</td>\n      <td>eraliving.com;web.com</td>\n      <td>2</td>\n    </tr>\n    <tr>\n      <th>...</th>\n      <td>...</td>\n      <td>...</td>\n      <td>...</td>\n      <td>...</td>\n      <td>...</td>\n      <td>...</td>\n      <td>...</td>\n      <td>...</td>\n      <td>...</td>\n      <td>...</td>\n      <td>...</td>\n      <td>...</td>\n      <td>...</td>\n      <td>...</td>\n      <td>...</td>\n      <td>...</td>\n      <td>...</td>\n      <td>...</td>\n      <td>...</td>\n      <td>...</td>\n      <td>...</td>\n    </tr>\n    <tr>\n      <th>5633</th>\n      <td>ewakyc72.top</td>\n      <td>1.0</td>\n      <td>a.dnspod.com</td>\n      <td>b.dnspod.com</td>\n      <td>A.DNSPOD.COM</td>\n      <td>B.DNSPOD.COM</td>\n      <td>0</td>\n      <td>nicenic international group co., limited</td>\n      <td>2021-08-04</td>\n      <td>ru</td>\n      <td>...</td>\n      <td>1</td>\n      <td>dnspod</td>\n      <td>0</td>\n      <td>1</td>\n      <td>0</td>\n      <td>0</td>\n      <td>1</td>\n      <td>1</td>\n      <td>nicenic.net</td>\n      <td>1</td>\n    </tr>\n    <tr>\n      <th>5634</th>\n      <td>ewazqx71.top</td>\n      <td>1.0</td>\n      <td>a.dnspod.com</td>\n      <td>b.dnspod.com</td>\n      <td>A.DNSPOD.COM</td>\n      <td>B.DNSPOD.COM</td>\n      <td>0</td>\n      <td>nicenic international group co., limited</td>\n      <td>2021-08-04</td>\n      <td>ru</td>\n      <td>...</td>\n      <td>1</td>\n      <td>dnspod</td>\n      <td>0</td>\n      <td>1</td>\n      <td>0</td>\n      <td>0</td>\n      <td>1</td>\n      <td>1</td>\n      <td>nicenic.net</td>\n      <td>1</td>\n    </tr>\n    <tr>\n      <th>5635</th>\n      <td>rebornx.duckdns.org</td>\n      <td>1.0</td>\n      <td>NS1.DUCKDNS.ORG</td>\n      <td>NS2.DUCKDNS.ORG</td>\n      <td>NS3.DUCKDNS.ORG</td>\n      <td>NS4.DUCKDNS.ORG</td>\n      <td>0</td>\n      <td>gandi sas</td>\n      <td>2021-11-26</td>\n      <td>fr</td>\n      <td>...</td>\n      <td>1</td>\n      <td>duckdns</td>\n      <td>0</td>\n      <td>0</td>\n      <td>0</td>\n      <td>0</td>\n      <td>1</td>\n      <td>2</td>\n      <td>support.gandi.net;contact.gandi.net</td>\n      <td>2</td>\n    </tr>\n    <tr>\n      <th>5636</th>\n      <td>mail.dipiluminacion.com</td>\n      <td>0.0</td>\n      <td>NS1.MYHOSTINGPACK.COM</td>\n      <td>NS2.MYHOSTINGPACK.COM</td>\n      <td>ns1.myhostingpack.com</td>\n      <td>ns2.myhostingpack.com</td>\n      <td>0</td>\n      <td>akky online solutions s.a. de c.v.</td>\n      <td>2021-07-26</td>\n      <td>mx</td>\n      <td>...</td>\n      <td>1</td>\n      <td>myhostingpack</td>\n      <td>0</td>\n      <td>0</td>\n      <td>0</td>\n      <td>0</td>\n      <td>1</td>\n      <td>3</td>\n      <td>akky.mx</td>\n      <td>1</td>\n    </tr>\n    <tr>\n      <th>5637</th>\n      <td>tzitziklishop.ddns.net</td>\n      <td>0.0</td>\n      <td>NF1.NO-IP.COM</td>\n      <td>NF2.NO-IP.COM</td>\n      <td>NF3.NO-IP.COM</td>\n      <td>NF4.NO-IP.COM</td>\n      <td>0</td>\n      <td>vitalwerks internet solutions, llc / no-ip.com</td>\n      <td>2022-01-13</td>\n      <td>us</td>\n      <td>...</td>\n      <td>1</td>\n      <td>no-ip</td>\n      <td>0</td>\n      <td>0</td>\n      <td>0</td>\n      <td>0</td>\n      <td>1</td>\n      <td>2</td>\n      <td>noip.com;no-ip.com</td>\n      <td>2</td>\n    </tr>\n  </tbody>\n</table>\n<p>5638 rows × 55 columns</p>\n</div>"
     },
     "execution_count": 5,
     "metadata": {},
     "output_type": "execute_result"
    }
   ],
   "source": [
    "X"
   ],
   "metadata": {
    "collapsed": false,
    "pycharm": {
     "name": "#%%\n"
    }
   }
  },
  {
   "cell_type": "code",
   "execution_count": 7,
   "outputs": [],
   "source": [
    "cols_to_drop = ['domain', 'updated_date', 'expiration_date', 'creation_date', 'days_since_creation', 'malicious',\n",
    "                'min_entropy', 'max_entropy', 'avg_entropy', 'domain_count'\n",
    "                ]\n",
    "cols_to_drop += get_ns_cols(7)\n",
    "cols_to_drop += get_email_cols(3)\n",
    "X = X.drop(columns=cols_to_drop)\n"
   ],
   "metadata": {
    "collapsed": false,
    "pycharm": {
     "name": "#%%\n"
    }
   }
  },
  {
   "cell_type": "code",
   "execution_count": 8,
   "outputs": [],
   "source": [
    "for col in enc_dict.keys():\n",
    "    X[col] = enc_dict[col].transform(X[col])\n",
    "for col in ['country', 'dns_rec_a_cc', 'dns_rec_mx_cc']:\n",
    "    X[col] = country_encoder.transform(X[col])"
   ],
   "metadata": {
    "collapsed": false,
    "pycharm": {
     "name": "#%%\n"
    }
   }
  },
  {
   "cell_type": "code",
   "execution_count": 9,
   "outputs": [],
   "source": [
    "X = X.fillna(-1)"
   ],
   "metadata": {
    "collapsed": false,
    "pycharm": {
     "name": "#%%\n"
    }
   }
  },
  {
   "cell_type": "code",
   "execution_count": 10,
   "outputs": [],
   "source": [
    "X_train, X_test, y_train, y_test = train_test_split(X, y)"
   ],
   "metadata": {
    "collapsed": false,
    "pycharm": {
     "name": "#%%\n"
    }
   }
  },
  {
   "cell_type": "code",
   "execution_count": 11,
   "outputs": [],
   "source": [
    "clf = KNeighborsClassifier(weights='distance').fit(X_train, y_train)"
   ],
   "metadata": {
    "collapsed": false,
    "pycharm": {
     "name": "#%%\n"
    }
   }
  },
  {
   "cell_type": "code",
   "execution_count": 12,
   "outputs": [
    {
     "data": {
      "text/plain": "0.6985815602836879"
     },
     "execution_count": 12,
     "metadata": {},
     "output_type": "execute_result"
    }
   ],
   "source": [
    "clf.score(X_test, y_test)"
   ],
   "metadata": {
    "collapsed": false,
    "pycharm": {
     "name": "#%%\n"
    }
   }
  },
  {
   "cell_type": "code",
   "execution_count": 13,
   "outputs": [
    {
     "data": {
      "text/plain": "['../models/community_predictor.joblib']"
     },
     "execution_count": 13,
     "metadata": {},
     "output_type": "execute_result"
    }
   ],
   "source": [
    "dump(clf, '../models/community_predictor.joblib')"
   ],
   "metadata": {
    "collapsed": false,
    "pycharm": {
     "name": "#%%\n"
    }
   }
  },
  {
   "cell_type": "code",
   "execution_count": null,
   "outputs": [],
   "source": [],
   "metadata": {
    "collapsed": false,
    "pycharm": {
     "name": "#%%\n"
    }
   }
  }
 ],
 "metadata": {
  "kernelspec": {
   "display_name": "Python 3",
   "language": "python",
   "name": "python3"
  },
  "language_info": {
   "codemirror_mode": {
    "name": "ipython",
    "version": 2
   },
   "file_extension": ".py",
   "mimetype": "text/x-python",
   "name": "python",
   "nbconvert_exporter": "python",
   "pygments_lexer": "ipython2",
   "version": "2.7.6"
  }
 },
 "nbformat": 4,
 "nbformat_minor": 0
}
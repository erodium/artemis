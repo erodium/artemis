{
 "cells": [
  {
   "cell_type": "code",
   "execution_count": 1,
   "id": "5010e095",
   "metadata": {},
   "outputs": [
    {
     "name": "stderr",
     "output_type": "stream",
     "text": [
      "/var/folders/zk/_l6jn98j1ws6ndxrzcw2dh4m0000gn/T/ipykernel_16532/3777615979.py:1: DeprecationWarning: Importing display from IPython.core.display is deprecated since IPython 7.14, please import from IPython display\n",
      "  from IPython.core.display import display, HTML\n"
     ]
    },
    {
     "data": {
      "text/html": [
       "<style>.container { width:100% !important; }</style>"
      ],
      "text/plain": [
       "<IPython.core.display.HTML object>"
      ]
     },
     "metadata": {},
     "output_type": "display_data"
    }
   ],
   "source": [
    "from IPython.core.display import display, HTML\n",
    "display(HTML(\"<style>.container { width:100% !important; }</style>\"))"
   ]
  },
  {
   "cell_type": "code",
   "execution_count": 2,
   "id": "6126b8f3-8892-4d99-89e2-eea189d7f022",
   "metadata": {},
   "outputs": [],
   "source": [
    "import sys\n",
    "import os\n",
    "import requests\n",
    "import io\n",
    "import folium\n",
    "import collections\n",
    "from folium import plugins\n",
    "import pandas as pd\n",
    "import matplotlib.pyplot as plt\n",
    "from matplotlib.patches import PathPatch\n",
    "from collections import ChainMap\n",
    "\n",
    "sys.path.append( '/Users/kgray/Downloads/artemis/src/scripts' )\n",
    "from parse_json import parse_json\n",
    "from domain_tools import get_domain_parts"
   ]
  },
  {
   "cell_type": "code",
   "execution_count": 3,
   "id": "716bb9f6",
   "metadata": {},
   "outputs": [],
   "source": [
    "data_dir = '../data/raw/'\n",
    "\n",
    "# Gather a list of data files\n",
    "data_file_list = []\n",
    "for filename in os.listdir(data_dir):\n",
    "    if filename.startswith(\"benign\") | filename.startswith(\"malicious\"):\n",
    "        f = os.path.join(data_dir, filename)\n",
    "        if os.path.isfile(f):\n",
    "            data_file_list.append((f, filename))"
   ]
  },
  {
   "cell_type": "code",
   "execution_count": 4,
   "id": "0bfba15a",
   "metadata": {},
   "outputs": [],
   "source": [
    "# Load data into memory via dict referenced by filename\n",
    "data_file_dict = {}\n",
    "for data_file in data_file_list:\n",
    "    with open(data_file[0]) as f:\n",
    "        data = f.read()\n",
    "        \n",
    "        data_list = []\n",
    "        while True:\n",
    "            obj, remaining = parse_json(data)\n",
    "            data_list.append(obj)\n",
    "            data = remaining\n",
    "            if not remaining.strip():\n",
    "                break\n",
    "        data_file_dict[data_file[1]] = data_list"
   ]
  },
  {
   "cell_type": "markdown",
   "id": "2250fb68",
   "metadata": {},
   "source": [
    "# Whois Data EDA"
   ]
  },
  {
   "cell_type": "code",
   "execution_count": 5,
   "id": "543df9fa",
   "metadata": {},
   "outputs": [
    {
     "data": {
      "text/plain": [
       "{'reseptors.com': {'address': 'REDACTED FOR PRIVACY',\n",
       "  'city': 'REDACTED FOR PRIVACY',\n",
       "  'country': 'KN',\n",
       "  'creation_date': ['2021-12-08 08:53:26', '2021-12-08T08:53:26'],\n",
       "  'dnssec': 'unsigned',\n",
       "  'domain_name': 'RESEPTORS.COM',\n",
       "  'emails': 'domainabuse@tucows.com',\n",
       "  'expiration_date': ['2022-12-08 08:53:26', '2022-12-08T08:53:26'],\n",
       "  'name': 'REDACTED FOR PRIVACY',\n",
       "  'name_servers': ['1-YOU.NJALLA.NO',\n",
       "   '2-CAN.NJALLA.IN',\n",
       "   '3-GET.NJALLA.FO',\n",
       "   '1-you.njalla.no',\n",
       "   '2-can.njalla.in',\n",
       "   '3-get.njalla.fo'],\n",
       "  'org': 'REDACTED FOR PRIVACY',\n",
       "  'referral_url': None,\n",
       "  'registrar': 'TUCOWS, INC.',\n",
       "  'state': 'Charlestown',\n",
       "  'status': ['clientTransferProhibited https://icann.org/epp#clientTransferProhibited',\n",
       "   'clientUpdateProhibited https://icann.org/epp#clientUpdateProhibited'],\n",
       "  'updated_date': ['2021-12-08 08:53:26', '2021-12-08T09:09:15'],\n",
       "  'whois_server': 'whois.tucows.com',\n",
       "  'zipcode': 'REDACTED FOR PRIVACY'}}"
      ]
     },
     "execution_count": 5,
     "metadata": {},
     "output_type": "execute_result"
    }
   ],
   "source": [
    "data_file_dict['malicious_whois_data.txt'][0]"
   ]
  },
  {
   "cell_type": "code",
   "execution_count": 6,
   "id": "4945f0cb",
   "metadata": {},
   "outputs": [],
   "source": [
    "# Load data into dataframe, add type column, and merge\n",
    "benign_whois_data = data_file_dict['benign_whois_data.txt']\n",
    "malicious_whois_data = data_file_dict['malicious_whois_data.txt']\n",
    "\n",
    "benign_whois_dict = {}\n",
    "for domain_whois_dict in data_file_dict['benign_whois_data.txt']:\n",
    "    domain_name = list(domain_whois_dict.keys())[0]\n",
    "    if isinstance(domain_whois_dict[domain_name], dict) and 'creation_date' in domain_whois_dict[domain_name].keys():\n",
    "        if isinstance(domain_whois_dict[domain_name]['creation_date'], list):\n",
    "            domain_creation_date = domain_whois_dict[domain_name]['creation_date'][0]\n",
    "        else:\n",
    "            domain_creation_date = domain_whois_dict[domain_name]['creation_date']\n",
    "        benign_whois_dict[domain_name] = [domain_creation_date]\n",
    "benign_whois_df = pd.DataFrame.from_dict(benign_whois_dict).T.rename(columns={0: 'creation_date'})\n",
    "benign_whois_df['type'] = 'benign'\n",
    "\n",
    "malicious_whois_dict = {}\n",
    "for domain_whois_dict in data_file_dict['malicious_whois_data.txt']:\n",
    "    domain_name = list(domain_whois_dict.keys())[0]\n",
    "    if isinstance(domain_whois_dict[domain_name], dict) and 'creation_date' in domain_whois_dict[domain_name].keys():\n",
    "        if isinstance(domain_whois_dict[domain_name]['creation_date'], list):\n",
    "            domain_creation_date = domain_whois_dict[domain_name]['creation_date'][0]\n",
    "        else:\n",
    "            domain_creation_date = domain_whois_dict[domain_name]['creation_date']\n",
    "        malicious_whois_dict[domain_name] = [domain_creation_date]\n",
    "malicious_whois_df = pd.DataFrame.from_dict(malicious_whois_dict).T.rename(columns={0: 'creation_date'})\n",
    "malicious_whois_df['type'] = 'malicious'\n",
    "\n",
    "whois_df = pd.concat([benign_whois_df, malicious_whois_df])\n",
    "\n",
    "# Fix edge cases in creation_date\n",
    "whois_df.replace('before Aug-1996', '1996-08-01 00:00:00', inplace=True)\n",
    "whois_df.replace('before 19950101', '1995-01-01 00:00:00', inplace=True)\n",
    "# Set creation_data to datetime\n",
    "whois_df['creation_date'] = pd.to_datetime(whois_df['creation_date'])\n"
   ]
  },
  {
   "cell_type": "code",
   "execution_count": 7,
   "id": "e1ec387a",
   "metadata": {},
   "outputs": [
    {
     "data": {
      "text/html": [
       "<div>\n",
       "<style scoped>\n",
       "    .dataframe tbody tr th:only-of-type {\n",
       "        vertical-align: middle;\n",
       "    }\n",
       "\n",
       "    .dataframe tbody tr th {\n",
       "        vertical-align: top;\n",
       "    }\n",
       "\n",
       "    .dataframe thead th {\n",
       "        text-align: right;\n",
       "    }\n",
       "</style>\n",
       "<table border=\"1\" class=\"dataframe\">\n",
       "  <thead>\n",
       "    <tr style=\"text-align: right;\">\n",
       "      <th></th>\n",
       "      <th>creation_date</th>\n",
       "      <th>type</th>\n",
       "    </tr>\n",
       "  </thead>\n",
       "  <tbody>\n",
       "    <tr>\n",
       "      <th>lu.se</th>\n",
       "      <td>1985-01-17 00:00:00</td>\n",
       "      <td>benign</td>\n",
       "    </tr>\n",
       "    <tr>\n",
       "      <th>mitre.org</th>\n",
       "      <td>1985-07-10 04:00:00</td>\n",
       "      <td>benign</td>\n",
       "    </tr>\n",
       "    <tr>\n",
       "      <th>kth.se</th>\n",
       "      <td>1985-08-28 00:00:00</td>\n",
       "      <td>benign</td>\n",
       "    </tr>\n",
       "    <tr>\n",
       "      <th>uchile.cl</th>\n",
       "      <td>1986-01-01 01:01:01</td>\n",
       "      <td>benign</td>\n",
       "    </tr>\n",
       "    <tr>\n",
       "      <th>xerox.com</th>\n",
       "      <td>1986-01-09 05:00:00</td>\n",
       "      <td>benign</td>\n",
       "    </tr>\n",
       "    <tr>\n",
       "      <th>...</th>\n",
       "      <td>...</td>\n",
       "      <td>...</td>\n",
       "    </tr>\n",
       "    <tr>\n",
       "      <th>kmawr.calitina.live</th>\n",
       "      <td>NaT</td>\n",
       "      <td>malicious</td>\n",
       "    </tr>\n",
       "    <tr>\n",
       "      <th>muaefc.calitina.site</th>\n",
       "      <td>NaT</td>\n",
       "      <td>malicious</td>\n",
       "    </tr>\n",
       "    <tr>\n",
       "      <th>1gaaar.calitina.site</th>\n",
       "      <td>NaT</td>\n",
       "      <td>malicious</td>\n",
       "    </tr>\n",
       "    <tr>\n",
       "      <th>7siubu.calitina.live</th>\n",
       "      <td>NaT</td>\n",
       "      <td>malicious</td>\n",
       "    </tr>\n",
       "    <tr>\n",
       "      <th>8jaiew.calinox.monster</th>\n",
       "      <td>NaT</td>\n",
       "      <td>malicious</td>\n",
       "    </tr>\n",
       "  </tbody>\n",
       "</table>\n",
       "<p>5889 rows × 2 columns</p>\n",
       "</div>"
      ],
      "text/plain": [
       "                             creation_date       type\n",
       "lu.se                  1985-01-17 00:00:00     benign\n",
       "mitre.org              1985-07-10 04:00:00     benign\n",
       "kth.se                 1985-08-28 00:00:00     benign\n",
       "uchile.cl              1986-01-01 01:01:01     benign\n",
       "xerox.com              1986-01-09 05:00:00     benign\n",
       "...                                    ...        ...\n",
       "kmawr.calitina.live                    NaT  malicious\n",
       "muaefc.calitina.site                   NaT  malicious\n",
       "1gaaar.calitina.site                   NaT  malicious\n",
       "7siubu.calitina.live                   NaT  malicious\n",
       "8jaiew.calinox.monster                 NaT  malicious\n",
       "\n",
       "[5889 rows x 2 columns]"
      ]
     },
     "execution_count": 7,
     "metadata": {},
     "output_type": "execute_result"
    }
   ],
   "source": [
    "# Review resulting dataframe\n",
    "whois_df.sort_values(by='creation_date', ascending=True)"
   ]
  },
  {
   "cell_type": "code",
   "execution_count": 40,
   "id": "3d051830",
   "metadata": {},
   "outputs": [
    {
     "data": {
      "text/plain": [
       "<AxesSubplot:xlabel='creation_date'>"
      ]
     },
     "execution_count": 40,
     "metadata": {},
     "output_type": "execute_result"
    },
    {
     "data": {
      "image/png": "[encoded data removed]",
      "text/plain": [
       "<Figure size 648x504 with 1 Axes>"
      ]
     },
     "metadata": {
      "needs_background": "light"
     },
     "output_type": "display_data"
    }
   ],
   "source": [
    "whois_df.groupby([whois_df['creation_date'].dt.year, 'type']).count().unstack('type').plot.bar()"
   ]
  },
  {
   "cell_type": "code",
   "execution_count": 69,
   "id": "69a671fc",
   "metadata": {},
   "outputs": [
    {
     "data": {
      "text/plain": [
       "root_domain\n",
       "ddns.net         38\n",
       "duckdns.org      26\n",
       "hopto.org        12\n",
       "nsupdate.info    10\n",
       "camdvr.org        4\n",
       "dvrlists.com      4\n",
       "zapto.org         4\n",
       "azureedge.net     3\n",
       "publicvm.com      2\n",
       "workers.dev       2\n",
       "Name: domain_name, dtype: int64"
      ]
     },
     "execution_count": 69,
     "metadata": {},
     "output_type": "execute_result"
    }
   ],
   "source": [
    "# Create a new dataframe with old malicious domains\n",
    "old_malicious_domains_df = whois_df[(whois_df['creation_date'] < '2021') & (whois_df['type'] == 'malicious')]\n",
    "#print(old_malicious_domains_df)\n",
    "\n",
    "# Root the domain, group, and review what concentrations exist.\n",
    "old_malicious_domains_df = old_malicious_domains_df.reset_index().rename(columns={'index': 'domain_name'})\n",
    "old_malicious_domains_df['root_domain'] = old_malicious_domains_df['domain_name'].apply(lambda x: '.'.join(get_domain_parts(x)[1:]))\n",
    "old_malicious_domains_df.groupby('root_domain')['domain_name'].count().sort_values(ascending=False).head(10)"
   ]
  },
  {
   "cell_type": "markdown",
   "id": "8b403bcc",
   "metadata": {},
   "source": [
    "All 10 of the top used \"old\" malicious domains are shared (e.g., DDNS). "
   ]
  },
  {
   "cell_type": "code",
   "execution_count": 102,
   "id": "a3e5ac04",
   "metadata": {},
   "outputs": [
    {
     "name": "stderr",
     "output_type": "stream",
     "text": [
      "/Library/Frameworks/Python.framework/Versions/3.10/lib/python3.10/site-packages/urllib3/connectionpool.py:1043: InsecureRequestWarning: Unverified HTTPS request is being made to host 'raw.githubusercontent.com'. Adding certificate verification is strongly advised. See: https://urllib3.readthedocs.io/en/1.26.x/advanced-usage.html#ssl-warnings\n",
      "  warnings.warn(\n",
      "/var/folders/zk/_l6jn98j1ws6ndxrzcw2dh4m0000gn/T/ipykernel_16532/2515696093.py:14: FutureWarning: The frame.append method is deprecated and will be removed from pandas in a future version. Use pandas.concat instead.\n",
      "  shared_domains_df = shared_domains_df.append(pd.DataFrame(other_shared_domains, columns=['shared_domain_name'])).reset_index().drop(columns=\"index\")\n"
     ]
    },
    {
     "data": {
      "text/html": [
       "<div>\n",
       "<style scoped>\n",
       "    .dataframe tbody tr th:only-of-type {\n",
       "        vertical-align: middle;\n",
       "    }\n",
       "\n",
       "    .dataframe tbody tr th {\n",
       "        vertical-align: top;\n",
       "    }\n",
       "\n",
       "    .dataframe thead th {\n",
       "        text-align: right;\n",
       "    }\n",
       "</style>\n",
       "<table border=\"1\" class=\"dataframe\">\n",
       "  <thead>\n",
       "    <tr style=\"text-align: right;\">\n",
       "      <th></th>\n",
       "      <th>shared_domain_name</th>\n",
       "    </tr>\n",
       "  </thead>\n",
       "  <tbody>\n",
       "    <tr>\n",
       "      <th>0</th>\n",
       "      <td>10dv.com</td>\n",
       "    </tr>\n",
       "    <tr>\n",
       "      <th>1</th>\n",
       "      <td>3utilities.com</td>\n",
       "    </tr>\n",
       "    <tr>\n",
       "      <th>2</th>\n",
       "      <td>abledns.com</td>\n",
       "    </tr>\n",
       "    <tr>\n",
       "      <th>3</th>\n",
       "      <td>abmetalmecanica.com</td>\n",
       "    </tr>\n",
       "    <tr>\n",
       "      <th>4</th>\n",
       "      <td>activewaiting.com</td>\n",
       "    </tr>\n",
       "    <tr>\n",
       "      <th>...</th>\n",
       "      <td>...</td>\n",
       "    </tr>\n",
       "    <tr>\n",
       "      <th>2324</th>\n",
       "      <td>4nmn.com</td>\n",
       "    </tr>\n",
       "    <tr>\n",
       "      <th>2325</th>\n",
       "      <td>didns.ru</td>\n",
       "    </tr>\n",
       "    <tr>\n",
       "      <th>2326</th>\n",
       "      <td>dynnamn.ru</td>\n",
       "    </tr>\n",
       "    <tr>\n",
       "      <th>2327</th>\n",
       "      <td>azureedge.net</td>\n",
       "    </tr>\n",
       "    <tr>\n",
       "      <th>2328</th>\n",
       "      <td>amazonaws.com</td>\n",
       "    </tr>\n",
       "  </tbody>\n",
       "</table>\n",
       "<p>2329 rows × 1 columns</p>\n",
       "</div>"
      ],
      "text/plain": [
       "       shared_domain_name\n",
       "0                10dv.com\n",
       "1          3utilities.com\n",
       "2             abledns.com\n",
       "3     abmetalmecanica.com\n",
       "4       activewaiting.com\n",
       "...                   ...\n",
       "2324             4nmn.com\n",
       "2325             didns.ru\n",
       "2326           dynnamn.ru\n",
       "2327        azureedge.net\n",
       "2328        amazonaws.com\n",
       "\n",
       "[2329 rows x 1 columns]"
      ]
     },
     "execution_count": 102,
     "metadata": {},
     "output_type": "execute_result"
    }
   ],
   "source": [
    "# Load a maintained list of DDNS domains. Will not contain all shared domains, but will contain a lot of the dynamic providers.\n",
    "# Known avialable options\n",
    "# https://github.com/neu5ron/dynamic_dns_lists # Missing a lot of the domains\n",
    "# https://github.com/stamparm/maltrail/blob/master/trails/static/suspicious/dynamic_domain.txt\n",
    "\n",
    "ddns_domain_list_url = 'https://raw.githubusercontent.com/stamparm/maltrail/master/trails/static/suspicious/dynamic_domain.txt'\n",
    "\n",
    "ddns_url_response = requests.get(ddns_domain_list_url, verify = False).content\n",
    "shared_domains_df = pd.read_csv(io.StringIO(ddns_url_response.decode('utf-8')), comment='#', header=None)\n",
    "shared_domains_df.rename(columns={0: \"shared_domain_name\"}, inplace=True)\n",
    "\n",
    "# Add other known shared domains to DataFrame\n",
    "other_shared_domains = ['azureedge.net', 'amazonaws.com']\n",
    "shared_domains_df = shared_domains_df.append(pd.DataFrame(other_shared_domains, columns=['shared_domain_name'])).reset_index().drop(columns=\"index\")\n",
    "shared_domains_df"
   ]
  },
  {
   "cell_type": "code",
   "execution_count": 104,
   "id": "e05e4e70",
   "metadata": {},
   "outputs": [
    {
     "data": {
      "text/plain": [
       "45"
      ]
     },
     "execution_count": 104,
     "metadata": {},
     "output_type": "execute_result"
    }
   ],
   "source": [
    "old_malicious_not_shared_domains_df = old_malicious_domains_df[~old_malicious_domains_df['root_domain'].isin(shared_domains_df['shared_domain_name'])]\n",
    "\n",
    "# Number of \"old\" malicious domains that exist after filtering out known shared domains.\n",
    "len(old_malicious_not_shared_domains_df)"
   ]
  },
  {
   "cell_type": "markdown",
   "id": "f785e3af",
   "metadata": {},
   "source": [
    "## Observations\n",
    "* ~~Need to consider shared domains (e.g., ddns.net) when using age to determine likelihood that domain was registered for malicious purposes.~~\n",
    "* A large number of malicious domains are new.\n",
    "* Need to add a feature for \"is_shared_domain\"."
   ]
  },
  {
   "cell_type": "markdown",
   "id": "0b0d295d",
   "metadata": {},
   "source": [
    "# DNS Resolution Data EDA"
   ]
  },
  {
   "cell_type": "code",
   "execution_count": 9,
   "id": "cdcfe4f6",
   "metadata": {},
   "outputs": [
    {
     "data": {
      "text/plain": [
       "{'reseptors.com': {'A': {'IP': '164.90.204.224', 'Count': 1},\n",
       "  'MX': {'IP': 'NA', 'Count': 0}}}"
      ]
     },
     "execution_count": 9,
     "metadata": {},
     "output_type": "execute_result"
    }
   ],
   "source": [
    "data_file_dict['malicious_dns_resolution_data.txt'][0]"
   ]
  },
  {
   "cell_type": "code",
   "execution_count": 10,
   "id": "b602a9b1",
   "metadata": {},
   "outputs": [],
   "source": [
    "# Load data into dataframe, add type column, and merge\n",
    "benign_dns_resolution_data = data_file_dict['benign_dns_resolution_data.txt']\n",
    "malicious_dns_resolution_data = data_file_dict['malicious_dns_resolution_data.txt']\n",
    "\n",
    "reformed_benign_dns_resolution_dict = {}\n",
    "for dns_resolution_dict in benign_dns_resolution_data:\n",
    "    for outerKey, innerDict in dns_resolution_dict.items():\n",
    "        for innerKey, values in innerDict.items():\n",
    "            reformed_benign_dns_resolution_dict[(outerKey, innerKey)] = values\n",
    "\n",
    "benign_dns_resolution_df = pd.DataFrame(reformed_benign_dns_resolution_dict).T.stack().unstack(level=0).T\n",
    "benign_dns_resolution_df['type'] = 'benign'\n",
    "\n",
    "reformed_malicious_dns_resolution_dict = {}\n",
    "for dns_resolution_dict in malicious_dns_resolution_data:\n",
    "    for outerKey, innerDict in dns_resolution_dict.items():\n",
    "        for innerKey, values in innerDict.items():\n",
    "            reformed_malicious_dns_resolution_dict[(outerKey, innerKey)] = values\n",
    "\n",
    "malicious_dns_resolution_df = pd.DataFrame(reformed_malicious_dns_resolution_dict).T.stack().unstack(level=0).T\n",
    "malicious_dns_resolution_df['type'] = 'malicious'\n",
    "\n",
    "dns_resolution_df = pd.concat([benign_dns_resolution_df, malicious_dns_resolution_df])"
   ]
  },
  {
   "cell_type": "code",
   "execution_count": 11,
   "id": "2f22326d",
   "metadata": {},
   "outputs": [
    {
     "data": {
      "text/html": [
       "<div>\n",
       "<style scoped>\n",
       "    .dataframe tbody tr th:only-of-type {\n",
       "        vertical-align: middle;\n",
       "    }\n",
       "\n",
       "    .dataframe tbody tr th {\n",
       "        vertical-align: top;\n",
       "    }\n",
       "\n",
       "    .dataframe thead tr th {\n",
       "        text-align: left;\n",
       "    }\n",
       "</style>\n",
       "<table border=\"1\" class=\"dataframe\">\n",
       "  <thead>\n",
       "    <tr>\n",
       "      <th></th>\n",
       "      <th colspan=\"2\" halign=\"left\">A</th>\n",
       "      <th colspan=\"2\" halign=\"left\">MX</th>\n",
       "      <th>type</th>\n",
       "    </tr>\n",
       "    <tr>\n",
       "      <th></th>\n",
       "      <th>IP</th>\n",
       "      <th>Count</th>\n",
       "      <th>IP</th>\n",
       "      <th>Count</th>\n",
       "      <th></th>\n",
       "    </tr>\n",
       "  </thead>\n",
       "  <tbody>\n",
       "    <tr>\n",
       "      <th>000webhost.com</th>\n",
       "      <td>104.19.184.120</td>\n",
       "      <td>2</td>\n",
       "      <td>64.233.184.27</td>\n",
       "      <td>5</td>\n",
       "      <td>benign</td>\n",
       "    </tr>\n",
       "    <tr>\n",
       "      <th>000webhostapp.com</th>\n",
       "      <td>153.92.0.100</td>\n",
       "      <td>1</td>\n",
       "      <td>173.194.66.26</td>\n",
       "      <td>1</td>\n",
       "      <td>benign</td>\n",
       "    </tr>\n",
       "    <tr>\n",
       "      <th>1.bp.blogspot.com</th>\n",
       "      <td>142.250.191.161</td>\n",
       "      <td>1</td>\n",
       "      <td>NA</td>\n",
       "      <td>0</td>\n",
       "      <td>benign</td>\n",
       "    </tr>\n",
       "    <tr>\n",
       "      <th>123-reg-new-domain.co.uk</th>\n",
       "      <td>NA</td>\n",
       "      <td>0</td>\n",
       "      <td>NA</td>\n",
       "      <td>0</td>\n",
       "      <td>benign</td>\n",
       "    </tr>\n",
       "    <tr>\n",
       "      <th>12371.cn</th>\n",
       "      <td>157.185.177.205</td>\n",
       "      <td>2</td>\n",
       "      <td>NA</td>\n",
       "      <td>0</td>\n",
       "      <td>benign</td>\n",
       "    </tr>\n",
       "    <tr>\n",
       "      <th>...</th>\n",
       "      <td>...</td>\n",
       "      <td>...</td>\n",
       "      <td>...</td>\n",
       "      <td>...</td>\n",
       "      <td>...</td>\n",
       "    </tr>\n",
       "    <tr>\n",
       "      <th>zuwevex.com</th>\n",
       "      <td>NA</td>\n",
       "      <td>0</td>\n",
       "      <td>NA</td>\n",
       "      <td>0</td>\n",
       "      <td>malicious</td>\n",
       "    </tr>\n",
       "    <tr>\n",
       "      <th>zyokao27.top</th>\n",
       "      <td>NA</td>\n",
       "      <td>0</td>\n",
       "      <td>NA</td>\n",
       "      <td>0</td>\n",
       "      <td>malicious</td>\n",
       "    </tr>\n",
       "    <tr>\n",
       "      <th>zyonou41.top</th>\n",
       "      <td>NA</td>\n",
       "      <td>0</td>\n",
       "      <td>NA</td>\n",
       "      <td>0</td>\n",
       "      <td>malicious</td>\n",
       "    </tr>\n",
       "    <tr>\n",
       "      <th>zyoskv38.top</th>\n",
       "      <td>NA</td>\n",
       "      <td>0</td>\n",
       "      <td>NA</td>\n",
       "      <td>0</td>\n",
       "      <td>malicious</td>\n",
       "    </tr>\n",
       "    <tr>\n",
       "      <th>zyoyol62.top</th>\n",
       "      <td>NA</td>\n",
       "      <td>0</td>\n",
       "      <td>NA</td>\n",
       "      <td>0</td>\n",
       "      <td>malicious</td>\n",
       "    </tr>\n",
       "  </tbody>\n",
       "</table>\n",
       "<p>6082 rows × 5 columns</p>\n",
       "</div>"
      ],
      "text/plain": [
       "                                        A                   MX        \\\n",
       "                                       IP Count             IP Count   \n",
       "000webhost.com             104.19.184.120     2  64.233.184.27     5   \n",
       "000webhostapp.com            153.92.0.100     1  173.194.66.26     1   \n",
       "1.bp.blogspot.com         142.250.191.161     1             NA     0   \n",
       "123-reg-new-domain.co.uk               NA     0             NA     0   \n",
       "12371.cn                  157.185.177.205     2             NA     0   \n",
       "...                                   ...   ...            ...   ...   \n",
       "zuwevex.com                            NA     0             NA     0   \n",
       "zyokao27.top                           NA     0             NA     0   \n",
       "zyonou41.top                           NA     0             NA     0   \n",
       "zyoskv38.top                           NA     0             NA     0   \n",
       "zyoyol62.top                           NA     0             NA     0   \n",
       "\n",
       "                               type  \n",
       "                                     \n",
       "000webhost.com               benign  \n",
       "000webhostapp.com            benign  \n",
       "1.bp.blogspot.com            benign  \n",
       "123-reg-new-domain.co.uk     benign  \n",
       "12371.cn                     benign  \n",
       "...                             ...  \n",
       "zuwevex.com               malicious  \n",
       "zyokao27.top              malicious  \n",
       "zyonou41.top              malicious  \n",
       "zyoskv38.top              malicious  \n",
       "zyoyol62.top              malicious  \n",
       "\n",
       "[6082 rows x 5 columns]"
      ]
     },
     "execution_count": 11,
     "metadata": {},
     "output_type": "execute_result"
    }
   ],
   "source": [
    "dns_resolution_df"
   ]
  },
  {
   "cell_type": "code",
   "execution_count": 12,
   "id": "dce6649c",
   "metadata": {},
   "outputs": [
    {
     "data": {
      "text/html": [
       "<div>\n",
       "<style scoped>\n",
       "    .dataframe tbody tr th:only-of-type {\n",
       "        vertical-align: middle;\n",
       "    }\n",
       "\n",
       "    .dataframe tbody tr th {\n",
       "        vertical-align: top;\n",
       "    }\n",
       "\n",
       "    .dataframe thead tr th {\n",
       "        text-align: left;\n",
       "    }\n",
       "\n",
       "    .dataframe thead tr:last-of-type th {\n",
       "        text-align: right;\n",
       "    }\n",
       "</style>\n",
       "<table border=\"1\" class=\"dataframe\">\n",
       "  <thead>\n",
       "    <tr>\n",
       "      <th></th>\n",
       "      <th colspan=\"8\" halign=\"left\">A</th>\n",
       "      <th colspan=\"8\" halign=\"left\">MX</th>\n",
       "      <th colspan=\"4\" halign=\"left\">type</th>\n",
       "    </tr>\n",
       "    <tr>\n",
       "      <th></th>\n",
       "      <th colspan=\"4\" halign=\"left\">IP</th>\n",
       "      <th colspan=\"4\" halign=\"left\">Count</th>\n",
       "      <th colspan=\"4\" halign=\"left\">IP</th>\n",
       "      <th colspan=\"4\" halign=\"left\">Count</th>\n",
       "      <th colspan=\"4\" halign=\"left\"></th>\n",
       "    </tr>\n",
       "    <tr>\n",
       "      <th></th>\n",
       "      <th>count</th>\n",
       "      <th>unique</th>\n",
       "      <th>top</th>\n",
       "      <th>freq</th>\n",
       "      <th>count</th>\n",
       "      <th>unique</th>\n",
       "      <th>top</th>\n",
       "      <th>freq</th>\n",
       "      <th>count</th>\n",
       "      <th>unique</th>\n",
       "      <th>top</th>\n",
       "      <th>freq</th>\n",
       "      <th>count</th>\n",
       "      <th>unique</th>\n",
       "      <th>top</th>\n",
       "      <th>freq</th>\n",
       "      <th>count</th>\n",
       "      <th>unique</th>\n",
       "      <th>top</th>\n",
       "      <th>freq</th>\n",
       "    </tr>\n",
       "    <tr>\n",
       "      <th>type</th>\n",
       "      <th></th>\n",
       "      <th></th>\n",
       "      <th></th>\n",
       "      <th></th>\n",
       "      <th></th>\n",
       "      <th></th>\n",
       "      <th></th>\n",
       "      <th></th>\n",
       "      <th></th>\n",
       "      <th></th>\n",
       "      <th></th>\n",
       "      <th></th>\n",
       "      <th></th>\n",
       "      <th></th>\n",
       "      <th></th>\n",
       "      <th></th>\n",
       "      <th></th>\n",
       "      <th></th>\n",
       "      <th></th>\n",
       "      <th></th>\n",
       "    </tr>\n",
       "  </thead>\n",
       "  <tbody>\n",
       "    <tr>\n",
       "      <th>benign</th>\n",
       "      <td>3687</td>\n",
       "      <td>2987</td>\n",
       "      <td>NA</td>\n",
       "      <td>182</td>\n",
       "      <td>3687</td>\n",
       "      <td>11</td>\n",
       "      <td>1</td>\n",
       "      <td>1836</td>\n",
       "      <td>3687</td>\n",
       "      <td>1271</td>\n",
       "      <td>NA</td>\n",
       "      <td>482</td>\n",
       "      <td>3687</td>\n",
       "      <td>16</td>\n",
       "      <td>1</td>\n",
       "      <td>1022</td>\n",
       "      <td>3687</td>\n",
       "      <td>1</td>\n",
       "      <td>benign</td>\n",
       "      <td>3687</td>\n",
       "    </tr>\n",
       "    <tr>\n",
       "      <th>malicious</th>\n",
       "      <td>2395</td>\n",
       "      <td>426</td>\n",
       "      <td>NA</td>\n",
       "      <td>1320</td>\n",
       "      <td>2395</td>\n",
       "      <td>6</td>\n",
       "      <td>0</td>\n",
       "      <td>1320</td>\n",
       "      <td>2395</td>\n",
       "      <td>52</td>\n",
       "      <td>NA</td>\n",
       "      <td>2283</td>\n",
       "      <td>2395</td>\n",
       "      <td>7</td>\n",
       "      <td>0</td>\n",
       "      <td>2275</td>\n",
       "      <td>2395</td>\n",
       "      <td>1</td>\n",
       "      <td>malicious</td>\n",
       "      <td>2395</td>\n",
       "    </tr>\n",
       "  </tbody>\n",
       "</table>\n",
       "</div>"
      ],
      "text/plain": [
       "              A                                            MX             \\\n",
       "             IP                  Count                     IP              \n",
       "          count unique top  freq count unique top  freq count unique top   \n",
       "type                                                                       \n",
       "benign     3687   2987  NA   182  3687     11   1  1836  3687   1271  NA   \n",
       "malicious  2395    426  NA  1320  2395      6   0  1320  2395     52  NA   \n",
       "\n",
       "                                        type                          \n",
       "                Count                                                 \n",
       "           freq count unique top  freq count unique        top  freq  \n",
       "type                                                                  \n",
       "benign      482  3687     16   1  1022  3687      1     benign  3687  \n",
       "malicious  2283  2395      7   0  2275  2395      1  malicious  2395  "
      ]
     },
     "execution_count": 12,
     "metadata": {},
     "output_type": "execute_result"
    }
   ],
   "source": [
    "dns_resolution_df.groupby('type').describe()"
   ]
  },
  {
   "cell_type": "code",
   "execution_count": 13,
   "id": "06abb7a6",
   "metadata": {},
   "outputs": [
    {
     "name": "stdout",
     "output_type": "stream",
     "text": [
      "1    1836\n",
      "2     761\n",
      "4     520\n",
      "3     286\n",
      "0     182\n",
      "Name: (A, Count), dtype: int64\n",
      "1    1022\n",
      "2     896\n",
      "5     783\n",
      "0     441\n",
      "4     176\n",
      "Name: (MX, Count), dtype: int64\n",
      "0     1320\n",
      "1      972\n",
      "2       97\n",
      "10       4\n",
      "4        1\n",
      "Name: (A, Count), dtype: int64\n",
      "0    2275\n",
      "1      57\n",
      "5      51\n",
      "2       6\n",
      "3       3\n",
      "Name: (MX, Count), dtype: int64\n"
     ]
    }
   ],
   "source": [
    "# Top Benign A Record Counts\n",
    "print(dns_resolution_df[dns_resolution_df['type'] == 'benign'].iloc[:, dns_resolution_df.columns.get_level_values(1)=='Count'][('A','Count')].value_counts().nlargest(5))\n",
    "# Top Benign MX Record Counts\n",
    "print(dns_resolution_df[dns_resolution_df['type'] == 'benign'].iloc[:, dns_resolution_df.columns.get_level_values(1)=='Count'][('MX','Count')].value_counts().nlargest(5))\n",
    "# Top Malicious A Record Counts\n",
    "print(dns_resolution_df[dns_resolution_df['type'] == 'malicious'].iloc[:, dns_resolution_df.columns.get_level_values(1)=='Count'][('A','Count')].value_counts().nlargest(5))\n",
    "# Top Malicious MX Record Counts\n",
    "print(dns_resolution_df[dns_resolution_df['type'] == 'malicious'].iloc[:, dns_resolution_df.columns.get_level_values(1)=='Count'][('MX','Count')].value_counts().nlargest(5))\n"
   ]
  },
  {
   "cell_type": "markdown",
   "id": "a8db5a02",
   "metadata": {},
   "source": [
    "## Observations\n",
    "* "
   ]
  },
  {
   "cell_type": "markdown",
   "id": "59364f5e",
   "metadata": {},
   "source": [
    "# IP Data EDA"
   ]
  },
  {
   "cell_type": "code",
   "execution_count": 14,
   "id": "cc6ba7d4",
   "metadata": {},
   "outputs": [
    {
     "data": {
      "text/plain": [
       "{'google.com': {'A': {'CC': 'US', 'Org': 'Google LLC'},\n",
       "  'MX': {'CC': 'US', 'Org': 'Google LLC'}}}"
      ]
     },
     "execution_count": 14,
     "metadata": {},
     "output_type": "execute_result"
    }
   ],
   "source": [
    "data_file_dict['benign_ip_data.txt'][0]"
   ]
  },
  {
   "cell_type": "code",
   "execution_count": 15,
   "id": "191f47d6",
   "metadata": {},
   "outputs": [],
   "source": [
    "# Load data into dataframe, add type column, and merge\n",
    "benign_ip_data = data_file_dict['benign_ip_data.txt']\n",
    "malicious_ip_data = data_file_dict['malicious_ip_data.txt']\n",
    "\n",
    "\n",
    "reformed_benign_ip_dict = {}\n",
    "for ip_dict in benign_ip_data:\n",
    "    for outerKey, innerDict in ip_dict.items():\n",
    "        for innerKey, values in innerDict.items():\n",
    "            reformed_benign_ip_dict[(outerKey, innerKey)] = values\n",
    "\n",
    "benign_ip_df = pd.DataFrame(reformed_benign_ip_dict).T.stack().unstack(level=0).T\n",
    "benign_ip_df['type'] = 'benign'\n",
    "\n",
    "reformed_malicious_ip_dict = {}\n",
    "for ip_dict in malicious_ip_data:\n",
    "    for outerKey, innerDict in ip_dict.items():\n",
    "        for innerKey, values in innerDict.items():\n",
    "            reformed_malicious_ip_dict[(outerKey, innerKey)] = values\n",
    "\n",
    "malicious_ip_df = pd.DataFrame(reformed_malicious_ip_dict).T.stack().unstack(level=0).T\n",
    "malicious_ip_df['type'] = 'malicious'\n",
    "\n",
    "ip_df = pd.concat([benign_ip_df, malicious_ip_df])"
   ]
  },
  {
   "cell_type": "code",
   "execution_count": 16,
   "id": "3efffda9",
   "metadata": {},
   "outputs": [
    {
     "data": {
      "text/html": [
       "<div>\n",
       "<style scoped>\n",
       "    .dataframe tbody tr th:only-of-type {\n",
       "        vertical-align: middle;\n",
       "    }\n",
       "\n",
       "    .dataframe tbody tr th {\n",
       "        vertical-align: top;\n",
       "    }\n",
       "\n",
       "    .dataframe thead tr th {\n",
       "        text-align: left;\n",
       "    }\n",
       "</style>\n",
       "<table border=\"1\" class=\"dataframe\">\n",
       "  <thead>\n",
       "    <tr>\n",
       "      <th></th>\n",
       "      <th colspan=\"2\" halign=\"left\">A</th>\n",
       "      <th colspan=\"2\" halign=\"left\">MX</th>\n",
       "      <th>type</th>\n",
       "    </tr>\n",
       "    <tr>\n",
       "      <th></th>\n",
       "      <th>CC</th>\n",
       "      <th>Org</th>\n",
       "      <th>CC</th>\n",
       "      <th>Org</th>\n",
       "      <th></th>\n",
       "    </tr>\n",
       "  </thead>\n",
       "  <tbody>\n",
       "    <tr>\n",
       "      <th>000webhost.com</th>\n",
       "      <td>US</td>\n",
       "      <td>Cloudflare, Inc.</td>\n",
       "      <td>US</td>\n",
       "      <td>Google LLC</td>\n",
       "      <td>benign</td>\n",
       "    </tr>\n",
       "    <tr>\n",
       "      <th>000webhostapp.com</th>\n",
       "      <td>CY</td>\n",
       "      <td>Hostinger NOC</td>\n",
       "      <td>US</td>\n",
       "      <td>Google LLC</td>\n",
       "      <td>benign</td>\n",
       "    </tr>\n",
       "    <tr>\n",
       "      <th>1.bp.blogspot.com</th>\n",
       "      <td>US</td>\n",
       "      <td>Google LLC</td>\n",
       "      <td>NA</td>\n",
       "      <td>NA</td>\n",
       "      <td>benign</td>\n",
       "    </tr>\n",
       "    <tr>\n",
       "      <th>123-reg-new-domain.co.uk</th>\n",
       "      <td>NA</td>\n",
       "      <td>NA</td>\n",
       "      <td>NA</td>\n",
       "      <td>NA</td>\n",
       "      <td>benign</td>\n",
       "    </tr>\n",
       "    <tr>\n",
       "      <th>12371.cn</th>\n",
       "      <td>US</td>\n",
       "      <td>QUANTIL NETWORKS INC</td>\n",
       "      <td>NA</td>\n",
       "      <td>NA</td>\n",
       "      <td>benign</td>\n",
       "    </tr>\n",
       "    <tr>\n",
       "      <th>...</th>\n",
       "      <td>...</td>\n",
       "      <td>...</td>\n",
       "      <td>...</td>\n",
       "      <td>...</td>\n",
       "      <td>...</td>\n",
       "    </tr>\n",
       "    <tr>\n",
       "      <th>zuwevex.com</th>\n",
       "      <td>NA</td>\n",
       "      <td>NA</td>\n",
       "      <td>NA</td>\n",
       "      <td>NA</td>\n",
       "      <td>malicious</td>\n",
       "    </tr>\n",
       "    <tr>\n",
       "      <th>zyokao27.top</th>\n",
       "      <td>NA</td>\n",
       "      <td>NA</td>\n",
       "      <td>NA</td>\n",
       "      <td>NA</td>\n",
       "      <td>malicious</td>\n",
       "    </tr>\n",
       "    <tr>\n",
       "      <th>zyonou41.top</th>\n",
       "      <td>NA</td>\n",
       "      <td>NA</td>\n",
       "      <td>NA</td>\n",
       "      <td>NA</td>\n",
       "      <td>malicious</td>\n",
       "    </tr>\n",
       "    <tr>\n",
       "      <th>zyoskv38.top</th>\n",
       "      <td>NA</td>\n",
       "      <td>NA</td>\n",
       "      <td>NA</td>\n",
       "      <td>NA</td>\n",
       "      <td>malicious</td>\n",
       "    </tr>\n",
       "    <tr>\n",
       "      <th>zyoyol62.top</th>\n",
       "      <td>NA</td>\n",
       "      <td>NA</td>\n",
       "      <td>NA</td>\n",
       "      <td>NA</td>\n",
       "      <td>malicious</td>\n",
       "    </tr>\n",
       "  </tbody>\n",
       "</table>\n",
       "<p>6082 rows × 5 columns</p>\n",
       "</div>"
      ],
      "text/plain": [
       "                           A                        MX                   type\n",
       "                          CC                   Org  CC         Org           \n",
       "000webhost.com            US      Cloudflare, Inc.  US  Google LLC     benign\n",
       "000webhostapp.com         CY         Hostinger NOC  US  Google LLC     benign\n",
       "1.bp.blogspot.com         US            Google LLC  NA          NA     benign\n",
       "123-reg-new-domain.co.uk  NA                    NA  NA          NA     benign\n",
       "12371.cn                  US  QUANTIL NETWORKS INC  NA          NA     benign\n",
       "...                       ..                   ...  ..         ...        ...\n",
       "zuwevex.com               NA                    NA  NA          NA  malicious\n",
       "zyokao27.top              NA                    NA  NA          NA  malicious\n",
       "zyonou41.top              NA                    NA  NA          NA  malicious\n",
       "zyoskv38.top              NA                    NA  NA          NA  malicious\n",
       "zyoyol62.top              NA                    NA  NA          NA  malicious\n",
       "\n",
       "[6082 rows x 5 columns]"
      ]
     },
     "execution_count": 16,
     "metadata": {},
     "output_type": "execute_result"
    }
   ],
   "source": [
    "ip_df"
   ]
  },
  {
   "cell_type": "code",
   "execution_count": 17,
   "id": "7ba840ef",
   "metadata": {},
   "outputs": [
    {
     "data": {
      "text/html": [
       "<div>\n",
       "<style scoped>\n",
       "    .dataframe tbody tr th:only-of-type {\n",
       "        vertical-align: middle;\n",
       "    }\n",
       "\n",
       "    .dataframe tbody tr th {\n",
       "        vertical-align: top;\n",
       "    }\n",
       "\n",
       "    .dataframe thead tr th {\n",
       "        text-align: left;\n",
       "    }\n",
       "\n",
       "    .dataframe thead tr:last-of-type th {\n",
       "        text-align: right;\n",
       "    }\n",
       "</style>\n",
       "<table border=\"1\" class=\"dataframe\">\n",
       "  <thead>\n",
       "    <tr>\n",
       "      <th></th>\n",
       "      <th colspan=\"8\" halign=\"left\">A</th>\n",
       "      <th colspan=\"8\" halign=\"left\">MX</th>\n",
       "      <th colspan=\"4\" halign=\"left\">type</th>\n",
       "    </tr>\n",
       "    <tr>\n",
       "      <th></th>\n",
       "      <th colspan=\"4\" halign=\"left\">CC</th>\n",
       "      <th colspan=\"4\" halign=\"left\">Org</th>\n",
       "      <th colspan=\"4\" halign=\"left\">CC</th>\n",
       "      <th colspan=\"4\" halign=\"left\">Org</th>\n",
       "      <th colspan=\"4\" halign=\"left\"></th>\n",
       "    </tr>\n",
       "    <tr>\n",
       "      <th></th>\n",
       "      <th>count</th>\n",
       "      <th>unique</th>\n",
       "      <th>top</th>\n",
       "      <th>freq</th>\n",
       "      <th>count</th>\n",
       "      <th>unique</th>\n",
       "      <th>top</th>\n",
       "      <th>freq</th>\n",
       "      <th>count</th>\n",
       "      <th>unique</th>\n",
       "      <th>top</th>\n",
       "      <th>freq</th>\n",
       "      <th>count</th>\n",
       "      <th>unique</th>\n",
       "      <th>top</th>\n",
       "      <th>freq</th>\n",
       "      <th>count</th>\n",
       "      <th>unique</th>\n",
       "      <th>top</th>\n",
       "      <th>freq</th>\n",
       "    </tr>\n",
       "    <tr>\n",
       "      <th>type</th>\n",
       "      <th></th>\n",
       "      <th></th>\n",
       "      <th></th>\n",
       "      <th></th>\n",
       "      <th></th>\n",
       "      <th></th>\n",
       "      <th></th>\n",
       "      <th></th>\n",
       "      <th></th>\n",
       "      <th></th>\n",
       "      <th></th>\n",
       "      <th></th>\n",
       "      <th></th>\n",
       "      <th></th>\n",
       "      <th></th>\n",
       "      <th></th>\n",
       "      <th></th>\n",
       "      <th></th>\n",
       "      <th></th>\n",
       "      <th></th>\n",
       "    </tr>\n",
       "  </thead>\n",
       "  <tbody>\n",
       "    <tr>\n",
       "      <th>benign</th>\n",
       "      <td>3687</td>\n",
       "      <td>51</td>\n",
       "      <td>US</td>\n",
       "      <td>2805</td>\n",
       "      <td>3687</td>\n",
       "      <td>848</td>\n",
       "      <td>Cloudflare, Inc.</td>\n",
       "      <td>445</td>\n",
       "      <td>3687</td>\n",
       "      <td>48</td>\n",
       "      <td>US</td>\n",
       "      <td>2580</td>\n",
       "      <td>3687</td>\n",
       "      <td>549</td>\n",
       "      <td>Google LLC</td>\n",
       "      <td>1065</td>\n",
       "      <td>3687</td>\n",
       "      <td>1</td>\n",
       "      <td>benign</td>\n",
       "      <td>3687</td>\n",
       "    </tr>\n",
       "    <tr>\n",
       "      <th>malicious</th>\n",
       "      <td>2395</td>\n",
       "      <td>37</td>\n",
       "      <td>NA</td>\n",
       "      <td>1354</td>\n",
       "      <td>2395</td>\n",
       "      <td>147</td>\n",
       "      <td>NA</td>\n",
       "      <td>1354</td>\n",
       "      <td>2395</td>\n",
       "      <td>17</td>\n",
       "      <td>NA</td>\n",
       "      <td>2286</td>\n",
       "      <td>2395</td>\n",
       "      <td>38</td>\n",
       "      <td>NA</td>\n",
       "      <td>2286</td>\n",
       "      <td>2395</td>\n",
       "      <td>1</td>\n",
       "      <td>malicious</td>\n",
       "      <td>2395</td>\n",
       "    </tr>\n",
       "  </tbody>\n",
       "</table>\n",
       "</div>"
      ],
      "text/plain": [
       "              A                                                          MX  \\\n",
       "             CC                    Org                                   CC   \n",
       "          count unique top  freq count unique               top  freq count   \n",
       "type                                                                          \n",
       "benign     3687     51  US  2805  3687    848  Cloudflare, Inc.   445  3687   \n",
       "malicious  2395     37  NA  1354  2395    147                NA  1354  2395   \n",
       "\n",
       "                                                           type         \\\n",
       "                             Org                                         \n",
       "          unique top  freq count unique         top  freq count unique   \n",
       "type                                                                     \n",
       "benign        48  US  2580  3687    549  Google LLC  1065  3687      1   \n",
       "malicious     17  NA  2286  2395     38          NA  2286  2395      1   \n",
       "\n",
       "                            \n",
       "                            \n",
       "                 top  freq  \n",
       "type                        \n",
       "benign        benign  3687  \n",
       "malicious  malicious  2395  "
      ]
     },
     "execution_count": 17,
     "metadata": {},
     "output_type": "execute_result"
    }
   ],
   "source": [
    "ip_df.groupby('type').describe()"
   ]
  },
  {
   "cell_type": "code",
   "execution_count": 18,
   "id": "ffa87111",
   "metadata": {},
   "outputs": [
    {
     "name": "stdout",
     "output_type": "stream",
     "text": [
      "Cloudflare, Inc.            445\n",
      "Amazon.com, Inc.            328\n",
      "NA                          294\n",
      "Fastly                      254\n",
      "Amazon Technologies Inc.    251\n",
      "Name: (A, Org), dtype: int64\n",
      "Google LLC                         1065\n",
      "NA                                  586\n",
      "Microsoft Corporation               543\n",
      "Proofpoint, Inc.                    322\n",
      "Cisco Systems Ironport Division      78\n",
      "Name: (MX, Org), dtype: int64\n",
      "NA                  1354\n",
      "REGRU-MNT            292\n",
      "Linode               191\n",
      "Cloudflare, Inc.      92\n",
      "OVH GmbH              88\n",
      "Name: (A, Org), dtype: int64\n",
      "NA                          2286\n",
      "Namecheap, Inc.               50\n",
      "Oath Holdings Inc.            11\n",
      "Stop the war in Ukraine!       6\n",
      "PSINet, Inc.                   3\n",
      "Name: (MX, Org), dtype: int64\n"
     ]
    }
   ],
   "source": [
    "# Top Benign A Record Orgs\n",
    "print(ip_df[ip_df['type'] == 'benign'].iloc[:, ip_df.columns.get_level_values(1)=='Org'][('A','Org')].value_counts().nlargest(5))\n",
    "# Top Benign MX Record Orgs\n",
    "print(ip_df[ip_df['type'] == 'benign'].iloc[:, ip_df.columns.get_level_values(1)=='Org'][('MX','Org')].value_counts().nlargest(5))\n",
    "# Top Malicious A Record Orgs\n",
    "print(ip_df[ip_df['type'] == 'malicious'].iloc[:, ip_df.columns.get_level_values(1)=='Org'][('A','Org')].value_counts().nlargest(5))\n",
    "# Top Malicious MX Record Orgs\n",
    "print(ip_df[ip_df['type'] == 'malicious'].iloc[:, ip_df.columns.get_level_values(1)=='Org'][('MX','Org')].value_counts().nlargest(5))\n"
   ]
  },
  {
   "cell_type": "code",
   "execution_count": 19,
   "id": "d6855b21",
   "metadata": {},
   "outputs": [
    {
     "name": "stdout",
     "output_type": "stream",
     "text": [
      "US    2805\n",
      "NA     291\n",
      "CN      85\n",
      "DE      80\n",
      "GB      58\n",
      "FR      56\n",
      "RU      49\n",
      "CA      47\n",
      "NL      36\n",
      "CH      25\n",
      "Name: (A, CC), dtype: int64\n",
      "US    2580\n",
      "NA     586\n",
      "GB      90\n",
      "DE      81\n",
      "CN      75\n",
      "RU      41\n",
      "FR      35\n",
      "CA      31\n",
      "CH      17\n",
      "NL      15\n",
      "Name: (MX, CC), dtype: int64\n",
      "NA    1354\n",
      "US     489\n",
      "RU     335\n",
      "FR      94\n",
      "NL      20\n",
      "DE      12\n",
      "RO      12\n",
      "LT       6\n",
      "BG       6\n",
      "NZ       6\n",
      "Name: (A, CC), dtype: int64\n",
      "NA    2286\n",
      "US      82\n",
      "NL       6\n",
      "DE       4\n",
      "RU       4\n",
      "NG       2\n",
      "DZ       1\n",
      "GR       1\n",
      "UA       1\n",
      "IR       1\n",
      "Name: (MX, CC), dtype: int64\n"
     ]
    }
   ],
   "source": [
    "# Top Benign A Record Locations\n",
    "print(ip_df[ip_df['type'] == 'benign'].iloc[:, ip_df.columns.get_level_values(1)=='CC'][('A','CC')].value_counts().nlargest(10))\n",
    "# Top Benign MX Record Locations\n",
    "print(ip_df[ip_df['type'] == 'benign'].iloc[:, ip_df.columns.get_level_values(1)=='CC'][('MX','CC')].value_counts().nlargest(10))\n",
    "# Top Malicious A Record Locations\n",
    "print(ip_df[ip_df['type'] == 'malicious'].iloc[:, ip_df.columns.get_level_values(1)=='CC'][('A','CC')].value_counts().nlargest(10))\n",
    "# Top Malicious MX Record Locations\n",
    "print(ip_df[ip_df['type'] == 'malicious'].iloc[:, ip_df.columns.get_level_values(1)=='CC'][('MX','CC')].value_counts().nlargest(10))\n"
   ]
  },
  {
   "cell_type": "code",
   "execution_count": 20,
   "id": "b5ef1105",
   "metadata": {},
   "outputs": [
    {
     "name": "stderr",
     "output_type": "stream",
     "text": [
      "/Library/Frameworks/Python.framework/Versions/3.10/lib/python3.10/site-packages/urllib3/connectionpool.py:1043: InsecureRequestWarning: Unverified HTTPS request is being made to host 'gist.githubusercontent.com'. Adding certificate verification is strongly advised. See: https://urllib3.readthedocs.io/en/1.26.x/advanced-usage.html#ssl-warnings\n",
      "  warnings.warn(\n"
     ]
    }
   ],
   "source": [
    "#url = 'https://gist.github.com/tadast/8827699' #alternative option\n",
    "url = 'https://gist.githubusercontent.com/metal3d/5b925077e66194551df949de64e910f6/raw/c5f20a037409d96958553e2eb6b8251265c6fd63/country-coord.csv'\n",
    "response = requests.get(url, verify = False).content\n",
    "coordinates_df = pd.read_csv(io.StringIO(response.decode('utf-8')))"
   ]
  },
  {
   "cell_type": "code",
   "execution_count": 21,
   "id": "e803359c",
   "metadata": {},
   "outputs": [
    {
     "data": {
      "text/html": [
       "<div>\n",
       "<style scoped>\n",
       "    .dataframe tbody tr th:only-of-type {\n",
       "        vertical-align: middle;\n",
       "    }\n",
       "\n",
       "    .dataframe tbody tr th {\n",
       "        vertical-align: top;\n",
       "    }\n",
       "\n",
       "    .dataframe thead th {\n",
       "        text-align: right;\n",
       "    }\n",
       "</style>\n",
       "<table border=\"1\" class=\"dataframe\">\n",
       "  <thead>\n",
       "    <tr style=\"text-align: right;\">\n",
       "      <th></th>\n",
       "      <th>Country</th>\n",
       "      <th>Alpha-2 code</th>\n",
       "      <th>Alpha-3 code</th>\n",
       "      <th>Numeric code</th>\n",
       "      <th>Latitude (average)</th>\n",
       "      <th>Longitude (average)</th>\n",
       "    </tr>\n",
       "  </thead>\n",
       "  <tbody>\n",
       "    <tr>\n",
       "      <th>0</th>\n",
       "      <td>Afghanistan</td>\n",
       "      <td>AF</td>\n",
       "      <td>AFG</td>\n",
       "      <td>4</td>\n",
       "      <td>33.0000</td>\n",
       "      <td>65.0</td>\n",
       "    </tr>\n",
       "    <tr>\n",
       "      <th>1</th>\n",
       "      <td>Albania</td>\n",
       "      <td>AL</td>\n",
       "      <td>ALB</td>\n",
       "      <td>8</td>\n",
       "      <td>41.0000</td>\n",
       "      <td>20.0</td>\n",
       "    </tr>\n",
       "    <tr>\n",
       "      <th>2</th>\n",
       "      <td>Algeria</td>\n",
       "      <td>DZ</td>\n",
       "      <td>DZA</td>\n",
       "      <td>12</td>\n",
       "      <td>28.0000</td>\n",
       "      <td>3.0</td>\n",
       "    </tr>\n",
       "    <tr>\n",
       "      <th>3</th>\n",
       "      <td>American Samoa</td>\n",
       "      <td>AS</td>\n",
       "      <td>ASM</td>\n",
       "      <td>16</td>\n",
       "      <td>-14.3333</td>\n",
       "      <td>-170.0</td>\n",
       "    </tr>\n",
       "    <tr>\n",
       "      <th>4</th>\n",
       "      <td>Andorra</td>\n",
       "      <td>AD</td>\n",
       "      <td>AND</td>\n",
       "      <td>20</td>\n",
       "      <td>42.5000</td>\n",
       "      <td>1.6</td>\n",
       "    </tr>\n",
       "    <tr>\n",
       "      <th>...</th>\n",
       "      <td>...</td>\n",
       "      <td>...</td>\n",
       "      <td>...</td>\n",
       "      <td>...</td>\n",
       "      <td>...</td>\n",
       "      <td>...</td>\n",
       "    </tr>\n",
       "    <tr>\n",
       "      <th>239</th>\n",
       "      <td>Wallis and Futuna</td>\n",
       "      <td>WF</td>\n",
       "      <td>WLF</td>\n",
       "      <td>876</td>\n",
       "      <td>-13.3000</td>\n",
       "      <td>-176.2</td>\n",
       "    </tr>\n",
       "    <tr>\n",
       "      <th>240</th>\n",
       "      <td>Western Sahara</td>\n",
       "      <td>EH</td>\n",
       "      <td>ESH</td>\n",
       "      <td>732</td>\n",
       "      <td>24.5000</td>\n",
       "      <td>-13.0</td>\n",
       "    </tr>\n",
       "    <tr>\n",
       "      <th>241</th>\n",
       "      <td>Yemen</td>\n",
       "      <td>YE</td>\n",
       "      <td>YEM</td>\n",
       "      <td>887</td>\n",
       "      <td>15.0000</td>\n",
       "      <td>48.0</td>\n",
       "    </tr>\n",
       "    <tr>\n",
       "      <th>242</th>\n",
       "      <td>Zambia</td>\n",
       "      <td>ZM</td>\n",
       "      <td>ZMB</td>\n",
       "      <td>894</td>\n",
       "      <td>-15.0000</td>\n",
       "      <td>30.0</td>\n",
       "    </tr>\n",
       "    <tr>\n",
       "      <th>243</th>\n",
       "      <td>Zimbabwe</td>\n",
       "      <td>ZW</td>\n",
       "      <td>ZWE</td>\n",
       "      <td>716</td>\n",
       "      <td>-20.0000</td>\n",
       "      <td>30.0</td>\n",
       "    </tr>\n",
       "  </tbody>\n",
       "</table>\n",
       "<p>244 rows × 6 columns</p>\n",
       "</div>"
      ],
      "text/plain": [
       "               Country Alpha-2 code Alpha-3 code  Numeric code  \\\n",
       "0          Afghanistan           AF          AFG             4   \n",
       "1              Albania           AL          ALB             8   \n",
       "2              Algeria           DZ          DZA            12   \n",
       "3       American Samoa           AS          ASM            16   \n",
       "4              Andorra           AD          AND            20   \n",
       "..                 ...          ...          ...           ...   \n",
       "239  Wallis and Futuna           WF          WLF           876   \n",
       "240     Western Sahara           EH          ESH           732   \n",
       "241              Yemen           YE          YEM           887   \n",
       "242             Zambia           ZM          ZMB           894   \n",
       "243           Zimbabwe           ZW          ZWE           716   \n",
       "\n",
       "     Latitude (average)  Longitude (average)  \n",
       "0               33.0000                 65.0  \n",
       "1               41.0000                 20.0  \n",
       "2               28.0000                  3.0  \n",
       "3              -14.3333               -170.0  \n",
       "4               42.5000                  1.6  \n",
       "..                  ...                  ...  \n",
       "239            -13.3000               -176.2  \n",
       "240             24.5000                -13.0  \n",
       "241             15.0000                 48.0  \n",
       "242            -15.0000                 30.0  \n",
       "243            -20.0000                 30.0  \n",
       "\n",
       "[244 rows x 6 columns]"
      ]
     },
     "execution_count": 21,
     "metadata": {},
     "output_type": "execute_result"
    }
   ],
   "source": [
    "coordinates_df"
   ]
  },
  {
   "cell_type": "code",
   "execution_count": 22,
   "id": "ac1b6598",
   "metadata": {},
   "outputs": [],
   "source": [
    "# Create two dataframes, one for each record type\n",
    "# Then join with coordinates_df\n",
    "ip_loc_df = ip_df.copy()\n",
    "ip_loc_df.columns = ip_loc_df.columns.droplevel()\n",
    "ip_loc_df = ip_loc_df.drop(columns='Org')\n",
    "ip_loc_df.columns = ['CC_A', 'CC_MX', 'type']\n",
    "ip_loc_A_df = ip_loc_df.reset_index().drop(columns=['index', 'CC_MX'])\n",
    "ip_loc_A_df  = ip_loc_A_df[ip_loc_A_df['CC_A'].isin(['NA']) == False]\n",
    "ip_loc_A_df = ip_loc_A_df.merge(coordinates_df, left_on='CC_A', right_on='Alpha-2 code')\n",
    "ip_loc_MX_df = ip_loc_df.reset_index().drop(columns=['index', 'CC_A'])\n",
    "ip_loc_MX_df  = ip_loc_MX_df[ip_loc_MX_df['CC_MX'].isin(['NA']) == False]\n",
    "ip_loc_MX_df = ip_loc_MX_df.merge(coordinates_df, left_on='CC_MX', right_on='Alpha-2 code')"
   ]
  },
  {
   "cell_type": "markdown",
   "id": "21342d62",
   "metadata": {},
   "source": [
    "## Heat Map"
   ]
  },
  {
   "cell_type": "code",
   "execution_count": 23,
   "id": "de84ecad",
   "metadata": {},
   "outputs": [
    {
     "data": {
      "text/html": [
       "<div style=\"width:100%;\"><div style=\"position:relative;width:100%;height:0;padding-bottom:60%;\"><span style=\"color:#565656\">Make this Notebook Trusted to load map: File -> Trust Notebook</span><iframe src=\"about:blank\" style=\"position:absolute;width:100%;height:100%;left:0;top:0;border:none !important;\" data-html=%3C%21DOCTYPE%20html%3E%0A%3Chead%3E%20%20%20%20%0A%20%20%20%20%3Cmeta%20http-equiv%3D%22content-type%22%20content%3D%22text/html%3B%20charset%3DUTF-8%22%20/%3E%0A%20%20%20%20%0A%20%20%20%20%20%20%20%20%3Cscript%3E%0A%20%20%20%20%20%20%20%20%20%20%20%20L_NO_TOUCH%20%3D%20false%3B%0A%20%20%20%20%20%20%20%20%20%20%20%20L_DISABLE_3D%20%3D%20false%3B%0A%20%20%20%20%20%20%20%20%3C/script%3E%0A%20%20%20%20%0A%20%20%20%20%3Cstyle%3Ehtml%2C%20body%20%7Bwidth%3A%20100%25%3Bheight%3A%20100%25%3Bmargin%3A%200%3Bpadding%3A%200%3B%7D%3C/style%3E%0A%20%20%20%20%3Cstyle%3E%23map%20%7Bposition%3Aabsolute%3Btop%3A0%3Bbottom%3A0%3Bright%3A0%3Bleft%3A0%3B%7D%3C/style%3E%0A%20%20%20%20%3Cscript%20src%3D%22https%3A//cdn.jsdelivr.net/npm/leaflet%401.6.0/dist/leaflet.js%22%3E%3C/script%3E%0A%20%20%20%20%3Cscript%20src%3D%22https%3A//code.jquery.com/jquery-1.12.4.min.js%22%3E%3C/script%3E%0A%20%20%20%20%3Cscript%20src%3D%22https%3A//maxcdn.bootstrapcdn.com/bootstrap/3.2.0/js/bootstrap.min.js%22%3E%3C/script%3E%0A%20%20%20%20%3Cscript%20src%3D%22https%3A//cdnjs.cloudflare.com/ajax/libs/Leaflet.awesome-markers/2.0.2/leaflet.awesome-markers.js%22%3E%3C/script%3E%0A%20%20%20%20%3Clink%20rel%3D%22stylesheet%22%20href%3D%22https%3A//cdn.jsdelivr.net/npm/leaflet%401.6.0/dist/leaflet.css%22/%3E%0A%20%20%20%20%3Clink%20rel%3D%22stylesheet%22%20href%3D%22https%3A//maxcdn.bootstrapcdn.com/bootstrap/3.2.0/css/bootstrap.min.css%22/%3E%0A%20%20%20%20%3Clink%20rel%3D%22stylesheet%22%20href%3D%22https%3A//maxcdn.bootstrapcdn.com/bootstrap/3.2.0/css/bootstrap-theme.min.css%22/%3E%0A%20%20%20%20%3Clink%20rel%3D%22stylesheet%22%20href%3D%22https%3A//maxcdn.bootstrapcdn.com/font-awesome/4.6.3/css/font-awesome.min.css%22/%3E%0A%20%20%20%20%3Clink%20rel%3D%22stylesheet%22%20href%3D%22https%3A//cdnjs.cloudflare.com/ajax/libs/Leaflet.awesome-markers/2.0.2/leaflet.awesome-markers.css%22/%3E%0A%20%20%20%20%3Clink%20rel%3D%22stylesheet%22%20href%3D%22https%3A//cdn.jsdelivr.net/gh/python-visualization/folium/folium/templates/leaflet.awesome.rotate.min.css%22/%3E%0A%20%20%20%20%0A%20%20%20%20%20%20%20%20%20%20%20%20%3Cmeta%20name%3D%22viewport%22%20content%3D%22width%3Ddevice-width%2C%0A%20%20%20%20%20%20%20%20%20%20%20%20%20%20%20%20initial-scale%3D1.0%2C%20maximum-scale%3D1.0%2C%20user-scalable%3Dno%22%20/%3E%0A%20%20%20%20%20%20%20%20%20%20%20%20%3Cstyle%3E%0A%20%20%20%20%20%20%20%20%20%20%20%20%20%20%20%20%23map_bffde7dd81544bbfbe4410d262bc6d5e%20%7B%0A%20%20%20%20%20%20%20%20%20%20%20%20%20%20%20%20%20%20%20%20position%3A%20relative%3B%0A%20%20%20%20%20%20%20%20%20%20%20%20%20%20%20%20%20%20%20%20width%3A%20100.0%25%3B%0A%20%20%20%20%20%20%20%20%20%20%20%20%20%20%20%20%20%20%20%20height%3A%20100.0%25%3B%0A%20%20%20%20%20%20%20%20%20%20%20%20%20%20%20%20%20%20%20%20left%3A%200.0%25%3B%0A%20%20%20%20%20%20%20%20%20%20%20%20%20%20%20%20%20%20%20%20top%3A%200.0%25%3B%0A%20%20%20%20%20%20%20%20%20%20%20%20%20%20%20%20%7D%0A%20%20%20%20%20%20%20%20%20%20%20%20%3C/style%3E%0A%20%20%20%20%20%20%20%20%0A%20%20%20%20%3Cscript%20src%3D%22https%3A//cdn.jsdelivr.net/gh/python-visualization/folium%40master/folium/templates/leaflet_heat.min.js%22%3E%3C/script%3E%0A%3C/head%3E%0A%3Cbody%3E%20%20%20%20%0A%20%20%20%20%0A%20%20%20%20%20%20%20%20%20%20%20%20%3Cdiv%20class%3D%22folium-map%22%20id%3D%22map_bffde7dd81544bbfbe4410d262bc6d5e%22%20%3E%3C/div%3E%0A%20%20%20%20%20%20%20%20%0A%3C/body%3E%0A%3Cscript%3E%20%20%20%20%0A%20%20%20%20%0A%20%20%20%20%20%20%20%20%20%20%20%20var%20map_bffde7dd81544bbfbe4410d262bc6d5e%20%3D%20L.map%28%0A%20%20%20%20%20%20%20%20%20%20%20%20%20%20%20%20%22map_bffde7dd81544bbfbe4410d262bc6d5e%22%2C%0A%20%20%20%20%20%20%20%20%20%20%20%20%20%20%20%20%7B%0A%20%20%20%20%20%20%20%20%20%20%20%20%20%20%20%20%20%20%20%20center%3A%20%5B40.71428888888889%2C%20-59.9058936443543%5D%2C%0A%20%20%20%20%20%20%20%20%20%20%20%20%20%20%20%20%20%20%20%20crs%3A%20L.CRS.EPSG3857%2C%0A%20%20%20%20%20%20%20%20%20%20%20%20%20%20%20%20%20%20%20%20zoom%3A%202%2C%0A%20%20%20%20%20%20%20%20%20%20%20%20%20%20%20%20%20%20%20%20zoomControl%3A%20true%2C%0A%20%20%20%20%20%20%20%20%20%20%20%20%20%20%20%20%20%20%20%20preferCanvas%3A%20false%2C%0A%20%20%20%20%20%20%20%20%20%20%20%20%20%20%20%20%7D%0A%20%20%20%20%20%20%20%20%20%20%20%20%29%3B%0A%20%20%20%20%20%20%20%20%20%20%20%20L.control.scale%28%29.addTo%28map_bffde7dd81544bbfbe4410d262bc6d5e%29%3B%0A%0A%20%20%20%20%20%20%20%20%20%20%20%20%0A%0A%20%20%20%20%20%20%20%20%0A%20%20%20%20%0A%20%20%20%20%20%20%20%20%20%20%20%20var%20tile_layer_87cc792f0c0e45959f76ce3195fc1aa3%20%3D%20L.tileLayer%28%0A%20%20%20%20%20%20%20%20%20%20%20%20%20%20%20%20%22https%3A//%7Bs%7D.tile.openstreetmap.org/%7Bz%7D/%7Bx%7D/%7By%7D.png%22%2C%0A%20%20%20%20%20%20%20%20%20%20%20%20%20%20%20%20%7B%22attribution%22%3A%20%22Data%20by%20%5Cu0026copy%3B%20%5Cu003ca%20href%3D%5C%22http%3A//openstreetmap.org%5C%22%5Cu003eOpenStreetMap%5Cu003c/a%5Cu003e%2C%20under%20%5Cu003ca%20href%3D%5C%22http%3A//www.openstreetmap.org/copyright%5C%22%5Cu003eODbL%5Cu003c/a%5Cu003e.%22%2C%20%22detectRetina%22%3A%20false%2C%20%22maxNativeZoom%22%3A%2018%2C%20%22maxZoom%22%3A%2018%2C%20%22minZoom%22%3A%200%2C%20%22noWrap%22%3A%20false%2C%20%22opacity%22%3A%201%2C%20%22subdomains%22%3A%20%22abc%22%2C%20%22tms%22%3A%20false%7D%0A%20%20%20%20%20%20%20%20%20%20%20%20%29.addTo%28map_bffde7dd81544bbfbe4410d262bc6d5e%29%3B%0A%20%20%20%20%20%20%20%20%0A%20%20%20%20%0A%20%20%20%20%20%20%20%20%20%20%20%20var%20feature_group_4556aa7446764accb09145b42dd7d82a%20%3D%20L.featureGroup%28%0A%20%20%20%20%20%20%20%20%20%20%20%20%20%20%20%20%7B%7D%0A%20%20%20%20%20%20%20%20%20%20%20%20%29.addTo%28map_bffde7dd81544bbfbe4410d262bc6d5e%29%3B%0A%20%20%20%20%20%20%20%20%0A%20%20%20%20%0A%20%20%20%20%20%20%20%20%20%20%20%20var%20heat_map_b49b8fc53323483898e5d8a2ce66d107%20%3D%20L.heatLayer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blur%22%3A%2015%2C%20%22maxZoom%22%3A%2018%2C%20%22minOpacity%22%3A%200.5%2C%20%22radius%22%3A%2025%7D%0A%20%20%20%20%20%20%20%20%20%20%20%20%29.addTo%28feature_group_4556aa7446764accb09145b42dd7d82a%29%3B%0A%20%20%20%20%20%20%20%20%0A%20%20%20%20%0A%20%20%20%20%20%20%20%20%20%20%20%20var%20feature_group_aa99844b6374451a945533aa09c0d01c%20%3D%20L.featureGroup%28%0A%20%20%20%20%20%20%20%20%20%20%20%20%20%20%20%20%7B%7D%0A%20%20%20%20%20%20%20%20%20%20%20%20%29.addTo%28map_bffde7dd81544bbfbe4410d262bc6d5e%29%3B%0A%20%20%20%20%20%20%20%20%0A%20%20%20%20%0A%20%20%20%20%20%20%20%20%20%20%20%20var%20heat_map_efe56375b28447949af4de763f134aed%20%3D%20L.heatLayer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blur%22%3A%2015%2C%20%22maxZoom%22%3A%2018%2C%20%22minOpacity%22%3A%200.5%2C%20%22radius%22%3A%2025%7D%0A%20%20%20%20%20%20%20%20%20%20%20%20%29.addTo%28feature_group_aa99844b6374451a945533aa09c0d01c%29%3B%0A%20%20%20%20%20%20%20%20%0A%20%20%20%20%0A%20%20%20%20%20%20%20%20%20%20%20%20var%20feature_group_4a4a4dddb51f48e39a520ea17c3bbc01%20%3D%20L.featureGroup%28%0A%20%20%20%20%20%20%20%20%20%20%20%20%20%20%20%20%7B%7D%0A%20%20%20%20%20%20%20%20%20%20%20%20%29.addTo%28map_bffde7dd81544bbfbe4410d262bc6d5e%29%3B%0A%20%20%20%20%20%20%20%20%0A%20%20%20%20%0A%20%20%20%20%20%20%20%20%20%20%20%20var%20heat_map_f1c1c8986858495da23e5e6365726266%20%3D%20L.heatLayer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blur%22%3A%2015%2C%20%22maxZoom%22%3A%2018%2C%20%22minOpacity%22%3A%200.5%2C%20%22radius%22%3A%2025%7D%0A%20%20%20%20%20%20%20%20%20%20%20%20%29.addTo%28feature_group_4a4a4dddb51f48e39a520ea17c3bbc01%29%3B%0A%20%20%20%20%20%20%20%20%0A%20%20%20%20%0A%20%20%20%20%20%20%20%20%20%20%20%20var%20feature_group_a2530a36f5ae4d2fba9036155eb6fb48%20%3D%20L.featureGroup%28%0A%20%20%20%20%20%20%20%20%20%20%20%20%20%20%20%20%7B%7D%0A%20%20%20%20%20%20%20%20%20%20%20%20%29.addTo%28map_bffde7dd81544bbfbe4410d262bc6d5e%29%3B%0A%20%20%20%20%20%20%20%20%0A%20%20%20%20%0A%20%20%20%20%20%20%20%20%20%20%20%20var%20heat_map_0890b538aa50466e85728b772c2b69af%20%3D%20L.heatLayer%28%0A%20%20%20%20%20%20%20%20%20%20%20%20%20%20%20%20%5B%5B38.0%2C%20-97.0%5D%2C%20%5B38.0%2C%20-97.0%5D%2C%20%5B38.0%2C%20-97.0%5D%2C%20%5B38.0%2C%20-97.0%5D%2C%20%5B38.0%2C%20-97.0%5D%2C%20%5B38.0%2C%20-97.0%5D%2C%20%5B38.0%2C%20-97.0%5D%2C%20%5B38.0%2C%20-97.0%5D%2C%20%5B38.0%2C%20-97.0%5D%2C%20%5B38.0%2C%20-97.0%5D%2C%20%5B38.0%2C%20-97.0%5D%2C%20%5B38.0%2C%20-97.0%5D%2C%20%5B38.0%2C%20-97.0%5D%2C%20%5B38.0%2C%20-97.0%5D%2C%20%5B38.0%2C%20-97.0%5D%2C%20%5B38.0%2C%20-97.0%5D%2C%20%5B38.0%2C%20-97.0%5D%2C%20%5B38.0%2C%20-97.0%5D%2C%20%5B38.0%2C%20-97.0%5D%2C%20%5B38.0%2C%20-97.0%5D%2C%20%5B38.0%2C%20-97.0%5D%2C%20%5B38.0%2C%20-97.0%5D%2C%20%5B38.0%2C%20-97.0%5D%2C%20%5B38.0%2C%20-97.0%5D%2C%20%5B38.0%2C%20-97.0%5D%2C%20%5B38.0%2C%20-97.0%5D%2C%20%5B38.0%2C%20-97.0%5D%2C%20%5B38.0%2C%20-97.0%5D%2C%20%5B38.0%2C%20-97.0%5D%2C%20%5B38.0%2C%20-97.0%5D%2C%20%5B38.0%2C%20-97.0%5D%2C%20%5B38.0%2C%20-97.0%5D%2C%20%5B38.0%2C%20-97.0%5D%2C%20%5B38.0%2C%20-97.0%5D%2C%20%5B38.0%2C%20-97.0%5D%2C%20%5B38.0%2C%20-97.0%5D%2C%20%5B38.0%2C%20-97.0%5D%2C%20%5B38.0%2C%20-97.0%5D%2C%20%5B38.0%2C%20-97.0%5D%2C%20%5B38.0%2C%20-97.0%5D%2C%20%5B38.0%2C%20-97.0%5D%2C%20%5B38.0%2C%20-97.0%5D%2C%20%5B38.0%2C%20-97.0%5D%2C%20%5B38.0%2C%20-97.0%5D%2C%20%5B38.0%2C%20-97.0%5D%2C%20%5B38.0%2C%20-97.0%5D%2C%20%5B38.0%2C%20-97.0%5D%2C%20%5B38.0%2C%20-97.0%5D%2C%20%5B38.0%2C%20-97.0%5D%2C%20%5B38.0%2C%20-97.0%5D%2C%20%5B38.0%2C%20-97.0%5D%2C%20%5B38.0%2C%20-97.0%5D%2C%20%5B38.0%2C%20-97.0%5D%2C%20%5B38.0%2C%20-97.0%5D%2C%20%5B38.0%2C%20-97.0%5D%2C%20%5B38.0%2C%20-97.0%5D%2C%20%5B38.0%2C%20-97.0%5D%2C%20%5B38.0%2C%20-97.0%5D%2C%20%5B38.0%2C%20-97.0%5D%2C%20%5B38.0%2C%20-97.0%5D%2C%20%5B38.0%2C%20-97.0%5D%2C%20%5B38.0%2C%20-97.0%5D%2C%20%5B38.0%2C%20-97.0%5D%2C%20%5B38.0%2C%20-97.0%5D%2C%20%5B38.0%2C%20-97.0%5D%2C%20%5B38.0%2C%20-97.0%5D%2C%20%5B38.0%2C%20-97.0%5D%2C%20%5B38.0%2C%20-97.0%5D%2C%20%5B38.0%2C%20-97.0%5D%2C%20%5B38.0%2C%20-97.0%5D%2C%20%5B38.0%2C%20-97.0%5D%2C%20%5B38.0%2C%20-97.0%5D%2C%20%5B38.0%2C%20-97.0%5D%2C%20%5B38.0%2C%20-97.0%5D%2C%20%5B38.0%2C%20-97.0%5D%2C%20%5B38.0%2C%20-97.0%5D%2C%20%5B38.0%2C%20-97.0%5D%2C%20%5B38.0%2C%20-97.0%5D%2C%20%5B38.0%2C%20-97.0%5D%2C%20%5B38.0%2C%20-97.0%5D%2C%20%5B38.0%2C%20-97.0%5D%2C%20%5B38.0%2C%20-97.0%5D%2C%20%5B51.0%2C%209.0%5D%2C%20%5B51.0%2C%209.0%5D%2C%20%5B51.0%2C%209.0%5D%2C%20%5B51.0%2C%209.0%5D%2C%20%5B54.0%2C%20-2.0%5D%2C%20%5B-27.0%2C%20133.0%5D%2C%20%5B47.0%2C%208.0%5D%2C%20%5B60.0%2C%20100.0%5D%2C%20%5B60.0%2C%20100.0%5D%2C%20%5B60.0%2C%20100.0%5D%2C%20%5B60.0%2C%20100.0%5D%2C%20%5B46.0%2C%2025.0%5D%2C%20%5B40.0%2C%20-4.0%5D%2C%20%5B52.5%2C%205.75%5D%2C%20%5B52.5%2C%205.75%5D%2C%20%5B52.5%2C%205.75%5D%2C%20%5B52.5%2C%205.75%5D%2C%20%5B52.5%2C%205.75%5D%2C%20%5B52.5%2C%205.75%5D%2C%20%5B49.75%2C%2015.5%5D%2C%20%5B49.0%2C%2032.0%5D%2C%20%5B39.0%2C%2022.0%5D%2C%20%5B2.5%2C%20112.5%5D%2C%20%5B10.0%2C%208.0%5D%2C%20%5B10.0%2C%208.0%5D%2C%20%5B28.0%2C%203.0%5D%2C%20%5B32.0%2C%2053.0%5D%5D%2C%0A%20%20%20%20%20%20%20%20%20%20%20%20%20%20%20%20%7B%22blur%22%3A%2015%2C%20%22maxZoom%22%3A%2018%2C%20%22minOpacity%22%3A%200.5%2C%20%22radius%22%3A%2025%7D%0A%20%20%20%20%20%20%20%20%20%20%20%20%29.addTo%28feature_group_a2530a36f5ae4d2fba9036155eb6fb48%29%3B%0A%20%20%20%20%20%20%20%20%0A%20%20%20%20%0A%20%20%20%20%20%20%20%20%20%20%20%20var%20layer_control_3a5ad96257d04ed6b5a144de790baec5%20%3D%20%7B%0A%20%20%20%20%20%20%20%20%20%20%20%20%20%20%20%20base_layers%20%3A%20%7B%0A%20%20%20%20%20%20%20%20%20%20%20%20%20%20%20%20%20%20%20%20%22openstreetmap%22%20%3A%20tile_layer_87cc792f0c0e45959f76ce3195fc1aa3%2C%0A%20%20%20%20%20%20%20%20%20%20%20%20%20%20%20%20%7D%2C%0A%20%20%20%20%20%20%20%20%20%20%20%20%20%20%20%20overlays%20%3A%20%20%7B%0A%20%20%20%20%20%20%20%20%20%20%20%20%20%20%20%20%20%20%20%20%22Benign%20A%20Records%22%20%3A%20feature_group_4556aa7446764accb09145b42dd7d82a%2C%0A%20%20%20%20%20%20%20%20%20%20%20%20%20%20%20%20%20%20%20%20%22Malicious%20A%20Records%22%20%3A%20feature_group_aa99844b6374451a945533aa09c0d01c%2C%0A%20%20%20%20%20%20%20%20%20%20%20%20%20%20%20%20%20%20%20%20%22Benign%20MX%20Records%22%20%3A%20feature_group_4a4a4dddb51f48e39a520ea17c3bbc01%2C%0A%20%20%20%20%20%20%20%20%20%20%20%20%20%20%20%20%20%20%20%20%22Malicious%20MX%20Records%22%20%3A%20feature_group_a2530a36f5ae4d2fba9036155eb6fb48%2C%0A%20%20%20%20%20%20%20%20%20%20%20%20%20%20%20%20%7D%2C%0A%20%20%20%20%20%20%20%20%20%20%20%20%7D%3B%0A%20%20%20%20%20%20%20%20%20%20%20%20L.control.layers%28%0A%20%20%20%20%20%20%20%20%20%20%20%20%20%20%20%20layer_control_3a5ad96257d04ed6b5a144de790baec5.base_layers%2C%0A%20%20%20%20%20%20%20%20%20%20%20%20%20%20%20%20layer_control_3a5ad96257d04ed6b5a144de790baec5.overlays%2C%0A%20%20%20%20%20%20%20%20%20%20%20%20%20%20%20%20%7B%22autoZIndex%22%3A%20true%2C%20%22collapsed%22%3A%20true%2C%20%22position%22%3A%20%22topright%22%7D%0A%20%20%20%20%20%20%20%20%20%20%20%20%29.addTo%28map_bffde7dd81544bbfbe4410d262bc6d5e%29%3B%0A%20%20%20%20%20%20%20%20%0A%3C/script%3E onload=\"this.contentDocument.open();this.contentDocument.write(    decodeURIComponent(this.getAttribute('data-html')));this.contentDocument.close();\" allowfullscreen webkitallowfullscreen mozallowfullscreen></iframe></div></div>"
      ],
      "text/plain": [
       "<folium.folium.Map at 0x12d54b940>"
      ]
     },
     "execution_count": 23,
     "metadata": {},
     "output_type": "execute_result"
    }
   ],
   "source": [
    "benign_ip_locs_A = ip_loc_A_df[ip_loc_A_df['type'] == 'benign'][['Latitude (average)', 'Longitude (average)']]\n",
    "malicious_ip_locs_A = ip_loc_A_df[ip_loc_A_df['type'] == 'malicious'][['Latitude (average)', 'Longitude (average)']]\n",
    "benign_ip_locs_MX = ip_loc_MX_df[ip_loc_MX_df['type'] == 'benign'][['Latitude (average)', 'Longitude (average)']]\n",
    "malicious_ip_locs_MX = ip_loc_MX_df[ip_loc_MX_df['type'] == 'malicious'][['Latitude (average)', 'Longitude (average)']]\n",
    "\n",
    "\n",
    "heatmap = folium.Map(location=[ip_loc_A_df['Latitude (average)'].mean(), ip_loc_A_df['Longitude (average)'].mean()],\n",
    "                 zoom_start=2, control_scale=True)\n",
    "\n",
    "f_A_benign = folium.FeatureGroup(\"Benign A Records\")\n",
    "f_A_malicious = folium.FeatureGroup(\"Malicious A Records\")\n",
    "f_MX_benign = folium.FeatureGroup(\"Benign MX Records\")\n",
    "f_MX_malicious = folium.FeatureGroup(\"Malicious MX Records\")\n",
    "\n",
    "f_A_benign.add_to(heatmap)\n",
    "f_A_malicious.add_to(heatmap)\n",
    "f_MX_benign.add_to(heatmap)\n",
    "f_MX_malicious.add_to(heatmap)\n",
    "\n",
    "plugins.HeatMap(benign_ip_locs_A, radius=25).add_to(f_A_benign)\n",
    "plugins.HeatMap(malicious_ip_locs_A, radius=25).add_to(f_A_malicious)\n",
    "plugins.HeatMap(benign_ip_locs_MX, radius=25).add_to(f_MX_benign)\n",
    "plugins.HeatMap(malicious_ip_locs_MX, radius=25).add_to(f_MX_malicious)\n",
    "\n",
    "folium.LayerControl().add_to(heatmap)\n",
    "\n",
    "heatmap\n"
   ]
  },
  {
   "cell_type": "markdown",
   "id": "fd221a52",
   "metadata": {},
   "source": [
    "## Observations\n",
    "* Very high number of malicious domains were unresolvable (likely due to being queried so far after the whois list was generated).\n",
    "* With the malicious domains that were resolvable, a large number did not have an MX record."
   ]
  },
  {
   "cell_type": "markdown",
   "id": "7d9bb122",
   "metadata": {},
   "source": [
    "# Entropy Data EDA"
   ]
  },
  {
   "cell_type": "code",
   "execution_count": 105,
   "id": "9b406031",
   "metadata": {},
   "outputs": [],
   "source": [
    "# DGA Primer: https://jason-trost.medium.com/getting-started-with-dga-domain-detection-research-89af69213257"
   ]
  },
  {
   "cell_type": "code",
   "execution_count": 24,
   "id": "f15dc5e7",
   "metadata": {},
   "outputs": [
    {
     "data": {
      "text/plain": [
       "{'google.com': 1.9182958340544893}"
      ]
     },
     "execution_count": 24,
     "metadata": {},
     "output_type": "execute_result"
    }
   ],
   "source": [
    "data_file_dict['benign_entropy_data.txt'][0]"
   ]
  },
  {
   "cell_type": "code",
   "execution_count": 25,
   "id": "c82935c5",
   "metadata": {},
   "outputs": [],
   "source": [
    "# Load data into dataframe, add type column, and merge\n",
    "benign_entropy_data = data_file_dict['benign_entropy_data.txt']\n",
    "malicious_entropy_data = data_file_dict['malicious_entropy_data.txt']\n",
    "\n",
    "benign_entropy_df = pd.DataFrame.from_dict(ChainMap(*benign_entropy_data), orient='index', columns=['entropy_value'])\n",
    "benign_entropy_df['type'] = 'benign'\n",
    "malicious_entropy_df = pd.DataFrame.from_dict(ChainMap(*malicious_entropy_data), orient='index', columns=['entropy_value'])\n",
    "malicious_entropy_df['type'] = 'malicious'\n",
    "entropy_df = pd.concat([benign_entropy_df, malicious_entropy_df])"
   ]
  },
  {
   "cell_type": "code",
   "execution_count": 26,
   "id": "e4e2a49b",
   "metadata": {},
   "outputs": [
    {
     "data": {
      "text/html": [
       "<div>\n",
       "<style scoped>\n",
       "    .dataframe tbody tr th:only-of-type {\n",
       "        vertical-align: middle;\n",
       "    }\n",
       "\n",
       "    .dataframe tbody tr th {\n",
       "        vertical-align: top;\n",
       "    }\n",
       "\n",
       "    .dataframe thead th {\n",
       "        text-align: right;\n",
       "    }\n",
       "</style>\n",
       "<table border=\"1\" class=\"dataframe\">\n",
       "  <thead>\n",
       "    <tr style=\"text-align: right;\">\n",
       "      <th></th>\n",
       "      <th>entropy_value</th>\n",
       "      <th>type</th>\n",
       "    </tr>\n",
       "  </thead>\n",
       "  <tbody>\n",
       "    <tr>\n",
       "      <th>canadiantire.ca</th>\n",
       "      <td>2.855389</td>\n",
       "      <td>benign</td>\n",
       "    </tr>\n",
       "    <tr>\n",
       "      <th>sch.gr</th>\n",
       "      <td>1.584963</td>\n",
       "      <td>benign</td>\n",
       "    </tr>\n",
       "    <tr>\n",
       "      <th>torgi.gov.ru</th>\n",
       "      <td>2.500000</td>\n",
       "      <td>benign</td>\n",
       "    </tr>\n",
       "    <tr>\n",
       "      <th>htc.com</th>\n",
       "      <td>1.584963</td>\n",
       "      <td>benign</td>\n",
       "    </tr>\n",
       "    <tr>\n",
       "      <th>adaa.org</th>\n",
       "      <td>0.811278</td>\n",
       "      <td>benign</td>\n",
       "    </tr>\n",
       "    <tr>\n",
       "      <th>...</th>\n",
       "      <td>...</td>\n",
       "      <td>...</td>\n",
       "    </tr>\n",
       "    <tr>\n",
       "      <th>crmweb.info</th>\n",
       "      <td>2.584963</td>\n",
       "      <td>malicious</td>\n",
       "    </tr>\n",
       "    <tr>\n",
       "      <th>eleccom.shop</th>\n",
       "      <td>2.235926</td>\n",
       "      <td>malicious</td>\n",
       "    </tr>\n",
       "    <tr>\n",
       "      <th>izocab.com</th>\n",
       "      <td>2.584963</td>\n",
       "      <td>malicious</td>\n",
       "    </tr>\n",
       "    <tr>\n",
       "      <th>contentcdns.net</th>\n",
       "      <td>2.663533</td>\n",
       "      <td>malicious</td>\n",
       "    </tr>\n",
       "    <tr>\n",
       "      <th>reseptors.com</th>\n",
       "      <td>2.503258</td>\n",
       "      <td>malicious</td>\n",
       "    </tr>\n",
       "  </tbody>\n",
       "</table>\n",
       "<p>6082 rows × 2 columns</p>\n",
       "</div>"
      ],
      "text/plain": [
       "                 entropy_value       type\n",
       "canadiantire.ca       2.855389     benign\n",
       "sch.gr                1.584963     benign\n",
       "torgi.gov.ru          2.500000     benign\n",
       "htc.com               1.584963     benign\n",
       "adaa.org              0.811278     benign\n",
       "...                        ...        ...\n",
       "crmweb.info           2.584963  malicious\n",
       "eleccom.shop          2.235926  malicious\n",
       "izocab.com            2.584963  malicious\n",
       "contentcdns.net       2.663533  malicious\n",
       "reseptors.com         2.503258  malicious\n",
       "\n",
       "[6082 rows x 2 columns]"
      ]
     },
     "execution_count": 26,
     "metadata": {},
     "output_type": "execute_result"
    }
   ],
   "source": [
    "entropy_df"
   ]
  },
  {
   "cell_type": "code",
   "execution_count": 27,
   "id": "7c5b111b",
   "metadata": {},
   "outputs": [
    {
     "data": {
      "text/html": [
       "<div>\n",
       "<style scoped>\n",
       "    .dataframe tbody tr th:only-of-type {\n",
       "        vertical-align: middle;\n",
       "    }\n",
       "\n",
       "    .dataframe tbody tr th {\n",
       "        vertical-align: top;\n",
       "    }\n",
       "\n",
       "    .dataframe thead th {\n",
       "        text-align: right;\n",
       "    }\n",
       "</style>\n",
       "<table border=\"1\" class=\"dataframe\">\n",
       "  <thead>\n",
       "    <tr style=\"text-align: right;\">\n",
       "      <th></th>\n",
       "      <th>count</th>\n",
       "      <th>mean</th>\n",
       "      <th>std</th>\n",
       "      <th>min</th>\n",
       "      <th>25%</th>\n",
       "      <th>50%</th>\n",
       "      <th>75%</th>\n",
       "      <th>max</th>\n",
       "    </tr>\n",
       "    <tr>\n",
       "      <th>type</th>\n",
       "      <th></th>\n",
       "      <th></th>\n",
       "      <th></th>\n",
       "      <th></th>\n",
       "      <th></th>\n",
       "      <th></th>\n",
       "      <th></th>\n",
       "      <th></th>\n",
       "    </tr>\n",
       "  </thead>\n",
       "  <tbody>\n",
       "    <tr>\n",
       "      <th>benign</th>\n",
       "      <td>3687.0</td>\n",
       "      <td>2.372359</td>\n",
       "      <td>0.738613</td>\n",
       "      <td>0.0</td>\n",
       "      <td>1.921928</td>\n",
       "      <td>2.521641</td>\n",
       "      <td>2.921928</td>\n",
       "      <td>3.879664</td>\n",
       "    </tr>\n",
       "    <tr>\n",
       "      <th>malicious</th>\n",
       "      <td>2395.0</td>\n",
       "      <td>3.068759</td>\n",
       "      <td>0.479918</td>\n",
       "      <td>0.0</td>\n",
       "      <td>2.750000</td>\n",
       "      <td>3.039149</td>\n",
       "      <td>3.412270</td>\n",
       "      <td>4.395999</td>\n",
       "    </tr>\n",
       "  </tbody>\n",
       "</table>\n",
       "</div>"
      ],
      "text/plain": [
       "            count      mean       std  min       25%       50%       75%  \\\n",
       "type                                                                       \n",
       "benign     3687.0  2.372359  0.738613  0.0  1.921928  2.521641  2.921928   \n",
       "malicious  2395.0  3.068759  0.479918  0.0  2.750000  3.039149  3.412270   \n",
       "\n",
       "                max  \n",
       "type                 \n",
       "benign     3.879664  \n",
       "malicious  4.395999  "
      ]
     },
     "execution_count": 27,
     "metadata": {},
     "output_type": "execute_result"
    }
   ],
   "source": [
    "entropy_df.groupby('type')['entropy_value'].describe()"
   ]
  },
  {
   "cell_type": "code",
   "execution_count": 28,
   "id": "c284fbc3",
   "metadata": {},
   "outputs": [
    {
     "data": {
      "image/png": "[encoded data removed]",
      "text/plain": [
       "<Figure size 648x504 with 1 Axes>"
      ]
     },
     "metadata": {
      "needs_background": "light"
     },
     "output_type": "display_data"
    }
   ],
   "source": [
    "plt.rcParams[\"figure.figsize\"] = [9, 7]\n",
    "entropy_plot = entropy_df.boxplot(by='type', figsize=(9, 7), return_type='both',\n",
    "    patch_artist = True)\n",
    "colors = ['g', 'r']\n",
    "for row_key, (ax,row) in entropy_plot.iteritems():\n",
    "    ax.set_xlabel('')\n",
    "    for i,box in enumerate(row['boxes']):\n",
    "        box.set_facecolor(colors[i])\n",
    "plt.show()"
   ]
  },
  {
   "cell_type": "code",
   "execution_count": 29,
   "id": "0fdd9033",
   "metadata": {},
   "outputs": [
    {
     "data": {
      "text/html": [
       "<div>\n",
       "<style scoped>\n",
       "    .dataframe tbody tr th:only-of-type {\n",
       "        vertical-align: middle;\n",
       "    }\n",
       "\n",
       "    .dataframe tbody tr th {\n",
       "        vertical-align: top;\n",
       "    }\n",
       "\n",
       "    .dataframe thead th {\n",
       "        text-align: right;\n",
       "    }\n",
       "</style>\n",
       "<table border=\"1\" class=\"dataframe\">\n",
       "  <thead>\n",
       "    <tr style=\"text-align: right;\">\n",
       "      <th></th>\n",
       "      <th>entropy_value</th>\n",
       "      <th>type</th>\n",
       "    </tr>\n",
       "  </thead>\n",
       "  <tbody>\n",
       "    <tr>\n",
       "      <th>ind.br</th>\n",
       "      <td>0.0</td>\n",
       "      <td>benign</td>\n",
       "    </tr>\n",
       "    <tr>\n",
       "      <th>www.gov.pl</th>\n",
       "      <td>-0.0</td>\n",
       "      <td>benign</td>\n",
       "    </tr>\n",
       "    <tr>\n",
       "      <th>adv.br</th>\n",
       "      <td>0.0</td>\n",
       "      <td>benign</td>\n",
       "    </tr>\n",
       "    <tr>\n",
       "      <th>or.ke</th>\n",
       "      <td>0.0</td>\n",
       "      <td>benign</td>\n",
       "    </tr>\n",
       "    <tr>\n",
       "      <th>ga.us</th>\n",
       "      <td>0.0</td>\n",
       "      <td>benign</td>\n",
       "    </tr>\n",
       "    <tr>\n",
       "      <th>...</th>\n",
       "      <td>...</td>\n",
       "      <td>...</td>\n",
       "    </tr>\n",
       "    <tr>\n",
       "      <th>idv.tw</th>\n",
       "      <td>0.0</td>\n",
       "      <td>malicious</td>\n",
       "    </tr>\n",
       "    <tr>\n",
       "      <th>mmmmmm.casa</th>\n",
       "      <td>-0.0</td>\n",
       "      <td>malicious</td>\n",
       "    </tr>\n",
       "    <tr>\n",
       "      <th>mmmmmm.bar</th>\n",
       "      <td>-0.0</td>\n",
       "      <td>malicious</td>\n",
       "    </tr>\n",
       "    <tr>\n",
       "      <th>nnnnnn.casa</th>\n",
       "      <td>-0.0</td>\n",
       "      <td>malicious</td>\n",
       "    </tr>\n",
       "    <tr>\n",
       "      <th>nnnnnn.bar</th>\n",
       "      <td>-0.0</td>\n",
       "      <td>malicious</td>\n",
       "    </tr>\n",
       "  </tbody>\n",
       "</table>\n",
       "<p>104 rows × 2 columns</p>\n",
       "</div>"
      ],
      "text/plain": [
       "             entropy_value       type\n",
       "ind.br                 0.0     benign\n",
       "www.gov.pl            -0.0     benign\n",
       "adv.br                 0.0     benign\n",
       "or.ke                  0.0     benign\n",
       "ga.us                  0.0     benign\n",
       "...                    ...        ...\n",
       "idv.tw                 0.0  malicious\n",
       "mmmmmm.casa           -0.0  malicious\n",
       "mmmmmm.bar            -0.0  malicious\n",
       "nnnnnn.casa           -0.0  malicious\n",
       "nnnnnn.bar            -0.0  malicious\n",
       "\n",
       "[104 rows x 2 columns]"
      ]
     },
     "execution_count": 29,
     "metadata": {},
     "output_type": "execute_result"
    }
   ],
   "source": [
    "entropy_df[entropy_df['entropy_value']<=0.1]"
   ]
  },
  {
   "cell_type": "markdown",
   "id": "f78b870b",
   "metadata": {},
   "source": [
    "### Todo: Need to look into why some domains have entropy values of zero. Possibly mistaken as TLD's."
   ]
  },
  {
   "cell_type": "markdown",
   "id": "caad0e53",
   "metadata": {},
   "source": [
    "# Misc"
   ]
  },
  {
   "cell_type": "code",
   "execution_count": 30,
   "id": "d1f82bbb",
   "metadata": {},
   "outputs": [
    {
     "name": "stdout",
     "output_type": "stream",
     "text": [
      "Average length (including TLD): 11.521844009648888\n",
      "Average length (without TLD): 7.414634146341464\n",
      "\n",
      "\n",
      "Malicious Domains:\n",
      "Average length (including TLD): 17.551552795031057\n",
      "Average length (without TLD): 13.005383022774327\n"
     ]
    }
   ],
   "source": [
    "benign_domain_df = pd.DataFrame()\n",
    "benign_domain_list = []\n",
    "for benign_domain_whois in data_file_dict['benign_whois_data.txt']:\n",
    "    benign_domain_list.append(list(benign_domain_whois.keys())[0])\n",
    "print(\"Average length (including TLD): \" + str(sum(map(len, benign_domain_list))/float(len(benign_domain_list))))\n",
    "benign_domain_without_tld_list = []\n",
    "for benign_domain_name in benign_domain_list:\n",
    "    domain_parts = get_domain_parts(benign_domain_name)[:2]\n",
    "    benign_domain_without_tld_list.append(''.join(domain_parts[:2]))\n",
    "print(\"Average length (without TLD): \" + str(sum(map(len, benign_domain_without_tld_list))/float(len(benign_domain_without_tld_list))))\n",
    "benign_domain_df['domain'] = benign_domain_without_tld_list\n",
    "benign_domain_df['type'] = 'benign'\n",
    "benign_domain_df['length']= benign_domain_df['domain'].str.len()\n",
    "print(\"\\n\")\n",
    "\n",
    "malicious_domain_df = pd.DataFrame()\n",
    "malicious_domain_list = []\n",
    "for malicious_domain_whois in data_file_dict['malicious_whois_data.txt']:\n",
    "    malicious_domain_list.append(list(malicious_domain_whois.keys())[0])\n",
    "print(\"Malicious Domains:\")\n",
    "print(\"Average length (including TLD): \" + str(sum(map(len, malicious_domain_list))/float(len(malicious_domain_list))))\n",
    "malicious_domain_without_tld_list = []\n",
    "for malicious_domain_name in malicious_domain_list:\n",
    "    domain_parts = get_domain_parts(malicious_domain_name)[:2]\n",
    "    malicious_domain_without_tld_list.append(''.join(domain_parts[:2]))\n",
    "print(\"Average length (without TLD): \" + str(sum(map(len, malicious_domain_without_tld_list))/float(len(malicious_domain_without_tld_list))))\n",
    "malicious_domain_df['domain'] = malicious_domain_without_tld_list\n",
    "malicious_domain_df['type'] = 'malicious'\n",
    "malicious_domain_df['length']= malicious_domain_df['domain'].str.len()\n",
    "\n",
    "domain_df = pd.concat([benign_domain_df, malicious_domain_df])\n",
    "    "
   ]
  },
  {
   "cell_type": "code",
   "execution_count": 31,
   "id": "33fe5073",
   "metadata": {},
   "outputs": [
    {
     "data": {
      "image/png": "[encoded data removed]",
      "text/plain": [
       "<Figure size 648x504 with 1 Axes>"
      ]
     },
     "metadata": {
      "needs_background": "light"
     },
     "output_type": "display_data"
    }
   ],
   "source": [
    "plt.rcParams[\"figure.figsize\"] = [9, 7]\n",
    "domain_plot = domain_df.boxplot(by='type', figsize=(9, 7), return_type='both',\n",
    "    patch_artist = True)\n",
    "colors = ['g', 'r']\n",
    "for row_key, (ax,row) in domain_plot.iteritems():\n",
    "    ax.set_xlabel('')\n",
    "    for i,box in enumerate(row['boxes']):\n",
    "        box.set_facecolor(colors[i])\n",
    "plt.show()"
   ]
  },
  {
   "cell_type": "markdown",
   "id": "74d921af",
   "metadata": {},
   "source": [
    "## Compare domains by entropy over time"
   ]
  },
  {
   "cell_type": "code",
   "execution_count": 131,
   "id": "5166c06b",
   "metadata": {},
   "outputs": [
    {
     "data": {
      "text/plain": [
       "<AxesSubplot:xlabel='creation_date'>"
      ]
     },
     "execution_count": 131,
     "metadata": {},
     "output_type": "execute_result"
    },
    {
     "data": {
      "image/png": "[encoded data removed]",
      "text/plain": [
       "<Figure size 648x504 with 1 Axes>"
      ]
     },
     "metadata": {
      "needs_background": "light"
     },
     "output_type": "display_data"
    }
   ],
   "source": [
    "joined_df = whois_df.join(entropy_df, lsuffix='_whois', rsuffix='_entropy').drop(columns='type_entropy').rename(columns={'type_whois': 'type'})\n",
    "joined_df.groupby([joined_df['creation_date'].dt.year, 'type'])['entropy_value'].mean().unstack('type').plot.bar()"
   ]
  },
  {
   "cell_type": "markdown",
   "id": "40458dad",
   "metadata": {},
   "source": [
    "## Plot entropy for only malicious non-shared domains"
   ]
  },
  {
   "cell_type": "code",
   "execution_count": 134,
   "id": "3615a006",
   "metadata": {},
   "outputs": [
    {
     "data": {
      "text/plain": [
       "<AxesSubplot:xlabel='creation_date'>"
      ]
     },
     "execution_count": 134,
     "metadata": {},
     "output_type": "execute_result"
    },
    {
     "data": {
      "image/png": "[encoded data removed]",
      "text/plain": [
       "<Figure size 648x504 with 1 Axes>"
      ]
     },
     "metadata": {
      "needs_background": "light"
     },
     "output_type": "display_data"
    }
   ],
   "source": [
    "joined_old_not_shared_malicous_df = old_malicious_not_shared_domains_df.set_index('domain_name').join(entropy_df, lsuffix='_whois', rsuffix='_entropy').drop(columns='type_entropy').rename(columns={'type_whois': 'type'})\n",
    "joined_old_not_shared_malicous_df.groupby([joined_old_not_shared_malicous_df['creation_date'].dt.year, 'type'])['entropy_value'].mean().unstack('type').plot.bar()"
   ]
  },
  {
   "cell_type": "markdown",
   "id": "12e175f5",
   "metadata": {},
   "source": [
    "## To Test\n",
    "* Two-tier evaluation...1) is domain likely DGA? 2) is domain likely to be legitimate but hackable?"
   ]
  },
  {
   "cell_type": "code",
   "execution_count": null,
   "id": "c0dda825",
   "metadata": {},
   "outputs": [],
   "source": []
  }
 ],
 "metadata": {
  "kernelspec": {
   "display_name": "Python 3 (ipykernel)",
   "language": "python",
   "name": "python3"
  },
  "language_info": {
   "codemirror_mode": {
    "name": "ipython",
    "version": 3
   },
   "file_extension": ".py",
   "mimetype": "text/x-python",
   "name": "python",
   "nbconvert_exporter": "python",
   "pygments_lexer": "ipython3",
   "version": "3.10.2"
  }
 },
 "nbformat": 4,
 "nbformat_minor": 5
}

{
 "cells": [
  {
   "cell_type": "code",
   "execution_count": 1,
   "id": "5010e095",
   "metadata": {},
   "outputs": [
    {
     "name": "stderr",
     "output_type": "stream",
     "text": [
      "/var/folders/zk/_l6jn98j1ws6ndxrzcw2dh4m0000gn/T/ipykernel_72185/3777615979.py:1: DeprecationWarning: Importing display from IPython.core.display is deprecated since IPython 7.14, please import from IPython display\n",
      "  from IPython.core.display import display, HTML\n"
     ]
    },
    {
     "data": {
      "text/html": [
       "<style>.container { width:100% !important; }</style>"
      ],
      "text/plain": [
       "<IPython.core.display.HTML object>"
      ]
     },
     "metadata": {},
     "output_type": "display_data"
    }
   ],
   "source": [
    "from IPython.core.display import display, HTML\n",
    "display(HTML(\"<style>.container { width:100% !important; }</style>\"))"
   ]
  },
  {
   "cell_type": "code",
   "execution_count": 160,
   "id": "6126b8f3-8892-4d99-89e2-eea189d7f022",
   "metadata": {},
   "outputs": [],
   "source": [
    "import sys\n",
    "import os\n",
    "import requests\n",
    "import io\n",
    "import folium\n",
    "import collections\n",
    "from folium import plugins\n",
    "import pandas as pd\n",
    "import matplotlib.pyplot as plt\n",
    "from matplotlib.patches import PathPatch\n",
    "from collections import ChainMap\n",
    "import urllib.request\n",
    "import pylab\n",
    "\n",
    "sys.path.append( '/Users/kgray/Downloads/artemis/src/scripts' )\n",
    "from parse_json import parse_json\n",
    "from domain_tools import get_domain_parts"
   ]
  },
  {
   "cell_type": "code",
   "execution_count": 3,
   "id": "716bb9f6",
   "metadata": {},
   "outputs": [],
   "source": [
    "data_dir = '../data/raw/'\n",
    "\n",
    "# Gather a list of data files\n",
    "data_file_list = []\n",
    "for filename in os.listdir(data_dir):\n",
    "    if filename.startswith(\"benign\") | filename.startswith(\"malicious\"):\n",
    "        f = os.path.join(data_dir, filename)\n",
    "        if os.path.isfile(f):\n",
    "            data_file_list.append((f, filename))"
   ]
  },
  {
   "cell_type": "code",
   "execution_count": 4,
   "id": "0bfba15a",
   "metadata": {},
   "outputs": [],
   "source": [
    "# Load data into memory via dict referenced by filename\n",
    "data_file_dict = {}\n",
    "for data_file in data_file_list:\n",
    "    with open(data_file[0]) as f:\n",
    "        data = f.read()\n",
    "        \n",
    "        data_list = []\n",
    "        while True:\n",
    "            obj, remaining = parse_json(data)\n",
    "            data_list.append(obj)\n",
    "            data = remaining\n",
    "            if not remaining.strip():\n",
    "                break\n",
    "        data_file_dict[data_file[1]] = data_list"
   ]
  },
  {
   "cell_type": "markdown",
   "id": "2250fb68",
   "metadata": {},
   "source": [
    "# Whois Data EDA"
   ]
  },
  {
   "cell_type": "code",
   "execution_count": 5,
   "id": "543df9fa",
   "metadata": {},
   "outputs": [
    {
     "data": {
      "text/plain": [
       "{'reseptors.com': {'address': 'REDACTED FOR PRIVACY',\n",
       "  'city': 'REDACTED FOR PRIVACY',\n",
       "  'country': 'KN',\n",
       "  'creation_date': ['2021-12-08 08:53:26', '2021-12-08T08:53:26'],\n",
       "  'dnssec': 'unsigned',\n",
       "  'domain_name': 'RESEPTORS.COM',\n",
       "  'emails': 'domainabuse@tucows.com',\n",
       "  'expiration_date': ['2022-12-08 08:53:26', '2022-12-08T08:53:26'],\n",
       "  'name': 'REDACTED FOR PRIVACY',\n",
       "  'name_servers': ['1-YOU.NJALLA.NO',\n",
       "   '2-CAN.NJALLA.IN',\n",
       "   '3-GET.NJALLA.FO',\n",
       "   '1-you.njalla.no',\n",
       "   '2-can.njalla.in',\n",
       "   '3-get.njalla.fo'],\n",
       "  'org': 'REDACTED FOR PRIVACY',\n",
       "  'referral_url': None,\n",
       "  'registrar': 'TUCOWS, INC.',\n",
       "  'state': 'Charlestown',\n",
       "  'status': ['clientTransferProhibited https://icann.org/epp#clientTransferProhibited',\n",
       "   'clientUpdateProhibited https://icann.org/epp#clientUpdateProhibited'],\n",
       "  'updated_date': ['2021-12-08 08:53:26', '2021-12-08T09:09:15'],\n",
       "  'whois_server': 'whois.tucows.com',\n",
       "  'zipcode': 'REDACTED FOR PRIVACY'}}"
      ]
     },
     "execution_count": 5,
     "metadata": {},
     "output_type": "execute_result"
    }
   ],
   "source": [
    "data_file_dict['malicious_whois_data.txt'][0]"
   ]
  },
  {
   "cell_type": "code",
   "execution_count": 6,
   "id": "4945f0cb",
   "metadata": {},
   "outputs": [],
   "source": [
    "# Load data into dataframe, add type column, and merge\n",
    "benign_whois_data = data_file_dict['benign_whois_data.txt']\n",
    "malicious_whois_data = data_file_dict['malicious_whois_data.txt']\n",
    "\n",
    "benign_whois_dict = {}\n",
    "for domain_whois_dict in data_file_dict['benign_whois_data.txt']:\n",
    "    domain_name = list(domain_whois_dict.keys())[0]\n",
    "    if isinstance(domain_whois_dict[domain_name], dict) and 'creation_date' in domain_whois_dict[domain_name].keys():\n",
    "        if isinstance(domain_whois_dict[domain_name]['creation_date'], list):\n",
    "            domain_creation_date = domain_whois_dict[domain_name]['creation_date'][0]\n",
    "        else:\n",
    "            domain_creation_date = domain_whois_dict[domain_name]['creation_date']\n",
    "        benign_whois_dict[domain_name] = [domain_creation_date]\n",
    "benign_whois_df = pd.DataFrame.from_dict(benign_whois_dict).T.rename(columns={0: 'creation_date'})\n",
    "benign_whois_df['type'] = 'benign'\n",
    "\n",
    "malicious_whois_dict = {}\n",
    "for domain_whois_dict in data_file_dict['malicious_whois_data.txt']:\n",
    "    domain_name = list(domain_whois_dict.keys())[0]\n",
    "    if isinstance(domain_whois_dict[domain_name], dict) and 'creation_date' in domain_whois_dict[domain_name].keys():\n",
    "        if isinstance(domain_whois_dict[domain_name]['creation_date'], list):\n",
    "            domain_creation_date = domain_whois_dict[domain_name]['creation_date'][0]\n",
    "        else:\n",
    "            domain_creation_date = domain_whois_dict[domain_name]['creation_date']\n",
    "        malicious_whois_dict[domain_name] = [domain_creation_date]\n",
    "malicious_whois_df = pd.DataFrame.from_dict(malicious_whois_dict).T.rename(columns={0: 'creation_date'})\n",
    "malicious_whois_df['type'] = 'malicious'\n",
    "\n",
    "whois_df = pd.concat([benign_whois_df, malicious_whois_df])\n",
    "\n",
    "# Fix edge cases in creation_date\n",
    "whois_df.replace('before Aug-1996', '1996-08-01 00:00:00', inplace=True)\n",
    "whois_df.replace('before 19950101', '1995-01-01 00:00:00', inplace=True)\n",
    "# Set creation_data to datetime\n",
    "whois_df['creation_date'] = pd.to_datetime(whois_df['creation_date'])\n"
   ]
  },
  {
   "cell_type": "code",
   "execution_count": 7,
   "id": "e1ec387a",
   "metadata": {},
   "outputs": [
    {
     "data": {
      "text/html": [
       "<div>\n",
       "<style scoped>\n",
       "    .dataframe tbody tr th:only-of-type {\n",
       "        vertical-align: middle;\n",
       "    }\n",
       "\n",
       "    .dataframe tbody tr th {\n",
       "        vertical-align: top;\n",
       "    }\n",
       "\n",
       "    .dataframe thead th {\n",
       "        text-align: right;\n",
       "    }\n",
       "</style>\n",
       "<table border=\"1\" class=\"dataframe\">\n",
       "  <thead>\n",
       "    <tr style=\"text-align: right;\">\n",
       "      <th></th>\n",
       "      <th>creation_date</th>\n",
       "      <th>type</th>\n",
       "    </tr>\n",
       "  </thead>\n",
       "  <tbody>\n",
       "    <tr>\n",
       "      <th>lu.se</th>\n",
       "      <td>1985-01-17 00:00:00</td>\n",
       "      <td>benign</td>\n",
       "    </tr>\n",
       "    <tr>\n",
       "      <th>mitre.org</th>\n",
       "      <td>1985-07-10 04:00:00</td>\n",
       "      <td>benign</td>\n",
       "    </tr>\n",
       "    <tr>\n",
       "      <th>kth.se</th>\n",
       "      <td>1985-08-28 00:00:00</td>\n",
       "      <td>benign</td>\n",
       "    </tr>\n",
       "    <tr>\n",
       "      <th>uchile.cl</th>\n",
       "      <td>1986-01-01 01:01:01</td>\n",
       "      <td>benign</td>\n",
       "    </tr>\n",
       "    <tr>\n",
       "      <th>xerox.com</th>\n",
       "      <td>1986-01-09 05:00:00</td>\n",
       "      <td>benign</td>\n",
       "    </tr>\n",
       "    <tr>\n",
       "      <th>...</th>\n",
       "      <td>...</td>\n",
       "      <td>...</td>\n",
       "    </tr>\n",
       "    <tr>\n",
       "      <th>kmawr.calitina.live</th>\n",
       "      <td>NaT</td>\n",
       "      <td>malicious</td>\n",
       "    </tr>\n",
       "    <tr>\n",
       "      <th>muaefc.calitina.site</th>\n",
       "      <td>NaT</td>\n",
       "      <td>malicious</td>\n",
       "    </tr>\n",
       "    <tr>\n",
       "      <th>1gaaar.calitina.site</th>\n",
       "      <td>NaT</td>\n",
       "      <td>malicious</td>\n",
       "    </tr>\n",
       "    <tr>\n",
       "      <th>7siubu.calitina.live</th>\n",
       "      <td>NaT</td>\n",
       "      <td>malicious</td>\n",
       "    </tr>\n",
       "    <tr>\n",
       "      <th>8jaiew.calinox.monster</th>\n",
       "      <td>NaT</td>\n",
       "      <td>malicious</td>\n",
       "    </tr>\n",
       "  </tbody>\n",
       "</table>\n",
       "<p>5889 rows × 2 columns</p>\n",
       "</div>"
      ],
      "text/plain": [
       "                             creation_date       type\n",
       "lu.se                  1985-01-17 00:00:00     benign\n",
       "mitre.org              1985-07-10 04:00:00     benign\n",
       "kth.se                 1985-08-28 00:00:00     benign\n",
       "uchile.cl              1986-01-01 01:01:01     benign\n",
       "xerox.com              1986-01-09 05:00:00     benign\n",
       "...                                    ...        ...\n",
       "kmawr.calitina.live                    NaT  malicious\n",
       "muaefc.calitina.site                   NaT  malicious\n",
       "1gaaar.calitina.site                   NaT  malicious\n",
       "7siubu.calitina.live                   NaT  malicious\n",
       "8jaiew.calinox.monster                 NaT  malicious\n",
       "\n",
       "[5889 rows x 2 columns]"
      ]
     },
     "execution_count": 7,
     "metadata": {},
     "output_type": "execute_result"
    }
   ],
   "source": [
    "# Review resulting dataframe\n",
    "whois_df.sort_values(by='creation_date', ascending=True)"
   ]
  },
  {
   "cell_type": "code",
   "execution_count": 101,
   "id": "6b2366e2",
   "metadata": {},
   "outputs": [
    {
     "data": {
      "text/html": [
       "<div>\n",
       "<style scoped>\n",
       "    .dataframe tbody tr th:only-of-type {\n",
       "        vertical-align: middle;\n",
       "    }\n",
       "\n",
       "    .dataframe tbody tr th {\n",
       "        vertical-align: top;\n",
       "    }\n",
       "\n",
       "    .dataframe thead th {\n",
       "        text-align: right;\n",
       "    }\n",
       "</style>\n",
       "<table border=\"1\" class=\"dataframe\">\n",
       "  <thead>\n",
       "    <tr style=\"text-align: right;\">\n",
       "      <th></th>\n",
       "      <th>creation_date</th>\n",
       "      <th>type</th>\n",
       "      <th>domain_age</th>\n",
       "    </tr>\n",
       "  </thead>\n",
       "  <tbody>\n",
       "    <tr>\n",
       "      <th>google.com</th>\n",
       "      <td>1997-09-15 04:00:00</td>\n",
       "      <td>benign</td>\n",
       "      <td>24.0</td>\n",
       "    </tr>\n",
       "    <tr>\n",
       "      <th>facebook.com</th>\n",
       "      <td>1997-03-29 05:00:00</td>\n",
       "      <td>benign</td>\n",
       "      <td>24.0</td>\n",
       "    </tr>\n",
       "    <tr>\n",
       "      <th>youtube.com</th>\n",
       "      <td>2005-02-15 05:13:12</td>\n",
       "      <td>benign</td>\n",
       "      <td>17.0</td>\n",
       "    </tr>\n",
       "    <tr>\n",
       "      <th>twitter.com</th>\n",
       "      <td>2000-01-21 16:28:17</td>\n",
       "      <td>benign</td>\n",
       "      <td>22.0</td>\n",
       "    </tr>\n",
       "    <tr>\n",
       "      <th>instagram.com</th>\n",
       "      <td>2004-06-04 13:37:18</td>\n",
       "      <td>benign</td>\n",
       "      <td>17.0</td>\n",
       "    </tr>\n",
       "    <tr>\n",
       "      <th>...</th>\n",
       "      <td>...</td>\n",
       "      <td>...</td>\n",
       "      <td>...</td>\n",
       "    </tr>\n",
       "    <tr>\n",
       "      <th>ewakyc72.top</th>\n",
       "      <td>2021-07-19 06:40:33</td>\n",
       "      <td>malicious</td>\n",
       "      <td>0.0</td>\n",
       "    </tr>\n",
       "    <tr>\n",
       "      <th>ewazqx71.top</th>\n",
       "      <td>2021-07-19 06:40:35</td>\n",
       "      <td>malicious</td>\n",
       "      <td>0.0</td>\n",
       "    </tr>\n",
       "    <tr>\n",
       "      <th>rebornx.duckdns.org</th>\n",
       "      <td>2013-04-12 19:58:56</td>\n",
       "      <td>malicious</td>\n",
       "      <td>8.0</td>\n",
       "    </tr>\n",
       "    <tr>\n",
       "      <th>mail.dipiluminacion.com</th>\n",
       "      <td>2016-07-24 19:18:34</td>\n",
       "      <td>malicious</td>\n",
       "      <td>5.0</td>\n",
       "    </tr>\n",
       "    <tr>\n",
       "      <th>tzitziklishop.ddns.net</th>\n",
       "      <td>2001-06-28 16:04:59</td>\n",
       "      <td>malicious</td>\n",
       "      <td>20.0</td>\n",
       "    </tr>\n",
       "  </tbody>\n",
       "</table>\n",
       "<p>5889 rows × 3 columns</p>\n",
       "</div>"
      ],
      "text/plain": [
       "                              creation_date       type  domain_age\n",
       "google.com              1997-09-15 04:00:00     benign        24.0\n",
       "facebook.com            1997-03-29 05:00:00     benign        24.0\n",
       "youtube.com             2005-02-15 05:13:12     benign        17.0\n",
       "twitter.com             2000-01-21 16:28:17     benign        22.0\n",
       "instagram.com           2004-06-04 13:37:18     benign        17.0\n",
       "...                                     ...        ...         ...\n",
       "ewakyc72.top            2021-07-19 06:40:33  malicious         0.0\n",
       "ewazqx71.top            2021-07-19 06:40:35  malicious         0.0\n",
       "rebornx.duckdns.org     2013-04-12 19:58:56  malicious         8.0\n",
       "mail.dipiluminacion.com 2016-07-24 19:18:34  malicious         5.0\n",
       "tzitziklishop.ddns.net  2001-06-28 16:04:59  malicious        20.0\n",
       "\n",
       "[5889 rows x 3 columns]"
      ]
     },
     "execution_count": 101,
     "metadata": {},
     "output_type": "execute_result"
    }
   ],
   "source": [
    "# Create age (years) column\n",
    "now = pd.Timestamp('now')\n",
    "whois_df['domain_age'] = (now - whois_df['creation_date']).astype('<m8[Y]')\n",
    "whois_df"
   ]
  },
  {
   "cell_type": "code",
   "execution_count": 8,
   "id": "3d051830",
   "metadata": {},
   "outputs": [
    {
     "data": {
      "text/plain": [
       "<AxesSubplot:xlabel='creation_date'>"
      ]
     },
     "execution_count": 8,
     "metadata": {},
     "output_type": "execute_result"
    },
    {
     "data": {
      "image/png": "[encoded data removed]",
      "text/plain": [
       "<Figure size 432x288 with 1 Axes>"
      ]
     },
     "metadata": {
      "needs_background": "light"
     },
     "output_type": "display_data"
    }
   ],
   "source": [
    "whois_df.groupby([whois_df['creation_date'].dt.year, 'type']).count().unstack('type').plot.bar()"
   ]
  },
  {
   "cell_type": "code",
   "execution_count": 9,
   "id": "69a671fc",
   "metadata": {},
   "outputs": [
    {
     "data": {
      "text/plain": [
       "root_domain\n",
       "ddns.net         38\n",
       "duckdns.org      26\n",
       "hopto.org        12\n",
       "nsupdate.info    10\n",
       "camdvr.org        4\n",
       "dvrlists.com      4\n",
       "zapto.org         4\n",
       "azureedge.net     3\n",
       "publicvm.com      2\n",
       "workers.dev       2\n",
       "Name: domain_name, dtype: int64"
      ]
     },
     "execution_count": 9,
     "metadata": {},
     "output_type": "execute_result"
    }
   ],
   "source": [
    "# Create a new dataframe with old malicious domains\n",
    "old_malicious_domains_df = whois_df[(whois_df['creation_date'] < '2021') & (whois_df['type'] == 'malicious')]\n",
    "#print(old_malicious_domains_df)\n",
    "\n",
    "# Root the domain, group, and review what concentrations exist.\n",
    "old_malicious_domains_df = old_malicious_domains_df.reset_index().rename(columns={'index': 'domain_name'})\n",
    "old_malicious_domains_df['root_domain'] = old_malicious_domains_df['domain_name'].apply(lambda x: '.'.join(get_domain_parts(x)[1:]))\n",
    "old_malicious_domains_df.groupby('root_domain')['domain_name'].count().sort_values(ascending=False).head(10)"
   ]
  },
  {
   "cell_type": "markdown",
   "id": "8b403bcc",
   "metadata": {},
   "source": [
    "All 10 of the top used \"old\" malicious domains are shared (e.g., DDNS). "
   ]
  },
  {
   "cell_type": "code",
   "execution_count": 10,
   "id": "a3e5ac04",
   "metadata": {},
   "outputs": [
    {
     "name": "stderr",
     "output_type": "stream",
     "text": [
      "/Library/Frameworks/Python.framework/Versions/3.10/lib/python3.10/site-packages/urllib3/connectionpool.py:1043: InsecureRequestWarning: Unverified HTTPS request is being made to host 'raw.githubusercontent.com'. Adding certificate verification is strongly advised. See: https://urllib3.readthedocs.io/en/1.26.x/advanced-usage.html#ssl-warnings\n",
      "  warnings.warn(\n",
      "/var/folders/zk/_l6jn98j1ws6ndxrzcw2dh4m0000gn/T/ipykernel_72185/2515696093.py:14: FutureWarning: The frame.append method is deprecated and will be removed from pandas in a future version. Use pandas.concat instead.\n",
      "  shared_domains_df = shared_domains_df.append(pd.DataFrame(other_shared_domains, columns=['shared_domain_name'])).reset_index().drop(columns=\"index\")\n"
     ]
    },
    {
     "data": {
      "text/html": [
       "<div>\n",
       "<style scoped>\n",
       "    .dataframe tbody tr th:only-of-type {\n",
       "        vertical-align: middle;\n",
       "    }\n",
       "\n",
       "    .dataframe tbody tr th {\n",
       "        vertical-align: top;\n",
       "    }\n",
       "\n",
       "    .dataframe thead th {\n",
       "        text-align: right;\n",
       "    }\n",
       "</style>\n",
       "<table border=\"1\" class=\"dataframe\">\n",
       "  <thead>\n",
       "    <tr style=\"text-align: right;\">\n",
       "      <th></th>\n",
       "      <th>shared_domain_name</th>\n",
       "    </tr>\n",
       "  </thead>\n",
       "  <tbody>\n",
       "    <tr>\n",
       "      <th>0</th>\n",
       "      <td>10dv.com</td>\n",
       "    </tr>\n",
       "    <tr>\n",
       "      <th>1</th>\n",
       "      <td>3utilities.com</td>\n",
       "    </tr>\n",
       "    <tr>\n",
       "      <th>2</th>\n",
       "      <td>abledns.com</td>\n",
       "    </tr>\n",
       "    <tr>\n",
       "      <th>3</th>\n",
       "      <td>abmetalmecanica.com</td>\n",
       "    </tr>\n",
       "    <tr>\n",
       "      <th>4</th>\n",
       "      <td>activewaiting.com</td>\n",
       "    </tr>\n",
       "    <tr>\n",
       "      <th>...</th>\n",
       "      <td>...</td>\n",
       "    </tr>\n",
       "    <tr>\n",
       "      <th>2324</th>\n",
       "      <td>4nmn.com</td>\n",
       "    </tr>\n",
       "    <tr>\n",
       "      <th>2325</th>\n",
       "      <td>didns.ru</td>\n",
       "    </tr>\n",
       "    <tr>\n",
       "      <th>2326</th>\n",
       "      <td>dynnamn.ru</td>\n",
       "    </tr>\n",
       "    <tr>\n",
       "      <th>2327</th>\n",
       "      <td>azureedge.net</td>\n",
       "    </tr>\n",
       "    <tr>\n",
       "      <th>2328</th>\n",
       "      <td>amazonaws.com</td>\n",
       "    </tr>\n",
       "  </tbody>\n",
       "</table>\n",
       "<p>2329 rows × 1 columns</p>\n",
       "</div>"
      ],
      "text/plain": [
       "       shared_domain_name\n",
       "0                10dv.com\n",
       "1          3utilities.com\n",
       "2             abledns.com\n",
       "3     abmetalmecanica.com\n",
       "4       activewaiting.com\n",
       "...                   ...\n",
       "2324             4nmn.com\n",
       "2325             didns.ru\n",
       "2326           dynnamn.ru\n",
       "2327        azureedge.net\n",
       "2328        amazonaws.com\n",
       "\n",
       "[2329 rows x 1 columns]"
      ]
     },
     "execution_count": 10,
     "metadata": {},
     "output_type": "execute_result"
    }
   ],
   "source": [
    "# Load a maintained list of DDNS domains. Will not contain all shared domains, but will contain a lot of the dynamic providers.\n",
    "# Known avialable options\n",
    "# https://github.com/neu5ron/dynamic_dns_lists # Missing a lot of the domains\n",
    "# https://github.com/stamparm/maltrail/blob/master/trails/static/suspicious/dynamic_domain.txt\n",
    "\n",
    "ddns_domain_list_url = 'https://raw.githubusercontent.com/stamparm/maltrail/master/trails/static/suspicious/dynamic_domain.txt'\n",
    "\n",
    "ddns_url_response = requests.get(ddns_domain_list_url, verify = False).content\n",
    "shared_domains_df = pd.read_csv(io.StringIO(ddns_url_response.decode('utf-8')), comment='#', header=None)\n",
    "shared_domains_df.rename(columns={0: \"shared_domain_name\"}, inplace=True)\n",
    "\n",
    "# Add other known shared domains to DataFrame\n",
    "other_shared_domains = ['azureedge.net', 'amazonaws.com']\n",
    "shared_domains_df = shared_domains_df.append(pd.DataFrame(other_shared_domains, columns=['shared_domain_name'])).reset_index().drop(columns=\"index\")\n",
    "shared_domains_df"
   ]
  },
  {
   "cell_type": "code",
   "execution_count": 11,
   "id": "e05e4e70",
   "metadata": {},
   "outputs": [
    {
     "data": {
      "text/plain": [
       "45"
      ]
     },
     "execution_count": 11,
     "metadata": {},
     "output_type": "execute_result"
    }
   ],
   "source": [
    "old_malicious_not_shared_domains_df = old_malicious_domains_df[~old_malicious_domains_df['root_domain'].isin(shared_domains_df['shared_domain_name'])]\n",
    "\n",
    "# Number of \"old\" malicious domains that exist after filtering out known shared domains.\n",
    "len(old_malicious_not_shared_domains_df)"
   ]
  },
  {
   "cell_type": "markdown",
   "id": "f785e3af",
   "metadata": {},
   "source": [
    "## Observations\n",
    "* ~~Need to consider shared domains (e.g., ddns.net) when using age to determine likelihood that domain was registered for malicious purposes.~~\n",
    "* A large number of malicious domains are new.\n",
    "* Need to add a feature for \"is_shared_domain\"."
   ]
  },
  {
   "cell_type": "markdown",
   "id": "0b0d295d",
   "metadata": {},
   "source": [
    "# DNS Resolution Data EDA"
   ]
  },
  {
   "cell_type": "code",
   "execution_count": 12,
   "id": "cdcfe4f6",
   "metadata": {},
   "outputs": [
    {
     "data": {
      "text/plain": [
       "{'reseptors.com': {'A': {'IP': '164.90.204.224', 'Count': 1},\n",
       "  'MX': {'IP': 'NA', 'Count': 0}}}"
      ]
     },
     "execution_count": 12,
     "metadata": {},
     "output_type": "execute_result"
    }
   ],
   "source": [
    "data_file_dict['malicious_dns_resolution_data.txt'][0]"
   ]
  },
  {
   "cell_type": "code",
   "execution_count": 13,
   "id": "b602a9b1",
   "metadata": {},
   "outputs": [],
   "source": [
    "# Load data into dataframe, add type column, and merge\n",
    "benign_dns_resolution_data = data_file_dict['benign_dns_resolution_data.txt']\n",
    "malicious_dns_resolution_data = data_file_dict['malicious_dns_resolution_data.txt']\n",
    "\n",
    "reformed_benign_dns_resolution_dict = {}\n",
    "for dns_resolution_dict in benign_dns_resolution_data:\n",
    "    for outerKey, innerDict in dns_resolution_dict.items():\n",
    "        for innerKey, values in innerDict.items():\n",
    "            reformed_benign_dns_resolution_dict[(outerKey, innerKey)] = values\n",
    "\n",
    "benign_dns_resolution_df = pd.DataFrame(reformed_benign_dns_resolution_dict).T.stack().unstack(level=0).T\n",
    "benign_dns_resolution_df['type'] = 'benign'\n",
    "\n",
    "reformed_malicious_dns_resolution_dict = {}\n",
    "for dns_resolution_dict in malicious_dns_resolution_data:\n",
    "    for outerKey, innerDict in dns_resolution_dict.items():\n",
    "        for innerKey, values in innerDict.items():\n",
    "            reformed_malicious_dns_resolution_dict[(outerKey, innerKey)] = values\n",
    "\n",
    "malicious_dns_resolution_df = pd.DataFrame(reformed_malicious_dns_resolution_dict).T.stack().unstack(level=0).T\n",
    "malicious_dns_resolution_df['type'] = 'malicious'\n",
    "\n",
    "dns_resolution_df = pd.concat([benign_dns_resolution_df, malicious_dns_resolution_df])"
   ]
  },
  {
   "cell_type": "code",
   "execution_count": 14,
   "id": "2f22326d",
   "metadata": {},
   "outputs": [
    {
     "data": {
      "text/html": [
       "<div>\n",
       "<style scoped>\n",
       "    .dataframe tbody tr th:only-of-type {\n",
       "        vertical-align: middle;\n",
       "    }\n",
       "\n",
       "    .dataframe tbody tr th {\n",
       "        vertical-align: top;\n",
       "    }\n",
       "\n",
       "    .dataframe thead tr th {\n",
       "        text-align: left;\n",
       "    }\n",
       "</style>\n",
       "<table border=\"1\" class=\"dataframe\">\n",
       "  <thead>\n",
       "    <tr>\n",
       "      <th></th>\n",
       "      <th colspan=\"2\" halign=\"left\">A</th>\n",
       "      <th colspan=\"2\" halign=\"left\">MX</th>\n",
       "      <th>type</th>\n",
       "    </tr>\n",
       "    <tr>\n",
       "      <th></th>\n",
       "      <th>IP</th>\n",
       "      <th>Count</th>\n",
       "      <th>IP</th>\n",
       "      <th>Count</th>\n",
       "      <th></th>\n",
       "    </tr>\n",
       "  </thead>\n",
       "  <tbody>\n",
       "    <tr>\n",
       "      <th>000webhost.com</th>\n",
       "      <td>104.19.184.120</td>\n",
       "      <td>2</td>\n",
       "      <td>64.233.184.27</td>\n",
       "      <td>5</td>\n",
       "      <td>benign</td>\n",
       "    </tr>\n",
       "    <tr>\n",
       "      <th>000webhostapp.com</th>\n",
       "      <td>153.92.0.100</td>\n",
       "      <td>1</td>\n",
       "      <td>173.194.66.26</td>\n",
       "      <td>1</td>\n",
       "      <td>benign</td>\n",
       "    </tr>\n",
       "    <tr>\n",
       "      <th>1.bp.blogspot.com</th>\n",
       "      <td>142.250.191.161</td>\n",
       "      <td>1</td>\n",
       "      <td>NA</td>\n",
       "      <td>0</td>\n",
       "      <td>benign</td>\n",
       "    </tr>\n",
       "    <tr>\n",
       "      <th>123-reg-new-domain.co.uk</th>\n",
       "      <td>NA</td>\n",
       "      <td>0</td>\n",
       "      <td>NA</td>\n",
       "      <td>0</td>\n",
       "      <td>benign</td>\n",
       "    </tr>\n",
       "    <tr>\n",
       "      <th>12371.cn</th>\n",
       "      <td>157.185.177.205</td>\n",
       "      <td>2</td>\n",
       "      <td>NA</td>\n",
       "      <td>0</td>\n",
       "      <td>benign</td>\n",
       "    </tr>\n",
       "    <tr>\n",
       "      <th>...</th>\n",
       "      <td>...</td>\n",
       "      <td>...</td>\n",
       "      <td>...</td>\n",
       "      <td>...</td>\n",
       "      <td>...</td>\n",
       "    </tr>\n",
       "    <tr>\n",
       "      <th>zuwevex.com</th>\n",
       "      <td>NA</td>\n",
       "      <td>0</td>\n",
       "      <td>NA</td>\n",
       "      <td>0</td>\n",
       "      <td>malicious</td>\n",
       "    </tr>\n",
       "    <tr>\n",
       "      <th>zyokao27.top</th>\n",
       "      <td>NA</td>\n",
       "      <td>0</td>\n",
       "      <td>NA</td>\n",
       "      <td>0</td>\n",
       "      <td>malicious</td>\n",
       "    </tr>\n",
       "    <tr>\n",
       "      <th>zyonou41.top</th>\n",
       "      <td>NA</td>\n",
       "      <td>0</td>\n",
       "      <td>NA</td>\n",
       "      <td>0</td>\n",
       "      <td>malicious</td>\n",
       "    </tr>\n",
       "    <tr>\n",
       "      <th>zyoskv38.top</th>\n",
       "      <td>NA</td>\n",
       "      <td>0</td>\n",
       "      <td>NA</td>\n",
       "      <td>0</td>\n",
       "      <td>malicious</td>\n",
       "    </tr>\n",
       "    <tr>\n",
       "      <th>zyoyol62.top</th>\n",
       "      <td>NA</td>\n",
       "      <td>0</td>\n",
       "      <td>NA</td>\n",
       "      <td>0</td>\n",
       "      <td>malicious</td>\n",
       "    </tr>\n",
       "  </tbody>\n",
       "</table>\n",
       "<p>6082 rows × 5 columns</p>\n",
       "</div>"
      ],
      "text/plain": [
       "                                        A                   MX        \\\n",
       "                                       IP Count             IP Count   \n",
       "000webhost.com             104.19.184.120     2  64.233.184.27     5   \n",
       "000webhostapp.com            153.92.0.100     1  173.194.66.26     1   \n",
       "1.bp.blogspot.com         142.250.191.161     1             NA     0   \n",
       "123-reg-new-domain.co.uk               NA     0             NA     0   \n",
       "12371.cn                  157.185.177.205     2             NA     0   \n",
       "...                                   ...   ...            ...   ...   \n",
       "zuwevex.com                            NA     0             NA     0   \n",
       "zyokao27.top                           NA     0             NA     0   \n",
       "zyonou41.top                           NA     0             NA     0   \n",
       "zyoskv38.top                           NA     0             NA     0   \n",
       "zyoyol62.top                           NA     0             NA     0   \n",
       "\n",
       "                               type  \n",
       "                                     \n",
       "000webhost.com               benign  \n",
       "000webhostapp.com            benign  \n",
       "1.bp.blogspot.com            benign  \n",
       "123-reg-new-domain.co.uk     benign  \n",
       "12371.cn                     benign  \n",
       "...                             ...  \n",
       "zuwevex.com               malicious  \n",
       "zyokao27.top              malicious  \n",
       "zyonou41.top              malicious  \n",
       "zyoskv38.top              malicious  \n",
       "zyoyol62.top              malicious  \n",
       "\n",
       "[6082 rows x 5 columns]"
      ]
     },
     "execution_count": 14,
     "metadata": {},
     "output_type": "execute_result"
    }
   ],
   "source": [
    "dns_resolution_df"
   ]
  },
  {
   "cell_type": "code",
   "execution_count": 15,
   "id": "dce6649c",
   "metadata": {},
   "outputs": [
    {
     "data": {
      "text/html": [
       "<div>\n",
       "<style scoped>\n",
       "    .dataframe tbody tr th:only-of-type {\n",
       "        vertical-align: middle;\n",
       "    }\n",
       "\n",
       "    .dataframe tbody tr th {\n",
       "        vertical-align: top;\n",
       "    }\n",
       "\n",
       "    .dataframe thead tr th {\n",
       "        text-align: left;\n",
       "    }\n",
       "\n",
       "    .dataframe thead tr:last-of-type th {\n",
       "        text-align: right;\n",
       "    }\n",
       "</style>\n",
       "<table border=\"1\" class=\"dataframe\">\n",
       "  <thead>\n",
       "    <tr>\n",
       "      <th></th>\n",
       "      <th colspan=\"8\" halign=\"left\">A</th>\n",
       "      <th colspan=\"8\" halign=\"left\">MX</th>\n",
       "      <th colspan=\"4\" halign=\"left\">type</th>\n",
       "    </tr>\n",
       "    <tr>\n",
       "      <th></th>\n",
       "      <th colspan=\"4\" halign=\"left\">IP</th>\n",
       "      <th colspan=\"4\" halign=\"left\">Count</th>\n",
       "      <th colspan=\"4\" halign=\"left\">IP</th>\n",
       "      <th colspan=\"4\" halign=\"left\">Count</th>\n",
       "      <th colspan=\"4\" halign=\"left\"></th>\n",
       "    </tr>\n",
       "    <tr>\n",
       "      <th></th>\n",
       "      <th>count</th>\n",
       "      <th>unique</th>\n",
       "      <th>top</th>\n",
       "      <th>freq</th>\n",
       "      <th>count</th>\n",
       "      <th>unique</th>\n",
       "      <th>top</th>\n",
       "      <th>freq</th>\n",
       "      <th>count</th>\n",
       "      <th>unique</th>\n",
       "      <th>top</th>\n",
       "      <th>freq</th>\n",
       "      <th>count</th>\n",
       "      <th>unique</th>\n",
       "      <th>top</th>\n",
       "      <th>freq</th>\n",
       "      <th>count</th>\n",
       "      <th>unique</th>\n",
       "      <th>top</th>\n",
       "      <th>freq</th>\n",
       "    </tr>\n",
       "    <tr>\n",
       "      <th>type</th>\n",
       "      <th></th>\n",
       "      <th></th>\n",
       "      <th></th>\n",
       "      <th></th>\n",
       "      <th></th>\n",
       "      <th></th>\n",
       "      <th></th>\n",
       "      <th></th>\n",
       "      <th></th>\n",
       "      <th></th>\n",
       "      <th></th>\n",
       "      <th></th>\n",
       "      <th></th>\n",
       "      <th></th>\n",
       "      <th></th>\n",
       "      <th></th>\n",
       "      <th></th>\n",
       "      <th></th>\n",
       "      <th></th>\n",
       "      <th></th>\n",
       "    </tr>\n",
       "  </thead>\n",
       "  <tbody>\n",
       "    <tr>\n",
       "      <th>benign</th>\n",
       "      <td>3687</td>\n",
       "      <td>2987</td>\n",
       "      <td>NA</td>\n",
       "      <td>182</td>\n",
       "      <td>3687</td>\n",
       "      <td>11</td>\n",
       "      <td>1</td>\n",
       "      <td>1836</td>\n",
       "      <td>3687</td>\n",
       "      <td>1271</td>\n",
       "      <td>NA</td>\n",
       "      <td>482</td>\n",
       "      <td>3687</td>\n",
       "      <td>16</td>\n",
       "      <td>1</td>\n",
       "      <td>1022</td>\n",
       "      <td>3687</td>\n",
       "      <td>1</td>\n",
       "      <td>benign</td>\n",
       "      <td>3687</td>\n",
       "    </tr>\n",
       "    <tr>\n",
       "      <th>malicious</th>\n",
       "      <td>2395</td>\n",
       "      <td>426</td>\n",
       "      <td>NA</td>\n",
       "      <td>1320</td>\n",
       "      <td>2395</td>\n",
       "      <td>6</td>\n",
       "      <td>0</td>\n",
       "      <td>1320</td>\n",
       "      <td>2395</td>\n",
       "      <td>52</td>\n",
       "      <td>NA</td>\n",
       "      <td>2283</td>\n",
       "      <td>2395</td>\n",
       "      <td>7</td>\n",
       "      <td>0</td>\n",
       "      <td>2275</td>\n",
       "      <td>2395</td>\n",
       "      <td>1</td>\n",
       "      <td>malicious</td>\n",
       "      <td>2395</td>\n",
       "    </tr>\n",
       "  </tbody>\n",
       "</table>\n",
       "</div>"
      ],
      "text/plain": [
       "              A                                            MX             \\\n",
       "             IP                  Count                     IP              \n",
       "          count unique top  freq count unique top  freq count unique top   \n",
       "type                                                                       \n",
       "benign     3687   2987  NA   182  3687     11   1  1836  3687   1271  NA   \n",
       "malicious  2395    426  NA  1320  2395      6   0  1320  2395     52  NA   \n",
       "\n",
       "                                        type                          \n",
       "                Count                                                 \n",
       "           freq count unique top  freq count unique        top  freq  \n",
       "type                                                                  \n",
       "benign      482  3687     16   1  1022  3687      1     benign  3687  \n",
       "malicious  2283  2395      7   0  2275  2395      1  malicious  2395  "
      ]
     },
     "execution_count": 15,
     "metadata": {},
     "output_type": "execute_result"
    }
   ],
   "source": [
    "dns_resolution_df.groupby('type').describe()"
   ]
  },
  {
   "cell_type": "code",
   "execution_count": 16,
   "id": "06abb7a6",
   "metadata": {},
   "outputs": [
    {
     "name": "stdout",
     "output_type": "stream",
     "text": [
      "1    1836\n",
      "2     761\n",
      "4     520\n",
      "3     286\n",
      "0     182\n",
      "Name: (A, Count), dtype: int64\n",
      "1    1022\n",
      "2     896\n",
      "5     783\n",
      "0     441\n",
      "4     176\n",
      "Name: (MX, Count), dtype: int64\n",
      "0     1320\n",
      "1      972\n",
      "2       97\n",
      "10       4\n",
      "4        1\n",
      "Name: (A, Count), dtype: int64\n",
      "0    2275\n",
      "1      57\n",
      "5      51\n",
      "2       6\n",
      "3       3\n",
      "Name: (MX, Count), dtype: int64\n"
     ]
    }
   ],
   "source": [
    "# Top Benign A Record Counts\n",
    "print(dns_resolution_df[dns_resolution_df['type'] == 'benign'].iloc[:, dns_resolution_df.columns.get_level_values(1)=='Count'][('A','Count')].value_counts().nlargest(5))\n",
    "# Top Benign MX Record Counts\n",
    "print(dns_resolution_df[dns_resolution_df['type'] == 'benign'].iloc[:, dns_resolution_df.columns.get_level_values(1)=='Count'][('MX','Count')].value_counts().nlargest(5))\n",
    "# Top Malicious A Record Counts\n",
    "print(dns_resolution_df[dns_resolution_df['type'] == 'malicious'].iloc[:, dns_resolution_df.columns.get_level_values(1)=='Count'][('A','Count')].value_counts().nlargest(5))\n",
    "# Top Malicious MX Record Counts\n",
    "print(dns_resolution_df[dns_resolution_df['type'] == 'malicious'].iloc[:, dns_resolution_df.columns.get_level_values(1)=='Count'][('MX','Count')].value_counts().nlargest(5))\n"
   ]
  },
  {
   "cell_type": "markdown",
   "id": "a8db5a02",
   "metadata": {},
   "source": [
    "## Observations\n",
    "* "
   ]
  },
  {
   "cell_type": "markdown",
   "id": "59364f5e",
   "metadata": {},
   "source": [
    "# IP Data EDA"
   ]
  },
  {
   "cell_type": "code",
   "execution_count": 17,
   "id": "cc6ba7d4",
   "metadata": {},
   "outputs": [
    {
     "data": {
      "text/plain": [
       "{'google.com': {'A': {'CC': 'US', 'Org': 'Google LLC'},\n",
       "  'MX': {'CC': 'US', 'Org': 'Google LLC'}}}"
      ]
     },
     "execution_count": 17,
     "metadata": {},
     "output_type": "execute_result"
    }
   ],
   "source": [
    "data_file_dict['benign_ip_data.txt'][0]"
   ]
  },
  {
   "cell_type": "code",
   "execution_count": 18,
   "id": "191f47d6",
   "metadata": {},
   "outputs": [],
   "source": [
    "# Load data into dataframe, add type column, and merge\n",
    "benign_ip_data = data_file_dict['benign_ip_data.txt']\n",
    "malicious_ip_data = data_file_dict['malicious_ip_data.txt']\n",
    "\n",
    "\n",
    "reformed_benign_ip_dict = {}\n",
    "for ip_dict in benign_ip_data:\n",
    "    for outerKey, innerDict in ip_dict.items():\n",
    "        for innerKey, values in innerDict.items():\n",
    "            reformed_benign_ip_dict[(outerKey, innerKey)] = values\n",
    "\n",
    "benign_ip_df = pd.DataFrame(reformed_benign_ip_dict).T.stack().unstack(level=0).T\n",
    "benign_ip_df['type'] = 'benign'\n",
    "\n",
    "reformed_malicious_ip_dict = {}\n",
    "for ip_dict in malicious_ip_data:\n",
    "    for outerKey, innerDict in ip_dict.items():\n",
    "        for innerKey, values in innerDict.items():\n",
    "            reformed_malicious_ip_dict[(outerKey, innerKey)] = values\n",
    "\n",
    "malicious_ip_df = pd.DataFrame(reformed_malicious_ip_dict).T.stack().unstack(level=0).T\n",
    "malicious_ip_df['type'] = 'malicious'\n",
    "\n",
    "ip_df = pd.concat([benign_ip_df, malicious_ip_df])"
   ]
  },
  {
   "cell_type": "code",
   "execution_count": 19,
   "id": "3efffda9",
   "metadata": {},
   "outputs": [
    {
     "data": {
      "text/html": [
       "<div>\n",
       "<style scoped>\n",
       "    .dataframe tbody tr th:only-of-type {\n",
       "        vertical-align: middle;\n",
       "    }\n",
       "\n",
       "    .dataframe tbody tr th {\n",
       "        vertical-align: top;\n",
       "    }\n",
       "\n",
       "    .dataframe thead tr th {\n",
       "        text-align: left;\n",
       "    }\n",
       "</style>\n",
       "<table border=\"1\" class=\"dataframe\">\n",
       "  <thead>\n",
       "    <tr>\n",
       "      <th></th>\n",
       "      <th colspan=\"2\" halign=\"left\">A</th>\n",
       "      <th colspan=\"2\" halign=\"left\">MX</th>\n",
       "      <th>type</th>\n",
       "    </tr>\n",
       "    <tr>\n",
       "      <th></th>\n",
       "      <th>CC</th>\n",
       "      <th>Org</th>\n",
       "      <th>CC</th>\n",
       "      <th>Org</th>\n",
       "      <th></th>\n",
       "    </tr>\n",
       "  </thead>\n",
       "  <tbody>\n",
       "    <tr>\n",
       "      <th>000webhost.com</th>\n",
       "      <td>US</td>\n",
       "      <td>Cloudflare, Inc.</td>\n",
       "      <td>US</td>\n",
       "      <td>Google LLC</td>\n",
       "      <td>benign</td>\n",
       "    </tr>\n",
       "    <tr>\n",
       "      <th>000webhostapp.com</th>\n",
       "      <td>CY</td>\n",
       "      <td>Hostinger NOC</td>\n",
       "      <td>US</td>\n",
       "      <td>Google LLC</td>\n",
       "      <td>benign</td>\n",
       "    </tr>\n",
       "    <tr>\n",
       "      <th>1.bp.blogspot.com</th>\n",
       "      <td>US</td>\n",
       "      <td>Google LLC</td>\n",
       "      <td>NA</td>\n",
       "      <td>NA</td>\n",
       "      <td>benign</td>\n",
       "    </tr>\n",
       "    <tr>\n",
       "      <th>123-reg-new-domain.co.uk</th>\n",
       "      <td>NA</td>\n",
       "      <td>NA</td>\n",
       "      <td>NA</td>\n",
       "      <td>NA</td>\n",
       "      <td>benign</td>\n",
       "    </tr>\n",
       "    <tr>\n",
       "      <th>12371.cn</th>\n",
       "      <td>US</td>\n",
       "      <td>QUANTIL NETWORKS INC</td>\n",
       "      <td>NA</td>\n",
       "      <td>NA</td>\n",
       "      <td>benign</td>\n",
       "    </tr>\n",
       "    <tr>\n",
       "      <th>...</th>\n",
       "      <td>...</td>\n",
       "      <td>...</td>\n",
       "      <td>...</td>\n",
       "      <td>...</td>\n",
       "      <td>...</td>\n",
       "    </tr>\n",
       "    <tr>\n",
       "      <th>zuwevex.com</th>\n",
       "      <td>NA</td>\n",
       "      <td>NA</td>\n",
       "      <td>NA</td>\n",
       "      <td>NA</td>\n",
       "      <td>malicious</td>\n",
       "    </tr>\n",
       "    <tr>\n",
       "      <th>zyokao27.top</th>\n",
       "      <td>NA</td>\n",
       "      <td>NA</td>\n",
       "      <td>NA</td>\n",
       "      <td>NA</td>\n",
       "      <td>malicious</td>\n",
       "    </tr>\n",
       "    <tr>\n",
       "      <th>zyonou41.top</th>\n",
       "      <td>NA</td>\n",
       "      <td>NA</td>\n",
       "      <td>NA</td>\n",
       "      <td>NA</td>\n",
       "      <td>malicious</td>\n",
       "    </tr>\n",
       "    <tr>\n",
       "      <th>zyoskv38.top</th>\n",
       "      <td>NA</td>\n",
       "      <td>NA</td>\n",
       "      <td>NA</td>\n",
       "      <td>NA</td>\n",
       "      <td>malicious</td>\n",
       "    </tr>\n",
       "    <tr>\n",
       "      <th>zyoyol62.top</th>\n",
       "      <td>NA</td>\n",
       "      <td>NA</td>\n",
       "      <td>NA</td>\n",
       "      <td>NA</td>\n",
       "      <td>malicious</td>\n",
       "    </tr>\n",
       "  </tbody>\n",
       "</table>\n",
       "<p>6082 rows × 5 columns</p>\n",
       "</div>"
      ],
      "text/plain": [
       "                           A                        MX                   type\n",
       "                          CC                   Org  CC         Org           \n",
       "000webhost.com            US      Cloudflare, Inc.  US  Google LLC     benign\n",
       "000webhostapp.com         CY         Hostinger NOC  US  Google LLC     benign\n",
       "1.bp.blogspot.com         US            Google LLC  NA          NA     benign\n",
       "123-reg-new-domain.co.uk  NA                    NA  NA          NA     benign\n",
       "12371.cn                  US  QUANTIL NETWORKS INC  NA          NA     benign\n",
       "...                       ..                   ...  ..         ...        ...\n",
       "zuwevex.com               NA                    NA  NA          NA  malicious\n",
       "zyokao27.top              NA                    NA  NA          NA  malicious\n",
       "zyonou41.top              NA                    NA  NA          NA  malicious\n",
       "zyoskv38.top              NA                    NA  NA          NA  malicious\n",
       "zyoyol62.top              NA                    NA  NA          NA  malicious\n",
       "\n",
       "[6082 rows x 5 columns]"
      ]
     },
     "execution_count": 19,
     "metadata": {},
     "output_type": "execute_result"
    }
   ],
   "source": [
    "ip_df"
   ]
  },
  {
   "cell_type": "code",
   "execution_count": 20,
   "id": "7ba840ef",
   "metadata": {},
   "outputs": [
    {
     "data": {
      "text/html": [
       "<div>\n",
       "<style scoped>\n",
       "    .dataframe tbody tr th:only-of-type {\n",
       "        vertical-align: middle;\n",
       "    }\n",
       "\n",
       "    .dataframe tbody tr th {\n",
       "        vertical-align: top;\n",
       "    }\n",
       "\n",
       "    .dataframe thead tr th {\n",
       "        text-align: left;\n",
       "    }\n",
       "\n",
       "    .dataframe thead tr:last-of-type th {\n",
       "        text-align: right;\n",
       "    }\n",
       "</style>\n",
       "<table border=\"1\" class=\"dataframe\">\n",
       "  <thead>\n",
       "    <tr>\n",
       "      <th></th>\n",
       "      <th colspan=\"8\" halign=\"left\">A</th>\n",
       "      <th colspan=\"8\" halign=\"left\">MX</th>\n",
       "      <th colspan=\"4\" halign=\"left\">type</th>\n",
       "    </tr>\n",
       "    <tr>\n",
       "      <th></th>\n",
       "      <th colspan=\"4\" halign=\"left\">CC</th>\n",
       "      <th colspan=\"4\" halign=\"left\">Org</th>\n",
       "      <th colspan=\"4\" halign=\"left\">CC</th>\n",
       "      <th colspan=\"4\" halign=\"left\">Org</th>\n",
       "      <th colspan=\"4\" halign=\"left\"></th>\n",
       "    </tr>\n",
       "    <tr>\n",
       "      <th></th>\n",
       "      <th>count</th>\n",
       "      <th>unique</th>\n",
       "      <th>top</th>\n",
       "      <th>freq</th>\n",
       "      <th>count</th>\n",
       "      <th>unique</th>\n",
       "      <th>top</th>\n",
       "      <th>freq</th>\n",
       "      <th>count</th>\n",
       "      <th>unique</th>\n",
       "      <th>top</th>\n",
       "      <th>freq</th>\n",
       "      <th>count</th>\n",
       "      <th>unique</th>\n",
       "      <th>top</th>\n",
       "      <th>freq</th>\n",
       "      <th>count</th>\n",
       "      <th>unique</th>\n",
       "      <th>top</th>\n",
       "      <th>freq</th>\n",
       "    </tr>\n",
       "    <tr>\n",
       "      <th>type</th>\n",
       "      <th></th>\n",
       "      <th></th>\n",
       "      <th></th>\n",
       "      <th></th>\n",
       "      <th></th>\n",
       "      <th></th>\n",
       "      <th></th>\n",
       "      <th></th>\n",
       "      <th></th>\n",
       "      <th></th>\n",
       "      <th></th>\n",
       "      <th></th>\n",
       "      <th></th>\n",
       "      <th></th>\n",
       "      <th></th>\n",
       "      <th></th>\n",
       "      <th></th>\n",
       "      <th></th>\n",
       "      <th></th>\n",
       "      <th></th>\n",
       "    </tr>\n",
       "  </thead>\n",
       "  <tbody>\n",
       "    <tr>\n",
       "      <th>benign</th>\n",
       "      <td>3687</td>\n",
       "      <td>51</td>\n",
       "      <td>US</td>\n",
       "      <td>2805</td>\n",
       "      <td>3687</td>\n",
       "      <td>848</td>\n",
       "      <td>Cloudflare, Inc.</td>\n",
       "      <td>445</td>\n",
       "      <td>3687</td>\n",
       "      <td>48</td>\n",
       "      <td>US</td>\n",
       "      <td>2580</td>\n",
       "      <td>3687</td>\n",
       "      <td>549</td>\n",
       "      <td>Google LLC</td>\n",
       "      <td>1065</td>\n",
       "      <td>3687</td>\n",
       "      <td>1</td>\n",
       "      <td>benign</td>\n",
       "      <td>3687</td>\n",
       "    </tr>\n",
       "    <tr>\n",
       "      <th>malicious</th>\n",
       "      <td>2395</td>\n",
       "      <td>37</td>\n",
       "      <td>NA</td>\n",
       "      <td>1354</td>\n",
       "      <td>2395</td>\n",
       "      <td>147</td>\n",
       "      <td>NA</td>\n",
       "      <td>1354</td>\n",
       "      <td>2395</td>\n",
       "      <td>17</td>\n",
       "      <td>NA</td>\n",
       "      <td>2286</td>\n",
       "      <td>2395</td>\n",
       "      <td>38</td>\n",
       "      <td>NA</td>\n",
       "      <td>2286</td>\n",
       "      <td>2395</td>\n",
       "      <td>1</td>\n",
       "      <td>malicious</td>\n",
       "      <td>2395</td>\n",
       "    </tr>\n",
       "  </tbody>\n",
       "</table>\n",
       "</div>"
      ],
      "text/plain": [
       "              A                                                          MX  \\\n",
       "             CC                    Org                                   CC   \n",
       "          count unique top  freq count unique               top  freq count   \n",
       "type                                                                          \n",
       "benign     3687     51  US  2805  3687    848  Cloudflare, Inc.   445  3687   \n",
       "malicious  2395     37  NA  1354  2395    147                NA  1354  2395   \n",
       "\n",
       "                                                           type         \\\n",
       "                             Org                                         \n",
       "          unique top  freq count unique         top  freq count unique   \n",
       "type                                                                     \n",
       "benign        48  US  2580  3687    549  Google LLC  1065  3687      1   \n",
       "malicious     17  NA  2286  2395     38          NA  2286  2395      1   \n",
       "\n",
       "                            \n",
       "                            \n",
       "                 top  freq  \n",
       "type                        \n",
       "benign        benign  3687  \n",
       "malicious  malicious  2395  "
      ]
     },
     "execution_count": 20,
     "metadata": {},
     "output_type": "execute_result"
    }
   ],
   "source": [
    "ip_df.groupby('type').describe()"
   ]
  },
  {
   "cell_type": "code",
   "execution_count": 21,
   "id": "ffa87111",
   "metadata": {},
   "outputs": [
    {
     "name": "stdout",
     "output_type": "stream",
     "text": [
      "Cloudflare, Inc.            445\n",
      "Amazon.com, Inc.            328\n",
      "NA                          294\n",
      "Fastly                      254\n",
      "Amazon Technologies Inc.    251\n",
      "Name: (A, Org), dtype: int64\n",
      "Google LLC                         1065\n",
      "NA                                  586\n",
      "Microsoft Corporation               543\n",
      "Proofpoint, Inc.                    322\n",
      "Cisco Systems Ironport Division      78\n",
      "Name: (MX, Org), dtype: int64\n",
      "NA                  1354\n",
      "REGRU-MNT            292\n",
      "Linode               191\n",
      "Cloudflare, Inc.      92\n",
      "OVH GmbH              88\n",
      "Name: (A, Org), dtype: int64\n",
      "NA                          2286\n",
      "Namecheap, Inc.               50\n",
      "Oath Holdings Inc.            11\n",
      "Stop the war in Ukraine!       6\n",
      "PSINet, Inc.                   3\n",
      "Name: (MX, Org), dtype: int64\n"
     ]
    }
   ],
   "source": [
    "# Top Benign A Record Orgs\n",
    "print(ip_df[ip_df['type'] == 'benign'].iloc[:, ip_df.columns.get_level_values(1)=='Org'][('A','Org')].value_counts().nlargest(5))\n",
    "# Top Benign MX Record Orgs\n",
    "print(ip_df[ip_df['type'] == 'benign'].iloc[:, ip_df.columns.get_level_values(1)=='Org'][('MX','Org')].value_counts().nlargest(5))\n",
    "# Top Malicious A Record Orgs\n",
    "print(ip_df[ip_df['type'] == 'malicious'].iloc[:, ip_df.columns.get_level_values(1)=='Org'][('A','Org')].value_counts().nlargest(5))\n",
    "# Top Malicious MX Record Orgs\n",
    "print(ip_df[ip_df['type'] == 'malicious'].iloc[:, ip_df.columns.get_level_values(1)=='Org'][('MX','Org')].value_counts().nlargest(5))\n"
   ]
  },
  {
   "cell_type": "code",
   "execution_count": 22,
   "id": "d6855b21",
   "metadata": {},
   "outputs": [
    {
     "name": "stdout",
     "output_type": "stream",
     "text": [
      "US    2805\n",
      "NA     291\n",
      "CN      85\n",
      "DE      80\n",
      "GB      58\n",
      "FR      56\n",
      "RU      49\n",
      "CA      47\n",
      "NL      36\n",
      "CH      25\n",
      "Name: (A, CC), dtype: int64\n",
      "US    2580\n",
      "NA     586\n",
      "GB      90\n",
      "DE      81\n",
      "CN      75\n",
      "RU      41\n",
      "FR      35\n",
      "CA      31\n",
      "CH      17\n",
      "NL      15\n",
      "Name: (MX, CC), dtype: int64\n",
      "NA    1354\n",
      "US     489\n",
      "RU     335\n",
      "FR      94\n",
      "NL      20\n",
      "DE      12\n",
      "RO      12\n",
      "LT       6\n",
      "BG       6\n",
      "NZ       6\n",
      "Name: (A, CC), dtype: int64\n",
      "NA    2286\n",
      "US      82\n",
      "NL       6\n",
      "DE       4\n",
      "RU       4\n",
      "NG       2\n",
      "DZ       1\n",
      "GR       1\n",
      "UA       1\n",
      "IR       1\n",
      "Name: (MX, CC), dtype: int64\n"
     ]
    }
   ],
   "source": [
    "# Top Benign A Record Locations\n",
    "print(ip_df[ip_df['type'] == 'benign'].iloc[:, ip_df.columns.get_level_values(1)=='CC'][('A','CC')].value_counts().nlargest(10))\n",
    "# Top Benign MX Record Locations\n",
    "print(ip_df[ip_df['type'] == 'benign'].iloc[:, ip_df.columns.get_level_values(1)=='CC'][('MX','CC')].value_counts().nlargest(10))\n",
    "# Top Malicious A Record Locations\n",
    "print(ip_df[ip_df['type'] == 'malicious'].iloc[:, ip_df.columns.get_level_values(1)=='CC'][('A','CC')].value_counts().nlargest(10))\n",
    "# Top Malicious MX Record Locations\n",
    "print(ip_df[ip_df['type'] == 'malicious'].iloc[:, ip_df.columns.get_level_values(1)=='CC'][('MX','CC')].value_counts().nlargest(10))\n"
   ]
  },
  {
   "cell_type": "code",
   "execution_count": 23,
   "id": "b5ef1105",
   "metadata": {},
   "outputs": [
    {
     "name": "stderr",
     "output_type": "stream",
     "text": [
      "/Library/Frameworks/Python.framework/Versions/3.10/lib/python3.10/site-packages/urllib3/connectionpool.py:1043: InsecureRequestWarning: Unverified HTTPS request is being made to host 'gist.githubusercontent.com'. Adding certificate verification is strongly advised. See: https://urllib3.readthedocs.io/en/1.26.x/advanced-usage.html#ssl-warnings\n",
      "  warnings.warn(\n"
     ]
    }
   ],
   "source": [
    "#url = 'https://gist.github.com/tadast/8827699' #alternative option\n",
    "url = 'https://gist.githubusercontent.com/metal3d/5b925077e66194551df949de64e910f6/raw/c5f20a037409d96958553e2eb6b8251265c6fd63/country-coord.csv'\n",
    "response = requests.get(url, verify = False).content\n",
    "coordinates_df = pd.read_csv(io.StringIO(response.decode('utf-8')))"
   ]
  },
  {
   "cell_type": "code",
   "execution_count": 24,
   "id": "e803359c",
   "metadata": {},
   "outputs": [
    {
     "data": {
      "text/html": [
       "<div>\n",
       "<style scoped>\n",
       "    .dataframe tbody tr th:only-of-type {\n",
       "        vertical-align: middle;\n",
       "    }\n",
       "\n",
       "    .dataframe tbody tr th {\n",
       "        vertical-align: top;\n",
       "    }\n",
       "\n",
       "    .dataframe thead th {\n",
       "        text-align: right;\n",
       "    }\n",
       "</style>\n",
       "<table border=\"1\" class=\"dataframe\">\n",
       "  <thead>\n",
       "    <tr style=\"text-align: right;\">\n",
       "      <th></th>\n",
       "      <th>Country</th>\n",
       "      <th>Alpha-2 code</th>\n",
       "      <th>Alpha-3 code</th>\n",
       "      <th>Numeric code</th>\n",
       "      <th>Latitude (average)</th>\n",
       "      <th>Longitude (average)</th>\n",
       "    </tr>\n",
       "  </thead>\n",
       "  <tbody>\n",
       "    <tr>\n",
       "      <th>0</th>\n",
       "      <td>Afghanistan</td>\n",
       "      <td>AF</td>\n",
       "      <td>AFG</td>\n",
       "      <td>4</td>\n",
       "      <td>33.0000</td>\n",
       "      <td>65.0</td>\n",
       "    </tr>\n",
       "    <tr>\n",
       "      <th>1</th>\n",
       "      <td>Albania</td>\n",
       "      <td>AL</td>\n",
       "      <td>ALB</td>\n",
       "      <td>8</td>\n",
       "      <td>41.0000</td>\n",
       "      <td>20.0</td>\n",
       "    </tr>\n",
       "    <tr>\n",
       "      <th>2</th>\n",
       "      <td>Algeria</td>\n",
       "      <td>DZ</td>\n",
       "      <td>DZA</td>\n",
       "      <td>12</td>\n",
       "      <td>28.0000</td>\n",
       "      <td>3.0</td>\n",
       "    </tr>\n",
       "    <tr>\n",
       "      <th>3</th>\n",
       "      <td>American Samoa</td>\n",
       "      <td>AS</td>\n",
       "      <td>ASM</td>\n",
       "      <td>16</td>\n",
       "      <td>-14.3333</td>\n",
       "      <td>-170.0</td>\n",
       "    </tr>\n",
       "    <tr>\n",
       "      <th>4</th>\n",
       "      <td>Andorra</td>\n",
       "      <td>AD</td>\n",
       "      <td>AND</td>\n",
       "      <td>20</td>\n",
       "      <td>42.5000</td>\n",
       "      <td>1.6</td>\n",
       "    </tr>\n",
       "    <tr>\n",
       "      <th>...</th>\n",
       "      <td>...</td>\n",
       "      <td>...</td>\n",
       "      <td>...</td>\n",
       "      <td>...</td>\n",
       "      <td>...</td>\n",
       "      <td>...</td>\n",
       "    </tr>\n",
       "    <tr>\n",
       "      <th>239</th>\n",
       "      <td>Wallis and Futuna</td>\n",
       "      <td>WF</td>\n",
       "      <td>WLF</td>\n",
       "      <td>876</td>\n",
       "      <td>-13.3000</td>\n",
       "      <td>-176.2</td>\n",
       "    </tr>\n",
       "    <tr>\n",
       "      <th>240</th>\n",
       "      <td>Western Sahara</td>\n",
       "      <td>EH</td>\n",
       "      <td>ESH</td>\n",
       "      <td>732</td>\n",
       "      <td>24.5000</td>\n",
       "      <td>-13.0</td>\n",
       "    </tr>\n",
       "    <tr>\n",
       "      <th>241</th>\n",
       "      <td>Yemen</td>\n",
       "      <td>YE</td>\n",
       "      <td>YEM</td>\n",
       "      <td>887</td>\n",
       "      <td>15.0000</td>\n",
       "      <td>48.0</td>\n",
       "    </tr>\n",
       "    <tr>\n",
       "      <th>242</th>\n",
       "      <td>Zambia</td>\n",
       "      <td>ZM</td>\n",
       "      <td>ZMB</td>\n",
       "      <td>894</td>\n",
       "      <td>-15.0000</td>\n",
       "      <td>30.0</td>\n",
       "    </tr>\n",
       "    <tr>\n",
       "      <th>243</th>\n",
       "      <td>Zimbabwe</td>\n",
       "      <td>ZW</td>\n",
       "      <td>ZWE</td>\n",
       "      <td>716</td>\n",
       "      <td>-20.0000</td>\n",
       "      <td>30.0</td>\n",
       "    </tr>\n",
       "  </tbody>\n",
       "</table>\n",
       "<p>244 rows × 6 columns</p>\n",
       "</div>"
      ],
      "text/plain": [
       "               Country Alpha-2 code Alpha-3 code  Numeric code  \\\n",
       "0          Afghanistan           AF          AFG             4   \n",
       "1              Albania           AL          ALB             8   \n",
       "2              Algeria           DZ          DZA            12   \n",
       "3       American Samoa           AS          ASM            16   \n",
       "4              Andorra           AD          AND            20   \n",
       "..                 ...          ...          ...           ...   \n",
       "239  Wallis and Futuna           WF          WLF           876   \n",
       "240     Western Sahara           EH          ESH           732   \n",
       "241              Yemen           YE          YEM           887   \n",
       "242             Zambia           ZM          ZMB           894   \n",
       "243           Zimbabwe           ZW          ZWE           716   \n",
       "\n",
       "     Latitude (average)  Longitude (average)  \n",
       "0               33.0000                 65.0  \n",
       "1               41.0000                 20.0  \n",
       "2               28.0000                  3.0  \n",
       "3              -14.3333               -170.0  \n",
       "4               42.5000                  1.6  \n",
       "..                  ...                  ...  \n",
       "239            -13.3000               -176.2  \n",
       "240             24.5000                -13.0  \n",
       "241             15.0000                 48.0  \n",
       "242            -15.0000                 30.0  \n",
       "243            -20.0000                 30.0  \n",
       "\n",
       "[244 rows x 6 columns]"
      ]
     },
     "execution_count": 24,
     "metadata": {},
     "output_type": "execute_result"
    }
   ],
   "source": [
    "coordinates_df"
   ]
  },
  {
   "cell_type": "code",
   "execution_count": 25,
   "id": "ac1b6598",
   "metadata": {},
   "outputs": [],
   "source": [
    "# Create two dataframes, one for each record type\n",
    "# Then join with coordinates_df\n",
    "ip_loc_df = ip_df.copy()\n",
    "ip_loc_df.columns = ip_loc_df.columns.droplevel()\n",
    "ip_loc_df = ip_loc_df.drop(columns='Org')\n",
    "ip_loc_df.columns = ['CC_A', 'CC_MX', 'type']\n",
    "ip_loc_A_df = ip_loc_df.reset_index().drop(columns=['index', 'CC_MX'])\n",
    "ip_loc_A_df  = ip_loc_A_df[ip_loc_A_df['CC_A'].isin(['NA']) == False]\n",
    "ip_loc_A_df = ip_loc_A_df.merge(coordinates_df, left_on='CC_A', right_on='Alpha-2 code')\n",
    "ip_loc_MX_df = ip_loc_df.reset_index().drop(columns=['index', 'CC_A'])\n",
    "ip_loc_MX_df  = ip_loc_MX_df[ip_loc_MX_df['CC_MX'].isin(['NA']) == False]\n",
    "ip_loc_MX_df = ip_loc_MX_df.merge(coordinates_df, left_on='CC_MX', right_on='Alpha-2 code')"
   ]
  },
  {
   "cell_type": "markdown",
   "id": "21342d62",
   "metadata": {},
   "source": [
    "## Heat Map"
   ]
  },
  {
   "cell_type": "code",
   "execution_count": 26,
   "id": "de84ecad",
   "metadata": {},
   "outputs": [
    {
     "data": {
      "text/html": [
       "<div style=\"width:100%;\"><div style=\"position:relative;width:100%;height:0;padding-bottom:60%;\"><span style=\"color:#565656\">Make this Notebook Trusted to load map: File -> Trust Notebook</span><iframe src=\"about:blank\" style=\"position:absolute;width:100%;height:100%;left:0;top:0;border:none !important;\" data-html=%3C%21DOCTYPE%20html%3E%0A%3Chead%3E%20%20%20%20%0A%20%20%20%20%3Cmeta%20http-equiv%3D%22content-type%22%20content%3D%22text/html%3B%20charset%3DUTF-8%22%20/%3E%0A%20%20%20%20%0A%20%20%20%20%20%20%20%20%3Cscript%3E%0A%20%20%20%20%20%20%20%20%20%20%20%20L_NO_TOUCH%20%3D%20false%3B%0A%20%20%20%20%20%20%20%20%20%20%20%20L_DISABLE_3D%20%3D%20false%3B%0A%20%20%20%20%20%20%20%20%3C/script%3E%0A%20%20%20%20%0A%20%20%20%20%3Cstyle%3Ehtml%2C%20body%20%7Bwidth%3A%20100%25%3Bheight%3A%20100%25%3Bmargin%3A%200%3Bpadding%3A%200%3B%7D%3C/style%3E%0A%20%20%20%20%3Cstyle%3E%23map%20%7Bposition%3Aabsolute%3Btop%3A0%3Bbottom%3A0%3Bright%3A0%3Bleft%3A0%3B%7D%3C/style%3E%0A%20%20%20%20%3Cscript%20src%3D%22https%3A//cdn.jsdelivr.net/npm/leaflet%401.6.0/dist/leaflet.js%22%3E%3C/script%3E%0A%20%20%20%20%3Cscript%20src%3D%22https%3A//code.jquery.com/jquery-1.12.4.min.js%22%3E%3C/script%3E%0A%20%20%20%20%3Cscript%20src%3D%22https%3A//maxcdn.bootstrapcdn.com/bootstrap/3.2.0/js/bootstrap.min.js%22%3E%3C/script%3E%0A%20%20%20%20%3Cscript%20src%3D%22https%3A//cdnjs.cloudflare.com/ajax/libs/Leaflet.awesome-markers/2.0.2/leaflet.awesome-markers.js%22%3E%3C/script%3E%0A%20%20%20%20%3Clink%20rel%3D%22stylesheet%22%20href%3D%22https%3A//cdn.jsdelivr.net/npm/leaflet%401.6.0/dist/leaflet.css%22/%3E%0A%20%20%20%20%3Clink%20rel%3D%22stylesheet%22%20href%3D%22https%3A//maxcdn.bootstrapcdn.com/bootstrap/3.2.0/css/bootstrap.min.css%22/%3E%0A%20%20%20%20%3Clink%20rel%3D%22stylesheet%22%20href%3D%22https%3A//maxcdn.bootstrapcdn.com/bootstrap/3.2.0/css/bootstrap-theme.min.css%22/%3E%0A%20%20%20%20%3Clink%20rel%3D%22stylesheet%22%20href%3D%22https%3A//maxcdn.bootstrapcdn.com/font-awesome/4.6.3/css/font-awesome.min.css%22/%3E%0A%20%20%20%20%3Clink%20rel%3D%22stylesheet%22%20href%3D%22https%3A//cdnjs.cloudflare.com/ajax/libs/Leaflet.awesome-markers/2.0.2/leaflet.awesome-markers.css%22/%3E%0A%20%20%20%20%3Clink%20rel%3D%22stylesheet%22%20href%3D%22https%3A//cdn.jsdelivr.net/gh/python-visualization/folium/folium/templates/leaflet.awesome.rotate.min.css%22/%3E%0A%20%20%20%20%0A%20%20%20%20%20%20%20%20%20%20%20%20%3Cmeta%20name%3D%22viewport%22%20content%3D%22width%3Ddevice-width%2C%0A%20%20%20%20%20%20%20%20%20%20%20%20%20%20%20%20initial-scale%3D1.0%2C%20maximum-scale%3D1.0%2C%20user-scalable%3Dno%22%20/%3E%0A%20%20%20%20%20%20%20%20%20%20%20%20%3Cstyle%3E%0A%20%20%20%20%20%20%20%20%20%20%20%20%20%20%20%20%23map_3dcdfafdd3bb4558b7c998f20417ff70%20%7B%0A%20%20%20%20%20%20%20%20%20%20%20%20%20%20%20%20%20%20%20%20position%3A%20relative%3B%0A%20%20%20%20%20%20%20%20%20%20%20%20%20%20%20%20%20%20%20%20width%3A%20100.0%25%3B%0A%20%20%20%20%20%20%20%20%20%20%20%20%20%20%20%20%20%20%20%20height%3A%20100.0%25%3B%0A%20%20%20%20%20%20%20%20%20%20%20%20%20%20%20%20%20%20%20%20left%3A%200.0%25%3B%0A%20%20%20%20%20%20%20%20%20%20%20%20%20%20%20%20%20%20%20%20top%3A%200.0%25%3B%0A%20%20%20%20%20%20%20%20%20%20%20%20%20%20%20%20%7D%0A%20%20%20%20%20%20%20%20%20%20%20%20%3C/style%3E%0A%20%20%20%20%20%20%20%20%0A%20%20%20%20%3Cscript%20src%3D%22https%3A//cdn.jsdelivr.net/gh/python-visualization/folium%40master/folium/templates/leaflet_heat.min.js%22%3E%3C/script%3E%0A%3C/head%3E%0A%3Cbody%3E%20%20%20%20%0A%20%20%20%20%0A%20%20%20%20%20%20%20%20%20%20%20%20%3Cdiv%20class%3D%22folium-map%22%20id%3D%22map_3dcdfafdd3bb4558b7c998f20417ff70%22%20%3E%3C/div%3E%0A%20%20%20%20%20%20%20%20%0A%3C/body%3E%0A%3Cscript%3E%20%20%20%20%0A%20%20%20%20%0A%20%20%20%20%20%20%20%20%20%20%20%20var%20map_3dcdfafdd3bb4558b7c998f20417ff70%20%3D%20L.map%28%0A%20%20%20%20%20%20%20%20%20%20%20%20%20%20%20%20%22map_3dcdfafdd3bb4558b7c998f20417ff70%22%2C%0A%20%20%20%20%20%20%20%20%20%20%20%20%20%20%20%20%7B%0A%20%20%20%20%20%20%20%20%20%20%20%20%20%20%20%20%20%20%20%20center%3A%20%5B40.71428888888889%2C%20-59.9058936443543%5D%2C%0A%20%20%20%20%20%20%20%20%20%20%20%20%20%20%20%20%20%20%20%20crs%3A%20L.CRS.EPSG3857%2C%0A%20%20%20%20%20%20%20%20%20%20%20%20%20%20%20%20%20%20%20%20zoom%3A%202%2C%0A%20%20%20%20%20%20%20%20%20%20%20%20%20%20%20%20%20%20%20%20zoomControl%3A%20true%2C%0A%20%20%20%20%20%20%20%20%20%20%20%20%20%20%20%20%20%20%20%20preferCanvas%3A%20false%2C%0A%20%20%20%20%20%20%20%20%20%20%20%20%20%20%20%20%7D%0A%20%20%20%20%20%20%20%20%20%20%20%20%29%3B%0A%20%20%20%20%20%20%20%20%20%20%20%20L.control.scale%28%29.addTo%28map_3dcdfafdd3bb4558b7c998f20417ff70%29%3B%0A%0A%20%20%20%20%20%20%20%20%20%20%20%20%0A%0A%20%20%20%20%20%20%20%20%0A%20%20%20%20%0A%20%20%20%20%20%20%20%20%20%20%20%20var%20tile_layer_70be314ab7894fd4b4298982681fdcd2%20%3D%20L.tileLayer%28%0A%20%20%20%20%20%20%20%20%20%20%20%20%20%20%20%20%22https%3A//%7Bs%7D.tile.openstreetmap.org/%7Bz%7D/%7Bx%7D/%7By%7D.png%22%2C%0A%20%20%20%20%20%20%20%20%20%20%20%20%20%20%20%20%7B%22attribution%22%3A%20%22Data%20by%20%5Cu0026copy%3B%20%5Cu003ca%20href%3D%5C%22http%3A//openstreetmap.org%5C%22%5Cu003eOpenStreetMap%5Cu003c/a%5Cu003e%2C%20under%20%5Cu003ca%20href%3D%5C%22http%3A//www.openstreetmap.org/copyright%5C%22%5Cu003eODbL%5Cu003c/a%5Cu003e.%22%2C%20%22detectRetina%22%3A%20false%2C%20%22maxNativeZoom%22%3A%2018%2C%20%22maxZoom%22%3A%2018%2C%20%22minZoom%22%3A%200%2C%20%22noWrap%22%3A%20false%2C%20%22opacity%22%3A%201%2C%20%22subdomains%22%3A%20%22abc%22%2C%20%22tms%22%3A%20false%7D%0A%20%20%20%20%20%20%20%20%20%20%20%20%29.addTo%28map_3dcdfafdd3bb4558b7c998f20417ff70%29%3B%0A%20%20%20%20%20%20%20%20%0A%20%20%20%20%0A%20%20%20%20%20%20%20%20%20%20%20%20var%20feature_group_d33d3cde5d944a73b9f4d6ab2b6da931%20%3D%20L.featureGroup%28%0A%20%20%20%20%20%20%20%20%20%20%20%20%20%20%20%20%7B%7D%0A%20%20%20%20%20%20%20%20%20%20%20%20%29.addTo%28map_3dcdfafdd3bb4558b7c998f20417ff70%29%3B%0A%20%20%20%20%20%20%20%20%0A%20%20%20%20%0A%20%20%20%20%20%20%20%20%20%20%20%20var%20heat_map_4ee2eee98ad847aa9056a3bb1e0b17d5%20%3D%20L.heatLayer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blur%22%3A%2015%2C%20%22maxZoom%22%3A%2018%2C%20%22minOpacity%22%3A%200.5%2C%20%22radius%22%3A%2025%7D%0A%20%20%20%20%20%20%20%20%20%20%20%20%29.addTo%28feature_group_d33d3cde5d944a73b9f4d6ab2b6da931%29%3B%0A%20%20%20%20%20%20%20%20%0A%20%20%20%20%0A%20%20%20%20%20%20%20%20%20%20%20%20var%20feature_group_22c53689f63a4fd4b2e4d5a619edfbf0%20%3D%20L.featureGroup%28%0A%20%20%20%20%20%20%20%20%20%20%20%20%20%20%20%20%7B%7D%0A%20%20%20%20%20%20%20%20%20%20%20%20%29.addTo%28map_3dcdfafdd3bb4558b7c998f20417ff70%29%3B%0A%20%20%20%20%20%20%20%20%0A%20%20%20%20%0A%20%20%20%20%20%20%20%20%20%20%20%20var%20heat_map_a074b1b710ae4a17af14f478b14c0548%20%3D%20L.heatLayer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blur%22%3A%2015%2C%20%22maxZoom%22%3A%2018%2C%20%22minOpacity%22%3A%200.5%2C%20%22radius%22%3A%2025%7D%0A%20%20%20%20%20%20%20%20%20%20%20%20%29.addTo%28feature_group_22c53689f63a4fd4b2e4d5a619edfbf0%29%3B%0A%20%20%20%20%20%20%20%20%0A%20%20%20%20%0A%20%20%20%20%20%20%20%20%20%20%20%20var%20feature_group_ab886b035698415e9722c0357d1b9993%20%3D%20L.featureGroup%28%0A%20%20%20%20%20%20%20%20%20%20%20%20%20%20%20%20%7B%7D%0A%20%20%20%20%20%20%20%20%20%20%20%20%29.addTo%28map_3dcdfafdd3bb4558b7c998f20417ff70%29%3B%0A%20%20%20%20%20%20%20%20%0A%20%20%20%20%0A%20%20%20%20%20%20%20%20%20%20%20%20var%20heat_map_18c745249a0e41dfb73b6fa68ec2fd58%20%3D%20L.heatLayer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blur%22%3A%2015%2C%20%22maxZoom%22%3A%2018%2C%20%22minOpacity%22%3A%200.5%2C%20%22radius%22%3A%2025%7D%0A%20%20%20%20%20%20%20%20%20%20%20%20%29.addTo%28feature_group_ab886b035698415e9722c0357d1b9993%29%3B%0A%20%20%20%20%20%20%20%20%0A%20%20%20%20%0A%20%20%20%20%20%20%20%20%20%20%20%20var%20feature_group_4c2e7f8bee2f430d9285ca06c9d69e32%20%3D%20L.featureGroup%28%0A%20%20%20%20%20%20%20%20%20%20%20%20%20%20%20%20%7B%7D%0A%20%20%20%20%20%20%20%20%20%20%20%20%29.addTo%28map_3dcdfafdd3bb4558b7c998f20417ff70%29%3B%0A%20%20%20%20%20%20%20%20%0A%20%20%20%20%0A%20%20%20%20%20%20%20%20%20%20%20%20var%20heat_map_2c6be2248f80481191afd1c1e917bf7a%20%3D%20L.heatLayer%28%0A%20%20%20%20%20%20%20%20%20%20%20%20%20%20%20%20%5B%5B38.0%2C%20-97.0%5D%2C%20%5B38.0%2C%20-97.0%5D%2C%20%5B38.0%2C%20-97.0%5D%2C%20%5B38.0%2C%20-97.0%5D%2C%20%5B38.0%2C%20-97.0%5D%2C%20%5B38.0%2C%20-97.0%5D%2C%20%5B38.0%2C%20-97.0%5D%2C%20%5B38.0%2C%20-97.0%5D%2C%20%5B38.0%2C%20-97.0%5D%2C%20%5B38.0%2C%20-97.0%5D%2C%20%5B38.0%2C%20-97.0%5D%2C%20%5B38.0%2C%20-97.0%5D%2C%20%5B38.0%2C%20-97.0%5D%2C%20%5B38.0%2C%20-97.0%5D%2C%20%5B38.0%2C%20-97.0%5D%2C%20%5B38.0%2C%20-97.0%5D%2C%20%5B38.0%2C%20-97.0%5D%2C%20%5B38.0%2C%20-97.0%5D%2C%20%5B38.0%2C%20-97.0%5D%2C%20%5B38.0%2C%20-97.0%5D%2C%20%5B38.0%2C%20-97.0%5D%2C%20%5B38.0%2C%20-97.0%5D%2C%20%5B38.0%2C%20-97.0%5D%2C%20%5B38.0%2C%20-97.0%5D%2C%20%5B38.0%2C%20-97.0%5D%2C%20%5B38.0%2C%20-97.0%5D%2C%20%5B38.0%2C%20-97.0%5D%2C%20%5B38.0%2C%20-97.0%5D%2C%20%5B38.0%2C%20-97.0%5D%2C%20%5B38.0%2C%20-97.0%5D%2C%20%5B38.0%2C%20-97.0%5D%2C%20%5B38.0%2C%20-97.0%5D%2C%20%5B38.0%2C%20-97.0%5D%2C%20%5B38.0%2C%20-97.0%5D%2C%20%5B38.0%2C%20-97.0%5D%2C%20%5B38.0%2C%20-97.0%5D%2C%20%5B38.0%2C%20-97.0%5D%2C%20%5B38.0%2C%20-97.0%5D%2C%20%5B38.0%2C%20-97.0%5D%2C%20%5B38.0%2C%20-97.0%5D%2C%20%5B38.0%2C%20-97.0%5D%2C%20%5B38.0%2C%20-97.0%5D%2C%20%5B38.0%2C%20-97.0%5D%2C%20%5B38.0%2C%20-97.0%5D%2C%20%5B38.0%2C%20-97.0%5D%2C%20%5B38.0%2C%20-97.0%5D%2C%20%5B38.0%2C%20-97.0%5D%2C%20%5B38.0%2C%20-97.0%5D%2C%20%5B38.0%2C%20-97.0%5D%2C%20%5B38.0%2C%20-97.0%5D%2C%20%5B38.0%2C%20-97.0%5D%2C%20%5B38.0%2C%20-97.0%5D%2C%20%5B38.0%2C%20-97.0%5D%2C%20%5B38.0%2C%20-97.0%5D%2C%20%5B38.0%2C%20-97.0%5D%2C%20%5B38.0%2C%20-97.0%5D%2C%20%5B38.0%2C%20-97.0%5D%2C%20%5B38.0%2C%20-97.0%5D%2C%20%5B38.0%2C%20-97.0%5D%2C%20%5B38.0%2C%20-97.0%5D%2C%20%5B38.0%2C%20-97.0%5D%2C%20%5B38.0%2C%20-97.0%5D%2C%20%5B38.0%2C%20-97.0%5D%2C%20%5B38.0%2C%20-97.0%5D%2C%20%5B38.0%2C%20-97.0%5D%2C%20%5B38.0%2C%20-97.0%5D%2C%20%5B38.0%2C%20-97.0%5D%2C%20%5B38.0%2C%20-97.0%5D%2C%20%5B38.0%2C%20-97.0%5D%2C%20%5B38.0%2C%20-97.0%5D%2C%20%5B38.0%2C%20-97.0%5D%2C%20%5B38.0%2C%20-97.0%5D%2C%20%5B38.0%2C%20-97.0%5D%2C%20%5B38.0%2C%20-97.0%5D%2C%20%5B38.0%2C%20-97.0%5D%2C%20%5B38.0%2C%20-97.0%5D%2C%20%5B38.0%2C%20-97.0%5D%2C%20%5B38.0%2C%20-97.0%5D%2C%20%5B38.0%2C%20-97.0%5D%2C%20%5B38.0%2C%20-97.0%5D%2C%20%5B38.0%2C%20-97.0%5D%2C%20%5B38.0%2C%20-97.0%5D%2C%20%5B51.0%2C%209.0%5D%2C%20%5B51.0%2C%209.0%5D%2C%20%5B51.0%2C%209.0%5D%2C%20%5B51.0%2C%209.0%5D%2C%20%5B54.0%2C%20-2.0%5D%2C%20%5B-27.0%2C%20133.0%5D%2C%20%5B47.0%2C%208.0%5D%2C%20%5B60.0%2C%20100.0%5D%2C%20%5B60.0%2C%20100.0%5D%2C%20%5B60.0%2C%20100.0%5D%2C%20%5B60.0%2C%20100.0%5D%2C%20%5B46.0%2C%2025.0%5D%2C%20%5B40.0%2C%20-4.0%5D%2C%20%5B52.5%2C%205.75%5D%2C%20%5B52.5%2C%205.75%5D%2C%20%5B52.5%2C%205.75%5D%2C%20%5B52.5%2C%205.75%5D%2C%20%5B52.5%2C%205.75%5D%2C%20%5B52.5%2C%205.75%5D%2C%20%5B49.75%2C%2015.5%5D%2C%20%5B49.0%2C%2032.0%5D%2C%20%5B39.0%2C%2022.0%5D%2C%20%5B2.5%2C%20112.5%5D%2C%20%5B10.0%2C%208.0%5D%2C%20%5B10.0%2C%208.0%5D%2C%20%5B28.0%2C%203.0%5D%2C%20%5B32.0%2C%2053.0%5D%5D%2C%0A%20%20%20%20%20%20%20%20%20%20%20%20%20%20%20%20%7B%22blur%22%3A%2015%2C%20%22maxZoom%22%3A%2018%2C%20%22minOpacity%22%3A%200.5%2C%20%22radius%22%3A%2025%7D%0A%20%20%20%20%20%20%20%20%20%20%20%20%29.addTo%28feature_group_4c2e7f8bee2f430d9285ca06c9d69e32%29%3B%0A%20%20%20%20%20%20%20%20%0A%20%20%20%20%0A%20%20%20%20%20%20%20%20%20%20%20%20var%20layer_control_e980e1991721432285f19e9f56cb59c9%20%3D%20%7B%0A%20%20%20%20%20%20%20%20%20%20%20%20%20%20%20%20base_layers%20%3A%20%7B%0A%20%20%20%20%20%20%20%20%20%20%20%20%20%20%20%20%20%20%20%20%22openstreetmap%22%20%3A%20tile_layer_70be314ab7894fd4b4298982681fdcd2%2C%0A%20%20%20%20%20%20%20%20%20%20%20%20%20%20%20%20%7D%2C%0A%20%20%20%20%20%20%20%20%20%20%20%20%20%20%20%20overlays%20%3A%20%20%7B%0A%20%20%20%20%20%20%20%20%20%20%20%20%20%20%20%20%20%20%20%20%22Benign%20A%20Records%22%20%3A%20feature_group_d33d3cde5d944a73b9f4d6ab2b6da931%2C%0A%20%20%20%20%20%20%20%20%20%20%20%20%20%20%20%20%20%20%20%20%22Malicious%20A%20Records%22%20%3A%20feature_group_22c53689f63a4fd4b2e4d5a619edfbf0%2C%0A%20%20%20%20%20%20%20%20%20%20%20%20%20%20%20%20%20%20%20%20%22Benign%20MX%20Records%22%20%3A%20feature_group_ab886b035698415e9722c0357d1b9993%2C%0A%20%20%20%20%20%20%20%20%20%20%20%20%20%20%20%20%20%20%20%20%22Malicious%20MX%20Records%22%20%3A%20feature_group_4c2e7f8bee2f430d9285ca06c9d69e32%2C%0A%20%20%20%20%20%20%20%20%20%20%20%20%20%20%20%20%7D%2C%0A%20%20%20%20%20%20%20%20%20%20%20%20%7D%3B%0A%20%20%20%20%20%20%20%20%20%20%20%20L.control.layers%28%0A%20%20%20%20%20%20%20%20%20%20%20%20%20%20%20%20layer_control_e980e1991721432285f19e9f56cb59c9.base_layers%2C%0A%20%20%20%20%20%20%20%20%20%20%20%20%20%20%20%20layer_control_e980e1991721432285f19e9f56cb59c9.overlays%2C%0A%20%20%20%20%20%20%20%20%20%20%20%20%20%20%20%20%7B%22autoZIndex%22%3A%20true%2C%20%22collapsed%22%3A%20true%2C%20%22position%22%3A%20%22topright%22%7D%0A%20%20%20%20%20%20%20%20%20%20%20%20%29.addTo%28map_3dcdfafdd3bb4558b7c998f20417ff70%29%3B%0A%20%20%20%20%20%20%20%20%0A%3C/script%3E onload=\"this.contentDocument.open();this.contentDocument.write(    decodeURIComponent(this.getAttribute('data-html')));this.contentDocument.close();\" allowfullscreen webkitallowfullscreen mozallowfullscreen></iframe></div></div>"
      ],
      "text/plain": [
       "<folium.folium.Map at 0x12784a950>"
      ]
     },
     "execution_count": 26,
     "metadata": {},
     "output_type": "execute_result"
    }
   ],
   "source": [
    "benign_ip_locs_A = ip_loc_A_df[ip_loc_A_df['type'] == 'benign'][['Latitude (average)', 'Longitude (average)']]\n",
    "malicious_ip_locs_A = ip_loc_A_df[ip_loc_A_df['type'] == 'malicious'][['Latitude (average)', 'Longitude (average)']]\n",
    "benign_ip_locs_MX = ip_loc_MX_df[ip_loc_MX_df['type'] == 'benign'][['Latitude (average)', 'Longitude (average)']]\n",
    "malicious_ip_locs_MX = ip_loc_MX_df[ip_loc_MX_df['type'] == 'malicious'][['Latitude (average)', 'Longitude (average)']]\n",
    "\n",
    "\n",
    "heatmap = folium.Map(location=[ip_loc_A_df['Latitude (average)'].mean(), ip_loc_A_df['Longitude (average)'].mean()],\n",
    "                 zoom_start=2, control_scale=True)\n",
    "\n",
    "f_A_benign = folium.FeatureGroup(\"Benign A Records\")\n",
    "f_A_malicious = folium.FeatureGroup(\"Malicious A Records\")\n",
    "f_MX_benign = folium.FeatureGroup(\"Benign MX Records\")\n",
    "f_MX_malicious = folium.FeatureGroup(\"Malicious MX Records\")\n",
    "\n",
    "f_A_benign.add_to(heatmap)\n",
    "f_A_malicious.add_to(heatmap)\n",
    "f_MX_benign.add_to(heatmap)\n",
    "f_MX_malicious.add_to(heatmap)\n",
    "\n",
    "plugins.HeatMap(benign_ip_locs_A, radius=25).add_to(f_A_benign)\n",
    "plugins.HeatMap(malicious_ip_locs_A, radius=25).add_to(f_A_malicious)\n",
    "plugins.HeatMap(benign_ip_locs_MX, radius=25).add_to(f_MX_benign)\n",
    "plugins.HeatMap(malicious_ip_locs_MX, radius=25).add_to(f_MX_malicious)\n",
    "\n",
    "folium.LayerControl().add_to(heatmap)\n",
    "\n",
    "heatmap\n"
   ]
  },
  {
   "cell_type": "markdown",
   "id": "fd221a52",
   "metadata": {},
   "source": [
    "## Observations\n",
    "* Very high number of malicious domains were unresolvable (likely due to being queried so far after the whois list was generated).\n",
    "* With the malicious domains that were resolvable, a large number did not have an MX record."
   ]
  },
  {
   "cell_type": "markdown",
   "id": "7d9bb122",
   "metadata": {},
   "source": [
    "# Entropy Data EDA"
   ]
  },
  {
   "cell_type": "code",
   "execution_count": 27,
   "id": "9b406031",
   "metadata": {},
   "outputs": [],
   "source": [
    "# DGA Primer: https://jason-trost.medium.com/getting-started-with-dga-domain-detection-research-89af69213257"
   ]
  },
  {
   "cell_type": "code",
   "execution_count": 28,
   "id": "f15dc5e7",
   "metadata": {},
   "outputs": [
    {
     "data": {
      "text/plain": [
       "{'google.com': 1.9182958340544893}"
      ]
     },
     "execution_count": 28,
     "metadata": {},
     "output_type": "execute_result"
    }
   ],
   "source": [
    "data_file_dict['benign_entropy_data.txt'][0]"
   ]
  },
  {
   "cell_type": "code",
   "execution_count": 29,
   "id": "c82935c5",
   "metadata": {},
   "outputs": [],
   "source": [
    "# Load data into dataframe, add type column, and merge\n",
    "benign_entropy_data = data_file_dict['benign_entropy_data.txt']\n",
    "malicious_entropy_data = data_file_dict['malicious_entropy_data.txt']\n",
    "\n",
    "benign_entropy_df = pd.DataFrame.from_dict(ChainMap(*benign_entropy_data), orient='index', columns=['entropy_value'])\n",
    "benign_entropy_df['type'] = 'benign'\n",
    "malicious_entropy_df = pd.DataFrame.from_dict(ChainMap(*malicious_entropy_data), orient='index', columns=['entropy_value'])\n",
    "malicious_entropy_df['type'] = 'malicious'\n",
    "entropy_df = pd.concat([benign_entropy_df, malicious_entropy_df])"
   ]
  },
  {
   "cell_type": "code",
   "execution_count": 30,
   "id": "e4e2a49b",
   "metadata": {},
   "outputs": [
    {
     "data": {
      "text/html": [
       "<div>\n",
       "<style scoped>\n",
       "    .dataframe tbody tr th:only-of-type {\n",
       "        vertical-align: middle;\n",
       "    }\n",
       "\n",
       "    .dataframe tbody tr th {\n",
       "        vertical-align: top;\n",
       "    }\n",
       "\n",
       "    .dataframe thead th {\n",
       "        text-align: right;\n",
       "    }\n",
       "</style>\n",
       "<table border=\"1\" class=\"dataframe\">\n",
       "  <thead>\n",
       "    <tr style=\"text-align: right;\">\n",
       "      <th></th>\n",
       "      <th>entropy_value</th>\n",
       "      <th>type</th>\n",
       "    </tr>\n",
       "  </thead>\n",
       "  <tbody>\n",
       "    <tr>\n",
       "      <th>canadiantire.ca</th>\n",
       "      <td>2.855389</td>\n",
       "      <td>benign</td>\n",
       "    </tr>\n",
       "    <tr>\n",
       "      <th>sch.gr</th>\n",
       "      <td>1.584963</td>\n",
       "      <td>benign</td>\n",
       "    </tr>\n",
       "    <tr>\n",
       "      <th>torgi.gov.ru</th>\n",
       "      <td>2.500000</td>\n",
       "      <td>benign</td>\n",
       "    </tr>\n",
       "    <tr>\n",
       "      <th>htc.com</th>\n",
       "      <td>1.584963</td>\n",
       "      <td>benign</td>\n",
       "    </tr>\n",
       "    <tr>\n",
       "      <th>adaa.org</th>\n",
       "      <td>0.811278</td>\n",
       "      <td>benign</td>\n",
       "    </tr>\n",
       "    <tr>\n",
       "      <th>...</th>\n",
       "      <td>...</td>\n",
       "      <td>...</td>\n",
       "    </tr>\n",
       "    <tr>\n",
       "      <th>crmweb.info</th>\n",
       "      <td>2.584963</td>\n",
       "      <td>malicious</td>\n",
       "    </tr>\n",
       "    <tr>\n",
       "      <th>eleccom.shop</th>\n",
       "      <td>2.235926</td>\n",
       "      <td>malicious</td>\n",
       "    </tr>\n",
       "    <tr>\n",
       "      <th>izocab.com</th>\n",
       "      <td>2.584963</td>\n",
       "      <td>malicious</td>\n",
       "    </tr>\n",
       "    <tr>\n",
       "      <th>contentcdns.net</th>\n",
       "      <td>2.663533</td>\n",
       "      <td>malicious</td>\n",
       "    </tr>\n",
       "    <tr>\n",
       "      <th>reseptors.com</th>\n",
       "      <td>2.503258</td>\n",
       "      <td>malicious</td>\n",
       "    </tr>\n",
       "  </tbody>\n",
       "</table>\n",
       "<p>6082 rows × 2 columns</p>\n",
       "</div>"
      ],
      "text/plain": [
       "                 entropy_value       type\n",
       "canadiantire.ca       2.855389     benign\n",
       "sch.gr                1.584963     benign\n",
       "torgi.gov.ru          2.500000     benign\n",
       "htc.com               1.584963     benign\n",
       "adaa.org              0.811278     benign\n",
       "...                        ...        ...\n",
       "crmweb.info           2.584963  malicious\n",
       "eleccom.shop          2.235926  malicious\n",
       "izocab.com            2.584963  malicious\n",
       "contentcdns.net       2.663533  malicious\n",
       "reseptors.com         2.503258  malicious\n",
       "\n",
       "[6082 rows x 2 columns]"
      ]
     },
     "execution_count": 30,
     "metadata": {},
     "output_type": "execute_result"
    }
   ],
   "source": [
    "entropy_df"
   ]
  },
  {
   "cell_type": "code",
   "execution_count": 31,
   "id": "7c5b111b",
   "metadata": {},
   "outputs": [
    {
     "data": {
      "text/html": [
       "<div>\n",
       "<style scoped>\n",
       "    .dataframe tbody tr th:only-of-type {\n",
       "        vertical-align: middle;\n",
       "    }\n",
       "\n",
       "    .dataframe tbody tr th {\n",
       "        vertical-align: top;\n",
       "    }\n",
       "\n",
       "    .dataframe thead th {\n",
       "        text-align: right;\n",
       "    }\n",
       "</style>\n",
       "<table border=\"1\" class=\"dataframe\">\n",
       "  <thead>\n",
       "    <tr style=\"text-align: right;\">\n",
       "      <th></th>\n",
       "      <th>count</th>\n",
       "      <th>mean</th>\n",
       "      <th>std</th>\n",
       "      <th>min</th>\n",
       "      <th>25%</th>\n",
       "      <th>50%</th>\n",
       "      <th>75%</th>\n",
       "      <th>max</th>\n",
       "    </tr>\n",
       "    <tr>\n",
       "      <th>type</th>\n",
       "      <th></th>\n",
       "      <th></th>\n",
       "      <th></th>\n",
       "      <th></th>\n",
       "      <th></th>\n",
       "      <th></th>\n",
       "      <th></th>\n",
       "      <th></th>\n",
       "    </tr>\n",
       "  </thead>\n",
       "  <tbody>\n",
       "    <tr>\n",
       "      <th>benign</th>\n",
       "      <td>3687.0</td>\n",
       "      <td>2.372359</td>\n",
       "      <td>0.738613</td>\n",
       "      <td>0.0</td>\n",
       "      <td>1.921928</td>\n",
       "      <td>2.521641</td>\n",
       "      <td>2.921928</td>\n",
       "      <td>3.879664</td>\n",
       "    </tr>\n",
       "    <tr>\n",
       "      <th>malicious</th>\n",
       "      <td>2395.0</td>\n",
       "      <td>3.068759</td>\n",
       "      <td>0.479918</td>\n",
       "      <td>0.0</td>\n",
       "      <td>2.750000</td>\n",
       "      <td>3.039149</td>\n",
       "      <td>3.412270</td>\n",
       "      <td>4.395999</td>\n",
       "    </tr>\n",
       "  </tbody>\n",
       "</table>\n",
       "</div>"
      ],
      "text/plain": [
       "            count      mean       std  min       25%       50%       75%  \\\n",
       "type                                                                       \n",
       "benign     3687.0  2.372359  0.738613  0.0  1.921928  2.521641  2.921928   \n",
       "malicious  2395.0  3.068759  0.479918  0.0  2.750000  3.039149  3.412270   \n",
       "\n",
       "                max  \n",
       "type                 \n",
       "benign     3.879664  \n",
       "malicious  4.395999  "
      ]
     },
     "execution_count": 31,
     "metadata": {},
     "output_type": "execute_result"
    }
   ],
   "source": [
    "entropy_df.groupby('type')['entropy_value'].describe()"
   ]
  },
  {
   "cell_type": "code",
   "execution_count": 32,
   "id": "c284fbc3",
   "metadata": {},
   "outputs": [
    {
     "data": {
      "image/png": "[encoded data removed]",
      "text/plain": [
       "<Figure size 648x504 with 1 Axes>"
      ]
     },
     "metadata": {
      "needs_background": "light"
     },
     "output_type": "display_data"
    }
   ],
   "source": [
    "plt.rcParams[\"figure.figsize\"] = [9, 7]\n",
    "entropy_plot = entropy_df.boxplot(by='type', figsize=(9, 7), return_type='both',\n",
    "    patch_artist = True)\n",
    "colors = ['g', 'r']\n",
    "for row_key, (ax,row) in entropy_plot.iteritems():\n",
    "    ax.set_xlabel('')\n",
    "    for i,box in enumerate(row['boxes']):\n",
    "        box.set_facecolor(colors[i])\n",
    "plt.show()"
   ]
  },
  {
   "cell_type": "code",
   "execution_count": 33,
   "id": "0fdd9033",
   "metadata": {},
   "outputs": [
    {
     "data": {
      "text/html": [
       "<div>\n",
       "<style scoped>\n",
       "    .dataframe tbody tr th:only-of-type {\n",
       "        vertical-align: middle;\n",
       "    }\n",
       "\n",
       "    .dataframe tbody tr th {\n",
       "        vertical-align: top;\n",
       "    }\n",
       "\n",
       "    .dataframe thead th {\n",
       "        text-align: right;\n",
       "    }\n",
       "</style>\n",
       "<table border=\"1\" class=\"dataframe\">\n",
       "  <thead>\n",
       "    <tr style=\"text-align: right;\">\n",
       "      <th></th>\n",
       "      <th>entropy_value</th>\n",
       "      <th>type</th>\n",
       "    </tr>\n",
       "  </thead>\n",
       "  <tbody>\n",
       "    <tr>\n",
       "      <th>ind.br</th>\n",
       "      <td>0.0</td>\n",
       "      <td>benign</td>\n",
       "    </tr>\n",
       "    <tr>\n",
       "      <th>www.gov.pl</th>\n",
       "      <td>-0.0</td>\n",
       "      <td>benign</td>\n",
       "    </tr>\n",
       "    <tr>\n",
       "      <th>adv.br</th>\n",
       "      <td>0.0</td>\n",
       "      <td>benign</td>\n",
       "    </tr>\n",
       "    <tr>\n",
       "      <th>or.ke</th>\n",
       "      <td>0.0</td>\n",
       "      <td>benign</td>\n",
       "    </tr>\n",
       "    <tr>\n",
       "      <th>ga.us</th>\n",
       "      <td>0.0</td>\n",
       "      <td>benign</td>\n",
       "    </tr>\n",
       "    <tr>\n",
       "      <th>...</th>\n",
       "      <td>...</td>\n",
       "      <td>...</td>\n",
       "    </tr>\n",
       "    <tr>\n",
       "      <th>idv.tw</th>\n",
       "      <td>0.0</td>\n",
       "      <td>malicious</td>\n",
       "    </tr>\n",
       "    <tr>\n",
       "      <th>mmmmmm.casa</th>\n",
       "      <td>-0.0</td>\n",
       "      <td>malicious</td>\n",
       "    </tr>\n",
       "    <tr>\n",
       "      <th>mmmmmm.bar</th>\n",
       "      <td>-0.0</td>\n",
       "      <td>malicious</td>\n",
       "    </tr>\n",
       "    <tr>\n",
       "      <th>nnnnnn.casa</th>\n",
       "      <td>-0.0</td>\n",
       "      <td>malicious</td>\n",
       "    </tr>\n",
       "    <tr>\n",
       "      <th>nnnnnn.bar</th>\n",
       "      <td>-0.0</td>\n",
       "      <td>malicious</td>\n",
       "    </tr>\n",
       "  </tbody>\n",
       "</table>\n",
       "<p>104 rows × 2 columns</p>\n",
       "</div>"
      ],
      "text/plain": [
       "             entropy_value       type\n",
       "ind.br                 0.0     benign\n",
       "www.gov.pl            -0.0     benign\n",
       "adv.br                 0.0     benign\n",
       "or.ke                  0.0     benign\n",
       "ga.us                  0.0     benign\n",
       "...                    ...        ...\n",
       "idv.tw                 0.0  malicious\n",
       "mmmmmm.casa           -0.0  malicious\n",
       "mmmmmm.bar            -0.0  malicious\n",
       "nnnnnn.casa           -0.0  malicious\n",
       "nnnnnn.bar            -0.0  malicious\n",
       "\n",
       "[104 rows x 2 columns]"
      ]
     },
     "execution_count": 33,
     "metadata": {},
     "output_type": "execute_result"
    }
   ],
   "source": [
    "entropy_df[entropy_df['entropy_value']<=0.1]"
   ]
  },
  {
   "cell_type": "markdown",
   "id": "f78b870b",
   "metadata": {},
   "source": [
    "### Todo: Need to look into why some domains have entropy values of zero. Possibly mistaken as TLD's."
   ]
  },
  {
   "cell_type": "markdown",
   "id": "caad0e53",
   "metadata": {},
   "source": [
    "# Misc"
   ]
  },
  {
   "cell_type": "code",
   "execution_count": 87,
   "id": "d1f82bbb",
   "metadata": {},
   "outputs": [
    {
     "name": "stdout",
     "output_type": "stream",
     "text": [
      "Benign Domains:\n",
      "Average length (without TLD): 7.419039869812856\n",
      "\n",
      "\n",
      "Malicious Domains:\n",
      "Average length (without TLD): 12.99206680584551\n"
     ]
    }
   ],
   "source": [
    "benign_domain_list = []\n",
    "for benign_domain_whois in data_file_dict['benign_whois_data.txt']:\n",
    "    benign_domain_list.append(list(benign_domain_whois.keys())[0])\n",
    "benign_domain_without_tld_dict = {}\n",
    "for benign_domain_name in benign_domain_list:\n",
    "    domain_parts = get_domain_parts(benign_domain_name)[:2]\n",
    "    benign_domain_without_tld_dict[benign_domain_name] = [''.join(domain_parts[:2])]\n",
    "benign_domain_df = pd.DataFrame.from_dict(benign_domain_without_tld_dict).T.rename(columns={0: 'domain'})\n",
    "benign_domain_df['type'] = 'benign'\n",
    "benign_domain_df['length']= benign_domain_df['domain'].str.len()\n",
    "print(\"Benign Domains:\")\n",
    "print(\"Average length (without TLD): \" + str(benign_domain_df['domain'].apply(len).mean()))\n",
    "print(\"\\n\")\n",
    "\n",
    "malicious_domain_list = []\n",
    "for malicious_domain_whois in data_file_dict['malicious_whois_data.txt']:\n",
    "    malicious_domain_list.append(list(malicious_domain_whois.keys())[0])\n",
    "malicious_domain_without_tld_dict = {}\n",
    "for malicious_domain_name in malicious_domain_list:\n",
    "    domain_parts = get_domain_parts(malicious_domain_name)[:2]\n",
    "    malicious_domain_without_tld_dict[malicious_domain_name] = [''.join(domain_parts[:2])]\n",
    "malicious_domain_df = pd.DataFrame.from_dict(malicious_domain_without_tld_dict).T.rename(columns={0: 'domain'})\n",
    "malicious_domain_df['type'] = 'malicious'\n",
    "malicious_domain_df['length']= malicious_domain_df['domain'].str.len()\n",
    "print(\"Malicious Domains:\")\n",
    "print(\"Average length (without TLD): \" + str(malicious_domain_df['domain'].apply(len).mean()))\n",
    "\n",
    "# Combine DataFrames\n",
    "domain_df = pd.concat([benign_domain_df, malicious_domain_df])\n",
    "    "
   ]
  },
  {
   "cell_type": "code",
   "execution_count": 88,
   "id": "33fe5073",
   "metadata": {},
   "outputs": [
    {
     "data": {
      "image/png": "[encoded data removed]",
      "text/plain": [
       "<Figure size 648x504 with 1 Axes>"
      ]
     },
     "metadata": {
      "needs_background": "light"
     },
     "output_type": "display_data"
    }
   ],
   "source": [
    "plt.rcParams[\"figure.figsize\"] = [9, 7]\n",
    "domain_plot = domain_df.boxplot(by='type', figsize=(9, 7), return_type='both',\n",
    "    patch_artist = True)\n",
    "colors = ['g', 'r']\n",
    "for row_key, (ax,row) in domain_plot.iteritems():\n",
    "    ax.set_xlabel('')\n",
    "    for i,box in enumerate(row['boxes']):\n",
    "        box.set_facecolor(colors[i])\n",
    "plt.show()"
   ]
  },
  {
   "cell_type": "markdown",
   "id": "f4858fee",
   "metadata": {},
   "source": [
    "https://github.com/exp0se/dga_detector\n",
    "\n",
    "Interestingly, this project uses ngram analysis + length, consonants, entropy thresholds. \n",
    "We've already looked at length and entropy, let's look at the other items next."
   ]
  },
  {
   "cell_type": "code",
   "execution_count": 89,
   "id": "567c2d5e",
   "metadata": {},
   "outputs": [
    {
     "data": {
      "text/html": [
       "<div>\n",
       "<style scoped>\n",
       "    .dataframe tbody tr th:only-of-type {\n",
       "        vertical-align: middle;\n",
       "    }\n",
       "\n",
       "    .dataframe tbody tr th {\n",
       "        vertical-align: top;\n",
       "    }\n",
       "\n",
       "    .dataframe thead th {\n",
       "        text-align: right;\n",
       "    }\n",
       "</style>\n",
       "<table border=\"1\" class=\"dataframe\">\n",
       "  <thead>\n",
       "    <tr style=\"text-align: right;\">\n",
       "      <th></th>\n",
       "      <th>domain</th>\n",
       "      <th>type</th>\n",
       "      <th>length</th>\n",
       "      <th>consonants</th>\n",
       "    </tr>\n",
       "  </thead>\n",
       "  <tbody>\n",
       "    <tr>\n",
       "      <th>google.com</th>\n",
       "      <td>google</td>\n",
       "      <td>benign</td>\n",
       "      <td>6</td>\n",
       "      <td>3</td>\n",
       "    </tr>\n",
       "    <tr>\n",
       "      <th>facebook.com</th>\n",
       "      <td>facebook</td>\n",
       "      <td>benign</td>\n",
       "      <td>8</td>\n",
       "      <td>4</td>\n",
       "    </tr>\n",
       "    <tr>\n",
       "      <th>youtube.com</th>\n",
       "      <td>youtube</td>\n",
       "      <td>benign</td>\n",
       "      <td>7</td>\n",
       "      <td>3</td>\n",
       "    </tr>\n",
       "    <tr>\n",
       "      <th>twitter.com</th>\n",
       "      <td>twitter</td>\n",
       "      <td>benign</td>\n",
       "      <td>7</td>\n",
       "      <td>5</td>\n",
       "    </tr>\n",
       "    <tr>\n",
       "      <th>instagram.com</th>\n",
       "      <td>instagram</td>\n",
       "      <td>benign</td>\n",
       "      <td>9</td>\n",
       "      <td>6</td>\n",
       "    </tr>\n",
       "    <tr>\n",
       "      <th>...</th>\n",
       "      <td>...</td>\n",
       "      <td>...</td>\n",
       "      <td>...</td>\n",
       "      <td>...</td>\n",
       "    </tr>\n",
       "    <tr>\n",
       "      <th>ewakyc72.top</th>\n",
       "      <td>ewakyc72</td>\n",
       "      <td>malicious</td>\n",
       "      <td>8</td>\n",
       "      <td>6</td>\n",
       "    </tr>\n",
       "    <tr>\n",
       "      <th>ewazqx71.top</th>\n",
       "      <td>ewazqx71</td>\n",
       "      <td>malicious</td>\n",
       "      <td>8</td>\n",
       "      <td>6</td>\n",
       "    </tr>\n",
       "    <tr>\n",
       "      <th>rebornx.duckdns.org</th>\n",
       "      <td>rebornxduckdns</td>\n",
       "      <td>malicious</td>\n",
       "      <td>14</td>\n",
       "      <td>11</td>\n",
       "    </tr>\n",
       "    <tr>\n",
       "      <th>mail.dipiluminacion.com</th>\n",
       "      <td>maildipiluminacion</td>\n",
       "      <td>malicious</td>\n",
       "      <td>18</td>\n",
       "      <td>9</td>\n",
       "    </tr>\n",
       "    <tr>\n",
       "      <th>tzitziklishop.ddns.net</th>\n",
       "      <td>tzitziklishopddns</td>\n",
       "      <td>malicious</td>\n",
       "      <td>17</td>\n",
       "      <td>13</td>\n",
       "    </tr>\n",
       "  </tbody>\n",
       "</table>\n",
       "<p>6082 rows × 4 columns</p>\n",
       "</div>"
      ],
      "text/plain": [
       "                                     domain       type  length  consonants\n",
       "google.com                           google     benign       6           3\n",
       "facebook.com                       facebook     benign       8           4\n",
       "youtube.com                         youtube     benign       7           3\n",
       "twitter.com                         twitter     benign       7           5\n",
       "instagram.com                     instagram     benign       9           6\n",
       "...                                     ...        ...     ...         ...\n",
       "ewakyc72.top                       ewakyc72  malicious       8           6\n",
       "ewazqx71.top                       ewazqx71  malicious       8           6\n",
       "rebornx.duckdns.org          rebornxduckdns  malicious      14          11\n",
       "mail.dipiluminacion.com  maildipiluminacion  malicious      18           9\n",
       "tzitziklishop.ddns.net    tzitziklishopddns  malicious      17          13\n",
       "\n",
       "[6082 rows x 4 columns]"
      ]
     },
     "execution_count": 89,
     "metadata": {},
     "output_type": "execute_result"
    }
   ],
   "source": [
    "# Look at consonant count\n",
    "def count_consonants(domain):\n",
    "    consonant_count = 0\n",
    "    for i in range(0,len(domain)):\n",
    "        if domain[i] not in ('a',\"e\",\"i\",\"o\",\"u\"):  \n",
    "            consonant_count = consonant_count + 1\n",
    "    return consonant_count\n",
    "\n",
    "domain_df['consonants'] = domain_df['domain'].apply(lambda x: count_consonants(x))\n",
    "domain_df"
   ]
  },
  {
   "cell_type": "markdown",
   "id": "1e1f74f9",
   "metadata": {},
   "source": [
    "https://datadrivensecurity.info/blog/posts/2014/Oct/dga-part2/\n",
    "https://datadrivensecurity.info/blog/posts/2014/Oct/dga-part3/\n",
    "\n",
    "Great reference on generating features to detect DGA's."
   ]
  },
  {
   "cell_type": "code",
   "execution_count": 108,
   "id": "f95ed3a6",
   "metadata": {},
   "outputs": [
    {
     "data": {
      "text/html": [
       "<div>\n",
       "<style scoped>\n",
       "    .dataframe tbody tr th:only-of-type {\n",
       "        vertical-align: middle;\n",
       "    }\n",
       "\n",
       "    .dataframe tbody tr th {\n",
       "        vertical-align: top;\n",
       "    }\n",
       "\n",
       "    .dataframe thead th {\n",
       "        text-align: right;\n",
       "    }\n",
       "</style>\n",
       "<table border=\"1\" class=\"dataframe\">\n",
       "  <thead>\n",
       "    <tr style=\"text-align: right;\">\n",
       "      <th></th>\n",
       "      <th>domain</th>\n",
       "      <th>type</th>\n",
       "      <th>length</th>\n",
       "      <th>consonants</th>\n",
       "      <th>entropy_value</th>\n",
       "      <th>domain_age</th>\n",
       "    </tr>\n",
       "  </thead>\n",
       "  <tbody>\n",
       "    <tr>\n",
       "      <th>000webhost.com</th>\n",
       "      <td>000webhost</td>\n",
       "      <td>benign</td>\n",
       "      <td>10</td>\n",
       "      <td>8</td>\n",
       "      <td>2.846439</td>\n",
       "      <td>14.0</td>\n",
       "    </tr>\n",
       "    <tr>\n",
       "      <th>000webhostapp.com</th>\n",
       "      <td>000webhostapp</td>\n",
       "      <td>benign</td>\n",
       "      <td>13</td>\n",
       "      <td>10</td>\n",
       "      <td>3.180833</td>\n",
       "      <td>5.0</td>\n",
       "    </tr>\n",
       "    <tr>\n",
       "      <th>0axqpcc.cn</th>\n",
       "      <td>0axqpcc</td>\n",
       "      <td>malicious</td>\n",
       "      <td>7</td>\n",
       "      <td>6</td>\n",
       "      <td>2.521641</td>\n",
       "      <td>0.0</td>\n",
       "    </tr>\n",
       "    <tr>\n",
       "      <th>0ffline.offes.co.uk</th>\n",
       "      <td>0fflineoffes</td>\n",
       "      <td>malicious</td>\n",
       "      <td>12</td>\n",
       "      <td>8</td>\n",
       "      <td>2.751629</td>\n",
       "      <td>25.0</td>\n",
       "    </tr>\n",
       "    <tr>\n",
       "      <th>0jaest.calipol.top</th>\n",
       "      <td>0jaestcalipol</td>\n",
       "      <td>malicious</td>\n",
       "      <td>13</td>\n",
       "      <td>8</td>\n",
       "      <td>3.392747</td>\n",
       "      <td>0.0</td>\n",
       "    </tr>\n",
       "    <tr>\n",
       "      <th>...</th>\n",
       "      <td>...</td>\n",
       "      <td>...</td>\n",
       "      <td>...</td>\n",
       "      <td>...</td>\n",
       "      <td>...</td>\n",
       "      <td>...</td>\n",
       "    </tr>\n",
       "    <tr>\n",
       "      <th>zuwevex.com</th>\n",
       "      <td>zuwevex</td>\n",
       "      <td>malicious</td>\n",
       "      <td>7</td>\n",
       "      <td>4</td>\n",
       "      <td>2.521641</td>\n",
       "      <td>0.0</td>\n",
       "    </tr>\n",
       "    <tr>\n",
       "      <th>zyokao27.top</th>\n",
       "      <td>zyokao27</td>\n",
       "      <td>malicious</td>\n",
       "      <td>8</td>\n",
       "      <td>5</td>\n",
       "      <td>2.750000</td>\n",
       "      <td>0.0</td>\n",
       "    </tr>\n",
       "    <tr>\n",
       "      <th>zyonou41.top</th>\n",
       "      <td>zyonou41</td>\n",
       "      <td>malicious</td>\n",
       "      <td>8</td>\n",
       "      <td>5</td>\n",
       "      <td>2.750000</td>\n",
       "      <td>0.0</td>\n",
       "    </tr>\n",
       "    <tr>\n",
       "      <th>zyoskv38.top</th>\n",
       "      <td>zyoskv38</td>\n",
       "      <td>malicious</td>\n",
       "      <td>8</td>\n",
       "      <td>7</td>\n",
       "      <td>3.000000</td>\n",
       "      <td>0.0</td>\n",
       "    </tr>\n",
       "    <tr>\n",
       "      <th>zyoyol62.top</th>\n",
       "      <td>zyoyol62</td>\n",
       "      <td>malicious</td>\n",
       "      <td>8</td>\n",
       "      <td>6</td>\n",
       "      <td>2.500000</td>\n",
       "      <td>0.0</td>\n",
       "    </tr>\n",
       "  </tbody>\n",
       "</table>\n",
       "<p>6088 rows × 6 columns</p>\n",
       "</div>"
      ],
      "text/plain": [
       "                            domain       type  length  consonants  \\\n",
       "000webhost.com          000webhost     benign      10           8   \n",
       "000webhostapp.com    000webhostapp     benign      13          10   \n",
       "0axqpcc.cn                 0axqpcc  malicious       7           6   \n",
       "0ffline.offes.co.uk   0fflineoffes  malicious      12           8   \n",
       "0jaest.calipol.top   0jaestcalipol  malicious      13           8   \n",
       "...                            ...        ...     ...         ...   \n",
       "zuwevex.com                zuwevex  malicious       7           4   \n",
       "zyokao27.top              zyokao27  malicious       8           5   \n",
       "zyonou41.top              zyonou41  malicious       8           5   \n",
       "zyoskv38.top              zyoskv38  malicious       8           7   \n",
       "zyoyol62.top              zyoyol62  malicious       8           6   \n",
       "\n",
       "                     entropy_value  domain_age  \n",
       "000webhost.com            2.846439        14.0  \n",
       "000webhostapp.com         3.180833         5.0  \n",
       "0axqpcc.cn                2.521641         0.0  \n",
       "0ffline.offes.co.uk       2.751629        25.0  \n",
       "0jaest.calipol.top        3.392747         0.0  \n",
       "...                            ...         ...  \n",
       "zuwevex.com               2.521641         0.0  \n",
       "zyokao27.top              2.750000         0.0  \n",
       "zyonou41.top              2.750000         0.0  \n",
       "zyoskv38.top              3.000000         0.0  \n",
       "zyoyol62.top              2.500000         0.0  \n",
       "\n",
       "[6088 rows x 6 columns]"
      ]
     },
     "execution_count": 108,
     "metadata": {},
     "output_type": "execute_result"
    }
   ],
   "source": [
    "# Add entropy\n",
    "combined_domain_df = domain_df.join(entropy_df, lsuffix='_domain', rsuffix='_entropy').drop(columns='type_entropy').rename(columns={'type_domain': 'type'})\n",
    "combined_domain_df = combined_domain_df.join(whois_df, lsuffix='_domain', rsuffix='_whois').drop(columns=['type_whois', 'creation_date']).rename(columns={'type_domain': 'type'})\n",
    "combined_domain_df"
   ]
  },
  {
   "cell_type": "code",
   "execution_count": 143,
   "id": "2f9867f1",
   "metadata": {
    "scrolled": false
   },
   "outputs": [
    {
     "name": "stderr",
     "output_type": "stream",
     "text": [
      "/var/folders/zk/_l6jn98j1ws6ndxrzcw2dh4m0000gn/T/ipykernel_72185/109567833.py:3: UserWarning: When passing multiple axes, sharex and sharey are ignored. These settings must be specified when creating axes.\n",
      "  boxplot_dict = combined_domain_df.boxplot(\n"
     ]
    },
    {
     "data": {
      "image/png": "[encoded data removed]",
      "text/plain": [
       "<Figure size 1296x1008 with 4 Axes>"
      ]
     },
     "metadata": {
      "needs_background": "light"
     },
     "output_type": "display_data"
    }
   ],
   "source": [
    "fig, axes = plt.subplots(2,2,sharex=False,sharey=False)\n",
    "\n",
    "boxplot_dict = combined_domain_df.boxplot(\n",
    "    by=\"type\", ax=axes, figsize=(6,4),\n",
    "    return_type='both',\n",
    "    patch_artist = True\n",
    ")\n",
    "\n",
    "colors = ['g', 'r']\n",
    "for row_key, (ax,row) in boxplot_dict.iteritems():\n",
    "    ax.set_xlabel('')\n",
    "    for i,box in enumerate(row['boxes']):\n",
    "        box.set_facecolor(colors[i])\n",
    "plt.show()"
   ]
  },
  {
   "cell_type": "code",
   "execution_count": 114,
   "id": "901b2969",
   "metadata": {},
   "outputs": [
    {
     "name": "stdout",
     "output_type": "stream",
     "text": [
      "quantile for threshold: 0.75\n",
      "entropy threshold: 2.9219280948873623\n",
      "consonants threshold: 6.0\n",
      "length threshold: 10.0\n",
      "age threshold: 17.0\n"
     ]
    }
   ],
   "source": [
    "quantile_value = 0.75\n",
    "entropy_threshold = combined_domain_df[combined_domain_df['type'] == 'benign']['entropy_value'].quantile(quantile_value) \n",
    "consonants_threshold = combined_domain_df[combined_domain_df['type'] == 'benign']['consonants'].quantile(quantile_value) \n",
    "length_threshold = combined_domain_df[combined_domain_df['type'] == 'benign']['length'].quantile(quantile_value) \n",
    "# We will use 1-quantile_value to look at the younger side versus the older side, with the assumption that newer domains are more likely to be DGAs.\n",
    "age_threshold = combined_domain_df[combined_domain_df['type'] == 'benign']['domain_age'].quantile(1 - quantile_value) \n",
    "\n",
    "print(\"quantile for threshold: \" + str(quantile_value))\n",
    "print(\"entropy threshold: \" + str(entropy_threshold))\n",
    "print(\"consonants threshold: \" + str(consonants_threshold))\n",
    "print(\"length threshold: \" + str(length_threshold))\n",
    "print(\"age threshold: \" + str(age_threshold))\n"
   ]
  },
  {
   "cell_type": "code",
   "execution_count": 150,
   "id": "1efb0cd0",
   "metadata": {
    "scrolled": true
   },
   "outputs": [
    {
     "name": "stdout",
     "output_type": "stream",
     "text": [
      "855\n",
      "['0jaest.calipol.top', '11.bmesarsodothmqoubieo.com', '194-58-108-89.cloudvps.regruhosting.ru', '2t2ev5giwktc5o9.quest', '3f2ocy9clt90x74.one', '3info.medicalbankform.com', '4auahb.calitin.buzz', '4kaier.calipol.top', '5pneuovxi22i4fagh9.today', '6v2mofchw2eix98.quest', '7861f5b56aa4.xyz', '9wlmskjvkk.execute-api.us-east-1.amazonaws.com', 'a575hh752dp9l6c.one', 'accessunited-bank.com', 'acerthk3v9fvsby5n.today', 'actuallyobligat.info', 'actuallyobligat.ink', 'ad-postback.biz', 'adjacentlim.top', 'administrators.bmesarsodothmqoubieo.com', 'adobeacrobatupdate.com', 'adobeacrobatupdater.com', 'af.bmesarsodothmqoubieo.com', 'agent.apacheorg.top', 'agent.apacheorg.xyz', 'airportslim.top', 'alessandroknights3434.top', 'allisonshyg.com', 'amarilloporeder.pw', 'amasacdddorjbreisgihduhicfeoiapu.shop', 'amechi.duckdns.org', 'ancjrljxpmegbstgwrxo.com', 'announcements.bmesarsodothmqoubieo.com', 'anofauhlxfjumbieoakk.com', 'answersfromtheadvisors.com', 'antiquefund1998b.com', 'anz1guftr2hdaqq3w.agency', 'aosdnvnauurt.xyz', 'app.updatebrouser.com', 'apsojbbichcrjdcbdguihudberfhbcum.shop', 'apt.updateffboruse.com', 'artanddesign.one', 'artysecuritybusinaudit.com', 'asdferthjfgk.one', 'atbmowsfoumxnqwsaoek.com', 'autodiscover.karlamejia.com', 'automotive-bydesign.com', 'automotive-design-cdn.azureedge.net', 'avastsecurityt.com', 'avisosnetdows.one', 'avupdatesecurity.com', 'ayerspitchg.com', 'ayishajimenez232.top', 'azureedge-endpoint.net', 'backup10012.nsupdate.info', 'badgoodreason.com', 'bagnovo.duckdns.org', 'ballablaq957.duckdns.org', 'bandwidthmas.top', 'barronlogicg.com', 'beltmorgand.com', 'bendercarpetg.com', 'betleverdoom.quest', 'bfrvmquxmaxbcdrrqfrg.com', 'bftxqinojwwvunpkjofs.com', 'bg.bmesarsodothmqoubieo.com', 'bgreenglobus.com', 'bigdipson.publicvm.com', 'bleizcarsgood.com', 'blog.rcoixfylhcdhlxlqwwjd.com', 'blogerslines.com', 'blogerslives.com', 'blogspoints.com', 'blogspoints.ru', 'blutimeddoom.quest', 'bmesarsodothmqoubieo.com', 'bmesarsofaqpxnbtuuwy.com', 'bmesarsofaqpxnbtyyst.com', 'bmrbpdnuvvcngkswqwdc.com', 'bot.medusabotnet.com', 'braveapp-browser.com', 'broadcast.bmesarsodothmqoubieo.com', 'brokletwistzz.top', 'brownadv.azureedge.net', 'brutuilionust.com', 'bsaxotnpiaadlgapkmua.com', 'bsaxotnpiaadlgvpygnl.com', 'bsbbaolvimjwfnsqidvg.com', 'bsbbcqbnhweyapwrshql.com', 'bsbbcqbnhweyapwrsrkq.com', 'buchananfoodss.com', 'buffaloestesd.com', 'buy.teamviewsoft.com', 'c.bmesarsodothmqoubieo.com', 'c4uu7l.calitin.buzz', 'c8ou8f.calinox.top', 'carpricegoods.com', 'catholicroundup.com', 'cavalgadasweb.bond', 'cavalgadasweb.quest', 'cbpeajewhmxbyhqxjqcs.com', 'cbsoeddprpcsedhidrcegihbreubpoes.top', 'ccf9ba3695b15b4f0787e6290e0f63allcomejroo839jxi13.xyz', 'ccjmddpbicdcasrdcaegjohmeoedarmh.shop', 'cdn-8846-sharepoint-office.com', 'cdn-g0962.int-onedrive.com', 'cdn-wfs-nspod.com', 'cdn0341.us-dropbox.com', 'cdn03664-dl-fileshare.com', 'cdn9883.us-dropbox.com', 'cdnfilesdrop.com', 'celebrityprofiling.com', 'chacaranggtanovoaurhj.com', 'chandlerdustg.com', 'changepost2019b.com', 'checkrosasd.com', 'childhome4100.duckdns.org', 'chonglee575.duckdns.org', 'chongmei33.publicvm.com', 'chrisproperties.xyz', 'citrixseruritys.com', 'citrixworcspace.com', 'clarkerentalss.com', 'class.bmesarsodothmqoubieo.com', 'cm.bmesarsodothmqoubieo.com', 'cmthmrrnxwfeuywoxyqf.com', 'cn.bmesarsodothmqoubieo.com', 'code-signing.org', 'coldchallenge.xyz', 'combinefoods2019b.com', 'communigate.bmesarsodothmqoubieo.com', 'connectbentleyd.com', 'considerbest.top', 'containsbest.top', 'controllerairlanes.top', 'coolbearblunts.com', 'cooldogblunts.com', 'corpmail.bmesarsodothmqoubieo.com', 'coterdesterbutom.date', 'counteredilin.top', 'cousinrentals2000b.com', 'covermillsd.com', 'cpebgfmpmrropiighmamobhoacsbigaf.top', 'cpidxonrihdjtwgbshwt.com', 'cpidyredfdshhkpymtqq.com', 'credithousehold1998b.com', 'creekpipes2009b.com', 'cust6.bmesarsodothmqoubieo.com', 'cust94.bmesarsodothmqoubieo.com', 'cv.bmesarsodothmqoubieo.com', 'cvrqiyjfuxfgbcnarxxl.com', 'cxvdsfwejmy.one', 'dandtpremierhomes.com', 'danielsaudits.com', 'darknode88.duckdns.org', 'db0.bmesarsodothmqoubieo.com', 'defaultsbest.top', 'delgadologisticss.com', 'demicthatmo.top', 'democratyzi.com', 'desantogambito.agency', 'destinyrem.kozow.com', 'detroit.bmesarsodothmqoubieo.com', 'device.bmesarsodothmqoubieo.com', 'dfuimiubaifhimoofmfpbmdjjedaaphs.top', 'dhlhcdvspiwgadroeotb.com', 'dhxpjysrblhopmngdqsf.com', 'diamante.mywire.org', 'dicmhssepmsidahcbfhojigipobfsefa.top', 'digitalworldonline.net', 'dilinwestbig.top', 'dillonservicess.com', 'dingsteddoom.quest', 'divine-fog-b1e1.databucket23.workers.dev', 'docpsigpecosugdeurasorsmaafpadsf.top', 'documentos.bmesarsodothmqoubieo.com', 'dohcovwwmvsnnpfckrbs.com', 'domigilamorov.xyz', 'doningstore.buzz', 'doublelogistics2017b.com', 'dowbroswebneting.one', 'download.dyndns-wiki.com', 'drakeluckyg.com', 'drinkcrypto2020b.com', 'driverpackcdn.com', 'dropmefilesbox.com', 'dzikic-my-sharepoint.com', 'dzikics-my-sharepoint.com', 'eachsecuritybuswin.com', 'easipeasytech.xyz', 'ebdijccirfemmpggbushbspopffmrdee.shop', 'ecologycraft1998b.com', 'edofnponofnsmqivtdfk.com', 'edwardjamie.duckdns.org', 'efqpzs6of9mcwhc.today', 'ehfbbkeiyrxhrxoagdeu.com', 'ejooeoisfvklbaccpoqq.com', 'emusecuritybusaudit.com', 'encounterilin.top', 'encryptionfin.top', 'eng.bmesarsodothmqoubieo.com', 'enticationmetho.ink', 'eraadj.calipol.xyz', 'erandtheresult.top', 'erapost2009b.com', 'erformedilin.top', 'erkjvyyfwtobjavgrfim.com', 'erkjwcpuavgrgcrwsavg.com', 'eruiopijhgnn4.xyz', 'erxrbsujmroxvyaoerxr.com', 'espinozastingg.com', 'etaasj.calitin.xyz', 'etjmejjcxjtwweitluuw.com', 'euconsalting.com', 'evflha888vf2j22.digital', 'exchangersdirectory.com', 'exfiltrating.me', 'exhaustcannond.com', 'exportmunic007.duckdns.org', 'f22.avanoruk.com', 'failandstor.buzz', 'fcoidsgsfdpbpasphbsusaismbhsohep.shop', 'felixkertem.pw', 'festertyhuilp.download', 'fewosborned.com', 'fg-356-offis-dowload.com', 'fgzqudjpoicgu.top', 'fiaofrueixqhxofrlnde.com', 'figueroascorpiong.com', 'file-coin-host-12.com', 'filestore.bmesarsodothmqoubieo.com', 'filmspoints.com', 'financialbom.us', 'fio.linosheart.com', 'firefoxupdatenew.com', 'firenicatrible.com', 'fivepointschiro.com', 'fkqqhmkavarmsxnucflq.com', 'flameaudit2016b.com', 'flametradoom.quest', 'floresballg.com', 'fmjpmbjsdirapeprrcierohgupcbfpob.top', 'fop.langoonik.com', 'fountandevin.com', 'foxfulderlend.bond', 'fpoedoaagbcduashsjiddfrsibufemrs.top', 'fqnvtmqsbrrxrltbkpxn.com', 'francopublicg.com', 'freightmgmt.duckdns.org', 'frhoklqhapep.cloud', 'friedmanconsiderg.com', 'frizfftylerdssa.art', 'frontdesk.bmesarsodothmqoubieo.com', 'fullerswitchg.com', 'fwvgadbvqnsmjgumjgye.com', 'fx.rhinobuff.com', 'gainesslushg.com', 'gapsecurityauditwin.com', 'gbsjttwdmxqvurwymtuw.com', 'gcomdmgojmermhoaobrcdhcfbbcjghhr.top', 'gdugytcwkepvygxupgfj.com', 'gdugytcwkepvykcqxpmu.com', 'geils3aw2uj8x9vl3h.agency', 'generatedmas.top', 'gfiaehpfohddcjpuamrcsbsaciubuhjo.top', 'ggprogidvinut.top', 'ghftrezbreskler.art', 'ghjknbvdrtyj.xyz', 'gilbertplasticg.com', 'giovaninardo13.club', 'gistratiofilin.top', 'gjttxcfragwmworlsitr.com', 'gjusxadcucubsblcvhhk.com', 'glasshollowayd.com', 'glowstorage2001b.com', 'goodstritvil.top', 'gownstevensond.com', 'greenco2021.top', 'gregorydentistg.com', 'gtskjvia3oi4.net', 'hafiznor336.duckdns.org', 'hamaderoning.club', 'hamiltontrialg.com', 'hardwarebest.top', 'harmoncleanings.com', 'harringtonsavingss.com', 'harshodonnelld.com', 'hawkinsorangeg.com', 'hawman.cc.dvrlists.com', 'hctvtvhndvfocyposuho.com', 'healthfirsthospitals.com', 'helpdesk.bmesarsodothmqoubieo.com', 'henderson.camdvr.org', 'henderson1.camdvr.org', 'herringpurityg.com', 'hfyydajbyddutnvrnigk.com', 'hometv1998b.com', 'hopesecuritywinbus.com', 'host-data-coin-11.com', 'hpvyrsupwexkdagpwipb.com', 'hqaxkbbma05u48.agency', 'hsdecprrbdrcufacrerergpagosfreoa.top', 'hsuahiysautcr.xyz', 'hudsonborrowg.com', 'hulmgscbhupafqxjqgby.com', 'husbbrkpvrqjomuyhdpd.com', 'hwzpgovt.nsupdate.info', 'hypervupdater.com', 'i.shadow-mods.net', 'ias.bmesarsodothmqoubieo.com', 'iasfugibz9x.xyz', 'idgerowner.duckdns.org', 'ifbtjxoaxiuothjbywto.com', 'ifbtkwenidpwcpidnuri.com', 'ifnprhfyflwgthmewfnm.com', 'ifswbaxmkol.cloud', 'ignatedorilin.top', 'iicyxgjntvhqqwawfury.com', 'ilajsuyhbegomyqxckui.com', 'ildrenmightf.top', 'illnessconnerd.com', 'image.l1stary.top', 'includebest.top', 'independencesecurity.com', 'inheritmontesd.com', 'inpsaslimutari.com', 'insaneico2013b.com', 'interbloger.bar', 'interbloger.com', 'iphanyi.webredirect.org', 'iplanet.bmesarsodothmqoubieo.com', 'ipv6.bmesarsodothmqoubieo.com', 'iselaharty12.club', 'itx02gler3uk5.digital', 'ixtjopopsynvxsvbjvtj.com', 'j.bmesarsodothmqoubieo.com', 'jcyrsirm8fjrudswk.xyz', 'jdiawe.calipol.cloud', 'jealmlcfbufmqbqrauho.com', 'jealmlcfbufmqwqnvymb.com', 'jeasbiecuybemhxksjjq.com', 'jeaudoxydggawwdcofqw.com', 'jeevanpunetha.com', 'jerenyankipong.duckdns.org', 'jkahgubfctyrtqjfgtto.com', 'jkyisyprnuojkiyefvna.com', 'jobcomesterd11.buzz', 'jobcomesterd12.buzz', 'jobcomesterd13.buzz', 'jobcomesterd14.buzz', 'jobcomesterd15.buzz', 'jobcomesterd16.buzz', 'jobcomesterd17.buzz', 'jobcomesterd18.buzz', 'jobcomesterd19.buzz', 'jobcomesterd20.buzz', 'joelthomas.linkpc.net', 'john.bmesarsodothmqoubieo.com', 'johpfoprucccbbjfdbmrseuoppejdoci.shop', 'jp.imonitorsoft.com', 'jrmcsdjriesibcuuhbgosbpuaebssiae.top', 'jrursormegcrbrrbocsgsgmchrgbburf.top', 'jtdxusbkrdkforusyisi.com', 'juliette.bmesarsodothmqoubieo.com', 'kakiosk.adsparkdev.com', 'kennedyamountg.com', 'khhnprlvgnoslxsrequw.com', 'ki6hcax6c1ehe5j.one', 'kitchenbiggy.best', 'krezol-group.com', 'ktaiq3.calitin.xyz', 'kwtnicaftfxmfpugjhll.com', 'laboratory.bmesarsodothmqoubieo.com', 'larsendisorderg.com', 'laterpost2016b.com', 'latua.nsupdate.info', 'lc83k0l0bdl6u41.one', 'leblanctaxis.com', 'lecanardstsornin.com', 'ledcaopingdeng.com', 'legend4000.duckdns.org', 'lembretesdiws.one', 'librarycoin2006b.com', 'linesblogers.bar', 'linespremium.pw', 'linespremium.ru', 'linkspremium.ru', 'livesblogers.bar', 'lkiujhyttrfdg.one', 'lmpvhwfwyhesjsbroqmd.com', 'lmpvjicjvvfuyhefeohy.com', 'lockerrollercooller.mywire.org', 'log.bmesarsodothmqoubieo.com', 'log.exposedbotnets.ru', 'logs.bmesarsodothmqoubieo.com', 'loudgas2016b.com', 'lplazadtemins.duckdns.org', 'lxbwdlaawyulvwhmxbyq.com', 'macdonaldjaguarg.com', 'machinebest.top', 'mail.dipiluminacion.com', 'makelifebetterdo.fun', 'makestantond.com', 'marinjourneyg.com', 'marksvelvetg.com', 'masseyeffortg.com', 'mathewsoutputg.com', 'maxcijhgfdfhj.buzz', 'maxcijhgfdfhj.xyz', 'mayak-lombard.ru', 'maynardchickeng.com', 'mbjuarkbwdwdcswldyup.com', 'mbnyridtpvhnkhkpckhn.com', 'mcfarlandsquirrelg.com', 'mcleanbounceg.com', 'mcphersonscang.com', 'measuremanagement2001b.com', 'medranoborings.com', 'medusabotnet.com', 'member.bmesarsodothmqoubieo.com', 'membership.myddns.rocks', 'menkitostbig.top', 'mercadodaneting.one', 'metaljeffersond.com', 'mfpuejcfihfbcirmfhbdbuegjssmgbpm.top', 'mg.bmesarsodothmqoubieo.com', 'michaelgardenings.com', 'microsoft-cdn.org', 'mikugivetonik.top', 'miraclerentals2007b.com', 'mixbtc2007b.com', 'mixestate2007b.com', 'mixoil2005b.com', 'mjjtncwnvemxhreqxpmn.com', 'mjjtncwnvemxhreqxpmq.com', 'mjjtobmrqyolqqbqqwmf.com', 'mng7wu9tx22isva.digital', 'moawimmingnstr.fun', 'mobibanewdan.duckdns.org', 'mobile.erxrbsujmroxvyaoerxr.com', 'modeltransport2011b.com', 'modewestbig.top', 'mondanepre.myddns.me', 'moneyrem.cc.dvrlists.com', 'mpdiccrfubmaomiidsaesrmfpoujhdgu.shop', 'msbackupservice.org', 'muchmurillod.com', 'mugsecuritybuss.com', 'mwaet.calipol.xyz', 'mxaflbsa3chjk0i.quest', 'mystaticdate.com', 'myusapayroll.com', 'nacuasujciiwi3.xyz', 'naturestantond.com', 'nbfdertjhgfghj.xyz', 'nbomgpwekyvxtkumyesh.com', 'ncreaslipfo.top', 'netsullivand.com', 'networkbest.top', 'nhtredfghik.buzz', 'nhtredfghik.xyz', 'niyxgvsjxbclqmjjqfbs.com', 'niyxhurikesegehevojc.com', 'njlove.duckdns.org', 'nl.bmesarsodothmqoubieo.com', 'nm542iefjijgl2n.one', 'noblecreativeaz.com', 'noldclerowvakbkypokh.com', 'northwestlim.top', 'notas-fiscais.com', 'novgubfisdtbtdpdvseg.com', 'novpnaispvvrhxdxuixg.com', 'nummasdocarm.ru', 'nyannewtoday.duckdns.org', 'oauth-gateway.com', 'objtqwwsimibwcmnkrqw.com', 'ocofbdrioehsjdaaujfmgofoddcciuhs.top', 'odagmdjochhbgacdmjhbabgbaigjcsep.top', 'ogdebaucsjjeghfheesajgeumbjhsbdu.top', 'oiamrdcdjhspucccdrajefabjimssmcm.shop', 'oibjdeegioifnymnndsx.com', 'oldboytakecar.net', 'onlineshepardd.com', 'onlyadheres.com', 'operarentals2006b.com', 'operatingbest.top', 'orhinosementris.top', 'oriobr.calinox.top', 'oubibampqubifnprexql.com', 'oubteditwouldw.top', 'ouohygqcdyfraeumcvkd.com', 'outgoing.bmesarsodothmqoubieo.com', 'ovninaysozidu.top', 'pa49ed5cxjrdj.digital', 'pages.bmesarsodothmqoubieo.com', 'pancinhabrasil.duckdns.org', 'pandemic4u.awsmppl.com', 'parkfinishg.com', 'patelboostg.com', 'pc4.bmesarsodothmqoubieo.com', 'pcgchgsscgsbjedusijedcgjpcpfgmpm.shop', 'pda.bmesarsodothmqoubieo.com', 'penaltyoutsourcing2012b.com', 'perfectbernald.com', 'pfizerlabapi.azureedge.net', 'pinnaclehomesusa.net', 'plustrankingh.buzz', 'pop.urlovedstuff.com', 'portableline.bar', 'portablesoft.bar', 'portedauthenticati.ink', 'pozhadvokat.com', 'ppp19.bmesarsodothmqoubieo.com', 'praisegravesd.com', 'premiumlines.top', 'premiumlinks.top', 'premiumlists.ru', 'presenthollandd.com', 'previouslylim.top', 'proxy.dhxpjysrblhopmngdqsf.com', 'ptncgkjslowionfuavkf.com', 'ptncgkjsloxlvtjoxlvt.com', 'punchtrujillod.com', 'qpspsdtevijlyxaaerug.com', 'qwernxwrilhvhnaeuikn.com', 'qwqnvhnqevofauhlolmv.com', 'qwqnwgdeboqsysmupdwy.com', 'r4eiw6.calipol.top', 'r4nrjfmlc3k7z00.quest', 'r8eejt.calipol.top', 'raaesj.calinox.top', 'raisinglipfo.top', 'ramoscaptaing.com', 'ransfelipfo.top', 'ransferlipfo.top', 'rcoixeaaquuetirqsmhf.com', 'rcoixfylhcdhlxlqwwjd.com', 'rdukhnihioh2.xyz', 'readabilitytin.top', 'rebornx.duckdns.org', 'regretmanagement2016b.com', 'regularcallahand.com', 'rem16.camdvr.org', 'remmusic.freeddns.org', 'remote.bmesarsodothmqoubieo.com', 'removingsok.top', 'renovatiomarketing.com', 'requiringsit.top', 'resolvefinit.top', 'returnedmas.top', 'rigtestforum.ru', 'rogerhunk41.duckdns.org', 'rogerhunk41.nsupdate.info', 'rogerhunk41backup.nsupdate.info', 'rogerhunk41backup011.nsupdate.info', 'roomnielsend.com', 'rppmbbdacuojusecmgimormdrhiidpca.top', 'rtyhgfdfghjk.buzz', 'rtyhgfdfghjk.xyz', 'runningbest.top', 'rvpidccqxpmugpdnrqjf.com', 'rvpiebreqyoixyiwwakb.com', 'rwaehpjqfyyvfmam7.today', 'safiliti-load.com', 'saltlake.bmesarsodothmqoubieo.com', 'sannation.duckdns.org', 'santiagomortgages.com', 'saptransmissions.dvrlists.com', 'saturnbotnet.net', 'saudjyyvv663.xyz', 'sbsmcfpfjrpruuohfsjggdmbomucaffp.top', 'schwartzidentifyg.com', 'scoutpalmerd.com', 'sd360update.xyz', 'sdfghjklemm3.xyz', 'seattle.bmesarsodothmqoubieo.com', 'securelinks.bar', 'securitybusauditwin.com', 'securitybusinesspink.com', 'securitybusinessthin.com', 'serfrloadhh03.top', 'service.trendmrcio.com', 'servicelinks.top', 'seztrehjplk.in', 'sfdmoamhcsfdpocfgdifmjcgcedjbsui.shop', 'sffxmrlphxqjceiaqjci.com', 'sftp.uhlrmupwipbroqmdnfrw.com', 'sheltondepositg.com', 'shopingplan.com', 'shopyscripts.com', 'silenhacimer.top', 'simplifiedtin.top', 'sj04xb2nh59mg5.agency', 'soccerassets2007b.com', 'sophossecurityt.com', 'sophosupdaterr.com', 'spokane.bmesarsodothmqoubieo.com', 'spotservices2015b.com', 'srwhpvikxwoxfmgotrje.com', 'sssilkplaster.in', 'starsecurellc.xyz', 'stevensondilemmag.com', 'strawberry.kids-singer.net', 'stricklandspeakg.com', 'strongmail.bmesarsodothmqoubieo.com', 'subdibermarine.pw', 'submit.bmesarsodothmqoubieo.com', 'summersdishg.com', 'sunalvarezd.com', 'surroundbest.top', 'sw0.bmesarsodothmqoubieo.com', 'sw1.bmesarsodothmqoubieo.com', 'sxmobillechain.xyz', 'syklkgebottfhusikojb.com', 'syklkgepvimdqafwcyyf.com', 'symantecsecurityt.com', 'syncdataservices.com', 'sys2021.linkpc.net', 'sysauditbusines.com', 'systemmentorsec.com', 'sywhpbusecnsacjfpalm.com', 't2iacr.calinox.top', 't5ctg9k9cpdmhjt.quest', 't7io5s.calitin.buzz', 'takitrisexp.ru', 'tapiaoutsourcings.com', 'tdfkntyofkrhcemrlphx.com', 'technology.bmesarsodothmqoubieo.com', 'technoshoper.com', 'teejdhytvemagqdfalah.com', 'telephone.bmesarsodothmqoubieo.com', 'temberlipfo.top', 'teredaroundcarb.top', 'testlab.bmesarsodothmqoubieo.com', 'testlinux.bmesarsodothmqoubieo.com', 'theradinfiles.top', 'thewormyany.top', 'thousandssit.top', 'thumbstorage1998b.com', 'tiloktarifh.top', 'tirodelacoweb.quest', 'tjokqqbqrjksmygthmac.com', 'tjudhvitibwfkeiaqjci.com', 'todaquengarquer.biz', 'tomeredorilin.top', 'tool.bmesarsodothmqoubieo.com', 'toothoil2015b.com', 'top.killwhenabusing1.xyz', 'topproperty1998b.com', 'tour.bmesarsodothmqoubieo.com', 'tqvgouhfyydajdwewxuv.com', 'trapboijiggy.dvrlists.com', 'tribegloverd.com', 'txjwlgkqcddbdwdfmawj.com', 'txjwlgkqcddbdwdfqese.com', 'u1iacr.calipol.xyz', 'u876134.nsupdate.info', 'u876135.nsupdate.info', 'u876136.nsupdate.info', 'u876137.duckdns.org', 'u876137.nsupdate.info', 'ubfmagagaxiqdpwldfdv.com', 'udguijgeupsubfcimcbjghmcbbpepjbh.top', 'uebgpiojgbobmuffmcjbcfipdmgfejbu.top', 'uhlrmupwipbroqmdnfrw.com', 'uhlrmxnbascpbupdhypl.com', 'uhlrmxnfeoglvjpavauw.com', 'update.aliyunsecurity.online', 'update.l1stary.top', 'updateffboruse.com', 'updateviacloud.xyz', 'upsetgardening2004b.com', 'usmsmsmsvapiikmcrnup.com', 'v1xmw5x3phqc.digital', 'v798635.hosted-by-vdsina.ru', 'variouscastrod.com', 'vauodyrnlktmtlqnjifk.com', 'verboliatsiaeeees.com', 'vertigiodust.top', 'veztywzreswyxlp.directory', 'viewsketplctly.fun', 'vip.bmesarsodothmqoubieo.com', 'vistyhgjrezxcx.download', 'voldaniela.duckdns.org', 'warehouse.bmesarsodothmqoubieo.com', 'wazoploretmbir.online', 'webstats.bmesarsodothmqoubieo.com', 'westcostrimer.top', 'wfeuyqhwurfthhgjpeiw.com', 'wholeslipfo.top', 'wilasgenetibig.top', 'wilcoxspendg.com', 'win.bmesarsodothmqoubieo.com', 'winauditbusines.com', 'windows-upgraded.com', 'windows02.bmesarsodothmqoubieo.com', 'winsecuritybuess.com', 'winsecuritybus.com', 'winssecuritybusaudit.com', 'wmwubjmfvemliexqvbhk.com', 'wmwubjmjjhrtngbtwkhg.com', 'wormtoday.duckdns.org', 'wornimyahter.top', 'wozwobchitpr.top', 'wrapedqvrtrgkmttfkcq.com', 'wsmroagmlrvvubjjjafd.com', 'wsmroyquhtycdpqoiehx.com', 'wtaey2.calipol.cloud', 'wtrajutnmkgoxfdyhqcw.com', 'www.ancjrljxpmegbstgwrxo.com', 'www.anofauhlxfjumbieoakk.com', 'www.atbmowsfoumxnqwsaoek.com', 'www.bfrvmquxmaxbcdrrqfrg.com', 'www.bftxqinojwwvunpkjofs.com', 'www.blaxies3.com', 'www.bmesarsodothmqoubieo.com', 'www.bmesarsofaqpxnbtuuwy.com', 'www.bmesarsofaqpxnbtyyst.com', 'www.bmrbpdnuvvcngkswqwdc.com', 'www.bsaxotnpiaadlgapkmua.com', 'www.bsaxotnpiaadlgvpygnl.com', 'www.bsbbaolvimjwfnsqidvg.com', 'www.bsbbcqbnhweyapwrshql.com', 'www.bsbbcqbnhweyapwrsrkq.com', 'www.carbeloy.com', 'www.cbpeajewhmxbyhqxjqcs.com', 'www.chaing-list.xyz', 'www.cmthmrrnxwfeuywoxyqf.com', 'www.contorig2.com', 'www.cpidxonrihdjtwgbshwt.com', 'www.cpidyredfdshhkpymtqq.com', 'www.ctfwiki.workers.dev', 'www.cvrqiyjfuxfgbcnarxxl.com', 'www.dhlhcdvspiwgadroeotb.com', 'www.dhxpjysrblhopmngdqsf.com', 'www.dohcovwwmvsnnpfckrbs.com', 'www.edofnponofnsmqivtdfk.com', 'www.ehfbbkeiyrxhrxoagdeu.com', 'www.ejooeoisfvklbaccpoqq.com', 'www.erkjvyyfwtobjavgrfim.com', 'www.erkjwcpuavgrgcrwsavg.com', 'www.erxrbsujmroxvyaoerxr.com', 'www.fiaofrueixqhxofrlnde.com', 'www.fqnvtmqsbrrxrltbkpxn.com', 'www.fwvgadbvqnsmjgumjgye.com', 'www.gbsjttwdmxqvurwymtuw.com', 'www.gdugytcwkepvygxupgfj.com', 'www.gdugytcwkepvykcqxpmu.com', 'www.gjttxcfragwmworlsitr.com', 'www.gjusxadcucubsblcvhhk.com', 'www.hctvtvhndvfocyposuho.com', 'www.hfyydajbyddutnvrnigk.com', 'www.hpvyrsupwexkdagpwipb.com', 'www.hulmgscbhupafqxjqgby.com', 'www.husbbrkpvrqjomuyhdpd.com', 'www.ifbtjxoaxiuothjbywto.com', 'www.ifbtkwenidpwcpidnuri.com', 'www.ifnprhfyflwgthmewfnm.com', 'www.iicyxgjntvhqqwawfury.com', 'www.ilajsuyhbegomyqxckui.com', 'www.iregentos.info', 'www.ixtjopopsynvxsvbjvtj.com', 'www.jealmlcfbufmqbqrauho.com', 'www.jealmlcfbufmqwqnvymb.com', 'www.jeasbiecuybemhxksjjq.com', 'www.jeaudoxydggawwdcofqw.com', 'www.jkahgubfctyrtqjfgtto.com', 'www.jkyisyprnuojkiyefvna.com', 'www.jtdxusbkrdkforusyisi.com', 'www.khhnprlvgnoslxsrequw.com', 'www.kwtnicaftfxmfpugjhll.com', 'www.lmpvhwfwyhesjsbroqmd.com', 'www.lmpvjicjvvfuyhefeohy.com', 'www.lxbwdlaawyulvwhmxbyq.com', 'www.magen-tracks.xyz', 'www.magentos6.com', 'www.mbjuarkbwdwdcswldyup.com', 'www.mbnyridtpvhnkhkpckhn.com', 'www.mjjtncwnvemxhreqxpmn.com', 'www.mjjtncwnvemxhreqxpmq.com', 'www.mjjtobmrqyolqqbqqwmf.com', 'www.myserv012.com', 'www.nbomgpwekyvxtkumyesh.com', 'www.niyxgvsjxbclqmjjqfbs.com', 'www.niyxhurikesegehevojc.com', 'www.noldclerowvakbkypokh.com', 'www.novgubfisdtbtdpdvseg.com', 'www.novpnaispvvrhxdxuixg.com', 'www.objtqwwsimibwcmnkrqw.com', 'www.oibjdeegioifnymnndsx.com', 'www.oubibampqubifnprexql.com', 'www.ouohygqcdyfraeumcvkd.com', 'www.ptncgkjslowionfuavkf.com', 'www.ptncgkjsloxlvtjoxlvt.com', 'www.qpspsdtevijlyxaaerug.com', 'www.qwernxwrilhvhnaeuikn.com', 'www.qwqnvhnqevofauhlolmv.com', 'www.qwqnwgdeboqsysmupdwy.com', 'www.ravexim3.com', 'www.rcoixeaaquuetirqsmhf.com', 'www.rcoixfylhcdhlxlqwwjd.com', 'www.rvpidccqxpmugpdnrqjf.com', 'www.rvpiebreqyoixyiwwakb.com', 'www.sffxmrlphxqjceiaqjci.com', 'www.srwhpvikxwoxfmgotrje.com', 'www.syklkgebottfhusikojb.com', 'www.syklkgepvimdqafwcyyf.com', 'www.sywhpbusecnsacjfpalm.com', 'www.tdfkntyofkrhcemrlphx.com', 'www.teejdhytvemagqdfalah.com', 'www.tjokqqbqrjksmygthmac.com', 'www.tjudhvitibwfkeiaqjci.com', 'www.tomrings.com', 'www.tqvgouhfyydajdwewxuv.com', 'www.txjwlgkqcddbdwdfmawj.com', 'www.txjwlgkqcddbdwdfqese.com', 'www.ubfmagagaxiqdpwldfdv.com', 'www.uhlrmupwipbroqmdnfrw.com', 'www.uhlrmxnbascpbupdhypl.com', 'www.uhlrmxnfeoglvjpavauw.com', 'www.usmsmsmsvapiikmcrnup.com', 'www.vauodyrnlktmtlqnjifk.com', 'www.wfeuyqhwurfthhgjpeiw.com', 'www.wmwubjmfvemliexqvbhk.com', 'www.wmwubjmjjhrtngbtwkhg.com', 'www.wrapedqvrtrgkmttfkcq.com', 'www.wsmroagmlrvvubjjjafd.com', 'www.wsmroyquhtycdpqoiehx.com', 'www.wtrajutnmkgoxfdyhqcw.com', 'www.xlvddbpswohcbwxcosce.com', 'www.xlvddtbgobmrrmmlirjl.com', 'www.xlvpirgcrsfvqulpedqf.com', 'www.xrldobjttlwsimpgcleh.com', 'www.yhtgagvgrmugldrmyvep.com', 'www.ykcqxqltrjtnckeovymb.com', 'www.yomcidiobjacfxfstpkj.com', 'www1.bmesarsodothmqoubieo.com', 'x1zu4ksval1hjh5.today', 'xertsontriscler.agency', 'xlvddbpswohcbwxcosce.com', 'xlvddtbgobmrrmmlirjl.com', 'xlvpirgcrsfvqulpedqf.com', 'xrldobjttlwsimpgcleh.com', 'y6gsh.duckdns.org', 'yhtgagvgrmugldrmyvep.com', 'ykcqxqltrjtnckeovymb.com', 'yomcidiobjacfxfstpkj.com', 'yourchildrenfoundation.org', 'yu.bmesarsodothmqoubieo.com', 'yxjukwts3tt.today', 'z7gzv6sw6ui9.xyz', 'zayneliann14.club', 'zdov9v88e83jfa.xyz', 'zerocool888.duckdns.org', 'zorinosali15.club']\n"
     ]
    }
   ],
   "source": [
    "# Look at filtered results\n",
    "filtered_dga_domain_df = combined_domain_df[(combined_domain_df['type'] == 'malicious') & (combined_domain_df['length'] > length_threshold) & (combined_domain_df['entropy_value'] > entropy_threshold) & (combined_domain_df['consonants'] > consonants_threshold) \\\n",
    "                            & (combined_domain_df['domain_age'] < age_threshold)]\n",
    "print(len(filtered_dga_domain_df))\n",
    "print(filtered_dga_domain_df.index.tolist())"
   ]
  },
  {
   "cell_type": "code",
   "execution_count": 154,
   "id": "b2e2f6d2",
   "metadata": {},
   "outputs": [
    {
     "data": {
      "text/plain": [
       "000webhost.com                [000w, 00we, 0web, webh, ebho, bhos, host]\n",
       "000webhostapp.com      [000w, 00we, 0web, webh, ebho, bhos, host, ost...\n",
       "0axqpcc.cn                                      [0axq, axqp, xqpc, qpcc]\n",
       "0ffline.offes.co.uk    [0ffl, ffli, flin, line, ineo, neof, eoff, off...\n",
       "0jaest.calipol.top     [0jae, jaes, aest, estc, stca, tcal, cali, ali...\n",
       "                                             ...                        \n",
       "zuwevex.com                                     [zuwe, uwev, weve, evex]\n",
       "zyokao27.top                              [zyok, yoka, okao, kao2, ao27]\n",
       "zyonou41.top                              [zyon, yono, onou, nou4, ou41]\n",
       "zyoskv38.top                              [zyos, yosk, oskv, skv3, kv38]\n",
       "zyoyol62.top                              [zyoy, yoyo, oyol, yol6, ol62]\n",
       "Name: ngrams, Length: 6088, dtype: object"
      ]
     },
     "execution_count": 154,
     "metadata": {},
     "output_type": "execute_result"
    }
   ],
   "source": [
    "# Create list of n-grams per domain.\n",
    "n=4\n",
    "combined_domain_df['ngrams'] = combined_domain_df['domain'].apply(lambda x: [x[i:i+n] for i in range(len(x)-n+1)])\n",
    "combined_domain_df['ngrams']"
   ]
  },
  {
   "cell_type": "code",
   "execution_count": 157,
   "id": "8ee3afb8",
   "metadata": {},
   "outputs": [
    {
     "data": {
      "text/plain": [
       "('/Users/kgray/Downloads/majestic_million.csv',\n",
       " <http.client.HTTPMessage at 0x2997cd6f0>)"
      ]
     },
     "execution_count": 157,
     "metadata": {},
     "output_type": "execute_result"
    }
   ],
   "source": [
    "#Download majestic million list\n",
    "#majestic_million_domains_url = 'http://downloads.majestic.com/majestic_million.csv'\n",
    "#urllib.request.urlretrieve(majestic_million_domains_url, '/Users/kgray/Downloads/majestic_million.csv')"
   ]
  },
  {
   "cell_type": "markdown",
   "id": "d924e14c",
   "metadata": {},
   "source": [
    "Another great reference: https://github.com/SuperCowPowers/data_hacking/blob/master/dga_detection/DGA_Domain_Detection.ipynb"
   ]
  },
  {
   "cell_type": "code",
   "execution_count": 161,
   "id": "d66a4309",
   "metadata": {},
   "outputs": [
    {
     "data": {
      "text/plain": [
       "Text(0, 0.5, 'Domain Entropy')"
      ]
     },
     "execution_count": 161,
     "metadata": {},
     "output_type": "execute_result"
    },
    {
     "data": {
      "image/png": "[encoded data removed]",
      "text/plain": [
       "<Figure size 1296x1008 with 1 Axes>"
      ]
     },
     "metadata": {
      "needs_background": "light"
     },
     "output_type": "display_data"
    }
   ],
   "source": [
    "plt.scatter(combined_domain_df[combined_domain_df['type'] == 'benign']['length'], combined_domain_df[combined_domain_df['type'] == 'benign']['entropy_value'], s=140, c='#aaaaff', label='benign', alpha=.2)\n",
    "plt.scatter(combined_domain_df[combined_domain_df['type'] == 'malicious']['length'], combined_domain_df[combined_domain_df['type'] == 'malicious']['entropy_value'], s=40, c='r', label='malicious', alpha=.3)\n",
    "plt.legend()\n",
    "pylab.xlabel('Domain Length')\n",
    "pylab.ylabel('Domain Entropy')"
   ]
  },
  {
   "cell_type": "markdown",
   "id": "74d921af",
   "metadata": {},
   "source": [
    "## Compare domains by entropy over time"
   ]
  },
  {
   "cell_type": "code",
   "execution_count": 36,
   "id": "5166c06b",
   "metadata": {},
   "outputs": [
    {
     "data": {
      "text/plain": [
       "<AxesSubplot:xlabel='creation_date'>"
      ]
     },
     "execution_count": 36,
     "metadata": {},
     "output_type": "execute_result"
    },
    {
     "data": {
      "image/png": "[encoded data removed]",
      "text/plain": [
       "<Figure size 648x504 with 1 Axes>"
      ]
     },
     "metadata": {
      "needs_background": "light"
     },
     "output_type": "display_data"
    }
   ],
   "source": [
    "joined_df = whois_df.join(entropy_df, lsuffix='_whois', rsuffix='_entropy').drop(columns='type_entropy').rename(columns={'type_whois': 'type'})\n",
    "joined_df.groupby([joined_df['creation_date'].dt.year, 'type'])['entropy_value'].mean().unstack('type').plot.bar()"
   ]
  },
  {
   "cell_type": "markdown",
   "id": "40458dad",
   "metadata": {},
   "source": [
    "## Plot entropy for only malicious non-shared domains"
   ]
  },
  {
   "cell_type": "code",
   "execution_count": 37,
   "id": "3615a006",
   "metadata": {},
   "outputs": [
    {
     "data": {
      "text/plain": [
       "<AxesSubplot:xlabel='creation_date'>"
      ]
     },
     "execution_count": 37,
     "metadata": {},
     "output_type": "execute_result"
    },
    {
     "data": {
      "image/png": "[encoded data removed]",
      "text/plain": [
       "<Figure size 648x504 with 1 Axes>"
      ]
     },
     "metadata": {
      "needs_background": "light"
     },
     "output_type": "display_data"
    }
   ],
   "source": [
    "joined_old_not_shared_malicous_df = old_malicious_not_shared_domains_df.set_index('domain_name').join(entropy_df, lsuffix='_whois', rsuffix='_entropy').drop(columns='type_entropy').rename(columns={'type_whois': 'type'})\n",
    "joined_old_not_shared_malicous_df.groupby([joined_old_not_shared_malicous_df['creation_date'].dt.year, 'type'])['entropy_value'].mean().unstack('type').plot.bar()"
   ]
  },
  {
   "cell_type": "markdown",
   "id": "12e175f5",
   "metadata": {},
   "source": [
    "## To Test\n",
    "* Two-tier evaluation...1) is domain likely DGA? 2) is domain likely to be legitimate but hackable?"
   ]
  },
  {
   "cell_type": "code",
   "execution_count": null,
   "id": "c0dda825",
   "metadata": {},
   "outputs": [],
   "source": []
  }
 ],
 "metadata": {
  "kernelspec": {
   "display_name": "Python 3 (ipykernel)",
   "language": "python",
   "name": "python3"
  },
  "language_info": {
   "codemirror_mode": {
    "name": "ipython",
    "version": 3
   },
   "file_extension": ".py",
   "mimetype": "text/x-python",
   "name": "python",
   "nbconvert_exporter": "python",
   "pygments_lexer": "ipython3",
   "version": "3.10.2"
  }
 },
 "nbformat": 4,
 "nbformat_minor": 5
}

{
 "cells": [
  {
   "cell_type": "code",
   "execution_count": 1,
   "metadata": {
    "collapsed": true
   },
   "outputs": [],
   "source": [
    "from sklearn.ensemble import RandomForestClassifier\n",
    "from sklearn.model_selection import train_test_split\n",
    "from sklearn.preprocessing import OneHotEncoder, LabelEncoder\n",
    "import pandas as pd\n",
    "from joblib import dump\n"
   ]
  },
  {
   "cell_type": "code",
   "execution_count": 2,
   "outputs": [
    {
     "name": "stderr",
     "output_type": "stream",
     "text": [
      "/Users/liam/miniconda3/envs/artemis/lib/python3.9/site-packages/IPython/core/interactiveshell.py:3457: DtypeWarning: Columns (48,99,100,101,102,103,104,108,109,110,111,112,113,115,116,117,118,119,120,121,122,126,132,133,136,138,139,140,141,144,145,146,147,149,150,151,152,156,160,161,163,164,165,166,167,168) have mixed types.Specify dtype option on import or set low_memory=False.\n",
      "  exec(code_obj, self.user_global_ns, self.user_ns)\n"
     ]
    }
   ],
   "source": [
    "file = \"/Users/liam/PycharmProjects/dataspell/artemis/data/processed/whois_data.csv\"\n",
    "df = pd.read_csv(file)\n",
    "features = ['dns_rec_mx_cc', 'entropy', 'creation_date', 'days_since_creation']\n"
   ],
   "metadata": {
    "collapsed": false,
    "pycharm": {
     "name": "#%%\n"
    }
   }
  },
  {
   "cell_type": "code",
   "execution_count": 3,
   "outputs": [],
   "source": [
    "label = 'malicious'\n",
    "labels = df[label].values\n",
    "data_df = df[features]\n",
    "#data_df = df.drop(columns=label)"
   ],
   "metadata": {
    "collapsed": false,
    "pycharm": {
     "name": "#%%\n"
    }
   }
  },
  {
   "cell_type": "code",
   "execution_count": 4,
   "outputs": [
    {
     "name": "stderr",
     "output_type": "stream",
     "text": [
      "/var/folders/s4/04m6jmt93ll3w72t198n3k3c0000gn/T/ipykernel_49521/286784156.py:1: SettingWithCopyWarning: \n",
      "A value is trying to be set on a copy of a slice from a DataFrame.\n",
      "Try using .loc[row_indexer,col_indexer] = value instead\n",
      "\n",
      "See the caveats in the documentation: https://pandas.pydata.org/pandas-docs/stable/user_guide/indexing.html#returning-a-view-versus-a-copy\n",
      "  data_df['creation_date'] = pd.to_datetime(data_df.creation_date)\n",
      "/var/folders/s4/04m6jmt93ll3w72t198n3k3c0000gn/T/ipykernel_49521/286784156.py:2: SettingWithCopyWarning: \n",
      "A value is trying to be set on a copy of a slice from a DataFrame.\n",
      "Try using .loc[row_indexer,col_indexer] = value instead\n",
      "\n",
      "See the caveats in the documentation: https://pandas.pydata.org/pandas-docs/stable/user_guide/indexing.html#returning-a-view-versus-a-copy\n",
      "  data_df['year'] = data_df.creation_date.dt.year\n",
      "/var/folders/s4/04m6jmt93ll3w72t198n3k3c0000gn/T/ipykernel_49521/286784156.py:3: SettingWithCopyWarning: \n",
      "A value is trying to be set on a copy of a slice from a DataFrame.\n",
      "Try using .loc[row_indexer,col_indexer] = value instead\n",
      "\n",
      "See the caveats in the documentation: https://pandas.pydata.org/pandas-docs/stable/user_guide/indexing.html#returning-a-view-versus-a-copy\n",
      "  data_df['month'] = data_df.creation_date.dt.month\n",
      "/var/folders/s4/04m6jmt93ll3w72t198n3k3c0000gn/T/ipykernel_49521/286784156.py:4: SettingWithCopyWarning: \n",
      "A value is trying to be set on a copy of a slice from a DataFrame.\n",
      "Try using .loc[row_indexer,col_indexer] = value instead\n",
      "\n",
      "See the caveats in the documentation: https://pandas.pydata.org/pandas-docs/stable/user_guide/indexing.html#returning-a-view-versus-a-copy\n",
      "  data_df['day'] = data_df.creation_date.dt.day\n"
     ]
    }
   ],
   "source": [
    "data_df['creation_date'] = pd.to_datetime(data_df.creation_date)\n",
    "data_df['year'] = data_df.creation_date.dt.year\n",
    "data_df['month'] = data_df.creation_date.dt.month\n",
    "data_df['day'] = data_df.creation_date.dt.day\n",
    "data_df = data_df.drop(columns='creation_date')\n",
    "data_df = data_df.fillna(-1)"
   ],
   "metadata": {
    "collapsed": false,
    "pycharm": {
     "name": "#%%\n"
    }
   }
  },
  {
   "cell_type": "code",
   "execution_count": 5,
   "outputs": [],
   "source": [
    "X_train, X_test, y_train, y_test = train_test_split(data_df, labels, random_state=0)"
   ],
   "metadata": {
    "collapsed": false,
    "pycharm": {
     "name": "#%%\n"
    }
   }
  },
  {
   "cell_type": "code",
   "execution_count": 6,
   "outputs": [],
   "source": [
    "labelenc = LabelEncoder().fit(data_df[features[0]])\n",
    "X_train[features[0]+\"_enc\"] = labelenc.transform(X_train[features[0]])\n",
    "X_train = X_train.drop(columns=features[0])\n",
    "X_test[features[0]+\"_enc\"] = labelenc.transform(X_test[features[0]])\n",
    "X_test = X_test.drop(columns=features[0])\n"
   ],
   "metadata": {
    "collapsed": false,
    "pycharm": {
     "name": "#%%\n"
    }
   }
  },
  {
   "cell_type": "code",
   "execution_count": 7,
   "outputs": [
    {
     "data": {
      "text/plain": "     dns_rec_mx_cc   entropy  days_since_creation    year  month   day\n0               us  1.918296               8960.0  1997.0    9.0  15.0\n1               us  2.750000               9130.0  1997.0    3.0  29.0\n2               us  2.521641               6250.0  2005.0    2.0  15.0\n3               us  2.128085               8102.0  2000.0    1.0  21.0\n4               us  2.947703               6506.0  2004.0    6.0   4.0\n...            ...       ...                  ...     ...    ...   ...\n6505            na  3.000000                252.0  2021.0    7.0  19.0\n6506            na  3.000000                252.0  2021.0    7.0  19.0\n6507            nl  3.378783               3272.0  2013.0    4.0  12.0\n6508            us  3.080501               2073.0  2016.0    7.0  24.0\n6509            na  3.337175               7578.0  2001.0    6.0  28.0\n\n[6510 rows x 6 columns]",
      "text/html": "<div>\n<style scoped>\n    .dataframe tbody tr th:only-of-type {\n        vertical-align: middle;\n    }\n\n    .dataframe tbody tr th {\n        vertical-align: top;\n    }\n\n    .dataframe thead th {\n        text-align: right;\n    }\n</style>\n<table border=\"1\" class=\"dataframe\">\n  <thead>\n    <tr style=\"text-align: right;\">\n      <th></th>\n      <th>dns_rec_mx_cc</th>\n      <th>entropy</th>\n      <th>days_since_creation</th>\n      <th>year</th>\n      <th>month</th>\n      <th>day</th>\n    </tr>\n  </thead>\n  <tbody>\n    <tr>\n      <th>0</th>\n      <td>us</td>\n      <td>1.918296</td>\n      <td>8960.0</td>\n      <td>1997.0</td>\n      <td>9.0</td>\n      <td>15.0</td>\n    </tr>\n    <tr>\n      <th>1</th>\n      <td>us</td>\n      <td>2.750000</td>\n      <td>9130.0</td>\n      <td>1997.0</td>\n      <td>3.0</td>\n      <td>29.0</td>\n    </tr>\n    <tr>\n      <th>2</th>\n      <td>us</td>\n      <td>2.521641</td>\n      <td>6250.0</td>\n      <td>2005.0</td>\n      <td>2.0</td>\n      <td>15.0</td>\n    </tr>\n    <tr>\n      <th>3</th>\n      <td>us</td>\n      <td>2.128085</td>\n      <td>8102.0</td>\n      <td>2000.0</td>\n      <td>1.0</td>\n      <td>21.0</td>\n    </tr>\n    <tr>\n      <th>4</th>\n      <td>us</td>\n      <td>2.947703</td>\n      <td>6506.0</td>\n      <td>2004.0</td>\n      <td>6.0</td>\n      <td>4.0</td>\n    </tr>\n    <tr>\n      <th>...</th>\n      <td>...</td>\n      <td>...</td>\n      <td>...</td>\n      <td>...</td>\n      <td>...</td>\n      <td>...</td>\n    </tr>\n    <tr>\n      <th>6505</th>\n      <td>na</td>\n      <td>3.000000</td>\n      <td>252.0</td>\n      <td>2021.0</td>\n      <td>7.0</td>\n      <td>19.0</td>\n    </tr>\n    <tr>\n      <th>6506</th>\n      <td>na</td>\n      <td>3.000000</td>\n      <td>252.0</td>\n      <td>2021.0</td>\n      <td>7.0</td>\n      <td>19.0</td>\n    </tr>\n    <tr>\n      <th>6507</th>\n      <td>nl</td>\n      <td>3.378783</td>\n      <td>3272.0</td>\n      <td>2013.0</td>\n      <td>4.0</td>\n      <td>12.0</td>\n    </tr>\n    <tr>\n      <th>6508</th>\n      <td>us</td>\n      <td>3.080501</td>\n      <td>2073.0</td>\n      <td>2016.0</td>\n      <td>7.0</td>\n      <td>24.0</td>\n    </tr>\n    <tr>\n      <th>6509</th>\n      <td>na</td>\n      <td>3.337175</td>\n      <td>7578.0</td>\n      <td>2001.0</td>\n      <td>6.0</td>\n      <td>28.0</td>\n    </tr>\n  </tbody>\n</table>\n<p>6510 rows × 6 columns</p>\n</div>"
     },
     "execution_count": 7,
     "metadata": {},
     "output_type": "execute_result"
    }
   ],
   "source": [
    "data_df"
   ],
   "metadata": {
    "collapsed": false,
    "pycharm": {
     "name": "#%%\n"
    }
   }
  },
  {
   "cell_type": "code",
   "execution_count": 8,
   "outputs": [],
   "source": [
    "clf = RandomForestClassifier(criterion='entropy', random_state=0).fit(X_train.values, y_train)"
   ],
   "metadata": {
    "collapsed": false,
    "pycharm": {
     "name": "#%%\n"
    }
   }
  },
  {
   "cell_type": "code",
   "execution_count": 9,
   "outputs": [
    {
     "name": "stderr",
     "output_type": "stream",
     "text": [
      "/Users/liam/miniconda3/envs/artemis/lib/python3.9/site-packages/sklearn/base.py:443: UserWarning: X has feature names, but RandomForestClassifier was fitted without feature names\n",
      "  warnings.warn(\n"
     ]
    },
    {
     "data": {
      "text/plain": "0.9778869778869779"
     },
     "execution_count": 9,
     "metadata": {},
     "output_type": "execute_result"
    }
   ],
   "source": [
    "clf.score(X_test, y_test)"
   ],
   "metadata": {
    "collapsed": false,
    "pycharm": {
     "name": "#%%\n"
    }
   }
  },
  {
   "cell_type": "code",
   "execution_count": 10,
   "outputs": [],
   "source": [
    "model_loc = \"../models/\"\n",
    "model_name = \"rfc.joblib\"\n",
    "enc_name = \"enc.joblib\""
   ],
   "metadata": {
    "collapsed": false,
    "pycharm": {
     "name": "#%%\n"
    }
   }
  },
  {
   "cell_type": "code",
   "execution_count": 11,
   "outputs": [
    {
     "data": {
      "text/plain": "['../models/rfc.joblib']"
     },
     "execution_count": 11,
     "metadata": {},
     "output_type": "execute_result"
    }
   ],
   "source": [
    "dump(clf, model_loc+model_name)"
   ],
   "metadata": {
    "collapsed": false,
    "pycharm": {
     "name": "#%%\n"
    }
   }
  },
  {
   "cell_type": "code",
   "execution_count": 12,
   "outputs": [
    {
     "data": {
      "text/plain": "['../models/enc.joblib']"
     },
     "execution_count": 12,
     "metadata": {},
     "output_type": "execute_result"
    }
   ],
   "source": [
    "dump(labelenc, model_loc+enc_name)"
   ],
   "metadata": {
    "collapsed": false,
    "pycharm": {
     "name": "#%%\n"
    }
   }
  },
  {
   "cell_type": "code",
   "execution_count": 14,
   "outputs": [
    {
     "data": {
      "text/plain": "array([0.13983754, 0.30454804, 0.30823104, 0.0337287 , 0.04418349,\n       0.16947118])"
     },
     "execution_count": 14,
     "metadata": {},
     "output_type": "execute_result"
    }
   ],
   "source": [
    "clf.feature_importances_"
   ],
   "metadata": {
    "collapsed": false,
    "pycharm": {
     "name": "#%%\n"
    }
   }
  },
  {
   "cell_type": "code",
   "execution_count": 20,
   "outputs": [
    {
     "data": {
      "text/plain": "       entropy  days_since_creation    year  month   day  dns_rec_mx_cc_enc\n5528  3.642490                289.0  2021.0    6.0  12.0                 31\n3424  2.321928               8691.0  1998.0    6.0  11.0                 49\n4977  2.845351                 -1.0    -1.0   -1.0  -1.0                 31\n5056  3.327820                147.0  2021.0   11.0   1.0                 31\n3008  1.584963                 -1.0    -1.0   -1.0  -1.0                 12\n...        ...                  ...     ...    ...   ...                ...\n4931  3.189898                 -1.0    -1.0   -1.0  -1.0                 31\n3264  3.323074               4507.0  2009.0   11.0  24.0                 49\n1653  2.921928               9824.0  1995.0    5.0   5.0                 49\n2607  0.000000               7284.0  2002.0    4.0  18.0                 31\n2732  3.180833               9370.0  1996.0    8.0   1.0                 31\n\n[4882 rows x 6 columns]",
      "text/html": "<div>\n<style scoped>\n    .dataframe tbody tr th:only-of-type {\n        vertical-align: middle;\n    }\n\n    .dataframe tbody tr th {\n        vertical-align: top;\n    }\n\n    .dataframe thead th {\n        text-align: right;\n    }\n</style>\n<table border=\"1\" class=\"dataframe\">\n  <thead>\n    <tr style=\"text-align: right;\">\n      <th></th>\n      <th>entropy</th>\n      <th>days_since_creation</th>\n      <th>year</th>\n      <th>month</th>\n      <th>day</th>\n      <th>dns_rec_mx_cc_enc</th>\n    </tr>\n  </thead>\n  <tbody>\n    <tr>\n      <th>5528</th>\n      <td>3.642490</td>\n      <td>289.0</td>\n      <td>2021.0</td>\n      <td>6.0</td>\n      <td>12.0</td>\n      <td>31</td>\n    </tr>\n    <tr>\n      <th>3424</th>\n      <td>2.321928</td>\n      <td>8691.0</td>\n      <td>1998.0</td>\n      <td>6.0</td>\n      <td>11.0</td>\n      <td>49</td>\n    </tr>\n    <tr>\n      <th>4977</th>\n      <td>2.845351</td>\n      <td>-1.0</td>\n      <td>-1.0</td>\n      <td>-1.0</td>\n      <td>-1.0</td>\n      <td>31</td>\n    </tr>\n    <tr>\n      <th>5056</th>\n      <td>3.327820</td>\n      <td>147.0</td>\n      <td>2021.0</td>\n      <td>11.0</td>\n      <td>1.0</td>\n      <td>31</td>\n    </tr>\n    <tr>\n      <th>3008</th>\n      <td>1.584963</td>\n      <td>-1.0</td>\n      <td>-1.0</td>\n      <td>-1.0</td>\n      <td>-1.0</td>\n      <td>12</td>\n    </tr>\n    <tr>\n      <th>...</th>\n      <td>...</td>\n      <td>...</td>\n      <td>...</td>\n      <td>...</td>\n      <td>...</td>\n      <td>...</td>\n    </tr>\n    <tr>\n      <th>4931</th>\n      <td>3.189898</td>\n      <td>-1.0</td>\n      <td>-1.0</td>\n      <td>-1.0</td>\n      <td>-1.0</td>\n      <td>31</td>\n    </tr>\n    <tr>\n      <th>3264</th>\n      <td>3.323074</td>\n      <td>4507.0</td>\n      <td>2009.0</td>\n      <td>11.0</td>\n      <td>24.0</td>\n      <td>49</td>\n    </tr>\n    <tr>\n      <th>1653</th>\n      <td>2.921928</td>\n      <td>9824.0</td>\n      <td>1995.0</td>\n      <td>5.0</td>\n      <td>5.0</td>\n      <td>49</td>\n    </tr>\n    <tr>\n      <th>2607</th>\n      <td>0.000000</td>\n      <td>7284.0</td>\n      <td>2002.0</td>\n      <td>4.0</td>\n      <td>18.0</td>\n      <td>31</td>\n    </tr>\n    <tr>\n      <th>2732</th>\n      <td>3.180833</td>\n      <td>9370.0</td>\n      <td>1996.0</td>\n      <td>8.0</td>\n      <td>1.0</td>\n      <td>31</td>\n    </tr>\n  </tbody>\n</table>\n<p>4882 rows × 6 columns</p>\n</div>"
     },
     "execution_count": 20,
     "metadata": {},
     "output_type": "execute_result"
    }
   ],
   "source": [
    "X_train"
   ],
   "metadata": {
    "collapsed": false,
    "pycharm": {
     "name": "#%%\n"
    }
   }
  },
  {
   "cell_type": "markdown",
   "source": [],
   "metadata": {
    "collapsed": false,
    "pycharm": {
     "name": "#%% md\n"
    }
   }
  }
 ],
 "metadata": {
  "kernelspec": {
   "display_name": "Python 3",
   "language": "python",
   "name": "python3"
  },
  "language_info": {
   "codemirror_mode": {
    "name": "ipython",
    "version": 2
   },
   "file_extension": ".py",
   "mimetype": "text/x-python",
   "name": "python",
   "nbconvert_exporter": "python",
   "pygments_lexer": "ipython2",
   "version": "2.7.6"
  }
 },
 "nbformat": 4,
 "nbformat_minor": 0
}
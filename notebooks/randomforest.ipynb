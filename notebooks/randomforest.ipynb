{
 "cells": [
  {
   "cell_type": "code",
   "execution_count": 303,
   "metadata": {
    "collapsed": true
   },
   "outputs": [],
   "source": [
    "from sklearn.ensemble import RandomForestClassifier\n",
    "from sklearn.model_selection import train_test_split\n",
    "from sklearn.preprocessing import OneHotEncoder, LabelEncoder\n",
    "import pandas as pd\n",
    "from joblib import dump\n",
    "import numpy as np\n",
    "\n",
    "from src.scripts.artemis_data import get_ns_cols, get_email_cols\n",
    "from src.scripts.dga.dga_functions import dga_prediction"
   ]
  },
  {
   "cell_type": "code",
   "execution_count": 304,
   "metadata": {
    "pycharm": {
     "name": "#%%\n"
    }
   },
   "outputs": [],
   "source": [
    "file = \"../data/processed/final_whois_data.csv\"\n",
    "df = pd.read_csv(file)\n"
   ]
  },
  {
   "cell_type": "code",
   "execution_count": 305,
   "outputs": [
    {
     "data": {
      "text/plain": "Index(['domain', 'redacted', 'name_servers_1', 'name_servers_2',\n       'name_servers_3', 'name_servers_4', 'registrant_contact_name',\n       'registrar', 'updated_date', 'country', 'dnssec', 'emails', 'org',\n       'state', 'whois_server', 'address', 'city', 'emails_1', 'emails_2',\n       'emails_3', 'expiration_date', 'name', 'zipcode', 'creation_date',\n       'name_servers_5', 'name_servers_6', 'name_servers_7', 'entropy',\n       'dns_rec_a_cc', 'dns_rec_a_org', 'dns_rec_mx_cc', 'dns_rec_mx_org',\n       'malicious', 'community', 'min_entropy', 'max_entropy', 'avg_entropy',\n       'domain_count', 'malicious_ratio', 'days_between_creations',\n       'days_since_creation', 'days_between_updates', 'days_since_update',\n       'days_until_expiration', 'has_multiple_domain_names',\n       'multiple_domain_names_match', 'number_name_servers',\n       'num_different_ns_domains', 'main_name_server_domain',\n       'serverDeleteProhibited', 'clientDeleteProhibited',\n       'serverRenewProhibited', 'clientRenewProhibited',\n       'clientTransferProhibited', 'num_emails', 'email_domains',\n       'num_email_domains'],\n      dtype='object')"
     },
     "execution_count": 305,
     "metadata": {},
     "output_type": "execute_result"
    }
   ],
   "source": [
    "df.columns"
   ],
   "metadata": {
    "collapsed": false,
    "pycharm": {
     "name": "#%%\n"
    }
   }
  },
  {
   "cell_type": "code",
   "execution_count": 306,
   "metadata": {
    "pycharm": {
     "name": "#%%\n"
    }
   },
   "outputs": [],
   "source": [
    "label = 'malicious'\n",
    "labels = df[label].values\n",
    "data_df = df.drop(columns=label)"
   ]
  },
  {
   "cell_type": "code",
   "execution_count": 307,
   "outputs": [],
   "source": [
    "redo = False\n",
    "if redo:\n",
    "    dga_probs = []\n",
    "    count = 0\n",
    "    for domain, entropy in zip(data_df.domain.tolist(), data_df.entropy.tolist()):\n",
    "        count += 1\n",
    "        dga_probs.append(dga_prediction(domain, entropy))\n",
    "        if count % 10 == 0:\n",
    "            print(count, end=\" \")\n",
    "    data_df['dga_probability'] = dga_probs\n",
    "    dga_df = data_df[['domain', 'dga_probability']]\n",
    "    dga_df.to_csv('dga_probabilities.csv', index=False)\n",
    "else:\n",
    "    dga_probs = pd.read_csv('dga_probabilities.csv')\n",
    "    data_df = data_df.merge(dga_probs, on='domain')"
   ],
   "metadata": {
    "collapsed": false,
    "pycharm": {
     "name": "#%%\n"
    }
   }
  },
  {
   "cell_type": "code",
   "execution_count": 308,
   "outputs": [
    {
     "data": {
      "text/plain": "                        domain  redacted          name_servers_1  \\\n0     griffithspartners.com.au       0.0                    T.AU   \n1                    21fss.com       0.0  NS33.DOMAINCONTROL.COM   \n2        conniedunndesigns.com       0.0       NS1.DREAMHOST.COM   \n3        corporatespending.com       0.0      NS1.P23.DYNECT.NET   \n4                eraliving.com       0.0       NS65.WORLDNIC.COM   \n...                        ...       ...                     ...   \n5633              ewakyc72.top       1.0            a.dnspod.com   \n5634              ewazqx71.top       1.0            a.dnspod.com   \n5635       rebornx.duckdns.org       1.0         NS1.DUCKDNS.ORG   \n5636   mail.dipiluminacion.com       0.0   NS1.MYHOSTINGPACK.COM   \n5637    tzitziklishop.ddns.net       0.0           NF1.NO-IP.COM   \n\n              name_servers_2         name_servers_3         name_servers_4  \\\n0                       R.AU                   Q.AU                   S.AU   \n1     NS34.DOMAINCONTROL.COM                    NaN                    NaN   \n2          NS2.DREAMHOST.COM      NS3.DREAMHOST.COM                    NaN   \n3         NS2.P23.DYNECT.NET     NS3.P23.DYNECT.NET     NS4.P23.DYNECT.NET   \n4          NS66.WORLDNIC.COM                    NaN                    NaN   \n...                      ...                    ...                    ...   \n5633            b.dnspod.com           A.DNSPOD.COM           B.DNSPOD.COM   \n5634            b.dnspod.com           A.DNSPOD.COM           B.DNSPOD.COM   \n5635         NS2.DUCKDNS.ORG        NS3.DUCKDNS.ORG        NS4.DUCKDNS.ORG   \n5636   NS2.MYHOSTINGPACK.COM  ns1.myhostingpack.com  ns2.myhostingpack.com   \n5637           NF2.NO-IP.COM          NF3.NO-IP.COM          NF4.NO-IP.COM   \n\n      registrant_contact_name                                       registrar  \\\n0                           1                       afilias australia pty ltd   \n1                           0                                godaddy.com, llc   \n2                           0                                       dreamhost   \n3                           0                                godaddy.com, llc   \n4                           0                          network solutions, llc   \n...                       ...                                             ...   \n5633                        0        nicenic international group co., limited   \n5634                        0        nicenic international group co., limited   \n5635                        0                                       gandi sas   \n5636                        0              akky online solutions s.a. de c.v.   \n5637                        0  vitalwerks internet solutions, llc / no-ip.com   \n\n     updated_date country  ... main_name_server_domain serverDeleteProhibited  \\\n0      2022-03-17      zz  ...                       t                      1   \n1      2021-01-19      us  ...           domaincontrol                      0   \n2      2021-08-09      us  ...               dreamhost                      0   \n3      2020-11-08      us  ...                  dynect                      0   \n4      2018-03-07      us  ...                worldnic                      0   \n...           ...     ...  ...                     ...                    ...   \n5633   2021-08-04      ru  ...                  dnspod                      0   \n5634   2021-08-04      ru  ...                  dnspod                      0   \n5635   2021-11-26      fr  ...                 duckdns                      0   \n5636   2021-07-26      mx  ...           myhostingpack                      0   \n5637   2022-01-13      us  ...                   no-ip                      0   \n\n     clientDeleteProhibited serverRenewProhibited clientRenewProhibited  \\\n0                         0                     1                     0   \n1                         1                     0                     1   \n2                         0                     0                     0   \n3                         1                     0                     1   \n4                         0                     0                     0   \n...                     ...                   ...                   ...   \n5633                      1                     0                     0   \n5634                      1                     0                     0   \n5635                      0                     0                     0   \n5636                      0                     0                     0   \n5637                      0                     0                     0   \n\n     clientTransferProhibited num_emails                        email_domains  \\\n0                           0          0                            email_nan   \n1                           1          1                          godaddy.com   \n2                           1          4    dreamhost.com;proxy.dreamhost.com   \n3                           1          1                          godaddy.com   \n4                           1          3                eraliving.com;web.com   \n...                       ...        ...                                  ...   \n5633                        1          1                          nicenic.net   \n5634                        1          1                          nicenic.net   \n5635                        1          2  contact.gandi.net;support.gandi.net   \n5636                        1          3                              akky.mx   \n5637                        1          2                   no-ip.com;noip.com   \n\n     num_email_domains dga_probability  \n0                    1        0.000000  \n1                    1        0.000000  \n2                    2        0.020000  \n3                    1        0.000000  \n4                    2        0.010000  \n...                ...             ...  \n5633                 1        0.186667  \n5634                 1        0.570000  \n5635                 2        0.000000  \n5636                 1        0.000000  \n5637                 2        0.700000  \n\n[5638 rows x 57 columns]",
      "text/html": "<div>\n<style scoped>\n    .dataframe tbody tr th:only-of-type {\n        vertical-align: middle;\n    }\n\n    .dataframe tbody tr th {\n        vertical-align: top;\n    }\n\n    .dataframe thead th {\n        text-align: right;\n    }\n</style>\n<table border=\"1\" class=\"dataframe\">\n  <thead>\n    <tr style=\"text-align: right;\">\n      <th></th>\n      <th>domain</th>\n      <th>redacted</th>\n      <th>name_servers_1</th>\n      <th>name_servers_2</th>\n      <th>name_servers_3</th>\n      <th>name_servers_4</th>\n      <th>registrant_contact_name</th>\n      <th>registrar</th>\n      <th>updated_date</th>\n      <th>country</th>\n      <th>...</th>\n      <th>main_name_server_domain</th>\n      <th>serverDeleteProhibited</th>\n      <th>clientDeleteProhibited</th>\n      <th>serverRenewProhibited</th>\n      <th>clientRenewProhibited</th>\n      <th>clientTransferProhibited</th>\n      <th>num_emails</th>\n      <th>email_domains</th>\n      <th>num_email_domains</th>\n      <th>dga_probability</th>\n    </tr>\n  </thead>\n  <tbody>\n    <tr>\n      <th>0</th>\n      <td>griffithspartners.com.au</td>\n      <td>0.0</td>\n      <td>T.AU</td>\n      <td>R.AU</td>\n      <td>Q.AU</td>\n      <td>S.AU</td>\n      <td>1</td>\n      <td>afilias australia pty ltd</td>\n      <td>2022-03-17</td>\n      <td>zz</td>\n      <td>...</td>\n      <td>t</td>\n      <td>1</td>\n      <td>0</td>\n      <td>1</td>\n      <td>0</td>\n      <td>0</td>\n      <td>0</td>\n      <td>email_nan</td>\n      <td>1</td>\n      <td>0.000000</td>\n    </tr>\n    <tr>\n      <th>1</th>\n      <td>21fss.com</td>\n      <td>0.0</td>\n      <td>NS33.DOMAINCONTROL.COM</td>\n      <td>NS34.DOMAINCONTROL.COM</td>\n      <td>NaN</td>\n      <td>NaN</td>\n      <td>0</td>\n      <td>godaddy.com, llc</td>\n      <td>2021-01-19</td>\n      <td>us</td>\n      <td>...</td>\n      <td>domaincontrol</td>\n      <td>0</td>\n      <td>1</td>\n      <td>0</td>\n      <td>1</td>\n      <td>1</td>\n      <td>1</td>\n      <td>godaddy.com</td>\n      <td>1</td>\n      <td>0.000000</td>\n    </tr>\n    <tr>\n      <th>2</th>\n      <td>conniedunndesigns.com</td>\n      <td>0.0</td>\n      <td>NS1.DREAMHOST.COM</td>\n      <td>NS2.DREAMHOST.COM</td>\n      <td>NS3.DREAMHOST.COM</td>\n      <td>NaN</td>\n      <td>0</td>\n      <td>dreamhost</td>\n      <td>2021-08-09</td>\n      <td>us</td>\n      <td>...</td>\n      <td>dreamhost</td>\n      <td>0</td>\n      <td>0</td>\n      <td>0</td>\n      <td>0</td>\n      <td>1</td>\n      <td>4</td>\n      <td>dreamhost.com;proxy.dreamhost.com</td>\n      <td>2</td>\n      <td>0.020000</td>\n    </tr>\n    <tr>\n      <th>3</th>\n      <td>corporatespending.com</td>\n      <td>0.0</td>\n      <td>NS1.P23.DYNECT.NET</td>\n      <td>NS2.P23.DYNECT.NET</td>\n      <td>NS3.P23.DYNECT.NET</td>\n      <td>NS4.P23.DYNECT.NET</td>\n      <td>0</td>\n      <td>godaddy.com, llc</td>\n      <td>2020-11-08</td>\n      <td>us</td>\n      <td>...</td>\n      <td>dynect</td>\n      <td>0</td>\n      <td>1</td>\n      <td>0</td>\n      <td>1</td>\n      <td>1</td>\n      <td>1</td>\n      <td>godaddy.com</td>\n      <td>1</td>\n      <td>0.000000</td>\n    </tr>\n    <tr>\n      <th>4</th>\n      <td>eraliving.com</td>\n      <td>0.0</td>\n      <td>NS65.WORLDNIC.COM</td>\n      <td>NS66.WORLDNIC.COM</td>\n      <td>NaN</td>\n      <td>NaN</td>\n      <td>0</td>\n      <td>network solutions, llc</td>\n      <td>2018-03-07</td>\n      <td>us</td>\n      <td>...</td>\n      <td>worldnic</td>\n      <td>0</td>\n      <td>0</td>\n      <td>0</td>\n      <td>0</td>\n      <td>1</td>\n      <td>3</td>\n      <td>eraliving.com;web.com</td>\n      <td>2</td>\n      <td>0.010000</td>\n    </tr>\n    <tr>\n      <th>...</th>\n      <td>...</td>\n      <td>...</td>\n      <td>...</td>\n      <td>...</td>\n      <td>...</td>\n      <td>...</td>\n      <td>...</td>\n      <td>...</td>\n      <td>...</td>\n      <td>...</td>\n      <td>...</td>\n      <td>...</td>\n      <td>...</td>\n      <td>...</td>\n      <td>...</td>\n      <td>...</td>\n      <td>...</td>\n      <td>...</td>\n      <td>...</td>\n      <td>...</td>\n      <td>...</td>\n    </tr>\n    <tr>\n      <th>5633</th>\n      <td>ewakyc72.top</td>\n      <td>1.0</td>\n      <td>a.dnspod.com</td>\n      <td>b.dnspod.com</td>\n      <td>A.DNSPOD.COM</td>\n      <td>B.DNSPOD.COM</td>\n      <td>0</td>\n      <td>nicenic international group co., limited</td>\n      <td>2021-08-04</td>\n      <td>ru</td>\n      <td>...</td>\n      <td>dnspod</td>\n      <td>0</td>\n      <td>1</td>\n      <td>0</td>\n      <td>0</td>\n      <td>1</td>\n      <td>1</td>\n      <td>nicenic.net</td>\n      <td>1</td>\n      <td>0.186667</td>\n    </tr>\n    <tr>\n      <th>5634</th>\n      <td>ewazqx71.top</td>\n      <td>1.0</td>\n      <td>a.dnspod.com</td>\n      <td>b.dnspod.com</td>\n      <td>A.DNSPOD.COM</td>\n      <td>B.DNSPOD.COM</td>\n      <td>0</td>\n      <td>nicenic international group co., limited</td>\n      <td>2021-08-04</td>\n      <td>ru</td>\n      <td>...</td>\n      <td>dnspod</td>\n      <td>0</td>\n      <td>1</td>\n      <td>0</td>\n      <td>0</td>\n      <td>1</td>\n      <td>1</td>\n      <td>nicenic.net</td>\n      <td>1</td>\n      <td>0.570000</td>\n    </tr>\n    <tr>\n      <th>5635</th>\n      <td>rebornx.duckdns.org</td>\n      <td>1.0</td>\n      <td>NS1.DUCKDNS.ORG</td>\n      <td>NS2.DUCKDNS.ORG</td>\n      <td>NS3.DUCKDNS.ORG</td>\n      <td>NS4.DUCKDNS.ORG</td>\n      <td>0</td>\n      <td>gandi sas</td>\n      <td>2021-11-26</td>\n      <td>fr</td>\n      <td>...</td>\n      <td>duckdns</td>\n      <td>0</td>\n      <td>0</td>\n      <td>0</td>\n      <td>0</td>\n      <td>1</td>\n      <td>2</td>\n      <td>contact.gandi.net;support.gandi.net</td>\n      <td>2</td>\n      <td>0.000000</td>\n    </tr>\n    <tr>\n      <th>5636</th>\n      <td>mail.dipiluminacion.com</td>\n      <td>0.0</td>\n      <td>NS1.MYHOSTINGPACK.COM</td>\n      <td>NS2.MYHOSTINGPACK.COM</td>\n      <td>ns1.myhostingpack.com</td>\n      <td>ns2.myhostingpack.com</td>\n      <td>0</td>\n      <td>akky online solutions s.a. de c.v.</td>\n      <td>2021-07-26</td>\n      <td>mx</td>\n      <td>...</td>\n      <td>myhostingpack</td>\n      <td>0</td>\n      <td>0</td>\n      <td>0</td>\n      <td>0</td>\n      <td>1</td>\n      <td>3</td>\n      <td>akky.mx</td>\n      <td>1</td>\n      <td>0.000000</td>\n    </tr>\n    <tr>\n      <th>5637</th>\n      <td>tzitziklishop.ddns.net</td>\n      <td>0.0</td>\n      <td>NF1.NO-IP.COM</td>\n      <td>NF2.NO-IP.COM</td>\n      <td>NF3.NO-IP.COM</td>\n      <td>NF4.NO-IP.COM</td>\n      <td>0</td>\n      <td>vitalwerks internet solutions, llc / no-ip.com</td>\n      <td>2022-01-13</td>\n      <td>us</td>\n      <td>...</td>\n      <td>no-ip</td>\n      <td>0</td>\n      <td>0</td>\n      <td>0</td>\n      <td>0</td>\n      <td>1</td>\n      <td>2</td>\n      <td>no-ip.com;noip.com</td>\n      <td>2</td>\n      <td>0.700000</td>\n    </tr>\n  </tbody>\n</table>\n<p>5638 rows × 57 columns</p>\n</div>"
     },
     "execution_count": 308,
     "metadata": {},
     "output_type": "execute_result"
    }
   ],
   "source": [
    "data_df"
   ],
   "metadata": {
    "collapsed": false,
    "pycharm": {
     "name": "#%%\n"
    }
   }
  },
  {
   "cell_type": "code",
   "execution_count": 309,
   "outputs": [
    {
     "data": {
      "text/plain": "Index(['domain', 'redacted', 'name_servers_1', 'name_servers_2',\n       'name_servers_3', 'name_servers_4', 'registrant_contact_name',\n       'registrar', 'updated_date', 'country', 'dnssec', 'emails', 'org',\n       'state', 'whois_server', 'address', 'city', 'emails_1', 'emails_2',\n       'emails_3', 'expiration_date', 'name', 'zipcode', 'creation_date',\n       'name_servers_5', 'name_servers_6', 'name_servers_7', 'entropy',\n       'dns_rec_a_cc', 'dns_rec_a_org', 'dns_rec_mx_cc', 'dns_rec_mx_org',\n       'community', 'min_entropy', 'max_entropy', 'avg_entropy',\n       'domain_count', 'malicious_ratio', 'days_between_creations',\n       'days_since_creation', 'days_between_updates', 'days_since_update',\n       'days_until_expiration', 'has_multiple_domain_names',\n       'multiple_domain_names_match', 'number_name_servers',\n       'num_different_ns_domains', 'main_name_server_domain',\n       'serverDeleteProhibited', 'clientDeleteProhibited',\n       'serverRenewProhibited', 'clientRenewProhibited',\n       'clientTransferProhibited', 'num_emails', 'email_domains',\n       'num_email_domains', 'dga_probability'],\n      dtype='object')"
     },
     "execution_count": 309,
     "metadata": {},
     "output_type": "execute_result"
    }
   ],
   "source": [
    "data_df.columns"
   ],
   "metadata": {
    "collapsed": false,
    "pycharm": {
     "name": "#%%\n"
    }
   }
  },
  {
   "cell_type": "code",
   "execution_count": 310,
   "outputs": [],
   "source": [
    "data_df = data_df.drop(columns=get_ns_cols(7))\n",
    "data_df = data_df.drop(columns=get_email_cols(3))\n",
    "data_df = data_df.drop(columns=['domain', 'updated_date', 'expiration_date', 'creation_date', 'days_since_creation'])\n",
    "data_df = data_df.drop(columns=['min_entropy', 'max_entropy', 'avg_entropy', 'domain_count', 'malicious_ratio'])"
   ],
   "metadata": {
    "collapsed": false,
    "pycharm": {
     "name": "#%%\n"
    }
   }
  },
  {
   "cell_type": "code",
   "execution_count": 311,
   "outputs": [],
   "source": [
    "country_cols = ['country', 'dns_rec_a_cc', 'dns_rec_mx_cc']\n",
    "countries_list = []\n",
    "for col in country_cols:\n",
    "    countries_list += data_df[col].tolist()\n",
    "country_encoder = LabelEncoder().fit(countries_list)\n",
    "for col in country_cols:\n",
    "    data_df[col] = country_encoder.transform(data_df[col])"
   ],
   "metadata": {
    "collapsed": false,
    "pycharm": {
     "name": "#%%\n"
    }
   }
  },
  {
   "cell_type": "code",
   "execution_count": 312,
   "outputs": [],
   "source": [
    "cols_requiring_encoding = [\n",
    "    'registrar', 'dnssec', 'org', 'state', 'whois_server', 'address', 'city', 'name',\n",
    "    'zipcode', 'dns_rec_a_org', 'dns_rec_mx_org', 'main_name_server_domain', 'email_domains',\n",
    "]\n",
    "encoder_dict = {}\n",
    "for col in cols_requiring_encoding:\n",
    "    enc = LabelEncoder().fit(data_df[col])\n",
    "    encoder_dict[col] = enc\n",
    "    data_df[col] = enc.transform(data_df[col])\n"
   ],
   "metadata": {
    "collapsed": false,
    "pycharm": {
     "name": "#%%\n"
    }
   }
  },
  {
   "cell_type": "code",
   "execution_count": 313,
   "outputs": [],
   "source": [
    "data_df = data_df.fillna(-1)"
   ],
   "metadata": {
    "collapsed": false,
    "pycharm": {
     "name": "#%%\n"
    }
   }
  },
  {
   "cell_type": "code",
   "execution_count": 314,
   "metadata": {
    "pycharm": {
     "name": "#%%\n"
    }
   },
   "outputs": [],
   "source": [
    "X_train, X_test, y_train, y_test = train_test_split(data_df, labels, random_state=0)"
   ]
  },
  {
   "cell_type": "code",
   "execution_count": 315,
   "outputs": [
    {
     "data": {
      "text/plain": "      redacted  registrant_contact_name  registrar  country  dnssec  org  \\\n3784       0.0                        0        255       52       8  720   \n3196       0.0                        0        349      112       0  681   \n1569       0.0                        0        255       52       8  720   \n4729       0.0                        0        399      102       8  849   \n3424       0.0                        0        207      112       0  681   \n...        ...                      ...        ...      ...     ...  ...   \n4931       0.0                        0        347       11       8  725   \n3264       1.0                        0        173      102       8  326   \n1653       1.0                        0        301       86       8  724   \n2607       0.0                        0         29      112       8  681   \n2732       1.0                        0         52       21      12  753   \n\n      state  whois_server  address  city  ...  main_name_server_domain  \\\n3784     84           131      256   216  ...                      619   \n3196    413           218      191    43  ...                      832   \n1569     84           131      256   216  ...                      503   \n4729     42           141      368   250  ...                      284   \n3424    413           218      191    43  ...                      396   \n...     ...           ...      ...   ...  ...                      ...   \n4931    323           173      384   176  ...                      614   \n3264     32           101      224   258  ...                      802   \n1653    283           158      347   209  ...                      391   \n2607    413             8      191    43  ...                      658   \n2732    403           213      347   209  ...                      494   \n\n      serverDeleteProhibited  clientDeleteProhibited  serverRenewProhibited  \\\n3784                       0                       0                      0   \n3196                       0                       0                      0   \n1569                       0                       0                      0   \n4729                       0                       0                      0   \n3424                       0                       0                      0   \n...                      ...                     ...                    ...   \n4931                       0                       0                      0   \n3264                       0                       1                      0   \n1653                       0                       0                      0   \n2607                       0                       0                      0   \n2732                       0                       0                      0   \n\n      clientRenewProhibited  clientTransferProhibited  num_emails  \\\n3784                      0                         1           2   \n3196                      0                         0           0   \n1569                      0                         1           2   \n4729                      0                         1           2   \n3424                      0                         0           0   \n...                     ...                       ...         ...   \n4931                      0                         1           2   \n3264                      1                         1           1   \n1653                      0                         0           1   \n2607                      0                         0           1   \n2732                      0                         0           2   \n\n      email_domains  num_email_domains  dga_probability  \n3784            591                  2         0.006000  \n3196            174                  1         0.000000  \n1569            591                  2         0.000000  \n4729            567                  1         0.540000  \n3424            174                  1         0.011929  \n...             ...                ...              ...  \n4931            453                  2         1.000000  \n3264            232                  1         0.010000  \n1653            368                  1         0.257143  \n2607            357                  1         0.050000  \n2732            577                  2         0.510000  \n\n[4228 rows x 36 columns]",
      "text/html": "<div>\n<style scoped>\n    .dataframe tbody tr th:only-of-type {\n        vertical-align: middle;\n    }\n\n    .dataframe tbody tr th {\n        vertical-align: top;\n    }\n\n    .dataframe thead th {\n        text-align: right;\n    }\n</style>\n<table border=\"1\" class=\"dataframe\">\n  <thead>\n    <tr style=\"text-align: right;\">\n      <th></th>\n      <th>redacted</th>\n      <th>registrant_contact_name</th>\n      <th>registrar</th>\n      <th>country</th>\n      <th>dnssec</th>\n      <th>org</th>\n      <th>state</th>\n      <th>whois_server</th>\n      <th>address</th>\n      <th>city</th>\n      <th>...</th>\n      <th>main_name_server_domain</th>\n      <th>serverDeleteProhibited</th>\n      <th>clientDeleteProhibited</th>\n      <th>serverRenewProhibited</th>\n      <th>clientRenewProhibited</th>\n      <th>clientTransferProhibited</th>\n      <th>num_emails</th>\n      <th>email_domains</th>\n      <th>num_email_domains</th>\n      <th>dga_probability</th>\n    </tr>\n  </thead>\n  <tbody>\n    <tr>\n      <th>3784</th>\n      <td>0.0</td>\n      <td>0</td>\n      <td>255</td>\n      <td>52</td>\n      <td>8</td>\n      <td>720</td>\n      <td>84</td>\n      <td>131</td>\n      <td>256</td>\n      <td>216</td>\n      <td>...</td>\n      <td>619</td>\n      <td>0</td>\n      <td>0</td>\n      <td>0</td>\n      <td>0</td>\n      <td>1</td>\n      <td>2</td>\n      <td>591</td>\n      <td>2</td>\n      <td>0.006000</td>\n    </tr>\n    <tr>\n      <th>3196</th>\n      <td>0.0</td>\n      <td>0</td>\n      <td>349</td>\n      <td>112</td>\n      <td>0</td>\n      <td>681</td>\n      <td>413</td>\n      <td>218</td>\n      <td>191</td>\n      <td>43</td>\n      <td>...</td>\n      <td>832</td>\n      <td>0</td>\n      <td>0</td>\n      <td>0</td>\n      <td>0</td>\n      <td>0</td>\n      <td>0</td>\n      <td>174</td>\n      <td>1</td>\n      <td>0.000000</td>\n    </tr>\n    <tr>\n      <th>1569</th>\n      <td>0.0</td>\n      <td>0</td>\n      <td>255</td>\n      <td>52</td>\n      <td>8</td>\n      <td>720</td>\n      <td>84</td>\n      <td>131</td>\n      <td>256</td>\n      <td>216</td>\n      <td>...</td>\n      <td>503</td>\n      <td>0</td>\n      <td>0</td>\n      <td>0</td>\n      <td>0</td>\n      <td>1</td>\n      <td>2</td>\n      <td>591</td>\n      <td>2</td>\n      <td>0.000000</td>\n    </tr>\n    <tr>\n      <th>4729</th>\n      <td>0.0</td>\n      <td>0</td>\n      <td>399</td>\n      <td>102</td>\n      <td>8</td>\n      <td>849</td>\n      <td>42</td>\n      <td>141</td>\n      <td>368</td>\n      <td>250</td>\n      <td>...</td>\n      <td>284</td>\n      <td>0</td>\n      <td>0</td>\n      <td>0</td>\n      <td>0</td>\n      <td>1</td>\n      <td>2</td>\n      <td>567</td>\n      <td>1</td>\n      <td>0.540000</td>\n    </tr>\n    <tr>\n      <th>3424</th>\n      <td>0.0</td>\n      <td>0</td>\n      <td>207</td>\n      <td>112</td>\n      <td>0</td>\n      <td>681</td>\n      <td>413</td>\n      <td>218</td>\n      <td>191</td>\n      <td>43</td>\n      <td>...</td>\n      <td>396</td>\n      <td>0</td>\n      <td>0</td>\n      <td>0</td>\n      <td>0</td>\n      <td>0</td>\n      <td>0</td>\n      <td>174</td>\n      <td>1</td>\n      <td>0.011929</td>\n    </tr>\n    <tr>\n      <th>...</th>\n      <td>...</td>\n      <td>...</td>\n      <td>...</td>\n      <td>...</td>\n      <td>...</td>\n      <td>...</td>\n      <td>...</td>\n      <td>...</td>\n      <td>...</td>\n      <td>...</td>\n      <td>...</td>\n      <td>...</td>\n      <td>...</td>\n      <td>...</td>\n      <td>...</td>\n      <td>...</td>\n      <td>...</td>\n      <td>...</td>\n      <td>...</td>\n      <td>...</td>\n      <td>...</td>\n    </tr>\n    <tr>\n      <th>4931</th>\n      <td>0.0</td>\n      <td>0</td>\n      <td>347</td>\n      <td>11</td>\n      <td>8</td>\n      <td>725</td>\n      <td>323</td>\n      <td>173</td>\n      <td>384</td>\n      <td>176</td>\n      <td>...</td>\n      <td>614</td>\n      <td>0</td>\n      <td>0</td>\n      <td>0</td>\n      <td>0</td>\n      <td>1</td>\n      <td>2</td>\n      <td>453</td>\n      <td>2</td>\n      <td>1.000000</td>\n    </tr>\n    <tr>\n      <th>3264</th>\n      <td>1.0</td>\n      <td>0</td>\n      <td>173</td>\n      <td>102</td>\n      <td>8</td>\n      <td>326</td>\n      <td>32</td>\n      <td>101</td>\n      <td>224</td>\n      <td>258</td>\n      <td>...</td>\n      <td>802</td>\n      <td>0</td>\n      <td>1</td>\n      <td>0</td>\n      <td>1</td>\n      <td>1</td>\n      <td>1</td>\n      <td>232</td>\n      <td>1</td>\n      <td>0.010000</td>\n    </tr>\n    <tr>\n      <th>1653</th>\n      <td>1.0</td>\n      <td>0</td>\n      <td>301</td>\n      <td>86</td>\n      <td>8</td>\n      <td>724</td>\n      <td>283</td>\n      <td>158</td>\n      <td>347</td>\n      <td>209</td>\n      <td>...</td>\n      <td>391</td>\n      <td>0</td>\n      <td>0</td>\n      <td>0</td>\n      <td>0</td>\n      <td>0</td>\n      <td>1</td>\n      <td>368</td>\n      <td>1</td>\n      <td>0.257143</td>\n    </tr>\n    <tr>\n      <th>2607</th>\n      <td>0.0</td>\n      <td>0</td>\n      <td>29</td>\n      <td>112</td>\n      <td>8</td>\n      <td>681</td>\n      <td>413</td>\n      <td>8</td>\n      <td>191</td>\n      <td>43</td>\n      <td>...</td>\n      <td>658</td>\n      <td>0</td>\n      <td>0</td>\n      <td>0</td>\n      <td>0</td>\n      <td>0</td>\n      <td>1</td>\n      <td>357</td>\n      <td>1</td>\n      <td>0.050000</td>\n    </tr>\n    <tr>\n      <th>2732</th>\n      <td>1.0</td>\n      <td>0</td>\n      <td>52</td>\n      <td>21</td>\n      <td>12</td>\n      <td>753</td>\n      <td>403</td>\n      <td>213</td>\n      <td>347</td>\n      <td>209</td>\n      <td>...</td>\n      <td>494</td>\n      <td>0</td>\n      <td>0</td>\n      <td>0</td>\n      <td>0</td>\n      <td>0</td>\n      <td>2</td>\n      <td>577</td>\n      <td>2</td>\n      <td>0.510000</td>\n    </tr>\n  </tbody>\n</table>\n<p>4228 rows × 36 columns</p>\n</div>"
     },
     "execution_count": 315,
     "metadata": {},
     "output_type": "execute_result"
    }
   ],
   "source": [
    "X_train"
   ],
   "metadata": {
    "collapsed": false,
    "pycharm": {
     "name": "#%%\n"
    }
   }
  },
  {
   "cell_type": "code",
   "execution_count": 315,
   "outputs": [],
   "source": [],
   "metadata": {
    "collapsed": false,
    "pycharm": {
     "name": "#%%\n"
    }
   }
  },
  {
   "cell_type": "code",
   "execution_count": 316,
   "metadata": {
    "pycharm": {
     "name": "#%%\n"
    }
   },
   "outputs": [],
   "source": [
    "clf = RandomForestClassifier(\n",
    "    criterion='entropy', random_state=0, max_depth=5, min_samples_split=3, min_samples_leaf=2, class_weight='balanced'\n",
    ").fit(X_train, y_train)"
   ]
  },
  {
   "cell_type": "code",
   "execution_count": 317,
   "metadata": {
    "pycharm": {
     "name": "#%%\n"
    }
   },
   "outputs": [
    {
     "data": {
      "text/plain": "0.9163120567375886"
     },
     "execution_count": 317,
     "metadata": {},
     "output_type": "execute_result"
    }
   ],
   "source": [
    "clf.score(X_test, y_test)"
   ]
  },
  {
   "cell_type": "code",
   "execution_count": 318,
   "metadata": {
    "pycharm": {
     "name": "#%%\n"
    }
   },
   "outputs": [],
   "source": [
    "model_loc = \"../models/\"\n",
    "model_name = \"rfc.joblib\"\n",
    "encoder_name = \"enc_dict.joblib\"\n",
    "country_encoder_name = \"country_encoder.joblib\""
   ]
  },
  {
   "cell_type": "code",
   "execution_count": 319,
   "metadata": {
    "pycharm": {
     "name": "#%%\n"
    }
   },
   "outputs": [
    {
     "data": {
      "text/plain": "['../models/rfc.joblib']"
     },
     "execution_count": 319,
     "metadata": {},
     "output_type": "execute_result"
    }
   ],
   "source": [
    "dump(clf, model_loc+model_name)"
   ]
  },
  {
   "cell_type": "code",
   "execution_count": 320,
   "metadata": {
    "pycharm": {
     "name": "#%%\n"
    }
   },
   "outputs": [
    {
     "data": {
      "text/plain": "['../models/enc_dict.joblib']"
     },
     "execution_count": 320,
     "metadata": {},
     "output_type": "execute_result"
    }
   ],
   "source": [
    "dump(encoder_dict, model_loc+encoder_name)"
   ]
  },
  {
   "cell_type": "code",
   "execution_count": 321,
   "outputs": [
    {
     "data": {
      "text/plain": "['../models/country_encoder.joblib']"
     },
     "execution_count": 321,
     "metadata": {},
     "output_type": "execute_result"
    }
   ],
   "source": [
    "dump(country_encoder, model_loc+country_encoder_name)"
   ],
   "metadata": {
    "collapsed": false,
    "pycharm": {
     "name": "#%%\n"
    }
   }
  },
  {
   "cell_type": "code",
   "execution_count": 322,
   "outputs": [],
   "source": [
    "preds = clf.predict(X_test)"
   ],
   "metadata": {
    "collapsed": false,
    "pycharm": {
     "name": "#%%\n"
    }
   }
  },
  {
   "cell_type": "code",
   "execution_count": 323,
   "outputs": [],
   "source": [
    "pred_df = X_test.copy()\n",
    "pred_df['malicious'] = y_test\n",
    "pred_df['prediction'] = preds\n",
    "pred_df['correct'] = np.where(pred_df.malicious==pred_df.prediction, 1, 0)"
   ],
   "metadata": {
    "collapsed": false,
    "pycharm": {
     "name": "#%%\n"
    }
   }
  },
  {
   "cell_type": "markdown",
   "metadata": {
    "pycharm": {
     "name": "#%% md\n"
    }
   },
   "source": []
  },
  {
   "cell_type": "code",
   "execution_count": 324,
   "outputs": [
    {
     "data": {
      "text/plain": "1292"
     },
     "execution_count": 324,
     "metadata": {},
     "output_type": "execute_result"
    }
   ],
   "source": [
    "pred_df.correct.sum()"
   ],
   "metadata": {
    "collapsed": false,
    "pycharm": {
     "name": "#%%\n"
    }
   }
  },
  {
   "cell_type": "code",
   "execution_count": 325,
   "outputs": [
    {
     "data": {
      "text/plain": "(1410, 39)"
     },
     "execution_count": 325,
     "metadata": {},
     "output_type": "execute_result"
    }
   ],
   "source": [
    "pred_df.shape"
   ],
   "metadata": {
    "collapsed": false,
    "pycharm": {
     "name": "#%%\n"
    }
   }
  },
  {
   "cell_type": "code",
   "execution_count": 326,
   "outputs": [
    {
     "data": {
      "text/plain": "471"
     },
     "execution_count": 326,
     "metadata": {},
     "output_type": "execute_result"
    }
   ],
   "source": [
    "pred_df[pred_df.malicious==1].correct.sum()"
   ],
   "metadata": {
    "collapsed": false,
    "pycharm": {
     "name": "#%%\n"
    }
   }
  },
  {
   "cell_type": "code",
   "execution_count": 327,
   "outputs": [
    {
     "data": {
      "text/plain": "(515, 39)"
     },
     "execution_count": 327,
     "metadata": {},
     "output_type": "execute_result"
    }
   ],
   "source": [
    "pred_df[pred_df.malicious==1].shape"
   ],
   "metadata": {
    "collapsed": false,
    "pycharm": {
     "name": "#%%\n"
    }
   }
  },
  {
   "cell_type": "code",
   "execution_count": 328,
   "outputs": [
    {
     "data": {
      "text/plain": "      redacted  registrant_contact_name  registrar  country  dnssec  org  \\\n1505       1.0                        0        192       73       8  333   \n134        0.0                        0        173      102       8  105   \n4253       1.0                        0        264      102       8  796   \n2846       0.0                        0        447      112       8  681   \n2531       0.0                        0        173      102       8  297   \n...        ...                      ...        ...      ...     ...  ...   \n1581       0.0                        0        173      102       8  681   \n3970       1.0                        0        287       86       8   99   \n1921       0.0                        0        318      102       8  717   \n658        0.0                        0        225      112       0  681   \n3497       0.0                        0        277       56       8  970   \n\n      state  whois_server  address  city  ...  serverRenewProhibited  \\\n1505    413           178      347   209  ...                      0   \n134      32           101      191    43  ...                      0   \n4253     42           136      347   209  ...                      0   \n2846    413           218      191    43  ...                      0   \n2531    338           101      191    43  ...                      0   \n...     ...           ...      ...   ...  ...                    ...   \n1581     82           101      191    43  ...                      0   \n3970    284           149      347   209  ...                      0   \n1921    258           171       11    33  ...                      0   \n658     413           218      191    43  ...                      0   \n3497    339           196      240   181  ...                      0   \n\n      clientRenewProhibited  clientTransferProhibited  num_emails  \\\n1505                      0                         1           1   \n134                       1                         1           1   \n4253                      0                         1           1   \n2846                      0                         0           1   \n2531                      1                         1           1   \n...                     ...                       ...         ...   \n1581                      1                         1           1   \n3970                      0                         1           1   \n1921                      0                         1           2   \n658                       0                         0           0   \n3497                      0                         1           2   \n\n      email_domains  num_email_domains  dga_probability  malicious  \\\n1505            468                  1         0.030000          0   \n134             232                  1         0.000000          0   \n4253            336                  1         0.990000          1   \n2846            214                  1         0.666667          0   \n2531            232                  1         0.010000          0   \n...             ...                ...              ...        ...   \n1581            232                  1         0.016000          0   \n3970            355                  1         0.020000          1   \n1921            433                  2         0.000000          0   \n658             174                  1         0.000000          0   \n3497            343                  2         0.000000          0   \n\n      prediction  correct  \n1505           0        1  \n134            0        1  \n4253           1        1  \n2846           0        1  \n2531           0        1  \n...          ...      ...  \n1581           0        1  \n3970           1        1  \n1921           0        1  \n658            0        1  \n3497           0        1  \n\n[1410 rows x 39 columns]",
      "text/html": "<div>\n<style scoped>\n    .dataframe tbody tr th:only-of-type {\n        vertical-align: middle;\n    }\n\n    .dataframe tbody tr th {\n        vertical-align: top;\n    }\n\n    .dataframe thead th {\n        text-align: right;\n    }\n</style>\n<table border=\"1\" class=\"dataframe\">\n  <thead>\n    <tr style=\"text-align: right;\">\n      <th></th>\n      <th>redacted</th>\n      <th>registrant_contact_name</th>\n      <th>registrar</th>\n      <th>country</th>\n      <th>dnssec</th>\n      <th>org</th>\n      <th>state</th>\n      <th>whois_server</th>\n      <th>address</th>\n      <th>city</th>\n      <th>...</th>\n      <th>serverRenewProhibited</th>\n      <th>clientRenewProhibited</th>\n      <th>clientTransferProhibited</th>\n      <th>num_emails</th>\n      <th>email_domains</th>\n      <th>num_email_domains</th>\n      <th>dga_probability</th>\n      <th>malicious</th>\n      <th>prediction</th>\n      <th>correct</th>\n    </tr>\n  </thead>\n  <tbody>\n    <tr>\n      <th>1505</th>\n      <td>1.0</td>\n      <td>0</td>\n      <td>192</td>\n      <td>73</td>\n      <td>8</td>\n      <td>333</td>\n      <td>413</td>\n      <td>178</td>\n      <td>347</td>\n      <td>209</td>\n      <td>...</td>\n      <td>0</td>\n      <td>0</td>\n      <td>1</td>\n      <td>1</td>\n      <td>468</td>\n      <td>1</td>\n      <td>0.030000</td>\n      <td>0</td>\n      <td>0</td>\n      <td>1</td>\n    </tr>\n    <tr>\n      <th>134</th>\n      <td>0.0</td>\n      <td>0</td>\n      <td>173</td>\n      <td>102</td>\n      <td>8</td>\n      <td>105</td>\n      <td>32</td>\n      <td>101</td>\n      <td>191</td>\n      <td>43</td>\n      <td>...</td>\n      <td>0</td>\n      <td>1</td>\n      <td>1</td>\n      <td>1</td>\n      <td>232</td>\n      <td>1</td>\n      <td>0.000000</td>\n      <td>0</td>\n      <td>0</td>\n      <td>1</td>\n    </tr>\n    <tr>\n      <th>4253</th>\n      <td>1.0</td>\n      <td>0</td>\n      <td>264</td>\n      <td>102</td>\n      <td>8</td>\n      <td>796</td>\n      <td>42</td>\n      <td>136</td>\n      <td>347</td>\n      <td>209</td>\n      <td>...</td>\n      <td>0</td>\n      <td>0</td>\n      <td>1</td>\n      <td>1</td>\n      <td>336</td>\n      <td>1</td>\n      <td>0.990000</td>\n      <td>1</td>\n      <td>1</td>\n      <td>1</td>\n    </tr>\n    <tr>\n      <th>2846</th>\n      <td>0.0</td>\n      <td>0</td>\n      <td>447</td>\n      <td>112</td>\n      <td>8</td>\n      <td>681</td>\n      <td>413</td>\n      <td>218</td>\n      <td>191</td>\n      <td>43</td>\n      <td>...</td>\n      <td>0</td>\n      <td>0</td>\n      <td>0</td>\n      <td>1</td>\n      <td>214</td>\n      <td>1</td>\n      <td>0.666667</td>\n      <td>0</td>\n      <td>0</td>\n      <td>1</td>\n    </tr>\n    <tr>\n      <th>2531</th>\n      <td>0.0</td>\n      <td>0</td>\n      <td>173</td>\n      <td>102</td>\n      <td>8</td>\n      <td>297</td>\n      <td>338</td>\n      <td>101</td>\n      <td>191</td>\n      <td>43</td>\n      <td>...</td>\n      <td>0</td>\n      <td>1</td>\n      <td>1</td>\n      <td>1</td>\n      <td>232</td>\n      <td>1</td>\n      <td>0.010000</td>\n      <td>0</td>\n      <td>0</td>\n      <td>1</td>\n    </tr>\n    <tr>\n      <th>...</th>\n      <td>...</td>\n      <td>...</td>\n      <td>...</td>\n      <td>...</td>\n      <td>...</td>\n      <td>...</td>\n      <td>...</td>\n      <td>...</td>\n      <td>...</td>\n      <td>...</td>\n      <td>...</td>\n      <td>...</td>\n      <td>...</td>\n      <td>...</td>\n      <td>...</td>\n      <td>...</td>\n      <td>...</td>\n      <td>...</td>\n      <td>...</td>\n      <td>...</td>\n      <td>...</td>\n    </tr>\n    <tr>\n      <th>1581</th>\n      <td>0.0</td>\n      <td>0</td>\n      <td>173</td>\n      <td>102</td>\n      <td>8</td>\n      <td>681</td>\n      <td>82</td>\n      <td>101</td>\n      <td>191</td>\n      <td>43</td>\n      <td>...</td>\n      <td>0</td>\n      <td>1</td>\n      <td>1</td>\n      <td>1</td>\n      <td>232</td>\n      <td>1</td>\n      <td>0.016000</td>\n      <td>0</td>\n      <td>0</td>\n      <td>1</td>\n    </tr>\n    <tr>\n      <th>3970</th>\n      <td>1.0</td>\n      <td>0</td>\n      <td>287</td>\n      <td>86</td>\n      <td>8</td>\n      <td>99</td>\n      <td>284</td>\n      <td>149</td>\n      <td>347</td>\n      <td>209</td>\n      <td>...</td>\n      <td>0</td>\n      <td>0</td>\n      <td>1</td>\n      <td>1</td>\n      <td>355</td>\n      <td>1</td>\n      <td>0.020000</td>\n      <td>1</td>\n      <td>1</td>\n      <td>1</td>\n    </tr>\n    <tr>\n      <th>1921</th>\n      <td>0.0</td>\n      <td>0</td>\n      <td>318</td>\n      <td>102</td>\n      <td>8</td>\n      <td>717</td>\n      <td>258</td>\n      <td>171</td>\n      <td>11</td>\n      <td>33</td>\n      <td>...</td>\n      <td>0</td>\n      <td>0</td>\n      <td>1</td>\n      <td>2</td>\n      <td>433</td>\n      <td>2</td>\n      <td>0.000000</td>\n      <td>0</td>\n      <td>0</td>\n      <td>1</td>\n    </tr>\n    <tr>\n      <th>658</th>\n      <td>0.0</td>\n      <td>0</td>\n      <td>225</td>\n      <td>112</td>\n      <td>0</td>\n      <td>681</td>\n      <td>413</td>\n      <td>218</td>\n      <td>191</td>\n      <td>43</td>\n      <td>...</td>\n      <td>0</td>\n      <td>0</td>\n      <td>0</td>\n      <td>0</td>\n      <td>174</td>\n      <td>1</td>\n      <td>0.000000</td>\n      <td>0</td>\n      <td>0</td>\n      <td>1</td>\n    </tr>\n    <tr>\n      <th>3497</th>\n      <td>0.0</td>\n      <td>0</td>\n      <td>277</td>\n      <td>56</td>\n      <td>8</td>\n      <td>970</td>\n      <td>339</td>\n      <td>196</td>\n      <td>240</td>\n      <td>181</td>\n      <td>...</td>\n      <td>0</td>\n      <td>0</td>\n      <td>1</td>\n      <td>2</td>\n      <td>343</td>\n      <td>2</td>\n      <td>0.000000</td>\n      <td>0</td>\n      <td>0</td>\n      <td>1</td>\n    </tr>\n  </tbody>\n</table>\n<p>1410 rows × 39 columns</p>\n</div>"
     },
     "execution_count": 328,
     "metadata": {},
     "output_type": "execute_result"
    }
   ],
   "source": [
    "pred_df"
   ],
   "metadata": {
    "collapsed": false,
    "pycharm": {
     "name": "#%%\n"
    }
   }
  },
  {
   "cell_type": "code",
   "execution_count": 329,
   "outputs": [
    {
     "name": "stdout",
     "output_type": "stream",
     "text": [
      "redacted 0.019022665536681437\n",
      "registrant_contact_name 6.86389040167945e-06\n",
      "registrar 0.09428450505372549\n",
      "country 0.01837365008871329\n",
      "dnssec 0.0019174413476922528\n",
      "org 0.02064475639880002\n",
      "state 0.01875610907725221\n",
      "whois_server 0.06967028101403085\n",
      "address 0.008974227672438115\n",
      "city 0.02677915363271166\n",
      "name 0.010777493502183386\n",
      "zipcode 0.016398048456127343\n",
      "entropy 0.012754342325869097\n",
      "dns_rec_a_cc 0.015592931778474046\n",
      "dns_rec_a_org 0.06681356331180652\n",
      "dns_rec_mx_cc 0.06161034764952866\n",
      "dns_rec_mx_org 0.18104110499892484\n",
      "community 0.013715833803555321\n",
      "days_between_creations 0.0022428126817823023\n",
      "days_between_updates 0.004726594789685111\n",
      "days_since_update 0.03845408924145966\n",
      "days_until_expiration 0.03720411570062436\n",
      "has_multiple_domain_names 0.0010472399982071699\n",
      "multiple_domain_names_match 0.0007621381410937143\n",
      "number_name_servers 0.004955746202311755\n",
      "num_different_ns_domains 0.0015241303037719291\n",
      "main_name_server_domain 0.012442542117381628\n",
      "serverDeleteProhibited 1.5855073978325663e-18\n",
      "clientDeleteProhibited 0.0019827316004340408\n",
      "serverRenewProhibited 0.0\n",
      "clientRenewProhibited 0.012619659094501336\n",
      "clientTransferProhibited 0.058465984110938646\n",
      "num_emails 0.003939468848829847\n",
      "email_domains 0.13174904675687704\n",
      "num_email_domains 0.0012160459324517914\n",
      "dga_probability 0.02953433494073341\n"
     ]
    }
   ],
   "source": [
    "for f,v in zip(clf.feature_names_in_, clf.feature_importances_):\n",
    "    print(f,v)"
   ],
   "metadata": {
    "collapsed": false,
    "pycharm": {
     "name": "#%%\n"
    }
   }
  },
  {
   "cell_type": "code",
   "execution_count": 329,
   "outputs": [],
   "source": [],
   "metadata": {
    "collapsed": false,
    "pycharm": {
     "name": "#%%\n"
    }
   }
  }
 ],
 "metadata": {
  "kernelspec": {
   "display_name": "Python 3 (ipykernel)",
   "language": "python",
   "name": "python3"
  },
  "language_info": {
   "codemirror_mode": {
    "name": "ipython",
    "version": 3
   },
   "file_extension": ".py",
   "mimetype": "text/x-python",
   "name": "python",
   "nbconvert_exporter": "python",
   "pygments_lexer": "ipython3",
   "version": "3.8.12"
  }
 },
 "nbformat": 4,
 "nbformat_minor": 1
}
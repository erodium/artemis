{
 "cells": [
  {
   "cell_type": "code",
   "execution_count": 110,
   "metadata": {
    "collapsed": true
   },
   "outputs": [],
   "source": [
    "from sklearn.ensemble import RandomForestClassifier\n",
    "from sklearn.model_selection import train_test_split\n",
    "from sklearn.preprocessing import OneHotEncoder, LabelEncoder\n",
    "import pandas as pd\n",
    "from joblib import dump\n",
    "\n",
    "from src.scripts.artemis_data import get_ns_cols, get_email_cols"
   ]
  },
  {
   "cell_type": "code",
   "execution_count": 120,
   "metadata": {
    "pycharm": {
     "name": "#%%\n"
    }
   },
   "outputs": [],
   "source": [
    "file = \"/Users/liam/PycharmProjects/dataspell/artemis/data/processed/final_whois_data.csv\"\n",
    "df = pd.read_csv(file)\n"
   ]
  },
  {
   "cell_type": "code",
   "execution_count": 121,
   "metadata": {
    "pycharm": {
     "name": "#%%\n"
    }
   },
   "outputs": [],
   "source": [
    "label = 'malicious'\n",
    "labels = df[label].values\n",
    "data_df = df.drop(columns=label)"
   ]
  },
  {
   "cell_type": "code",
   "execution_count": 122,
   "outputs": [],
   "source": [
    "data_df = data_df.drop(columns=get_ns_cols(7))\n",
    "data_df = data_df.drop(columns=get_email_cols(3))\n",
    "data_df = data_df.drop(columns=['domain', 'updated_date', 'expiration_date', 'creation_date', 'days_since_creation'])"
   ],
   "metadata": {
    "collapsed": false,
    "pycharm": {
     "name": "#%%\n"
    }
   }
  },
  {
   "cell_type": "code",
   "execution_count": 123,
   "outputs": [],
   "source": [
    "country_cols = ['country', 'dns_rec_a_cc', 'dns_rec_mx_cc']\n",
    "countries_list = []\n",
    "for col in country_cols:\n",
    "    countries_list += data_df[col].tolist()\n",
    "country_encoder = LabelEncoder().fit(countries_list)\n",
    "for col in country_cols:\n",
    "    data_df[col] = country_encoder.transform(data_df[col])"
   ],
   "metadata": {
    "collapsed": false,
    "pycharm": {
     "name": "#%%\n"
    }
   }
  },
  {
   "cell_type": "code",
   "execution_count": 124,
   "outputs": [],
   "source": [
    "cols_requiring_encoding = [\n",
    "    'registrar', 'dnssec', 'org', 'state', 'whois_server', 'address', 'city', 'name',\n",
    "    'zipcode', 'dns_rec_a_org', 'dns_rec_mx_org', 'main_name_server_domain', 'email_domains',\n",
    "]\n",
    "encoder_dict = {}\n",
    "for col in cols_requiring_encoding:\n",
    "    enc = LabelEncoder().fit(data_df[col])\n",
    "    encoder_dict[col] = enc\n",
    "    data_df[col] = enc.transform(data_df[col])\n"
   ],
   "metadata": {
    "collapsed": false,
    "pycharm": {
     "name": "#%%\n"
    }
   }
  },
  {
   "cell_type": "code",
   "execution_count": 125,
   "outputs": [],
   "source": [
    "data_df = data_df.fillna(-1)"
   ],
   "metadata": {
    "collapsed": false,
    "pycharm": {
     "name": "#%%\n"
    }
   }
  },
  {
   "cell_type": "code",
   "execution_count": 127,
   "metadata": {
    "pycharm": {
     "name": "#%%\n"
    }
   },
   "outputs": [],
   "source": [
    "X_train, X_test, y_train, y_test = train_test_split(data_df, labels, random_state=0)"
   ]
  },
  {
   "cell_type": "code",
   "execution_count": 128,
   "metadata": {
    "pycharm": {
     "name": "#%%\n"
    }
   },
   "outputs": [],
   "source": [
    "clf = RandomForestClassifier(criterion='entropy', random_state=0).fit(X_train.values, y_train)"
   ]
  },
  {
   "cell_type": "code",
   "execution_count": 129,
   "metadata": {
    "pycharm": {
     "name": "#%%\n"
    }
   },
   "outputs": [
    {
     "name": "stderr",
     "output_type": "stream",
     "text": [
      "/Users/liam/miniconda3/envs/artemis/lib/python3.9/site-packages/sklearn/base.py:443: UserWarning: X has feature names, but RandomForestClassifier was fitted without feature names\n",
      "  warnings.warn(\n"
     ]
    },
    {
     "data": {
      "text/plain": "0.9687943262411347"
     },
     "execution_count": 129,
     "metadata": {},
     "output_type": "execute_result"
    }
   ],
   "source": [
    "clf.score(X_test, y_test)"
   ]
  },
  {
   "cell_type": "code",
   "execution_count": 130,
   "metadata": {
    "pycharm": {
     "name": "#%%\n"
    }
   },
   "outputs": [],
   "source": [
    "model_loc = \"../models/\"\n",
    "model_name = \"rfc.joblib\"\n",
    "encoder_name = \"enc_dict.joblib\"\n",
    "country_encoder_name = \"country_encoder.joblib\""
   ]
  },
  {
   "cell_type": "code",
   "execution_count": 131,
   "metadata": {
    "pycharm": {
     "name": "#%%\n"
    }
   },
   "outputs": [
    {
     "data": {
      "text/plain": "['../models/rfc.joblib']"
     },
     "execution_count": 131,
     "metadata": {},
     "output_type": "execute_result"
    }
   ],
   "source": [
    "dump(clf, model_loc+model_name)"
   ]
  },
  {
   "cell_type": "code",
   "execution_count": 132,
   "metadata": {
    "pycharm": {
     "name": "#%%\n"
    }
   },
   "outputs": [
    {
     "ename": "NameError",
     "evalue": "name 'labelenc' is not defined",
     "output_type": "error",
     "traceback": [
      "\u001B[0;31m---------------------------------------------------------------------------\u001B[0m",
      "\u001B[0;31mNameError\u001B[0m                                 Traceback (most recent call last)",
      "\u001B[0;32m/var/folders/s4/04m6jmt93ll3w72t198n3k3c0000gn/T/ipykernel_8212/3742131916.py\u001B[0m in \u001B[0;36m<module>\u001B[0;34m\u001B[0m\n\u001B[0;32m----> 1\u001B[0;31m \u001B[0mdump\u001B[0m\u001B[0;34m(\u001B[0m\u001B[0mlabelenc\u001B[0m\u001B[0;34m,\u001B[0m \u001B[0mmodel_loc\u001B[0m\u001B[0;34m+\u001B[0m\u001B[0menc_name\u001B[0m\u001B[0;34m)\u001B[0m\u001B[0;34m\u001B[0m\u001B[0;34m\u001B[0m\u001B[0m\n\u001B[0m",
      "\u001B[0;31mNameError\u001B[0m: name 'labelenc' is not defined"
     ]
    }
   ],
   "source": [
    "dump(labelenc, model_loc+enc_name)"
   ]
  },
  {
   "cell_type": "code",
   "execution_count": 133,
   "outputs": [
    {
     "data": {
      "text/plain": "['../models/country_encoder.joblib']"
     },
     "execution_count": 133,
     "metadata": {},
     "output_type": "execute_result"
    }
   ],
   "source": [
    "dump(country_encoder, model_loc+country_encoder_name)"
   ],
   "metadata": {
    "collapsed": false,
    "pycharm": {
     "name": "#%%\n"
    }
   }
  },
  {
   "cell_type": "code",
   "execution_count": 134,
   "metadata": {
    "pycharm": {
     "name": "#%%\n"
    }
   },
   "outputs": [
    {
     "data": {
      "text/plain": "array([1.17393549e-02, 2.54516430e-05, 4.64005626e-02, 1.85798990e-02,\n       4.51685819e-03, 3.44429112e-02, 2.66360212e-02, 4.01854745e-02,\n       1.11457694e-02, 1.88012447e-02, 1.50510036e-02, 1.69043764e-02,\n       2.91366194e-02, 2.26840007e-02, 5.36916017e-02, 3.75048480e-02,\n       9.14764214e-02, 2.22214178e-02, 1.91158100e-02, 9.56943277e-02,\n       5.27881170e-02, 3.73292456e-02, 4.26937981e-03, 1.40687642e-02,\n       5.08221293e-02, 5.10247703e-02, 4.48341454e-03, 3.32597543e-03,\n       1.18041956e-02, 3.40587823e-03, 4.03912632e-02, 9.97214025e-05,\n       4.56686246e-03, 1.95740167e-05, 3.07150723e-03, 2.18224484e-02,\n       7.55484480e-03, 6.85588584e-02, 4.63907624e-03])"
     },
     "execution_count": 134,
     "metadata": {},
     "output_type": "execute_result"
    }
   ],
   "source": [
    "clf.feature_importances_"
   ]
  },
  {
   "cell_type": "code",
   "execution_count": 140,
   "outputs": [
    {
     "data": {
      "text/plain": "0       3.78212\n1       3.87314\n2       3.61437\n3       3.87314\n4       3.88018\n         ...   \n5633    4.51378\n5634    4.51378\n5635    3.91613\n5636    4.02895\n5637    3.70282\nName: max_entropy, Length: 5638, dtype: float64"
     },
     "execution_count": 140,
     "metadata": {},
     "output_type": "execute_result"
    }
   ],
   "source": [
    "data_df[data_df.columns.tolist()[19]]"
   ],
   "metadata": {
    "collapsed": false,
    "pycharm": {
     "name": "#%%\n"
    }
   }
  },
  {
   "cell_type": "markdown",
   "metadata": {
    "pycharm": {
     "name": "#%% md\n"
    }
   },
   "source": []
  }
 ],
 "metadata": {
  "kernelspec": {
   "display_name": "Python 3 (ipykernel)",
   "language": "python",
   "name": "python3"
  },
  "language_info": {
   "codemirror_mode": {
    "name": "ipython",
    "version": 3
   },
   "file_extension": ".py",
   "mimetype": "text/x-python",
   "name": "python",
   "nbconvert_exporter": "python",
   "pygments_lexer": "ipython3",
   "version": "3.8.12"
  }
 },
 "nbformat": 4,
 "nbformat_minor": 1
}
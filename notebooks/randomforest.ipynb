{
 "cells": [
  {
   "cell_type": "code",
<<<<<<< HEAD
   "execution_count": 1,
=======
   "execution_count": 2,
>>>>>>> main
   "metadata": {
    "collapsed": true
   },
   "outputs": [],
   "source": [
    "from sklearn.ensemble import RandomForestClassifier\n",
    "from sklearn.model_selection import train_test_split\n",
    "from sklearn.preprocessing import OneHotEncoder, LabelEncoder\n",
    "import pandas as pd\n",
    "from joblib import dump\n"
   ]
  },
  {
   "cell_type": "code",
<<<<<<< HEAD
   "execution_count": 2,
=======
   "execution_count": 3,
>>>>>>> main
   "outputs": [
    {
     "name": "stderr",
     "output_type": "stream",
     "text": [
<<<<<<< HEAD
      "/Users/liam/miniconda3/envs/artemis/lib/python3.9/site-packages/IPython/core/interactiveshell.py:3457: DtypeWarning: Columns (48,99,100,101,102,103,104,108,109,110,111,112,113,115,116,117,118,119,120,121,122,126,132,133,136,138,139,140,141,144,145,146,147,149,150,151,152,156,160,161,163,164,165,166,167,168) have mixed types.Specify dtype option on import or set low_memory=False.\n",
=======
      "/Users/liam/miniconda3/envs/artemis/lib/python3.9/site-packages/IPython/core/interactiveshell.py:3457: DtypeWarning: Columns (5,23,27,30,31,32,33,34,35,36,37,38,39,40,41,42,43,44,45,46,47,48,49,50,52,53,54,55,56,57,60,61,62,63,64,65,66,67,68,69,70,71,72,73,74,75,76,77,78,79,80,81,82,83,84,85,86,87,88,89,91,92,93,94,95,96,97,98,99,100,101,102,103,104,105,106,107,108,109,110,111,112,113,114,115,116,117,118,119,120,121,122,123,124,125,126,127,128,129,130,131,132,133,134,135,136,137,138,139,141,142,143,144,145,146,147,148,149,150,151,152,153,155,156) have mixed types.Specify dtype option on import or set low_memory=False.\n",
>>>>>>> main
      "  exec(code_obj, self.user_global_ns, self.user_ns)\n"
     ]
    }
   ],
   "source": [
<<<<<<< HEAD
    "file = \"/Users/liam/PycharmProjects/dataspell/artemis/data/processed/whois_data.csv\"\n",
    "df = pd.read_csv(file)\n",
    "features = ['dns_rec_mx_cc', 'entropy', 'creation_date', 'days_since_creation']\n"
=======
    "file = \"/Users/liam/PycharmProjects/dataspell/artemis/data/interim/reduced_whois_data.csv\"\n",
    "df = pd.read_csv(file)\n"
>>>>>>> main
   ],
   "metadata": {
    "collapsed": false,
    "pycharm": {
     "name": "#%%\n"
    }
   }
  },
  {
   "cell_type": "code",
<<<<<<< HEAD
   "execution_count": 3,
=======
   "execution_count": 7,
>>>>>>> main
   "outputs": [],
   "source": [
    "label = 'malicious'\n",
    "labels = df[label].values\n",
<<<<<<< HEAD
    "data_df = df[features]\n",
    "#data_df = df.drop(columns=label)"
=======
    "data_df = df.drop(columns=label)"
>>>>>>> main
   ],
   "metadata": {
    "collapsed": false,
    "pycharm": {
     "name": "#%%\n"
    }
   }
  },
  {
   "cell_type": "code",
<<<<<<< HEAD
   "execution_count": 4,
   "outputs": [
    {
     "name": "stderr",
     "output_type": "stream",
     "text": [
      "/var/folders/s4/04m6jmt93ll3w72t198n3k3c0000gn/T/ipykernel_49521/286784156.py:1: SettingWithCopyWarning: \n",
      "A value is trying to be set on a copy of a slice from a DataFrame.\n",
      "Try using .loc[row_indexer,col_indexer] = value instead\n",
      "\n",
      "See the caveats in the documentation: https://pandas.pydata.org/pandas-docs/stable/user_guide/indexing.html#returning-a-view-versus-a-copy\n",
      "  data_df['creation_date'] = pd.to_datetime(data_df.creation_date)\n",
      "/var/folders/s4/04m6jmt93ll3w72t198n3k3c0000gn/T/ipykernel_49521/286784156.py:2: SettingWithCopyWarning: \n",
      "A value is trying to be set on a copy of a slice from a DataFrame.\n",
      "Try using .loc[row_indexer,col_indexer] = value instead\n",
      "\n",
      "See the caveats in the documentation: https://pandas.pydata.org/pandas-docs/stable/user_guide/indexing.html#returning-a-view-versus-a-copy\n",
      "  data_df['year'] = data_df.creation_date.dt.year\n",
      "/var/folders/s4/04m6jmt93ll3w72t198n3k3c0000gn/T/ipykernel_49521/286784156.py:3: SettingWithCopyWarning: \n",
      "A value is trying to be set on a copy of a slice from a DataFrame.\n",
      "Try using .loc[row_indexer,col_indexer] = value instead\n",
      "\n",
      "See the caveats in the documentation: https://pandas.pydata.org/pandas-docs/stable/user_guide/indexing.html#returning-a-view-versus-a-copy\n",
      "  data_df['month'] = data_df.creation_date.dt.month\n",
      "/var/folders/s4/04m6jmt93ll3w72t198n3k3c0000gn/T/ipykernel_49521/286784156.py:4: SettingWithCopyWarning: \n",
      "A value is trying to be set on a copy of a slice from a DataFrame.\n",
      "Try using .loc[row_indexer,col_indexer] = value instead\n",
      "\n",
      "See the caveats in the documentation: https://pandas.pydata.org/pandas-docs/stable/user_guide/indexing.html#returning-a-view-versus-a-copy\n",
      "  data_df['day'] = data_df.creation_date.dt.day\n"
     ]
    }
   ],
   "source": [
    "data_df['creation_date'] = pd.to_datetime(data_df.creation_date)\n",
    "data_df['year'] = data_df.creation_date.dt.year\n",
    "data_df['month'] = data_df.creation_date.dt.month\n",
    "data_df['day'] = data_df.creation_date.dt.day\n",
    "data_df = data_df.drop(columns='creation_date')\n",
=======
   "execution_count": 11,
   "outputs": [],
   "source": [
    "cols_to_drop = ['organization', 'email', 'admin_account_name', 'admin_company_name', 'admin_family_name', 'registrant_company_name', 'tech_account_name', 'tech_company_name', 'tech_family_name', 'tech', 'name_servers_11', 'name_servers_12', 'name_servers_13', 'name_servers_14', 'name_servers_15', 'name_servers_16', 'registrant_org', 'referral_url', 'status_7', 'admin_org', 'tech_org', 'status_8', 'curent_registrar', 'registar_created', 'name_server_statuses', 'registrar_site', 'lats_modified', 'updated_date_5', 'registrant_zip', 'status_9', 'status_10', 'status_11', 'status_12', 'emails_7', 'admin_country_code', 'registrar_country_code', 'registrar_organization_id', 'registrar_postal_code', 'registrar_street', 'updated_date_6']\n",
    "data_df = data_df.drop(columns=cols_to_drop)\n",
>>>>>>> main
    "data_df = data_df.fillna(-1)"
   ],
   "metadata": {
    "collapsed": false,
    "pycharm": {
     "name": "#%%\n"
    }
   }
  },
  {
   "cell_type": "code",
<<<<<<< HEAD
   "execution_count": 5,
=======
   "execution_count": 12,
>>>>>>> main
   "outputs": [],
   "source": [
    "X_train, X_test, y_train, y_test = train_test_split(data_df, labels, random_state=0)"
   ],
   "metadata": {
    "collapsed": false,
    "pycharm": {
     "name": "#%%\n"
    }
   }
  },
  {
   "cell_type": "code",
<<<<<<< HEAD
   "execution_count": 6,
   "outputs": [],
   "source": [
    "labelenc = LabelEncoder().fit(data_df[features[0]])\n",
=======
   "execution_count": 14,
   "outputs": [
    {
     "ename": "NameError",
     "evalue": "name 'labelenc' is not defined",
     "output_type": "error",
     "traceback": [
      "\u001B[0;31m---------------------------------------------------------------------------\u001B[0m",
      "\u001B[0;31mNameError\u001B[0m                                 Traceback (most recent call last)",
      "\u001B[0;32m/var/folders/s4/04m6jmt93ll3w72t198n3k3c0000gn/T/ipykernel_91401/1122884318.py\u001B[0m in \u001B[0;36m<module>\u001B[0;34m\u001B[0m\n\u001B[0;32m----> 1\u001B[0;31m \u001B[0mlabelenc\u001B[0m\u001B[0;34m\u001B[0m\u001B[0;34m\u001B[0m\u001B[0m\n\u001B[0m",
      "\u001B[0;31mNameError\u001B[0m: name 'labelenc' is not defined"
     ]
    }
   ],
   "source": [
    "labelenc"
   ],
   "metadata": {
    "collapsed": false,
    "pycharm": {
     "name": "#%%\n"
    }
   }
  },
  {
   "cell_type": "code",
   "execution_count": 15,
   "outputs": [
    {
     "ename": "ValueError",
     "evalue": "y should be a 1d array, got an array of shape (8210, 126) instead.",
     "output_type": "error",
     "traceback": [
      "\u001B[0;31m---------------------------------------------------------------------------\u001B[0m",
      "\u001B[0;31mValueError\u001B[0m                                Traceback (most recent call last)",
      "\u001B[0;32m/var/folders/s4/04m6jmt93ll3w72t198n3k3c0000gn/T/ipykernel_91401/3987925644.py\u001B[0m in \u001B[0;36m<module>\u001B[0;34m\u001B[0m\n\u001B[0;32m----> 1\u001B[0;31m \u001B[0mlabelenc\u001B[0m \u001B[0;34m=\u001B[0m \u001B[0mLabelEncoder\u001B[0m\u001B[0;34m(\u001B[0m\u001B[0;34m)\u001B[0m\u001B[0;34m.\u001B[0m\u001B[0mfit\u001B[0m\u001B[0;34m(\u001B[0m\u001B[0mdata_df\u001B[0m\u001B[0;34m)\u001B[0m\u001B[0;34m\u001B[0m\u001B[0;34m\u001B[0m\u001B[0m\n\u001B[0m\u001B[1;32m      2\u001B[0m \u001B[0mX_train\u001B[0m\u001B[0;34m[\u001B[0m\u001B[0mfeatures\u001B[0m\u001B[0;34m[\u001B[0m\u001B[0;36m0\u001B[0m\u001B[0;34m]\u001B[0m\u001B[0;34m+\u001B[0m\u001B[0;34m\"_enc\"\u001B[0m\u001B[0;34m]\u001B[0m \u001B[0;34m=\u001B[0m \u001B[0mlabelenc\u001B[0m\u001B[0;34m.\u001B[0m\u001B[0mtransform\u001B[0m\u001B[0;34m(\u001B[0m\u001B[0mX_train\u001B[0m\u001B[0;34m[\u001B[0m\u001B[0mfeatures\u001B[0m\u001B[0;34m[\u001B[0m\u001B[0;36m0\u001B[0m\u001B[0;34m]\u001B[0m\u001B[0;34m]\u001B[0m\u001B[0;34m)\u001B[0m\u001B[0;34m\u001B[0m\u001B[0;34m\u001B[0m\u001B[0m\n\u001B[1;32m      3\u001B[0m \u001B[0mX_train\u001B[0m \u001B[0;34m=\u001B[0m \u001B[0mX_train\u001B[0m\u001B[0;34m.\u001B[0m\u001B[0mdrop\u001B[0m\u001B[0;34m(\u001B[0m\u001B[0mcolumns\u001B[0m\u001B[0;34m=\u001B[0m\u001B[0mfeatures\u001B[0m\u001B[0;34m[\u001B[0m\u001B[0;36m0\u001B[0m\u001B[0;34m]\u001B[0m\u001B[0;34m)\u001B[0m\u001B[0;34m\u001B[0m\u001B[0;34m\u001B[0m\u001B[0m\n\u001B[1;32m      4\u001B[0m \u001B[0mX_test\u001B[0m\u001B[0;34m[\u001B[0m\u001B[0mfeatures\u001B[0m\u001B[0;34m[\u001B[0m\u001B[0;36m0\u001B[0m\u001B[0;34m]\u001B[0m\u001B[0;34m+\u001B[0m\u001B[0;34m\"_enc\"\u001B[0m\u001B[0;34m]\u001B[0m \u001B[0;34m=\u001B[0m \u001B[0mlabelenc\u001B[0m\u001B[0;34m.\u001B[0m\u001B[0mtransform\u001B[0m\u001B[0;34m(\u001B[0m\u001B[0mX_test\u001B[0m\u001B[0;34m[\u001B[0m\u001B[0mfeatures\u001B[0m\u001B[0;34m[\u001B[0m\u001B[0;36m0\u001B[0m\u001B[0;34m]\u001B[0m\u001B[0;34m]\u001B[0m\u001B[0;34m)\u001B[0m\u001B[0;34m\u001B[0m\u001B[0;34m\u001B[0m\u001B[0m\n\u001B[1;32m      5\u001B[0m \u001B[0mX_test\u001B[0m \u001B[0;34m=\u001B[0m \u001B[0mX_test\u001B[0m\u001B[0;34m.\u001B[0m\u001B[0mdrop\u001B[0m\u001B[0;34m(\u001B[0m\u001B[0mcolumns\u001B[0m\u001B[0;34m=\u001B[0m\u001B[0mfeatures\u001B[0m\u001B[0;34m[\u001B[0m\u001B[0;36m0\u001B[0m\u001B[0;34m]\u001B[0m\u001B[0;34m)\u001B[0m\u001B[0;34m\u001B[0m\u001B[0;34m\u001B[0m\u001B[0m\n",
      "\u001B[0;32m~/miniconda3/envs/artemis/lib/python3.9/site-packages/sklearn/preprocessing/_label.py\u001B[0m in \u001B[0;36mfit\u001B[0;34m(self, y)\u001B[0m\n\u001B[1;32m     96\u001B[0m             \u001B[0mFitted\u001B[0m \u001B[0mlabel\u001B[0m \u001B[0mencoder\u001B[0m\u001B[0;34m.\u001B[0m\u001B[0;34m\u001B[0m\u001B[0;34m\u001B[0m\u001B[0m\n\u001B[1;32m     97\u001B[0m         \"\"\"\n\u001B[0;32m---> 98\u001B[0;31m         \u001B[0my\u001B[0m \u001B[0;34m=\u001B[0m \u001B[0mcolumn_or_1d\u001B[0m\u001B[0;34m(\u001B[0m\u001B[0my\u001B[0m\u001B[0;34m,\u001B[0m \u001B[0mwarn\u001B[0m\u001B[0;34m=\u001B[0m\u001B[0;32mTrue\u001B[0m\u001B[0;34m)\u001B[0m\u001B[0;34m\u001B[0m\u001B[0;34m\u001B[0m\u001B[0m\n\u001B[0m\u001B[1;32m     99\u001B[0m         \u001B[0mself\u001B[0m\u001B[0;34m.\u001B[0m\u001B[0mclasses_\u001B[0m \u001B[0;34m=\u001B[0m \u001B[0m_unique\u001B[0m\u001B[0;34m(\u001B[0m\u001B[0my\u001B[0m\u001B[0;34m)\u001B[0m\u001B[0;34m\u001B[0m\u001B[0;34m\u001B[0m\u001B[0m\n\u001B[1;32m    100\u001B[0m         \u001B[0;32mreturn\u001B[0m \u001B[0mself\u001B[0m\u001B[0;34m\u001B[0m\u001B[0;34m\u001B[0m\u001B[0m\n",
      "\u001B[0;32m~/miniconda3/envs/artemis/lib/python3.9/site-packages/sklearn/utils/validation.py\u001B[0m in \u001B[0;36mcolumn_or_1d\u001B[0;34m(y, warn)\u001B[0m\n\u001B[1;32m   1036\u001B[0m         \u001B[0;32mreturn\u001B[0m \u001B[0mnp\u001B[0m\u001B[0;34m.\u001B[0m\u001B[0mravel\u001B[0m\u001B[0;34m(\u001B[0m\u001B[0my\u001B[0m\u001B[0;34m)\u001B[0m\u001B[0;34m\u001B[0m\u001B[0;34m\u001B[0m\u001B[0m\n\u001B[1;32m   1037\u001B[0m \u001B[0;34m\u001B[0m\u001B[0m\n\u001B[0;32m-> 1038\u001B[0;31m     raise ValueError(\n\u001B[0m\u001B[1;32m   1039\u001B[0m         \u001B[0;34m\"y should be a 1d array, got an array of shape {} instead.\"\u001B[0m\u001B[0;34m.\u001B[0m\u001B[0mformat\u001B[0m\u001B[0;34m(\u001B[0m\u001B[0mshape\u001B[0m\u001B[0;34m)\u001B[0m\u001B[0;34m\u001B[0m\u001B[0;34m\u001B[0m\u001B[0m\n\u001B[1;32m   1040\u001B[0m     )\n",
      "\u001B[0;31mValueError\u001B[0m: y should be a 1d array, got an array of shape (8210, 126) instead."
     ]
    }
   ],
   "source": [
    "labelenc = LabelEncoder().fit(data_df)\n",
>>>>>>> main
    "X_train[features[0]+\"_enc\"] = labelenc.transform(X_train[features[0]])\n",
    "X_train = X_train.drop(columns=features[0])\n",
    "X_test[features[0]+\"_enc\"] = labelenc.transform(X_test[features[0]])\n",
    "X_test = X_test.drop(columns=features[0])\n"
   ],
   "metadata": {
    "collapsed": false,
    "pycharm": {
     "name": "#%%\n"
    }
   }
  },
  {
   "cell_type": "code",
<<<<<<< HEAD
   "execution_count": 7,
   "outputs": [
    {
     "data": {
      "text/plain": "     dns_rec_mx_cc   entropy  days_since_creation    year  month   day\n0               us  1.918296               8960.0  1997.0    9.0  15.0\n1               us  2.750000               9130.0  1997.0    3.0  29.0\n2               us  2.521641               6250.0  2005.0    2.0  15.0\n3               us  2.128085               8102.0  2000.0    1.0  21.0\n4               us  2.947703               6506.0  2004.0    6.0   4.0\n...            ...       ...                  ...     ...    ...   ...\n6505            na  3.000000                252.0  2021.0    7.0  19.0\n6506            na  3.000000                252.0  2021.0    7.0  19.0\n6507            nl  3.378783               3272.0  2013.0    4.0  12.0\n6508            us  3.080501               2073.0  2016.0    7.0  24.0\n6509            na  3.337175               7578.0  2001.0    6.0  28.0\n\n[6510 rows x 6 columns]",
      "text/html": "<div>\n<style scoped>\n    .dataframe tbody tr th:only-of-type {\n        vertical-align: middle;\n    }\n\n    .dataframe tbody tr th {\n        vertical-align: top;\n    }\n\n    .dataframe thead th {\n        text-align: right;\n    }\n</style>\n<table border=\"1\" class=\"dataframe\">\n  <thead>\n    <tr style=\"text-align: right;\">\n      <th></th>\n      <th>dns_rec_mx_cc</th>\n      <th>entropy</th>\n      <th>days_since_creation</th>\n      <th>year</th>\n      <th>month</th>\n      <th>day</th>\n    </tr>\n  </thead>\n  <tbody>\n    <tr>\n      <th>0</th>\n      <td>us</td>\n      <td>1.918296</td>\n      <td>8960.0</td>\n      <td>1997.0</td>\n      <td>9.0</td>\n      <td>15.0</td>\n    </tr>\n    <tr>\n      <th>1</th>\n      <td>us</td>\n      <td>2.750000</td>\n      <td>9130.0</td>\n      <td>1997.0</td>\n      <td>3.0</td>\n      <td>29.0</td>\n    </tr>\n    <tr>\n      <th>2</th>\n      <td>us</td>\n      <td>2.521641</td>\n      <td>6250.0</td>\n      <td>2005.0</td>\n      <td>2.0</td>\n      <td>15.0</td>\n    </tr>\n    <tr>\n      <th>3</th>\n      <td>us</td>\n      <td>2.128085</td>\n      <td>8102.0</td>\n      <td>2000.0</td>\n      <td>1.0</td>\n      <td>21.0</td>\n    </tr>\n    <tr>\n      <th>4</th>\n      <td>us</td>\n      <td>2.947703</td>\n      <td>6506.0</td>\n      <td>2004.0</td>\n      <td>6.0</td>\n      <td>4.0</td>\n    </tr>\n    <tr>\n      <th>...</th>\n      <td>...</td>\n      <td>...</td>\n      <td>...</td>\n      <td>...</td>\n      <td>...</td>\n      <td>...</td>\n    </tr>\n    <tr>\n      <th>6505</th>\n      <td>na</td>\n      <td>3.000000</td>\n      <td>252.0</td>\n      <td>2021.0</td>\n      <td>7.0</td>\n      <td>19.0</td>\n    </tr>\n    <tr>\n      <th>6506</th>\n      <td>na</td>\n      <td>3.000000</td>\n      <td>252.0</td>\n      <td>2021.0</td>\n      <td>7.0</td>\n      <td>19.0</td>\n    </tr>\n    <tr>\n      <th>6507</th>\n      <td>nl</td>\n      <td>3.378783</td>\n      <td>3272.0</td>\n      <td>2013.0</td>\n      <td>4.0</td>\n      <td>12.0</td>\n    </tr>\n    <tr>\n      <th>6508</th>\n      <td>us</td>\n      <td>3.080501</td>\n      <td>2073.0</td>\n      <td>2016.0</td>\n      <td>7.0</td>\n      <td>24.0</td>\n    </tr>\n    <tr>\n      <th>6509</th>\n      <td>na</td>\n      <td>3.337175</td>\n      <td>7578.0</td>\n      <td>2001.0</td>\n      <td>6.0</td>\n      <td>28.0</td>\n    </tr>\n  </tbody>\n</table>\n<p>6510 rows × 6 columns</p>\n</div>"
     },
     "execution_count": 7,
=======
   "execution_count": 10,
   "outputs": [
    {
     "data": {
      "text/plain": "      redacted          name_servers_1          name_servers_2  \\\n0        False                    T.AU                    R.AU   \n1        False  NS33.DOMAINCONTROL.COM  NS34.DOMAINCONTROL.COM   \n2        False       NS1.DREAMHOST.COM       NS2.DREAMHOST.COM   \n3        False      NS1.P23.DYNECT.NET      NS2.P23.DYNECT.NET   \n4        False       NS65.WORLDNIC.COM       NS66.WORLDNIC.COM   \n...        ...                     ...                     ...   \n8205      True            a.dnspod.com            b.dnspod.com   \n8206      True            a.dnspod.com            b.dnspod.com   \n8207      True         NS1.DUCKDNS.ORG         NS2.DUCKDNS.ORG   \n8208     False   NS1.MYHOSTINGPACK.COM   NS2.MYHOSTINGPACK.COM   \n8209     False           NF1.NO-IP.COM           NF2.NO-IP.COM   \n\n             name_servers_3         name_servers_4 registrant_contact_name  \\\n0                      Q.AU                   S.AU                     CEO   \n1                        -1                     -1                      -1   \n2         NS3.DREAMHOST.COM                     -1                      -1   \n3        NS3.P23.DYNECT.NET     NS4.P23.DYNECT.NET                      -1   \n4                        -1                     -1                      -1   \n...                     ...                    ...                     ...   \n8205           A.DNSPOD.COM           B.DNSPOD.COM                      -1   \n8206           A.DNSPOD.COM           B.DNSPOD.COM                      -1   \n8207        NS3.DUCKDNS.ORG        NS4.DUCKDNS.ORG                      -1   \n8208  ns1.myhostingpack.com  ns2.myhostingpack.com                      -1   \n8209          NF3.NO-IP.COM          NF4.NO-IP.COM                      -1   \n\n                                           registrar  \\\n0                          Afilias Australia Pty Ltd   \n1                                   GoDaddy.com, LLC   \n2                                          DREAMHOST   \n3                                   GoDaddy.com, LLC   \n4                             Network Solutions, LLC   \n...                                              ...   \n8205        NICENIC INTERNATIONAL GROUP CO., LIMITED   \n8206        NICENIC INTERNATIONAL GROUP CO., LIMITED   \n8207                                       GANDI SAS   \n8208              Akky Online Solutions S.A. de C.V.   \n8209  Vitalwerks Internet Solutions, LLC / No-IP.com   \n\n                                               status_1  \\\n0     serverDeleteProhibited https://afilias.com.au/...   \n1     clientDeleteProhibited https://icann.org/epp#c...   \n2     clientTransferProhibited https://icann.org/epp...   \n3     clientDeleteProhibited https://icann.org/epp#c...   \n4                                                    -1   \n...                                                 ...   \n8205  clientDeleteProhibited https://icann.org/epp#c...   \n8206  clientDeleteProhibited https://icann.org/epp#c...   \n8207  clientTransferProhibited https://icann.org/epp...   \n8208  clientTransferProhibited https://icann.org/epp...   \n8209  clientTransferProhibited https://icann.org/epp...   \n\n                                               status_2  \\\n0     serverRenewProhibited https://afilias.com.au/g...   \n1     clientRenewProhibited https://icann.org/epp#cl...   \n2     clientTransferProhibited https://www.icann.org...   \n3     clientRenewProhibited https://icann.org/epp#cl...   \n4                                                    -1   \n...                                                 ...   \n8205  clientTransferProhibited https://icann.org/epp...   \n8206  clientTransferProhibited https://icann.org/epp...   \n8207  clientTransferProhibited http://www.icann.org/...   \n8208  clientTransferProhibited (https://www.icann.or...   \n8209  clientTransferProhibited http://www.icann.org/...   \n\n                                               status_3  ... updated_date_6  \\\n0     serverTransferProhibited https://afilias.com.a...  ...             -1   \n1     clientTransferProhibited https://icann.org/epp...  ...             -1   \n2                                                    -1  ...             -1   \n3     clientTransferProhibited https://icann.org/epp...  ...             -1   \n4                                                    -1  ...             -1   \n...                                                 ...  ...            ...   \n8205        clientHold https://icann.org/epp#clientHold  ...             -1   \n8206        clientHold https://icann.org/epp#clientHold  ...             -1   \n8207                                                 -1  ...             -1   \n8208                                                 -1  ...             -1   \n8209                                                 -1  ...             -1   \n\n       entropy dns_rec_a_cc             dns_rec_a_org dns_rec_mx_cc  \\\n0     3.337175           au            webcentral noc            au   \n1     1.921928           us          godaddy.com, llc            us   \n2     2.933955           us    new dream network, llc            na   \n3     3.499228           us                google llc            us   \n4     2.947703           na                        na            na   \n...        ...          ...                       ...           ...   \n8205  3.000000           na                        na            na   \n8206  3.000000           na                        na            na   \n8207  3.378783           nl  stop the war in ukraine!            nl   \n8208  3.080501           us         digitalocean, llc            us   \n8209  3.337175           na                        na            na   \n\n                dns_rec_mx_org days_between_creations days_between_updates  \\\n0            irt-webcentral-au                   -1.0                  0.0   \n1        microsoft corporation                    0.0                  9.0   \n2                           na                    0.0                  0.0   \n3        microsoft corporation                    0.0                  0.0   \n4                           na                    0.0                  0.0   \n...                        ...                    ...                  ...   \n8205                        na                    1.0                 17.0   \n8206                        na                    1.0                 17.0   \n8207  stop the war in ukraine!                    0.0                  0.0   \n8208              psinet, inc.                    0.0                  0.0   \n8209                        na                    0.0                  0.0   \n\n     days_since_update days_until_expiration  \n0                 21.0                  -1.0  \n1                443.0                 470.0  \n2                241.0                 155.0  \n3                515.0                 216.0  \n4               1492.0                2161.0  \n...                ...                   ...  \n8205             246.0                 103.0  \n8206             246.0                 103.0  \n8207             132.0                2562.0  \n8208             255.0                 108.0  \n8209              84.0                1178.0  \n\n[8210 rows x 166 columns]",
      "text/html": "<div>\n<style scoped>\n    .dataframe tbody tr th:only-of-type {\n        vertical-align: middle;\n    }\n\n    .dataframe tbody tr th {\n        vertical-align: top;\n    }\n\n    .dataframe thead th {\n        text-align: right;\n    }\n</style>\n<table border=\"1\" class=\"dataframe\">\n  <thead>\n    <tr style=\"text-align: right;\">\n      <th></th>\n      <th>redacted</th>\n      <th>name_servers_1</th>\n      <th>name_servers_2</th>\n      <th>name_servers_3</th>\n      <th>name_servers_4</th>\n      <th>registrant_contact_name</th>\n      <th>registrar</th>\n      <th>status_1</th>\n      <th>status_2</th>\n      <th>status_3</th>\n      <th>...</th>\n      <th>updated_date_6</th>\n      <th>entropy</th>\n      <th>dns_rec_a_cc</th>\n      <th>dns_rec_a_org</th>\n      <th>dns_rec_mx_cc</th>\n      <th>dns_rec_mx_org</th>\n      <th>days_between_creations</th>\n      <th>days_between_updates</th>\n      <th>days_since_update</th>\n      <th>days_until_expiration</th>\n    </tr>\n  </thead>\n  <tbody>\n    <tr>\n      <th>0</th>\n      <td>False</td>\n      <td>T.AU</td>\n      <td>R.AU</td>\n      <td>Q.AU</td>\n      <td>S.AU</td>\n      <td>CEO</td>\n      <td>Afilias Australia Pty Ltd</td>\n      <td>serverDeleteProhibited https://afilias.com.au/...</td>\n      <td>serverRenewProhibited https://afilias.com.au/g...</td>\n      <td>serverTransferProhibited https://afilias.com.a...</td>\n      <td>...</td>\n      <td>-1</td>\n      <td>3.337175</td>\n      <td>au</td>\n      <td>webcentral noc</td>\n      <td>au</td>\n      <td>irt-webcentral-au</td>\n      <td>-1.0</td>\n      <td>0.0</td>\n      <td>21.0</td>\n      <td>-1.0</td>\n    </tr>\n    <tr>\n      <th>1</th>\n      <td>False</td>\n      <td>NS33.DOMAINCONTROL.COM</td>\n      <td>NS34.DOMAINCONTROL.COM</td>\n      <td>-1</td>\n      <td>-1</td>\n      <td>-1</td>\n      <td>GoDaddy.com, LLC</td>\n      <td>clientDeleteProhibited https://icann.org/epp#c...</td>\n      <td>clientRenewProhibited https://icann.org/epp#cl...</td>\n      <td>clientTransferProhibited https://icann.org/epp...</td>\n      <td>...</td>\n      <td>-1</td>\n      <td>1.921928</td>\n      <td>us</td>\n      <td>godaddy.com, llc</td>\n      <td>us</td>\n      <td>microsoft corporation</td>\n      <td>0.0</td>\n      <td>9.0</td>\n      <td>443.0</td>\n      <td>470.0</td>\n    </tr>\n    <tr>\n      <th>2</th>\n      <td>False</td>\n      <td>NS1.DREAMHOST.COM</td>\n      <td>NS2.DREAMHOST.COM</td>\n      <td>NS3.DREAMHOST.COM</td>\n      <td>-1</td>\n      <td>-1</td>\n      <td>DREAMHOST</td>\n      <td>clientTransferProhibited https://icann.org/epp...</td>\n      <td>clientTransferProhibited https://www.icann.org...</td>\n      <td>-1</td>\n      <td>...</td>\n      <td>-1</td>\n      <td>2.933955</td>\n      <td>us</td>\n      <td>new dream network, llc</td>\n      <td>na</td>\n      <td>na</td>\n      <td>0.0</td>\n      <td>0.0</td>\n      <td>241.0</td>\n      <td>155.0</td>\n    </tr>\n    <tr>\n      <th>3</th>\n      <td>False</td>\n      <td>NS1.P23.DYNECT.NET</td>\n      <td>NS2.P23.DYNECT.NET</td>\n      <td>NS3.P23.DYNECT.NET</td>\n      <td>NS4.P23.DYNECT.NET</td>\n      <td>-1</td>\n      <td>GoDaddy.com, LLC</td>\n      <td>clientDeleteProhibited https://icann.org/epp#c...</td>\n      <td>clientRenewProhibited https://icann.org/epp#cl...</td>\n      <td>clientTransferProhibited https://icann.org/epp...</td>\n      <td>...</td>\n      <td>-1</td>\n      <td>3.499228</td>\n      <td>us</td>\n      <td>google llc</td>\n      <td>us</td>\n      <td>microsoft corporation</td>\n      <td>0.0</td>\n      <td>0.0</td>\n      <td>515.0</td>\n      <td>216.0</td>\n    </tr>\n    <tr>\n      <th>4</th>\n      <td>False</td>\n      <td>NS65.WORLDNIC.COM</td>\n      <td>NS66.WORLDNIC.COM</td>\n      <td>-1</td>\n      <td>-1</td>\n      <td>-1</td>\n      <td>Network Solutions, LLC</td>\n      <td>-1</td>\n      <td>-1</td>\n      <td>-1</td>\n      <td>...</td>\n      <td>-1</td>\n      <td>2.947703</td>\n      <td>na</td>\n      <td>na</td>\n      <td>na</td>\n      <td>na</td>\n      <td>0.0</td>\n      <td>0.0</td>\n      <td>1492.0</td>\n      <td>2161.0</td>\n    </tr>\n    <tr>\n      <th>...</th>\n      <td>...</td>\n      <td>...</td>\n      <td>...</td>\n      <td>...</td>\n      <td>...</td>\n      <td>...</td>\n      <td>...</td>\n      <td>...</td>\n      <td>...</td>\n      <td>...</td>\n      <td>...</td>\n      <td>...</td>\n      <td>...</td>\n      <td>...</td>\n      <td>...</td>\n      <td>...</td>\n      <td>...</td>\n      <td>...</td>\n      <td>...</td>\n      <td>...</td>\n      <td>...</td>\n    </tr>\n    <tr>\n      <th>8205</th>\n      <td>True</td>\n      <td>a.dnspod.com</td>\n      <td>b.dnspod.com</td>\n      <td>A.DNSPOD.COM</td>\n      <td>B.DNSPOD.COM</td>\n      <td>-1</td>\n      <td>NICENIC INTERNATIONAL GROUP CO., LIMITED</td>\n      <td>clientDeleteProhibited https://icann.org/epp#c...</td>\n      <td>clientTransferProhibited https://icann.org/epp...</td>\n      <td>clientHold https://icann.org/epp#clientHold</td>\n      <td>...</td>\n      <td>-1</td>\n      <td>3.000000</td>\n      <td>na</td>\n      <td>na</td>\n      <td>na</td>\n      <td>na</td>\n      <td>1.0</td>\n      <td>17.0</td>\n      <td>246.0</td>\n      <td>103.0</td>\n    </tr>\n    <tr>\n      <th>8206</th>\n      <td>True</td>\n      <td>a.dnspod.com</td>\n      <td>b.dnspod.com</td>\n      <td>A.DNSPOD.COM</td>\n      <td>B.DNSPOD.COM</td>\n      <td>-1</td>\n      <td>NICENIC INTERNATIONAL GROUP CO., LIMITED</td>\n      <td>clientDeleteProhibited https://icann.org/epp#c...</td>\n      <td>clientTransferProhibited https://icann.org/epp...</td>\n      <td>clientHold https://icann.org/epp#clientHold</td>\n      <td>...</td>\n      <td>-1</td>\n      <td>3.000000</td>\n      <td>na</td>\n      <td>na</td>\n      <td>na</td>\n      <td>na</td>\n      <td>1.0</td>\n      <td>17.0</td>\n      <td>246.0</td>\n      <td>103.0</td>\n    </tr>\n    <tr>\n      <th>8207</th>\n      <td>True</td>\n      <td>NS1.DUCKDNS.ORG</td>\n      <td>NS2.DUCKDNS.ORG</td>\n      <td>NS3.DUCKDNS.ORG</td>\n      <td>NS4.DUCKDNS.ORG</td>\n      <td>-1</td>\n      <td>GANDI SAS</td>\n      <td>clientTransferProhibited https://icann.org/epp...</td>\n      <td>clientTransferProhibited http://www.icann.org/...</td>\n      <td>-1</td>\n      <td>...</td>\n      <td>-1</td>\n      <td>3.378783</td>\n      <td>nl</td>\n      <td>stop the war in ukraine!</td>\n      <td>nl</td>\n      <td>stop the war in ukraine!</td>\n      <td>0.0</td>\n      <td>0.0</td>\n      <td>132.0</td>\n      <td>2562.0</td>\n    </tr>\n    <tr>\n      <th>8208</th>\n      <td>False</td>\n      <td>NS1.MYHOSTINGPACK.COM</td>\n      <td>NS2.MYHOSTINGPACK.COM</td>\n      <td>ns1.myhostingpack.com</td>\n      <td>ns2.myhostingpack.com</td>\n      <td>-1</td>\n      <td>Akky Online Solutions S.A. de C.V.</td>\n      <td>clientTransferProhibited https://icann.org/epp...</td>\n      <td>clientTransferProhibited (https://www.icann.or...</td>\n      <td>-1</td>\n      <td>...</td>\n      <td>-1</td>\n      <td>3.080501</td>\n      <td>us</td>\n      <td>digitalocean, llc</td>\n      <td>us</td>\n      <td>psinet, inc.</td>\n      <td>0.0</td>\n      <td>0.0</td>\n      <td>255.0</td>\n      <td>108.0</td>\n    </tr>\n    <tr>\n      <th>8209</th>\n      <td>False</td>\n      <td>NF1.NO-IP.COM</td>\n      <td>NF2.NO-IP.COM</td>\n      <td>NF3.NO-IP.COM</td>\n      <td>NF4.NO-IP.COM</td>\n      <td>-1</td>\n      <td>Vitalwerks Internet Solutions, LLC / No-IP.com</td>\n      <td>clientTransferProhibited https://icann.org/epp...</td>\n      <td>clientTransferProhibited http://www.icann.org/...</td>\n      <td>-1</td>\n      <td>...</td>\n      <td>-1</td>\n      <td>3.337175</td>\n      <td>na</td>\n      <td>na</td>\n      <td>na</td>\n      <td>na</td>\n      <td>0.0</td>\n      <td>0.0</td>\n      <td>84.0</td>\n      <td>1178.0</td>\n    </tr>\n  </tbody>\n</table>\n<p>8210 rows × 166 columns</p>\n</div>"
     },
     "execution_count": 10,
>>>>>>> main
     "metadata": {},
     "output_type": "execute_result"
    }
   ],
   "source": [
    "data_df"
   ],
   "metadata": {
    "collapsed": false,
    "pycharm": {
     "name": "#%%\n"
    }
   }
  },
  {
   "cell_type": "code",
   "execution_count": 8,
   "outputs": [],
   "source": [
    "clf = RandomForestClassifier(criterion='entropy', random_state=0).fit(X_train.values, y_train)"
   ],
   "metadata": {
    "collapsed": false,
    "pycharm": {
     "name": "#%%\n"
    }
   }
  },
  {
   "cell_type": "code",
   "execution_count": 9,
   "outputs": [
    {
     "name": "stderr",
     "output_type": "stream",
     "text": [
      "/Users/liam/miniconda3/envs/artemis/lib/python3.9/site-packages/sklearn/base.py:443: UserWarning: X has feature names, but RandomForestClassifier was fitted without feature names\n",
      "  warnings.warn(\n"
     ]
    },
    {
     "data": {
      "text/plain": "0.9778869778869779"
     },
     "execution_count": 9,
     "metadata": {},
     "output_type": "execute_result"
    }
   ],
   "source": [
    "clf.score(X_test, y_test)"
   ],
   "metadata": {
    "collapsed": false,
    "pycharm": {
     "name": "#%%\n"
    }
   }
  },
  {
   "cell_type": "code",
   "execution_count": 10,
   "outputs": [],
   "source": [
    "model_loc = \"../models/\"\n",
    "model_name = \"rfc.joblib\"\n",
    "enc_name = \"enc.joblib\""
   ],
   "metadata": {
    "collapsed": false,
    "pycharm": {
     "name": "#%%\n"
    }
   }
  },
  {
   "cell_type": "code",
   "execution_count": 11,
   "outputs": [
    {
     "data": {
      "text/plain": "['../models/rfc.joblib']"
     },
     "execution_count": 11,
     "metadata": {},
     "output_type": "execute_result"
    }
   ],
   "source": [
    "dump(clf, model_loc+model_name)"
   ],
   "metadata": {
    "collapsed": false,
    "pycharm": {
     "name": "#%%\n"
    }
   }
  },
  {
   "cell_type": "code",
   "execution_count": 12,
   "outputs": [
    {
     "data": {
      "text/plain": "['../models/enc.joblib']"
     },
     "execution_count": 12,
     "metadata": {},
     "output_type": "execute_result"
    }
   ],
   "source": [
    "dump(labelenc, model_loc+enc_name)"
   ],
   "metadata": {
    "collapsed": false,
    "pycharm": {
     "name": "#%%\n"
    }
   }
  },
  {
   "cell_type": "code",
   "execution_count": 14,
   "outputs": [
    {
     "data": {
      "text/plain": "array([0.13983754, 0.30454804, 0.30823104, 0.0337287 , 0.04418349,\n       0.16947118])"
     },
     "execution_count": 14,
     "metadata": {},
     "output_type": "execute_result"
    }
   ],
   "source": [
    "clf.feature_importances_"
   ],
   "metadata": {
    "collapsed": false,
    "pycharm": {
     "name": "#%%\n"
    }
   }
  },
  {
   "cell_type": "code",
   "execution_count": 20,
   "outputs": [
    {
     "data": {
      "text/plain": "       entropy  days_since_creation    year  month   day  dns_rec_mx_cc_enc\n5528  3.642490                289.0  2021.0    6.0  12.0                 31\n3424  2.321928               8691.0  1998.0    6.0  11.0                 49\n4977  2.845351                 -1.0    -1.0   -1.0  -1.0                 31\n5056  3.327820                147.0  2021.0   11.0   1.0                 31\n3008  1.584963                 -1.0    -1.0   -1.0  -1.0                 12\n...        ...                  ...     ...    ...   ...                ...\n4931  3.189898                 -1.0    -1.0   -1.0  -1.0                 31\n3264  3.323074               4507.0  2009.0   11.0  24.0                 49\n1653  2.921928               9824.0  1995.0    5.0   5.0                 49\n2607  0.000000               7284.0  2002.0    4.0  18.0                 31\n2732  3.180833               9370.0  1996.0    8.0   1.0                 31\n\n[4882 rows x 6 columns]",
      "text/html": "<div>\n<style scoped>\n    .dataframe tbody tr th:only-of-type {\n        vertical-align: middle;\n    }\n\n    .dataframe tbody tr th {\n        vertical-align: top;\n    }\n\n    .dataframe thead th {\n        text-align: right;\n    }\n</style>\n<table border=\"1\" class=\"dataframe\">\n  <thead>\n    <tr style=\"text-align: right;\">\n      <th></th>\n      <th>entropy</th>\n      <th>days_since_creation</th>\n      <th>year</th>\n      <th>month</th>\n      <th>day</th>\n      <th>dns_rec_mx_cc_enc</th>\n    </tr>\n  </thead>\n  <tbody>\n    <tr>\n      <th>5528</th>\n      <td>3.642490</td>\n      <td>289.0</td>\n      <td>2021.0</td>\n      <td>6.0</td>\n      <td>12.0</td>\n      <td>31</td>\n    </tr>\n    <tr>\n      <th>3424</th>\n      <td>2.321928</td>\n      <td>8691.0</td>\n      <td>1998.0</td>\n      <td>6.0</td>\n      <td>11.0</td>\n      <td>49</td>\n    </tr>\n    <tr>\n      <th>4977</th>\n      <td>2.845351</td>\n      <td>-1.0</td>\n      <td>-1.0</td>\n      <td>-1.0</td>\n      <td>-1.0</td>\n      <td>31</td>\n    </tr>\n    <tr>\n      <th>5056</th>\n      <td>3.327820</td>\n      <td>147.0</td>\n      <td>2021.0</td>\n      <td>11.0</td>\n      <td>1.0</td>\n      <td>31</td>\n    </tr>\n    <tr>\n      <th>3008</th>\n      <td>1.584963</td>\n      <td>-1.0</td>\n      <td>-1.0</td>\n      <td>-1.0</td>\n      <td>-1.0</td>\n      <td>12</td>\n    </tr>\n    <tr>\n      <th>...</th>\n      <td>...</td>\n      <td>...</td>\n      <td>...</td>\n      <td>...</td>\n      <td>...</td>\n      <td>...</td>\n    </tr>\n    <tr>\n      <th>4931</th>\n      <td>3.189898</td>\n      <td>-1.0</td>\n      <td>-1.0</td>\n      <td>-1.0</td>\n      <td>-1.0</td>\n      <td>31</td>\n    </tr>\n    <tr>\n      <th>3264</th>\n      <td>3.323074</td>\n      <td>4507.0</td>\n      <td>2009.0</td>\n      <td>11.0</td>\n      <td>24.0</td>\n      <td>49</td>\n    </tr>\n    <tr>\n      <th>1653</th>\n      <td>2.921928</td>\n      <td>9824.0</td>\n      <td>1995.0</td>\n      <td>5.0</td>\n      <td>5.0</td>\n      <td>49</td>\n    </tr>\n    <tr>\n      <th>2607</th>\n      <td>0.000000</td>\n      <td>7284.0</td>\n      <td>2002.0</td>\n      <td>4.0</td>\n      <td>18.0</td>\n      <td>31</td>\n    </tr>\n    <tr>\n      <th>2732</th>\n      <td>3.180833</td>\n      <td>9370.0</td>\n      <td>1996.0</td>\n      <td>8.0</td>\n      <td>1.0</td>\n      <td>31</td>\n    </tr>\n  </tbody>\n</table>\n<p>4882 rows × 6 columns</p>\n</div>"
     },
     "execution_count": 20,
     "metadata": {},
     "output_type": "execute_result"
    }
   ],
   "source": [
    "X_train"
   ],
   "metadata": {
    "collapsed": false,
    "pycharm": {
     "name": "#%%\n"
    }
   }
  },
  {
   "cell_type": "markdown",
   "source": [],
   "metadata": {
    "collapsed": false,
    "pycharm": {
     "name": "#%% md\n"
    }
   }
  }
 ],
 "metadata": {
  "kernelspec": {
   "display_name": "Python 3",
   "language": "python",
   "name": "python3"
  },
  "language_info": {
   "codemirror_mode": {
    "name": "ipython",
    "version": 2
   },
   "file_extension": ".py",
   "mimetype": "text/x-python",
   "name": "python",
   "nbconvert_exporter": "python",
   "pygments_lexer": "ipython2",
   "version": "2.7.6"
  }
 },
 "nbformat": 4,
 "nbformat_minor": 0
}
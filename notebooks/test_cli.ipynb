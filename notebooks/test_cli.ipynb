{
 "cells": [
  {
   "cell_type": "markdown",
   "source": [
    "\n",
    "Ok so this needs to take in a domain, then do:\n",
    "1) get whois data (call whois)\n",
    "2) get ip data; get dns data; combine them into a df\n",
    "3) process the data (artemis_data.process and clean)\n",
    "4) get dga determination (load dga_predictor and use; or is this a function?)\n",
    "5) get community prediction (load community predictor and use)\n",
    "6) 3) encode the data (load encoders and process)\n",
    "7) get malicious prediction (load malicious predictor and use)\n"
   ],
   "metadata": {
    "collapsed": false,
    "pycharm": {
     "name": "#%% md\n"
    }
   }
  },
  {
   "cell_type": "code",
   "execution_count": null,
   "metadata": {
    "collapsed": true
   },
   "outputs": [],
   "source": [
    "from src.scripts.artemis import test_entry\n",
    "\n",
    "from src.scripts.artemis import test_ips, test_entry, test_dns\n",
    "import json\n",
    "from src.scripts.artemis_data import process, clean_data, change_ip_data, get_ns_cols, get_email_cols\n",
    "import whois\n",
    "import pandas as pd\n",
    "from src.scripts.get_dns_resolution_data import resolve_dns_records\n",
    "from src.scripts.get_ip_data import resolve_ip_data\n",
    "from src.scripts.dga.dga_functions import dga_prediction\n",
    "from src.scripts.generate_entropy_data import generate_shannon_entropy_score\n",
    "from joblib import load"
   ]
  },
  {
   "cell_type": "code",
   "execution_count": null,
   "outputs": [],
   "source": [
    "domain = \"google.com\"\n",
    "verbose = True"
   ],
   "metadata": {
    "collapsed": false,
    "pycharm": {
     "name": "#%%\n"
    }
   }
  },
  {
   "cell_type": "code",
   "execution_count": null,
   "outputs": [],
   "source": [
    "# w_json = whois.whois(domain)\n",
    "w_json = test_entry\n",
    "w_json"
   ],
   "metadata": {
    "collapsed": false,
    "pycharm": {
     "name": "#%%\n"
    }
   }
  },
  {
   "cell_type": "code",
   "execution_count": null,
   "outputs": [],
   "source": [
    "processed_json = process(json.loads(str(w_json)))\n",
    "processed_json['domain'] = domain\n",
    "processed_json"
   ],
   "metadata": {
    "collapsed": false,
    "pycharm": {
     "name": "#%%\n"
    }
   }
  },
  {
   "cell_type": "code",
   "execution_count": null,
   "outputs": [],
   "source": [
    "whois_df = pd.DataFrame([processed_json])\n",
    "whois_df"
   ],
   "metadata": {
    "collapsed": false,
    "pycharm": {
     "name": "#%%\n"
    }
   }
  },
  {
   "cell_type": "code",
   "execution_count": null,
   "outputs": [],
   "source": [
    "#ip_data = {domain: resolve_dns_records(domain, verbose=verbose)}\n",
    "ip_data = {domain: test_ips}\n",
    "ip_data"
   ],
   "metadata": {
    "collapsed": false,
    "pycharm": {
     "name": "#%%\n"
    }
   }
  },
  {
   "cell_type": "code",
   "execution_count": null,
   "outputs": [],
   "source": [
    "#dns_data = {domain: resolve_ip_data(ip_data, verbose)}\n",
    "dns_data = {domain: {'A': {'CC': 'US', 'Org': 'Google LLC'},\n",
    "            'MX': {'CC': 'US', 'Org': 'Google LLC'}}}\n",
    "dns_data"
   ],
   "metadata": {
    "collapsed": false,
    "pycharm": {
     "name": "#%%\n"
    }
   }
  },
  {
   "cell_type": "code",
   "execution_count": null,
   "outputs": [],
   "source": [
    "dns_df = pd.DataFrame([change_ip_data(dns_data)])\n",
    "dns_df"
   ],
   "metadata": {
    "collapsed": false,
    "pycharm": {
     "name": "#%%\n"
    }
   }
  },
  {
   "cell_type": "code",
   "execution_count": null,
   "outputs": [],
   "source": [
    "merged_df = whois_df.merge(dns_df, on='domain')\n",
    "merged_df['entropy'] = generate_shannon_entropy_score(domain, verbose)\n",
    "merged_df"
   ],
   "metadata": {
    "collapsed": false,
    "pycharm": {
     "name": "#%%\n"
    }
   }
  },
  {
   "cell_type": "code",
   "execution_count": null,
   "outputs": [],
   "source": [
    "cleaned_df = clean_data(merged_df)\n",
    "cleaned_df"
   ],
   "metadata": {
    "collapsed": false,
    "pycharm": {
     "name": "#%%\n"
    }
   }
  },
  {
   "cell_type": "code",
   "execution_count": null,
   "outputs": [],
   "source": [
    "country_encoder = load('../models/country_encoder.joblib')\n",
    "encoder_dict = load('../models/enc_dict.joblib')"
   ],
   "metadata": {
    "collapsed": false,
    "pycharm": {
     "name": "#%%\n"
    }
   }
  },
  {
   "cell_type": "code",
   "execution_count": null,
   "outputs": [],
   "source": [
    "encoded_df = cleaned_df.copy()"
   ],
   "metadata": {
    "collapsed": false,
    "pycharm": {
     "name": "#%%\n"
    }
   }
  },
  {
   "cell_type": "code",
   "execution_count": null,
   "outputs": [],
   "source": [
    "for col in encoder_dict.keys():\n",
    "    try:\n",
    "        encoded_df[col] = encoder_dict[col].transform(encoded_df[col])\n",
    "    except ValueError as ve:\n",
    "        encoded_df[col] = -1\n",
    "        print(ve)"
   ],
   "metadata": {
    "collapsed": false,
    "pycharm": {
     "name": "#%%\n"
    }
   }
  },
  {
   "cell_type": "code",
   "execution_count": null,
   "outputs": [],
   "source": [
    "for col in ['country', 'dns_rec_a_cc', 'dns_rec_mx_cc']:\n",
    "    encoded_df[col] = country_encoder.transform(encoded_df[col])\n",
    "encoded_df"
   ],
   "metadata": {
    "collapsed": false,
    "pycharm": {
     "name": "#%%\n"
    }
   }
  },
  {
   "cell_type": "code",
   "execution_count": null,
   "outputs": [],
   "source": [
    "for col in get_ns_cols():\n",
    "    if col in encoded_df.columns.tolist():\n",
    "        encoded_df.drop(columns=col, inplace=True)\n",
    "for col in get_email_cols():\n",
    "    if col in encoded_df.columns.tolist():\n",
    "        encoded_df.drop(columns=col, inplace=True)\n",
    "encoded_df = encoded_df.drop(columns=['domain', 'updated_date', 'expiration_date', 'creation_date', 'days_since_creation'])\n",
    "encoded_df"
   ],
   "metadata": {
    "collapsed": false,
    "pycharm": {
     "name": "#%%\n"
    }
   }
  },
  {
   "cell_type": "code",
   "execution_count": null,
   "outputs": [],
   "source": [
    "community_predictor = load(\"../models/community_predictor.joblib\")\n",
    "encoded_df['community'] = community_predictor.predict(encoded_df)\n",
    "encoded_df"
   ],
   "metadata": {
    "collapsed": false,
    "pycharm": {
     "name": "#%%\n"
    }
   }
  },
  {
   "cell_type": "code",
   "execution_count": null,
   "outputs": [],
   "source": [
    "community_df = pd.read_csv('../data/processed/graph_community_features.csv')\n",
    "community_df = community_df.drop(columns='DomainRecord').drop_duplicates()\n",
    "community_df"
   ],
   "metadata": {
    "collapsed": false,
    "pycharm": {
     "name": "#%%\n"
    }
   }
  },
  {
   "cell_type": "code",
   "execution_count": null,
   "outputs": [],
   "source": [
    "c_df = community_df[community_df.community==encoded_df.iloc[0].community]\n",
    "c_df"
   ],
   "metadata": {
    "collapsed": false,
    "pycharm": {
     "name": "#%%\n"
    }
   }
  },
  {
   "cell_type": "code",
   "execution_count": null,
   "outputs": [],
   "source": [
    "cols = c_df.columns.tolist()\n",
    "for col in cols:\n",
    "    encoded_df[col] = c_df[col]\n",
    "encoded_df"
   ],
   "metadata": {
    "collapsed": false,
    "pycharm": {
     "name": "#%%\n"
    }
   }
  },
  {
   "cell_type": "code",
   "execution_count": null,
   "outputs": [],
   "source": [
    "clf = load(\"../models/rfc.joblib\")\n",
    "clf.predict(encoded_df)"
   ],
   "metadata": {
    "collapsed": false,
    "pycharm": {
     "name": "#%%\n"
    }
   }
  },
  {
   "cell_type": "code",
   "execution_count": null,
   "outputs": [],
   "source": [
    "clf.feature_names_in_"
   ],
   "metadata": {
    "collapsed": false,
    "pycharm": {
     "name": "#%%\n"
    }
   }
  },
  {
   "cell_type": "code",
   "execution_count": null,
   "outputs": [],
   "source": [
    "dir(clf)"
   ],
   "metadata": {
    "collapsed": false,
    "pycharm": {
     "name": "#%%\n"
    }
   }
  },
  {
   "cell_type": "markdown",
   "source": [],
   "metadata": {
    "collapsed": false,
    "pycharm": {
     "name": "#%% md\n"
    }
   }
  }
 ],
 "metadata": {
  "kernelspec": {
   "display_name": "Python 3",
   "language": "python",
   "name": "python3"
  },
  "language_info": {
   "codemirror_mode": {
    "name": "ipython",
    "version": 2
   },
   "file_extension": ".py",
   "mimetype": "text/x-python",
   "name": "python",
   "nbconvert_exporter": "python",
   "pygments_lexer": "ipython2",
   "version": "2.7.6"
  }
 },
 "nbformat": 4,
 "nbformat_minor": 0
}
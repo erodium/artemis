{
 "cells": [
  {
   "cell_type": "code",
   "execution_count": 1,
   "id": "2d796f3b-a13d-4fce-9444-669dbe20b4ca",
   "metadata": {},
   "outputs": [],
   "source": [
    "import pandas as pd\n",
    "import src.scripts.artemis as artemis"
   ]
  },
  {
   "cell_type": "code",
   "execution_count": 2,
   "id": "7cc994bb-daf1-447e-abca-bd825e4dc0c6",
   "metadata": {},
   "outputs": [],
   "source": [
    "def replace_quotes(val):\n",
    "    return val.replace('\"', '')\n",
    "\n",
    "m_df = pd.read_csv(\"../data/external/threatfox_malicious_domains.csv\")\n",
    "m_df['domain'] = m_df.ioc_value.apply(replace_quotes)\n",
    "m_df['malicious'] = 1"
   ]
  },
  {
   "cell_type": "code",
   "execution_count": 3,
   "id": "e2275f2b-d016-486a-9df5-9976158f0cfe",
   "metadata": {},
   "outputs": [],
   "source": [
    "b_df = pd.read_csv(\"../data/raw/majestic_million_small.csv\")\n",
    "b_df = b_df.rename(columns={'Domain':'domain'})\n",
    "b_df['malicious'] = 0"
   ]
  },
  {
   "cell_type": "code",
   "execution_count": 4,
   "id": "24d7a7c7-d76c-4238-a3fc-f6a0753f6730",
   "metadata": {},
   "outputs": [],
   "source": [
    "cols = ['domain', 'malicious']\n",
    "domains_df = pd.concat([b_df[cols], m_df[cols]], ignore_index=True)"
   ]
  },
  {
   "cell_type": "code",
   "execution_count": 5,
   "id": "62539dd0-cfa5-4c22-bfda-71226a36b250",
   "metadata": {},
   "outputs": [
    {
     "data": {
      "text/html": [
       "<div>\n",
       "<style scoped>\n",
       "    .dataframe tbody tr th:only-of-type {\n",
       "        vertical-align: middle;\n",
       "    }\n",
       "\n",
       "    .dataframe tbody tr th {\n",
       "        vertical-align: top;\n",
       "    }\n",
       "\n",
       "    .dataframe thead th {\n",
       "        text-align: right;\n",
       "    }\n",
       "</style>\n",
       "<table border=\"1\" class=\"dataframe\">\n",
       "  <thead>\n",
       "    <tr style=\"text-align: right;\">\n",
       "      <th></th>\n",
       "      <th>domain</th>\n",
       "      <th>malicious</th>\n",
       "    </tr>\n",
       "  </thead>\n",
       "  <tbody>\n",
       "    <tr>\n",
       "      <th>0</th>\n",
       "      <td>google.com</td>\n",
       "      <td>0</td>\n",
       "    </tr>\n",
       "    <tr>\n",
       "      <th>1</th>\n",
       "      <td>facebook.com</td>\n",
       "      <td>0</td>\n",
       "    </tr>\n",
       "    <tr>\n",
       "      <th>2</th>\n",
       "      <td>youtube.com</td>\n",
       "      <td>0</td>\n",
       "    </tr>\n",
       "    <tr>\n",
       "      <th>3</th>\n",
       "      <td>twitter.com</td>\n",
       "      <td>0</td>\n",
       "    </tr>\n",
       "    <tr>\n",
       "      <th>4</th>\n",
       "      <td>instagram.com</td>\n",
       "      <td>0</td>\n",
       "    </tr>\n",
       "    <tr>\n",
       "      <th>...</th>\n",
       "      <td>...</td>\n",
       "      <td>...</td>\n",
       "    </tr>\n",
       "    <tr>\n",
       "      <th>16866</th>\n",
       "      <td>retechnolodgy.top</td>\n",
       "      <td>1</td>\n",
       "    </tr>\n",
       "    <tr>\n",
       "      <th>16867</th>\n",
       "      <td>rpoznahu.top</td>\n",
       "      <td>1</td>\n",
       "    </tr>\n",
       "    <tr>\n",
       "      <th>16868</th>\n",
       "      <td>aluditos.top</td>\n",
       "      <td>1</td>\n",
       "    </tr>\n",
       "    <tr>\n",
       "      <th>16869</th>\n",
       "      <td>cosmokosmo.best</td>\n",
       "      <td>1</td>\n",
       "    </tr>\n",
       "    <tr>\n",
       "      <th>16870</th>\n",
       "      <td>djordanobruno.best</td>\n",
       "      <td>1</td>\n",
       "    </tr>\n",
       "  </tbody>\n",
       "</table>\n",
       "<p>16871 rows × 2 columns</p>\n",
       "</div>"
      ],
      "text/plain": [
       "                    domain  malicious\n",
       "0               google.com          0\n",
       "1             facebook.com          0\n",
       "2              youtube.com          0\n",
       "3              twitter.com          0\n",
       "4            instagram.com          0\n",
       "...                    ...        ...\n",
       "16866    retechnolodgy.top          1\n",
       "16867         rpoznahu.top          1\n",
       "16868         aluditos.top          1\n",
       "16869      cosmokosmo.best          1\n",
       "16870   djordanobruno.best          1\n",
       "\n",
       "[16871 rows x 2 columns]"
      ]
     },
     "execution_count": 5,
     "metadata": {},
     "output_type": "execute_result"
    }
   ],
   "source": [
    "domains_df"
   ]
  },
  {
   "cell_type": "code",
   "execution_count": 6,
   "id": "525e5904-ac23-4f59-ae7b-6040a9286d4d",
   "metadata": {},
   "outputs": [],
   "source": [
    "test_df = domains_df.sample(100, random_state=0)"
   ]
  },
  {
   "cell_type": "code",
   "execution_count": 7,
   "id": "5a4bbac0-f2c0-4961-8ba0-f988b1458b1a",
   "metadata": {},
   "outputs": [
    {
     "data": {
      "text/html": [
       "<div>\n",
       "<style scoped>\n",
       "    .dataframe tbody tr th:only-of-type {\n",
       "        vertical-align: middle;\n",
       "    }\n",
       "\n",
       "    .dataframe tbody tr th {\n",
       "        vertical-align: top;\n",
       "    }\n",
       "\n",
       "    .dataframe thead th {\n",
       "        text-align: right;\n",
       "    }\n",
       "</style>\n",
       "<table border=\"1\" class=\"dataframe\">\n",
       "  <thead>\n",
       "    <tr style=\"text-align: right;\">\n",
       "      <th></th>\n",
       "      <th>domain</th>\n",
       "      <th>malicious</th>\n",
       "    </tr>\n",
       "  </thead>\n",
       "  <tbody>\n",
       "    <tr>\n",
       "      <th>10685</th>\n",
       "      <td>www.myserv012.com</td>\n",
       "      <td>1</td>\n",
       "    </tr>\n",
       "    <tr>\n",
       "      <th>6298</th>\n",
       "      <td>wthr.com</td>\n",
       "      <td>0</td>\n",
       "    </tr>\n",
       "    <tr>\n",
       "      <th>10117</th>\n",
       "      <td>vitanoise.com</td>\n",
       "      <td>1</td>\n",
       "    </tr>\n",
       "    <tr>\n",
       "      <th>8710</th>\n",
       "      <td>nctu.edu.tw</td>\n",
       "      <td>0</td>\n",
       "    </tr>\n",
       "    <tr>\n",
       "      <th>12190</th>\n",
       "      <td>mezugen.com</td>\n",
       "      <td>1</td>\n",
       "    </tr>\n",
       "  </tbody>\n",
       "</table>\n",
       "</div>"
      ],
      "text/plain": [
       "                   domain  malicious\n",
       "10685   www.myserv012.com          1\n",
       "6298             wthr.com          0\n",
       "10117       vitanoise.com          1\n",
       "8710          nctu.edu.tw          0\n",
       "12190         mezugen.com          1"
      ]
     },
     "execution_count": 7,
     "metadata": {},
     "output_type": "execute_result"
    }
   ],
   "source": [
    "test_df.head()"
   ]
  },
  {
   "cell_type": "code",
   "execution_count": 8,
   "id": "79e86d8d-7de5-491c-b4b1-3a8615bd78d2",
   "metadata": {},
   "outputs": [
    {
     "data": {
      "text/plain": [
       "0    64\n",
       "1    36\n",
       "Name: malicious, dtype: int64"
      ]
     },
     "execution_count": 8,
     "metadata": {},
     "output_type": "execute_result"
    }
   ],
   "source": [
    "test_df.malicious.value_counts()"
   ]
  },
  {
   "cell_type": "code",
   "execution_count": 9,
   "id": "f7d36dbe-b336-457b-82ba-27b573a7e70b",
   "metadata": {},
   "outputs": [],
   "source": [
    "domains = test_df.domain.tolist()\n",
    "y = test_df.malicious.tolist()\n",
    "zipped = zip(domains, y)"
   ]
  },
  {
   "cell_type": "code",
   "execution_count": 10,
   "id": "b1aea442-47fc-4fb2-a70c-fc10704e97e8",
   "metadata": {},
   "outputs": [
    {
     "ename": "NameError",
     "evalue": "name 'sleep' is not defined",
     "output_type": "error",
     "traceback": [
      "\u001b[0;31m---------------------------------------------------------------------------\u001b[0m",
      "\u001b[0;31mNameError\u001b[0m                                 Traceback (most recent call last)",
      "Input \u001b[0;32mIn [10]\u001b[0m, in \u001b[0;36m<cell line: 2>\u001b[0;34m()\u001b[0m\n\u001b[1;32m      3\u001b[0m     prediction \u001b[38;5;241m=\u001b[39m artemis\u001b[38;5;241m.\u001b[39mpredict(domain)\n\u001b[1;32m      4\u001b[0m     results\u001b[38;5;241m.\u001b[39mappend(prediction)\n\u001b[0;32m----> 5\u001b[0m     \u001b[43msleep\u001b[49m(\u001b[38;5;241m0.5\u001b[39m)\n\u001b[1;32m      6\u001b[0m test_df[\u001b[38;5;124m'\u001b[39m\u001b[38;5;124mprediction\u001b[39m\u001b[38;5;124m'\u001b[39m] \u001b[38;5;241m=\u001b[39m results\n",
      "\u001b[0;31mNameError\u001b[0m: name 'sleep' is not defined"
     ]
    }
   ],
   "source": [
    "results = []\n",
    "for domain, y in zipped:\n",
    "    prediction = artemis.predict(domain)\n",
    "    results.append(prediction)\n",
    "    sleep(0.5)\n",
    "test_df['prediction'] = results"
   ]
  },
  {
   "cell_type": "code",
   "execution_count": null,
   "id": "f2e2a3db-ab84-4be8-af02-86c5eb71e763",
   "metadata": {},
   "outputs": [],
   "source": [
    "test_df"
   ]
  },
  {
   "cell_type": "code",
   "execution_count": null,
   "id": "717bec9d-8fc7-4ec5-81bb-2166ae675bf0",
   "metadata": {},
   "outputs": [],
   "source": []
  }
 ],
 "metadata": {
  "kernelspec": {
   "display_name": "Python 3 (ipykernel)",
   "language": "python",
   "name": "python3"
  },
  "language_info": {
   "codemirror_mode": {
    "name": "ipython",
    "version": 3
   },
   "file_extension": ".py",
   "mimetype": "text/x-python",
   "name": "python",
   "nbconvert_exporter": "python",
   "pygments_lexer": "ipython3",
   "version": "3.9.7"
  }
 },
 "nbformat": 4,
 "nbformat_minor": 5
}
